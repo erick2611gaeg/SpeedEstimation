{
 "cells": [
  {
   "cell_type": "code",
   "execution_count": 1,
   "metadata": {
    "collapsed": false,
    "jupyter": {
     "outputs_hidden": false
    },
    "pycharm": {
     "is_executing": true,
     "name": "#%%\n"
    }
   },
   "outputs": [
    {
     "name": "stderr",
     "output_type": "stream",
     "text": [
      "C:\\Users\\erick\\anaconda3\\envs\\Yolo\\lib\\site-packages\\tqdm\\auto.py:21: TqdmWarning: IProgress not found. Please update jupyter and ipywidgets. See https://ipywidgets.readthedocs.io/en/stable/user_install.html\n",
      "  from .autonotebook import tqdm as notebook_tqdm\n"
     ]
    }
   ],
   "source": [
    "import os\n",
    "import zipfile\n",
    "from PIL import Image\n",
    "import matplotlib.pyplot as plt\n",
    "import time\n",
    "import pandas as pd\n",
    "import altair as alt\n",
    "from ultralytics import YOLO\n",
    "import torch\n",
    "import torch.nn as nn\n",
    "import torch.optim as optim\n",
    "from torch.utils.data import DataLoader, TensorDataset\n",
    "from sklearn.metrics import mean_squared_error\n",
    "import cv2\n",
    "import numpy as np\n",
    "from moviepy.video.io.VideoFileClip import VideoFileClip\n",
    "from sklearn.model_selection import train_test_split\n",
    "import gc\n",
    "import copy\n",
    "from tqdm import tqdm\n",
    "import pytorch_lightning as pl\n",
    "from pytorch_lightning.callbacks import ModelCheckpoint\n",
    "from concurrent.futures import ThreadPoolExecutor\n",
    "import random\n",
    "import math\n",
    "from sklearn.metrics import mean_absolute_error, mean_squared_error, r2_score\n",
    "import torchvision.models as models"
   ]
  },
  {
   "cell_type": "code",
   "execution_count": 2,
   "metadata": {
    "collapsed": false,
    "jupyter": {
     "outputs_hidden": false
    },
    "pycharm": {
     "name": "#%%\n"
    }
   },
   "outputs": [],
   "source": [
    "!set PYTORCH_CUDA_ALLOC_CONF=expandable_segments:True"
   ]
  },
  {
   "cell_type": "code",
   "execution_count": 3,
   "metadata": {
    "collapsed": false,
    "jupyter": {
     "outputs_hidden": false
    },
    "pycharm": {
     "is_executing": true,
     "name": "#%%\n"
    }
   },
   "outputs": [
    {
     "name": "stdout",
     "output_type": "stream",
     "text": [
      "Archivo CitroenC4Picasso.zip ya ha sido extraído anteriormente.\n",
      "Archivo KiaSportage.zip ya ha sido extraído anteriormente.\n",
      "Archivo Mazda3.zip ya ha sido extraído anteriormente.\n",
      "Archivo MercedesAMG550.zip ya ha sido extraído anteriormente.\n",
      "Archivo MercedesGLA.zip ya ha sido extraído anteriormente.\n",
      "Archivo NissanQashqai.zip ya ha sido extraído anteriormente.\n",
      "Archivo OpelInsignia.zip ya ha sido extraído anteriormente.\n",
      "Archivo Peugeot208.zip ya ha sido extraído anteriormente.\n",
      "Archivo Peugeot3008.zip ya ha sido extraído anteriormente.\n",
      "Archivo Peugeot307.zip ya ha sido extraído anteriormente.\n",
      "Archivo RenaultCaptur.zip ya ha sido extraído anteriormente.\n",
      "Archivo RenaultScenic.zip ya ha sido extraído anteriormente.\n",
      "Archivo VWPassat.zip ya ha sido extraído anteriormente.\n"
     ]
    }
   ],
   "source": [
    "for file in os.listdir('cars'):\n",
    "    archivo_zip = file\n",
    "    directorio_destino = 'content'\n",
    "    nombre_carpeta = archivo_zip.replace('.zip', '')\n",
    "    ruta_carpeta_extraida = os.path.join(directorio_destino, nombre_carpeta)\n",
    "    if not os.path.exists(directorio_destino):\n",
    "        os.makedirs(directorio_destino)\n",
    "\n",
    "    if not os.path.exists(ruta_carpeta_extraida):\n",
    "        with zipfile.ZipFile('cars/'+archivo_zip, 'r') as zip_ref:\n",
    "            zip_ref.extractall(ruta_carpeta_extraida)\n",
    "        print(f'Archivo {archivo_zip} extraído exitosamente en {ruta_carpeta_extraida}')\n",
    "    else:\n",
    "        print(f'Archivo {archivo_zip} ya ha sido extraído anteriormente.')\n"
   ]
  },
  {
   "cell_type": "code",
   "execution_count": 4,
   "metadata": {
    "collapsed": false,
    "jupyter": {
     "outputs_hidden": false
    },
    "pycharm": {
     "name": "#%%\n"
    }
   },
   "outputs": [],
   "source": [
    "dict = {}\n",
    "for cars in os.listdir('content'):    \n",
    "    array = []\n",
    "    for data in os.listdir('content/'+cars):\n",
    "        if '.txt' in data and data != 'Train_valid_split.txt':\n",
    "            with open('content/'+cars+'/'+data, 'r') as file:\n",
    "                line = str(file.readline()).strip('\\'').strip('[').strip(']').split(' ')  \n",
    "                json = {}\n",
    "                json['speed'] = line[0]\n",
    "                json['time'] = line[1]\n",
    "                json['image'] = data.replace('.txt','.MP4')\n",
    "                array.append(json)\n",
    "    dict[str(cars)] = array"
   ]
  },
  {
   "cell_type": "code",
   "execution_count": 5,
   "metadata": {
    "collapsed": false,
    "jupyter": {
     "outputs_hidden": false
    },
    "pycharm": {
     "name": "#%%\n"
    }
   },
   "outputs": [],
   "source": [
    "dataframes = []\n",
    "for car, records in dict.items():\n",
    "    df = pd.DataFrame(records)\n",
    "    df['speed'] = df['speed'].astype(float)\n",
    "    df['time'] = df['time'].astype(float)\n",
    "    df['vehicle'] = car\n",
    "    dataframes.append(df)\n",
    "df_combined = pd.concat(dataframes, ignore_index=True)\n"
   ]
  },
  {
   "cell_type": "code",
   "execution_count": 6,
   "metadata": {
    "collapsed": false,
    "jupyter": {
     "outputs_hidden": false
    },
    "pycharm": {
     "name": "#%%\n"
    }
   },
   "outputs": [
    {
     "data": {
      "text/html": [
       "\n",
       "<style>\n",
       "  #altair-viz-f572fdb53e49429682ff2838dd17779c.vega-embed {\n",
       "    width: 100%;\n",
       "    display: flex;\n",
       "  }\n",
       "\n",
       "  #altair-viz-f572fdb53e49429682ff2838dd17779c.vega-embed details,\n",
       "  #altair-viz-f572fdb53e49429682ff2838dd17779c.vega-embed details summary {\n",
       "    position: relative;\n",
       "  }\n",
       "</style>\n",
       "<div id=\"altair-viz-f572fdb53e49429682ff2838dd17779c\"></div>\n",
       "<script type=\"text/javascript\">\n",
       "  var VEGA_DEBUG = (typeof VEGA_DEBUG == \"undefined\") ? {} : VEGA_DEBUG;\n",
       "  (function(spec, embedOpt){\n",
       "    let outputDiv = document.currentScript.previousElementSibling;\n",
       "    if (outputDiv.id !== \"altair-viz-f572fdb53e49429682ff2838dd17779c\") {\n",
       "      outputDiv = document.getElementById(\"altair-viz-f572fdb53e49429682ff2838dd17779c\");\n",
       "    }\n",
       "    const paths = {\n",
       "      \"vega\": \"https://cdn.jsdelivr.net/npm/vega@5?noext\",\n",
       "      \"vega-lib\": \"https://cdn.jsdelivr.net/npm/vega-lib?noext\",\n",
       "      \"vega-lite\": \"https://cdn.jsdelivr.net/npm/vega-lite@5.8.0?noext\",\n",
       "      \"vega-embed\": \"https://cdn.jsdelivr.net/npm/vega-embed@6?noext\",\n",
       "    };\n",
       "\n",
       "    function maybeLoadScript(lib, version) {\n",
       "      var key = `${lib.replace(\"-\", \"\")}_version`;\n",
       "      return (VEGA_DEBUG[key] == version) ?\n",
       "        Promise.resolve(paths[lib]) :\n",
       "        new Promise(function(resolve, reject) {\n",
       "          var s = document.createElement('script');\n",
       "          document.getElementsByTagName(\"head\")[0].appendChild(s);\n",
       "          s.async = true;\n",
       "          s.onload = () => {\n",
       "            VEGA_DEBUG[key] = version;\n",
       "            return resolve(paths[lib]);\n",
       "          };\n",
       "          s.onerror = () => reject(`Error loading script: ${paths[lib]}`);\n",
       "          s.src = paths[lib];\n",
       "        });\n",
       "    }\n",
       "\n",
       "    function showError(err) {\n",
       "      outputDiv.innerHTML = `<div class=\"error\" style=\"color:red;\">${err}</div>`;\n",
       "      throw err;\n",
       "    }\n",
       "\n",
       "    function displayChart(vegaEmbed) {\n",
       "      vegaEmbed(outputDiv, spec, embedOpt)\n",
       "        .catch(err => showError(`Javascript Error: ${err.message}<br>This usually means there's a typo in your chart specification. See the javascript console for the full traceback.`));\n",
       "    }\n",
       "\n",
       "    if(typeof define === \"function\" && define.amd) {\n",
       "      requirejs.config({paths});\n",
       "      require([\"vega-embed\"], displayChart, err => showError(`Error loading script: ${err.message}`));\n",
       "    } else {\n",
       "      maybeLoadScript(\"vega\", \"5\")\n",
       "        .then(() => maybeLoadScript(\"vega-lite\", \"5.8.0\"))\n",
       "        .then(() => maybeLoadScript(\"vega-embed\", \"6\"))\n",
       "        .catch(showError)\n",
       "        .then(() => displayChart(vegaEmbed));\n",
       "    }\n",
       "  })({\"config\": {\"view\": {\"continuousWidth\": 300, \"continuousHeight\": 300}, \"axis\": {\"grid\": true}, \"legend\": {\"labelFontSize\": 12, \"titleFontSize\": 14}, \"title\": {\"fontSize\": 18}}, \"data\": {\"name\": \"data-5d3be3fd43ab46cca79cf2374d1a4771\"}, \"mark\": {\"type\": \"point\", \"opacity\": 0.7, \"size\": 60}, \"encoding\": {\"color\": {\"condition\": {\"param\": \"param_1\", \"field\": \"vehicle\", \"type\": \"nominal\"}, \"value\": \"lightgray\"}, \"tooltip\": [{\"field\": \"vehicle\", \"type\": \"nominal\"}, {\"field\": \"speed\", \"type\": \"quantitative\"}, {\"field\": \"time\", \"type\": \"quantitative\"}], \"x\": {\"field\": \"speed\", \"title\": \"Velocidad (km/h)\", \"type\": \"quantitative\"}, \"y\": {\"field\": \"time\", \"title\": \"Tiempo (s)\", \"type\": \"quantitative\"}}, \"height\": 400, \"params\": [{\"name\": \"param_1\", \"select\": {\"type\": \"point\", \"fields\": [\"vehicle\"]}}], \"title\": \"Relaci\\u00f3n entre la Velocidad y el Tipo de Veh\\u00edculo\", \"width\": 800, \"$schema\": \"https://vega.github.io/schema/vega-lite/v5.8.0.json\", \"datasets\": {\"data-5d3be3fd43ab46cca79cf2374d1a4771\": [{\"speed\": 101.0, \"time\": 7.49, \"image\": \"CitroenC4Picasso_101.MP4\", \"vehicle\": \"CitroenC4Picasso\"}, {\"speed\": 35.0, \"time\": 6.25, \"image\": \"CitroenC4Picasso_35.MP4\", \"vehicle\": \"CitroenC4Picasso\"}, {\"speed\": 38.0, \"time\": 5.82, \"image\": \"CitroenC4Picasso_38.MP4\", \"vehicle\": \"CitroenC4Picasso\"}, {\"speed\": 41.0, \"time\": 6.16, \"image\": \"CitroenC4Picasso_41.MP4\", \"vehicle\": \"CitroenC4Picasso\"}, {\"speed\": 44.0, \"time\": 5.44, \"image\": \"CitroenC4Picasso_44.MP4\", \"vehicle\": \"CitroenC4Picasso\"}, {\"speed\": 48.0, \"time\": 6.03, \"image\": \"CitroenC4Picasso_48.MP4\", \"vehicle\": \"CitroenC4Picasso\"}, {\"speed\": 51.0, \"time\": 5.85, \"image\": \"CitroenC4Picasso_51.MP4\", \"vehicle\": \"CitroenC4Picasso\"}, {\"speed\": 54.0, \"time\": 5.65, \"image\": \"CitroenC4Picasso_54.MP4\", \"vehicle\": \"CitroenC4Picasso\"}, {\"speed\": 57.0, \"time\": 5.95, \"image\": \"CitroenC4Picasso_57.MP4\", \"vehicle\": \"CitroenC4Picasso\"}, {\"speed\": 59.0, \"time\": 5.85, \"image\": \"CitroenC4Picasso_59.MP4\", \"vehicle\": \"CitroenC4Picasso\"}, {\"speed\": 63.0, \"time\": 6.06, \"image\": \"CitroenC4Picasso_63.MP4\", \"vehicle\": \"CitroenC4Picasso\"}, {\"speed\": 65.0, \"time\": 5.66, \"image\": \"CitroenC4Picasso_65.MP4\", \"vehicle\": \"CitroenC4Picasso\"}, {\"speed\": 68.0, \"time\": 6.16, \"image\": \"CitroenC4Picasso_68.MP4\", \"vehicle\": \"CitroenC4Picasso\"}, {\"speed\": 72.0, \"time\": 5.75, \"image\": \"CitroenC4Picasso_72.MP4\", \"vehicle\": \"CitroenC4Picasso\"}, {\"speed\": 74.0, \"time\": 6.26, \"image\": \"CitroenC4Picasso_74.MP4\", \"vehicle\": \"CitroenC4Picasso\"}, {\"speed\": 78.0, \"time\": 6.14, \"image\": \"CitroenC4Picasso_78.MP4\", \"vehicle\": \"CitroenC4Picasso\"}, {\"speed\": 80.0, \"time\": 5.41, \"image\": \"CitroenC4Picasso_80.MP4\", \"vehicle\": \"CitroenC4Picasso\"}, {\"speed\": 83.0, \"time\": 6.63, \"image\": \"CitroenC4Picasso_83.MP4\", \"vehicle\": \"CitroenC4Picasso\"}, {\"speed\": 85.0, \"time\": 5.67, \"image\": \"CitroenC4Picasso_85.MP4\", \"vehicle\": \"CitroenC4Picasso\"}, {\"speed\": 87.0, \"time\": 6.19, \"image\": \"CitroenC4Picasso_87.MP4\", \"vehicle\": \"CitroenC4Picasso\"}, {\"speed\": 92.0, \"time\": 7.62, \"image\": \"CitroenC4Picasso_92.MP4\", \"vehicle\": \"CitroenC4Picasso\"}, {\"speed\": 94.0, \"time\": 6.79, \"image\": \"CitroenC4Picasso_94.MP4\", \"vehicle\": \"CitroenC4Picasso\"}, {\"speed\": 96.0, \"time\": 5.79, \"image\": \"CitroenC4Picasso_96.MP4\", \"vehicle\": \"CitroenC4Picasso\"}, {\"speed\": 100.0, \"time\": 4.98, \"image\": \"KiaSportage_100.MP4\", \"vehicle\": \"KiaSportage\"}, {\"speed\": 103.0, \"time\": 4.91, \"image\": \"KiaSportage_103.MP4\", \"vehicle\": \"KiaSportage\"}, {\"speed\": 105.0, \"time\": 4.98, \"image\": \"KiaSportage_105.MP4\", \"vehicle\": \"KiaSportage\"}, {\"speed\": 31.0, \"time\": 4.94, \"image\": \"KiaSportage_31.MP4\", \"vehicle\": \"KiaSportage\"}, {\"speed\": 33.0, \"time\": 4.91, \"image\": \"KiaSportage_33.MP4\", \"vehicle\": \"KiaSportage\"}, {\"speed\": 35.0, \"time\": 4.93, \"image\": \"KiaSportage_35.MP4\", \"vehicle\": \"KiaSportage\"}, {\"speed\": 38.0, \"time\": 5.05, \"image\": \"KiaSportage_38.MP4\", \"vehicle\": \"KiaSportage\"}, {\"speed\": 41.0, \"time\": 4.93, \"image\": \"KiaSportage_41.MP4\", \"vehicle\": \"KiaSportage\"}, {\"speed\": 44.0, \"time\": 5.02, \"image\": \"KiaSportage_44.MP4\", \"vehicle\": \"KiaSportage\"}, {\"speed\": 46.0, \"time\": 4.94, \"image\": \"KiaSportage_46.MP4\", \"vehicle\": \"KiaSportage\"}, {\"speed\": 48.0, \"time\": 4.96, \"image\": \"KiaSportage_48.MP4\", \"vehicle\": \"KiaSportage\"}, {\"speed\": 51.0, \"time\": 4.92, \"image\": \"KiaSportage_51.MP4\", \"vehicle\": \"KiaSportage\"}, {\"speed\": 53.0, \"time\": 4.97, \"image\": \"KiaSportage_53.MP4\", \"vehicle\": \"KiaSportage\"}, {\"speed\": 55.0, \"time\": 4.95, \"image\": \"KiaSportage_55.MP4\", \"vehicle\": \"KiaSportage\"}, {\"speed\": 58.0, \"time\": 4.92, \"image\": \"KiaSportage_58.MP4\", \"vehicle\": \"KiaSportage\"}, {\"speed\": 61.0, \"time\": 4.96, \"image\": \"KiaSportage_61.MP4\", \"vehicle\": \"KiaSportage\"}, {\"speed\": 63.0, \"time\": 5.0, \"image\": \"KiaSportage_63.MP4\", \"vehicle\": \"KiaSportage\"}, {\"speed\": 65.0, \"time\": 4.93, \"image\": \"KiaSportage_65.MP4\", \"vehicle\": \"KiaSportage\"}, {\"speed\": 68.0, \"time\": 4.96, \"image\": \"KiaSportage_68.MP4\", \"vehicle\": \"KiaSportage\"}, {\"speed\": 69.0, \"time\": 4.94, \"image\": \"KiaSportage_69.MP4\", \"vehicle\": \"KiaSportage\"}, {\"speed\": 72.0, \"time\": 4.95, \"image\": \"KiaSportage_72.MP4\", \"vehicle\": \"KiaSportage\"}, {\"speed\": 74.0, \"time\": 4.94, \"image\": \"KiaSportage_74.MP4\", \"vehicle\": \"KiaSportage\"}, {\"speed\": 77.0, \"time\": 5.02, \"image\": \"KiaSportage_77.MP4\", \"vehicle\": \"KiaSportage\"}, {\"speed\": 78.0, \"time\": 4.95, \"image\": \"KiaSportage_78.MP4\", \"vehicle\": \"KiaSportage\"}, {\"speed\": 80.0, \"time\": 4.94, \"image\": \"KiaSportage_80.MP4\", \"vehicle\": \"KiaSportage\"}, {\"speed\": 83.0, \"time\": 4.95, \"image\": \"KiaSportage_83.MP4\", \"vehicle\": \"KiaSportage\"}, {\"speed\": 85.0, \"time\": 4.95, \"image\": \"KiaSportage_85.MP4\", \"vehicle\": \"KiaSportage\"}, {\"speed\": 86.0, \"time\": 4.92, \"image\": \"KiaSportage_86.MP4\", \"vehicle\": \"KiaSportage\"}, {\"speed\": 89.0, \"time\": 4.98, \"image\": \"KiaSportage_89.MP4\", \"vehicle\": \"KiaSportage\"}, {\"speed\": 91.0, \"time\": 4.95, \"image\": \"KiaSportage_91.MP4\", \"vehicle\": \"KiaSportage\"}, {\"speed\": 93.0, \"time\": 4.98, \"image\": \"KiaSportage_93.MP4\", \"vehicle\": \"KiaSportage\"}, {\"speed\": 96.0, \"time\": 4.91, \"image\": \"KiaSportage_96.MP4\", \"vehicle\": \"KiaSportage\"}, {\"speed\": 98.0, \"time\": 4.92, \"image\": \"KiaSportage_98.MP4\", \"vehicle\": \"KiaSportage\"}, {\"speed\": 101.0, \"time\": 5.04, \"image\": \"Mazda3_101.MP4\", \"vehicle\": \"Mazda3\"}, {\"speed\": 103.0, \"time\": 5.07, \"image\": \"Mazda3_103.MP4\", \"vehicle\": \"Mazda3\"}, {\"speed\": 105.0, \"time\": 4.99, \"image\": \"Mazda3_105.MP4\", \"vehicle\": \"Mazda3\"}, {\"speed\": 30.0, \"time\": 5.23, \"image\": \"Mazda3_30.MP4\", \"vehicle\": \"Mazda3\"}, {\"speed\": 33.0, \"time\": 5.08, \"image\": \"Mazda3_33.MP4\", \"vehicle\": \"Mazda3\"}, {\"speed\": 35.0, \"time\": 5.12, \"image\": \"Mazda3_35.MP4\", \"vehicle\": \"Mazda3\"}, {\"speed\": 38.0, \"time\": 5.15, \"image\": \"Mazda3_38.MP4\", \"vehicle\": \"Mazda3\"}, {\"speed\": 40.0, \"time\": 5.02, \"image\": \"Mazda3_40.MP4\", \"vehicle\": \"Mazda3\"}, {\"speed\": 43.0, \"time\": 5.02, \"image\": \"Mazda3_43.MP4\", \"vehicle\": \"Mazda3\"}, {\"speed\": 45.0, \"time\": 5.31, \"image\": \"Mazda3_45.MP4\", \"vehicle\": \"Mazda3\"}, {\"speed\": 47.0, \"time\": 5.42, \"image\": \"Mazda3_47.MP4\", \"vehicle\": \"Mazda3\"}, {\"speed\": 50.0, \"time\": 5.62, \"image\": \"Mazda3_50.MP4\", \"vehicle\": \"Mazda3\"}, {\"speed\": 52.0, \"time\": 5.15, \"image\": \"Mazda3_52.MP4\", \"vehicle\": \"Mazda3\"}, {\"speed\": 55.0, \"time\": 5.68, \"image\": \"Mazda3_55.MP4\", \"vehicle\": \"Mazda3\"}, {\"speed\": 57.0, \"time\": 5.08, \"image\": \"Mazda3_57.MP4\", \"vehicle\": \"Mazda3\"}, {\"speed\": 60.0, \"time\": 5.09, \"image\": \"Mazda3_60.MP4\", \"vehicle\": \"Mazda3\"}, {\"speed\": 62.0, \"time\": 5.25, \"image\": \"Mazda3_62.MP4\", \"vehicle\": \"Mazda3\"}, {\"speed\": 64.0, \"time\": 5.02, \"image\": \"Mazda3_64.MP4\", \"vehicle\": \"Mazda3\"}, {\"speed\": 67.0, \"time\": 5.65, \"image\": \"Mazda3_67.MP4\", \"vehicle\": \"Mazda3\"}, {\"speed\": 70.0, \"time\": 5.05, \"image\": \"Mazda3_70.MP4\", \"vehicle\": \"Mazda3\"}, {\"speed\": 72.0, \"time\": 5.16, \"image\": \"Mazda3_72.MP4\", \"vehicle\": \"Mazda3\"}, {\"speed\": 75.0, \"time\": 5.02, \"image\": \"Mazda3_75.MP4\", \"vehicle\": \"Mazda3\"}, {\"speed\": 79.0, \"time\": 5.05, \"image\": \"Mazda3_79.MP4\", \"vehicle\": \"Mazda3\"}, {\"speed\": 81.0, \"time\": 5.22, \"image\": \"Mazda3_81.MP4\", \"vehicle\": \"Mazda3\"}, {\"speed\": 84.0, \"time\": 5.08, \"image\": \"Mazda3_84.MP4\", \"vehicle\": \"Mazda3\"}, {\"speed\": 86.0, \"time\": 5.19, \"image\": \"Mazda3_86.MP4\", \"vehicle\": \"Mazda3\"}, {\"speed\": 88.0, \"time\": 5.09, \"image\": \"Mazda3_88.MP4\", \"vehicle\": \"Mazda3\"}, {\"speed\": 90.0, \"time\": 5.11, \"image\": \"Mazda3_90.MP4\", \"vehicle\": \"Mazda3\"}, {\"speed\": 92.0, \"time\": 5.22, \"image\": \"Mazda3_92.MP4\", \"vehicle\": \"Mazda3\"}, {\"speed\": 94.0, \"time\": 5.04, \"image\": \"Mazda3_94.MP4\", \"vehicle\": \"Mazda3\"}, {\"speed\": 96.0, \"time\": 5.02, \"image\": \"Mazda3_96.MP4\", \"vehicle\": \"Mazda3\"}, {\"speed\": 99.0, \"time\": 4.98, \"image\": \"Mazda3_99.MP4\", \"vehicle\": \"Mazda3\"}, {\"speed\": 100.0, \"time\": 4.94, \"image\": \"MercedesAMG550_100.MP4\", \"vehicle\": \"MercedesAMG550\"}, {\"speed\": 105.0, \"time\": 4.45, \"image\": \"MercedesAMG550_105.MP4\", \"vehicle\": \"MercedesAMG550\"}, {\"speed\": 30.0, \"time\": 5.07, \"image\": \"MercedesAMG550_30.MP4\", \"vehicle\": \"MercedesAMG550\"}, {\"speed\": 33.0, \"time\": 5.68, \"image\": \"MercedesAMG550_33.MP4\", \"vehicle\": \"MercedesAMG550\"}, {\"speed\": 35.0, \"time\": 5.99, \"image\": \"MercedesAMG550_35.MP4\", \"vehicle\": \"MercedesAMG550\"}, {\"speed\": 38.0, \"time\": 5.88, \"image\": \"MercedesAMG550_38.MP4\", \"vehicle\": \"MercedesAMG550\"}, {\"speed\": 40.0, \"time\": 5.13, \"image\": \"MercedesAMG550_40.MP4\", \"vehicle\": \"MercedesAMG550\"}, {\"speed\": 42.0, \"time\": 6.28, \"image\": \"MercedesAMG550_42.MP4\", \"vehicle\": \"MercedesAMG550\"}, {\"speed\": 45.0, \"time\": 5.06, \"image\": \"MercedesAMG550_45.MP4\", \"vehicle\": \"MercedesAMG550\"}, {\"speed\": 47.0, \"time\": 5.67, \"image\": \"MercedesAMG550_47.MP4\", \"vehicle\": \"MercedesAMG550\"}, {\"speed\": 50.0, \"time\": 5.19, \"image\": \"MercedesAMG550_50.MP4\", \"vehicle\": \"MercedesAMG550\"}, {\"speed\": 52.0, \"time\": 5.89, \"image\": \"MercedesAMG550_52.MP4\", \"vehicle\": \"MercedesAMG550\"}, {\"speed\": 55.0, \"time\": 5.07, \"image\": \"MercedesAMG550_55.MP4\", \"vehicle\": \"MercedesAMG550\"}, {\"speed\": 58.0, \"time\": 5.65, \"image\": \"MercedesAMG550_58.MP4\", \"vehicle\": \"MercedesAMG550\"}, {\"speed\": 60.0, \"time\": 5.25, \"image\": \"MercedesAMG550_60.MP4\", \"vehicle\": \"MercedesAMG550\"}, {\"speed\": 62.0, \"time\": 5.38, \"image\": \"MercedesAMG550_62.MP4\", \"vehicle\": \"MercedesAMG550\"}, {\"speed\": 65.0, \"time\": 7.04, \"image\": \"MercedesAMG550_65.MP4\", \"vehicle\": \"MercedesAMG550\"}, {\"speed\": 67.0, \"time\": 5.76, \"image\": \"MercedesAMG550_67.MP4\", \"vehicle\": \"MercedesAMG550\"}, {\"speed\": 70.0, \"time\": 4.83, \"image\": \"MercedesAMG550_70.MP4\", \"vehicle\": \"MercedesAMG550\"}, {\"speed\": 73.0, \"time\": 5.63, \"image\": \"MercedesAMG550_73.MP4\", \"vehicle\": \"MercedesAMG550\"}, {\"speed\": 75.0, \"time\": 5.11, \"image\": \"MercedesAMG550_75.MP4\", \"vehicle\": \"MercedesAMG550\"}, {\"speed\": 78.0, \"time\": 6.11, \"image\": \"MercedesAMG550_78.MP4\", \"vehicle\": \"MercedesAMG550\"}, {\"speed\": 80.0, \"time\": 4.9, \"image\": \"MercedesAMG550_80.MP4\", \"vehicle\": \"MercedesAMG550\"}, {\"speed\": 82.0, \"time\": 5.82, \"image\": \"MercedesAMG550_82.MP4\", \"vehicle\": \"MercedesAMG550\"}, {\"speed\": 85.0, \"time\": 4.84, \"image\": \"MercedesAMG550_85.MP4\", \"vehicle\": \"MercedesAMG550\"}, {\"speed\": 87.0, \"time\": 5.41, \"image\": \"MercedesAMG550_87.MP4\", \"vehicle\": \"MercedesAMG550\"}, {\"speed\": 90.0, \"time\": 6.0, \"image\": \"MercedesAMG550_90.MP4\", \"vehicle\": \"MercedesAMG550\"}, {\"speed\": 93.0, \"time\": 5.68, \"image\": \"MercedesAMG550_93.MP4\", \"vehicle\": \"MercedesAMG550\"}, {\"speed\": 95.0, \"time\": 5.0, \"image\": \"MercedesAMG550_95.MP4\", \"vehicle\": \"MercedesAMG550\"}, {\"speed\": 98.0, \"time\": 5.44, \"image\": \"MercedesAMG550_98.MP4\", \"vehicle\": \"MercedesAMG550\"}, {\"speed\": 100.0, \"time\": 5.0, \"image\": \"MercedesGLA_100.MP4\", \"vehicle\": \"MercedesGLA\"}, {\"speed\": 101.0, \"time\": 5.01, \"image\": \"MercedesGLA_101.MP4\", \"vehicle\": \"MercedesGLA\"}, {\"speed\": 103.0, \"time\": 5.01, \"image\": \"MercedesGLA_103.MP4\", \"vehicle\": \"MercedesGLA\"}, {\"speed\": 104.0, \"time\": 5.01, \"image\": \"MercedesGLA_104.MP4\", \"vehicle\": \"MercedesGLA\"}, {\"speed\": 30.0, \"time\": 4.99, \"image\": \"MercedesGLA_30.MP4\", \"vehicle\": \"MercedesGLA\"}, {\"speed\": 33.0, \"time\": 4.98, \"image\": \"MercedesGLA_33.MP4\", \"vehicle\": \"MercedesGLA\"}, {\"speed\": 36.0, \"time\": 4.99, \"image\": \"MercedesGLA_36.MP4\", \"vehicle\": \"MercedesGLA\"}, {\"speed\": 39.0, \"time\": 5.0, \"image\": \"MercedesGLA_39.MP4\", \"vehicle\": \"MercedesGLA\"}, {\"speed\": 41.0, \"time\": 4.99, \"image\": \"MercedesGLA_41.MP4\", \"vehicle\": \"MercedesGLA\"}, {\"speed\": 42.0, \"time\": 5.0, \"image\": \"MercedesGLA_42.MP4\", \"vehicle\": \"MercedesGLA\"}, {\"speed\": 45.0, \"time\": 5.02, \"image\": \"MercedesGLA_45.MP4\", \"vehicle\": \"MercedesGLA\"}, {\"speed\": 47.0, \"time\": 5.0, \"image\": \"MercedesGLA_47.MP4\", \"vehicle\": \"MercedesGLA\"}, {\"speed\": 48.0, \"time\": 5.0, \"image\": \"MercedesGLA_48.MP4\", \"vehicle\": \"MercedesGLA\"}, {\"speed\": 49.0, \"time\": 5.01, \"image\": \"MercedesGLA_49.MP4\", \"vehicle\": \"MercedesGLA\"}, {\"speed\": 52.0, \"time\": 5.0, \"image\": \"MercedesGLA_52.MP4\", \"vehicle\": \"MercedesGLA\"}, {\"speed\": 54.0, \"time\": 5.0, \"image\": \"MercedesGLA_54.MP4\", \"vehicle\": \"MercedesGLA\"}, {\"speed\": 55.0, \"time\": 4.99, \"image\": \"MercedesGLA_55.MP4\", \"vehicle\": \"MercedesGLA\"}, {\"speed\": 59.0, \"time\": 5.01, \"image\": \"MercedesGLA_59.MP4\", \"vehicle\": \"MercedesGLA\"}, {\"speed\": 61.0, \"time\": 5.08, \"image\": \"MercedesGLA_61.MP4\", \"vehicle\": \"MercedesGLA\"}, {\"speed\": 63.0, \"time\": 4.99, \"image\": \"MercedesGLA_63.MP4\", \"vehicle\": \"MercedesGLA\"}, {\"speed\": 65.0, \"time\": 4.99, \"image\": \"MercedesGLA_65.MP4\", \"vehicle\": \"MercedesGLA\"}, {\"speed\": 68.0, \"time\": 4.99, \"image\": \"MercedesGLA_68.MP4\", \"vehicle\": \"MercedesGLA\"}, {\"speed\": 70.0, \"time\": 5.01, \"image\": \"MercedesGLA_70.MP4\", \"vehicle\": \"MercedesGLA\"}, {\"speed\": 72.0, \"time\": 5.0, \"image\": \"MercedesGLA_72.MP4\", \"vehicle\": \"MercedesGLA\"}, {\"speed\": 75.0, \"time\": 5.0, \"image\": \"MercedesGLA_75.MP4\", \"vehicle\": \"MercedesGLA\"}, {\"speed\": 78.0, \"time\": 5.0, \"image\": \"MercedesGLA_78.MP4\", \"vehicle\": \"MercedesGLA\"}, {\"speed\": 81.0, \"time\": 5.01, \"image\": \"MercedesGLA_81.MP4\", \"vehicle\": \"MercedesGLA\"}, {\"speed\": 83.0, \"time\": 5.01, \"image\": \"MercedesGLA_83.MP4\", \"vehicle\": \"MercedesGLA\"}, {\"speed\": 85.0, \"time\": 5.01, \"image\": \"MercedesGLA_85.MP4\", \"vehicle\": \"MercedesGLA\"}, {\"speed\": 88.0, \"time\": 4.99, \"image\": \"MercedesGLA_88.MP4\", \"vehicle\": \"MercedesGLA\"}, {\"speed\": 90.0, \"time\": 5.1, \"image\": \"MercedesGLA_90.MP4\", \"vehicle\": \"MercedesGLA\"}, {\"speed\": 92.0, \"time\": 5.01, \"image\": \"MercedesGLA_92.MP4\", \"vehicle\": \"MercedesGLA\"}, {\"speed\": 93.0, \"time\": 4.99, \"image\": \"MercedesGLA_93.MP4\", \"vehicle\": \"MercedesGLA\"}, {\"speed\": 96.0, \"time\": 5.0, \"image\": \"MercedesGLA_96.MP4\", \"vehicle\": \"MercedesGLA\"}, {\"speed\": 102.0, \"time\": 5.62, \"image\": \"NissanQashqai_102.MP4\", \"vehicle\": \"NissanQashqai\"}, {\"speed\": 35.0, \"time\": 6.1, \"image\": \"NissanQashqai_35.MP4\", \"vehicle\": \"NissanQashqai\"}, {\"speed\": 38.0, \"time\": 6.19, \"image\": \"NissanQashqai_38.MP4\", \"vehicle\": \"NissanQashqai\"}, {\"speed\": 40.0, \"time\": 5.21, \"image\": \"NissanQashqai_40.MP4\", \"vehicle\": \"NissanQashqai\"}, {\"speed\": 42.0, \"time\": 5.14, \"image\": \"NissanQashqai_42.MP4\", \"vehicle\": \"NissanQashqai\"}, {\"speed\": 45.0, \"time\": 6.01, \"image\": \"NissanQashqai_45.MP4\", \"vehicle\": \"NissanQashqai\"}, {\"speed\": 48.0, \"time\": 5.21, \"image\": \"NissanQashqai_48.MP4\", \"vehicle\": \"NissanQashqai\"}, {\"speed\": 50.0, \"time\": 5.85, \"image\": \"NissanQashqai_50.MP4\", \"vehicle\": \"NissanQashqai\"}, {\"speed\": 53.0, \"time\": 5.99, \"image\": \"NissanQashqai_53.MP4\", \"vehicle\": \"NissanQashqai\"}, {\"speed\": 55.0, \"time\": 5.9, \"image\": \"NissanQashqai_55.MP4\", \"vehicle\": \"NissanQashqai\"}, {\"speed\": 58.0, \"time\": 5.61, \"image\": \"NissanQashqai_58.MP4\", \"vehicle\": \"NissanQashqai\"}, {\"speed\": 60.0, \"time\": 5.58, \"image\": \"NissanQashqai_60.MP4\", \"vehicle\": \"NissanQashqai\"}, {\"speed\": 61.0, \"time\": 6.08, \"image\": \"NissanQashqai_61.MP4\", \"vehicle\": \"NissanQashqai\"}, {\"speed\": 64.0, \"time\": 5.92, \"image\": \"NissanQashqai_64.MP4\", \"vehicle\": \"NissanQashqai\"}, {\"speed\": 65.0, \"time\": 5.58, \"image\": \"NissanQashqai_65.MP4\", \"vehicle\": \"NissanQashqai\"}, {\"speed\": 68.0, \"time\": 5.98, \"image\": \"NissanQashqai_68.MP4\", \"vehicle\": \"NissanQashqai\"}, {\"speed\": 70.0, \"time\": 6.04, \"image\": \"NissanQashqai_70.MP4\", \"vehicle\": \"NissanQashqai\"}, {\"speed\": 73.0, \"time\": 6.14, \"image\": \"NissanQashqai_73.MP4\", \"vehicle\": \"NissanQashqai\"}, {\"speed\": 75.0, \"time\": 6.01, \"image\": \"NissanQashqai_75.MP4\", \"vehicle\": \"NissanQashqai\"}, {\"speed\": 78.0, \"time\": 5.9, \"image\": \"NissanQashqai_78.MP4\", \"vehicle\": \"NissanQashqai\"}, {\"speed\": 80.0, \"time\": 5.79, \"image\": \"NissanQashqai_80.MP4\", \"vehicle\": \"NissanQashqai\"}, {\"speed\": 82.0, \"time\": 5.72, \"image\": \"NissanQashqai_82.MP4\", \"vehicle\": \"NissanQashqai\"}, {\"speed\": 85.0, \"time\": 5.91, \"image\": \"NissanQashqai_85.MP4\", \"vehicle\": \"NissanQashqai\"}, {\"speed\": 88.0, \"time\": 6.13, \"image\": \"NissanQashqai_88.MP4\", \"vehicle\": \"NissanQashqai\"}, {\"speed\": 90.0, \"time\": 5.52, \"image\": \"NissanQashqai_90.MP4\", \"vehicle\": \"NissanQashqai\"}, {\"speed\": 93.0, \"time\": 5.79, \"image\": \"NissanQashqai_93.MP4\", \"vehicle\": \"NissanQashqai\"}, {\"speed\": 94.0, \"time\": 5.28, \"image\": \"NissanQashqai_94.MP4\", \"vehicle\": \"NissanQashqai\"}, {\"speed\": 96.0, \"time\": 5.58, \"image\": \"NissanQashqai_96.MP4\", \"vehicle\": \"NissanQashqai\"}, {\"speed\": 98.0, \"time\": 5.38, \"image\": \"NissanQashqai_98.MP4\", \"vehicle\": \"NissanQashqai\"}, {\"speed\": 100.0, \"time\": 5.02, \"image\": \"OpelInsignia_100.MP4\", \"vehicle\": \"OpelInsignia\"}, {\"speed\": 31.0, \"time\": 6.05, \"image\": \"OpelInsignia_31.MP4\", \"vehicle\": \"OpelInsignia\"}, {\"speed\": 35.0, \"time\": 5.92, \"image\": \"OpelInsignia_35.MP4\", \"vehicle\": \"OpelInsignia\"}, {\"speed\": 38.0, \"time\": 6.68, \"image\": \"OpelInsignia_38.MP4\", \"vehicle\": \"OpelInsignia\"}, {\"speed\": 41.0, \"time\": 6.51, \"image\": \"OpelInsignia_41.MP4\", \"vehicle\": \"OpelInsignia\"}, {\"speed\": 44.0, \"time\": 5.92, \"image\": \"OpelInsignia_44.MP4\", \"vehicle\": \"OpelInsignia\"}, {\"speed\": 47.0, \"time\": 5.91, \"image\": \"OpelInsignia_47.MP4\", \"vehicle\": \"OpelInsignia\"}, {\"speed\": 50.0, \"time\": 6.42, \"image\": \"OpelInsignia_50.MP4\", \"vehicle\": \"OpelInsignia\"}, {\"speed\": 53.0, \"time\": 5.71, \"image\": \"OpelInsignia_53.MP4\", \"vehicle\": \"OpelInsignia\"}, {\"speed\": 55.0, \"time\": 5.51, \"image\": \"OpelInsignia_55.MP4\", \"vehicle\": \"OpelInsignia\"}, {\"speed\": 58.0, \"time\": 5.48, \"image\": \"OpelInsignia_58.MP4\", \"vehicle\": \"OpelInsignia\"}, {\"speed\": 61.0, \"time\": 5.54, \"image\": \"OpelInsignia_61.MP4\", \"vehicle\": \"OpelInsignia\"}, {\"speed\": 64.0, \"time\": 5.74, \"image\": \"OpelInsignia_64.MP4\", \"vehicle\": \"OpelInsignia\"}, {\"speed\": 66.0, \"time\": 5.35, \"image\": \"OpelInsignia_66.MP4\", \"vehicle\": \"OpelInsignia\"}, {\"speed\": 68.0, \"time\": 5.25, \"image\": \"OpelInsignia_68.MP4\", \"vehicle\": \"OpelInsignia\"}, {\"speed\": 70.0, \"time\": 5.91, \"image\": \"OpelInsignia_70.MP4\", \"vehicle\": \"OpelInsignia\"}, {\"speed\": 72.0, \"time\": 6.09, \"image\": \"OpelInsignia_72.MP4\", \"vehicle\": \"OpelInsignia\"}, {\"speed\": 73.0, \"time\": 5.39, \"image\": \"OpelInsignia_73.MP4\", \"vehicle\": \"OpelInsignia\"}, {\"speed\": 76.0, \"time\": 6.22, \"image\": \"OpelInsignia_76.MP4\", \"vehicle\": \"OpelInsignia\"}, {\"speed\": 78.0, \"time\": 5.21, \"image\": \"OpelInsignia_78.MP4\", \"vehicle\": \"OpelInsignia\"}, {\"speed\": 80.0, \"time\": 6.24, \"image\": \"OpelInsignia_80.MP4\", \"vehicle\": \"OpelInsignia\"}, {\"speed\": 83.0, \"time\": 6.02, \"image\": \"OpelInsignia_83.MP4\", \"vehicle\": \"OpelInsignia\"}, {\"speed\": 86.0, \"time\": 5.51, \"image\": \"OpelInsignia_86.MP4\", \"vehicle\": \"OpelInsignia\"}, {\"speed\": 89.0, \"time\": 5.59, \"image\": \"OpelInsignia_89.MP4\", \"vehicle\": \"OpelInsignia\"}, {\"speed\": 91.0, \"time\": 5.38, \"image\": \"OpelInsignia_91.MP4\", \"vehicle\": \"OpelInsignia\"}, {\"speed\": 94.0, \"time\": 5.81, \"image\": \"OpelInsignia_94.MP4\", \"vehicle\": \"OpelInsignia\"}, {\"speed\": 97.0, \"time\": 5.72, \"image\": \"OpelInsignia_97.MP4\", \"vehicle\": \"OpelInsignia\"}, {\"speed\": 30.0, \"time\": 5.14, \"image\": \"Peugeot208_30.MP4\", \"vehicle\": \"Peugeot208\"}, {\"speed\": 32.0, \"time\": 5.04, \"image\": \"Peugeot208_32.MP4\", \"vehicle\": \"Peugeot208\"}, {\"speed\": 34.0, \"time\": 5.04, \"image\": \"Peugeot208_34.MP4\", \"vehicle\": \"Peugeot208\"}, {\"speed\": 37.0, \"time\": 5.15, \"image\": \"Peugeot208_37.MP4\", \"vehicle\": \"Peugeot208\"}, {\"speed\": 40.0, \"time\": 5.14, \"image\": \"Peugeot208_40.MP4\", \"vehicle\": \"Peugeot208\"}, {\"speed\": 43.0, \"time\": 5.1, \"image\": \"Peugeot208_43.MP4\", \"vehicle\": \"Peugeot208\"}, {\"speed\": 45.0, \"time\": 5.12, \"image\": \"Peugeot208_45.MP4\", \"vehicle\": \"Peugeot208\"}, {\"speed\": 47.0, \"time\": 5.02, \"image\": \"Peugeot208_47.MP4\", \"vehicle\": \"Peugeot208\"}, {\"speed\": 50.0, \"time\": 4.93, \"image\": \"Peugeot208_50.MP4\", \"vehicle\": \"Peugeot208\"}, {\"speed\": 51.0, \"time\": 5.52, \"image\": \"Peugeot208_51.MP4\", \"vehicle\": \"Peugeot208\"}, {\"speed\": 54.0, \"time\": 5.17, \"image\": \"Peugeot208_54.MP4\", \"vehicle\": \"Peugeot208\"}, {\"speed\": 57.0, \"time\": 5.51, \"image\": \"Peugeot208_57.MP4\", \"vehicle\": \"Peugeot208\"}, {\"speed\": 60.0, \"time\": 5.06, \"image\": \"Peugeot208_60.MP4\", \"vehicle\": \"Peugeot208\"}, {\"speed\": 62.0, \"time\": 5.09, \"image\": \"Peugeot208_62.MP4\", \"vehicle\": \"Peugeot208\"}, {\"speed\": 64.0, \"time\": 5.22, \"image\": \"Peugeot208_64.MP4\", \"vehicle\": \"Peugeot208\"}, {\"speed\": 67.0, \"time\": 5.03, \"image\": \"Peugeot208_67.MP4\", \"vehicle\": \"Peugeot208\"}, {\"speed\": 68.0, \"time\": 5.18, \"image\": \"Peugeot208_68.MP4\", \"vehicle\": \"Peugeot208\"}, {\"speed\": 71.0, \"time\": 5.16, \"image\": \"Peugeot208_71.MP4\", \"vehicle\": \"Peugeot208\"}, {\"speed\": 73.0, \"time\": 4.99, \"image\": \"Peugeot208_73.MP4\", \"vehicle\": \"Peugeot208\"}, {\"speed\": 76.0, \"time\": 5.61, \"image\": \"Peugeot208_76.MP4\", \"vehicle\": \"Peugeot208\"}, {\"speed\": 77.0, \"time\": 6.26, \"image\": \"Peugeot208_77.MP4\", \"vehicle\": \"Peugeot208\"}, {\"speed\": 79.0, \"time\": 5.22, \"image\": \"Peugeot208_79.MP4\", \"vehicle\": \"Peugeot208\"}, {\"speed\": 82.0, \"time\": 5.17, \"image\": \"Peugeot208_82.MP4\", \"vehicle\": \"Peugeot208\"}, {\"speed\": 84.0, \"time\": 5.12, \"image\": \"Peugeot208_84.MP4\", \"vehicle\": \"Peugeot208\"}, {\"speed\": 87.0, \"time\": 5.48, \"image\": \"Peugeot208_87.MP4\", \"vehicle\": \"Peugeot208\"}, {\"speed\": 90.0, \"time\": 5.18, \"image\": \"Peugeot208_90.MP4\", \"vehicle\": \"Peugeot208\"}, {\"speed\": 92.0, \"time\": 5.48, \"image\": \"Peugeot208_92.MP4\", \"vehicle\": \"Peugeot208\"}, {\"speed\": 95.0, \"time\": 5.59, \"image\": \"Peugeot208_95.MP4\", \"vehicle\": \"Peugeot208\"}, {\"speed\": 96.0, \"time\": 5.43, \"image\": \"Peugeot208_96.MP4\", \"vehicle\": \"Peugeot208\"}, {\"speed\": 100.0, \"time\": 5.5, \"image\": \"Peugeot3008_100.MP4\", \"vehicle\": \"Peugeot3008\"}, {\"speed\": 40.0, \"time\": 6.01, \"image\": \"Peugeot3008_40.MP4\", \"vehicle\": \"Peugeot3008\"}, {\"speed\": 43.0, \"time\": 4.93, \"image\": \"Peugeot3008_43.MP4\", \"vehicle\": \"Peugeot3008\"}, {\"speed\": 45.0, \"time\": 6.0, \"image\": \"Peugeot3008_45.MP4\", \"vehicle\": \"Peugeot3008\"}, {\"speed\": 47.0, \"time\": 5.89, \"image\": \"Peugeot3008_47.MP4\", \"vehicle\": \"Peugeot3008\"}, {\"speed\": 50.0, \"time\": 5.99, \"image\": \"Peugeot3008_50.MP4\", \"vehicle\": \"Peugeot3008\"}, {\"speed\": 52.0, \"time\": 6.86, \"image\": \"Peugeot3008_52.MP4\", \"vehicle\": \"Peugeot3008\"}, {\"speed\": 54.0, \"time\": 5.84, \"image\": \"Peugeot3008_54.MP4\", \"vehicle\": \"Peugeot3008\"}, {\"speed\": 55.0, \"time\": 6.02, \"image\": \"Peugeot3008_55.MP4\", \"vehicle\": \"Peugeot3008\"}, {\"speed\": 56.0, \"time\": 5.71, \"image\": \"Peugeot3008_56.MP4\", \"vehicle\": \"Peugeot3008\"}, {\"speed\": 58.0, \"time\": 4.89, \"image\": \"Peugeot3008_58.MP4\", \"vehicle\": \"Peugeot3008\"}, {\"speed\": 60.0, \"time\": 5.99, \"image\": \"Peugeot3008_60.MP4\", \"vehicle\": \"Peugeot3008\"}, {\"speed\": 61.0, \"time\": 5.43, \"image\": \"Peugeot3008_61.MP4\", \"vehicle\": \"Peugeot3008\"}, {\"speed\": 63.0, \"time\": 7.22, \"image\": \"Peugeot3008_63.MP4\", \"vehicle\": \"Peugeot3008\"}, {\"speed\": 65.0, \"time\": 6.0, \"image\": \"Peugeot3008_65.MP4\", \"vehicle\": \"Peugeot3008\"}, {\"speed\": 67.0, \"time\": 5.69, \"image\": \"Peugeot3008_67.MP4\", \"vehicle\": \"Peugeot3008\"}, {\"speed\": 68.0, \"time\": 5.97, \"image\": \"Peugeot3008_68.MP4\", \"vehicle\": \"Peugeot3008\"}, {\"speed\": 70.0, \"time\": 6.0, \"image\": \"Peugeot3008_70.MP4\", \"vehicle\": \"Peugeot3008\"}, {\"speed\": 72.0, \"time\": 5.53, \"image\": \"Peugeot3008_72.MP4\", \"vehicle\": \"Peugeot3008\"}, {\"speed\": 74.0, \"time\": 5.88, \"image\": \"Peugeot3008_74.MP4\", \"vehicle\": \"Peugeot3008\"}, {\"speed\": 75.0, \"time\": 6.09, \"image\": \"Peugeot3008_75.MP4\", \"vehicle\": \"Peugeot3008\"}, {\"speed\": 78.0, \"time\": 5.6, \"image\": \"Peugeot3008_78.MP4\", \"vehicle\": \"Peugeot3008\"}, {\"speed\": 80.0, \"time\": 6.01, \"image\": \"Peugeot3008_80.MP4\", \"vehicle\": \"Peugeot3008\"}, {\"speed\": 83.0, \"time\": 6.62, \"image\": \"Peugeot3008_83.MP4\", \"vehicle\": \"Peugeot3008\"}, {\"speed\": 85.0, \"time\": 6.38, \"image\": \"Peugeot3008_85.MP4\", \"vehicle\": \"Peugeot3008\"}, {\"speed\": 87.0, \"time\": 5.35, \"image\": \"Peugeot3008_87.MP4\", \"vehicle\": \"Peugeot3008\"}, {\"speed\": 89.0, \"time\": 5.15, \"image\": \"Peugeot3008_89.MP4\", \"vehicle\": \"Peugeot3008\"}, {\"speed\": 90.0, \"time\": 5.99, \"image\": \"Peugeot3008_90.MP4\", \"vehicle\": \"Peugeot3008\"}, {\"speed\": 92.0, \"time\": 5.37, \"image\": \"Peugeot3008_92.MP4\", \"vehicle\": \"Peugeot3008\"}, {\"speed\": 95.0, \"time\": 6.1, \"image\": \"Peugeot3008_95.MP4\", \"vehicle\": \"Peugeot3008\"}, {\"speed\": 97.0, \"time\": 6.39, \"image\": \"Peugeot3008_97.MP4\", \"vehicle\": \"Peugeot3008\"}, {\"speed\": 101.0, \"time\": 5.45, \"image\": \"Peugeot307_101.MP4\", \"vehicle\": \"Peugeot307\"}, {\"speed\": 103.0, \"time\": 5.86, \"image\": \"Peugeot307_103.MP4\", \"vehicle\": \"Peugeot307\"}, {\"speed\": 30.0, \"time\": 5.52, \"image\": \"Peugeot307_30.MP4\", \"vehicle\": \"Peugeot307\"}, {\"speed\": 33.0, \"time\": 5.62, \"image\": \"Peugeot307_33.MP4\", \"vehicle\": \"Peugeot307\"}, {\"speed\": 35.0, \"time\": 5.55, \"image\": \"Peugeot307_35.MP4\", \"vehicle\": \"Peugeot307\"}, {\"speed\": 38.0, \"time\": 5.08, \"image\": \"Peugeot307_38.MP4\", \"vehicle\": \"Peugeot307\"}, {\"speed\": 40.0, \"time\": 5.02, \"image\": \"Peugeot307_40.MP4\", \"vehicle\": \"Peugeot307\"}, {\"speed\": 43.0, \"time\": 4.95, \"image\": \"Peugeot307_43.MP4\", \"vehicle\": \"Peugeot307\"}, {\"speed\": 45.0, \"time\": 5.18, \"image\": \"Peugeot307_45.MP4\", \"vehicle\": \"Peugeot307\"}, {\"speed\": 47.0, \"time\": 4.99, \"image\": \"Peugeot307_47.MP4\", \"vehicle\": \"Peugeot307\"}, {\"speed\": 48.0, \"time\": 4.97, \"image\": \"Peugeot307_48.MP4\", \"vehicle\": \"Peugeot307\"}, {\"speed\": 50.0, \"time\": 5.18, \"image\": \"Peugeot307_50.MP4\", \"vehicle\": \"Peugeot307\"}, {\"speed\": 53.0, \"time\": 4.98, \"image\": \"Peugeot307_53.MP4\", \"vehicle\": \"Peugeot307\"}, {\"speed\": 56.0, \"time\": 5.45, \"image\": \"Peugeot307_56.MP4\", \"vehicle\": \"Peugeot307\"}, {\"speed\": 59.0, \"time\": 4.97, \"image\": \"Peugeot307_59.MP4\", \"vehicle\": \"Peugeot307\"}, {\"speed\": 60.0, \"time\": 6.33, \"image\": \"Peugeot307_60.MP4\", \"vehicle\": \"Peugeot307\"}, {\"speed\": 63.0, \"time\": 5.08, \"image\": \"Peugeot307_63.MP4\", \"vehicle\": \"Peugeot307\"}, {\"speed\": 66.0, \"time\": 5.18, \"image\": \"Peugeot307_66.MP4\", \"vehicle\": \"Peugeot307\"}, {\"speed\": 69.0, \"time\": 4.85, \"image\": \"Peugeot307_69.MP4\", \"vehicle\": \"Peugeot307\"}, {\"speed\": 72.0, \"time\": 4.6, \"image\": \"Peugeot307_72.MP4\", \"vehicle\": \"Peugeot307\"}, {\"speed\": 73.0, \"time\": 4.95, \"image\": \"Peugeot307_73.MP4\", \"vehicle\": \"Peugeot307\"}, {\"speed\": 76.0, \"time\": 4.9, \"image\": \"Peugeot307_76.MP4\", \"vehicle\": \"Peugeot307\"}, {\"speed\": 79.0, \"time\": 4.93, \"image\": \"Peugeot307_79.MP4\", \"vehicle\": \"Peugeot307\"}, {\"speed\": 82.0, \"time\": 5.22, \"image\": \"Peugeot307_82.MP4\", \"vehicle\": \"Peugeot307\"}, {\"speed\": 85.0, \"time\": 5.25, \"image\": \"Peugeot307_85.MP4\", \"vehicle\": \"Peugeot307\"}, {\"speed\": 88.0, \"time\": 4.94, \"image\": \"Peugeot307_88.MP4\", \"vehicle\": \"Peugeot307\"}, {\"speed\": 91.0, \"time\": 5.05, \"image\": \"Peugeot307_91.MP4\", \"vehicle\": \"Peugeot307\"}, {\"speed\": 94.0, \"time\": 4.75, \"image\": \"Peugeot307_94.MP4\", \"vehicle\": \"Peugeot307\"}, {\"speed\": 97.0, \"time\": 4.95, \"image\": \"Peugeot307_97.MP4\", \"vehicle\": \"Peugeot307\"}, {\"speed\": 100.0, \"time\": 5.19, \"image\": \"RenaultCaptur_100.MP4\", \"vehicle\": \"RenaultCaptur\"}, {\"speed\": 102.0, \"time\": 5.34, \"image\": \"RenaultCaptur_102.MP4\", \"vehicle\": \"RenaultCaptur\"}, {\"speed\": 30.0, \"time\": 5.55, \"image\": \"RenaultCaptur_30.MP4\", \"vehicle\": \"RenaultCaptur\"}, {\"speed\": 33.0, \"time\": 5.85, \"image\": \"RenaultCaptur_33.MP4\", \"vehicle\": \"RenaultCaptur\"}, {\"speed\": 36.0, \"time\": 5.32, \"image\": \"RenaultCaptur_36.MP4\", \"vehicle\": \"RenaultCaptur\"}, {\"speed\": 38.0, \"time\": 5.44, \"image\": \"RenaultCaptur_38.MP4\", \"vehicle\": \"RenaultCaptur\"}, {\"speed\": 40.0, \"time\": 5.29, \"image\": \"RenaultCaptur_40.MP4\", \"vehicle\": \"RenaultCaptur\"}, {\"speed\": 41.0, \"time\": 5.36, \"image\": \"RenaultCaptur_41.MP4\", \"vehicle\": \"RenaultCaptur\"}, {\"speed\": 44.0, \"time\": 5.3, \"image\": \"RenaultCaptur_44.MP4\", \"vehicle\": \"RenaultCaptur\"}, {\"speed\": 46.0, \"time\": 4.68, \"image\": \"RenaultCaptur_46.MP4\", \"vehicle\": \"RenaultCaptur\"}, {\"speed\": 47.0, \"time\": 5.28, \"image\": \"RenaultCaptur_47.MP4\", \"vehicle\": \"RenaultCaptur\"}, {\"speed\": 48.0, \"time\": 5.57, \"image\": \"RenaultCaptur_48.MP4\", \"vehicle\": \"RenaultCaptur\"}, {\"speed\": 50.0, \"time\": 5.09, \"image\": \"RenaultCaptur_50.MP4\", \"vehicle\": \"RenaultCaptur\"}, {\"speed\": 52.0, \"time\": 5.53, \"image\": \"RenaultCaptur_52.MP4\", \"vehicle\": \"RenaultCaptur\"}, {\"speed\": 56.0, \"time\": 5.21, \"image\": \"RenaultCaptur_56.MP4\", \"vehicle\": \"RenaultCaptur\"}, {\"speed\": 58.0, \"time\": 5.32, \"image\": \"RenaultCaptur_58.MP4\", \"vehicle\": \"RenaultCaptur\"}, {\"speed\": 60.0, \"time\": 5.39, \"image\": \"RenaultCaptur_60.MP4\", \"vehicle\": \"RenaultCaptur\"}, {\"speed\": 63.0, \"time\": 5.42, \"image\": \"RenaultCaptur_63.MP4\", \"vehicle\": \"RenaultCaptur\"}, {\"speed\": 66.0, \"time\": 5.01, \"image\": \"RenaultCaptur_66.MP4\", \"vehicle\": \"RenaultCaptur\"}, {\"speed\": 68.0, \"time\": 5.15, \"image\": \"RenaultCaptur_68.MP4\", \"vehicle\": \"RenaultCaptur\"}, {\"speed\": 70.0, \"time\": 5.75, \"image\": \"RenaultCaptur_70.MP4\", \"vehicle\": \"RenaultCaptur\"}, {\"speed\": 72.0, \"time\": 5.08, \"image\": \"RenaultCaptur_72.MP4\", \"vehicle\": \"RenaultCaptur\"}, {\"speed\": 76.0, \"time\": 5.94, \"image\": \"RenaultCaptur_76.MP4\", \"vehicle\": \"RenaultCaptur\"}, {\"speed\": 78.0, \"time\": 5.32, \"image\": \"RenaultCaptur_78.MP4\", \"vehicle\": \"RenaultCaptur\"}, {\"speed\": 80.0, \"time\": 4.79, \"image\": \"RenaultCaptur_80.MP4\", \"vehicle\": \"RenaultCaptur\"}, {\"speed\": 83.0, \"time\": 5.59, \"image\": \"RenaultCaptur_83.MP4\", \"vehicle\": \"RenaultCaptur\"}, {\"speed\": 86.0, \"time\": 5.18, \"image\": \"RenaultCaptur_86.MP4\", \"vehicle\": \"RenaultCaptur\"}, {\"speed\": 88.0, \"time\": 5.24, \"image\": \"RenaultCaptur_88.MP4\", \"vehicle\": \"RenaultCaptur\"}, {\"speed\": 90.0, \"time\": 5.61, \"image\": \"RenaultCaptur_90.MP4\", \"vehicle\": \"RenaultCaptur\"}, {\"speed\": 92.0, \"time\": 5.64, \"image\": \"RenaultCaptur_92.MP4\", \"vehicle\": \"RenaultCaptur\"}, {\"speed\": 94.0, \"time\": 5.06, \"image\": \"RenaultCaptur_94.MP4\", \"vehicle\": \"RenaultCaptur\"}, {\"speed\": 97.0, \"time\": 6.02, \"image\": \"RenaultCaptur_97.MP4\", \"vehicle\": \"RenaultCaptur\"}, {\"speed\": 98.0, \"time\": 5.11, \"image\": \"RenaultCaptur_98.MP4\", \"vehicle\": \"RenaultCaptur\"}, {\"speed\": 101.0, \"time\": 6.17, \"image\": \"RenaultScenic_101.MP4\", \"vehicle\": \"RenaultScenic\"}, {\"speed\": 30.0, \"time\": 6.0, \"image\": \"RenaultScenic_30.MP4\", \"vehicle\": \"RenaultScenic\"}, {\"speed\": 35.0, \"time\": 6.82, \"image\": \"RenaultScenic_35.MP4\", \"vehicle\": \"RenaultScenic\"}, {\"speed\": 36.0, \"time\": 6.01, \"image\": \"RenaultScenic_36.MP4\", \"vehicle\": \"RenaultScenic\"}, {\"speed\": 38.0, \"time\": 6.03, \"image\": \"RenaultScenic_38.MP4\", \"vehicle\": \"RenaultScenic\"}, {\"speed\": 40.0, \"time\": 6.7, \"image\": \"RenaultScenic_40.MP4\", \"vehicle\": \"RenaultScenic\"}, {\"speed\": 42.0, \"time\": 5.83, \"image\": \"RenaultScenic_42.MP4\", \"vehicle\": \"RenaultScenic\"}, {\"speed\": 44.0, \"time\": 5.27, \"image\": \"RenaultScenic_44.MP4\", \"vehicle\": \"RenaultScenic\"}, {\"speed\": 46.0, \"time\": 6.75, \"image\": \"RenaultScenic_46.MP4\", \"vehicle\": \"RenaultScenic\"}, {\"speed\": 48.0, \"time\": 5.75, \"image\": \"RenaultScenic_48.MP4\", \"vehicle\": \"RenaultScenic\"}, {\"speed\": 50.0, \"time\": 7.25, \"image\": \"RenaultScenic_50.MP4\", \"vehicle\": \"RenaultScenic\"}, {\"speed\": 52.0, \"time\": 5.25, \"image\": \"RenaultScenic_52.MP4\", \"vehicle\": \"RenaultScenic\"}, {\"speed\": 54.0, \"time\": 5.46, \"image\": \"RenaultScenic_54.MP4\", \"vehicle\": \"RenaultScenic\"}, {\"speed\": 57.0, \"time\": 6.6, \"image\": \"RenaultScenic_57.MP4\", \"vehicle\": \"RenaultScenic\"}, {\"speed\": 60.0, \"time\": 6.12, \"image\": \"RenaultScenic_60.MP4\", \"vehicle\": \"RenaultScenic\"}, {\"speed\": 62.0, \"time\": 6.05, \"image\": \"RenaultScenic_62.MP4\", \"vehicle\": \"RenaultScenic\"}, {\"speed\": 64.0, \"time\": 5.76, \"image\": \"RenaultScenic_64.MP4\", \"vehicle\": \"RenaultScenic\"}, {\"speed\": 66.0, \"time\": 5.35, \"image\": \"RenaultScenic_66.MP4\", \"vehicle\": \"RenaultScenic\"}, {\"speed\": 68.0, \"time\": 6.57, \"image\": \"RenaultScenic_68.MP4\", \"vehicle\": \"RenaultScenic\"}, {\"speed\": 70.0, \"time\": 5.85, \"image\": \"RenaultScenic_70.MP4\", \"vehicle\": \"RenaultScenic\"}, {\"speed\": 71.0, \"time\": 5.99, \"image\": \"RenaultScenic_71.MP4\", \"vehicle\": \"RenaultScenic\"}, {\"speed\": 72.0, \"time\": 5.23, \"image\": \"RenaultScenic_72.MP4\", \"vehicle\": \"RenaultScenic\"}, {\"speed\": 74.0, \"time\": 5.7, \"image\": \"RenaultScenic_74.MP4\", \"vehicle\": \"RenaultScenic\"}, {\"speed\": 75.0, \"time\": 5.45, \"image\": \"RenaultScenic_75.MP4\", \"vehicle\": \"RenaultScenic\"}, {\"speed\": 77.0, \"time\": 7.32, \"image\": \"RenaultScenic_77.MP4\", \"vehicle\": \"RenaultScenic\"}, {\"speed\": 80.0, \"time\": 7.01, \"image\": \"RenaultScenic_80.MP4\", \"vehicle\": \"RenaultScenic\"}, {\"speed\": 82.0, \"time\": 6.06, \"image\": \"RenaultScenic_82.MP4\", \"vehicle\": \"RenaultScenic\"}, {\"speed\": 84.0, \"time\": 5.39, \"image\": \"RenaultScenic_84.MP4\", \"vehicle\": \"RenaultScenic\"}, {\"speed\": 86.0, \"time\": 5.65, \"image\": \"RenaultScenic_86.MP4\", \"vehicle\": \"RenaultScenic\"}, {\"speed\": 87.0, \"time\": 6.0, \"image\": \"RenaultScenic_87.MP4\", \"vehicle\": \"RenaultScenic\"}, {\"speed\": 90.0, \"time\": 5.09, \"image\": \"RenaultScenic_90.MP4\", \"vehicle\": \"RenaultScenic\"}, {\"speed\": 91.0, \"time\": 6.21, \"image\": \"RenaultScenic_91.MP4\", \"vehicle\": \"RenaultScenic\"}, {\"speed\": 94.0, \"time\": 6.18, \"image\": \"RenaultScenic_94.MP4\", \"vehicle\": \"RenaultScenic\"}, {\"speed\": 95.0, \"time\": 6.23, \"image\": \"RenaultScenic_95.MP4\", \"vehicle\": \"RenaultScenic\"}, {\"speed\": 98.0, \"time\": 5.38, \"image\": \"RenaultScenic_98.MP4\", \"vehicle\": \"RenaultScenic\"}, {\"speed\": 100.0, \"time\": 6.01, \"image\": \"VWPassat_100.MP4\", \"vehicle\": \"VWPassat\"}, {\"speed\": 30.0, \"time\": 6.46, \"image\": \"VWPassat_30.MP4\", \"vehicle\": \"VWPassat\"}, {\"speed\": 35.0, \"time\": 5.92, \"image\": \"VWPassat_35.MP4\", \"vehicle\": \"VWPassat\"}, {\"speed\": 39.0, \"time\": 5.27, \"image\": \"VWPassat_39.MP4\", \"vehicle\": \"VWPassat\"}, {\"speed\": 40.0, \"time\": 6.53, \"image\": \"VWPassat_40.MP4\", \"vehicle\": \"VWPassat\"}, {\"speed\": 42.0, \"time\": 6.72, \"image\": \"VWPassat_42.MP4\", \"vehicle\": \"VWPassat\"}, {\"speed\": 45.0, \"time\": 6.35, \"image\": \"VWPassat_45.MP4\", \"vehicle\": \"VWPassat\"}, {\"speed\": 47.0, \"time\": 5.25, \"image\": \"VWPassat_47.MP4\", \"vehicle\": \"VWPassat\"}, {\"speed\": 49.0, \"time\": 5.27, \"image\": \"VWPassat_49.MP4\", \"vehicle\": \"VWPassat\"}, {\"speed\": 50.0, \"time\": 6.0, \"image\": \"VWPassat_50.MP4\", \"vehicle\": \"VWPassat\"}, {\"speed\": 52.0, \"time\": 6.02, \"image\": \"VWPassat_52.MP4\", \"vehicle\": \"VWPassat\"}, {\"speed\": 54.0, \"time\": 5.54, \"image\": \"VWPassat_54.MP4\", \"vehicle\": \"VWPassat\"}, {\"speed\": 55.0, \"time\": 6.02, \"image\": \"VWPassat_55.MP4\", \"vehicle\": \"VWPassat\"}, {\"speed\": 57.0, \"time\": 4.98, \"image\": \"VWPassat_57.MP4\", \"vehicle\": \"VWPassat\"}, {\"speed\": 60.0, \"time\": 5.98, \"image\": \"VWPassat_60.MP4\", \"vehicle\": \"VWPassat\"}, {\"speed\": 61.0, \"time\": 6.01, \"image\": \"VWPassat_61.MP4\", \"vehicle\": \"VWPassat\"}, {\"speed\": 64.0, \"time\": 5.67, \"image\": \"VWPassat_64.MP4\", \"vehicle\": \"VWPassat\"}, {\"speed\": 65.0, \"time\": 5.82, \"image\": \"VWPassat_65.MP4\", \"vehicle\": \"VWPassat\"}, {\"speed\": 67.0, \"time\": 5.08, \"image\": \"VWPassat_67.MP4\", \"vehicle\": \"VWPassat\"}, {\"speed\": 70.0, \"time\": 6.0, \"image\": \"VWPassat_70.MP4\", \"vehicle\": \"VWPassat\"}, {\"speed\": 71.0, \"time\": 5.51, \"image\": \"VWPassat_71.MP4\", \"vehicle\": \"VWPassat\"}, {\"speed\": 72.0, \"time\": 5.42, \"image\": \"VWPassat_72.MP4\", \"vehicle\": \"VWPassat\"}, {\"speed\": 73.0, \"time\": 5.32, \"image\": \"VWPassat_73.MP4\", \"vehicle\": \"VWPassat\"}, {\"speed\": 75.0, \"time\": 6.02, \"image\": \"VWPassat_75.MP4\", \"vehicle\": \"VWPassat\"}, {\"speed\": 78.0, \"time\": 5.85, \"image\": \"VWPassat_78.MP4\", \"vehicle\": \"VWPassat\"}, {\"speed\": 80.0, \"time\": 5.99, \"image\": \"VWPassat_80.MP4\", \"vehicle\": \"VWPassat\"}, {\"speed\": 81.0, \"time\": 5.58, \"image\": \"VWPassat_81.MP4\", \"vehicle\": \"VWPassat\"}, {\"speed\": 82.0, \"time\": 5.62, \"image\": \"VWPassat_82.MP4\", \"vehicle\": \"VWPassat\"}, {\"speed\": 85.0, \"time\": 6.23, \"image\": \"VWPassat_85.MP4\", \"vehicle\": \"VWPassat\"}, {\"speed\": 88.0, \"time\": 7.31, \"image\": \"VWPassat_88.MP4\", \"vehicle\": \"VWPassat\"}, {\"speed\": 90.0, \"time\": 5.2, \"image\": \"VWPassat_90.MP4\", \"vehicle\": \"VWPassat\"}, {\"speed\": 91.0, \"time\": 5.45, \"image\": \"VWPassat_91.MP4\", \"vehicle\": \"VWPassat\"}, {\"speed\": 94.0, \"time\": 6.0, \"image\": \"VWPassat_94.MP4\", \"vehicle\": \"VWPassat\"}, {\"speed\": 96.0, \"time\": 5.72, \"image\": \"VWPassat_96.MP4\", \"vehicle\": \"VWPassat\"}, {\"speed\": 98.0, \"time\": 5.99, \"image\": \"VWPassat_98.MP4\", \"vehicle\": \"VWPassat\"}]}}, {\"mode\": \"vega-lite\"});\n",
       "</script>"
      ],
      "text/plain": [
       "alt.Chart(...)"
      ]
     },
     "metadata": {},
     "output_type": "display_data"
    }
   ],
   "source": [
    "seleccion_vehicle = alt.selection_multi(fields=['vehicle'])\n",
    "scatter_plot = alt.Chart(df_combined).mark_point(size=60, opacity=0.7).encode(\n",
    "    x=alt.X('speed', title='Velocidad (km/h)'),\n",
    "    y=alt.Y('time', title='Tiempo (s)'),\n",
    "    color=alt.condition(seleccion_vehicle, 'vehicle:N', alt.value('lightgray')),\n",
    "    tooltip=['vehicle', 'speed', 'time']\n",
    ").add_selection(\n",
    "    seleccion_vehicle\n",
    ").properties(\n",
    "    title='Relación entre la Velocidad y el Tipo de Vehículo',\n",
    "    width=800,\n",
    "    height=400\n",
    ").configure_axis(\n",
    "    grid=True\n",
    ").configure_legend(\n",
    "    titleFontSize=14,\n",
    "    labelFontSize=12\n",
    ").configure_title(\n",
    "    fontSize=18\n",
    ")\n",
    "scatter_plot.display()"
   ]
  },
  {
   "cell_type": "code",
   "execution_count": 7,
   "metadata": {
    "collapsed": false,
    "jupyter": {
     "outputs_hidden": false
    },
    "pycharm": {
     "name": "#%%\n"
    }
   },
   "outputs": [
    {
     "data": {
      "text/html": [
       "\n",
       "<style>\n",
       "  #altair-viz-6140fd53eb2542ffb12deada0ba22038.vega-embed {\n",
       "    width: 100%;\n",
       "    display: flex;\n",
       "  }\n",
       "\n",
       "  #altair-viz-6140fd53eb2542ffb12deada0ba22038.vega-embed details,\n",
       "  #altair-viz-6140fd53eb2542ffb12deada0ba22038.vega-embed details summary {\n",
       "    position: relative;\n",
       "  }\n",
       "</style>\n",
       "<div id=\"altair-viz-6140fd53eb2542ffb12deada0ba22038\"></div>\n",
       "<script type=\"text/javascript\">\n",
       "  var VEGA_DEBUG = (typeof VEGA_DEBUG == \"undefined\") ? {} : VEGA_DEBUG;\n",
       "  (function(spec, embedOpt){\n",
       "    let outputDiv = document.currentScript.previousElementSibling;\n",
       "    if (outputDiv.id !== \"altair-viz-6140fd53eb2542ffb12deada0ba22038\") {\n",
       "      outputDiv = document.getElementById(\"altair-viz-6140fd53eb2542ffb12deada0ba22038\");\n",
       "    }\n",
       "    const paths = {\n",
       "      \"vega\": \"https://cdn.jsdelivr.net/npm/vega@5?noext\",\n",
       "      \"vega-lib\": \"https://cdn.jsdelivr.net/npm/vega-lib?noext\",\n",
       "      \"vega-lite\": \"https://cdn.jsdelivr.net/npm/vega-lite@5.8.0?noext\",\n",
       "      \"vega-embed\": \"https://cdn.jsdelivr.net/npm/vega-embed@6?noext\",\n",
       "    };\n",
       "\n",
       "    function maybeLoadScript(lib, version) {\n",
       "      var key = `${lib.replace(\"-\", \"\")}_version`;\n",
       "      return (VEGA_DEBUG[key] == version) ?\n",
       "        Promise.resolve(paths[lib]) :\n",
       "        new Promise(function(resolve, reject) {\n",
       "          var s = document.createElement('script');\n",
       "          document.getElementsByTagName(\"head\")[0].appendChild(s);\n",
       "          s.async = true;\n",
       "          s.onload = () => {\n",
       "            VEGA_DEBUG[key] = version;\n",
       "            return resolve(paths[lib]);\n",
       "          };\n",
       "          s.onerror = () => reject(`Error loading script: ${paths[lib]}`);\n",
       "          s.src = paths[lib];\n",
       "        });\n",
       "    }\n",
       "\n",
       "    function showError(err) {\n",
       "      outputDiv.innerHTML = `<div class=\"error\" style=\"color:red;\">${err}</div>`;\n",
       "      throw err;\n",
       "    }\n",
       "\n",
       "    function displayChart(vegaEmbed) {\n",
       "      vegaEmbed(outputDiv, spec, embedOpt)\n",
       "        .catch(err => showError(`Javascript Error: ${err.message}<br>This usually means there's a typo in your chart specification. See the javascript console for the full traceback.`));\n",
       "    }\n",
       "\n",
       "    if(typeof define === \"function\" && define.amd) {\n",
       "      requirejs.config({paths});\n",
       "      require([\"vega-embed\"], displayChart, err => showError(`Error loading script: ${err.message}`));\n",
       "    } else {\n",
       "      maybeLoadScript(\"vega\", \"5\")\n",
       "        .then(() => maybeLoadScript(\"vega-lite\", \"5.8.0\"))\n",
       "        .then(() => maybeLoadScript(\"vega-embed\", \"6\"))\n",
       "        .catch(showError)\n",
       "        .then(() => displayChart(vegaEmbed));\n",
       "    }\n",
       "  })({\"config\": {\"view\": {\"continuousWidth\": 300, \"continuousHeight\": 300}}, \"data\": {\"name\": \"data-5d3be3fd43ab46cca79cf2374d1a4771\"}, \"mark\": {\"type\": \"bar\"}, \"encoding\": {\"column\": {\"field\": \"vehicle\", \"title\": \"vehicle\", \"type\": \"nominal\"}, \"x\": {\"bin\": {\"maxbins\": 30}, \"field\": \"speed\", \"title\": \"Velocidad (km/h)\", \"type\": \"quantitative\"}, \"y\": {\"aggregate\": \"count\", \"title\": \"Contador\", \"type\": \"quantitative\"}}, \"height\": 100, \"title\": \"Distribucion de velocidad por vehicle\", \"width\": 150, \"$schema\": \"https://vega.github.io/schema/vega-lite/v5.8.0.json\", \"datasets\": {\"data-5d3be3fd43ab46cca79cf2374d1a4771\": [{\"speed\": 101.0, \"time\": 7.49, \"image\": \"CitroenC4Picasso_101.MP4\", \"vehicle\": \"CitroenC4Picasso\"}, {\"speed\": 35.0, \"time\": 6.25, \"image\": \"CitroenC4Picasso_35.MP4\", \"vehicle\": \"CitroenC4Picasso\"}, {\"speed\": 38.0, \"time\": 5.82, \"image\": \"CitroenC4Picasso_38.MP4\", \"vehicle\": \"CitroenC4Picasso\"}, {\"speed\": 41.0, \"time\": 6.16, \"image\": \"CitroenC4Picasso_41.MP4\", \"vehicle\": \"CitroenC4Picasso\"}, {\"speed\": 44.0, \"time\": 5.44, \"image\": \"CitroenC4Picasso_44.MP4\", \"vehicle\": \"CitroenC4Picasso\"}, {\"speed\": 48.0, \"time\": 6.03, \"image\": \"CitroenC4Picasso_48.MP4\", \"vehicle\": \"CitroenC4Picasso\"}, {\"speed\": 51.0, \"time\": 5.85, \"image\": \"CitroenC4Picasso_51.MP4\", \"vehicle\": \"CitroenC4Picasso\"}, {\"speed\": 54.0, \"time\": 5.65, \"image\": \"CitroenC4Picasso_54.MP4\", \"vehicle\": \"CitroenC4Picasso\"}, {\"speed\": 57.0, \"time\": 5.95, \"image\": \"CitroenC4Picasso_57.MP4\", \"vehicle\": \"CitroenC4Picasso\"}, {\"speed\": 59.0, \"time\": 5.85, \"image\": \"CitroenC4Picasso_59.MP4\", \"vehicle\": \"CitroenC4Picasso\"}, {\"speed\": 63.0, \"time\": 6.06, \"image\": \"CitroenC4Picasso_63.MP4\", \"vehicle\": \"CitroenC4Picasso\"}, {\"speed\": 65.0, \"time\": 5.66, \"image\": \"CitroenC4Picasso_65.MP4\", \"vehicle\": \"CitroenC4Picasso\"}, {\"speed\": 68.0, \"time\": 6.16, \"image\": \"CitroenC4Picasso_68.MP4\", \"vehicle\": \"CitroenC4Picasso\"}, {\"speed\": 72.0, \"time\": 5.75, \"image\": \"CitroenC4Picasso_72.MP4\", \"vehicle\": \"CitroenC4Picasso\"}, {\"speed\": 74.0, \"time\": 6.26, \"image\": \"CitroenC4Picasso_74.MP4\", \"vehicle\": \"CitroenC4Picasso\"}, {\"speed\": 78.0, \"time\": 6.14, \"image\": \"CitroenC4Picasso_78.MP4\", \"vehicle\": \"CitroenC4Picasso\"}, {\"speed\": 80.0, \"time\": 5.41, \"image\": \"CitroenC4Picasso_80.MP4\", \"vehicle\": \"CitroenC4Picasso\"}, {\"speed\": 83.0, \"time\": 6.63, \"image\": \"CitroenC4Picasso_83.MP4\", \"vehicle\": \"CitroenC4Picasso\"}, {\"speed\": 85.0, \"time\": 5.67, \"image\": \"CitroenC4Picasso_85.MP4\", \"vehicle\": \"CitroenC4Picasso\"}, {\"speed\": 87.0, \"time\": 6.19, \"image\": \"CitroenC4Picasso_87.MP4\", \"vehicle\": \"CitroenC4Picasso\"}, {\"speed\": 92.0, \"time\": 7.62, \"image\": \"CitroenC4Picasso_92.MP4\", \"vehicle\": \"CitroenC4Picasso\"}, {\"speed\": 94.0, \"time\": 6.79, \"image\": \"CitroenC4Picasso_94.MP4\", \"vehicle\": \"CitroenC4Picasso\"}, {\"speed\": 96.0, \"time\": 5.79, \"image\": \"CitroenC4Picasso_96.MP4\", \"vehicle\": \"CitroenC4Picasso\"}, {\"speed\": 100.0, \"time\": 4.98, \"image\": \"KiaSportage_100.MP4\", \"vehicle\": \"KiaSportage\"}, {\"speed\": 103.0, \"time\": 4.91, \"image\": \"KiaSportage_103.MP4\", \"vehicle\": \"KiaSportage\"}, {\"speed\": 105.0, \"time\": 4.98, \"image\": \"KiaSportage_105.MP4\", \"vehicle\": \"KiaSportage\"}, {\"speed\": 31.0, \"time\": 4.94, \"image\": \"KiaSportage_31.MP4\", \"vehicle\": \"KiaSportage\"}, {\"speed\": 33.0, \"time\": 4.91, \"image\": \"KiaSportage_33.MP4\", \"vehicle\": \"KiaSportage\"}, {\"speed\": 35.0, \"time\": 4.93, \"image\": \"KiaSportage_35.MP4\", \"vehicle\": \"KiaSportage\"}, {\"speed\": 38.0, \"time\": 5.05, \"image\": \"KiaSportage_38.MP4\", \"vehicle\": \"KiaSportage\"}, {\"speed\": 41.0, \"time\": 4.93, \"image\": \"KiaSportage_41.MP4\", \"vehicle\": \"KiaSportage\"}, {\"speed\": 44.0, \"time\": 5.02, \"image\": \"KiaSportage_44.MP4\", \"vehicle\": \"KiaSportage\"}, {\"speed\": 46.0, \"time\": 4.94, \"image\": \"KiaSportage_46.MP4\", \"vehicle\": \"KiaSportage\"}, {\"speed\": 48.0, \"time\": 4.96, \"image\": \"KiaSportage_48.MP4\", \"vehicle\": \"KiaSportage\"}, {\"speed\": 51.0, \"time\": 4.92, \"image\": \"KiaSportage_51.MP4\", \"vehicle\": \"KiaSportage\"}, {\"speed\": 53.0, \"time\": 4.97, \"image\": \"KiaSportage_53.MP4\", \"vehicle\": \"KiaSportage\"}, {\"speed\": 55.0, \"time\": 4.95, \"image\": \"KiaSportage_55.MP4\", \"vehicle\": \"KiaSportage\"}, {\"speed\": 58.0, \"time\": 4.92, \"image\": \"KiaSportage_58.MP4\", \"vehicle\": \"KiaSportage\"}, {\"speed\": 61.0, \"time\": 4.96, \"image\": \"KiaSportage_61.MP4\", \"vehicle\": \"KiaSportage\"}, {\"speed\": 63.0, \"time\": 5.0, \"image\": \"KiaSportage_63.MP4\", \"vehicle\": \"KiaSportage\"}, {\"speed\": 65.0, \"time\": 4.93, \"image\": \"KiaSportage_65.MP4\", \"vehicle\": \"KiaSportage\"}, {\"speed\": 68.0, \"time\": 4.96, \"image\": \"KiaSportage_68.MP4\", \"vehicle\": \"KiaSportage\"}, {\"speed\": 69.0, \"time\": 4.94, \"image\": \"KiaSportage_69.MP4\", \"vehicle\": \"KiaSportage\"}, {\"speed\": 72.0, \"time\": 4.95, \"image\": \"KiaSportage_72.MP4\", \"vehicle\": \"KiaSportage\"}, {\"speed\": 74.0, \"time\": 4.94, \"image\": \"KiaSportage_74.MP4\", \"vehicle\": \"KiaSportage\"}, {\"speed\": 77.0, \"time\": 5.02, \"image\": \"KiaSportage_77.MP4\", \"vehicle\": \"KiaSportage\"}, {\"speed\": 78.0, \"time\": 4.95, \"image\": \"KiaSportage_78.MP4\", \"vehicle\": \"KiaSportage\"}, {\"speed\": 80.0, \"time\": 4.94, \"image\": \"KiaSportage_80.MP4\", \"vehicle\": \"KiaSportage\"}, {\"speed\": 83.0, \"time\": 4.95, \"image\": \"KiaSportage_83.MP4\", \"vehicle\": \"KiaSportage\"}, {\"speed\": 85.0, \"time\": 4.95, \"image\": \"KiaSportage_85.MP4\", \"vehicle\": \"KiaSportage\"}, {\"speed\": 86.0, \"time\": 4.92, \"image\": \"KiaSportage_86.MP4\", \"vehicle\": \"KiaSportage\"}, {\"speed\": 89.0, \"time\": 4.98, \"image\": \"KiaSportage_89.MP4\", \"vehicle\": \"KiaSportage\"}, {\"speed\": 91.0, \"time\": 4.95, \"image\": \"KiaSportage_91.MP4\", \"vehicle\": \"KiaSportage\"}, {\"speed\": 93.0, \"time\": 4.98, \"image\": \"KiaSportage_93.MP4\", \"vehicle\": \"KiaSportage\"}, {\"speed\": 96.0, \"time\": 4.91, \"image\": \"KiaSportage_96.MP4\", \"vehicle\": \"KiaSportage\"}, {\"speed\": 98.0, \"time\": 4.92, \"image\": \"KiaSportage_98.MP4\", \"vehicle\": \"KiaSportage\"}, {\"speed\": 101.0, \"time\": 5.04, \"image\": \"Mazda3_101.MP4\", \"vehicle\": \"Mazda3\"}, {\"speed\": 103.0, \"time\": 5.07, \"image\": \"Mazda3_103.MP4\", \"vehicle\": \"Mazda3\"}, {\"speed\": 105.0, \"time\": 4.99, \"image\": \"Mazda3_105.MP4\", \"vehicle\": \"Mazda3\"}, {\"speed\": 30.0, \"time\": 5.23, \"image\": \"Mazda3_30.MP4\", \"vehicle\": \"Mazda3\"}, {\"speed\": 33.0, \"time\": 5.08, \"image\": \"Mazda3_33.MP4\", \"vehicle\": \"Mazda3\"}, {\"speed\": 35.0, \"time\": 5.12, \"image\": \"Mazda3_35.MP4\", \"vehicle\": \"Mazda3\"}, {\"speed\": 38.0, \"time\": 5.15, \"image\": \"Mazda3_38.MP4\", \"vehicle\": \"Mazda3\"}, {\"speed\": 40.0, \"time\": 5.02, \"image\": \"Mazda3_40.MP4\", \"vehicle\": \"Mazda3\"}, {\"speed\": 43.0, \"time\": 5.02, \"image\": \"Mazda3_43.MP4\", \"vehicle\": \"Mazda3\"}, {\"speed\": 45.0, \"time\": 5.31, \"image\": \"Mazda3_45.MP4\", \"vehicle\": \"Mazda3\"}, {\"speed\": 47.0, \"time\": 5.42, \"image\": \"Mazda3_47.MP4\", \"vehicle\": \"Mazda3\"}, {\"speed\": 50.0, \"time\": 5.62, \"image\": \"Mazda3_50.MP4\", \"vehicle\": \"Mazda3\"}, {\"speed\": 52.0, \"time\": 5.15, \"image\": \"Mazda3_52.MP4\", \"vehicle\": \"Mazda3\"}, {\"speed\": 55.0, \"time\": 5.68, \"image\": \"Mazda3_55.MP4\", \"vehicle\": \"Mazda3\"}, {\"speed\": 57.0, \"time\": 5.08, \"image\": \"Mazda3_57.MP4\", \"vehicle\": \"Mazda3\"}, {\"speed\": 60.0, \"time\": 5.09, \"image\": \"Mazda3_60.MP4\", \"vehicle\": \"Mazda3\"}, {\"speed\": 62.0, \"time\": 5.25, \"image\": \"Mazda3_62.MP4\", \"vehicle\": \"Mazda3\"}, {\"speed\": 64.0, \"time\": 5.02, \"image\": \"Mazda3_64.MP4\", \"vehicle\": \"Mazda3\"}, {\"speed\": 67.0, \"time\": 5.65, \"image\": \"Mazda3_67.MP4\", \"vehicle\": \"Mazda3\"}, {\"speed\": 70.0, \"time\": 5.05, \"image\": \"Mazda3_70.MP4\", \"vehicle\": \"Mazda3\"}, {\"speed\": 72.0, \"time\": 5.16, \"image\": \"Mazda3_72.MP4\", \"vehicle\": \"Mazda3\"}, {\"speed\": 75.0, \"time\": 5.02, \"image\": \"Mazda3_75.MP4\", \"vehicle\": \"Mazda3\"}, {\"speed\": 79.0, \"time\": 5.05, \"image\": \"Mazda3_79.MP4\", \"vehicle\": \"Mazda3\"}, {\"speed\": 81.0, \"time\": 5.22, \"image\": \"Mazda3_81.MP4\", \"vehicle\": \"Mazda3\"}, {\"speed\": 84.0, \"time\": 5.08, \"image\": \"Mazda3_84.MP4\", \"vehicle\": \"Mazda3\"}, {\"speed\": 86.0, \"time\": 5.19, \"image\": \"Mazda3_86.MP4\", \"vehicle\": \"Mazda3\"}, {\"speed\": 88.0, \"time\": 5.09, \"image\": \"Mazda3_88.MP4\", \"vehicle\": \"Mazda3\"}, {\"speed\": 90.0, \"time\": 5.11, \"image\": \"Mazda3_90.MP4\", \"vehicle\": \"Mazda3\"}, {\"speed\": 92.0, \"time\": 5.22, \"image\": \"Mazda3_92.MP4\", \"vehicle\": \"Mazda3\"}, {\"speed\": 94.0, \"time\": 5.04, \"image\": \"Mazda3_94.MP4\", \"vehicle\": \"Mazda3\"}, {\"speed\": 96.0, \"time\": 5.02, \"image\": \"Mazda3_96.MP4\", \"vehicle\": \"Mazda3\"}, {\"speed\": 99.0, \"time\": 4.98, \"image\": \"Mazda3_99.MP4\", \"vehicle\": \"Mazda3\"}, {\"speed\": 100.0, \"time\": 4.94, \"image\": \"MercedesAMG550_100.MP4\", \"vehicle\": \"MercedesAMG550\"}, {\"speed\": 105.0, \"time\": 4.45, \"image\": \"MercedesAMG550_105.MP4\", \"vehicle\": \"MercedesAMG550\"}, {\"speed\": 30.0, \"time\": 5.07, \"image\": \"MercedesAMG550_30.MP4\", \"vehicle\": \"MercedesAMG550\"}, {\"speed\": 33.0, \"time\": 5.68, \"image\": \"MercedesAMG550_33.MP4\", \"vehicle\": \"MercedesAMG550\"}, {\"speed\": 35.0, \"time\": 5.99, \"image\": \"MercedesAMG550_35.MP4\", \"vehicle\": \"MercedesAMG550\"}, {\"speed\": 38.0, \"time\": 5.88, \"image\": \"MercedesAMG550_38.MP4\", \"vehicle\": \"MercedesAMG550\"}, {\"speed\": 40.0, \"time\": 5.13, \"image\": \"MercedesAMG550_40.MP4\", \"vehicle\": \"MercedesAMG550\"}, {\"speed\": 42.0, \"time\": 6.28, \"image\": \"MercedesAMG550_42.MP4\", \"vehicle\": \"MercedesAMG550\"}, {\"speed\": 45.0, \"time\": 5.06, \"image\": \"MercedesAMG550_45.MP4\", \"vehicle\": \"MercedesAMG550\"}, {\"speed\": 47.0, \"time\": 5.67, \"image\": \"MercedesAMG550_47.MP4\", \"vehicle\": \"MercedesAMG550\"}, {\"speed\": 50.0, \"time\": 5.19, \"image\": \"MercedesAMG550_50.MP4\", \"vehicle\": \"MercedesAMG550\"}, {\"speed\": 52.0, \"time\": 5.89, \"image\": \"MercedesAMG550_52.MP4\", \"vehicle\": \"MercedesAMG550\"}, {\"speed\": 55.0, \"time\": 5.07, \"image\": \"MercedesAMG550_55.MP4\", \"vehicle\": \"MercedesAMG550\"}, {\"speed\": 58.0, \"time\": 5.65, \"image\": \"MercedesAMG550_58.MP4\", \"vehicle\": \"MercedesAMG550\"}, {\"speed\": 60.0, \"time\": 5.25, \"image\": \"MercedesAMG550_60.MP4\", \"vehicle\": \"MercedesAMG550\"}, {\"speed\": 62.0, \"time\": 5.38, \"image\": \"MercedesAMG550_62.MP4\", \"vehicle\": \"MercedesAMG550\"}, {\"speed\": 65.0, \"time\": 7.04, \"image\": \"MercedesAMG550_65.MP4\", \"vehicle\": \"MercedesAMG550\"}, {\"speed\": 67.0, \"time\": 5.76, \"image\": \"MercedesAMG550_67.MP4\", \"vehicle\": \"MercedesAMG550\"}, {\"speed\": 70.0, \"time\": 4.83, \"image\": \"MercedesAMG550_70.MP4\", \"vehicle\": \"MercedesAMG550\"}, {\"speed\": 73.0, \"time\": 5.63, \"image\": \"MercedesAMG550_73.MP4\", \"vehicle\": \"MercedesAMG550\"}, {\"speed\": 75.0, \"time\": 5.11, \"image\": \"MercedesAMG550_75.MP4\", \"vehicle\": \"MercedesAMG550\"}, {\"speed\": 78.0, \"time\": 6.11, \"image\": \"MercedesAMG550_78.MP4\", \"vehicle\": \"MercedesAMG550\"}, {\"speed\": 80.0, \"time\": 4.9, \"image\": \"MercedesAMG550_80.MP4\", \"vehicle\": \"MercedesAMG550\"}, {\"speed\": 82.0, \"time\": 5.82, \"image\": \"MercedesAMG550_82.MP4\", \"vehicle\": \"MercedesAMG550\"}, {\"speed\": 85.0, \"time\": 4.84, \"image\": \"MercedesAMG550_85.MP4\", \"vehicle\": \"MercedesAMG550\"}, {\"speed\": 87.0, \"time\": 5.41, \"image\": \"MercedesAMG550_87.MP4\", \"vehicle\": \"MercedesAMG550\"}, {\"speed\": 90.0, \"time\": 6.0, \"image\": \"MercedesAMG550_90.MP4\", \"vehicle\": \"MercedesAMG550\"}, {\"speed\": 93.0, \"time\": 5.68, \"image\": \"MercedesAMG550_93.MP4\", \"vehicle\": \"MercedesAMG550\"}, {\"speed\": 95.0, \"time\": 5.0, \"image\": \"MercedesAMG550_95.MP4\", \"vehicle\": \"MercedesAMG550\"}, {\"speed\": 98.0, \"time\": 5.44, \"image\": \"MercedesAMG550_98.MP4\", \"vehicle\": \"MercedesAMG550\"}, {\"speed\": 100.0, \"time\": 5.0, \"image\": \"MercedesGLA_100.MP4\", \"vehicle\": \"MercedesGLA\"}, {\"speed\": 101.0, \"time\": 5.01, \"image\": \"MercedesGLA_101.MP4\", \"vehicle\": \"MercedesGLA\"}, {\"speed\": 103.0, \"time\": 5.01, \"image\": \"MercedesGLA_103.MP4\", \"vehicle\": \"MercedesGLA\"}, {\"speed\": 104.0, \"time\": 5.01, \"image\": \"MercedesGLA_104.MP4\", \"vehicle\": \"MercedesGLA\"}, {\"speed\": 30.0, \"time\": 4.99, \"image\": \"MercedesGLA_30.MP4\", \"vehicle\": \"MercedesGLA\"}, {\"speed\": 33.0, \"time\": 4.98, \"image\": \"MercedesGLA_33.MP4\", \"vehicle\": \"MercedesGLA\"}, {\"speed\": 36.0, \"time\": 4.99, \"image\": \"MercedesGLA_36.MP4\", \"vehicle\": \"MercedesGLA\"}, {\"speed\": 39.0, \"time\": 5.0, \"image\": \"MercedesGLA_39.MP4\", \"vehicle\": \"MercedesGLA\"}, {\"speed\": 41.0, \"time\": 4.99, \"image\": \"MercedesGLA_41.MP4\", \"vehicle\": \"MercedesGLA\"}, {\"speed\": 42.0, \"time\": 5.0, \"image\": \"MercedesGLA_42.MP4\", \"vehicle\": \"MercedesGLA\"}, {\"speed\": 45.0, \"time\": 5.02, \"image\": \"MercedesGLA_45.MP4\", \"vehicle\": \"MercedesGLA\"}, {\"speed\": 47.0, \"time\": 5.0, \"image\": \"MercedesGLA_47.MP4\", \"vehicle\": \"MercedesGLA\"}, {\"speed\": 48.0, \"time\": 5.0, \"image\": \"MercedesGLA_48.MP4\", \"vehicle\": \"MercedesGLA\"}, {\"speed\": 49.0, \"time\": 5.01, \"image\": \"MercedesGLA_49.MP4\", \"vehicle\": \"MercedesGLA\"}, {\"speed\": 52.0, \"time\": 5.0, \"image\": \"MercedesGLA_52.MP4\", \"vehicle\": \"MercedesGLA\"}, {\"speed\": 54.0, \"time\": 5.0, \"image\": \"MercedesGLA_54.MP4\", \"vehicle\": \"MercedesGLA\"}, {\"speed\": 55.0, \"time\": 4.99, \"image\": \"MercedesGLA_55.MP4\", \"vehicle\": \"MercedesGLA\"}, {\"speed\": 59.0, \"time\": 5.01, \"image\": \"MercedesGLA_59.MP4\", \"vehicle\": \"MercedesGLA\"}, {\"speed\": 61.0, \"time\": 5.08, \"image\": \"MercedesGLA_61.MP4\", \"vehicle\": \"MercedesGLA\"}, {\"speed\": 63.0, \"time\": 4.99, \"image\": \"MercedesGLA_63.MP4\", \"vehicle\": \"MercedesGLA\"}, {\"speed\": 65.0, \"time\": 4.99, \"image\": \"MercedesGLA_65.MP4\", \"vehicle\": \"MercedesGLA\"}, {\"speed\": 68.0, \"time\": 4.99, \"image\": \"MercedesGLA_68.MP4\", \"vehicle\": \"MercedesGLA\"}, {\"speed\": 70.0, \"time\": 5.01, \"image\": \"MercedesGLA_70.MP4\", \"vehicle\": \"MercedesGLA\"}, {\"speed\": 72.0, \"time\": 5.0, \"image\": \"MercedesGLA_72.MP4\", \"vehicle\": \"MercedesGLA\"}, {\"speed\": 75.0, \"time\": 5.0, \"image\": \"MercedesGLA_75.MP4\", \"vehicle\": \"MercedesGLA\"}, {\"speed\": 78.0, \"time\": 5.0, \"image\": \"MercedesGLA_78.MP4\", \"vehicle\": \"MercedesGLA\"}, {\"speed\": 81.0, \"time\": 5.01, \"image\": \"MercedesGLA_81.MP4\", \"vehicle\": \"MercedesGLA\"}, {\"speed\": 83.0, \"time\": 5.01, \"image\": \"MercedesGLA_83.MP4\", \"vehicle\": \"MercedesGLA\"}, {\"speed\": 85.0, \"time\": 5.01, \"image\": \"MercedesGLA_85.MP4\", \"vehicle\": \"MercedesGLA\"}, {\"speed\": 88.0, \"time\": 4.99, \"image\": \"MercedesGLA_88.MP4\", \"vehicle\": \"MercedesGLA\"}, {\"speed\": 90.0, \"time\": 5.1, \"image\": \"MercedesGLA_90.MP4\", \"vehicle\": \"MercedesGLA\"}, {\"speed\": 92.0, \"time\": 5.01, \"image\": \"MercedesGLA_92.MP4\", \"vehicle\": \"MercedesGLA\"}, {\"speed\": 93.0, \"time\": 4.99, \"image\": \"MercedesGLA_93.MP4\", \"vehicle\": \"MercedesGLA\"}, {\"speed\": 96.0, \"time\": 5.0, \"image\": \"MercedesGLA_96.MP4\", \"vehicle\": \"MercedesGLA\"}, {\"speed\": 102.0, \"time\": 5.62, \"image\": \"NissanQashqai_102.MP4\", \"vehicle\": \"NissanQashqai\"}, {\"speed\": 35.0, \"time\": 6.1, \"image\": \"NissanQashqai_35.MP4\", \"vehicle\": \"NissanQashqai\"}, {\"speed\": 38.0, \"time\": 6.19, \"image\": \"NissanQashqai_38.MP4\", \"vehicle\": \"NissanQashqai\"}, {\"speed\": 40.0, \"time\": 5.21, \"image\": \"NissanQashqai_40.MP4\", \"vehicle\": \"NissanQashqai\"}, {\"speed\": 42.0, \"time\": 5.14, \"image\": \"NissanQashqai_42.MP4\", \"vehicle\": \"NissanQashqai\"}, {\"speed\": 45.0, \"time\": 6.01, \"image\": \"NissanQashqai_45.MP4\", \"vehicle\": \"NissanQashqai\"}, {\"speed\": 48.0, \"time\": 5.21, \"image\": \"NissanQashqai_48.MP4\", \"vehicle\": \"NissanQashqai\"}, {\"speed\": 50.0, \"time\": 5.85, \"image\": \"NissanQashqai_50.MP4\", \"vehicle\": \"NissanQashqai\"}, {\"speed\": 53.0, \"time\": 5.99, \"image\": \"NissanQashqai_53.MP4\", \"vehicle\": \"NissanQashqai\"}, {\"speed\": 55.0, \"time\": 5.9, \"image\": \"NissanQashqai_55.MP4\", \"vehicle\": \"NissanQashqai\"}, {\"speed\": 58.0, \"time\": 5.61, \"image\": \"NissanQashqai_58.MP4\", \"vehicle\": \"NissanQashqai\"}, {\"speed\": 60.0, \"time\": 5.58, \"image\": \"NissanQashqai_60.MP4\", \"vehicle\": \"NissanQashqai\"}, {\"speed\": 61.0, \"time\": 6.08, \"image\": \"NissanQashqai_61.MP4\", \"vehicle\": \"NissanQashqai\"}, {\"speed\": 64.0, \"time\": 5.92, \"image\": \"NissanQashqai_64.MP4\", \"vehicle\": \"NissanQashqai\"}, {\"speed\": 65.0, \"time\": 5.58, \"image\": \"NissanQashqai_65.MP4\", \"vehicle\": \"NissanQashqai\"}, {\"speed\": 68.0, \"time\": 5.98, \"image\": \"NissanQashqai_68.MP4\", \"vehicle\": \"NissanQashqai\"}, {\"speed\": 70.0, \"time\": 6.04, \"image\": \"NissanQashqai_70.MP4\", \"vehicle\": \"NissanQashqai\"}, {\"speed\": 73.0, \"time\": 6.14, \"image\": \"NissanQashqai_73.MP4\", \"vehicle\": \"NissanQashqai\"}, {\"speed\": 75.0, \"time\": 6.01, \"image\": \"NissanQashqai_75.MP4\", \"vehicle\": \"NissanQashqai\"}, {\"speed\": 78.0, \"time\": 5.9, \"image\": \"NissanQashqai_78.MP4\", \"vehicle\": \"NissanQashqai\"}, {\"speed\": 80.0, \"time\": 5.79, \"image\": \"NissanQashqai_80.MP4\", \"vehicle\": \"NissanQashqai\"}, {\"speed\": 82.0, \"time\": 5.72, \"image\": \"NissanQashqai_82.MP4\", \"vehicle\": \"NissanQashqai\"}, {\"speed\": 85.0, \"time\": 5.91, \"image\": \"NissanQashqai_85.MP4\", \"vehicle\": \"NissanQashqai\"}, {\"speed\": 88.0, \"time\": 6.13, \"image\": \"NissanQashqai_88.MP4\", \"vehicle\": \"NissanQashqai\"}, {\"speed\": 90.0, \"time\": 5.52, \"image\": \"NissanQashqai_90.MP4\", \"vehicle\": \"NissanQashqai\"}, {\"speed\": 93.0, \"time\": 5.79, \"image\": \"NissanQashqai_93.MP4\", \"vehicle\": \"NissanQashqai\"}, {\"speed\": 94.0, \"time\": 5.28, \"image\": \"NissanQashqai_94.MP4\", \"vehicle\": \"NissanQashqai\"}, {\"speed\": 96.0, \"time\": 5.58, \"image\": \"NissanQashqai_96.MP4\", \"vehicle\": \"NissanQashqai\"}, {\"speed\": 98.0, \"time\": 5.38, \"image\": \"NissanQashqai_98.MP4\", \"vehicle\": \"NissanQashqai\"}, {\"speed\": 100.0, \"time\": 5.02, \"image\": \"OpelInsignia_100.MP4\", \"vehicle\": \"OpelInsignia\"}, {\"speed\": 31.0, \"time\": 6.05, \"image\": \"OpelInsignia_31.MP4\", \"vehicle\": \"OpelInsignia\"}, {\"speed\": 35.0, \"time\": 5.92, \"image\": \"OpelInsignia_35.MP4\", \"vehicle\": \"OpelInsignia\"}, {\"speed\": 38.0, \"time\": 6.68, \"image\": \"OpelInsignia_38.MP4\", \"vehicle\": \"OpelInsignia\"}, {\"speed\": 41.0, \"time\": 6.51, \"image\": \"OpelInsignia_41.MP4\", \"vehicle\": \"OpelInsignia\"}, {\"speed\": 44.0, \"time\": 5.92, \"image\": \"OpelInsignia_44.MP4\", \"vehicle\": \"OpelInsignia\"}, {\"speed\": 47.0, \"time\": 5.91, \"image\": \"OpelInsignia_47.MP4\", \"vehicle\": \"OpelInsignia\"}, {\"speed\": 50.0, \"time\": 6.42, \"image\": \"OpelInsignia_50.MP4\", \"vehicle\": \"OpelInsignia\"}, {\"speed\": 53.0, \"time\": 5.71, \"image\": \"OpelInsignia_53.MP4\", \"vehicle\": \"OpelInsignia\"}, {\"speed\": 55.0, \"time\": 5.51, \"image\": \"OpelInsignia_55.MP4\", \"vehicle\": \"OpelInsignia\"}, {\"speed\": 58.0, \"time\": 5.48, \"image\": \"OpelInsignia_58.MP4\", \"vehicle\": \"OpelInsignia\"}, {\"speed\": 61.0, \"time\": 5.54, \"image\": \"OpelInsignia_61.MP4\", \"vehicle\": \"OpelInsignia\"}, {\"speed\": 64.0, \"time\": 5.74, \"image\": \"OpelInsignia_64.MP4\", \"vehicle\": \"OpelInsignia\"}, {\"speed\": 66.0, \"time\": 5.35, \"image\": \"OpelInsignia_66.MP4\", \"vehicle\": \"OpelInsignia\"}, {\"speed\": 68.0, \"time\": 5.25, \"image\": \"OpelInsignia_68.MP4\", \"vehicle\": \"OpelInsignia\"}, {\"speed\": 70.0, \"time\": 5.91, \"image\": \"OpelInsignia_70.MP4\", \"vehicle\": \"OpelInsignia\"}, {\"speed\": 72.0, \"time\": 6.09, \"image\": \"OpelInsignia_72.MP4\", \"vehicle\": \"OpelInsignia\"}, {\"speed\": 73.0, \"time\": 5.39, \"image\": \"OpelInsignia_73.MP4\", \"vehicle\": \"OpelInsignia\"}, {\"speed\": 76.0, \"time\": 6.22, \"image\": \"OpelInsignia_76.MP4\", \"vehicle\": \"OpelInsignia\"}, {\"speed\": 78.0, \"time\": 5.21, \"image\": \"OpelInsignia_78.MP4\", \"vehicle\": \"OpelInsignia\"}, {\"speed\": 80.0, \"time\": 6.24, \"image\": \"OpelInsignia_80.MP4\", \"vehicle\": \"OpelInsignia\"}, {\"speed\": 83.0, \"time\": 6.02, \"image\": \"OpelInsignia_83.MP4\", \"vehicle\": \"OpelInsignia\"}, {\"speed\": 86.0, \"time\": 5.51, \"image\": \"OpelInsignia_86.MP4\", \"vehicle\": \"OpelInsignia\"}, {\"speed\": 89.0, \"time\": 5.59, \"image\": \"OpelInsignia_89.MP4\", \"vehicle\": \"OpelInsignia\"}, {\"speed\": 91.0, \"time\": 5.38, \"image\": \"OpelInsignia_91.MP4\", \"vehicle\": \"OpelInsignia\"}, {\"speed\": 94.0, \"time\": 5.81, \"image\": \"OpelInsignia_94.MP4\", \"vehicle\": \"OpelInsignia\"}, {\"speed\": 97.0, \"time\": 5.72, \"image\": \"OpelInsignia_97.MP4\", \"vehicle\": \"OpelInsignia\"}, {\"speed\": 30.0, \"time\": 5.14, \"image\": \"Peugeot208_30.MP4\", \"vehicle\": \"Peugeot208\"}, {\"speed\": 32.0, \"time\": 5.04, \"image\": \"Peugeot208_32.MP4\", \"vehicle\": \"Peugeot208\"}, {\"speed\": 34.0, \"time\": 5.04, \"image\": \"Peugeot208_34.MP4\", \"vehicle\": \"Peugeot208\"}, {\"speed\": 37.0, \"time\": 5.15, \"image\": \"Peugeot208_37.MP4\", \"vehicle\": \"Peugeot208\"}, {\"speed\": 40.0, \"time\": 5.14, \"image\": \"Peugeot208_40.MP4\", \"vehicle\": \"Peugeot208\"}, {\"speed\": 43.0, \"time\": 5.1, \"image\": \"Peugeot208_43.MP4\", \"vehicle\": \"Peugeot208\"}, {\"speed\": 45.0, \"time\": 5.12, \"image\": \"Peugeot208_45.MP4\", \"vehicle\": \"Peugeot208\"}, {\"speed\": 47.0, \"time\": 5.02, \"image\": \"Peugeot208_47.MP4\", \"vehicle\": \"Peugeot208\"}, {\"speed\": 50.0, \"time\": 4.93, \"image\": \"Peugeot208_50.MP4\", \"vehicle\": \"Peugeot208\"}, {\"speed\": 51.0, \"time\": 5.52, \"image\": \"Peugeot208_51.MP4\", \"vehicle\": \"Peugeot208\"}, {\"speed\": 54.0, \"time\": 5.17, \"image\": \"Peugeot208_54.MP4\", \"vehicle\": \"Peugeot208\"}, {\"speed\": 57.0, \"time\": 5.51, \"image\": \"Peugeot208_57.MP4\", \"vehicle\": \"Peugeot208\"}, {\"speed\": 60.0, \"time\": 5.06, \"image\": \"Peugeot208_60.MP4\", \"vehicle\": \"Peugeot208\"}, {\"speed\": 62.0, \"time\": 5.09, \"image\": \"Peugeot208_62.MP4\", \"vehicle\": \"Peugeot208\"}, {\"speed\": 64.0, \"time\": 5.22, \"image\": \"Peugeot208_64.MP4\", \"vehicle\": \"Peugeot208\"}, {\"speed\": 67.0, \"time\": 5.03, \"image\": \"Peugeot208_67.MP4\", \"vehicle\": \"Peugeot208\"}, {\"speed\": 68.0, \"time\": 5.18, \"image\": \"Peugeot208_68.MP4\", \"vehicle\": \"Peugeot208\"}, {\"speed\": 71.0, \"time\": 5.16, \"image\": \"Peugeot208_71.MP4\", \"vehicle\": \"Peugeot208\"}, {\"speed\": 73.0, \"time\": 4.99, \"image\": \"Peugeot208_73.MP4\", \"vehicle\": \"Peugeot208\"}, {\"speed\": 76.0, \"time\": 5.61, \"image\": \"Peugeot208_76.MP4\", \"vehicle\": \"Peugeot208\"}, {\"speed\": 77.0, \"time\": 6.26, \"image\": \"Peugeot208_77.MP4\", \"vehicle\": \"Peugeot208\"}, {\"speed\": 79.0, \"time\": 5.22, \"image\": \"Peugeot208_79.MP4\", \"vehicle\": \"Peugeot208\"}, {\"speed\": 82.0, \"time\": 5.17, \"image\": \"Peugeot208_82.MP4\", \"vehicle\": \"Peugeot208\"}, {\"speed\": 84.0, \"time\": 5.12, \"image\": \"Peugeot208_84.MP4\", \"vehicle\": \"Peugeot208\"}, {\"speed\": 87.0, \"time\": 5.48, \"image\": \"Peugeot208_87.MP4\", \"vehicle\": \"Peugeot208\"}, {\"speed\": 90.0, \"time\": 5.18, \"image\": \"Peugeot208_90.MP4\", \"vehicle\": \"Peugeot208\"}, {\"speed\": 92.0, \"time\": 5.48, \"image\": \"Peugeot208_92.MP4\", \"vehicle\": \"Peugeot208\"}, {\"speed\": 95.0, \"time\": 5.59, \"image\": \"Peugeot208_95.MP4\", \"vehicle\": \"Peugeot208\"}, {\"speed\": 96.0, \"time\": 5.43, \"image\": \"Peugeot208_96.MP4\", \"vehicle\": \"Peugeot208\"}, {\"speed\": 100.0, \"time\": 5.5, \"image\": \"Peugeot3008_100.MP4\", \"vehicle\": \"Peugeot3008\"}, {\"speed\": 40.0, \"time\": 6.01, \"image\": \"Peugeot3008_40.MP4\", \"vehicle\": \"Peugeot3008\"}, {\"speed\": 43.0, \"time\": 4.93, \"image\": \"Peugeot3008_43.MP4\", \"vehicle\": \"Peugeot3008\"}, {\"speed\": 45.0, \"time\": 6.0, \"image\": \"Peugeot3008_45.MP4\", \"vehicle\": \"Peugeot3008\"}, {\"speed\": 47.0, \"time\": 5.89, \"image\": \"Peugeot3008_47.MP4\", \"vehicle\": \"Peugeot3008\"}, {\"speed\": 50.0, \"time\": 5.99, \"image\": \"Peugeot3008_50.MP4\", \"vehicle\": \"Peugeot3008\"}, {\"speed\": 52.0, \"time\": 6.86, \"image\": \"Peugeot3008_52.MP4\", \"vehicle\": \"Peugeot3008\"}, {\"speed\": 54.0, \"time\": 5.84, \"image\": \"Peugeot3008_54.MP4\", \"vehicle\": \"Peugeot3008\"}, {\"speed\": 55.0, \"time\": 6.02, \"image\": \"Peugeot3008_55.MP4\", \"vehicle\": \"Peugeot3008\"}, {\"speed\": 56.0, \"time\": 5.71, \"image\": \"Peugeot3008_56.MP4\", \"vehicle\": \"Peugeot3008\"}, {\"speed\": 58.0, \"time\": 4.89, \"image\": \"Peugeot3008_58.MP4\", \"vehicle\": \"Peugeot3008\"}, {\"speed\": 60.0, \"time\": 5.99, \"image\": \"Peugeot3008_60.MP4\", \"vehicle\": \"Peugeot3008\"}, {\"speed\": 61.0, \"time\": 5.43, \"image\": \"Peugeot3008_61.MP4\", \"vehicle\": \"Peugeot3008\"}, {\"speed\": 63.0, \"time\": 7.22, \"image\": \"Peugeot3008_63.MP4\", \"vehicle\": \"Peugeot3008\"}, {\"speed\": 65.0, \"time\": 6.0, \"image\": \"Peugeot3008_65.MP4\", \"vehicle\": \"Peugeot3008\"}, {\"speed\": 67.0, \"time\": 5.69, \"image\": \"Peugeot3008_67.MP4\", \"vehicle\": \"Peugeot3008\"}, {\"speed\": 68.0, \"time\": 5.97, \"image\": \"Peugeot3008_68.MP4\", \"vehicle\": \"Peugeot3008\"}, {\"speed\": 70.0, \"time\": 6.0, \"image\": \"Peugeot3008_70.MP4\", \"vehicle\": \"Peugeot3008\"}, {\"speed\": 72.0, \"time\": 5.53, \"image\": \"Peugeot3008_72.MP4\", \"vehicle\": \"Peugeot3008\"}, {\"speed\": 74.0, \"time\": 5.88, \"image\": \"Peugeot3008_74.MP4\", \"vehicle\": \"Peugeot3008\"}, {\"speed\": 75.0, \"time\": 6.09, \"image\": \"Peugeot3008_75.MP4\", \"vehicle\": \"Peugeot3008\"}, {\"speed\": 78.0, \"time\": 5.6, \"image\": \"Peugeot3008_78.MP4\", \"vehicle\": \"Peugeot3008\"}, {\"speed\": 80.0, \"time\": 6.01, \"image\": \"Peugeot3008_80.MP4\", \"vehicle\": \"Peugeot3008\"}, {\"speed\": 83.0, \"time\": 6.62, \"image\": \"Peugeot3008_83.MP4\", \"vehicle\": \"Peugeot3008\"}, {\"speed\": 85.0, \"time\": 6.38, \"image\": \"Peugeot3008_85.MP4\", \"vehicle\": \"Peugeot3008\"}, {\"speed\": 87.0, \"time\": 5.35, \"image\": \"Peugeot3008_87.MP4\", \"vehicle\": \"Peugeot3008\"}, {\"speed\": 89.0, \"time\": 5.15, \"image\": \"Peugeot3008_89.MP4\", \"vehicle\": \"Peugeot3008\"}, {\"speed\": 90.0, \"time\": 5.99, \"image\": \"Peugeot3008_90.MP4\", \"vehicle\": \"Peugeot3008\"}, {\"speed\": 92.0, \"time\": 5.37, \"image\": \"Peugeot3008_92.MP4\", \"vehicle\": \"Peugeot3008\"}, {\"speed\": 95.0, \"time\": 6.1, \"image\": \"Peugeot3008_95.MP4\", \"vehicle\": \"Peugeot3008\"}, {\"speed\": 97.0, \"time\": 6.39, \"image\": \"Peugeot3008_97.MP4\", \"vehicle\": \"Peugeot3008\"}, {\"speed\": 101.0, \"time\": 5.45, \"image\": \"Peugeot307_101.MP4\", \"vehicle\": \"Peugeot307\"}, {\"speed\": 103.0, \"time\": 5.86, \"image\": \"Peugeot307_103.MP4\", \"vehicle\": \"Peugeot307\"}, {\"speed\": 30.0, \"time\": 5.52, \"image\": \"Peugeot307_30.MP4\", \"vehicle\": \"Peugeot307\"}, {\"speed\": 33.0, \"time\": 5.62, \"image\": \"Peugeot307_33.MP4\", \"vehicle\": \"Peugeot307\"}, {\"speed\": 35.0, \"time\": 5.55, \"image\": \"Peugeot307_35.MP4\", \"vehicle\": \"Peugeot307\"}, {\"speed\": 38.0, \"time\": 5.08, \"image\": \"Peugeot307_38.MP4\", \"vehicle\": \"Peugeot307\"}, {\"speed\": 40.0, \"time\": 5.02, \"image\": \"Peugeot307_40.MP4\", \"vehicle\": \"Peugeot307\"}, {\"speed\": 43.0, \"time\": 4.95, \"image\": \"Peugeot307_43.MP4\", \"vehicle\": \"Peugeot307\"}, {\"speed\": 45.0, \"time\": 5.18, \"image\": \"Peugeot307_45.MP4\", \"vehicle\": \"Peugeot307\"}, {\"speed\": 47.0, \"time\": 4.99, \"image\": \"Peugeot307_47.MP4\", \"vehicle\": \"Peugeot307\"}, {\"speed\": 48.0, \"time\": 4.97, \"image\": \"Peugeot307_48.MP4\", \"vehicle\": \"Peugeot307\"}, {\"speed\": 50.0, \"time\": 5.18, \"image\": \"Peugeot307_50.MP4\", \"vehicle\": \"Peugeot307\"}, {\"speed\": 53.0, \"time\": 4.98, \"image\": \"Peugeot307_53.MP4\", \"vehicle\": \"Peugeot307\"}, {\"speed\": 56.0, \"time\": 5.45, \"image\": \"Peugeot307_56.MP4\", \"vehicle\": \"Peugeot307\"}, {\"speed\": 59.0, \"time\": 4.97, \"image\": \"Peugeot307_59.MP4\", \"vehicle\": \"Peugeot307\"}, {\"speed\": 60.0, \"time\": 6.33, \"image\": \"Peugeot307_60.MP4\", \"vehicle\": \"Peugeot307\"}, {\"speed\": 63.0, \"time\": 5.08, \"image\": \"Peugeot307_63.MP4\", \"vehicle\": \"Peugeot307\"}, {\"speed\": 66.0, \"time\": 5.18, \"image\": \"Peugeot307_66.MP4\", \"vehicle\": \"Peugeot307\"}, {\"speed\": 69.0, \"time\": 4.85, \"image\": \"Peugeot307_69.MP4\", \"vehicle\": \"Peugeot307\"}, {\"speed\": 72.0, \"time\": 4.6, \"image\": \"Peugeot307_72.MP4\", \"vehicle\": \"Peugeot307\"}, {\"speed\": 73.0, \"time\": 4.95, \"image\": \"Peugeot307_73.MP4\", \"vehicle\": \"Peugeot307\"}, {\"speed\": 76.0, \"time\": 4.9, \"image\": \"Peugeot307_76.MP4\", \"vehicle\": \"Peugeot307\"}, {\"speed\": 79.0, \"time\": 4.93, \"image\": \"Peugeot307_79.MP4\", \"vehicle\": \"Peugeot307\"}, {\"speed\": 82.0, \"time\": 5.22, \"image\": \"Peugeot307_82.MP4\", \"vehicle\": \"Peugeot307\"}, {\"speed\": 85.0, \"time\": 5.25, \"image\": \"Peugeot307_85.MP4\", \"vehicle\": \"Peugeot307\"}, {\"speed\": 88.0, \"time\": 4.94, \"image\": \"Peugeot307_88.MP4\", \"vehicle\": \"Peugeot307\"}, {\"speed\": 91.0, \"time\": 5.05, \"image\": \"Peugeot307_91.MP4\", \"vehicle\": \"Peugeot307\"}, {\"speed\": 94.0, \"time\": 4.75, \"image\": \"Peugeot307_94.MP4\", \"vehicle\": \"Peugeot307\"}, {\"speed\": 97.0, \"time\": 4.95, \"image\": \"Peugeot307_97.MP4\", \"vehicle\": \"Peugeot307\"}, {\"speed\": 100.0, \"time\": 5.19, \"image\": \"RenaultCaptur_100.MP4\", \"vehicle\": \"RenaultCaptur\"}, {\"speed\": 102.0, \"time\": 5.34, \"image\": \"RenaultCaptur_102.MP4\", \"vehicle\": \"RenaultCaptur\"}, {\"speed\": 30.0, \"time\": 5.55, \"image\": \"RenaultCaptur_30.MP4\", \"vehicle\": \"RenaultCaptur\"}, {\"speed\": 33.0, \"time\": 5.85, \"image\": \"RenaultCaptur_33.MP4\", \"vehicle\": \"RenaultCaptur\"}, {\"speed\": 36.0, \"time\": 5.32, \"image\": \"RenaultCaptur_36.MP4\", \"vehicle\": \"RenaultCaptur\"}, {\"speed\": 38.0, \"time\": 5.44, \"image\": \"RenaultCaptur_38.MP4\", \"vehicle\": \"RenaultCaptur\"}, {\"speed\": 40.0, \"time\": 5.29, \"image\": \"RenaultCaptur_40.MP4\", \"vehicle\": \"RenaultCaptur\"}, {\"speed\": 41.0, \"time\": 5.36, \"image\": \"RenaultCaptur_41.MP4\", \"vehicle\": \"RenaultCaptur\"}, {\"speed\": 44.0, \"time\": 5.3, \"image\": \"RenaultCaptur_44.MP4\", \"vehicle\": \"RenaultCaptur\"}, {\"speed\": 46.0, \"time\": 4.68, \"image\": \"RenaultCaptur_46.MP4\", \"vehicle\": \"RenaultCaptur\"}, {\"speed\": 47.0, \"time\": 5.28, \"image\": \"RenaultCaptur_47.MP4\", \"vehicle\": \"RenaultCaptur\"}, {\"speed\": 48.0, \"time\": 5.57, \"image\": \"RenaultCaptur_48.MP4\", \"vehicle\": \"RenaultCaptur\"}, {\"speed\": 50.0, \"time\": 5.09, \"image\": \"RenaultCaptur_50.MP4\", \"vehicle\": \"RenaultCaptur\"}, {\"speed\": 52.0, \"time\": 5.53, \"image\": \"RenaultCaptur_52.MP4\", \"vehicle\": \"RenaultCaptur\"}, {\"speed\": 56.0, \"time\": 5.21, \"image\": \"RenaultCaptur_56.MP4\", \"vehicle\": \"RenaultCaptur\"}, {\"speed\": 58.0, \"time\": 5.32, \"image\": \"RenaultCaptur_58.MP4\", \"vehicle\": \"RenaultCaptur\"}, {\"speed\": 60.0, \"time\": 5.39, \"image\": \"RenaultCaptur_60.MP4\", \"vehicle\": \"RenaultCaptur\"}, {\"speed\": 63.0, \"time\": 5.42, \"image\": \"RenaultCaptur_63.MP4\", \"vehicle\": \"RenaultCaptur\"}, {\"speed\": 66.0, \"time\": 5.01, \"image\": \"RenaultCaptur_66.MP4\", \"vehicle\": \"RenaultCaptur\"}, {\"speed\": 68.0, \"time\": 5.15, \"image\": \"RenaultCaptur_68.MP4\", \"vehicle\": \"RenaultCaptur\"}, {\"speed\": 70.0, \"time\": 5.75, \"image\": \"RenaultCaptur_70.MP4\", \"vehicle\": \"RenaultCaptur\"}, {\"speed\": 72.0, \"time\": 5.08, \"image\": \"RenaultCaptur_72.MP4\", \"vehicle\": \"RenaultCaptur\"}, {\"speed\": 76.0, \"time\": 5.94, \"image\": \"RenaultCaptur_76.MP4\", \"vehicle\": \"RenaultCaptur\"}, {\"speed\": 78.0, \"time\": 5.32, \"image\": \"RenaultCaptur_78.MP4\", \"vehicle\": \"RenaultCaptur\"}, {\"speed\": 80.0, \"time\": 4.79, \"image\": \"RenaultCaptur_80.MP4\", \"vehicle\": \"RenaultCaptur\"}, {\"speed\": 83.0, \"time\": 5.59, \"image\": \"RenaultCaptur_83.MP4\", \"vehicle\": \"RenaultCaptur\"}, {\"speed\": 86.0, \"time\": 5.18, \"image\": \"RenaultCaptur_86.MP4\", \"vehicle\": \"RenaultCaptur\"}, {\"speed\": 88.0, \"time\": 5.24, \"image\": \"RenaultCaptur_88.MP4\", \"vehicle\": \"RenaultCaptur\"}, {\"speed\": 90.0, \"time\": 5.61, \"image\": \"RenaultCaptur_90.MP4\", \"vehicle\": \"RenaultCaptur\"}, {\"speed\": 92.0, \"time\": 5.64, \"image\": \"RenaultCaptur_92.MP4\", \"vehicle\": \"RenaultCaptur\"}, {\"speed\": 94.0, \"time\": 5.06, \"image\": \"RenaultCaptur_94.MP4\", \"vehicle\": \"RenaultCaptur\"}, {\"speed\": 97.0, \"time\": 6.02, \"image\": \"RenaultCaptur_97.MP4\", \"vehicle\": \"RenaultCaptur\"}, {\"speed\": 98.0, \"time\": 5.11, \"image\": \"RenaultCaptur_98.MP4\", \"vehicle\": \"RenaultCaptur\"}, {\"speed\": 101.0, \"time\": 6.17, \"image\": \"RenaultScenic_101.MP4\", \"vehicle\": \"RenaultScenic\"}, {\"speed\": 30.0, \"time\": 6.0, \"image\": \"RenaultScenic_30.MP4\", \"vehicle\": \"RenaultScenic\"}, {\"speed\": 35.0, \"time\": 6.82, \"image\": \"RenaultScenic_35.MP4\", \"vehicle\": \"RenaultScenic\"}, {\"speed\": 36.0, \"time\": 6.01, \"image\": \"RenaultScenic_36.MP4\", \"vehicle\": \"RenaultScenic\"}, {\"speed\": 38.0, \"time\": 6.03, \"image\": \"RenaultScenic_38.MP4\", \"vehicle\": \"RenaultScenic\"}, {\"speed\": 40.0, \"time\": 6.7, \"image\": \"RenaultScenic_40.MP4\", \"vehicle\": \"RenaultScenic\"}, {\"speed\": 42.0, \"time\": 5.83, \"image\": \"RenaultScenic_42.MP4\", \"vehicle\": \"RenaultScenic\"}, {\"speed\": 44.0, \"time\": 5.27, \"image\": \"RenaultScenic_44.MP4\", \"vehicle\": \"RenaultScenic\"}, {\"speed\": 46.0, \"time\": 6.75, \"image\": \"RenaultScenic_46.MP4\", \"vehicle\": \"RenaultScenic\"}, {\"speed\": 48.0, \"time\": 5.75, \"image\": \"RenaultScenic_48.MP4\", \"vehicle\": \"RenaultScenic\"}, {\"speed\": 50.0, \"time\": 7.25, \"image\": \"RenaultScenic_50.MP4\", \"vehicle\": \"RenaultScenic\"}, {\"speed\": 52.0, \"time\": 5.25, \"image\": \"RenaultScenic_52.MP4\", \"vehicle\": \"RenaultScenic\"}, {\"speed\": 54.0, \"time\": 5.46, \"image\": \"RenaultScenic_54.MP4\", \"vehicle\": \"RenaultScenic\"}, {\"speed\": 57.0, \"time\": 6.6, \"image\": \"RenaultScenic_57.MP4\", \"vehicle\": \"RenaultScenic\"}, {\"speed\": 60.0, \"time\": 6.12, \"image\": \"RenaultScenic_60.MP4\", \"vehicle\": \"RenaultScenic\"}, {\"speed\": 62.0, \"time\": 6.05, \"image\": \"RenaultScenic_62.MP4\", \"vehicle\": \"RenaultScenic\"}, {\"speed\": 64.0, \"time\": 5.76, \"image\": \"RenaultScenic_64.MP4\", \"vehicle\": \"RenaultScenic\"}, {\"speed\": 66.0, \"time\": 5.35, \"image\": \"RenaultScenic_66.MP4\", \"vehicle\": \"RenaultScenic\"}, {\"speed\": 68.0, \"time\": 6.57, \"image\": \"RenaultScenic_68.MP4\", \"vehicle\": \"RenaultScenic\"}, {\"speed\": 70.0, \"time\": 5.85, \"image\": \"RenaultScenic_70.MP4\", \"vehicle\": \"RenaultScenic\"}, {\"speed\": 71.0, \"time\": 5.99, \"image\": \"RenaultScenic_71.MP4\", \"vehicle\": \"RenaultScenic\"}, {\"speed\": 72.0, \"time\": 5.23, \"image\": \"RenaultScenic_72.MP4\", \"vehicle\": \"RenaultScenic\"}, {\"speed\": 74.0, \"time\": 5.7, \"image\": \"RenaultScenic_74.MP4\", \"vehicle\": \"RenaultScenic\"}, {\"speed\": 75.0, \"time\": 5.45, \"image\": \"RenaultScenic_75.MP4\", \"vehicle\": \"RenaultScenic\"}, {\"speed\": 77.0, \"time\": 7.32, \"image\": \"RenaultScenic_77.MP4\", \"vehicle\": \"RenaultScenic\"}, {\"speed\": 80.0, \"time\": 7.01, \"image\": \"RenaultScenic_80.MP4\", \"vehicle\": \"RenaultScenic\"}, {\"speed\": 82.0, \"time\": 6.06, \"image\": \"RenaultScenic_82.MP4\", \"vehicle\": \"RenaultScenic\"}, {\"speed\": 84.0, \"time\": 5.39, \"image\": \"RenaultScenic_84.MP4\", \"vehicle\": \"RenaultScenic\"}, {\"speed\": 86.0, \"time\": 5.65, \"image\": \"RenaultScenic_86.MP4\", \"vehicle\": \"RenaultScenic\"}, {\"speed\": 87.0, \"time\": 6.0, \"image\": \"RenaultScenic_87.MP4\", \"vehicle\": \"RenaultScenic\"}, {\"speed\": 90.0, \"time\": 5.09, \"image\": \"RenaultScenic_90.MP4\", \"vehicle\": \"RenaultScenic\"}, {\"speed\": 91.0, \"time\": 6.21, \"image\": \"RenaultScenic_91.MP4\", \"vehicle\": \"RenaultScenic\"}, {\"speed\": 94.0, \"time\": 6.18, \"image\": \"RenaultScenic_94.MP4\", \"vehicle\": \"RenaultScenic\"}, {\"speed\": 95.0, \"time\": 6.23, \"image\": \"RenaultScenic_95.MP4\", \"vehicle\": \"RenaultScenic\"}, {\"speed\": 98.0, \"time\": 5.38, \"image\": \"RenaultScenic_98.MP4\", \"vehicle\": \"RenaultScenic\"}, {\"speed\": 100.0, \"time\": 6.01, \"image\": \"VWPassat_100.MP4\", \"vehicle\": \"VWPassat\"}, {\"speed\": 30.0, \"time\": 6.46, \"image\": \"VWPassat_30.MP4\", \"vehicle\": \"VWPassat\"}, {\"speed\": 35.0, \"time\": 5.92, \"image\": \"VWPassat_35.MP4\", \"vehicle\": \"VWPassat\"}, {\"speed\": 39.0, \"time\": 5.27, \"image\": \"VWPassat_39.MP4\", \"vehicle\": \"VWPassat\"}, {\"speed\": 40.0, \"time\": 6.53, \"image\": \"VWPassat_40.MP4\", \"vehicle\": \"VWPassat\"}, {\"speed\": 42.0, \"time\": 6.72, \"image\": \"VWPassat_42.MP4\", \"vehicle\": \"VWPassat\"}, {\"speed\": 45.0, \"time\": 6.35, \"image\": \"VWPassat_45.MP4\", \"vehicle\": \"VWPassat\"}, {\"speed\": 47.0, \"time\": 5.25, \"image\": \"VWPassat_47.MP4\", \"vehicle\": \"VWPassat\"}, {\"speed\": 49.0, \"time\": 5.27, \"image\": \"VWPassat_49.MP4\", \"vehicle\": \"VWPassat\"}, {\"speed\": 50.0, \"time\": 6.0, \"image\": \"VWPassat_50.MP4\", \"vehicle\": \"VWPassat\"}, {\"speed\": 52.0, \"time\": 6.02, \"image\": \"VWPassat_52.MP4\", \"vehicle\": \"VWPassat\"}, {\"speed\": 54.0, \"time\": 5.54, \"image\": \"VWPassat_54.MP4\", \"vehicle\": \"VWPassat\"}, {\"speed\": 55.0, \"time\": 6.02, \"image\": \"VWPassat_55.MP4\", \"vehicle\": \"VWPassat\"}, {\"speed\": 57.0, \"time\": 4.98, \"image\": \"VWPassat_57.MP4\", \"vehicle\": \"VWPassat\"}, {\"speed\": 60.0, \"time\": 5.98, \"image\": \"VWPassat_60.MP4\", \"vehicle\": \"VWPassat\"}, {\"speed\": 61.0, \"time\": 6.01, \"image\": \"VWPassat_61.MP4\", \"vehicle\": \"VWPassat\"}, {\"speed\": 64.0, \"time\": 5.67, \"image\": \"VWPassat_64.MP4\", \"vehicle\": \"VWPassat\"}, {\"speed\": 65.0, \"time\": 5.82, \"image\": \"VWPassat_65.MP4\", \"vehicle\": \"VWPassat\"}, {\"speed\": 67.0, \"time\": 5.08, \"image\": \"VWPassat_67.MP4\", \"vehicle\": \"VWPassat\"}, {\"speed\": 70.0, \"time\": 6.0, \"image\": \"VWPassat_70.MP4\", \"vehicle\": \"VWPassat\"}, {\"speed\": 71.0, \"time\": 5.51, \"image\": \"VWPassat_71.MP4\", \"vehicle\": \"VWPassat\"}, {\"speed\": 72.0, \"time\": 5.42, \"image\": \"VWPassat_72.MP4\", \"vehicle\": \"VWPassat\"}, {\"speed\": 73.0, \"time\": 5.32, \"image\": \"VWPassat_73.MP4\", \"vehicle\": \"VWPassat\"}, {\"speed\": 75.0, \"time\": 6.02, \"image\": \"VWPassat_75.MP4\", \"vehicle\": \"VWPassat\"}, {\"speed\": 78.0, \"time\": 5.85, \"image\": \"VWPassat_78.MP4\", \"vehicle\": \"VWPassat\"}, {\"speed\": 80.0, \"time\": 5.99, \"image\": \"VWPassat_80.MP4\", \"vehicle\": \"VWPassat\"}, {\"speed\": 81.0, \"time\": 5.58, \"image\": \"VWPassat_81.MP4\", \"vehicle\": \"VWPassat\"}, {\"speed\": 82.0, \"time\": 5.62, \"image\": \"VWPassat_82.MP4\", \"vehicle\": \"VWPassat\"}, {\"speed\": 85.0, \"time\": 6.23, \"image\": \"VWPassat_85.MP4\", \"vehicle\": \"VWPassat\"}, {\"speed\": 88.0, \"time\": 7.31, \"image\": \"VWPassat_88.MP4\", \"vehicle\": \"VWPassat\"}, {\"speed\": 90.0, \"time\": 5.2, \"image\": \"VWPassat_90.MP4\", \"vehicle\": \"VWPassat\"}, {\"speed\": 91.0, \"time\": 5.45, \"image\": \"VWPassat_91.MP4\", \"vehicle\": \"VWPassat\"}, {\"speed\": 94.0, \"time\": 6.0, \"image\": \"VWPassat_94.MP4\", \"vehicle\": \"VWPassat\"}, {\"speed\": 96.0, \"time\": 5.72, \"image\": \"VWPassat_96.MP4\", \"vehicle\": \"VWPassat\"}, {\"speed\": 98.0, \"time\": 5.99, \"image\": \"VWPassat_98.MP4\", \"vehicle\": \"VWPassat\"}]}}, {\"mode\": \"vega-lite\"});\n",
       "</script>"
      ],
      "text/plain": [
       "alt.Chart(...)"
      ]
     },
     "execution_count": 7,
     "metadata": {},
     "output_type": "execute_result"
    }
   ],
   "source": [
    "alt.Chart(df_combined).mark_bar().encode(\n",
    "    x=alt.X('speed', bin=alt.Bin(maxbins=30), title='Velocidad (km/h)'),\n",
    "    y=alt.Y('count()', title='Contador'),\n",
    "    column=alt.Column('vehicle', title='vehicle')\n",
    ").properties(\n",
    "    width=150,\n",
    "    height=100,\n",
    "    title='Distribucion de velocidad por vehicle'\n",
    ")"
   ]
  },
  {
   "cell_type": "code",
   "execution_count": 8,
   "metadata": {
    "collapsed": false,
    "jupyter": {
     "outputs_hidden": false
    },
    "pycharm": {
     "name": "#%%\n"
    }
   },
   "outputs": [
    {
     "data": {
      "text/html": [
       "\n",
       "<style>\n",
       "  #altair-viz-0e34befd051845f5abf76f38c27ec09b.vega-embed {\n",
       "    width: 100%;\n",
       "    display: flex;\n",
       "  }\n",
       "\n",
       "  #altair-viz-0e34befd051845f5abf76f38c27ec09b.vega-embed details,\n",
       "  #altair-viz-0e34befd051845f5abf76f38c27ec09b.vega-embed details summary {\n",
       "    position: relative;\n",
       "  }\n",
       "</style>\n",
       "<div id=\"altair-viz-0e34befd051845f5abf76f38c27ec09b\"></div>\n",
       "<script type=\"text/javascript\">\n",
       "  var VEGA_DEBUG = (typeof VEGA_DEBUG == \"undefined\") ? {} : VEGA_DEBUG;\n",
       "  (function(spec, embedOpt){\n",
       "    let outputDiv = document.currentScript.previousElementSibling;\n",
       "    if (outputDiv.id !== \"altair-viz-0e34befd051845f5abf76f38c27ec09b\") {\n",
       "      outputDiv = document.getElementById(\"altair-viz-0e34befd051845f5abf76f38c27ec09b\");\n",
       "    }\n",
       "    const paths = {\n",
       "      \"vega\": \"https://cdn.jsdelivr.net/npm/vega@5?noext\",\n",
       "      \"vega-lib\": \"https://cdn.jsdelivr.net/npm/vega-lib?noext\",\n",
       "      \"vega-lite\": \"https://cdn.jsdelivr.net/npm/vega-lite@5.8.0?noext\",\n",
       "      \"vega-embed\": \"https://cdn.jsdelivr.net/npm/vega-embed@6?noext\",\n",
       "    };\n",
       "\n",
       "    function maybeLoadScript(lib, version) {\n",
       "      var key = `${lib.replace(\"-\", \"\")}_version`;\n",
       "      return (VEGA_DEBUG[key] == version) ?\n",
       "        Promise.resolve(paths[lib]) :\n",
       "        new Promise(function(resolve, reject) {\n",
       "          var s = document.createElement('script');\n",
       "          document.getElementsByTagName(\"head\")[0].appendChild(s);\n",
       "          s.async = true;\n",
       "          s.onload = () => {\n",
       "            VEGA_DEBUG[key] = version;\n",
       "            return resolve(paths[lib]);\n",
       "          };\n",
       "          s.onerror = () => reject(`Error loading script: ${paths[lib]}`);\n",
       "          s.src = paths[lib];\n",
       "        });\n",
       "    }\n",
       "\n",
       "    function showError(err) {\n",
       "      outputDiv.innerHTML = `<div class=\"error\" style=\"color:red;\">${err}</div>`;\n",
       "      throw err;\n",
       "    }\n",
       "\n",
       "    function displayChart(vegaEmbed) {\n",
       "      vegaEmbed(outputDiv, spec, embedOpt)\n",
       "        .catch(err => showError(`Javascript Error: ${err.message}<br>This usually means there's a typo in your chart specification. See the javascript console for the full traceback.`));\n",
       "    }\n",
       "\n",
       "    if(typeof define === \"function\" && define.amd) {\n",
       "      requirejs.config({paths});\n",
       "      require([\"vega-embed\"], displayChart, err => showError(`Error loading script: ${err.message}`));\n",
       "    } else {\n",
       "      maybeLoadScript(\"vega\", \"5\")\n",
       "        .then(() => maybeLoadScript(\"vega-lite\", \"5.8.0\"))\n",
       "        .then(() => maybeLoadScript(\"vega-embed\", \"6\"))\n",
       "        .catch(showError)\n",
       "        .then(() => displayChart(vegaEmbed));\n",
       "    }\n",
       "  })({\"config\": {\"view\": {\"continuousWidth\": 300, \"continuousHeight\": 300}}, \"data\": {\"name\": \"data-5d3be3fd43ab46cca79cf2374d1a4771\"}, \"mark\": {\"type\": \"bar\"}, \"encoding\": {\"x\": {\"bin\": {\"maxbins\": 5}, \"field\": \"speed\", \"title\": \"Velocidad (km/h)\", \"type\": \"quantitative\"}, \"y\": {\"aggregate\": \"count\", \"title\": \"Contador\", \"type\": \"quantitative\"}}, \"height\": 100, \"title\": \"Distribucion de velocidad\", \"width\": 150, \"$schema\": \"https://vega.github.io/schema/vega-lite/v5.8.0.json\", \"datasets\": {\"data-5d3be3fd43ab46cca79cf2374d1a4771\": [{\"speed\": 101.0, \"time\": 7.49, \"image\": \"CitroenC4Picasso_101.MP4\", \"vehicle\": \"CitroenC4Picasso\"}, {\"speed\": 35.0, \"time\": 6.25, \"image\": \"CitroenC4Picasso_35.MP4\", \"vehicle\": \"CitroenC4Picasso\"}, {\"speed\": 38.0, \"time\": 5.82, \"image\": \"CitroenC4Picasso_38.MP4\", \"vehicle\": \"CitroenC4Picasso\"}, {\"speed\": 41.0, \"time\": 6.16, \"image\": \"CitroenC4Picasso_41.MP4\", \"vehicle\": \"CitroenC4Picasso\"}, {\"speed\": 44.0, \"time\": 5.44, \"image\": \"CitroenC4Picasso_44.MP4\", \"vehicle\": \"CitroenC4Picasso\"}, {\"speed\": 48.0, \"time\": 6.03, \"image\": \"CitroenC4Picasso_48.MP4\", \"vehicle\": \"CitroenC4Picasso\"}, {\"speed\": 51.0, \"time\": 5.85, \"image\": \"CitroenC4Picasso_51.MP4\", \"vehicle\": \"CitroenC4Picasso\"}, {\"speed\": 54.0, \"time\": 5.65, \"image\": \"CitroenC4Picasso_54.MP4\", \"vehicle\": \"CitroenC4Picasso\"}, {\"speed\": 57.0, \"time\": 5.95, \"image\": \"CitroenC4Picasso_57.MP4\", \"vehicle\": \"CitroenC4Picasso\"}, {\"speed\": 59.0, \"time\": 5.85, \"image\": \"CitroenC4Picasso_59.MP4\", \"vehicle\": \"CitroenC4Picasso\"}, {\"speed\": 63.0, \"time\": 6.06, \"image\": \"CitroenC4Picasso_63.MP4\", \"vehicle\": \"CitroenC4Picasso\"}, {\"speed\": 65.0, \"time\": 5.66, \"image\": \"CitroenC4Picasso_65.MP4\", \"vehicle\": \"CitroenC4Picasso\"}, {\"speed\": 68.0, \"time\": 6.16, \"image\": \"CitroenC4Picasso_68.MP4\", \"vehicle\": \"CitroenC4Picasso\"}, {\"speed\": 72.0, \"time\": 5.75, \"image\": \"CitroenC4Picasso_72.MP4\", \"vehicle\": \"CitroenC4Picasso\"}, {\"speed\": 74.0, \"time\": 6.26, \"image\": \"CitroenC4Picasso_74.MP4\", \"vehicle\": \"CitroenC4Picasso\"}, {\"speed\": 78.0, \"time\": 6.14, \"image\": \"CitroenC4Picasso_78.MP4\", \"vehicle\": \"CitroenC4Picasso\"}, {\"speed\": 80.0, \"time\": 5.41, \"image\": \"CitroenC4Picasso_80.MP4\", \"vehicle\": \"CitroenC4Picasso\"}, {\"speed\": 83.0, \"time\": 6.63, \"image\": \"CitroenC4Picasso_83.MP4\", \"vehicle\": \"CitroenC4Picasso\"}, {\"speed\": 85.0, \"time\": 5.67, \"image\": \"CitroenC4Picasso_85.MP4\", \"vehicle\": \"CitroenC4Picasso\"}, {\"speed\": 87.0, \"time\": 6.19, \"image\": \"CitroenC4Picasso_87.MP4\", \"vehicle\": \"CitroenC4Picasso\"}, {\"speed\": 92.0, \"time\": 7.62, \"image\": \"CitroenC4Picasso_92.MP4\", \"vehicle\": \"CitroenC4Picasso\"}, {\"speed\": 94.0, \"time\": 6.79, \"image\": \"CitroenC4Picasso_94.MP4\", \"vehicle\": \"CitroenC4Picasso\"}, {\"speed\": 96.0, \"time\": 5.79, \"image\": \"CitroenC4Picasso_96.MP4\", \"vehicle\": \"CitroenC4Picasso\"}, {\"speed\": 100.0, \"time\": 4.98, \"image\": \"KiaSportage_100.MP4\", \"vehicle\": \"KiaSportage\"}, {\"speed\": 103.0, \"time\": 4.91, \"image\": \"KiaSportage_103.MP4\", \"vehicle\": \"KiaSportage\"}, {\"speed\": 105.0, \"time\": 4.98, \"image\": \"KiaSportage_105.MP4\", \"vehicle\": \"KiaSportage\"}, {\"speed\": 31.0, \"time\": 4.94, \"image\": \"KiaSportage_31.MP4\", \"vehicle\": \"KiaSportage\"}, {\"speed\": 33.0, \"time\": 4.91, \"image\": \"KiaSportage_33.MP4\", \"vehicle\": \"KiaSportage\"}, {\"speed\": 35.0, \"time\": 4.93, \"image\": \"KiaSportage_35.MP4\", \"vehicle\": \"KiaSportage\"}, {\"speed\": 38.0, \"time\": 5.05, \"image\": \"KiaSportage_38.MP4\", \"vehicle\": \"KiaSportage\"}, {\"speed\": 41.0, \"time\": 4.93, \"image\": \"KiaSportage_41.MP4\", \"vehicle\": \"KiaSportage\"}, {\"speed\": 44.0, \"time\": 5.02, \"image\": \"KiaSportage_44.MP4\", \"vehicle\": \"KiaSportage\"}, {\"speed\": 46.0, \"time\": 4.94, \"image\": \"KiaSportage_46.MP4\", \"vehicle\": \"KiaSportage\"}, {\"speed\": 48.0, \"time\": 4.96, \"image\": \"KiaSportage_48.MP4\", \"vehicle\": \"KiaSportage\"}, {\"speed\": 51.0, \"time\": 4.92, \"image\": \"KiaSportage_51.MP4\", \"vehicle\": \"KiaSportage\"}, {\"speed\": 53.0, \"time\": 4.97, \"image\": \"KiaSportage_53.MP4\", \"vehicle\": \"KiaSportage\"}, {\"speed\": 55.0, \"time\": 4.95, \"image\": \"KiaSportage_55.MP4\", \"vehicle\": \"KiaSportage\"}, {\"speed\": 58.0, \"time\": 4.92, \"image\": \"KiaSportage_58.MP4\", \"vehicle\": \"KiaSportage\"}, {\"speed\": 61.0, \"time\": 4.96, \"image\": \"KiaSportage_61.MP4\", \"vehicle\": \"KiaSportage\"}, {\"speed\": 63.0, \"time\": 5.0, \"image\": \"KiaSportage_63.MP4\", \"vehicle\": \"KiaSportage\"}, {\"speed\": 65.0, \"time\": 4.93, \"image\": \"KiaSportage_65.MP4\", \"vehicle\": \"KiaSportage\"}, {\"speed\": 68.0, \"time\": 4.96, \"image\": \"KiaSportage_68.MP4\", \"vehicle\": \"KiaSportage\"}, {\"speed\": 69.0, \"time\": 4.94, \"image\": \"KiaSportage_69.MP4\", \"vehicle\": \"KiaSportage\"}, {\"speed\": 72.0, \"time\": 4.95, \"image\": \"KiaSportage_72.MP4\", \"vehicle\": \"KiaSportage\"}, {\"speed\": 74.0, \"time\": 4.94, \"image\": \"KiaSportage_74.MP4\", \"vehicle\": \"KiaSportage\"}, {\"speed\": 77.0, \"time\": 5.02, \"image\": \"KiaSportage_77.MP4\", \"vehicle\": \"KiaSportage\"}, {\"speed\": 78.0, \"time\": 4.95, \"image\": \"KiaSportage_78.MP4\", \"vehicle\": \"KiaSportage\"}, {\"speed\": 80.0, \"time\": 4.94, \"image\": \"KiaSportage_80.MP4\", \"vehicle\": \"KiaSportage\"}, {\"speed\": 83.0, \"time\": 4.95, \"image\": \"KiaSportage_83.MP4\", \"vehicle\": \"KiaSportage\"}, {\"speed\": 85.0, \"time\": 4.95, \"image\": \"KiaSportage_85.MP4\", \"vehicle\": \"KiaSportage\"}, {\"speed\": 86.0, \"time\": 4.92, \"image\": \"KiaSportage_86.MP4\", \"vehicle\": \"KiaSportage\"}, {\"speed\": 89.0, \"time\": 4.98, \"image\": \"KiaSportage_89.MP4\", \"vehicle\": \"KiaSportage\"}, {\"speed\": 91.0, \"time\": 4.95, \"image\": \"KiaSportage_91.MP4\", \"vehicle\": \"KiaSportage\"}, {\"speed\": 93.0, \"time\": 4.98, \"image\": \"KiaSportage_93.MP4\", \"vehicle\": \"KiaSportage\"}, {\"speed\": 96.0, \"time\": 4.91, \"image\": \"KiaSportage_96.MP4\", \"vehicle\": \"KiaSportage\"}, {\"speed\": 98.0, \"time\": 4.92, \"image\": \"KiaSportage_98.MP4\", \"vehicle\": \"KiaSportage\"}, {\"speed\": 101.0, \"time\": 5.04, \"image\": \"Mazda3_101.MP4\", \"vehicle\": \"Mazda3\"}, {\"speed\": 103.0, \"time\": 5.07, \"image\": \"Mazda3_103.MP4\", \"vehicle\": \"Mazda3\"}, {\"speed\": 105.0, \"time\": 4.99, \"image\": \"Mazda3_105.MP4\", \"vehicle\": \"Mazda3\"}, {\"speed\": 30.0, \"time\": 5.23, \"image\": \"Mazda3_30.MP4\", \"vehicle\": \"Mazda3\"}, {\"speed\": 33.0, \"time\": 5.08, \"image\": \"Mazda3_33.MP4\", \"vehicle\": \"Mazda3\"}, {\"speed\": 35.0, \"time\": 5.12, \"image\": \"Mazda3_35.MP4\", \"vehicle\": \"Mazda3\"}, {\"speed\": 38.0, \"time\": 5.15, \"image\": \"Mazda3_38.MP4\", \"vehicle\": \"Mazda3\"}, {\"speed\": 40.0, \"time\": 5.02, \"image\": \"Mazda3_40.MP4\", \"vehicle\": \"Mazda3\"}, {\"speed\": 43.0, \"time\": 5.02, \"image\": \"Mazda3_43.MP4\", \"vehicle\": \"Mazda3\"}, {\"speed\": 45.0, \"time\": 5.31, \"image\": \"Mazda3_45.MP4\", \"vehicle\": \"Mazda3\"}, {\"speed\": 47.0, \"time\": 5.42, \"image\": \"Mazda3_47.MP4\", \"vehicle\": \"Mazda3\"}, {\"speed\": 50.0, \"time\": 5.62, \"image\": \"Mazda3_50.MP4\", \"vehicle\": \"Mazda3\"}, {\"speed\": 52.0, \"time\": 5.15, \"image\": \"Mazda3_52.MP4\", \"vehicle\": \"Mazda3\"}, {\"speed\": 55.0, \"time\": 5.68, \"image\": \"Mazda3_55.MP4\", \"vehicle\": \"Mazda3\"}, {\"speed\": 57.0, \"time\": 5.08, \"image\": \"Mazda3_57.MP4\", \"vehicle\": \"Mazda3\"}, {\"speed\": 60.0, \"time\": 5.09, \"image\": \"Mazda3_60.MP4\", \"vehicle\": \"Mazda3\"}, {\"speed\": 62.0, \"time\": 5.25, \"image\": \"Mazda3_62.MP4\", \"vehicle\": \"Mazda3\"}, {\"speed\": 64.0, \"time\": 5.02, \"image\": \"Mazda3_64.MP4\", \"vehicle\": \"Mazda3\"}, {\"speed\": 67.0, \"time\": 5.65, \"image\": \"Mazda3_67.MP4\", \"vehicle\": \"Mazda3\"}, {\"speed\": 70.0, \"time\": 5.05, \"image\": \"Mazda3_70.MP4\", \"vehicle\": \"Mazda3\"}, {\"speed\": 72.0, \"time\": 5.16, \"image\": \"Mazda3_72.MP4\", \"vehicle\": \"Mazda3\"}, {\"speed\": 75.0, \"time\": 5.02, \"image\": \"Mazda3_75.MP4\", \"vehicle\": \"Mazda3\"}, {\"speed\": 79.0, \"time\": 5.05, \"image\": \"Mazda3_79.MP4\", \"vehicle\": \"Mazda3\"}, {\"speed\": 81.0, \"time\": 5.22, \"image\": \"Mazda3_81.MP4\", \"vehicle\": \"Mazda3\"}, {\"speed\": 84.0, \"time\": 5.08, \"image\": \"Mazda3_84.MP4\", \"vehicle\": \"Mazda3\"}, {\"speed\": 86.0, \"time\": 5.19, \"image\": \"Mazda3_86.MP4\", \"vehicle\": \"Mazda3\"}, {\"speed\": 88.0, \"time\": 5.09, \"image\": \"Mazda3_88.MP4\", \"vehicle\": \"Mazda3\"}, {\"speed\": 90.0, \"time\": 5.11, \"image\": \"Mazda3_90.MP4\", \"vehicle\": \"Mazda3\"}, {\"speed\": 92.0, \"time\": 5.22, \"image\": \"Mazda3_92.MP4\", \"vehicle\": \"Mazda3\"}, {\"speed\": 94.0, \"time\": 5.04, \"image\": \"Mazda3_94.MP4\", \"vehicle\": \"Mazda3\"}, {\"speed\": 96.0, \"time\": 5.02, \"image\": \"Mazda3_96.MP4\", \"vehicle\": \"Mazda3\"}, {\"speed\": 99.0, \"time\": 4.98, \"image\": \"Mazda3_99.MP4\", \"vehicle\": \"Mazda3\"}, {\"speed\": 100.0, \"time\": 4.94, \"image\": \"MercedesAMG550_100.MP4\", \"vehicle\": \"MercedesAMG550\"}, {\"speed\": 105.0, \"time\": 4.45, \"image\": \"MercedesAMG550_105.MP4\", \"vehicle\": \"MercedesAMG550\"}, {\"speed\": 30.0, \"time\": 5.07, \"image\": \"MercedesAMG550_30.MP4\", \"vehicle\": \"MercedesAMG550\"}, {\"speed\": 33.0, \"time\": 5.68, \"image\": \"MercedesAMG550_33.MP4\", \"vehicle\": \"MercedesAMG550\"}, {\"speed\": 35.0, \"time\": 5.99, \"image\": \"MercedesAMG550_35.MP4\", \"vehicle\": \"MercedesAMG550\"}, {\"speed\": 38.0, \"time\": 5.88, \"image\": \"MercedesAMG550_38.MP4\", \"vehicle\": \"MercedesAMG550\"}, {\"speed\": 40.0, \"time\": 5.13, \"image\": \"MercedesAMG550_40.MP4\", \"vehicle\": \"MercedesAMG550\"}, {\"speed\": 42.0, \"time\": 6.28, \"image\": \"MercedesAMG550_42.MP4\", \"vehicle\": \"MercedesAMG550\"}, {\"speed\": 45.0, \"time\": 5.06, \"image\": \"MercedesAMG550_45.MP4\", \"vehicle\": \"MercedesAMG550\"}, {\"speed\": 47.0, \"time\": 5.67, \"image\": \"MercedesAMG550_47.MP4\", \"vehicle\": \"MercedesAMG550\"}, {\"speed\": 50.0, \"time\": 5.19, \"image\": \"MercedesAMG550_50.MP4\", \"vehicle\": \"MercedesAMG550\"}, {\"speed\": 52.0, \"time\": 5.89, \"image\": \"MercedesAMG550_52.MP4\", \"vehicle\": \"MercedesAMG550\"}, {\"speed\": 55.0, \"time\": 5.07, \"image\": \"MercedesAMG550_55.MP4\", \"vehicle\": \"MercedesAMG550\"}, {\"speed\": 58.0, \"time\": 5.65, \"image\": \"MercedesAMG550_58.MP4\", \"vehicle\": \"MercedesAMG550\"}, {\"speed\": 60.0, \"time\": 5.25, \"image\": \"MercedesAMG550_60.MP4\", \"vehicle\": \"MercedesAMG550\"}, {\"speed\": 62.0, \"time\": 5.38, \"image\": \"MercedesAMG550_62.MP4\", \"vehicle\": \"MercedesAMG550\"}, {\"speed\": 65.0, \"time\": 7.04, \"image\": \"MercedesAMG550_65.MP4\", \"vehicle\": \"MercedesAMG550\"}, {\"speed\": 67.0, \"time\": 5.76, \"image\": \"MercedesAMG550_67.MP4\", \"vehicle\": \"MercedesAMG550\"}, {\"speed\": 70.0, \"time\": 4.83, \"image\": \"MercedesAMG550_70.MP4\", \"vehicle\": \"MercedesAMG550\"}, {\"speed\": 73.0, \"time\": 5.63, \"image\": \"MercedesAMG550_73.MP4\", \"vehicle\": \"MercedesAMG550\"}, {\"speed\": 75.0, \"time\": 5.11, \"image\": \"MercedesAMG550_75.MP4\", \"vehicle\": \"MercedesAMG550\"}, {\"speed\": 78.0, \"time\": 6.11, \"image\": \"MercedesAMG550_78.MP4\", \"vehicle\": \"MercedesAMG550\"}, {\"speed\": 80.0, \"time\": 4.9, \"image\": \"MercedesAMG550_80.MP4\", \"vehicle\": \"MercedesAMG550\"}, {\"speed\": 82.0, \"time\": 5.82, \"image\": \"MercedesAMG550_82.MP4\", \"vehicle\": \"MercedesAMG550\"}, {\"speed\": 85.0, \"time\": 4.84, \"image\": \"MercedesAMG550_85.MP4\", \"vehicle\": \"MercedesAMG550\"}, {\"speed\": 87.0, \"time\": 5.41, \"image\": \"MercedesAMG550_87.MP4\", \"vehicle\": \"MercedesAMG550\"}, {\"speed\": 90.0, \"time\": 6.0, \"image\": \"MercedesAMG550_90.MP4\", \"vehicle\": \"MercedesAMG550\"}, {\"speed\": 93.0, \"time\": 5.68, \"image\": \"MercedesAMG550_93.MP4\", \"vehicle\": \"MercedesAMG550\"}, {\"speed\": 95.0, \"time\": 5.0, \"image\": \"MercedesAMG550_95.MP4\", \"vehicle\": \"MercedesAMG550\"}, {\"speed\": 98.0, \"time\": 5.44, \"image\": \"MercedesAMG550_98.MP4\", \"vehicle\": \"MercedesAMG550\"}, {\"speed\": 100.0, \"time\": 5.0, \"image\": \"MercedesGLA_100.MP4\", \"vehicle\": \"MercedesGLA\"}, {\"speed\": 101.0, \"time\": 5.01, \"image\": \"MercedesGLA_101.MP4\", \"vehicle\": \"MercedesGLA\"}, {\"speed\": 103.0, \"time\": 5.01, \"image\": \"MercedesGLA_103.MP4\", \"vehicle\": \"MercedesGLA\"}, {\"speed\": 104.0, \"time\": 5.01, \"image\": \"MercedesGLA_104.MP4\", \"vehicle\": \"MercedesGLA\"}, {\"speed\": 30.0, \"time\": 4.99, \"image\": \"MercedesGLA_30.MP4\", \"vehicle\": \"MercedesGLA\"}, {\"speed\": 33.0, \"time\": 4.98, \"image\": \"MercedesGLA_33.MP4\", \"vehicle\": \"MercedesGLA\"}, {\"speed\": 36.0, \"time\": 4.99, \"image\": \"MercedesGLA_36.MP4\", \"vehicle\": \"MercedesGLA\"}, {\"speed\": 39.0, \"time\": 5.0, \"image\": \"MercedesGLA_39.MP4\", \"vehicle\": \"MercedesGLA\"}, {\"speed\": 41.0, \"time\": 4.99, \"image\": \"MercedesGLA_41.MP4\", \"vehicle\": \"MercedesGLA\"}, {\"speed\": 42.0, \"time\": 5.0, \"image\": \"MercedesGLA_42.MP4\", \"vehicle\": \"MercedesGLA\"}, {\"speed\": 45.0, \"time\": 5.02, \"image\": \"MercedesGLA_45.MP4\", \"vehicle\": \"MercedesGLA\"}, {\"speed\": 47.0, \"time\": 5.0, \"image\": \"MercedesGLA_47.MP4\", \"vehicle\": \"MercedesGLA\"}, {\"speed\": 48.0, \"time\": 5.0, \"image\": \"MercedesGLA_48.MP4\", \"vehicle\": \"MercedesGLA\"}, {\"speed\": 49.0, \"time\": 5.01, \"image\": \"MercedesGLA_49.MP4\", \"vehicle\": \"MercedesGLA\"}, {\"speed\": 52.0, \"time\": 5.0, \"image\": \"MercedesGLA_52.MP4\", \"vehicle\": \"MercedesGLA\"}, {\"speed\": 54.0, \"time\": 5.0, \"image\": \"MercedesGLA_54.MP4\", \"vehicle\": \"MercedesGLA\"}, {\"speed\": 55.0, \"time\": 4.99, \"image\": \"MercedesGLA_55.MP4\", \"vehicle\": \"MercedesGLA\"}, {\"speed\": 59.0, \"time\": 5.01, \"image\": \"MercedesGLA_59.MP4\", \"vehicle\": \"MercedesGLA\"}, {\"speed\": 61.0, \"time\": 5.08, \"image\": \"MercedesGLA_61.MP4\", \"vehicle\": \"MercedesGLA\"}, {\"speed\": 63.0, \"time\": 4.99, \"image\": \"MercedesGLA_63.MP4\", \"vehicle\": \"MercedesGLA\"}, {\"speed\": 65.0, \"time\": 4.99, \"image\": \"MercedesGLA_65.MP4\", \"vehicle\": \"MercedesGLA\"}, {\"speed\": 68.0, \"time\": 4.99, \"image\": \"MercedesGLA_68.MP4\", \"vehicle\": \"MercedesGLA\"}, {\"speed\": 70.0, \"time\": 5.01, \"image\": \"MercedesGLA_70.MP4\", \"vehicle\": \"MercedesGLA\"}, {\"speed\": 72.0, \"time\": 5.0, \"image\": \"MercedesGLA_72.MP4\", \"vehicle\": \"MercedesGLA\"}, {\"speed\": 75.0, \"time\": 5.0, \"image\": \"MercedesGLA_75.MP4\", \"vehicle\": \"MercedesGLA\"}, {\"speed\": 78.0, \"time\": 5.0, \"image\": \"MercedesGLA_78.MP4\", \"vehicle\": \"MercedesGLA\"}, {\"speed\": 81.0, \"time\": 5.01, \"image\": \"MercedesGLA_81.MP4\", \"vehicle\": \"MercedesGLA\"}, {\"speed\": 83.0, \"time\": 5.01, \"image\": \"MercedesGLA_83.MP4\", \"vehicle\": \"MercedesGLA\"}, {\"speed\": 85.0, \"time\": 5.01, \"image\": \"MercedesGLA_85.MP4\", \"vehicle\": \"MercedesGLA\"}, {\"speed\": 88.0, \"time\": 4.99, \"image\": \"MercedesGLA_88.MP4\", \"vehicle\": \"MercedesGLA\"}, {\"speed\": 90.0, \"time\": 5.1, \"image\": \"MercedesGLA_90.MP4\", \"vehicle\": \"MercedesGLA\"}, {\"speed\": 92.0, \"time\": 5.01, \"image\": \"MercedesGLA_92.MP4\", \"vehicle\": \"MercedesGLA\"}, {\"speed\": 93.0, \"time\": 4.99, \"image\": \"MercedesGLA_93.MP4\", \"vehicle\": \"MercedesGLA\"}, {\"speed\": 96.0, \"time\": 5.0, \"image\": \"MercedesGLA_96.MP4\", \"vehicle\": \"MercedesGLA\"}, {\"speed\": 102.0, \"time\": 5.62, \"image\": \"NissanQashqai_102.MP4\", \"vehicle\": \"NissanQashqai\"}, {\"speed\": 35.0, \"time\": 6.1, \"image\": \"NissanQashqai_35.MP4\", \"vehicle\": \"NissanQashqai\"}, {\"speed\": 38.0, \"time\": 6.19, \"image\": \"NissanQashqai_38.MP4\", \"vehicle\": \"NissanQashqai\"}, {\"speed\": 40.0, \"time\": 5.21, \"image\": \"NissanQashqai_40.MP4\", \"vehicle\": \"NissanQashqai\"}, {\"speed\": 42.0, \"time\": 5.14, \"image\": \"NissanQashqai_42.MP4\", \"vehicle\": \"NissanQashqai\"}, {\"speed\": 45.0, \"time\": 6.01, \"image\": \"NissanQashqai_45.MP4\", \"vehicle\": \"NissanQashqai\"}, {\"speed\": 48.0, \"time\": 5.21, \"image\": \"NissanQashqai_48.MP4\", \"vehicle\": \"NissanQashqai\"}, {\"speed\": 50.0, \"time\": 5.85, \"image\": \"NissanQashqai_50.MP4\", \"vehicle\": \"NissanQashqai\"}, {\"speed\": 53.0, \"time\": 5.99, \"image\": \"NissanQashqai_53.MP4\", \"vehicle\": \"NissanQashqai\"}, {\"speed\": 55.0, \"time\": 5.9, \"image\": \"NissanQashqai_55.MP4\", \"vehicle\": \"NissanQashqai\"}, {\"speed\": 58.0, \"time\": 5.61, \"image\": \"NissanQashqai_58.MP4\", \"vehicle\": \"NissanQashqai\"}, {\"speed\": 60.0, \"time\": 5.58, \"image\": \"NissanQashqai_60.MP4\", \"vehicle\": \"NissanQashqai\"}, {\"speed\": 61.0, \"time\": 6.08, \"image\": \"NissanQashqai_61.MP4\", \"vehicle\": \"NissanQashqai\"}, {\"speed\": 64.0, \"time\": 5.92, \"image\": \"NissanQashqai_64.MP4\", \"vehicle\": \"NissanQashqai\"}, {\"speed\": 65.0, \"time\": 5.58, \"image\": \"NissanQashqai_65.MP4\", \"vehicle\": \"NissanQashqai\"}, {\"speed\": 68.0, \"time\": 5.98, \"image\": \"NissanQashqai_68.MP4\", \"vehicle\": \"NissanQashqai\"}, {\"speed\": 70.0, \"time\": 6.04, \"image\": \"NissanQashqai_70.MP4\", \"vehicle\": \"NissanQashqai\"}, {\"speed\": 73.0, \"time\": 6.14, \"image\": \"NissanQashqai_73.MP4\", \"vehicle\": \"NissanQashqai\"}, {\"speed\": 75.0, \"time\": 6.01, \"image\": \"NissanQashqai_75.MP4\", \"vehicle\": \"NissanQashqai\"}, {\"speed\": 78.0, \"time\": 5.9, \"image\": \"NissanQashqai_78.MP4\", \"vehicle\": \"NissanQashqai\"}, {\"speed\": 80.0, \"time\": 5.79, \"image\": \"NissanQashqai_80.MP4\", \"vehicle\": \"NissanQashqai\"}, {\"speed\": 82.0, \"time\": 5.72, \"image\": \"NissanQashqai_82.MP4\", \"vehicle\": \"NissanQashqai\"}, {\"speed\": 85.0, \"time\": 5.91, \"image\": \"NissanQashqai_85.MP4\", \"vehicle\": \"NissanQashqai\"}, {\"speed\": 88.0, \"time\": 6.13, \"image\": \"NissanQashqai_88.MP4\", \"vehicle\": \"NissanQashqai\"}, {\"speed\": 90.0, \"time\": 5.52, \"image\": \"NissanQashqai_90.MP4\", \"vehicle\": \"NissanQashqai\"}, {\"speed\": 93.0, \"time\": 5.79, \"image\": \"NissanQashqai_93.MP4\", \"vehicle\": \"NissanQashqai\"}, {\"speed\": 94.0, \"time\": 5.28, \"image\": \"NissanQashqai_94.MP4\", \"vehicle\": \"NissanQashqai\"}, {\"speed\": 96.0, \"time\": 5.58, \"image\": \"NissanQashqai_96.MP4\", \"vehicle\": \"NissanQashqai\"}, {\"speed\": 98.0, \"time\": 5.38, \"image\": \"NissanQashqai_98.MP4\", \"vehicle\": \"NissanQashqai\"}, {\"speed\": 100.0, \"time\": 5.02, \"image\": \"OpelInsignia_100.MP4\", \"vehicle\": \"OpelInsignia\"}, {\"speed\": 31.0, \"time\": 6.05, \"image\": \"OpelInsignia_31.MP4\", \"vehicle\": \"OpelInsignia\"}, {\"speed\": 35.0, \"time\": 5.92, \"image\": \"OpelInsignia_35.MP4\", \"vehicle\": \"OpelInsignia\"}, {\"speed\": 38.0, \"time\": 6.68, \"image\": \"OpelInsignia_38.MP4\", \"vehicle\": \"OpelInsignia\"}, {\"speed\": 41.0, \"time\": 6.51, \"image\": \"OpelInsignia_41.MP4\", \"vehicle\": \"OpelInsignia\"}, {\"speed\": 44.0, \"time\": 5.92, \"image\": \"OpelInsignia_44.MP4\", \"vehicle\": \"OpelInsignia\"}, {\"speed\": 47.0, \"time\": 5.91, \"image\": \"OpelInsignia_47.MP4\", \"vehicle\": \"OpelInsignia\"}, {\"speed\": 50.0, \"time\": 6.42, \"image\": \"OpelInsignia_50.MP4\", \"vehicle\": \"OpelInsignia\"}, {\"speed\": 53.0, \"time\": 5.71, \"image\": \"OpelInsignia_53.MP4\", \"vehicle\": \"OpelInsignia\"}, {\"speed\": 55.0, \"time\": 5.51, \"image\": \"OpelInsignia_55.MP4\", \"vehicle\": \"OpelInsignia\"}, {\"speed\": 58.0, \"time\": 5.48, \"image\": \"OpelInsignia_58.MP4\", \"vehicle\": \"OpelInsignia\"}, {\"speed\": 61.0, \"time\": 5.54, \"image\": \"OpelInsignia_61.MP4\", \"vehicle\": \"OpelInsignia\"}, {\"speed\": 64.0, \"time\": 5.74, \"image\": \"OpelInsignia_64.MP4\", \"vehicle\": \"OpelInsignia\"}, {\"speed\": 66.0, \"time\": 5.35, \"image\": \"OpelInsignia_66.MP4\", \"vehicle\": \"OpelInsignia\"}, {\"speed\": 68.0, \"time\": 5.25, \"image\": \"OpelInsignia_68.MP4\", \"vehicle\": \"OpelInsignia\"}, {\"speed\": 70.0, \"time\": 5.91, \"image\": \"OpelInsignia_70.MP4\", \"vehicle\": \"OpelInsignia\"}, {\"speed\": 72.0, \"time\": 6.09, \"image\": \"OpelInsignia_72.MP4\", \"vehicle\": \"OpelInsignia\"}, {\"speed\": 73.0, \"time\": 5.39, \"image\": \"OpelInsignia_73.MP4\", \"vehicle\": \"OpelInsignia\"}, {\"speed\": 76.0, \"time\": 6.22, \"image\": \"OpelInsignia_76.MP4\", \"vehicle\": \"OpelInsignia\"}, {\"speed\": 78.0, \"time\": 5.21, \"image\": \"OpelInsignia_78.MP4\", \"vehicle\": \"OpelInsignia\"}, {\"speed\": 80.0, \"time\": 6.24, \"image\": \"OpelInsignia_80.MP4\", \"vehicle\": \"OpelInsignia\"}, {\"speed\": 83.0, \"time\": 6.02, \"image\": \"OpelInsignia_83.MP4\", \"vehicle\": \"OpelInsignia\"}, {\"speed\": 86.0, \"time\": 5.51, \"image\": \"OpelInsignia_86.MP4\", \"vehicle\": \"OpelInsignia\"}, {\"speed\": 89.0, \"time\": 5.59, \"image\": \"OpelInsignia_89.MP4\", \"vehicle\": \"OpelInsignia\"}, {\"speed\": 91.0, \"time\": 5.38, \"image\": \"OpelInsignia_91.MP4\", \"vehicle\": \"OpelInsignia\"}, {\"speed\": 94.0, \"time\": 5.81, \"image\": \"OpelInsignia_94.MP4\", \"vehicle\": \"OpelInsignia\"}, {\"speed\": 97.0, \"time\": 5.72, \"image\": \"OpelInsignia_97.MP4\", \"vehicle\": \"OpelInsignia\"}, {\"speed\": 30.0, \"time\": 5.14, \"image\": \"Peugeot208_30.MP4\", \"vehicle\": \"Peugeot208\"}, {\"speed\": 32.0, \"time\": 5.04, \"image\": \"Peugeot208_32.MP4\", \"vehicle\": \"Peugeot208\"}, {\"speed\": 34.0, \"time\": 5.04, \"image\": \"Peugeot208_34.MP4\", \"vehicle\": \"Peugeot208\"}, {\"speed\": 37.0, \"time\": 5.15, \"image\": \"Peugeot208_37.MP4\", \"vehicle\": \"Peugeot208\"}, {\"speed\": 40.0, \"time\": 5.14, \"image\": \"Peugeot208_40.MP4\", \"vehicle\": \"Peugeot208\"}, {\"speed\": 43.0, \"time\": 5.1, \"image\": \"Peugeot208_43.MP4\", \"vehicle\": \"Peugeot208\"}, {\"speed\": 45.0, \"time\": 5.12, \"image\": \"Peugeot208_45.MP4\", \"vehicle\": \"Peugeot208\"}, {\"speed\": 47.0, \"time\": 5.02, \"image\": \"Peugeot208_47.MP4\", \"vehicle\": \"Peugeot208\"}, {\"speed\": 50.0, \"time\": 4.93, \"image\": \"Peugeot208_50.MP4\", \"vehicle\": \"Peugeot208\"}, {\"speed\": 51.0, \"time\": 5.52, \"image\": \"Peugeot208_51.MP4\", \"vehicle\": \"Peugeot208\"}, {\"speed\": 54.0, \"time\": 5.17, \"image\": \"Peugeot208_54.MP4\", \"vehicle\": \"Peugeot208\"}, {\"speed\": 57.0, \"time\": 5.51, \"image\": \"Peugeot208_57.MP4\", \"vehicle\": \"Peugeot208\"}, {\"speed\": 60.0, \"time\": 5.06, \"image\": \"Peugeot208_60.MP4\", \"vehicle\": \"Peugeot208\"}, {\"speed\": 62.0, \"time\": 5.09, \"image\": \"Peugeot208_62.MP4\", \"vehicle\": \"Peugeot208\"}, {\"speed\": 64.0, \"time\": 5.22, \"image\": \"Peugeot208_64.MP4\", \"vehicle\": \"Peugeot208\"}, {\"speed\": 67.0, \"time\": 5.03, \"image\": \"Peugeot208_67.MP4\", \"vehicle\": \"Peugeot208\"}, {\"speed\": 68.0, \"time\": 5.18, \"image\": \"Peugeot208_68.MP4\", \"vehicle\": \"Peugeot208\"}, {\"speed\": 71.0, \"time\": 5.16, \"image\": \"Peugeot208_71.MP4\", \"vehicle\": \"Peugeot208\"}, {\"speed\": 73.0, \"time\": 4.99, \"image\": \"Peugeot208_73.MP4\", \"vehicle\": \"Peugeot208\"}, {\"speed\": 76.0, \"time\": 5.61, \"image\": \"Peugeot208_76.MP4\", \"vehicle\": \"Peugeot208\"}, {\"speed\": 77.0, \"time\": 6.26, \"image\": \"Peugeot208_77.MP4\", \"vehicle\": \"Peugeot208\"}, {\"speed\": 79.0, \"time\": 5.22, \"image\": \"Peugeot208_79.MP4\", \"vehicle\": \"Peugeot208\"}, {\"speed\": 82.0, \"time\": 5.17, \"image\": \"Peugeot208_82.MP4\", \"vehicle\": \"Peugeot208\"}, {\"speed\": 84.0, \"time\": 5.12, \"image\": \"Peugeot208_84.MP4\", \"vehicle\": \"Peugeot208\"}, {\"speed\": 87.0, \"time\": 5.48, \"image\": \"Peugeot208_87.MP4\", \"vehicle\": \"Peugeot208\"}, {\"speed\": 90.0, \"time\": 5.18, \"image\": \"Peugeot208_90.MP4\", \"vehicle\": \"Peugeot208\"}, {\"speed\": 92.0, \"time\": 5.48, \"image\": \"Peugeot208_92.MP4\", \"vehicle\": \"Peugeot208\"}, {\"speed\": 95.0, \"time\": 5.59, \"image\": \"Peugeot208_95.MP4\", \"vehicle\": \"Peugeot208\"}, {\"speed\": 96.0, \"time\": 5.43, \"image\": \"Peugeot208_96.MP4\", \"vehicle\": \"Peugeot208\"}, {\"speed\": 100.0, \"time\": 5.5, \"image\": \"Peugeot3008_100.MP4\", \"vehicle\": \"Peugeot3008\"}, {\"speed\": 40.0, \"time\": 6.01, \"image\": \"Peugeot3008_40.MP4\", \"vehicle\": \"Peugeot3008\"}, {\"speed\": 43.0, \"time\": 4.93, \"image\": \"Peugeot3008_43.MP4\", \"vehicle\": \"Peugeot3008\"}, {\"speed\": 45.0, \"time\": 6.0, \"image\": \"Peugeot3008_45.MP4\", \"vehicle\": \"Peugeot3008\"}, {\"speed\": 47.0, \"time\": 5.89, \"image\": \"Peugeot3008_47.MP4\", \"vehicle\": \"Peugeot3008\"}, {\"speed\": 50.0, \"time\": 5.99, \"image\": \"Peugeot3008_50.MP4\", \"vehicle\": \"Peugeot3008\"}, {\"speed\": 52.0, \"time\": 6.86, \"image\": \"Peugeot3008_52.MP4\", \"vehicle\": \"Peugeot3008\"}, {\"speed\": 54.0, \"time\": 5.84, \"image\": \"Peugeot3008_54.MP4\", \"vehicle\": \"Peugeot3008\"}, {\"speed\": 55.0, \"time\": 6.02, \"image\": \"Peugeot3008_55.MP4\", \"vehicle\": \"Peugeot3008\"}, {\"speed\": 56.0, \"time\": 5.71, \"image\": \"Peugeot3008_56.MP4\", \"vehicle\": \"Peugeot3008\"}, {\"speed\": 58.0, \"time\": 4.89, \"image\": \"Peugeot3008_58.MP4\", \"vehicle\": \"Peugeot3008\"}, {\"speed\": 60.0, \"time\": 5.99, \"image\": \"Peugeot3008_60.MP4\", \"vehicle\": \"Peugeot3008\"}, {\"speed\": 61.0, \"time\": 5.43, \"image\": \"Peugeot3008_61.MP4\", \"vehicle\": \"Peugeot3008\"}, {\"speed\": 63.0, \"time\": 7.22, \"image\": \"Peugeot3008_63.MP4\", \"vehicle\": \"Peugeot3008\"}, {\"speed\": 65.0, \"time\": 6.0, \"image\": \"Peugeot3008_65.MP4\", \"vehicle\": \"Peugeot3008\"}, {\"speed\": 67.0, \"time\": 5.69, \"image\": \"Peugeot3008_67.MP4\", \"vehicle\": \"Peugeot3008\"}, {\"speed\": 68.0, \"time\": 5.97, \"image\": \"Peugeot3008_68.MP4\", \"vehicle\": \"Peugeot3008\"}, {\"speed\": 70.0, \"time\": 6.0, \"image\": \"Peugeot3008_70.MP4\", \"vehicle\": \"Peugeot3008\"}, {\"speed\": 72.0, \"time\": 5.53, \"image\": \"Peugeot3008_72.MP4\", \"vehicle\": \"Peugeot3008\"}, {\"speed\": 74.0, \"time\": 5.88, \"image\": \"Peugeot3008_74.MP4\", \"vehicle\": \"Peugeot3008\"}, {\"speed\": 75.0, \"time\": 6.09, \"image\": \"Peugeot3008_75.MP4\", \"vehicle\": \"Peugeot3008\"}, {\"speed\": 78.0, \"time\": 5.6, \"image\": \"Peugeot3008_78.MP4\", \"vehicle\": \"Peugeot3008\"}, {\"speed\": 80.0, \"time\": 6.01, \"image\": \"Peugeot3008_80.MP4\", \"vehicle\": \"Peugeot3008\"}, {\"speed\": 83.0, \"time\": 6.62, \"image\": \"Peugeot3008_83.MP4\", \"vehicle\": \"Peugeot3008\"}, {\"speed\": 85.0, \"time\": 6.38, \"image\": \"Peugeot3008_85.MP4\", \"vehicle\": \"Peugeot3008\"}, {\"speed\": 87.0, \"time\": 5.35, \"image\": \"Peugeot3008_87.MP4\", \"vehicle\": \"Peugeot3008\"}, {\"speed\": 89.0, \"time\": 5.15, \"image\": \"Peugeot3008_89.MP4\", \"vehicle\": \"Peugeot3008\"}, {\"speed\": 90.0, \"time\": 5.99, \"image\": \"Peugeot3008_90.MP4\", \"vehicle\": \"Peugeot3008\"}, {\"speed\": 92.0, \"time\": 5.37, \"image\": \"Peugeot3008_92.MP4\", \"vehicle\": \"Peugeot3008\"}, {\"speed\": 95.0, \"time\": 6.1, \"image\": \"Peugeot3008_95.MP4\", \"vehicle\": \"Peugeot3008\"}, {\"speed\": 97.0, \"time\": 6.39, \"image\": \"Peugeot3008_97.MP4\", \"vehicle\": \"Peugeot3008\"}, {\"speed\": 101.0, \"time\": 5.45, \"image\": \"Peugeot307_101.MP4\", \"vehicle\": \"Peugeot307\"}, {\"speed\": 103.0, \"time\": 5.86, \"image\": \"Peugeot307_103.MP4\", \"vehicle\": \"Peugeot307\"}, {\"speed\": 30.0, \"time\": 5.52, \"image\": \"Peugeot307_30.MP4\", \"vehicle\": \"Peugeot307\"}, {\"speed\": 33.0, \"time\": 5.62, \"image\": \"Peugeot307_33.MP4\", \"vehicle\": \"Peugeot307\"}, {\"speed\": 35.0, \"time\": 5.55, \"image\": \"Peugeot307_35.MP4\", \"vehicle\": \"Peugeot307\"}, {\"speed\": 38.0, \"time\": 5.08, \"image\": \"Peugeot307_38.MP4\", \"vehicle\": \"Peugeot307\"}, {\"speed\": 40.0, \"time\": 5.02, \"image\": \"Peugeot307_40.MP4\", \"vehicle\": \"Peugeot307\"}, {\"speed\": 43.0, \"time\": 4.95, \"image\": \"Peugeot307_43.MP4\", \"vehicle\": \"Peugeot307\"}, {\"speed\": 45.0, \"time\": 5.18, \"image\": \"Peugeot307_45.MP4\", \"vehicle\": \"Peugeot307\"}, {\"speed\": 47.0, \"time\": 4.99, \"image\": \"Peugeot307_47.MP4\", \"vehicle\": \"Peugeot307\"}, {\"speed\": 48.0, \"time\": 4.97, \"image\": \"Peugeot307_48.MP4\", \"vehicle\": \"Peugeot307\"}, {\"speed\": 50.0, \"time\": 5.18, \"image\": \"Peugeot307_50.MP4\", \"vehicle\": \"Peugeot307\"}, {\"speed\": 53.0, \"time\": 4.98, \"image\": \"Peugeot307_53.MP4\", \"vehicle\": \"Peugeot307\"}, {\"speed\": 56.0, \"time\": 5.45, \"image\": \"Peugeot307_56.MP4\", \"vehicle\": \"Peugeot307\"}, {\"speed\": 59.0, \"time\": 4.97, \"image\": \"Peugeot307_59.MP4\", \"vehicle\": \"Peugeot307\"}, {\"speed\": 60.0, \"time\": 6.33, \"image\": \"Peugeot307_60.MP4\", \"vehicle\": \"Peugeot307\"}, {\"speed\": 63.0, \"time\": 5.08, \"image\": \"Peugeot307_63.MP4\", \"vehicle\": \"Peugeot307\"}, {\"speed\": 66.0, \"time\": 5.18, \"image\": \"Peugeot307_66.MP4\", \"vehicle\": \"Peugeot307\"}, {\"speed\": 69.0, \"time\": 4.85, \"image\": \"Peugeot307_69.MP4\", \"vehicle\": \"Peugeot307\"}, {\"speed\": 72.0, \"time\": 4.6, \"image\": \"Peugeot307_72.MP4\", \"vehicle\": \"Peugeot307\"}, {\"speed\": 73.0, \"time\": 4.95, \"image\": \"Peugeot307_73.MP4\", \"vehicle\": \"Peugeot307\"}, {\"speed\": 76.0, \"time\": 4.9, \"image\": \"Peugeot307_76.MP4\", \"vehicle\": \"Peugeot307\"}, {\"speed\": 79.0, \"time\": 4.93, \"image\": \"Peugeot307_79.MP4\", \"vehicle\": \"Peugeot307\"}, {\"speed\": 82.0, \"time\": 5.22, \"image\": \"Peugeot307_82.MP4\", \"vehicle\": \"Peugeot307\"}, {\"speed\": 85.0, \"time\": 5.25, \"image\": \"Peugeot307_85.MP4\", \"vehicle\": \"Peugeot307\"}, {\"speed\": 88.0, \"time\": 4.94, \"image\": \"Peugeot307_88.MP4\", \"vehicle\": \"Peugeot307\"}, {\"speed\": 91.0, \"time\": 5.05, \"image\": \"Peugeot307_91.MP4\", \"vehicle\": \"Peugeot307\"}, {\"speed\": 94.0, \"time\": 4.75, \"image\": \"Peugeot307_94.MP4\", \"vehicle\": \"Peugeot307\"}, {\"speed\": 97.0, \"time\": 4.95, \"image\": \"Peugeot307_97.MP4\", \"vehicle\": \"Peugeot307\"}, {\"speed\": 100.0, \"time\": 5.19, \"image\": \"RenaultCaptur_100.MP4\", \"vehicle\": \"RenaultCaptur\"}, {\"speed\": 102.0, \"time\": 5.34, \"image\": \"RenaultCaptur_102.MP4\", \"vehicle\": \"RenaultCaptur\"}, {\"speed\": 30.0, \"time\": 5.55, \"image\": \"RenaultCaptur_30.MP4\", \"vehicle\": \"RenaultCaptur\"}, {\"speed\": 33.0, \"time\": 5.85, \"image\": \"RenaultCaptur_33.MP4\", \"vehicle\": \"RenaultCaptur\"}, {\"speed\": 36.0, \"time\": 5.32, \"image\": \"RenaultCaptur_36.MP4\", \"vehicle\": \"RenaultCaptur\"}, {\"speed\": 38.0, \"time\": 5.44, \"image\": \"RenaultCaptur_38.MP4\", \"vehicle\": \"RenaultCaptur\"}, {\"speed\": 40.0, \"time\": 5.29, \"image\": \"RenaultCaptur_40.MP4\", \"vehicle\": \"RenaultCaptur\"}, {\"speed\": 41.0, \"time\": 5.36, \"image\": \"RenaultCaptur_41.MP4\", \"vehicle\": \"RenaultCaptur\"}, {\"speed\": 44.0, \"time\": 5.3, \"image\": \"RenaultCaptur_44.MP4\", \"vehicle\": \"RenaultCaptur\"}, {\"speed\": 46.0, \"time\": 4.68, \"image\": \"RenaultCaptur_46.MP4\", \"vehicle\": \"RenaultCaptur\"}, {\"speed\": 47.0, \"time\": 5.28, \"image\": \"RenaultCaptur_47.MP4\", \"vehicle\": \"RenaultCaptur\"}, {\"speed\": 48.0, \"time\": 5.57, \"image\": \"RenaultCaptur_48.MP4\", \"vehicle\": \"RenaultCaptur\"}, {\"speed\": 50.0, \"time\": 5.09, \"image\": \"RenaultCaptur_50.MP4\", \"vehicle\": \"RenaultCaptur\"}, {\"speed\": 52.0, \"time\": 5.53, \"image\": \"RenaultCaptur_52.MP4\", \"vehicle\": \"RenaultCaptur\"}, {\"speed\": 56.0, \"time\": 5.21, \"image\": \"RenaultCaptur_56.MP4\", \"vehicle\": \"RenaultCaptur\"}, {\"speed\": 58.0, \"time\": 5.32, \"image\": \"RenaultCaptur_58.MP4\", \"vehicle\": \"RenaultCaptur\"}, {\"speed\": 60.0, \"time\": 5.39, \"image\": \"RenaultCaptur_60.MP4\", \"vehicle\": \"RenaultCaptur\"}, {\"speed\": 63.0, \"time\": 5.42, \"image\": \"RenaultCaptur_63.MP4\", \"vehicle\": \"RenaultCaptur\"}, {\"speed\": 66.0, \"time\": 5.01, \"image\": \"RenaultCaptur_66.MP4\", \"vehicle\": \"RenaultCaptur\"}, {\"speed\": 68.0, \"time\": 5.15, \"image\": \"RenaultCaptur_68.MP4\", \"vehicle\": \"RenaultCaptur\"}, {\"speed\": 70.0, \"time\": 5.75, \"image\": \"RenaultCaptur_70.MP4\", \"vehicle\": \"RenaultCaptur\"}, {\"speed\": 72.0, \"time\": 5.08, \"image\": \"RenaultCaptur_72.MP4\", \"vehicle\": \"RenaultCaptur\"}, {\"speed\": 76.0, \"time\": 5.94, \"image\": \"RenaultCaptur_76.MP4\", \"vehicle\": \"RenaultCaptur\"}, {\"speed\": 78.0, \"time\": 5.32, \"image\": \"RenaultCaptur_78.MP4\", \"vehicle\": \"RenaultCaptur\"}, {\"speed\": 80.0, \"time\": 4.79, \"image\": \"RenaultCaptur_80.MP4\", \"vehicle\": \"RenaultCaptur\"}, {\"speed\": 83.0, \"time\": 5.59, \"image\": \"RenaultCaptur_83.MP4\", \"vehicle\": \"RenaultCaptur\"}, {\"speed\": 86.0, \"time\": 5.18, \"image\": \"RenaultCaptur_86.MP4\", \"vehicle\": \"RenaultCaptur\"}, {\"speed\": 88.0, \"time\": 5.24, \"image\": \"RenaultCaptur_88.MP4\", \"vehicle\": \"RenaultCaptur\"}, {\"speed\": 90.0, \"time\": 5.61, \"image\": \"RenaultCaptur_90.MP4\", \"vehicle\": \"RenaultCaptur\"}, {\"speed\": 92.0, \"time\": 5.64, \"image\": \"RenaultCaptur_92.MP4\", \"vehicle\": \"RenaultCaptur\"}, {\"speed\": 94.0, \"time\": 5.06, \"image\": \"RenaultCaptur_94.MP4\", \"vehicle\": \"RenaultCaptur\"}, {\"speed\": 97.0, \"time\": 6.02, \"image\": \"RenaultCaptur_97.MP4\", \"vehicle\": \"RenaultCaptur\"}, {\"speed\": 98.0, \"time\": 5.11, \"image\": \"RenaultCaptur_98.MP4\", \"vehicle\": \"RenaultCaptur\"}, {\"speed\": 101.0, \"time\": 6.17, \"image\": \"RenaultScenic_101.MP4\", \"vehicle\": \"RenaultScenic\"}, {\"speed\": 30.0, \"time\": 6.0, \"image\": \"RenaultScenic_30.MP4\", \"vehicle\": \"RenaultScenic\"}, {\"speed\": 35.0, \"time\": 6.82, \"image\": \"RenaultScenic_35.MP4\", \"vehicle\": \"RenaultScenic\"}, {\"speed\": 36.0, \"time\": 6.01, \"image\": \"RenaultScenic_36.MP4\", \"vehicle\": \"RenaultScenic\"}, {\"speed\": 38.0, \"time\": 6.03, \"image\": \"RenaultScenic_38.MP4\", \"vehicle\": \"RenaultScenic\"}, {\"speed\": 40.0, \"time\": 6.7, \"image\": \"RenaultScenic_40.MP4\", \"vehicle\": \"RenaultScenic\"}, {\"speed\": 42.0, \"time\": 5.83, \"image\": \"RenaultScenic_42.MP4\", \"vehicle\": \"RenaultScenic\"}, {\"speed\": 44.0, \"time\": 5.27, \"image\": \"RenaultScenic_44.MP4\", \"vehicle\": \"RenaultScenic\"}, {\"speed\": 46.0, \"time\": 6.75, \"image\": \"RenaultScenic_46.MP4\", \"vehicle\": \"RenaultScenic\"}, {\"speed\": 48.0, \"time\": 5.75, \"image\": \"RenaultScenic_48.MP4\", \"vehicle\": \"RenaultScenic\"}, {\"speed\": 50.0, \"time\": 7.25, \"image\": \"RenaultScenic_50.MP4\", \"vehicle\": \"RenaultScenic\"}, {\"speed\": 52.0, \"time\": 5.25, \"image\": \"RenaultScenic_52.MP4\", \"vehicle\": \"RenaultScenic\"}, {\"speed\": 54.0, \"time\": 5.46, \"image\": \"RenaultScenic_54.MP4\", \"vehicle\": \"RenaultScenic\"}, {\"speed\": 57.0, \"time\": 6.6, \"image\": \"RenaultScenic_57.MP4\", \"vehicle\": \"RenaultScenic\"}, {\"speed\": 60.0, \"time\": 6.12, \"image\": \"RenaultScenic_60.MP4\", \"vehicle\": \"RenaultScenic\"}, {\"speed\": 62.0, \"time\": 6.05, \"image\": \"RenaultScenic_62.MP4\", \"vehicle\": \"RenaultScenic\"}, {\"speed\": 64.0, \"time\": 5.76, \"image\": \"RenaultScenic_64.MP4\", \"vehicle\": \"RenaultScenic\"}, {\"speed\": 66.0, \"time\": 5.35, \"image\": \"RenaultScenic_66.MP4\", \"vehicle\": \"RenaultScenic\"}, {\"speed\": 68.0, \"time\": 6.57, \"image\": \"RenaultScenic_68.MP4\", \"vehicle\": \"RenaultScenic\"}, {\"speed\": 70.0, \"time\": 5.85, \"image\": \"RenaultScenic_70.MP4\", \"vehicle\": \"RenaultScenic\"}, {\"speed\": 71.0, \"time\": 5.99, \"image\": \"RenaultScenic_71.MP4\", \"vehicle\": \"RenaultScenic\"}, {\"speed\": 72.0, \"time\": 5.23, \"image\": \"RenaultScenic_72.MP4\", \"vehicle\": \"RenaultScenic\"}, {\"speed\": 74.0, \"time\": 5.7, \"image\": \"RenaultScenic_74.MP4\", \"vehicle\": \"RenaultScenic\"}, {\"speed\": 75.0, \"time\": 5.45, \"image\": \"RenaultScenic_75.MP4\", \"vehicle\": \"RenaultScenic\"}, {\"speed\": 77.0, \"time\": 7.32, \"image\": \"RenaultScenic_77.MP4\", \"vehicle\": \"RenaultScenic\"}, {\"speed\": 80.0, \"time\": 7.01, \"image\": \"RenaultScenic_80.MP4\", \"vehicle\": \"RenaultScenic\"}, {\"speed\": 82.0, \"time\": 6.06, \"image\": \"RenaultScenic_82.MP4\", \"vehicle\": \"RenaultScenic\"}, {\"speed\": 84.0, \"time\": 5.39, \"image\": \"RenaultScenic_84.MP4\", \"vehicle\": \"RenaultScenic\"}, {\"speed\": 86.0, \"time\": 5.65, \"image\": \"RenaultScenic_86.MP4\", \"vehicle\": \"RenaultScenic\"}, {\"speed\": 87.0, \"time\": 6.0, \"image\": \"RenaultScenic_87.MP4\", \"vehicle\": \"RenaultScenic\"}, {\"speed\": 90.0, \"time\": 5.09, \"image\": \"RenaultScenic_90.MP4\", \"vehicle\": \"RenaultScenic\"}, {\"speed\": 91.0, \"time\": 6.21, \"image\": \"RenaultScenic_91.MP4\", \"vehicle\": \"RenaultScenic\"}, {\"speed\": 94.0, \"time\": 6.18, \"image\": \"RenaultScenic_94.MP4\", \"vehicle\": \"RenaultScenic\"}, {\"speed\": 95.0, \"time\": 6.23, \"image\": \"RenaultScenic_95.MP4\", \"vehicle\": \"RenaultScenic\"}, {\"speed\": 98.0, \"time\": 5.38, \"image\": \"RenaultScenic_98.MP4\", \"vehicle\": \"RenaultScenic\"}, {\"speed\": 100.0, \"time\": 6.01, \"image\": \"VWPassat_100.MP4\", \"vehicle\": \"VWPassat\"}, {\"speed\": 30.0, \"time\": 6.46, \"image\": \"VWPassat_30.MP4\", \"vehicle\": \"VWPassat\"}, {\"speed\": 35.0, \"time\": 5.92, \"image\": \"VWPassat_35.MP4\", \"vehicle\": \"VWPassat\"}, {\"speed\": 39.0, \"time\": 5.27, \"image\": \"VWPassat_39.MP4\", \"vehicle\": \"VWPassat\"}, {\"speed\": 40.0, \"time\": 6.53, \"image\": \"VWPassat_40.MP4\", \"vehicle\": \"VWPassat\"}, {\"speed\": 42.0, \"time\": 6.72, \"image\": \"VWPassat_42.MP4\", \"vehicle\": \"VWPassat\"}, {\"speed\": 45.0, \"time\": 6.35, \"image\": \"VWPassat_45.MP4\", \"vehicle\": \"VWPassat\"}, {\"speed\": 47.0, \"time\": 5.25, \"image\": \"VWPassat_47.MP4\", \"vehicle\": \"VWPassat\"}, {\"speed\": 49.0, \"time\": 5.27, \"image\": \"VWPassat_49.MP4\", \"vehicle\": \"VWPassat\"}, {\"speed\": 50.0, \"time\": 6.0, \"image\": \"VWPassat_50.MP4\", \"vehicle\": \"VWPassat\"}, {\"speed\": 52.0, \"time\": 6.02, \"image\": \"VWPassat_52.MP4\", \"vehicle\": \"VWPassat\"}, {\"speed\": 54.0, \"time\": 5.54, \"image\": \"VWPassat_54.MP4\", \"vehicle\": \"VWPassat\"}, {\"speed\": 55.0, \"time\": 6.02, \"image\": \"VWPassat_55.MP4\", \"vehicle\": \"VWPassat\"}, {\"speed\": 57.0, \"time\": 4.98, \"image\": \"VWPassat_57.MP4\", \"vehicle\": \"VWPassat\"}, {\"speed\": 60.0, \"time\": 5.98, \"image\": \"VWPassat_60.MP4\", \"vehicle\": \"VWPassat\"}, {\"speed\": 61.0, \"time\": 6.01, \"image\": \"VWPassat_61.MP4\", \"vehicle\": \"VWPassat\"}, {\"speed\": 64.0, \"time\": 5.67, \"image\": \"VWPassat_64.MP4\", \"vehicle\": \"VWPassat\"}, {\"speed\": 65.0, \"time\": 5.82, \"image\": \"VWPassat_65.MP4\", \"vehicle\": \"VWPassat\"}, {\"speed\": 67.0, \"time\": 5.08, \"image\": \"VWPassat_67.MP4\", \"vehicle\": \"VWPassat\"}, {\"speed\": 70.0, \"time\": 6.0, \"image\": \"VWPassat_70.MP4\", \"vehicle\": \"VWPassat\"}, {\"speed\": 71.0, \"time\": 5.51, \"image\": \"VWPassat_71.MP4\", \"vehicle\": \"VWPassat\"}, {\"speed\": 72.0, \"time\": 5.42, \"image\": \"VWPassat_72.MP4\", \"vehicle\": \"VWPassat\"}, {\"speed\": 73.0, \"time\": 5.32, \"image\": \"VWPassat_73.MP4\", \"vehicle\": \"VWPassat\"}, {\"speed\": 75.0, \"time\": 6.02, \"image\": \"VWPassat_75.MP4\", \"vehicle\": \"VWPassat\"}, {\"speed\": 78.0, \"time\": 5.85, \"image\": \"VWPassat_78.MP4\", \"vehicle\": \"VWPassat\"}, {\"speed\": 80.0, \"time\": 5.99, \"image\": \"VWPassat_80.MP4\", \"vehicle\": \"VWPassat\"}, {\"speed\": 81.0, \"time\": 5.58, \"image\": \"VWPassat_81.MP4\", \"vehicle\": \"VWPassat\"}, {\"speed\": 82.0, \"time\": 5.62, \"image\": \"VWPassat_82.MP4\", \"vehicle\": \"VWPassat\"}, {\"speed\": 85.0, \"time\": 6.23, \"image\": \"VWPassat_85.MP4\", \"vehicle\": \"VWPassat\"}, {\"speed\": 88.0, \"time\": 7.31, \"image\": \"VWPassat_88.MP4\", \"vehicle\": \"VWPassat\"}, {\"speed\": 90.0, \"time\": 5.2, \"image\": \"VWPassat_90.MP4\", \"vehicle\": \"VWPassat\"}, {\"speed\": 91.0, \"time\": 5.45, \"image\": \"VWPassat_91.MP4\", \"vehicle\": \"VWPassat\"}, {\"speed\": 94.0, \"time\": 6.0, \"image\": \"VWPassat_94.MP4\", \"vehicle\": \"VWPassat\"}, {\"speed\": 96.0, \"time\": 5.72, \"image\": \"VWPassat_96.MP4\", \"vehicle\": \"VWPassat\"}, {\"speed\": 98.0, \"time\": 5.99, \"image\": \"VWPassat_98.MP4\", \"vehicle\": \"VWPassat\"}]}}, {\"mode\": \"vega-lite\"});\n",
       "</script>"
      ],
      "text/plain": [
       "alt.Chart(...)"
      ]
     },
     "execution_count": 8,
     "metadata": {},
     "output_type": "execute_result"
    }
   ],
   "source": [
    "alt.Chart(df_combined).mark_bar().encode(\n",
    "    x=alt.X('speed', bin=alt.Bin(maxbins=5), title='Velocidad (km/h)'),\n",
    "    y=alt.Y('count()', title='Contador')\n",
    ").properties(\n",
    "    width=150,\n",
    "    height=100,\n",
    "    title='Distribucion de velocidad'\n",
    ")"
   ]
  },
  {
   "cell_type": "code",
   "execution_count": 9,
   "metadata": {
    "collapsed": false,
    "jupyter": {
     "outputs_hidden": false
    },
    "pycharm": {
     "name": "#%%\n"
    }
   },
   "outputs": [
    {
     "data": {
      "text/html": [
       "\n",
       "<style>\n",
       "  #altair-viz-ca8ea7a4f91744dfbbd14dc98f6ea093.vega-embed {\n",
       "    width: 100%;\n",
       "    display: flex;\n",
       "  }\n",
       "\n",
       "  #altair-viz-ca8ea7a4f91744dfbbd14dc98f6ea093.vega-embed details,\n",
       "  #altair-viz-ca8ea7a4f91744dfbbd14dc98f6ea093.vega-embed details summary {\n",
       "    position: relative;\n",
       "  }\n",
       "</style>\n",
       "<div id=\"altair-viz-ca8ea7a4f91744dfbbd14dc98f6ea093\"></div>\n",
       "<script type=\"text/javascript\">\n",
       "  var VEGA_DEBUG = (typeof VEGA_DEBUG == \"undefined\") ? {} : VEGA_DEBUG;\n",
       "  (function(spec, embedOpt){\n",
       "    let outputDiv = document.currentScript.previousElementSibling;\n",
       "    if (outputDiv.id !== \"altair-viz-ca8ea7a4f91744dfbbd14dc98f6ea093\") {\n",
       "      outputDiv = document.getElementById(\"altair-viz-ca8ea7a4f91744dfbbd14dc98f6ea093\");\n",
       "    }\n",
       "    const paths = {\n",
       "      \"vega\": \"https://cdn.jsdelivr.net/npm/vega@5?noext\",\n",
       "      \"vega-lib\": \"https://cdn.jsdelivr.net/npm/vega-lib?noext\",\n",
       "      \"vega-lite\": \"https://cdn.jsdelivr.net/npm/vega-lite@5.8.0?noext\",\n",
       "      \"vega-embed\": \"https://cdn.jsdelivr.net/npm/vega-embed@6?noext\",\n",
       "    };\n",
       "\n",
       "    function maybeLoadScript(lib, version) {\n",
       "      var key = `${lib.replace(\"-\", \"\")}_version`;\n",
       "      return (VEGA_DEBUG[key] == version) ?\n",
       "        Promise.resolve(paths[lib]) :\n",
       "        new Promise(function(resolve, reject) {\n",
       "          var s = document.createElement('script');\n",
       "          document.getElementsByTagName(\"head\")[0].appendChild(s);\n",
       "          s.async = true;\n",
       "          s.onload = () => {\n",
       "            VEGA_DEBUG[key] = version;\n",
       "            return resolve(paths[lib]);\n",
       "          };\n",
       "          s.onerror = () => reject(`Error loading script: ${paths[lib]}`);\n",
       "          s.src = paths[lib];\n",
       "        });\n",
       "    }\n",
       "\n",
       "    function showError(err) {\n",
       "      outputDiv.innerHTML = `<div class=\"error\" style=\"color:red;\">${err}</div>`;\n",
       "      throw err;\n",
       "    }\n",
       "\n",
       "    function displayChart(vegaEmbed) {\n",
       "      vegaEmbed(outputDiv, spec, embedOpt)\n",
       "        .catch(err => showError(`Javascript Error: ${err.message}<br>This usually means there's a typo in your chart specification. See the javascript console for the full traceback.`));\n",
       "    }\n",
       "\n",
       "    if(typeof define === \"function\" && define.amd) {\n",
       "      requirejs.config({paths});\n",
       "      require([\"vega-embed\"], displayChart, err => showError(`Error loading script: ${err.message}`));\n",
       "    } else {\n",
       "      maybeLoadScript(\"vega\", \"5\")\n",
       "        .then(() => maybeLoadScript(\"vega-lite\", \"5.8.0\"))\n",
       "        .then(() => maybeLoadScript(\"vega-embed\", \"6\"))\n",
       "        .catch(showError)\n",
       "        .then(() => displayChart(vegaEmbed));\n",
       "    }\n",
       "  })({\"config\": {\"view\": {\"continuousWidth\": 300, \"continuousHeight\": 300}}, \"layer\": [{\"mark\": {\"type\": \"point\", \"filled\": true, \"opacity\": 0.5, \"size\": 40}, \"encoding\": {\"color\": {\"value\": \"steelblue\"}, \"tooltip\": [{\"field\": \"speed\", \"type\": \"quantitative\"}, {\"field\": \"time\", \"type\": \"quantitative\"}], \"x\": {\"axis\": {\"title\": \"Velocidad (km/h)\"}, \"field\": \"speed\", \"type\": \"quantitative\"}, \"y\": {\"axis\": {\"title\": \"Tiempo (s)\"}, \"field\": \"time\", \"type\": \"quantitative\"}}, \"title\": {\"text\": \"Correlacion Velocidad vs Tiempo (Correlation: -0.03)\", \"anchor\": \"middle\", \"fontSize\": 16, \"fontWeight\": \"bold\"}}, {\"mark\": {\"type\": \"line\", \"color\": \"red\", \"strokeWidth\": 3}, \"encoding\": {\"x\": {\"field\": \"speed\", \"type\": \"quantitative\"}, \"y\": {\"field\": \"time\", \"type\": \"quantitative\"}}, \"transform\": [{\"on\": \"speed\", \"regression\": \"time\"}]}], \"data\": {\"name\": \"data-5d3be3fd43ab46cca79cf2374d1a4771\"}, \"height\": 400, \"width\": 500, \"$schema\": \"https://vega.github.io/schema/vega-lite/v5.8.0.json\", \"datasets\": {\"data-5d3be3fd43ab46cca79cf2374d1a4771\": [{\"speed\": 101.0, \"time\": 7.49, \"image\": \"CitroenC4Picasso_101.MP4\", \"vehicle\": \"CitroenC4Picasso\"}, {\"speed\": 35.0, \"time\": 6.25, \"image\": \"CitroenC4Picasso_35.MP4\", \"vehicle\": \"CitroenC4Picasso\"}, {\"speed\": 38.0, \"time\": 5.82, \"image\": \"CitroenC4Picasso_38.MP4\", \"vehicle\": \"CitroenC4Picasso\"}, {\"speed\": 41.0, \"time\": 6.16, \"image\": \"CitroenC4Picasso_41.MP4\", \"vehicle\": \"CitroenC4Picasso\"}, {\"speed\": 44.0, \"time\": 5.44, \"image\": \"CitroenC4Picasso_44.MP4\", \"vehicle\": \"CitroenC4Picasso\"}, {\"speed\": 48.0, \"time\": 6.03, \"image\": \"CitroenC4Picasso_48.MP4\", \"vehicle\": \"CitroenC4Picasso\"}, {\"speed\": 51.0, \"time\": 5.85, \"image\": \"CitroenC4Picasso_51.MP4\", \"vehicle\": \"CitroenC4Picasso\"}, {\"speed\": 54.0, \"time\": 5.65, \"image\": \"CitroenC4Picasso_54.MP4\", \"vehicle\": \"CitroenC4Picasso\"}, {\"speed\": 57.0, \"time\": 5.95, \"image\": \"CitroenC4Picasso_57.MP4\", \"vehicle\": \"CitroenC4Picasso\"}, {\"speed\": 59.0, \"time\": 5.85, \"image\": \"CitroenC4Picasso_59.MP4\", \"vehicle\": \"CitroenC4Picasso\"}, {\"speed\": 63.0, \"time\": 6.06, \"image\": \"CitroenC4Picasso_63.MP4\", \"vehicle\": \"CitroenC4Picasso\"}, {\"speed\": 65.0, \"time\": 5.66, \"image\": \"CitroenC4Picasso_65.MP4\", \"vehicle\": \"CitroenC4Picasso\"}, {\"speed\": 68.0, \"time\": 6.16, \"image\": \"CitroenC4Picasso_68.MP4\", \"vehicle\": \"CitroenC4Picasso\"}, {\"speed\": 72.0, \"time\": 5.75, \"image\": \"CitroenC4Picasso_72.MP4\", \"vehicle\": \"CitroenC4Picasso\"}, {\"speed\": 74.0, \"time\": 6.26, \"image\": \"CitroenC4Picasso_74.MP4\", \"vehicle\": \"CitroenC4Picasso\"}, {\"speed\": 78.0, \"time\": 6.14, \"image\": \"CitroenC4Picasso_78.MP4\", \"vehicle\": \"CitroenC4Picasso\"}, {\"speed\": 80.0, \"time\": 5.41, \"image\": \"CitroenC4Picasso_80.MP4\", \"vehicle\": \"CitroenC4Picasso\"}, {\"speed\": 83.0, \"time\": 6.63, \"image\": \"CitroenC4Picasso_83.MP4\", \"vehicle\": \"CitroenC4Picasso\"}, {\"speed\": 85.0, \"time\": 5.67, \"image\": \"CitroenC4Picasso_85.MP4\", \"vehicle\": \"CitroenC4Picasso\"}, {\"speed\": 87.0, \"time\": 6.19, \"image\": \"CitroenC4Picasso_87.MP4\", \"vehicle\": \"CitroenC4Picasso\"}, {\"speed\": 92.0, \"time\": 7.62, \"image\": \"CitroenC4Picasso_92.MP4\", \"vehicle\": \"CitroenC4Picasso\"}, {\"speed\": 94.0, \"time\": 6.79, \"image\": \"CitroenC4Picasso_94.MP4\", \"vehicle\": \"CitroenC4Picasso\"}, {\"speed\": 96.0, \"time\": 5.79, \"image\": \"CitroenC4Picasso_96.MP4\", \"vehicle\": \"CitroenC4Picasso\"}, {\"speed\": 100.0, \"time\": 4.98, \"image\": \"KiaSportage_100.MP4\", \"vehicle\": \"KiaSportage\"}, {\"speed\": 103.0, \"time\": 4.91, \"image\": \"KiaSportage_103.MP4\", \"vehicle\": \"KiaSportage\"}, {\"speed\": 105.0, \"time\": 4.98, \"image\": \"KiaSportage_105.MP4\", \"vehicle\": \"KiaSportage\"}, {\"speed\": 31.0, \"time\": 4.94, \"image\": \"KiaSportage_31.MP4\", \"vehicle\": \"KiaSportage\"}, {\"speed\": 33.0, \"time\": 4.91, \"image\": \"KiaSportage_33.MP4\", \"vehicle\": \"KiaSportage\"}, {\"speed\": 35.0, \"time\": 4.93, \"image\": \"KiaSportage_35.MP4\", \"vehicle\": \"KiaSportage\"}, {\"speed\": 38.0, \"time\": 5.05, \"image\": \"KiaSportage_38.MP4\", \"vehicle\": \"KiaSportage\"}, {\"speed\": 41.0, \"time\": 4.93, \"image\": \"KiaSportage_41.MP4\", \"vehicle\": \"KiaSportage\"}, {\"speed\": 44.0, \"time\": 5.02, \"image\": \"KiaSportage_44.MP4\", \"vehicle\": \"KiaSportage\"}, {\"speed\": 46.0, \"time\": 4.94, \"image\": \"KiaSportage_46.MP4\", \"vehicle\": \"KiaSportage\"}, {\"speed\": 48.0, \"time\": 4.96, \"image\": \"KiaSportage_48.MP4\", \"vehicle\": \"KiaSportage\"}, {\"speed\": 51.0, \"time\": 4.92, \"image\": \"KiaSportage_51.MP4\", \"vehicle\": \"KiaSportage\"}, {\"speed\": 53.0, \"time\": 4.97, \"image\": \"KiaSportage_53.MP4\", \"vehicle\": \"KiaSportage\"}, {\"speed\": 55.0, \"time\": 4.95, \"image\": \"KiaSportage_55.MP4\", \"vehicle\": \"KiaSportage\"}, {\"speed\": 58.0, \"time\": 4.92, \"image\": \"KiaSportage_58.MP4\", \"vehicle\": \"KiaSportage\"}, {\"speed\": 61.0, \"time\": 4.96, \"image\": \"KiaSportage_61.MP4\", \"vehicle\": \"KiaSportage\"}, {\"speed\": 63.0, \"time\": 5.0, \"image\": \"KiaSportage_63.MP4\", \"vehicle\": \"KiaSportage\"}, {\"speed\": 65.0, \"time\": 4.93, \"image\": \"KiaSportage_65.MP4\", \"vehicle\": \"KiaSportage\"}, {\"speed\": 68.0, \"time\": 4.96, \"image\": \"KiaSportage_68.MP4\", \"vehicle\": \"KiaSportage\"}, {\"speed\": 69.0, \"time\": 4.94, \"image\": \"KiaSportage_69.MP4\", \"vehicle\": \"KiaSportage\"}, {\"speed\": 72.0, \"time\": 4.95, \"image\": \"KiaSportage_72.MP4\", \"vehicle\": \"KiaSportage\"}, {\"speed\": 74.0, \"time\": 4.94, \"image\": \"KiaSportage_74.MP4\", \"vehicle\": \"KiaSportage\"}, {\"speed\": 77.0, \"time\": 5.02, \"image\": \"KiaSportage_77.MP4\", \"vehicle\": \"KiaSportage\"}, {\"speed\": 78.0, \"time\": 4.95, \"image\": \"KiaSportage_78.MP4\", \"vehicle\": \"KiaSportage\"}, {\"speed\": 80.0, \"time\": 4.94, \"image\": \"KiaSportage_80.MP4\", \"vehicle\": \"KiaSportage\"}, {\"speed\": 83.0, \"time\": 4.95, \"image\": \"KiaSportage_83.MP4\", \"vehicle\": \"KiaSportage\"}, {\"speed\": 85.0, \"time\": 4.95, \"image\": \"KiaSportage_85.MP4\", \"vehicle\": \"KiaSportage\"}, {\"speed\": 86.0, \"time\": 4.92, \"image\": \"KiaSportage_86.MP4\", \"vehicle\": \"KiaSportage\"}, {\"speed\": 89.0, \"time\": 4.98, \"image\": \"KiaSportage_89.MP4\", \"vehicle\": \"KiaSportage\"}, {\"speed\": 91.0, \"time\": 4.95, \"image\": \"KiaSportage_91.MP4\", \"vehicle\": \"KiaSportage\"}, {\"speed\": 93.0, \"time\": 4.98, \"image\": \"KiaSportage_93.MP4\", \"vehicle\": \"KiaSportage\"}, {\"speed\": 96.0, \"time\": 4.91, \"image\": \"KiaSportage_96.MP4\", \"vehicle\": \"KiaSportage\"}, {\"speed\": 98.0, \"time\": 4.92, \"image\": \"KiaSportage_98.MP4\", \"vehicle\": \"KiaSportage\"}, {\"speed\": 101.0, \"time\": 5.04, \"image\": \"Mazda3_101.MP4\", \"vehicle\": \"Mazda3\"}, {\"speed\": 103.0, \"time\": 5.07, \"image\": \"Mazda3_103.MP4\", \"vehicle\": \"Mazda3\"}, {\"speed\": 105.0, \"time\": 4.99, \"image\": \"Mazda3_105.MP4\", \"vehicle\": \"Mazda3\"}, {\"speed\": 30.0, \"time\": 5.23, \"image\": \"Mazda3_30.MP4\", \"vehicle\": \"Mazda3\"}, {\"speed\": 33.0, \"time\": 5.08, \"image\": \"Mazda3_33.MP4\", \"vehicle\": \"Mazda3\"}, {\"speed\": 35.0, \"time\": 5.12, \"image\": \"Mazda3_35.MP4\", \"vehicle\": \"Mazda3\"}, {\"speed\": 38.0, \"time\": 5.15, \"image\": \"Mazda3_38.MP4\", \"vehicle\": \"Mazda3\"}, {\"speed\": 40.0, \"time\": 5.02, \"image\": \"Mazda3_40.MP4\", \"vehicle\": \"Mazda3\"}, {\"speed\": 43.0, \"time\": 5.02, \"image\": \"Mazda3_43.MP4\", \"vehicle\": \"Mazda3\"}, {\"speed\": 45.0, \"time\": 5.31, \"image\": \"Mazda3_45.MP4\", \"vehicle\": \"Mazda3\"}, {\"speed\": 47.0, \"time\": 5.42, \"image\": \"Mazda3_47.MP4\", \"vehicle\": \"Mazda3\"}, {\"speed\": 50.0, \"time\": 5.62, \"image\": \"Mazda3_50.MP4\", \"vehicle\": \"Mazda3\"}, {\"speed\": 52.0, \"time\": 5.15, \"image\": \"Mazda3_52.MP4\", \"vehicle\": \"Mazda3\"}, {\"speed\": 55.0, \"time\": 5.68, \"image\": \"Mazda3_55.MP4\", \"vehicle\": \"Mazda3\"}, {\"speed\": 57.0, \"time\": 5.08, \"image\": \"Mazda3_57.MP4\", \"vehicle\": \"Mazda3\"}, {\"speed\": 60.0, \"time\": 5.09, \"image\": \"Mazda3_60.MP4\", \"vehicle\": \"Mazda3\"}, {\"speed\": 62.0, \"time\": 5.25, \"image\": \"Mazda3_62.MP4\", \"vehicle\": \"Mazda3\"}, {\"speed\": 64.0, \"time\": 5.02, \"image\": \"Mazda3_64.MP4\", \"vehicle\": \"Mazda3\"}, {\"speed\": 67.0, \"time\": 5.65, \"image\": \"Mazda3_67.MP4\", \"vehicle\": \"Mazda3\"}, {\"speed\": 70.0, \"time\": 5.05, \"image\": \"Mazda3_70.MP4\", \"vehicle\": \"Mazda3\"}, {\"speed\": 72.0, \"time\": 5.16, \"image\": \"Mazda3_72.MP4\", \"vehicle\": \"Mazda3\"}, {\"speed\": 75.0, \"time\": 5.02, \"image\": \"Mazda3_75.MP4\", \"vehicle\": \"Mazda3\"}, {\"speed\": 79.0, \"time\": 5.05, \"image\": \"Mazda3_79.MP4\", \"vehicle\": \"Mazda3\"}, {\"speed\": 81.0, \"time\": 5.22, \"image\": \"Mazda3_81.MP4\", \"vehicle\": \"Mazda3\"}, {\"speed\": 84.0, \"time\": 5.08, \"image\": \"Mazda3_84.MP4\", \"vehicle\": \"Mazda3\"}, {\"speed\": 86.0, \"time\": 5.19, \"image\": \"Mazda3_86.MP4\", \"vehicle\": \"Mazda3\"}, {\"speed\": 88.0, \"time\": 5.09, \"image\": \"Mazda3_88.MP4\", \"vehicle\": \"Mazda3\"}, {\"speed\": 90.0, \"time\": 5.11, \"image\": \"Mazda3_90.MP4\", \"vehicle\": \"Mazda3\"}, {\"speed\": 92.0, \"time\": 5.22, \"image\": \"Mazda3_92.MP4\", \"vehicle\": \"Mazda3\"}, {\"speed\": 94.0, \"time\": 5.04, \"image\": \"Mazda3_94.MP4\", \"vehicle\": \"Mazda3\"}, {\"speed\": 96.0, \"time\": 5.02, \"image\": \"Mazda3_96.MP4\", \"vehicle\": \"Mazda3\"}, {\"speed\": 99.0, \"time\": 4.98, \"image\": \"Mazda3_99.MP4\", \"vehicle\": \"Mazda3\"}, {\"speed\": 100.0, \"time\": 4.94, \"image\": \"MercedesAMG550_100.MP4\", \"vehicle\": \"MercedesAMG550\"}, {\"speed\": 105.0, \"time\": 4.45, \"image\": \"MercedesAMG550_105.MP4\", \"vehicle\": \"MercedesAMG550\"}, {\"speed\": 30.0, \"time\": 5.07, \"image\": \"MercedesAMG550_30.MP4\", \"vehicle\": \"MercedesAMG550\"}, {\"speed\": 33.0, \"time\": 5.68, \"image\": \"MercedesAMG550_33.MP4\", \"vehicle\": \"MercedesAMG550\"}, {\"speed\": 35.0, \"time\": 5.99, \"image\": \"MercedesAMG550_35.MP4\", \"vehicle\": \"MercedesAMG550\"}, {\"speed\": 38.0, \"time\": 5.88, \"image\": \"MercedesAMG550_38.MP4\", \"vehicle\": \"MercedesAMG550\"}, {\"speed\": 40.0, \"time\": 5.13, \"image\": \"MercedesAMG550_40.MP4\", \"vehicle\": \"MercedesAMG550\"}, {\"speed\": 42.0, \"time\": 6.28, \"image\": \"MercedesAMG550_42.MP4\", \"vehicle\": \"MercedesAMG550\"}, {\"speed\": 45.0, \"time\": 5.06, \"image\": \"MercedesAMG550_45.MP4\", \"vehicle\": \"MercedesAMG550\"}, {\"speed\": 47.0, \"time\": 5.67, \"image\": \"MercedesAMG550_47.MP4\", \"vehicle\": \"MercedesAMG550\"}, {\"speed\": 50.0, \"time\": 5.19, \"image\": \"MercedesAMG550_50.MP4\", \"vehicle\": \"MercedesAMG550\"}, {\"speed\": 52.0, \"time\": 5.89, \"image\": \"MercedesAMG550_52.MP4\", \"vehicle\": \"MercedesAMG550\"}, {\"speed\": 55.0, \"time\": 5.07, \"image\": \"MercedesAMG550_55.MP4\", \"vehicle\": \"MercedesAMG550\"}, {\"speed\": 58.0, \"time\": 5.65, \"image\": \"MercedesAMG550_58.MP4\", \"vehicle\": \"MercedesAMG550\"}, {\"speed\": 60.0, \"time\": 5.25, \"image\": \"MercedesAMG550_60.MP4\", \"vehicle\": \"MercedesAMG550\"}, {\"speed\": 62.0, \"time\": 5.38, \"image\": \"MercedesAMG550_62.MP4\", \"vehicle\": \"MercedesAMG550\"}, {\"speed\": 65.0, \"time\": 7.04, \"image\": \"MercedesAMG550_65.MP4\", \"vehicle\": \"MercedesAMG550\"}, {\"speed\": 67.0, \"time\": 5.76, \"image\": \"MercedesAMG550_67.MP4\", \"vehicle\": \"MercedesAMG550\"}, {\"speed\": 70.0, \"time\": 4.83, \"image\": \"MercedesAMG550_70.MP4\", \"vehicle\": \"MercedesAMG550\"}, {\"speed\": 73.0, \"time\": 5.63, \"image\": \"MercedesAMG550_73.MP4\", \"vehicle\": \"MercedesAMG550\"}, {\"speed\": 75.0, \"time\": 5.11, \"image\": \"MercedesAMG550_75.MP4\", \"vehicle\": \"MercedesAMG550\"}, {\"speed\": 78.0, \"time\": 6.11, \"image\": \"MercedesAMG550_78.MP4\", \"vehicle\": \"MercedesAMG550\"}, {\"speed\": 80.0, \"time\": 4.9, \"image\": \"MercedesAMG550_80.MP4\", \"vehicle\": \"MercedesAMG550\"}, {\"speed\": 82.0, \"time\": 5.82, \"image\": \"MercedesAMG550_82.MP4\", \"vehicle\": \"MercedesAMG550\"}, {\"speed\": 85.0, \"time\": 4.84, \"image\": \"MercedesAMG550_85.MP4\", \"vehicle\": \"MercedesAMG550\"}, {\"speed\": 87.0, \"time\": 5.41, \"image\": \"MercedesAMG550_87.MP4\", \"vehicle\": \"MercedesAMG550\"}, {\"speed\": 90.0, \"time\": 6.0, \"image\": \"MercedesAMG550_90.MP4\", \"vehicle\": \"MercedesAMG550\"}, {\"speed\": 93.0, \"time\": 5.68, \"image\": \"MercedesAMG550_93.MP4\", \"vehicle\": \"MercedesAMG550\"}, {\"speed\": 95.0, \"time\": 5.0, \"image\": \"MercedesAMG550_95.MP4\", \"vehicle\": \"MercedesAMG550\"}, {\"speed\": 98.0, \"time\": 5.44, \"image\": \"MercedesAMG550_98.MP4\", \"vehicle\": \"MercedesAMG550\"}, {\"speed\": 100.0, \"time\": 5.0, \"image\": \"MercedesGLA_100.MP4\", \"vehicle\": \"MercedesGLA\"}, {\"speed\": 101.0, \"time\": 5.01, \"image\": \"MercedesGLA_101.MP4\", \"vehicle\": \"MercedesGLA\"}, {\"speed\": 103.0, \"time\": 5.01, \"image\": \"MercedesGLA_103.MP4\", \"vehicle\": \"MercedesGLA\"}, {\"speed\": 104.0, \"time\": 5.01, \"image\": \"MercedesGLA_104.MP4\", \"vehicle\": \"MercedesGLA\"}, {\"speed\": 30.0, \"time\": 4.99, \"image\": \"MercedesGLA_30.MP4\", \"vehicle\": \"MercedesGLA\"}, {\"speed\": 33.0, \"time\": 4.98, \"image\": \"MercedesGLA_33.MP4\", \"vehicle\": \"MercedesGLA\"}, {\"speed\": 36.0, \"time\": 4.99, \"image\": \"MercedesGLA_36.MP4\", \"vehicle\": \"MercedesGLA\"}, {\"speed\": 39.0, \"time\": 5.0, \"image\": \"MercedesGLA_39.MP4\", \"vehicle\": \"MercedesGLA\"}, {\"speed\": 41.0, \"time\": 4.99, \"image\": \"MercedesGLA_41.MP4\", \"vehicle\": \"MercedesGLA\"}, {\"speed\": 42.0, \"time\": 5.0, \"image\": \"MercedesGLA_42.MP4\", \"vehicle\": \"MercedesGLA\"}, {\"speed\": 45.0, \"time\": 5.02, \"image\": \"MercedesGLA_45.MP4\", \"vehicle\": \"MercedesGLA\"}, {\"speed\": 47.0, \"time\": 5.0, \"image\": \"MercedesGLA_47.MP4\", \"vehicle\": \"MercedesGLA\"}, {\"speed\": 48.0, \"time\": 5.0, \"image\": \"MercedesGLA_48.MP4\", \"vehicle\": \"MercedesGLA\"}, {\"speed\": 49.0, \"time\": 5.01, \"image\": \"MercedesGLA_49.MP4\", \"vehicle\": \"MercedesGLA\"}, {\"speed\": 52.0, \"time\": 5.0, \"image\": \"MercedesGLA_52.MP4\", \"vehicle\": \"MercedesGLA\"}, {\"speed\": 54.0, \"time\": 5.0, \"image\": \"MercedesGLA_54.MP4\", \"vehicle\": \"MercedesGLA\"}, {\"speed\": 55.0, \"time\": 4.99, \"image\": \"MercedesGLA_55.MP4\", \"vehicle\": \"MercedesGLA\"}, {\"speed\": 59.0, \"time\": 5.01, \"image\": \"MercedesGLA_59.MP4\", \"vehicle\": \"MercedesGLA\"}, {\"speed\": 61.0, \"time\": 5.08, \"image\": \"MercedesGLA_61.MP4\", \"vehicle\": \"MercedesGLA\"}, {\"speed\": 63.0, \"time\": 4.99, \"image\": \"MercedesGLA_63.MP4\", \"vehicle\": \"MercedesGLA\"}, {\"speed\": 65.0, \"time\": 4.99, \"image\": \"MercedesGLA_65.MP4\", \"vehicle\": \"MercedesGLA\"}, {\"speed\": 68.0, \"time\": 4.99, \"image\": \"MercedesGLA_68.MP4\", \"vehicle\": \"MercedesGLA\"}, {\"speed\": 70.0, \"time\": 5.01, \"image\": \"MercedesGLA_70.MP4\", \"vehicle\": \"MercedesGLA\"}, {\"speed\": 72.0, \"time\": 5.0, \"image\": \"MercedesGLA_72.MP4\", \"vehicle\": \"MercedesGLA\"}, {\"speed\": 75.0, \"time\": 5.0, \"image\": \"MercedesGLA_75.MP4\", \"vehicle\": \"MercedesGLA\"}, {\"speed\": 78.0, \"time\": 5.0, \"image\": \"MercedesGLA_78.MP4\", \"vehicle\": \"MercedesGLA\"}, {\"speed\": 81.0, \"time\": 5.01, \"image\": \"MercedesGLA_81.MP4\", \"vehicle\": \"MercedesGLA\"}, {\"speed\": 83.0, \"time\": 5.01, \"image\": \"MercedesGLA_83.MP4\", \"vehicle\": \"MercedesGLA\"}, {\"speed\": 85.0, \"time\": 5.01, \"image\": \"MercedesGLA_85.MP4\", \"vehicle\": \"MercedesGLA\"}, {\"speed\": 88.0, \"time\": 4.99, \"image\": \"MercedesGLA_88.MP4\", \"vehicle\": \"MercedesGLA\"}, {\"speed\": 90.0, \"time\": 5.1, \"image\": \"MercedesGLA_90.MP4\", \"vehicle\": \"MercedesGLA\"}, {\"speed\": 92.0, \"time\": 5.01, \"image\": \"MercedesGLA_92.MP4\", \"vehicle\": \"MercedesGLA\"}, {\"speed\": 93.0, \"time\": 4.99, \"image\": \"MercedesGLA_93.MP4\", \"vehicle\": \"MercedesGLA\"}, {\"speed\": 96.0, \"time\": 5.0, \"image\": \"MercedesGLA_96.MP4\", \"vehicle\": \"MercedesGLA\"}, {\"speed\": 102.0, \"time\": 5.62, \"image\": \"NissanQashqai_102.MP4\", \"vehicle\": \"NissanQashqai\"}, {\"speed\": 35.0, \"time\": 6.1, \"image\": \"NissanQashqai_35.MP4\", \"vehicle\": \"NissanQashqai\"}, {\"speed\": 38.0, \"time\": 6.19, \"image\": \"NissanQashqai_38.MP4\", \"vehicle\": \"NissanQashqai\"}, {\"speed\": 40.0, \"time\": 5.21, \"image\": \"NissanQashqai_40.MP4\", \"vehicle\": \"NissanQashqai\"}, {\"speed\": 42.0, \"time\": 5.14, \"image\": \"NissanQashqai_42.MP4\", \"vehicle\": \"NissanQashqai\"}, {\"speed\": 45.0, \"time\": 6.01, \"image\": \"NissanQashqai_45.MP4\", \"vehicle\": \"NissanQashqai\"}, {\"speed\": 48.0, \"time\": 5.21, \"image\": \"NissanQashqai_48.MP4\", \"vehicle\": \"NissanQashqai\"}, {\"speed\": 50.0, \"time\": 5.85, \"image\": \"NissanQashqai_50.MP4\", \"vehicle\": \"NissanQashqai\"}, {\"speed\": 53.0, \"time\": 5.99, \"image\": \"NissanQashqai_53.MP4\", \"vehicle\": \"NissanQashqai\"}, {\"speed\": 55.0, \"time\": 5.9, \"image\": \"NissanQashqai_55.MP4\", \"vehicle\": \"NissanQashqai\"}, {\"speed\": 58.0, \"time\": 5.61, \"image\": \"NissanQashqai_58.MP4\", \"vehicle\": \"NissanQashqai\"}, {\"speed\": 60.0, \"time\": 5.58, \"image\": \"NissanQashqai_60.MP4\", \"vehicle\": \"NissanQashqai\"}, {\"speed\": 61.0, \"time\": 6.08, \"image\": \"NissanQashqai_61.MP4\", \"vehicle\": \"NissanQashqai\"}, {\"speed\": 64.0, \"time\": 5.92, \"image\": \"NissanQashqai_64.MP4\", \"vehicle\": \"NissanQashqai\"}, {\"speed\": 65.0, \"time\": 5.58, \"image\": \"NissanQashqai_65.MP4\", \"vehicle\": \"NissanQashqai\"}, {\"speed\": 68.0, \"time\": 5.98, \"image\": \"NissanQashqai_68.MP4\", \"vehicle\": \"NissanQashqai\"}, {\"speed\": 70.0, \"time\": 6.04, \"image\": \"NissanQashqai_70.MP4\", \"vehicle\": \"NissanQashqai\"}, {\"speed\": 73.0, \"time\": 6.14, \"image\": \"NissanQashqai_73.MP4\", \"vehicle\": \"NissanQashqai\"}, {\"speed\": 75.0, \"time\": 6.01, \"image\": \"NissanQashqai_75.MP4\", \"vehicle\": \"NissanQashqai\"}, {\"speed\": 78.0, \"time\": 5.9, \"image\": \"NissanQashqai_78.MP4\", \"vehicle\": \"NissanQashqai\"}, {\"speed\": 80.0, \"time\": 5.79, \"image\": \"NissanQashqai_80.MP4\", \"vehicle\": \"NissanQashqai\"}, {\"speed\": 82.0, \"time\": 5.72, \"image\": \"NissanQashqai_82.MP4\", \"vehicle\": \"NissanQashqai\"}, {\"speed\": 85.0, \"time\": 5.91, \"image\": \"NissanQashqai_85.MP4\", \"vehicle\": \"NissanQashqai\"}, {\"speed\": 88.0, \"time\": 6.13, \"image\": \"NissanQashqai_88.MP4\", \"vehicle\": \"NissanQashqai\"}, {\"speed\": 90.0, \"time\": 5.52, \"image\": \"NissanQashqai_90.MP4\", \"vehicle\": \"NissanQashqai\"}, {\"speed\": 93.0, \"time\": 5.79, \"image\": \"NissanQashqai_93.MP4\", \"vehicle\": \"NissanQashqai\"}, {\"speed\": 94.0, \"time\": 5.28, \"image\": \"NissanQashqai_94.MP4\", \"vehicle\": \"NissanQashqai\"}, {\"speed\": 96.0, \"time\": 5.58, \"image\": \"NissanQashqai_96.MP4\", \"vehicle\": \"NissanQashqai\"}, {\"speed\": 98.0, \"time\": 5.38, \"image\": \"NissanQashqai_98.MP4\", \"vehicle\": \"NissanQashqai\"}, {\"speed\": 100.0, \"time\": 5.02, \"image\": \"OpelInsignia_100.MP4\", \"vehicle\": \"OpelInsignia\"}, {\"speed\": 31.0, \"time\": 6.05, \"image\": \"OpelInsignia_31.MP4\", \"vehicle\": \"OpelInsignia\"}, {\"speed\": 35.0, \"time\": 5.92, \"image\": \"OpelInsignia_35.MP4\", \"vehicle\": \"OpelInsignia\"}, {\"speed\": 38.0, \"time\": 6.68, \"image\": \"OpelInsignia_38.MP4\", \"vehicle\": \"OpelInsignia\"}, {\"speed\": 41.0, \"time\": 6.51, \"image\": \"OpelInsignia_41.MP4\", \"vehicle\": \"OpelInsignia\"}, {\"speed\": 44.0, \"time\": 5.92, \"image\": \"OpelInsignia_44.MP4\", \"vehicle\": \"OpelInsignia\"}, {\"speed\": 47.0, \"time\": 5.91, \"image\": \"OpelInsignia_47.MP4\", \"vehicle\": \"OpelInsignia\"}, {\"speed\": 50.0, \"time\": 6.42, \"image\": \"OpelInsignia_50.MP4\", \"vehicle\": \"OpelInsignia\"}, {\"speed\": 53.0, \"time\": 5.71, \"image\": \"OpelInsignia_53.MP4\", \"vehicle\": \"OpelInsignia\"}, {\"speed\": 55.0, \"time\": 5.51, \"image\": \"OpelInsignia_55.MP4\", \"vehicle\": \"OpelInsignia\"}, {\"speed\": 58.0, \"time\": 5.48, \"image\": \"OpelInsignia_58.MP4\", \"vehicle\": \"OpelInsignia\"}, {\"speed\": 61.0, \"time\": 5.54, \"image\": \"OpelInsignia_61.MP4\", \"vehicle\": \"OpelInsignia\"}, {\"speed\": 64.0, \"time\": 5.74, \"image\": \"OpelInsignia_64.MP4\", \"vehicle\": \"OpelInsignia\"}, {\"speed\": 66.0, \"time\": 5.35, \"image\": \"OpelInsignia_66.MP4\", \"vehicle\": \"OpelInsignia\"}, {\"speed\": 68.0, \"time\": 5.25, \"image\": \"OpelInsignia_68.MP4\", \"vehicle\": \"OpelInsignia\"}, {\"speed\": 70.0, \"time\": 5.91, \"image\": \"OpelInsignia_70.MP4\", \"vehicle\": \"OpelInsignia\"}, {\"speed\": 72.0, \"time\": 6.09, \"image\": \"OpelInsignia_72.MP4\", \"vehicle\": \"OpelInsignia\"}, {\"speed\": 73.0, \"time\": 5.39, \"image\": \"OpelInsignia_73.MP4\", \"vehicle\": \"OpelInsignia\"}, {\"speed\": 76.0, \"time\": 6.22, \"image\": \"OpelInsignia_76.MP4\", \"vehicle\": \"OpelInsignia\"}, {\"speed\": 78.0, \"time\": 5.21, \"image\": \"OpelInsignia_78.MP4\", \"vehicle\": \"OpelInsignia\"}, {\"speed\": 80.0, \"time\": 6.24, \"image\": \"OpelInsignia_80.MP4\", \"vehicle\": \"OpelInsignia\"}, {\"speed\": 83.0, \"time\": 6.02, \"image\": \"OpelInsignia_83.MP4\", \"vehicle\": \"OpelInsignia\"}, {\"speed\": 86.0, \"time\": 5.51, \"image\": \"OpelInsignia_86.MP4\", \"vehicle\": \"OpelInsignia\"}, {\"speed\": 89.0, \"time\": 5.59, \"image\": \"OpelInsignia_89.MP4\", \"vehicle\": \"OpelInsignia\"}, {\"speed\": 91.0, \"time\": 5.38, \"image\": \"OpelInsignia_91.MP4\", \"vehicle\": \"OpelInsignia\"}, {\"speed\": 94.0, \"time\": 5.81, \"image\": \"OpelInsignia_94.MP4\", \"vehicle\": \"OpelInsignia\"}, {\"speed\": 97.0, \"time\": 5.72, \"image\": \"OpelInsignia_97.MP4\", \"vehicle\": \"OpelInsignia\"}, {\"speed\": 30.0, \"time\": 5.14, \"image\": \"Peugeot208_30.MP4\", \"vehicle\": \"Peugeot208\"}, {\"speed\": 32.0, \"time\": 5.04, \"image\": \"Peugeot208_32.MP4\", \"vehicle\": \"Peugeot208\"}, {\"speed\": 34.0, \"time\": 5.04, \"image\": \"Peugeot208_34.MP4\", \"vehicle\": \"Peugeot208\"}, {\"speed\": 37.0, \"time\": 5.15, \"image\": \"Peugeot208_37.MP4\", \"vehicle\": \"Peugeot208\"}, {\"speed\": 40.0, \"time\": 5.14, \"image\": \"Peugeot208_40.MP4\", \"vehicle\": \"Peugeot208\"}, {\"speed\": 43.0, \"time\": 5.1, \"image\": \"Peugeot208_43.MP4\", \"vehicle\": \"Peugeot208\"}, {\"speed\": 45.0, \"time\": 5.12, \"image\": \"Peugeot208_45.MP4\", \"vehicle\": \"Peugeot208\"}, {\"speed\": 47.0, \"time\": 5.02, \"image\": \"Peugeot208_47.MP4\", \"vehicle\": \"Peugeot208\"}, {\"speed\": 50.0, \"time\": 4.93, \"image\": \"Peugeot208_50.MP4\", \"vehicle\": \"Peugeot208\"}, {\"speed\": 51.0, \"time\": 5.52, \"image\": \"Peugeot208_51.MP4\", \"vehicle\": \"Peugeot208\"}, {\"speed\": 54.0, \"time\": 5.17, \"image\": \"Peugeot208_54.MP4\", \"vehicle\": \"Peugeot208\"}, {\"speed\": 57.0, \"time\": 5.51, \"image\": \"Peugeot208_57.MP4\", \"vehicle\": \"Peugeot208\"}, {\"speed\": 60.0, \"time\": 5.06, \"image\": \"Peugeot208_60.MP4\", \"vehicle\": \"Peugeot208\"}, {\"speed\": 62.0, \"time\": 5.09, \"image\": \"Peugeot208_62.MP4\", \"vehicle\": \"Peugeot208\"}, {\"speed\": 64.0, \"time\": 5.22, \"image\": \"Peugeot208_64.MP4\", \"vehicle\": \"Peugeot208\"}, {\"speed\": 67.0, \"time\": 5.03, \"image\": \"Peugeot208_67.MP4\", \"vehicle\": \"Peugeot208\"}, {\"speed\": 68.0, \"time\": 5.18, \"image\": \"Peugeot208_68.MP4\", \"vehicle\": \"Peugeot208\"}, {\"speed\": 71.0, \"time\": 5.16, \"image\": \"Peugeot208_71.MP4\", \"vehicle\": \"Peugeot208\"}, {\"speed\": 73.0, \"time\": 4.99, \"image\": \"Peugeot208_73.MP4\", \"vehicle\": \"Peugeot208\"}, {\"speed\": 76.0, \"time\": 5.61, \"image\": \"Peugeot208_76.MP4\", \"vehicle\": \"Peugeot208\"}, {\"speed\": 77.0, \"time\": 6.26, \"image\": \"Peugeot208_77.MP4\", \"vehicle\": \"Peugeot208\"}, {\"speed\": 79.0, \"time\": 5.22, \"image\": \"Peugeot208_79.MP4\", \"vehicle\": \"Peugeot208\"}, {\"speed\": 82.0, \"time\": 5.17, \"image\": \"Peugeot208_82.MP4\", \"vehicle\": \"Peugeot208\"}, {\"speed\": 84.0, \"time\": 5.12, \"image\": \"Peugeot208_84.MP4\", \"vehicle\": \"Peugeot208\"}, {\"speed\": 87.0, \"time\": 5.48, \"image\": \"Peugeot208_87.MP4\", \"vehicle\": \"Peugeot208\"}, {\"speed\": 90.0, \"time\": 5.18, \"image\": \"Peugeot208_90.MP4\", \"vehicle\": \"Peugeot208\"}, {\"speed\": 92.0, \"time\": 5.48, \"image\": \"Peugeot208_92.MP4\", \"vehicle\": \"Peugeot208\"}, {\"speed\": 95.0, \"time\": 5.59, \"image\": \"Peugeot208_95.MP4\", \"vehicle\": \"Peugeot208\"}, {\"speed\": 96.0, \"time\": 5.43, \"image\": \"Peugeot208_96.MP4\", \"vehicle\": \"Peugeot208\"}, {\"speed\": 100.0, \"time\": 5.5, \"image\": \"Peugeot3008_100.MP4\", \"vehicle\": \"Peugeot3008\"}, {\"speed\": 40.0, \"time\": 6.01, \"image\": \"Peugeot3008_40.MP4\", \"vehicle\": \"Peugeot3008\"}, {\"speed\": 43.0, \"time\": 4.93, \"image\": \"Peugeot3008_43.MP4\", \"vehicle\": \"Peugeot3008\"}, {\"speed\": 45.0, \"time\": 6.0, \"image\": \"Peugeot3008_45.MP4\", \"vehicle\": \"Peugeot3008\"}, {\"speed\": 47.0, \"time\": 5.89, \"image\": \"Peugeot3008_47.MP4\", \"vehicle\": \"Peugeot3008\"}, {\"speed\": 50.0, \"time\": 5.99, \"image\": \"Peugeot3008_50.MP4\", \"vehicle\": \"Peugeot3008\"}, {\"speed\": 52.0, \"time\": 6.86, \"image\": \"Peugeot3008_52.MP4\", \"vehicle\": \"Peugeot3008\"}, {\"speed\": 54.0, \"time\": 5.84, \"image\": \"Peugeot3008_54.MP4\", \"vehicle\": \"Peugeot3008\"}, {\"speed\": 55.0, \"time\": 6.02, \"image\": \"Peugeot3008_55.MP4\", \"vehicle\": \"Peugeot3008\"}, {\"speed\": 56.0, \"time\": 5.71, \"image\": \"Peugeot3008_56.MP4\", \"vehicle\": \"Peugeot3008\"}, {\"speed\": 58.0, \"time\": 4.89, \"image\": \"Peugeot3008_58.MP4\", \"vehicle\": \"Peugeot3008\"}, {\"speed\": 60.0, \"time\": 5.99, \"image\": \"Peugeot3008_60.MP4\", \"vehicle\": \"Peugeot3008\"}, {\"speed\": 61.0, \"time\": 5.43, \"image\": \"Peugeot3008_61.MP4\", \"vehicle\": \"Peugeot3008\"}, {\"speed\": 63.0, \"time\": 7.22, \"image\": \"Peugeot3008_63.MP4\", \"vehicle\": \"Peugeot3008\"}, {\"speed\": 65.0, \"time\": 6.0, \"image\": \"Peugeot3008_65.MP4\", \"vehicle\": \"Peugeot3008\"}, {\"speed\": 67.0, \"time\": 5.69, \"image\": \"Peugeot3008_67.MP4\", \"vehicle\": \"Peugeot3008\"}, {\"speed\": 68.0, \"time\": 5.97, \"image\": \"Peugeot3008_68.MP4\", \"vehicle\": \"Peugeot3008\"}, {\"speed\": 70.0, \"time\": 6.0, \"image\": \"Peugeot3008_70.MP4\", \"vehicle\": \"Peugeot3008\"}, {\"speed\": 72.0, \"time\": 5.53, \"image\": \"Peugeot3008_72.MP4\", \"vehicle\": \"Peugeot3008\"}, {\"speed\": 74.0, \"time\": 5.88, \"image\": \"Peugeot3008_74.MP4\", \"vehicle\": \"Peugeot3008\"}, {\"speed\": 75.0, \"time\": 6.09, \"image\": \"Peugeot3008_75.MP4\", \"vehicle\": \"Peugeot3008\"}, {\"speed\": 78.0, \"time\": 5.6, \"image\": \"Peugeot3008_78.MP4\", \"vehicle\": \"Peugeot3008\"}, {\"speed\": 80.0, \"time\": 6.01, \"image\": \"Peugeot3008_80.MP4\", \"vehicle\": \"Peugeot3008\"}, {\"speed\": 83.0, \"time\": 6.62, \"image\": \"Peugeot3008_83.MP4\", \"vehicle\": \"Peugeot3008\"}, {\"speed\": 85.0, \"time\": 6.38, \"image\": \"Peugeot3008_85.MP4\", \"vehicle\": \"Peugeot3008\"}, {\"speed\": 87.0, \"time\": 5.35, \"image\": \"Peugeot3008_87.MP4\", \"vehicle\": \"Peugeot3008\"}, {\"speed\": 89.0, \"time\": 5.15, \"image\": \"Peugeot3008_89.MP4\", \"vehicle\": \"Peugeot3008\"}, {\"speed\": 90.0, \"time\": 5.99, \"image\": \"Peugeot3008_90.MP4\", \"vehicle\": \"Peugeot3008\"}, {\"speed\": 92.0, \"time\": 5.37, \"image\": \"Peugeot3008_92.MP4\", \"vehicle\": \"Peugeot3008\"}, {\"speed\": 95.0, \"time\": 6.1, \"image\": \"Peugeot3008_95.MP4\", \"vehicle\": \"Peugeot3008\"}, {\"speed\": 97.0, \"time\": 6.39, \"image\": \"Peugeot3008_97.MP4\", \"vehicle\": \"Peugeot3008\"}, {\"speed\": 101.0, \"time\": 5.45, \"image\": \"Peugeot307_101.MP4\", \"vehicle\": \"Peugeot307\"}, {\"speed\": 103.0, \"time\": 5.86, \"image\": \"Peugeot307_103.MP4\", \"vehicle\": \"Peugeot307\"}, {\"speed\": 30.0, \"time\": 5.52, \"image\": \"Peugeot307_30.MP4\", \"vehicle\": \"Peugeot307\"}, {\"speed\": 33.0, \"time\": 5.62, \"image\": \"Peugeot307_33.MP4\", \"vehicle\": \"Peugeot307\"}, {\"speed\": 35.0, \"time\": 5.55, \"image\": \"Peugeot307_35.MP4\", \"vehicle\": \"Peugeot307\"}, {\"speed\": 38.0, \"time\": 5.08, \"image\": \"Peugeot307_38.MP4\", \"vehicle\": \"Peugeot307\"}, {\"speed\": 40.0, \"time\": 5.02, \"image\": \"Peugeot307_40.MP4\", \"vehicle\": \"Peugeot307\"}, {\"speed\": 43.0, \"time\": 4.95, \"image\": \"Peugeot307_43.MP4\", \"vehicle\": \"Peugeot307\"}, {\"speed\": 45.0, \"time\": 5.18, \"image\": \"Peugeot307_45.MP4\", \"vehicle\": \"Peugeot307\"}, {\"speed\": 47.0, \"time\": 4.99, \"image\": \"Peugeot307_47.MP4\", \"vehicle\": \"Peugeot307\"}, {\"speed\": 48.0, \"time\": 4.97, \"image\": \"Peugeot307_48.MP4\", \"vehicle\": \"Peugeot307\"}, {\"speed\": 50.0, \"time\": 5.18, \"image\": \"Peugeot307_50.MP4\", \"vehicle\": \"Peugeot307\"}, {\"speed\": 53.0, \"time\": 4.98, \"image\": \"Peugeot307_53.MP4\", \"vehicle\": \"Peugeot307\"}, {\"speed\": 56.0, \"time\": 5.45, \"image\": \"Peugeot307_56.MP4\", \"vehicle\": \"Peugeot307\"}, {\"speed\": 59.0, \"time\": 4.97, \"image\": \"Peugeot307_59.MP4\", \"vehicle\": \"Peugeot307\"}, {\"speed\": 60.0, \"time\": 6.33, \"image\": \"Peugeot307_60.MP4\", \"vehicle\": \"Peugeot307\"}, {\"speed\": 63.0, \"time\": 5.08, \"image\": \"Peugeot307_63.MP4\", \"vehicle\": \"Peugeot307\"}, {\"speed\": 66.0, \"time\": 5.18, \"image\": \"Peugeot307_66.MP4\", \"vehicle\": \"Peugeot307\"}, {\"speed\": 69.0, \"time\": 4.85, \"image\": \"Peugeot307_69.MP4\", \"vehicle\": \"Peugeot307\"}, {\"speed\": 72.0, \"time\": 4.6, \"image\": \"Peugeot307_72.MP4\", \"vehicle\": \"Peugeot307\"}, {\"speed\": 73.0, \"time\": 4.95, \"image\": \"Peugeot307_73.MP4\", \"vehicle\": \"Peugeot307\"}, {\"speed\": 76.0, \"time\": 4.9, \"image\": \"Peugeot307_76.MP4\", \"vehicle\": \"Peugeot307\"}, {\"speed\": 79.0, \"time\": 4.93, \"image\": \"Peugeot307_79.MP4\", \"vehicle\": \"Peugeot307\"}, {\"speed\": 82.0, \"time\": 5.22, \"image\": \"Peugeot307_82.MP4\", \"vehicle\": \"Peugeot307\"}, {\"speed\": 85.0, \"time\": 5.25, \"image\": \"Peugeot307_85.MP4\", \"vehicle\": \"Peugeot307\"}, {\"speed\": 88.0, \"time\": 4.94, \"image\": \"Peugeot307_88.MP4\", \"vehicle\": \"Peugeot307\"}, {\"speed\": 91.0, \"time\": 5.05, \"image\": \"Peugeot307_91.MP4\", \"vehicle\": \"Peugeot307\"}, {\"speed\": 94.0, \"time\": 4.75, \"image\": \"Peugeot307_94.MP4\", \"vehicle\": \"Peugeot307\"}, {\"speed\": 97.0, \"time\": 4.95, \"image\": \"Peugeot307_97.MP4\", \"vehicle\": \"Peugeot307\"}, {\"speed\": 100.0, \"time\": 5.19, \"image\": \"RenaultCaptur_100.MP4\", \"vehicle\": \"RenaultCaptur\"}, {\"speed\": 102.0, \"time\": 5.34, \"image\": \"RenaultCaptur_102.MP4\", \"vehicle\": \"RenaultCaptur\"}, {\"speed\": 30.0, \"time\": 5.55, \"image\": \"RenaultCaptur_30.MP4\", \"vehicle\": \"RenaultCaptur\"}, {\"speed\": 33.0, \"time\": 5.85, \"image\": \"RenaultCaptur_33.MP4\", \"vehicle\": \"RenaultCaptur\"}, {\"speed\": 36.0, \"time\": 5.32, \"image\": \"RenaultCaptur_36.MP4\", \"vehicle\": \"RenaultCaptur\"}, {\"speed\": 38.0, \"time\": 5.44, \"image\": \"RenaultCaptur_38.MP4\", \"vehicle\": \"RenaultCaptur\"}, {\"speed\": 40.0, \"time\": 5.29, \"image\": \"RenaultCaptur_40.MP4\", \"vehicle\": \"RenaultCaptur\"}, {\"speed\": 41.0, \"time\": 5.36, \"image\": \"RenaultCaptur_41.MP4\", \"vehicle\": \"RenaultCaptur\"}, {\"speed\": 44.0, \"time\": 5.3, \"image\": \"RenaultCaptur_44.MP4\", \"vehicle\": \"RenaultCaptur\"}, {\"speed\": 46.0, \"time\": 4.68, \"image\": \"RenaultCaptur_46.MP4\", \"vehicle\": \"RenaultCaptur\"}, {\"speed\": 47.0, \"time\": 5.28, \"image\": \"RenaultCaptur_47.MP4\", \"vehicle\": \"RenaultCaptur\"}, {\"speed\": 48.0, \"time\": 5.57, \"image\": \"RenaultCaptur_48.MP4\", \"vehicle\": \"RenaultCaptur\"}, {\"speed\": 50.0, \"time\": 5.09, \"image\": \"RenaultCaptur_50.MP4\", \"vehicle\": \"RenaultCaptur\"}, {\"speed\": 52.0, \"time\": 5.53, \"image\": \"RenaultCaptur_52.MP4\", \"vehicle\": \"RenaultCaptur\"}, {\"speed\": 56.0, \"time\": 5.21, \"image\": \"RenaultCaptur_56.MP4\", \"vehicle\": \"RenaultCaptur\"}, {\"speed\": 58.0, \"time\": 5.32, \"image\": \"RenaultCaptur_58.MP4\", \"vehicle\": \"RenaultCaptur\"}, {\"speed\": 60.0, \"time\": 5.39, \"image\": \"RenaultCaptur_60.MP4\", \"vehicle\": \"RenaultCaptur\"}, {\"speed\": 63.0, \"time\": 5.42, \"image\": \"RenaultCaptur_63.MP4\", \"vehicle\": \"RenaultCaptur\"}, {\"speed\": 66.0, \"time\": 5.01, \"image\": \"RenaultCaptur_66.MP4\", \"vehicle\": \"RenaultCaptur\"}, {\"speed\": 68.0, \"time\": 5.15, \"image\": \"RenaultCaptur_68.MP4\", \"vehicle\": \"RenaultCaptur\"}, {\"speed\": 70.0, \"time\": 5.75, \"image\": \"RenaultCaptur_70.MP4\", \"vehicle\": \"RenaultCaptur\"}, {\"speed\": 72.0, \"time\": 5.08, \"image\": \"RenaultCaptur_72.MP4\", \"vehicle\": \"RenaultCaptur\"}, {\"speed\": 76.0, \"time\": 5.94, \"image\": \"RenaultCaptur_76.MP4\", \"vehicle\": \"RenaultCaptur\"}, {\"speed\": 78.0, \"time\": 5.32, \"image\": \"RenaultCaptur_78.MP4\", \"vehicle\": \"RenaultCaptur\"}, {\"speed\": 80.0, \"time\": 4.79, \"image\": \"RenaultCaptur_80.MP4\", \"vehicle\": \"RenaultCaptur\"}, {\"speed\": 83.0, \"time\": 5.59, \"image\": \"RenaultCaptur_83.MP4\", \"vehicle\": \"RenaultCaptur\"}, {\"speed\": 86.0, \"time\": 5.18, \"image\": \"RenaultCaptur_86.MP4\", \"vehicle\": \"RenaultCaptur\"}, {\"speed\": 88.0, \"time\": 5.24, \"image\": \"RenaultCaptur_88.MP4\", \"vehicle\": \"RenaultCaptur\"}, {\"speed\": 90.0, \"time\": 5.61, \"image\": \"RenaultCaptur_90.MP4\", \"vehicle\": \"RenaultCaptur\"}, {\"speed\": 92.0, \"time\": 5.64, \"image\": \"RenaultCaptur_92.MP4\", \"vehicle\": \"RenaultCaptur\"}, {\"speed\": 94.0, \"time\": 5.06, \"image\": \"RenaultCaptur_94.MP4\", \"vehicle\": \"RenaultCaptur\"}, {\"speed\": 97.0, \"time\": 6.02, \"image\": \"RenaultCaptur_97.MP4\", \"vehicle\": \"RenaultCaptur\"}, {\"speed\": 98.0, \"time\": 5.11, \"image\": \"RenaultCaptur_98.MP4\", \"vehicle\": \"RenaultCaptur\"}, {\"speed\": 101.0, \"time\": 6.17, \"image\": \"RenaultScenic_101.MP4\", \"vehicle\": \"RenaultScenic\"}, {\"speed\": 30.0, \"time\": 6.0, \"image\": \"RenaultScenic_30.MP4\", \"vehicle\": \"RenaultScenic\"}, {\"speed\": 35.0, \"time\": 6.82, \"image\": \"RenaultScenic_35.MP4\", \"vehicle\": \"RenaultScenic\"}, {\"speed\": 36.0, \"time\": 6.01, \"image\": \"RenaultScenic_36.MP4\", \"vehicle\": \"RenaultScenic\"}, {\"speed\": 38.0, \"time\": 6.03, \"image\": \"RenaultScenic_38.MP4\", \"vehicle\": \"RenaultScenic\"}, {\"speed\": 40.0, \"time\": 6.7, \"image\": \"RenaultScenic_40.MP4\", \"vehicle\": \"RenaultScenic\"}, {\"speed\": 42.0, \"time\": 5.83, \"image\": \"RenaultScenic_42.MP4\", \"vehicle\": \"RenaultScenic\"}, {\"speed\": 44.0, \"time\": 5.27, \"image\": \"RenaultScenic_44.MP4\", \"vehicle\": \"RenaultScenic\"}, {\"speed\": 46.0, \"time\": 6.75, \"image\": \"RenaultScenic_46.MP4\", \"vehicle\": \"RenaultScenic\"}, {\"speed\": 48.0, \"time\": 5.75, \"image\": \"RenaultScenic_48.MP4\", \"vehicle\": \"RenaultScenic\"}, {\"speed\": 50.0, \"time\": 7.25, \"image\": \"RenaultScenic_50.MP4\", \"vehicle\": \"RenaultScenic\"}, {\"speed\": 52.0, \"time\": 5.25, \"image\": \"RenaultScenic_52.MP4\", \"vehicle\": \"RenaultScenic\"}, {\"speed\": 54.0, \"time\": 5.46, \"image\": \"RenaultScenic_54.MP4\", \"vehicle\": \"RenaultScenic\"}, {\"speed\": 57.0, \"time\": 6.6, \"image\": \"RenaultScenic_57.MP4\", \"vehicle\": \"RenaultScenic\"}, {\"speed\": 60.0, \"time\": 6.12, \"image\": \"RenaultScenic_60.MP4\", \"vehicle\": \"RenaultScenic\"}, {\"speed\": 62.0, \"time\": 6.05, \"image\": \"RenaultScenic_62.MP4\", \"vehicle\": \"RenaultScenic\"}, {\"speed\": 64.0, \"time\": 5.76, \"image\": \"RenaultScenic_64.MP4\", \"vehicle\": \"RenaultScenic\"}, {\"speed\": 66.0, \"time\": 5.35, \"image\": \"RenaultScenic_66.MP4\", \"vehicle\": \"RenaultScenic\"}, {\"speed\": 68.0, \"time\": 6.57, \"image\": \"RenaultScenic_68.MP4\", \"vehicle\": \"RenaultScenic\"}, {\"speed\": 70.0, \"time\": 5.85, \"image\": \"RenaultScenic_70.MP4\", \"vehicle\": \"RenaultScenic\"}, {\"speed\": 71.0, \"time\": 5.99, \"image\": \"RenaultScenic_71.MP4\", \"vehicle\": \"RenaultScenic\"}, {\"speed\": 72.0, \"time\": 5.23, \"image\": \"RenaultScenic_72.MP4\", \"vehicle\": \"RenaultScenic\"}, {\"speed\": 74.0, \"time\": 5.7, \"image\": \"RenaultScenic_74.MP4\", \"vehicle\": \"RenaultScenic\"}, {\"speed\": 75.0, \"time\": 5.45, \"image\": \"RenaultScenic_75.MP4\", \"vehicle\": \"RenaultScenic\"}, {\"speed\": 77.0, \"time\": 7.32, \"image\": \"RenaultScenic_77.MP4\", \"vehicle\": \"RenaultScenic\"}, {\"speed\": 80.0, \"time\": 7.01, \"image\": \"RenaultScenic_80.MP4\", \"vehicle\": \"RenaultScenic\"}, {\"speed\": 82.0, \"time\": 6.06, \"image\": \"RenaultScenic_82.MP4\", \"vehicle\": \"RenaultScenic\"}, {\"speed\": 84.0, \"time\": 5.39, \"image\": \"RenaultScenic_84.MP4\", \"vehicle\": \"RenaultScenic\"}, {\"speed\": 86.0, \"time\": 5.65, \"image\": \"RenaultScenic_86.MP4\", \"vehicle\": \"RenaultScenic\"}, {\"speed\": 87.0, \"time\": 6.0, \"image\": \"RenaultScenic_87.MP4\", \"vehicle\": \"RenaultScenic\"}, {\"speed\": 90.0, \"time\": 5.09, \"image\": \"RenaultScenic_90.MP4\", \"vehicle\": \"RenaultScenic\"}, {\"speed\": 91.0, \"time\": 6.21, \"image\": \"RenaultScenic_91.MP4\", \"vehicle\": \"RenaultScenic\"}, {\"speed\": 94.0, \"time\": 6.18, \"image\": \"RenaultScenic_94.MP4\", \"vehicle\": \"RenaultScenic\"}, {\"speed\": 95.0, \"time\": 6.23, \"image\": \"RenaultScenic_95.MP4\", \"vehicle\": \"RenaultScenic\"}, {\"speed\": 98.0, \"time\": 5.38, \"image\": \"RenaultScenic_98.MP4\", \"vehicle\": \"RenaultScenic\"}, {\"speed\": 100.0, \"time\": 6.01, \"image\": \"VWPassat_100.MP4\", \"vehicle\": \"VWPassat\"}, {\"speed\": 30.0, \"time\": 6.46, \"image\": \"VWPassat_30.MP4\", \"vehicle\": \"VWPassat\"}, {\"speed\": 35.0, \"time\": 5.92, \"image\": \"VWPassat_35.MP4\", \"vehicle\": \"VWPassat\"}, {\"speed\": 39.0, \"time\": 5.27, \"image\": \"VWPassat_39.MP4\", \"vehicle\": \"VWPassat\"}, {\"speed\": 40.0, \"time\": 6.53, \"image\": \"VWPassat_40.MP4\", \"vehicle\": \"VWPassat\"}, {\"speed\": 42.0, \"time\": 6.72, \"image\": \"VWPassat_42.MP4\", \"vehicle\": \"VWPassat\"}, {\"speed\": 45.0, \"time\": 6.35, \"image\": \"VWPassat_45.MP4\", \"vehicle\": \"VWPassat\"}, {\"speed\": 47.0, \"time\": 5.25, \"image\": \"VWPassat_47.MP4\", \"vehicle\": \"VWPassat\"}, {\"speed\": 49.0, \"time\": 5.27, \"image\": \"VWPassat_49.MP4\", \"vehicle\": \"VWPassat\"}, {\"speed\": 50.0, \"time\": 6.0, \"image\": \"VWPassat_50.MP4\", \"vehicle\": \"VWPassat\"}, {\"speed\": 52.0, \"time\": 6.02, \"image\": \"VWPassat_52.MP4\", \"vehicle\": \"VWPassat\"}, {\"speed\": 54.0, \"time\": 5.54, \"image\": \"VWPassat_54.MP4\", \"vehicle\": \"VWPassat\"}, {\"speed\": 55.0, \"time\": 6.02, \"image\": \"VWPassat_55.MP4\", \"vehicle\": \"VWPassat\"}, {\"speed\": 57.0, \"time\": 4.98, \"image\": \"VWPassat_57.MP4\", \"vehicle\": \"VWPassat\"}, {\"speed\": 60.0, \"time\": 5.98, \"image\": \"VWPassat_60.MP4\", \"vehicle\": \"VWPassat\"}, {\"speed\": 61.0, \"time\": 6.01, \"image\": \"VWPassat_61.MP4\", \"vehicle\": \"VWPassat\"}, {\"speed\": 64.0, \"time\": 5.67, \"image\": \"VWPassat_64.MP4\", \"vehicle\": \"VWPassat\"}, {\"speed\": 65.0, \"time\": 5.82, \"image\": \"VWPassat_65.MP4\", \"vehicle\": \"VWPassat\"}, {\"speed\": 67.0, \"time\": 5.08, \"image\": \"VWPassat_67.MP4\", \"vehicle\": \"VWPassat\"}, {\"speed\": 70.0, \"time\": 6.0, \"image\": \"VWPassat_70.MP4\", \"vehicle\": \"VWPassat\"}, {\"speed\": 71.0, \"time\": 5.51, \"image\": \"VWPassat_71.MP4\", \"vehicle\": \"VWPassat\"}, {\"speed\": 72.0, \"time\": 5.42, \"image\": \"VWPassat_72.MP4\", \"vehicle\": \"VWPassat\"}, {\"speed\": 73.0, \"time\": 5.32, \"image\": \"VWPassat_73.MP4\", \"vehicle\": \"VWPassat\"}, {\"speed\": 75.0, \"time\": 6.02, \"image\": \"VWPassat_75.MP4\", \"vehicle\": \"VWPassat\"}, {\"speed\": 78.0, \"time\": 5.85, \"image\": \"VWPassat_78.MP4\", \"vehicle\": \"VWPassat\"}, {\"speed\": 80.0, \"time\": 5.99, \"image\": \"VWPassat_80.MP4\", \"vehicle\": \"VWPassat\"}, {\"speed\": 81.0, \"time\": 5.58, \"image\": \"VWPassat_81.MP4\", \"vehicle\": \"VWPassat\"}, {\"speed\": 82.0, \"time\": 5.62, \"image\": \"VWPassat_82.MP4\", \"vehicle\": \"VWPassat\"}, {\"speed\": 85.0, \"time\": 6.23, \"image\": \"VWPassat_85.MP4\", \"vehicle\": \"VWPassat\"}, {\"speed\": 88.0, \"time\": 7.31, \"image\": \"VWPassat_88.MP4\", \"vehicle\": \"VWPassat\"}, {\"speed\": 90.0, \"time\": 5.2, \"image\": \"VWPassat_90.MP4\", \"vehicle\": \"VWPassat\"}, {\"speed\": 91.0, \"time\": 5.45, \"image\": \"VWPassat_91.MP4\", \"vehicle\": \"VWPassat\"}, {\"speed\": 94.0, \"time\": 6.0, \"image\": \"VWPassat_94.MP4\", \"vehicle\": \"VWPassat\"}, {\"speed\": 96.0, \"time\": 5.72, \"image\": \"VWPassat_96.MP4\", \"vehicle\": \"VWPassat\"}, {\"speed\": 98.0, \"time\": 5.99, \"image\": \"VWPassat_98.MP4\", \"vehicle\": \"VWPassat\"}]}}, {\"mode\": \"vega-lite\"});\n",
       "</script>"
      ],
      "text/plain": [
       "alt.LayerChart(...)"
      ]
     },
     "execution_count": 9,
     "metadata": {},
     "output_type": "execute_result"
    }
   ],
   "source": [
    "correlation_matrix = df_combined[['speed', 'time']].corr()\n",
    "correlation = correlation_matrix['speed']['time']\n",
    "\n",
    "scatter_plot = alt.Chart(df_combined).mark_point(filled=True, size=40, opacity=0.5).encode(\n",
    "    x=alt.X('speed:Q', axis=alt.Axis(title='Velocidad (km/h)')),\n",
    "    y=alt.Y('time:Q', axis=alt.Axis(title='Tiempo (s)')),\n",
    "    tooltip=['speed', 'time'],\n",
    "    color=alt.value('steelblue')\n",
    ").properties(\n",
    "    width=500,  # Increased width for better readability\n",
    "    height=400,  # Adjusted height for a better aspect ratio\n",
    "    title=alt.TitleParams(f'Correlacion Velocidad vs Tiempo (Correlation: {correlation:.2f})', \n",
    "                          fontSize=16, fontWeight='bold', anchor='middle')  # Centered and styled title\n",
    ")\n",
    "\n",
    "trendline = alt.Chart(df_combined).transform_regression('speed', 'time').mark_line(color='red', strokeWidth=3).encode(\n",
    "    x='speed:Q',\n",
    "    y='time:Q'\n",
    ")\n",
    "\n",
    "final_chart = scatter_plot + trendline\n",
    "final_chart"
   ]
  },
  {
   "cell_type": "code",
   "execution_count": 10,
   "metadata": {
    "collapsed": false,
    "jupyter": {
     "outputs_hidden": false
    },
    "pycharm": {
     "name": "#%%\n"
    }
   },
   "outputs": [
    {
     "data": {
      "text/html": [
       "\n",
       "<style>\n",
       "  #altair-viz-f615dc007e61434090ef684759c2796c.vega-embed {\n",
       "    width: 100%;\n",
       "    display: flex;\n",
       "  }\n",
       "\n",
       "  #altair-viz-f615dc007e61434090ef684759c2796c.vega-embed details,\n",
       "  #altair-viz-f615dc007e61434090ef684759c2796c.vega-embed details summary {\n",
       "    position: relative;\n",
       "  }\n",
       "</style>\n",
       "<div id=\"altair-viz-f615dc007e61434090ef684759c2796c\"></div>\n",
       "<script type=\"text/javascript\">\n",
       "  var VEGA_DEBUG = (typeof VEGA_DEBUG == \"undefined\") ? {} : VEGA_DEBUG;\n",
       "  (function(spec, embedOpt){\n",
       "    let outputDiv = document.currentScript.previousElementSibling;\n",
       "    if (outputDiv.id !== \"altair-viz-f615dc007e61434090ef684759c2796c\") {\n",
       "      outputDiv = document.getElementById(\"altair-viz-f615dc007e61434090ef684759c2796c\");\n",
       "    }\n",
       "    const paths = {\n",
       "      \"vega\": \"https://cdn.jsdelivr.net/npm/vega@5?noext\",\n",
       "      \"vega-lib\": \"https://cdn.jsdelivr.net/npm/vega-lib?noext\",\n",
       "      \"vega-lite\": \"https://cdn.jsdelivr.net/npm/vega-lite@5.8.0?noext\",\n",
       "      \"vega-embed\": \"https://cdn.jsdelivr.net/npm/vega-embed@6?noext\",\n",
       "    };\n",
       "\n",
       "    function maybeLoadScript(lib, version) {\n",
       "      var key = `${lib.replace(\"-\", \"\")}_version`;\n",
       "      return (VEGA_DEBUG[key] == version) ?\n",
       "        Promise.resolve(paths[lib]) :\n",
       "        new Promise(function(resolve, reject) {\n",
       "          var s = document.createElement('script');\n",
       "          document.getElementsByTagName(\"head\")[0].appendChild(s);\n",
       "          s.async = true;\n",
       "          s.onload = () => {\n",
       "            VEGA_DEBUG[key] = version;\n",
       "            return resolve(paths[lib]);\n",
       "          };\n",
       "          s.onerror = () => reject(`Error loading script: ${paths[lib]}`);\n",
       "          s.src = paths[lib];\n",
       "        });\n",
       "    }\n",
       "\n",
       "    function showError(err) {\n",
       "      outputDiv.innerHTML = `<div class=\"error\" style=\"color:red;\">${err}</div>`;\n",
       "      throw err;\n",
       "    }\n",
       "\n",
       "    function displayChart(vegaEmbed) {\n",
       "      vegaEmbed(outputDiv, spec, embedOpt)\n",
       "        .catch(err => showError(`Javascript Error: ${err.message}<br>This usually means there's a typo in your chart specification. See the javascript console for the full traceback.`));\n",
       "    }\n",
       "\n",
       "    if(typeof define === \"function\" && define.amd) {\n",
       "      requirejs.config({paths});\n",
       "      require([\"vega-embed\"], displayChart, err => showError(`Error loading script: ${err.message}`));\n",
       "    } else {\n",
       "      maybeLoadScript(\"vega\", \"5\")\n",
       "        .then(() => maybeLoadScript(\"vega-lite\", \"5.8.0\"))\n",
       "        .then(() => maybeLoadScript(\"vega-embed\", \"6\"))\n",
       "        .catch(showError)\n",
       "        .then(() => displayChart(vegaEmbed));\n",
       "    }\n",
       "  })({\"config\": {\"view\": {\"continuousWidth\": 300, \"continuousHeight\": 300}}, \"layer\": [{\"mark\": {\"type\": \"point\", \"filled\": true, \"opacity\": 0.5, \"size\": 40}, \"encoding\": {\"color\": {\"value\": \"steelblue\"}, \"tooltip\": [{\"field\": \"speed\", \"type\": \"quantitative\"}, {\"field\": \"time\", \"type\": \"quantitative\"}], \"x\": {\"axis\": {\"title\": \"Velocidad (km/h)\"}, \"field\": \"speed\", \"type\": \"quantitative\"}, \"y\": {\"axis\": {\"title\": \"Tiempo (s)\"}, \"field\": \"time\", \"type\": \"quantitative\"}}, \"title\": {\"text\": \"Correlacion Velocidad vs Tiempo (Correlation: -0.03)\", \"anchor\": \"middle\", \"fontSize\": 16, \"fontWeight\": \"bold\"}}, {\"mark\": {\"type\": \"line\", \"color\": \"red\", \"strokeWidth\": 3}, \"encoding\": {\"x\": {\"field\": \"speed\", \"type\": \"quantitative\"}, \"y\": {\"field\": \"time\", \"type\": \"quantitative\"}}, \"transform\": [{\"on\": \"speed\", \"regression\": \"time\"}]}], \"data\": {\"name\": \"data-5d3be3fd43ab46cca79cf2374d1a4771\"}, \"height\": 400, \"width\": 500, \"$schema\": \"https://vega.github.io/schema/vega-lite/v5.8.0.json\", \"datasets\": {\"data-5d3be3fd43ab46cca79cf2374d1a4771\": [{\"speed\": 101.0, \"time\": 7.49, \"image\": \"CitroenC4Picasso_101.MP4\", \"vehicle\": \"CitroenC4Picasso\"}, {\"speed\": 35.0, \"time\": 6.25, \"image\": \"CitroenC4Picasso_35.MP4\", \"vehicle\": \"CitroenC4Picasso\"}, {\"speed\": 38.0, \"time\": 5.82, \"image\": \"CitroenC4Picasso_38.MP4\", \"vehicle\": \"CitroenC4Picasso\"}, {\"speed\": 41.0, \"time\": 6.16, \"image\": \"CitroenC4Picasso_41.MP4\", \"vehicle\": \"CitroenC4Picasso\"}, {\"speed\": 44.0, \"time\": 5.44, \"image\": \"CitroenC4Picasso_44.MP4\", \"vehicle\": \"CitroenC4Picasso\"}, {\"speed\": 48.0, \"time\": 6.03, \"image\": \"CitroenC4Picasso_48.MP4\", \"vehicle\": \"CitroenC4Picasso\"}, {\"speed\": 51.0, \"time\": 5.85, \"image\": \"CitroenC4Picasso_51.MP4\", \"vehicle\": \"CitroenC4Picasso\"}, {\"speed\": 54.0, \"time\": 5.65, \"image\": \"CitroenC4Picasso_54.MP4\", \"vehicle\": \"CitroenC4Picasso\"}, {\"speed\": 57.0, \"time\": 5.95, \"image\": \"CitroenC4Picasso_57.MP4\", \"vehicle\": \"CitroenC4Picasso\"}, {\"speed\": 59.0, \"time\": 5.85, \"image\": \"CitroenC4Picasso_59.MP4\", \"vehicle\": \"CitroenC4Picasso\"}, {\"speed\": 63.0, \"time\": 6.06, \"image\": \"CitroenC4Picasso_63.MP4\", \"vehicle\": \"CitroenC4Picasso\"}, {\"speed\": 65.0, \"time\": 5.66, \"image\": \"CitroenC4Picasso_65.MP4\", \"vehicle\": \"CitroenC4Picasso\"}, {\"speed\": 68.0, \"time\": 6.16, \"image\": \"CitroenC4Picasso_68.MP4\", \"vehicle\": \"CitroenC4Picasso\"}, {\"speed\": 72.0, \"time\": 5.75, \"image\": \"CitroenC4Picasso_72.MP4\", \"vehicle\": \"CitroenC4Picasso\"}, {\"speed\": 74.0, \"time\": 6.26, \"image\": \"CitroenC4Picasso_74.MP4\", \"vehicle\": \"CitroenC4Picasso\"}, {\"speed\": 78.0, \"time\": 6.14, \"image\": \"CitroenC4Picasso_78.MP4\", \"vehicle\": \"CitroenC4Picasso\"}, {\"speed\": 80.0, \"time\": 5.41, \"image\": \"CitroenC4Picasso_80.MP4\", \"vehicle\": \"CitroenC4Picasso\"}, {\"speed\": 83.0, \"time\": 6.63, \"image\": \"CitroenC4Picasso_83.MP4\", \"vehicle\": \"CitroenC4Picasso\"}, {\"speed\": 85.0, \"time\": 5.67, \"image\": \"CitroenC4Picasso_85.MP4\", \"vehicle\": \"CitroenC4Picasso\"}, {\"speed\": 87.0, \"time\": 6.19, \"image\": \"CitroenC4Picasso_87.MP4\", \"vehicle\": \"CitroenC4Picasso\"}, {\"speed\": 92.0, \"time\": 7.62, \"image\": \"CitroenC4Picasso_92.MP4\", \"vehicle\": \"CitroenC4Picasso\"}, {\"speed\": 94.0, \"time\": 6.79, \"image\": \"CitroenC4Picasso_94.MP4\", \"vehicle\": \"CitroenC4Picasso\"}, {\"speed\": 96.0, \"time\": 5.79, \"image\": \"CitroenC4Picasso_96.MP4\", \"vehicle\": \"CitroenC4Picasso\"}, {\"speed\": 100.0, \"time\": 4.98, \"image\": \"KiaSportage_100.MP4\", \"vehicle\": \"KiaSportage\"}, {\"speed\": 103.0, \"time\": 4.91, \"image\": \"KiaSportage_103.MP4\", \"vehicle\": \"KiaSportage\"}, {\"speed\": 105.0, \"time\": 4.98, \"image\": \"KiaSportage_105.MP4\", \"vehicle\": \"KiaSportage\"}, {\"speed\": 31.0, \"time\": 4.94, \"image\": \"KiaSportage_31.MP4\", \"vehicle\": \"KiaSportage\"}, {\"speed\": 33.0, \"time\": 4.91, \"image\": \"KiaSportage_33.MP4\", \"vehicle\": \"KiaSportage\"}, {\"speed\": 35.0, \"time\": 4.93, \"image\": \"KiaSportage_35.MP4\", \"vehicle\": \"KiaSportage\"}, {\"speed\": 38.0, \"time\": 5.05, \"image\": \"KiaSportage_38.MP4\", \"vehicle\": \"KiaSportage\"}, {\"speed\": 41.0, \"time\": 4.93, \"image\": \"KiaSportage_41.MP4\", \"vehicle\": \"KiaSportage\"}, {\"speed\": 44.0, \"time\": 5.02, \"image\": \"KiaSportage_44.MP4\", \"vehicle\": \"KiaSportage\"}, {\"speed\": 46.0, \"time\": 4.94, \"image\": \"KiaSportage_46.MP4\", \"vehicle\": \"KiaSportage\"}, {\"speed\": 48.0, \"time\": 4.96, \"image\": \"KiaSportage_48.MP4\", \"vehicle\": \"KiaSportage\"}, {\"speed\": 51.0, \"time\": 4.92, \"image\": \"KiaSportage_51.MP4\", \"vehicle\": \"KiaSportage\"}, {\"speed\": 53.0, \"time\": 4.97, \"image\": \"KiaSportage_53.MP4\", \"vehicle\": \"KiaSportage\"}, {\"speed\": 55.0, \"time\": 4.95, \"image\": \"KiaSportage_55.MP4\", \"vehicle\": \"KiaSportage\"}, {\"speed\": 58.0, \"time\": 4.92, \"image\": \"KiaSportage_58.MP4\", \"vehicle\": \"KiaSportage\"}, {\"speed\": 61.0, \"time\": 4.96, \"image\": \"KiaSportage_61.MP4\", \"vehicle\": \"KiaSportage\"}, {\"speed\": 63.0, \"time\": 5.0, \"image\": \"KiaSportage_63.MP4\", \"vehicle\": \"KiaSportage\"}, {\"speed\": 65.0, \"time\": 4.93, \"image\": \"KiaSportage_65.MP4\", \"vehicle\": \"KiaSportage\"}, {\"speed\": 68.0, \"time\": 4.96, \"image\": \"KiaSportage_68.MP4\", \"vehicle\": \"KiaSportage\"}, {\"speed\": 69.0, \"time\": 4.94, \"image\": \"KiaSportage_69.MP4\", \"vehicle\": \"KiaSportage\"}, {\"speed\": 72.0, \"time\": 4.95, \"image\": \"KiaSportage_72.MP4\", \"vehicle\": \"KiaSportage\"}, {\"speed\": 74.0, \"time\": 4.94, \"image\": \"KiaSportage_74.MP4\", \"vehicle\": \"KiaSportage\"}, {\"speed\": 77.0, \"time\": 5.02, \"image\": \"KiaSportage_77.MP4\", \"vehicle\": \"KiaSportage\"}, {\"speed\": 78.0, \"time\": 4.95, \"image\": \"KiaSportage_78.MP4\", \"vehicle\": \"KiaSportage\"}, {\"speed\": 80.0, \"time\": 4.94, \"image\": \"KiaSportage_80.MP4\", \"vehicle\": \"KiaSportage\"}, {\"speed\": 83.0, \"time\": 4.95, \"image\": \"KiaSportage_83.MP4\", \"vehicle\": \"KiaSportage\"}, {\"speed\": 85.0, \"time\": 4.95, \"image\": \"KiaSportage_85.MP4\", \"vehicle\": \"KiaSportage\"}, {\"speed\": 86.0, \"time\": 4.92, \"image\": \"KiaSportage_86.MP4\", \"vehicle\": \"KiaSportage\"}, {\"speed\": 89.0, \"time\": 4.98, \"image\": \"KiaSportage_89.MP4\", \"vehicle\": \"KiaSportage\"}, {\"speed\": 91.0, \"time\": 4.95, \"image\": \"KiaSportage_91.MP4\", \"vehicle\": \"KiaSportage\"}, {\"speed\": 93.0, \"time\": 4.98, \"image\": \"KiaSportage_93.MP4\", \"vehicle\": \"KiaSportage\"}, {\"speed\": 96.0, \"time\": 4.91, \"image\": \"KiaSportage_96.MP4\", \"vehicle\": \"KiaSportage\"}, {\"speed\": 98.0, \"time\": 4.92, \"image\": \"KiaSportage_98.MP4\", \"vehicle\": \"KiaSportage\"}, {\"speed\": 101.0, \"time\": 5.04, \"image\": \"Mazda3_101.MP4\", \"vehicle\": \"Mazda3\"}, {\"speed\": 103.0, \"time\": 5.07, \"image\": \"Mazda3_103.MP4\", \"vehicle\": \"Mazda3\"}, {\"speed\": 105.0, \"time\": 4.99, \"image\": \"Mazda3_105.MP4\", \"vehicle\": \"Mazda3\"}, {\"speed\": 30.0, \"time\": 5.23, \"image\": \"Mazda3_30.MP4\", \"vehicle\": \"Mazda3\"}, {\"speed\": 33.0, \"time\": 5.08, \"image\": \"Mazda3_33.MP4\", \"vehicle\": \"Mazda3\"}, {\"speed\": 35.0, \"time\": 5.12, \"image\": \"Mazda3_35.MP4\", \"vehicle\": \"Mazda3\"}, {\"speed\": 38.0, \"time\": 5.15, \"image\": \"Mazda3_38.MP4\", \"vehicle\": \"Mazda3\"}, {\"speed\": 40.0, \"time\": 5.02, \"image\": \"Mazda3_40.MP4\", \"vehicle\": \"Mazda3\"}, {\"speed\": 43.0, \"time\": 5.02, \"image\": \"Mazda3_43.MP4\", \"vehicle\": \"Mazda3\"}, {\"speed\": 45.0, \"time\": 5.31, \"image\": \"Mazda3_45.MP4\", \"vehicle\": \"Mazda3\"}, {\"speed\": 47.0, \"time\": 5.42, \"image\": \"Mazda3_47.MP4\", \"vehicle\": \"Mazda3\"}, {\"speed\": 50.0, \"time\": 5.62, \"image\": \"Mazda3_50.MP4\", \"vehicle\": \"Mazda3\"}, {\"speed\": 52.0, \"time\": 5.15, \"image\": \"Mazda3_52.MP4\", \"vehicle\": \"Mazda3\"}, {\"speed\": 55.0, \"time\": 5.68, \"image\": \"Mazda3_55.MP4\", \"vehicle\": \"Mazda3\"}, {\"speed\": 57.0, \"time\": 5.08, \"image\": \"Mazda3_57.MP4\", \"vehicle\": \"Mazda3\"}, {\"speed\": 60.0, \"time\": 5.09, \"image\": \"Mazda3_60.MP4\", \"vehicle\": \"Mazda3\"}, {\"speed\": 62.0, \"time\": 5.25, \"image\": \"Mazda3_62.MP4\", \"vehicle\": \"Mazda3\"}, {\"speed\": 64.0, \"time\": 5.02, \"image\": \"Mazda3_64.MP4\", \"vehicle\": \"Mazda3\"}, {\"speed\": 67.0, \"time\": 5.65, \"image\": \"Mazda3_67.MP4\", \"vehicle\": \"Mazda3\"}, {\"speed\": 70.0, \"time\": 5.05, \"image\": \"Mazda3_70.MP4\", \"vehicle\": \"Mazda3\"}, {\"speed\": 72.0, \"time\": 5.16, \"image\": \"Mazda3_72.MP4\", \"vehicle\": \"Mazda3\"}, {\"speed\": 75.0, \"time\": 5.02, \"image\": \"Mazda3_75.MP4\", \"vehicle\": \"Mazda3\"}, {\"speed\": 79.0, \"time\": 5.05, \"image\": \"Mazda3_79.MP4\", \"vehicle\": \"Mazda3\"}, {\"speed\": 81.0, \"time\": 5.22, \"image\": \"Mazda3_81.MP4\", \"vehicle\": \"Mazda3\"}, {\"speed\": 84.0, \"time\": 5.08, \"image\": \"Mazda3_84.MP4\", \"vehicle\": \"Mazda3\"}, {\"speed\": 86.0, \"time\": 5.19, \"image\": \"Mazda3_86.MP4\", \"vehicle\": \"Mazda3\"}, {\"speed\": 88.0, \"time\": 5.09, \"image\": \"Mazda3_88.MP4\", \"vehicle\": \"Mazda3\"}, {\"speed\": 90.0, \"time\": 5.11, \"image\": \"Mazda3_90.MP4\", \"vehicle\": \"Mazda3\"}, {\"speed\": 92.0, \"time\": 5.22, \"image\": \"Mazda3_92.MP4\", \"vehicle\": \"Mazda3\"}, {\"speed\": 94.0, \"time\": 5.04, \"image\": \"Mazda3_94.MP4\", \"vehicle\": \"Mazda3\"}, {\"speed\": 96.0, \"time\": 5.02, \"image\": \"Mazda3_96.MP4\", \"vehicle\": \"Mazda3\"}, {\"speed\": 99.0, \"time\": 4.98, \"image\": \"Mazda3_99.MP4\", \"vehicle\": \"Mazda3\"}, {\"speed\": 100.0, \"time\": 4.94, \"image\": \"MercedesAMG550_100.MP4\", \"vehicle\": \"MercedesAMG550\"}, {\"speed\": 105.0, \"time\": 4.45, \"image\": \"MercedesAMG550_105.MP4\", \"vehicle\": \"MercedesAMG550\"}, {\"speed\": 30.0, \"time\": 5.07, \"image\": \"MercedesAMG550_30.MP4\", \"vehicle\": \"MercedesAMG550\"}, {\"speed\": 33.0, \"time\": 5.68, \"image\": \"MercedesAMG550_33.MP4\", \"vehicle\": \"MercedesAMG550\"}, {\"speed\": 35.0, \"time\": 5.99, \"image\": \"MercedesAMG550_35.MP4\", \"vehicle\": \"MercedesAMG550\"}, {\"speed\": 38.0, \"time\": 5.88, \"image\": \"MercedesAMG550_38.MP4\", \"vehicle\": \"MercedesAMG550\"}, {\"speed\": 40.0, \"time\": 5.13, \"image\": \"MercedesAMG550_40.MP4\", \"vehicle\": \"MercedesAMG550\"}, {\"speed\": 42.0, \"time\": 6.28, \"image\": \"MercedesAMG550_42.MP4\", \"vehicle\": \"MercedesAMG550\"}, {\"speed\": 45.0, \"time\": 5.06, \"image\": \"MercedesAMG550_45.MP4\", \"vehicle\": \"MercedesAMG550\"}, {\"speed\": 47.0, \"time\": 5.67, \"image\": \"MercedesAMG550_47.MP4\", \"vehicle\": \"MercedesAMG550\"}, {\"speed\": 50.0, \"time\": 5.19, \"image\": \"MercedesAMG550_50.MP4\", \"vehicle\": \"MercedesAMG550\"}, {\"speed\": 52.0, \"time\": 5.89, \"image\": \"MercedesAMG550_52.MP4\", \"vehicle\": \"MercedesAMG550\"}, {\"speed\": 55.0, \"time\": 5.07, \"image\": \"MercedesAMG550_55.MP4\", \"vehicle\": \"MercedesAMG550\"}, {\"speed\": 58.0, \"time\": 5.65, \"image\": \"MercedesAMG550_58.MP4\", \"vehicle\": \"MercedesAMG550\"}, {\"speed\": 60.0, \"time\": 5.25, \"image\": \"MercedesAMG550_60.MP4\", \"vehicle\": \"MercedesAMG550\"}, {\"speed\": 62.0, \"time\": 5.38, \"image\": \"MercedesAMG550_62.MP4\", \"vehicle\": \"MercedesAMG550\"}, {\"speed\": 65.0, \"time\": 7.04, \"image\": \"MercedesAMG550_65.MP4\", \"vehicle\": \"MercedesAMG550\"}, {\"speed\": 67.0, \"time\": 5.76, \"image\": \"MercedesAMG550_67.MP4\", \"vehicle\": \"MercedesAMG550\"}, {\"speed\": 70.0, \"time\": 4.83, \"image\": \"MercedesAMG550_70.MP4\", \"vehicle\": \"MercedesAMG550\"}, {\"speed\": 73.0, \"time\": 5.63, \"image\": \"MercedesAMG550_73.MP4\", \"vehicle\": \"MercedesAMG550\"}, {\"speed\": 75.0, \"time\": 5.11, \"image\": \"MercedesAMG550_75.MP4\", \"vehicle\": \"MercedesAMG550\"}, {\"speed\": 78.0, \"time\": 6.11, \"image\": \"MercedesAMG550_78.MP4\", \"vehicle\": \"MercedesAMG550\"}, {\"speed\": 80.0, \"time\": 4.9, \"image\": \"MercedesAMG550_80.MP4\", \"vehicle\": \"MercedesAMG550\"}, {\"speed\": 82.0, \"time\": 5.82, \"image\": \"MercedesAMG550_82.MP4\", \"vehicle\": \"MercedesAMG550\"}, {\"speed\": 85.0, \"time\": 4.84, \"image\": \"MercedesAMG550_85.MP4\", \"vehicle\": \"MercedesAMG550\"}, {\"speed\": 87.0, \"time\": 5.41, \"image\": \"MercedesAMG550_87.MP4\", \"vehicle\": \"MercedesAMG550\"}, {\"speed\": 90.0, \"time\": 6.0, \"image\": \"MercedesAMG550_90.MP4\", \"vehicle\": \"MercedesAMG550\"}, {\"speed\": 93.0, \"time\": 5.68, \"image\": \"MercedesAMG550_93.MP4\", \"vehicle\": \"MercedesAMG550\"}, {\"speed\": 95.0, \"time\": 5.0, \"image\": \"MercedesAMG550_95.MP4\", \"vehicle\": \"MercedesAMG550\"}, {\"speed\": 98.0, \"time\": 5.44, \"image\": \"MercedesAMG550_98.MP4\", \"vehicle\": \"MercedesAMG550\"}, {\"speed\": 100.0, \"time\": 5.0, \"image\": \"MercedesGLA_100.MP4\", \"vehicle\": \"MercedesGLA\"}, {\"speed\": 101.0, \"time\": 5.01, \"image\": \"MercedesGLA_101.MP4\", \"vehicle\": \"MercedesGLA\"}, {\"speed\": 103.0, \"time\": 5.01, \"image\": \"MercedesGLA_103.MP4\", \"vehicle\": \"MercedesGLA\"}, {\"speed\": 104.0, \"time\": 5.01, \"image\": \"MercedesGLA_104.MP4\", \"vehicle\": \"MercedesGLA\"}, {\"speed\": 30.0, \"time\": 4.99, \"image\": \"MercedesGLA_30.MP4\", \"vehicle\": \"MercedesGLA\"}, {\"speed\": 33.0, \"time\": 4.98, \"image\": \"MercedesGLA_33.MP4\", \"vehicle\": \"MercedesGLA\"}, {\"speed\": 36.0, \"time\": 4.99, \"image\": \"MercedesGLA_36.MP4\", \"vehicle\": \"MercedesGLA\"}, {\"speed\": 39.0, \"time\": 5.0, \"image\": \"MercedesGLA_39.MP4\", \"vehicle\": \"MercedesGLA\"}, {\"speed\": 41.0, \"time\": 4.99, \"image\": \"MercedesGLA_41.MP4\", \"vehicle\": \"MercedesGLA\"}, {\"speed\": 42.0, \"time\": 5.0, \"image\": \"MercedesGLA_42.MP4\", \"vehicle\": \"MercedesGLA\"}, {\"speed\": 45.0, \"time\": 5.02, \"image\": \"MercedesGLA_45.MP4\", \"vehicle\": \"MercedesGLA\"}, {\"speed\": 47.0, \"time\": 5.0, \"image\": \"MercedesGLA_47.MP4\", \"vehicle\": \"MercedesGLA\"}, {\"speed\": 48.0, \"time\": 5.0, \"image\": \"MercedesGLA_48.MP4\", \"vehicle\": \"MercedesGLA\"}, {\"speed\": 49.0, \"time\": 5.01, \"image\": \"MercedesGLA_49.MP4\", \"vehicle\": \"MercedesGLA\"}, {\"speed\": 52.0, \"time\": 5.0, \"image\": \"MercedesGLA_52.MP4\", \"vehicle\": \"MercedesGLA\"}, {\"speed\": 54.0, \"time\": 5.0, \"image\": \"MercedesGLA_54.MP4\", \"vehicle\": \"MercedesGLA\"}, {\"speed\": 55.0, \"time\": 4.99, \"image\": \"MercedesGLA_55.MP4\", \"vehicle\": \"MercedesGLA\"}, {\"speed\": 59.0, \"time\": 5.01, \"image\": \"MercedesGLA_59.MP4\", \"vehicle\": \"MercedesGLA\"}, {\"speed\": 61.0, \"time\": 5.08, \"image\": \"MercedesGLA_61.MP4\", \"vehicle\": \"MercedesGLA\"}, {\"speed\": 63.0, \"time\": 4.99, \"image\": \"MercedesGLA_63.MP4\", \"vehicle\": \"MercedesGLA\"}, {\"speed\": 65.0, \"time\": 4.99, \"image\": \"MercedesGLA_65.MP4\", \"vehicle\": \"MercedesGLA\"}, {\"speed\": 68.0, \"time\": 4.99, \"image\": \"MercedesGLA_68.MP4\", \"vehicle\": \"MercedesGLA\"}, {\"speed\": 70.0, \"time\": 5.01, \"image\": \"MercedesGLA_70.MP4\", \"vehicle\": \"MercedesGLA\"}, {\"speed\": 72.0, \"time\": 5.0, \"image\": \"MercedesGLA_72.MP4\", \"vehicle\": \"MercedesGLA\"}, {\"speed\": 75.0, \"time\": 5.0, \"image\": \"MercedesGLA_75.MP4\", \"vehicle\": \"MercedesGLA\"}, {\"speed\": 78.0, \"time\": 5.0, \"image\": \"MercedesGLA_78.MP4\", \"vehicle\": \"MercedesGLA\"}, {\"speed\": 81.0, \"time\": 5.01, \"image\": \"MercedesGLA_81.MP4\", \"vehicle\": \"MercedesGLA\"}, {\"speed\": 83.0, \"time\": 5.01, \"image\": \"MercedesGLA_83.MP4\", \"vehicle\": \"MercedesGLA\"}, {\"speed\": 85.0, \"time\": 5.01, \"image\": \"MercedesGLA_85.MP4\", \"vehicle\": \"MercedesGLA\"}, {\"speed\": 88.0, \"time\": 4.99, \"image\": \"MercedesGLA_88.MP4\", \"vehicle\": \"MercedesGLA\"}, {\"speed\": 90.0, \"time\": 5.1, \"image\": \"MercedesGLA_90.MP4\", \"vehicle\": \"MercedesGLA\"}, {\"speed\": 92.0, \"time\": 5.01, \"image\": \"MercedesGLA_92.MP4\", \"vehicle\": \"MercedesGLA\"}, {\"speed\": 93.0, \"time\": 4.99, \"image\": \"MercedesGLA_93.MP4\", \"vehicle\": \"MercedesGLA\"}, {\"speed\": 96.0, \"time\": 5.0, \"image\": \"MercedesGLA_96.MP4\", \"vehicle\": \"MercedesGLA\"}, {\"speed\": 102.0, \"time\": 5.62, \"image\": \"NissanQashqai_102.MP4\", \"vehicle\": \"NissanQashqai\"}, {\"speed\": 35.0, \"time\": 6.1, \"image\": \"NissanQashqai_35.MP4\", \"vehicle\": \"NissanQashqai\"}, {\"speed\": 38.0, \"time\": 6.19, \"image\": \"NissanQashqai_38.MP4\", \"vehicle\": \"NissanQashqai\"}, {\"speed\": 40.0, \"time\": 5.21, \"image\": \"NissanQashqai_40.MP4\", \"vehicle\": \"NissanQashqai\"}, {\"speed\": 42.0, \"time\": 5.14, \"image\": \"NissanQashqai_42.MP4\", \"vehicle\": \"NissanQashqai\"}, {\"speed\": 45.0, \"time\": 6.01, \"image\": \"NissanQashqai_45.MP4\", \"vehicle\": \"NissanQashqai\"}, {\"speed\": 48.0, \"time\": 5.21, \"image\": \"NissanQashqai_48.MP4\", \"vehicle\": \"NissanQashqai\"}, {\"speed\": 50.0, \"time\": 5.85, \"image\": \"NissanQashqai_50.MP4\", \"vehicle\": \"NissanQashqai\"}, {\"speed\": 53.0, \"time\": 5.99, \"image\": \"NissanQashqai_53.MP4\", \"vehicle\": \"NissanQashqai\"}, {\"speed\": 55.0, \"time\": 5.9, \"image\": \"NissanQashqai_55.MP4\", \"vehicle\": \"NissanQashqai\"}, {\"speed\": 58.0, \"time\": 5.61, \"image\": \"NissanQashqai_58.MP4\", \"vehicle\": \"NissanQashqai\"}, {\"speed\": 60.0, \"time\": 5.58, \"image\": \"NissanQashqai_60.MP4\", \"vehicle\": \"NissanQashqai\"}, {\"speed\": 61.0, \"time\": 6.08, \"image\": \"NissanQashqai_61.MP4\", \"vehicle\": \"NissanQashqai\"}, {\"speed\": 64.0, \"time\": 5.92, \"image\": \"NissanQashqai_64.MP4\", \"vehicle\": \"NissanQashqai\"}, {\"speed\": 65.0, \"time\": 5.58, \"image\": \"NissanQashqai_65.MP4\", \"vehicle\": \"NissanQashqai\"}, {\"speed\": 68.0, \"time\": 5.98, \"image\": \"NissanQashqai_68.MP4\", \"vehicle\": \"NissanQashqai\"}, {\"speed\": 70.0, \"time\": 6.04, \"image\": \"NissanQashqai_70.MP4\", \"vehicle\": \"NissanQashqai\"}, {\"speed\": 73.0, \"time\": 6.14, \"image\": \"NissanQashqai_73.MP4\", \"vehicle\": \"NissanQashqai\"}, {\"speed\": 75.0, \"time\": 6.01, \"image\": \"NissanQashqai_75.MP4\", \"vehicle\": \"NissanQashqai\"}, {\"speed\": 78.0, \"time\": 5.9, \"image\": \"NissanQashqai_78.MP4\", \"vehicle\": \"NissanQashqai\"}, {\"speed\": 80.0, \"time\": 5.79, \"image\": \"NissanQashqai_80.MP4\", \"vehicle\": \"NissanQashqai\"}, {\"speed\": 82.0, \"time\": 5.72, \"image\": \"NissanQashqai_82.MP4\", \"vehicle\": \"NissanQashqai\"}, {\"speed\": 85.0, \"time\": 5.91, \"image\": \"NissanQashqai_85.MP4\", \"vehicle\": \"NissanQashqai\"}, {\"speed\": 88.0, \"time\": 6.13, \"image\": \"NissanQashqai_88.MP4\", \"vehicle\": \"NissanQashqai\"}, {\"speed\": 90.0, \"time\": 5.52, \"image\": \"NissanQashqai_90.MP4\", \"vehicle\": \"NissanQashqai\"}, {\"speed\": 93.0, \"time\": 5.79, \"image\": \"NissanQashqai_93.MP4\", \"vehicle\": \"NissanQashqai\"}, {\"speed\": 94.0, \"time\": 5.28, \"image\": \"NissanQashqai_94.MP4\", \"vehicle\": \"NissanQashqai\"}, {\"speed\": 96.0, \"time\": 5.58, \"image\": \"NissanQashqai_96.MP4\", \"vehicle\": \"NissanQashqai\"}, {\"speed\": 98.0, \"time\": 5.38, \"image\": \"NissanQashqai_98.MP4\", \"vehicle\": \"NissanQashqai\"}, {\"speed\": 100.0, \"time\": 5.02, \"image\": \"OpelInsignia_100.MP4\", \"vehicle\": \"OpelInsignia\"}, {\"speed\": 31.0, \"time\": 6.05, \"image\": \"OpelInsignia_31.MP4\", \"vehicle\": \"OpelInsignia\"}, {\"speed\": 35.0, \"time\": 5.92, \"image\": \"OpelInsignia_35.MP4\", \"vehicle\": \"OpelInsignia\"}, {\"speed\": 38.0, \"time\": 6.68, \"image\": \"OpelInsignia_38.MP4\", \"vehicle\": \"OpelInsignia\"}, {\"speed\": 41.0, \"time\": 6.51, \"image\": \"OpelInsignia_41.MP4\", \"vehicle\": \"OpelInsignia\"}, {\"speed\": 44.0, \"time\": 5.92, \"image\": \"OpelInsignia_44.MP4\", \"vehicle\": \"OpelInsignia\"}, {\"speed\": 47.0, \"time\": 5.91, \"image\": \"OpelInsignia_47.MP4\", \"vehicle\": \"OpelInsignia\"}, {\"speed\": 50.0, \"time\": 6.42, \"image\": \"OpelInsignia_50.MP4\", \"vehicle\": \"OpelInsignia\"}, {\"speed\": 53.0, \"time\": 5.71, \"image\": \"OpelInsignia_53.MP4\", \"vehicle\": \"OpelInsignia\"}, {\"speed\": 55.0, \"time\": 5.51, \"image\": \"OpelInsignia_55.MP4\", \"vehicle\": \"OpelInsignia\"}, {\"speed\": 58.0, \"time\": 5.48, \"image\": \"OpelInsignia_58.MP4\", \"vehicle\": \"OpelInsignia\"}, {\"speed\": 61.0, \"time\": 5.54, \"image\": \"OpelInsignia_61.MP4\", \"vehicle\": \"OpelInsignia\"}, {\"speed\": 64.0, \"time\": 5.74, \"image\": \"OpelInsignia_64.MP4\", \"vehicle\": \"OpelInsignia\"}, {\"speed\": 66.0, \"time\": 5.35, \"image\": \"OpelInsignia_66.MP4\", \"vehicle\": \"OpelInsignia\"}, {\"speed\": 68.0, \"time\": 5.25, \"image\": \"OpelInsignia_68.MP4\", \"vehicle\": \"OpelInsignia\"}, {\"speed\": 70.0, \"time\": 5.91, \"image\": \"OpelInsignia_70.MP4\", \"vehicle\": \"OpelInsignia\"}, {\"speed\": 72.0, \"time\": 6.09, \"image\": \"OpelInsignia_72.MP4\", \"vehicle\": \"OpelInsignia\"}, {\"speed\": 73.0, \"time\": 5.39, \"image\": \"OpelInsignia_73.MP4\", \"vehicle\": \"OpelInsignia\"}, {\"speed\": 76.0, \"time\": 6.22, \"image\": \"OpelInsignia_76.MP4\", \"vehicle\": \"OpelInsignia\"}, {\"speed\": 78.0, \"time\": 5.21, \"image\": \"OpelInsignia_78.MP4\", \"vehicle\": \"OpelInsignia\"}, {\"speed\": 80.0, \"time\": 6.24, \"image\": \"OpelInsignia_80.MP4\", \"vehicle\": \"OpelInsignia\"}, {\"speed\": 83.0, \"time\": 6.02, \"image\": \"OpelInsignia_83.MP4\", \"vehicle\": \"OpelInsignia\"}, {\"speed\": 86.0, \"time\": 5.51, \"image\": \"OpelInsignia_86.MP4\", \"vehicle\": \"OpelInsignia\"}, {\"speed\": 89.0, \"time\": 5.59, \"image\": \"OpelInsignia_89.MP4\", \"vehicle\": \"OpelInsignia\"}, {\"speed\": 91.0, \"time\": 5.38, \"image\": \"OpelInsignia_91.MP4\", \"vehicle\": \"OpelInsignia\"}, {\"speed\": 94.0, \"time\": 5.81, \"image\": \"OpelInsignia_94.MP4\", \"vehicle\": \"OpelInsignia\"}, {\"speed\": 97.0, \"time\": 5.72, \"image\": \"OpelInsignia_97.MP4\", \"vehicle\": \"OpelInsignia\"}, {\"speed\": 30.0, \"time\": 5.14, \"image\": \"Peugeot208_30.MP4\", \"vehicle\": \"Peugeot208\"}, {\"speed\": 32.0, \"time\": 5.04, \"image\": \"Peugeot208_32.MP4\", \"vehicle\": \"Peugeot208\"}, {\"speed\": 34.0, \"time\": 5.04, \"image\": \"Peugeot208_34.MP4\", \"vehicle\": \"Peugeot208\"}, {\"speed\": 37.0, \"time\": 5.15, \"image\": \"Peugeot208_37.MP4\", \"vehicle\": \"Peugeot208\"}, {\"speed\": 40.0, \"time\": 5.14, \"image\": \"Peugeot208_40.MP4\", \"vehicle\": \"Peugeot208\"}, {\"speed\": 43.0, \"time\": 5.1, \"image\": \"Peugeot208_43.MP4\", \"vehicle\": \"Peugeot208\"}, {\"speed\": 45.0, \"time\": 5.12, \"image\": \"Peugeot208_45.MP4\", \"vehicle\": \"Peugeot208\"}, {\"speed\": 47.0, \"time\": 5.02, \"image\": \"Peugeot208_47.MP4\", \"vehicle\": \"Peugeot208\"}, {\"speed\": 50.0, \"time\": 4.93, \"image\": \"Peugeot208_50.MP4\", \"vehicle\": \"Peugeot208\"}, {\"speed\": 51.0, \"time\": 5.52, \"image\": \"Peugeot208_51.MP4\", \"vehicle\": \"Peugeot208\"}, {\"speed\": 54.0, \"time\": 5.17, \"image\": \"Peugeot208_54.MP4\", \"vehicle\": \"Peugeot208\"}, {\"speed\": 57.0, \"time\": 5.51, \"image\": \"Peugeot208_57.MP4\", \"vehicle\": \"Peugeot208\"}, {\"speed\": 60.0, \"time\": 5.06, \"image\": \"Peugeot208_60.MP4\", \"vehicle\": \"Peugeot208\"}, {\"speed\": 62.0, \"time\": 5.09, \"image\": \"Peugeot208_62.MP4\", \"vehicle\": \"Peugeot208\"}, {\"speed\": 64.0, \"time\": 5.22, \"image\": \"Peugeot208_64.MP4\", \"vehicle\": \"Peugeot208\"}, {\"speed\": 67.0, \"time\": 5.03, \"image\": \"Peugeot208_67.MP4\", \"vehicle\": \"Peugeot208\"}, {\"speed\": 68.0, \"time\": 5.18, \"image\": \"Peugeot208_68.MP4\", \"vehicle\": \"Peugeot208\"}, {\"speed\": 71.0, \"time\": 5.16, \"image\": \"Peugeot208_71.MP4\", \"vehicle\": \"Peugeot208\"}, {\"speed\": 73.0, \"time\": 4.99, \"image\": \"Peugeot208_73.MP4\", \"vehicle\": \"Peugeot208\"}, {\"speed\": 76.0, \"time\": 5.61, \"image\": \"Peugeot208_76.MP4\", \"vehicle\": \"Peugeot208\"}, {\"speed\": 77.0, \"time\": 6.26, \"image\": \"Peugeot208_77.MP4\", \"vehicle\": \"Peugeot208\"}, {\"speed\": 79.0, \"time\": 5.22, \"image\": \"Peugeot208_79.MP4\", \"vehicle\": \"Peugeot208\"}, {\"speed\": 82.0, \"time\": 5.17, \"image\": \"Peugeot208_82.MP4\", \"vehicle\": \"Peugeot208\"}, {\"speed\": 84.0, \"time\": 5.12, \"image\": \"Peugeot208_84.MP4\", \"vehicle\": \"Peugeot208\"}, {\"speed\": 87.0, \"time\": 5.48, \"image\": \"Peugeot208_87.MP4\", \"vehicle\": \"Peugeot208\"}, {\"speed\": 90.0, \"time\": 5.18, \"image\": \"Peugeot208_90.MP4\", \"vehicle\": \"Peugeot208\"}, {\"speed\": 92.0, \"time\": 5.48, \"image\": \"Peugeot208_92.MP4\", \"vehicle\": \"Peugeot208\"}, {\"speed\": 95.0, \"time\": 5.59, \"image\": \"Peugeot208_95.MP4\", \"vehicle\": \"Peugeot208\"}, {\"speed\": 96.0, \"time\": 5.43, \"image\": \"Peugeot208_96.MP4\", \"vehicle\": \"Peugeot208\"}, {\"speed\": 100.0, \"time\": 5.5, \"image\": \"Peugeot3008_100.MP4\", \"vehicle\": \"Peugeot3008\"}, {\"speed\": 40.0, \"time\": 6.01, \"image\": \"Peugeot3008_40.MP4\", \"vehicle\": \"Peugeot3008\"}, {\"speed\": 43.0, \"time\": 4.93, \"image\": \"Peugeot3008_43.MP4\", \"vehicle\": \"Peugeot3008\"}, {\"speed\": 45.0, \"time\": 6.0, \"image\": \"Peugeot3008_45.MP4\", \"vehicle\": \"Peugeot3008\"}, {\"speed\": 47.0, \"time\": 5.89, \"image\": \"Peugeot3008_47.MP4\", \"vehicle\": \"Peugeot3008\"}, {\"speed\": 50.0, \"time\": 5.99, \"image\": \"Peugeot3008_50.MP4\", \"vehicle\": \"Peugeot3008\"}, {\"speed\": 52.0, \"time\": 6.86, \"image\": \"Peugeot3008_52.MP4\", \"vehicle\": \"Peugeot3008\"}, {\"speed\": 54.0, \"time\": 5.84, \"image\": \"Peugeot3008_54.MP4\", \"vehicle\": \"Peugeot3008\"}, {\"speed\": 55.0, \"time\": 6.02, \"image\": \"Peugeot3008_55.MP4\", \"vehicle\": \"Peugeot3008\"}, {\"speed\": 56.0, \"time\": 5.71, \"image\": \"Peugeot3008_56.MP4\", \"vehicle\": \"Peugeot3008\"}, {\"speed\": 58.0, \"time\": 4.89, \"image\": \"Peugeot3008_58.MP4\", \"vehicle\": \"Peugeot3008\"}, {\"speed\": 60.0, \"time\": 5.99, \"image\": \"Peugeot3008_60.MP4\", \"vehicle\": \"Peugeot3008\"}, {\"speed\": 61.0, \"time\": 5.43, \"image\": \"Peugeot3008_61.MP4\", \"vehicle\": \"Peugeot3008\"}, {\"speed\": 63.0, \"time\": 7.22, \"image\": \"Peugeot3008_63.MP4\", \"vehicle\": \"Peugeot3008\"}, {\"speed\": 65.0, \"time\": 6.0, \"image\": \"Peugeot3008_65.MP4\", \"vehicle\": \"Peugeot3008\"}, {\"speed\": 67.0, \"time\": 5.69, \"image\": \"Peugeot3008_67.MP4\", \"vehicle\": \"Peugeot3008\"}, {\"speed\": 68.0, \"time\": 5.97, \"image\": \"Peugeot3008_68.MP4\", \"vehicle\": \"Peugeot3008\"}, {\"speed\": 70.0, \"time\": 6.0, \"image\": \"Peugeot3008_70.MP4\", \"vehicle\": \"Peugeot3008\"}, {\"speed\": 72.0, \"time\": 5.53, \"image\": \"Peugeot3008_72.MP4\", \"vehicle\": \"Peugeot3008\"}, {\"speed\": 74.0, \"time\": 5.88, \"image\": \"Peugeot3008_74.MP4\", \"vehicle\": \"Peugeot3008\"}, {\"speed\": 75.0, \"time\": 6.09, \"image\": \"Peugeot3008_75.MP4\", \"vehicle\": \"Peugeot3008\"}, {\"speed\": 78.0, \"time\": 5.6, \"image\": \"Peugeot3008_78.MP4\", \"vehicle\": \"Peugeot3008\"}, {\"speed\": 80.0, \"time\": 6.01, \"image\": \"Peugeot3008_80.MP4\", \"vehicle\": \"Peugeot3008\"}, {\"speed\": 83.0, \"time\": 6.62, \"image\": \"Peugeot3008_83.MP4\", \"vehicle\": \"Peugeot3008\"}, {\"speed\": 85.0, \"time\": 6.38, \"image\": \"Peugeot3008_85.MP4\", \"vehicle\": \"Peugeot3008\"}, {\"speed\": 87.0, \"time\": 5.35, \"image\": \"Peugeot3008_87.MP4\", \"vehicle\": \"Peugeot3008\"}, {\"speed\": 89.0, \"time\": 5.15, \"image\": \"Peugeot3008_89.MP4\", \"vehicle\": \"Peugeot3008\"}, {\"speed\": 90.0, \"time\": 5.99, \"image\": \"Peugeot3008_90.MP4\", \"vehicle\": \"Peugeot3008\"}, {\"speed\": 92.0, \"time\": 5.37, \"image\": \"Peugeot3008_92.MP4\", \"vehicle\": \"Peugeot3008\"}, {\"speed\": 95.0, \"time\": 6.1, \"image\": \"Peugeot3008_95.MP4\", \"vehicle\": \"Peugeot3008\"}, {\"speed\": 97.0, \"time\": 6.39, \"image\": \"Peugeot3008_97.MP4\", \"vehicle\": \"Peugeot3008\"}, {\"speed\": 101.0, \"time\": 5.45, \"image\": \"Peugeot307_101.MP4\", \"vehicle\": \"Peugeot307\"}, {\"speed\": 103.0, \"time\": 5.86, \"image\": \"Peugeot307_103.MP4\", \"vehicle\": \"Peugeot307\"}, {\"speed\": 30.0, \"time\": 5.52, \"image\": \"Peugeot307_30.MP4\", \"vehicle\": \"Peugeot307\"}, {\"speed\": 33.0, \"time\": 5.62, \"image\": \"Peugeot307_33.MP4\", \"vehicle\": \"Peugeot307\"}, {\"speed\": 35.0, \"time\": 5.55, \"image\": \"Peugeot307_35.MP4\", \"vehicle\": \"Peugeot307\"}, {\"speed\": 38.0, \"time\": 5.08, \"image\": \"Peugeot307_38.MP4\", \"vehicle\": \"Peugeot307\"}, {\"speed\": 40.0, \"time\": 5.02, \"image\": \"Peugeot307_40.MP4\", \"vehicle\": \"Peugeot307\"}, {\"speed\": 43.0, \"time\": 4.95, \"image\": \"Peugeot307_43.MP4\", \"vehicle\": \"Peugeot307\"}, {\"speed\": 45.0, \"time\": 5.18, \"image\": \"Peugeot307_45.MP4\", \"vehicle\": \"Peugeot307\"}, {\"speed\": 47.0, \"time\": 4.99, \"image\": \"Peugeot307_47.MP4\", \"vehicle\": \"Peugeot307\"}, {\"speed\": 48.0, \"time\": 4.97, \"image\": \"Peugeot307_48.MP4\", \"vehicle\": \"Peugeot307\"}, {\"speed\": 50.0, \"time\": 5.18, \"image\": \"Peugeot307_50.MP4\", \"vehicle\": \"Peugeot307\"}, {\"speed\": 53.0, \"time\": 4.98, \"image\": \"Peugeot307_53.MP4\", \"vehicle\": \"Peugeot307\"}, {\"speed\": 56.0, \"time\": 5.45, \"image\": \"Peugeot307_56.MP4\", \"vehicle\": \"Peugeot307\"}, {\"speed\": 59.0, \"time\": 4.97, \"image\": \"Peugeot307_59.MP4\", \"vehicle\": \"Peugeot307\"}, {\"speed\": 60.0, \"time\": 6.33, \"image\": \"Peugeot307_60.MP4\", \"vehicle\": \"Peugeot307\"}, {\"speed\": 63.0, \"time\": 5.08, \"image\": \"Peugeot307_63.MP4\", \"vehicle\": \"Peugeot307\"}, {\"speed\": 66.0, \"time\": 5.18, \"image\": \"Peugeot307_66.MP4\", \"vehicle\": \"Peugeot307\"}, {\"speed\": 69.0, \"time\": 4.85, \"image\": \"Peugeot307_69.MP4\", \"vehicle\": \"Peugeot307\"}, {\"speed\": 72.0, \"time\": 4.6, \"image\": \"Peugeot307_72.MP4\", \"vehicle\": \"Peugeot307\"}, {\"speed\": 73.0, \"time\": 4.95, \"image\": \"Peugeot307_73.MP4\", \"vehicle\": \"Peugeot307\"}, {\"speed\": 76.0, \"time\": 4.9, \"image\": \"Peugeot307_76.MP4\", \"vehicle\": \"Peugeot307\"}, {\"speed\": 79.0, \"time\": 4.93, \"image\": \"Peugeot307_79.MP4\", \"vehicle\": \"Peugeot307\"}, {\"speed\": 82.0, \"time\": 5.22, \"image\": \"Peugeot307_82.MP4\", \"vehicle\": \"Peugeot307\"}, {\"speed\": 85.0, \"time\": 5.25, \"image\": \"Peugeot307_85.MP4\", \"vehicle\": \"Peugeot307\"}, {\"speed\": 88.0, \"time\": 4.94, \"image\": \"Peugeot307_88.MP4\", \"vehicle\": \"Peugeot307\"}, {\"speed\": 91.0, \"time\": 5.05, \"image\": \"Peugeot307_91.MP4\", \"vehicle\": \"Peugeot307\"}, {\"speed\": 94.0, \"time\": 4.75, \"image\": \"Peugeot307_94.MP4\", \"vehicle\": \"Peugeot307\"}, {\"speed\": 97.0, \"time\": 4.95, \"image\": \"Peugeot307_97.MP4\", \"vehicle\": \"Peugeot307\"}, {\"speed\": 100.0, \"time\": 5.19, \"image\": \"RenaultCaptur_100.MP4\", \"vehicle\": \"RenaultCaptur\"}, {\"speed\": 102.0, \"time\": 5.34, \"image\": \"RenaultCaptur_102.MP4\", \"vehicle\": \"RenaultCaptur\"}, {\"speed\": 30.0, \"time\": 5.55, \"image\": \"RenaultCaptur_30.MP4\", \"vehicle\": \"RenaultCaptur\"}, {\"speed\": 33.0, \"time\": 5.85, \"image\": \"RenaultCaptur_33.MP4\", \"vehicle\": \"RenaultCaptur\"}, {\"speed\": 36.0, \"time\": 5.32, \"image\": \"RenaultCaptur_36.MP4\", \"vehicle\": \"RenaultCaptur\"}, {\"speed\": 38.0, \"time\": 5.44, \"image\": \"RenaultCaptur_38.MP4\", \"vehicle\": \"RenaultCaptur\"}, {\"speed\": 40.0, \"time\": 5.29, \"image\": \"RenaultCaptur_40.MP4\", \"vehicle\": \"RenaultCaptur\"}, {\"speed\": 41.0, \"time\": 5.36, \"image\": \"RenaultCaptur_41.MP4\", \"vehicle\": \"RenaultCaptur\"}, {\"speed\": 44.0, \"time\": 5.3, \"image\": \"RenaultCaptur_44.MP4\", \"vehicle\": \"RenaultCaptur\"}, {\"speed\": 46.0, \"time\": 4.68, \"image\": \"RenaultCaptur_46.MP4\", \"vehicle\": \"RenaultCaptur\"}, {\"speed\": 47.0, \"time\": 5.28, \"image\": \"RenaultCaptur_47.MP4\", \"vehicle\": \"RenaultCaptur\"}, {\"speed\": 48.0, \"time\": 5.57, \"image\": \"RenaultCaptur_48.MP4\", \"vehicle\": \"RenaultCaptur\"}, {\"speed\": 50.0, \"time\": 5.09, \"image\": \"RenaultCaptur_50.MP4\", \"vehicle\": \"RenaultCaptur\"}, {\"speed\": 52.0, \"time\": 5.53, \"image\": \"RenaultCaptur_52.MP4\", \"vehicle\": \"RenaultCaptur\"}, {\"speed\": 56.0, \"time\": 5.21, \"image\": \"RenaultCaptur_56.MP4\", \"vehicle\": \"RenaultCaptur\"}, {\"speed\": 58.0, \"time\": 5.32, \"image\": \"RenaultCaptur_58.MP4\", \"vehicle\": \"RenaultCaptur\"}, {\"speed\": 60.0, \"time\": 5.39, \"image\": \"RenaultCaptur_60.MP4\", \"vehicle\": \"RenaultCaptur\"}, {\"speed\": 63.0, \"time\": 5.42, \"image\": \"RenaultCaptur_63.MP4\", \"vehicle\": \"RenaultCaptur\"}, {\"speed\": 66.0, \"time\": 5.01, \"image\": \"RenaultCaptur_66.MP4\", \"vehicle\": \"RenaultCaptur\"}, {\"speed\": 68.0, \"time\": 5.15, \"image\": \"RenaultCaptur_68.MP4\", \"vehicle\": \"RenaultCaptur\"}, {\"speed\": 70.0, \"time\": 5.75, \"image\": \"RenaultCaptur_70.MP4\", \"vehicle\": \"RenaultCaptur\"}, {\"speed\": 72.0, \"time\": 5.08, \"image\": \"RenaultCaptur_72.MP4\", \"vehicle\": \"RenaultCaptur\"}, {\"speed\": 76.0, \"time\": 5.94, \"image\": \"RenaultCaptur_76.MP4\", \"vehicle\": \"RenaultCaptur\"}, {\"speed\": 78.0, \"time\": 5.32, \"image\": \"RenaultCaptur_78.MP4\", \"vehicle\": \"RenaultCaptur\"}, {\"speed\": 80.0, \"time\": 4.79, \"image\": \"RenaultCaptur_80.MP4\", \"vehicle\": \"RenaultCaptur\"}, {\"speed\": 83.0, \"time\": 5.59, \"image\": \"RenaultCaptur_83.MP4\", \"vehicle\": \"RenaultCaptur\"}, {\"speed\": 86.0, \"time\": 5.18, \"image\": \"RenaultCaptur_86.MP4\", \"vehicle\": \"RenaultCaptur\"}, {\"speed\": 88.0, \"time\": 5.24, \"image\": \"RenaultCaptur_88.MP4\", \"vehicle\": \"RenaultCaptur\"}, {\"speed\": 90.0, \"time\": 5.61, \"image\": \"RenaultCaptur_90.MP4\", \"vehicle\": \"RenaultCaptur\"}, {\"speed\": 92.0, \"time\": 5.64, \"image\": \"RenaultCaptur_92.MP4\", \"vehicle\": \"RenaultCaptur\"}, {\"speed\": 94.0, \"time\": 5.06, \"image\": \"RenaultCaptur_94.MP4\", \"vehicle\": \"RenaultCaptur\"}, {\"speed\": 97.0, \"time\": 6.02, \"image\": \"RenaultCaptur_97.MP4\", \"vehicle\": \"RenaultCaptur\"}, {\"speed\": 98.0, \"time\": 5.11, \"image\": \"RenaultCaptur_98.MP4\", \"vehicle\": \"RenaultCaptur\"}, {\"speed\": 101.0, \"time\": 6.17, \"image\": \"RenaultScenic_101.MP4\", \"vehicle\": \"RenaultScenic\"}, {\"speed\": 30.0, \"time\": 6.0, \"image\": \"RenaultScenic_30.MP4\", \"vehicle\": \"RenaultScenic\"}, {\"speed\": 35.0, \"time\": 6.82, \"image\": \"RenaultScenic_35.MP4\", \"vehicle\": \"RenaultScenic\"}, {\"speed\": 36.0, \"time\": 6.01, \"image\": \"RenaultScenic_36.MP4\", \"vehicle\": \"RenaultScenic\"}, {\"speed\": 38.0, \"time\": 6.03, \"image\": \"RenaultScenic_38.MP4\", \"vehicle\": \"RenaultScenic\"}, {\"speed\": 40.0, \"time\": 6.7, \"image\": \"RenaultScenic_40.MP4\", \"vehicle\": \"RenaultScenic\"}, {\"speed\": 42.0, \"time\": 5.83, \"image\": \"RenaultScenic_42.MP4\", \"vehicle\": \"RenaultScenic\"}, {\"speed\": 44.0, \"time\": 5.27, \"image\": \"RenaultScenic_44.MP4\", \"vehicle\": \"RenaultScenic\"}, {\"speed\": 46.0, \"time\": 6.75, \"image\": \"RenaultScenic_46.MP4\", \"vehicle\": \"RenaultScenic\"}, {\"speed\": 48.0, \"time\": 5.75, \"image\": \"RenaultScenic_48.MP4\", \"vehicle\": \"RenaultScenic\"}, {\"speed\": 50.0, \"time\": 7.25, \"image\": \"RenaultScenic_50.MP4\", \"vehicle\": \"RenaultScenic\"}, {\"speed\": 52.0, \"time\": 5.25, \"image\": \"RenaultScenic_52.MP4\", \"vehicle\": \"RenaultScenic\"}, {\"speed\": 54.0, \"time\": 5.46, \"image\": \"RenaultScenic_54.MP4\", \"vehicle\": \"RenaultScenic\"}, {\"speed\": 57.0, \"time\": 6.6, \"image\": \"RenaultScenic_57.MP4\", \"vehicle\": \"RenaultScenic\"}, {\"speed\": 60.0, \"time\": 6.12, \"image\": \"RenaultScenic_60.MP4\", \"vehicle\": \"RenaultScenic\"}, {\"speed\": 62.0, \"time\": 6.05, \"image\": \"RenaultScenic_62.MP4\", \"vehicle\": \"RenaultScenic\"}, {\"speed\": 64.0, \"time\": 5.76, \"image\": \"RenaultScenic_64.MP4\", \"vehicle\": \"RenaultScenic\"}, {\"speed\": 66.0, \"time\": 5.35, \"image\": \"RenaultScenic_66.MP4\", \"vehicle\": \"RenaultScenic\"}, {\"speed\": 68.0, \"time\": 6.57, \"image\": \"RenaultScenic_68.MP4\", \"vehicle\": \"RenaultScenic\"}, {\"speed\": 70.0, \"time\": 5.85, \"image\": \"RenaultScenic_70.MP4\", \"vehicle\": \"RenaultScenic\"}, {\"speed\": 71.0, \"time\": 5.99, \"image\": \"RenaultScenic_71.MP4\", \"vehicle\": \"RenaultScenic\"}, {\"speed\": 72.0, \"time\": 5.23, \"image\": \"RenaultScenic_72.MP4\", \"vehicle\": \"RenaultScenic\"}, {\"speed\": 74.0, \"time\": 5.7, \"image\": \"RenaultScenic_74.MP4\", \"vehicle\": \"RenaultScenic\"}, {\"speed\": 75.0, \"time\": 5.45, \"image\": \"RenaultScenic_75.MP4\", \"vehicle\": \"RenaultScenic\"}, {\"speed\": 77.0, \"time\": 7.32, \"image\": \"RenaultScenic_77.MP4\", \"vehicle\": \"RenaultScenic\"}, {\"speed\": 80.0, \"time\": 7.01, \"image\": \"RenaultScenic_80.MP4\", \"vehicle\": \"RenaultScenic\"}, {\"speed\": 82.0, \"time\": 6.06, \"image\": \"RenaultScenic_82.MP4\", \"vehicle\": \"RenaultScenic\"}, {\"speed\": 84.0, \"time\": 5.39, \"image\": \"RenaultScenic_84.MP4\", \"vehicle\": \"RenaultScenic\"}, {\"speed\": 86.0, \"time\": 5.65, \"image\": \"RenaultScenic_86.MP4\", \"vehicle\": \"RenaultScenic\"}, {\"speed\": 87.0, \"time\": 6.0, \"image\": \"RenaultScenic_87.MP4\", \"vehicle\": \"RenaultScenic\"}, {\"speed\": 90.0, \"time\": 5.09, \"image\": \"RenaultScenic_90.MP4\", \"vehicle\": \"RenaultScenic\"}, {\"speed\": 91.0, \"time\": 6.21, \"image\": \"RenaultScenic_91.MP4\", \"vehicle\": \"RenaultScenic\"}, {\"speed\": 94.0, \"time\": 6.18, \"image\": \"RenaultScenic_94.MP4\", \"vehicle\": \"RenaultScenic\"}, {\"speed\": 95.0, \"time\": 6.23, \"image\": \"RenaultScenic_95.MP4\", \"vehicle\": \"RenaultScenic\"}, {\"speed\": 98.0, \"time\": 5.38, \"image\": \"RenaultScenic_98.MP4\", \"vehicle\": \"RenaultScenic\"}, {\"speed\": 100.0, \"time\": 6.01, \"image\": \"VWPassat_100.MP4\", \"vehicle\": \"VWPassat\"}, {\"speed\": 30.0, \"time\": 6.46, \"image\": \"VWPassat_30.MP4\", \"vehicle\": \"VWPassat\"}, {\"speed\": 35.0, \"time\": 5.92, \"image\": \"VWPassat_35.MP4\", \"vehicle\": \"VWPassat\"}, {\"speed\": 39.0, \"time\": 5.27, \"image\": \"VWPassat_39.MP4\", \"vehicle\": \"VWPassat\"}, {\"speed\": 40.0, \"time\": 6.53, \"image\": \"VWPassat_40.MP4\", \"vehicle\": \"VWPassat\"}, {\"speed\": 42.0, \"time\": 6.72, \"image\": \"VWPassat_42.MP4\", \"vehicle\": \"VWPassat\"}, {\"speed\": 45.0, \"time\": 6.35, \"image\": \"VWPassat_45.MP4\", \"vehicle\": \"VWPassat\"}, {\"speed\": 47.0, \"time\": 5.25, \"image\": \"VWPassat_47.MP4\", \"vehicle\": \"VWPassat\"}, {\"speed\": 49.0, \"time\": 5.27, \"image\": \"VWPassat_49.MP4\", \"vehicle\": \"VWPassat\"}, {\"speed\": 50.0, \"time\": 6.0, \"image\": \"VWPassat_50.MP4\", \"vehicle\": \"VWPassat\"}, {\"speed\": 52.0, \"time\": 6.02, \"image\": \"VWPassat_52.MP4\", \"vehicle\": \"VWPassat\"}, {\"speed\": 54.0, \"time\": 5.54, \"image\": \"VWPassat_54.MP4\", \"vehicle\": \"VWPassat\"}, {\"speed\": 55.0, \"time\": 6.02, \"image\": \"VWPassat_55.MP4\", \"vehicle\": \"VWPassat\"}, {\"speed\": 57.0, \"time\": 4.98, \"image\": \"VWPassat_57.MP4\", \"vehicle\": \"VWPassat\"}, {\"speed\": 60.0, \"time\": 5.98, \"image\": \"VWPassat_60.MP4\", \"vehicle\": \"VWPassat\"}, {\"speed\": 61.0, \"time\": 6.01, \"image\": \"VWPassat_61.MP4\", \"vehicle\": \"VWPassat\"}, {\"speed\": 64.0, \"time\": 5.67, \"image\": \"VWPassat_64.MP4\", \"vehicle\": \"VWPassat\"}, {\"speed\": 65.0, \"time\": 5.82, \"image\": \"VWPassat_65.MP4\", \"vehicle\": \"VWPassat\"}, {\"speed\": 67.0, \"time\": 5.08, \"image\": \"VWPassat_67.MP4\", \"vehicle\": \"VWPassat\"}, {\"speed\": 70.0, \"time\": 6.0, \"image\": \"VWPassat_70.MP4\", \"vehicle\": \"VWPassat\"}, {\"speed\": 71.0, \"time\": 5.51, \"image\": \"VWPassat_71.MP4\", \"vehicle\": \"VWPassat\"}, {\"speed\": 72.0, \"time\": 5.42, \"image\": \"VWPassat_72.MP4\", \"vehicle\": \"VWPassat\"}, {\"speed\": 73.0, \"time\": 5.32, \"image\": \"VWPassat_73.MP4\", \"vehicle\": \"VWPassat\"}, {\"speed\": 75.0, \"time\": 6.02, \"image\": \"VWPassat_75.MP4\", \"vehicle\": \"VWPassat\"}, {\"speed\": 78.0, \"time\": 5.85, \"image\": \"VWPassat_78.MP4\", \"vehicle\": \"VWPassat\"}, {\"speed\": 80.0, \"time\": 5.99, \"image\": \"VWPassat_80.MP4\", \"vehicle\": \"VWPassat\"}, {\"speed\": 81.0, \"time\": 5.58, \"image\": \"VWPassat_81.MP4\", \"vehicle\": \"VWPassat\"}, {\"speed\": 82.0, \"time\": 5.62, \"image\": \"VWPassat_82.MP4\", \"vehicle\": \"VWPassat\"}, {\"speed\": 85.0, \"time\": 6.23, \"image\": \"VWPassat_85.MP4\", \"vehicle\": \"VWPassat\"}, {\"speed\": 88.0, \"time\": 7.31, \"image\": \"VWPassat_88.MP4\", \"vehicle\": \"VWPassat\"}, {\"speed\": 90.0, \"time\": 5.2, \"image\": \"VWPassat_90.MP4\", \"vehicle\": \"VWPassat\"}, {\"speed\": 91.0, \"time\": 5.45, \"image\": \"VWPassat_91.MP4\", \"vehicle\": \"VWPassat\"}, {\"speed\": 94.0, \"time\": 6.0, \"image\": \"VWPassat_94.MP4\", \"vehicle\": \"VWPassat\"}, {\"speed\": 96.0, \"time\": 5.72, \"image\": \"VWPassat_96.MP4\", \"vehicle\": \"VWPassat\"}, {\"speed\": 98.0, \"time\": 5.99, \"image\": \"VWPassat_98.MP4\", \"vehicle\": \"VWPassat\"}]}}, {\"mode\": \"vega-lite\"});\n",
       "</script>"
      ],
      "text/plain": [
       "alt.LayerChart(...)"
      ]
     },
     "execution_count": 10,
     "metadata": {},
     "output_type": "execute_result"
    }
   ],
   "source": [
    "correlation_matrix = df_combined[['speed', 'time']].corr()\n",
    "correlation = correlation_matrix['speed']['time']\n",
    "\n",
    "scatter_plot = alt.Chart(df_combined).mark_point(filled=True, size=40, opacity=0.5).encode(\n",
    "    x=alt.X('speed:Q', axis=alt.Axis(title='Velocidad (km/h)')),\n",
    "    y=alt.Y('time:Q', axis=alt.Axis(title='Tiempo (s)')),\n",
    "    tooltip=['speed', 'time'],\n",
    "    color=alt.value('steelblue')\n",
    ").properties(\n",
    "    width=500,  # Increased width for better readability\n",
    "    height=400,  # Adjusted height for a better aspect ratio\n",
    "    title=alt.TitleParams(f'Correlacion Velocidad vs Tiempo (Correlation: {correlation:.2f})', \n",
    "                          fontSize=16, fontWeight='bold', anchor='middle')  # Centered and styled title\n",
    ")\n",
    "\n",
    "trendline = alt.Chart(df_combined).transform_regression('speed', 'time').mark_line(color='red', strokeWidth=3).encode(\n",
    "    x='speed:Q',\n",
    "    y='time:Q'\n",
    ")\n",
    "\n",
    "final_chart = scatter_plot + trendline\n",
    "final_chart"
   ]
  },
  {
   "cell_type": "code",
   "execution_count": 11,
   "metadata": {
    "collapsed": false,
    "jupyter": {
     "outputs_hidden": false
    },
    "pycharm": {
     "name": "#%%\n"
    }
   },
   "outputs": [
    {
     "data": {
      "text/html": [
       "\n",
       "<style>\n",
       "  #altair-viz-99e0796c4d8946249258a974f99acd08.vega-embed {\n",
       "    width: 100%;\n",
       "    display: flex;\n",
       "  }\n",
       "\n",
       "  #altair-viz-99e0796c4d8946249258a974f99acd08.vega-embed details,\n",
       "  #altair-viz-99e0796c4d8946249258a974f99acd08.vega-embed details summary {\n",
       "    position: relative;\n",
       "  }\n",
       "</style>\n",
       "<div id=\"altair-viz-99e0796c4d8946249258a974f99acd08\"></div>\n",
       "<script type=\"text/javascript\">\n",
       "  var VEGA_DEBUG = (typeof VEGA_DEBUG == \"undefined\") ? {} : VEGA_DEBUG;\n",
       "  (function(spec, embedOpt){\n",
       "    let outputDiv = document.currentScript.previousElementSibling;\n",
       "    if (outputDiv.id !== \"altair-viz-99e0796c4d8946249258a974f99acd08\") {\n",
       "      outputDiv = document.getElementById(\"altair-viz-99e0796c4d8946249258a974f99acd08\");\n",
       "    }\n",
       "    const paths = {\n",
       "      \"vega\": \"https://cdn.jsdelivr.net/npm/vega@5?noext\",\n",
       "      \"vega-lib\": \"https://cdn.jsdelivr.net/npm/vega-lib?noext\",\n",
       "      \"vega-lite\": \"https://cdn.jsdelivr.net/npm/vega-lite@5.8.0?noext\",\n",
       "      \"vega-embed\": \"https://cdn.jsdelivr.net/npm/vega-embed@6?noext\",\n",
       "    };\n",
       "\n",
       "    function maybeLoadScript(lib, version) {\n",
       "      var key = `${lib.replace(\"-\", \"\")}_version`;\n",
       "      return (VEGA_DEBUG[key] == version) ?\n",
       "        Promise.resolve(paths[lib]) :\n",
       "        new Promise(function(resolve, reject) {\n",
       "          var s = document.createElement('script');\n",
       "          document.getElementsByTagName(\"head\")[0].appendChild(s);\n",
       "          s.async = true;\n",
       "          s.onload = () => {\n",
       "            VEGA_DEBUG[key] = version;\n",
       "            return resolve(paths[lib]);\n",
       "          };\n",
       "          s.onerror = () => reject(`Error loading script: ${paths[lib]}`);\n",
       "          s.src = paths[lib];\n",
       "        });\n",
       "    }\n",
       "\n",
       "    function showError(err) {\n",
       "      outputDiv.innerHTML = `<div class=\"error\" style=\"color:red;\">${err}</div>`;\n",
       "      throw err;\n",
       "    }\n",
       "\n",
       "    function displayChart(vegaEmbed) {\n",
       "      vegaEmbed(outputDiv, spec, embedOpt)\n",
       "        .catch(err => showError(`Javascript Error: ${err.message}<br>This usually means there's a typo in your chart specification. See the javascript console for the full traceback.`));\n",
       "    }\n",
       "\n",
       "    if(typeof define === \"function\" && define.amd) {\n",
       "      requirejs.config({paths});\n",
       "      require([\"vega-embed\"], displayChart, err => showError(`Error loading script: ${err.message}`));\n",
       "    } else {\n",
       "      maybeLoadScript(\"vega\", \"5\")\n",
       "        .then(() => maybeLoadScript(\"vega-lite\", \"5.8.0\"))\n",
       "        .then(() => maybeLoadScript(\"vega-embed\", \"6\"))\n",
       "        .catch(showError)\n",
       "        .then(() => displayChart(vegaEmbed));\n",
       "    }\n",
       "  })({\"config\": {\"view\": {\"continuousWidth\": 300, \"continuousHeight\": 300, \"stroke\": null}, \"facet\": {\"spacing\": 0}}, \"data\": {\"name\": \"data-5d3be3fd43ab46cca79cf2374d1a4771\"}, \"mark\": {\"type\": \"area\", \"orient\": \"horizontal\"}, \"encoding\": {\"color\": {\"field\": \"vehicle\", \"type\": \"nominal\"}, \"column\": {\"field\": \"vehicle\", \"header\": {\"labelOrient\": \"bottom\", \"labelPadding\": 0, \"titleOrient\": \"bottom\"}, \"type\": \"nominal\"}, \"tooltip\": [{\"field\": \"speed\", \"type\": \"quantitative\"}, {\"field\": \"density\", \"type\": \"quantitative\"}], \"x\": {\"axis\": {\"grid\": false, \"labels\": false, \"ticks\": true, \"values\": [0]}, \"field\": \"density\", \"impute\": null, \"stack\": \"center\", \"title\": null, \"type\": \"quantitative\"}, \"y\": {\"field\": \"speed\", \"type\": \"quantitative\"}}, \"height\": 300, \"title\": \"Grafico de densidad de velocidad por tiempo\", \"transform\": [{\"density\": \"speed\", \"groupby\": [\"vehicle\"], \"as\": [\"speed\", \"density\"]}], \"width\": 100, \"$schema\": \"https://vega.github.io/schema/vega-lite/v5.8.0.json\", \"datasets\": {\"data-5d3be3fd43ab46cca79cf2374d1a4771\": [{\"speed\": 101.0, \"time\": 7.49, \"image\": \"CitroenC4Picasso_101.MP4\", \"vehicle\": \"CitroenC4Picasso\"}, {\"speed\": 35.0, \"time\": 6.25, \"image\": \"CitroenC4Picasso_35.MP4\", \"vehicle\": \"CitroenC4Picasso\"}, {\"speed\": 38.0, \"time\": 5.82, \"image\": \"CitroenC4Picasso_38.MP4\", \"vehicle\": \"CitroenC4Picasso\"}, {\"speed\": 41.0, \"time\": 6.16, \"image\": \"CitroenC4Picasso_41.MP4\", \"vehicle\": \"CitroenC4Picasso\"}, {\"speed\": 44.0, \"time\": 5.44, \"image\": \"CitroenC4Picasso_44.MP4\", \"vehicle\": \"CitroenC4Picasso\"}, {\"speed\": 48.0, \"time\": 6.03, \"image\": \"CitroenC4Picasso_48.MP4\", \"vehicle\": \"CitroenC4Picasso\"}, {\"speed\": 51.0, \"time\": 5.85, \"image\": \"CitroenC4Picasso_51.MP4\", \"vehicle\": \"CitroenC4Picasso\"}, {\"speed\": 54.0, \"time\": 5.65, \"image\": \"CitroenC4Picasso_54.MP4\", \"vehicle\": \"CitroenC4Picasso\"}, {\"speed\": 57.0, \"time\": 5.95, \"image\": \"CitroenC4Picasso_57.MP4\", \"vehicle\": \"CitroenC4Picasso\"}, {\"speed\": 59.0, \"time\": 5.85, \"image\": \"CitroenC4Picasso_59.MP4\", \"vehicle\": \"CitroenC4Picasso\"}, {\"speed\": 63.0, \"time\": 6.06, \"image\": \"CitroenC4Picasso_63.MP4\", \"vehicle\": \"CitroenC4Picasso\"}, {\"speed\": 65.0, \"time\": 5.66, \"image\": \"CitroenC4Picasso_65.MP4\", \"vehicle\": \"CitroenC4Picasso\"}, {\"speed\": 68.0, \"time\": 6.16, \"image\": \"CitroenC4Picasso_68.MP4\", \"vehicle\": \"CitroenC4Picasso\"}, {\"speed\": 72.0, \"time\": 5.75, \"image\": \"CitroenC4Picasso_72.MP4\", \"vehicle\": \"CitroenC4Picasso\"}, {\"speed\": 74.0, \"time\": 6.26, \"image\": \"CitroenC4Picasso_74.MP4\", \"vehicle\": \"CitroenC4Picasso\"}, {\"speed\": 78.0, \"time\": 6.14, \"image\": \"CitroenC4Picasso_78.MP4\", \"vehicle\": \"CitroenC4Picasso\"}, {\"speed\": 80.0, \"time\": 5.41, \"image\": \"CitroenC4Picasso_80.MP4\", \"vehicle\": \"CitroenC4Picasso\"}, {\"speed\": 83.0, \"time\": 6.63, \"image\": \"CitroenC4Picasso_83.MP4\", \"vehicle\": \"CitroenC4Picasso\"}, {\"speed\": 85.0, \"time\": 5.67, \"image\": \"CitroenC4Picasso_85.MP4\", \"vehicle\": \"CitroenC4Picasso\"}, {\"speed\": 87.0, \"time\": 6.19, \"image\": \"CitroenC4Picasso_87.MP4\", \"vehicle\": \"CitroenC4Picasso\"}, {\"speed\": 92.0, \"time\": 7.62, \"image\": \"CitroenC4Picasso_92.MP4\", \"vehicle\": \"CitroenC4Picasso\"}, {\"speed\": 94.0, \"time\": 6.79, \"image\": \"CitroenC4Picasso_94.MP4\", \"vehicle\": \"CitroenC4Picasso\"}, {\"speed\": 96.0, \"time\": 5.79, \"image\": \"CitroenC4Picasso_96.MP4\", \"vehicle\": \"CitroenC4Picasso\"}, {\"speed\": 100.0, \"time\": 4.98, \"image\": \"KiaSportage_100.MP4\", \"vehicle\": \"KiaSportage\"}, {\"speed\": 103.0, \"time\": 4.91, \"image\": \"KiaSportage_103.MP4\", \"vehicle\": \"KiaSportage\"}, {\"speed\": 105.0, \"time\": 4.98, \"image\": \"KiaSportage_105.MP4\", \"vehicle\": \"KiaSportage\"}, {\"speed\": 31.0, \"time\": 4.94, \"image\": \"KiaSportage_31.MP4\", \"vehicle\": \"KiaSportage\"}, {\"speed\": 33.0, \"time\": 4.91, \"image\": \"KiaSportage_33.MP4\", \"vehicle\": \"KiaSportage\"}, {\"speed\": 35.0, \"time\": 4.93, \"image\": \"KiaSportage_35.MP4\", \"vehicle\": \"KiaSportage\"}, {\"speed\": 38.0, \"time\": 5.05, \"image\": \"KiaSportage_38.MP4\", \"vehicle\": \"KiaSportage\"}, {\"speed\": 41.0, \"time\": 4.93, \"image\": \"KiaSportage_41.MP4\", \"vehicle\": \"KiaSportage\"}, {\"speed\": 44.0, \"time\": 5.02, \"image\": \"KiaSportage_44.MP4\", \"vehicle\": \"KiaSportage\"}, {\"speed\": 46.0, \"time\": 4.94, \"image\": \"KiaSportage_46.MP4\", \"vehicle\": \"KiaSportage\"}, {\"speed\": 48.0, \"time\": 4.96, \"image\": \"KiaSportage_48.MP4\", \"vehicle\": \"KiaSportage\"}, {\"speed\": 51.0, \"time\": 4.92, \"image\": \"KiaSportage_51.MP4\", \"vehicle\": \"KiaSportage\"}, {\"speed\": 53.0, \"time\": 4.97, \"image\": \"KiaSportage_53.MP4\", \"vehicle\": \"KiaSportage\"}, {\"speed\": 55.0, \"time\": 4.95, \"image\": \"KiaSportage_55.MP4\", \"vehicle\": \"KiaSportage\"}, {\"speed\": 58.0, \"time\": 4.92, \"image\": \"KiaSportage_58.MP4\", \"vehicle\": \"KiaSportage\"}, {\"speed\": 61.0, \"time\": 4.96, \"image\": \"KiaSportage_61.MP4\", \"vehicle\": \"KiaSportage\"}, {\"speed\": 63.0, \"time\": 5.0, \"image\": \"KiaSportage_63.MP4\", \"vehicle\": \"KiaSportage\"}, {\"speed\": 65.0, \"time\": 4.93, \"image\": \"KiaSportage_65.MP4\", \"vehicle\": \"KiaSportage\"}, {\"speed\": 68.0, \"time\": 4.96, \"image\": \"KiaSportage_68.MP4\", \"vehicle\": \"KiaSportage\"}, {\"speed\": 69.0, \"time\": 4.94, \"image\": \"KiaSportage_69.MP4\", \"vehicle\": \"KiaSportage\"}, {\"speed\": 72.0, \"time\": 4.95, \"image\": \"KiaSportage_72.MP4\", \"vehicle\": \"KiaSportage\"}, {\"speed\": 74.0, \"time\": 4.94, \"image\": \"KiaSportage_74.MP4\", \"vehicle\": \"KiaSportage\"}, {\"speed\": 77.0, \"time\": 5.02, \"image\": \"KiaSportage_77.MP4\", \"vehicle\": \"KiaSportage\"}, {\"speed\": 78.0, \"time\": 4.95, \"image\": \"KiaSportage_78.MP4\", \"vehicle\": \"KiaSportage\"}, {\"speed\": 80.0, \"time\": 4.94, \"image\": \"KiaSportage_80.MP4\", \"vehicle\": \"KiaSportage\"}, {\"speed\": 83.0, \"time\": 4.95, \"image\": \"KiaSportage_83.MP4\", \"vehicle\": \"KiaSportage\"}, {\"speed\": 85.0, \"time\": 4.95, \"image\": \"KiaSportage_85.MP4\", \"vehicle\": \"KiaSportage\"}, {\"speed\": 86.0, \"time\": 4.92, \"image\": \"KiaSportage_86.MP4\", \"vehicle\": \"KiaSportage\"}, {\"speed\": 89.0, \"time\": 4.98, \"image\": \"KiaSportage_89.MP4\", \"vehicle\": \"KiaSportage\"}, {\"speed\": 91.0, \"time\": 4.95, \"image\": \"KiaSportage_91.MP4\", \"vehicle\": \"KiaSportage\"}, {\"speed\": 93.0, \"time\": 4.98, \"image\": \"KiaSportage_93.MP4\", \"vehicle\": \"KiaSportage\"}, {\"speed\": 96.0, \"time\": 4.91, \"image\": \"KiaSportage_96.MP4\", \"vehicle\": \"KiaSportage\"}, {\"speed\": 98.0, \"time\": 4.92, \"image\": \"KiaSportage_98.MP4\", \"vehicle\": \"KiaSportage\"}, {\"speed\": 101.0, \"time\": 5.04, \"image\": \"Mazda3_101.MP4\", \"vehicle\": \"Mazda3\"}, {\"speed\": 103.0, \"time\": 5.07, \"image\": \"Mazda3_103.MP4\", \"vehicle\": \"Mazda3\"}, {\"speed\": 105.0, \"time\": 4.99, \"image\": \"Mazda3_105.MP4\", \"vehicle\": \"Mazda3\"}, {\"speed\": 30.0, \"time\": 5.23, \"image\": \"Mazda3_30.MP4\", \"vehicle\": \"Mazda3\"}, {\"speed\": 33.0, \"time\": 5.08, \"image\": \"Mazda3_33.MP4\", \"vehicle\": \"Mazda3\"}, {\"speed\": 35.0, \"time\": 5.12, \"image\": \"Mazda3_35.MP4\", \"vehicle\": \"Mazda3\"}, {\"speed\": 38.0, \"time\": 5.15, \"image\": \"Mazda3_38.MP4\", \"vehicle\": \"Mazda3\"}, {\"speed\": 40.0, \"time\": 5.02, \"image\": \"Mazda3_40.MP4\", \"vehicle\": \"Mazda3\"}, {\"speed\": 43.0, \"time\": 5.02, \"image\": \"Mazda3_43.MP4\", \"vehicle\": \"Mazda3\"}, {\"speed\": 45.0, \"time\": 5.31, \"image\": \"Mazda3_45.MP4\", \"vehicle\": \"Mazda3\"}, {\"speed\": 47.0, \"time\": 5.42, \"image\": \"Mazda3_47.MP4\", \"vehicle\": \"Mazda3\"}, {\"speed\": 50.0, \"time\": 5.62, \"image\": \"Mazda3_50.MP4\", \"vehicle\": \"Mazda3\"}, {\"speed\": 52.0, \"time\": 5.15, \"image\": \"Mazda3_52.MP4\", \"vehicle\": \"Mazda3\"}, {\"speed\": 55.0, \"time\": 5.68, \"image\": \"Mazda3_55.MP4\", \"vehicle\": \"Mazda3\"}, {\"speed\": 57.0, \"time\": 5.08, \"image\": \"Mazda3_57.MP4\", \"vehicle\": \"Mazda3\"}, {\"speed\": 60.0, \"time\": 5.09, \"image\": \"Mazda3_60.MP4\", \"vehicle\": \"Mazda3\"}, {\"speed\": 62.0, \"time\": 5.25, \"image\": \"Mazda3_62.MP4\", \"vehicle\": \"Mazda3\"}, {\"speed\": 64.0, \"time\": 5.02, \"image\": \"Mazda3_64.MP4\", \"vehicle\": \"Mazda3\"}, {\"speed\": 67.0, \"time\": 5.65, \"image\": \"Mazda3_67.MP4\", \"vehicle\": \"Mazda3\"}, {\"speed\": 70.0, \"time\": 5.05, \"image\": \"Mazda3_70.MP4\", \"vehicle\": \"Mazda3\"}, {\"speed\": 72.0, \"time\": 5.16, \"image\": \"Mazda3_72.MP4\", \"vehicle\": \"Mazda3\"}, {\"speed\": 75.0, \"time\": 5.02, \"image\": \"Mazda3_75.MP4\", \"vehicle\": \"Mazda3\"}, {\"speed\": 79.0, \"time\": 5.05, \"image\": \"Mazda3_79.MP4\", \"vehicle\": \"Mazda3\"}, {\"speed\": 81.0, \"time\": 5.22, \"image\": \"Mazda3_81.MP4\", \"vehicle\": \"Mazda3\"}, {\"speed\": 84.0, \"time\": 5.08, \"image\": \"Mazda3_84.MP4\", \"vehicle\": \"Mazda3\"}, {\"speed\": 86.0, \"time\": 5.19, \"image\": \"Mazda3_86.MP4\", \"vehicle\": \"Mazda3\"}, {\"speed\": 88.0, \"time\": 5.09, \"image\": \"Mazda3_88.MP4\", \"vehicle\": \"Mazda3\"}, {\"speed\": 90.0, \"time\": 5.11, \"image\": \"Mazda3_90.MP4\", \"vehicle\": \"Mazda3\"}, {\"speed\": 92.0, \"time\": 5.22, \"image\": \"Mazda3_92.MP4\", \"vehicle\": \"Mazda3\"}, {\"speed\": 94.0, \"time\": 5.04, \"image\": \"Mazda3_94.MP4\", \"vehicle\": \"Mazda3\"}, {\"speed\": 96.0, \"time\": 5.02, \"image\": \"Mazda3_96.MP4\", \"vehicle\": \"Mazda3\"}, {\"speed\": 99.0, \"time\": 4.98, \"image\": \"Mazda3_99.MP4\", \"vehicle\": \"Mazda3\"}, {\"speed\": 100.0, \"time\": 4.94, \"image\": \"MercedesAMG550_100.MP4\", \"vehicle\": \"MercedesAMG550\"}, {\"speed\": 105.0, \"time\": 4.45, \"image\": \"MercedesAMG550_105.MP4\", \"vehicle\": \"MercedesAMG550\"}, {\"speed\": 30.0, \"time\": 5.07, \"image\": \"MercedesAMG550_30.MP4\", \"vehicle\": \"MercedesAMG550\"}, {\"speed\": 33.0, \"time\": 5.68, \"image\": \"MercedesAMG550_33.MP4\", \"vehicle\": \"MercedesAMG550\"}, {\"speed\": 35.0, \"time\": 5.99, \"image\": \"MercedesAMG550_35.MP4\", \"vehicle\": \"MercedesAMG550\"}, {\"speed\": 38.0, \"time\": 5.88, \"image\": \"MercedesAMG550_38.MP4\", \"vehicle\": \"MercedesAMG550\"}, {\"speed\": 40.0, \"time\": 5.13, \"image\": \"MercedesAMG550_40.MP4\", \"vehicle\": \"MercedesAMG550\"}, {\"speed\": 42.0, \"time\": 6.28, \"image\": \"MercedesAMG550_42.MP4\", \"vehicle\": \"MercedesAMG550\"}, {\"speed\": 45.0, \"time\": 5.06, \"image\": \"MercedesAMG550_45.MP4\", \"vehicle\": \"MercedesAMG550\"}, {\"speed\": 47.0, \"time\": 5.67, \"image\": \"MercedesAMG550_47.MP4\", \"vehicle\": \"MercedesAMG550\"}, {\"speed\": 50.0, \"time\": 5.19, \"image\": \"MercedesAMG550_50.MP4\", \"vehicle\": \"MercedesAMG550\"}, {\"speed\": 52.0, \"time\": 5.89, \"image\": \"MercedesAMG550_52.MP4\", \"vehicle\": \"MercedesAMG550\"}, {\"speed\": 55.0, \"time\": 5.07, \"image\": \"MercedesAMG550_55.MP4\", \"vehicle\": \"MercedesAMG550\"}, {\"speed\": 58.0, \"time\": 5.65, \"image\": \"MercedesAMG550_58.MP4\", \"vehicle\": \"MercedesAMG550\"}, {\"speed\": 60.0, \"time\": 5.25, \"image\": \"MercedesAMG550_60.MP4\", \"vehicle\": \"MercedesAMG550\"}, {\"speed\": 62.0, \"time\": 5.38, \"image\": \"MercedesAMG550_62.MP4\", \"vehicle\": \"MercedesAMG550\"}, {\"speed\": 65.0, \"time\": 7.04, \"image\": \"MercedesAMG550_65.MP4\", \"vehicle\": \"MercedesAMG550\"}, {\"speed\": 67.0, \"time\": 5.76, \"image\": \"MercedesAMG550_67.MP4\", \"vehicle\": \"MercedesAMG550\"}, {\"speed\": 70.0, \"time\": 4.83, \"image\": \"MercedesAMG550_70.MP4\", \"vehicle\": \"MercedesAMG550\"}, {\"speed\": 73.0, \"time\": 5.63, \"image\": \"MercedesAMG550_73.MP4\", \"vehicle\": \"MercedesAMG550\"}, {\"speed\": 75.0, \"time\": 5.11, \"image\": \"MercedesAMG550_75.MP4\", \"vehicle\": \"MercedesAMG550\"}, {\"speed\": 78.0, \"time\": 6.11, \"image\": \"MercedesAMG550_78.MP4\", \"vehicle\": \"MercedesAMG550\"}, {\"speed\": 80.0, \"time\": 4.9, \"image\": \"MercedesAMG550_80.MP4\", \"vehicle\": \"MercedesAMG550\"}, {\"speed\": 82.0, \"time\": 5.82, \"image\": \"MercedesAMG550_82.MP4\", \"vehicle\": \"MercedesAMG550\"}, {\"speed\": 85.0, \"time\": 4.84, \"image\": \"MercedesAMG550_85.MP4\", \"vehicle\": \"MercedesAMG550\"}, {\"speed\": 87.0, \"time\": 5.41, \"image\": \"MercedesAMG550_87.MP4\", \"vehicle\": \"MercedesAMG550\"}, {\"speed\": 90.0, \"time\": 6.0, \"image\": \"MercedesAMG550_90.MP4\", \"vehicle\": \"MercedesAMG550\"}, {\"speed\": 93.0, \"time\": 5.68, \"image\": \"MercedesAMG550_93.MP4\", \"vehicle\": \"MercedesAMG550\"}, {\"speed\": 95.0, \"time\": 5.0, \"image\": \"MercedesAMG550_95.MP4\", \"vehicle\": \"MercedesAMG550\"}, {\"speed\": 98.0, \"time\": 5.44, \"image\": \"MercedesAMG550_98.MP4\", \"vehicle\": \"MercedesAMG550\"}, {\"speed\": 100.0, \"time\": 5.0, \"image\": \"MercedesGLA_100.MP4\", \"vehicle\": \"MercedesGLA\"}, {\"speed\": 101.0, \"time\": 5.01, \"image\": \"MercedesGLA_101.MP4\", \"vehicle\": \"MercedesGLA\"}, {\"speed\": 103.0, \"time\": 5.01, \"image\": \"MercedesGLA_103.MP4\", \"vehicle\": \"MercedesGLA\"}, {\"speed\": 104.0, \"time\": 5.01, \"image\": \"MercedesGLA_104.MP4\", \"vehicle\": \"MercedesGLA\"}, {\"speed\": 30.0, \"time\": 4.99, \"image\": \"MercedesGLA_30.MP4\", \"vehicle\": \"MercedesGLA\"}, {\"speed\": 33.0, \"time\": 4.98, \"image\": \"MercedesGLA_33.MP4\", \"vehicle\": \"MercedesGLA\"}, {\"speed\": 36.0, \"time\": 4.99, \"image\": \"MercedesGLA_36.MP4\", \"vehicle\": \"MercedesGLA\"}, {\"speed\": 39.0, \"time\": 5.0, \"image\": \"MercedesGLA_39.MP4\", \"vehicle\": \"MercedesGLA\"}, {\"speed\": 41.0, \"time\": 4.99, \"image\": \"MercedesGLA_41.MP4\", \"vehicle\": \"MercedesGLA\"}, {\"speed\": 42.0, \"time\": 5.0, \"image\": \"MercedesGLA_42.MP4\", \"vehicle\": \"MercedesGLA\"}, {\"speed\": 45.0, \"time\": 5.02, \"image\": \"MercedesGLA_45.MP4\", \"vehicle\": \"MercedesGLA\"}, {\"speed\": 47.0, \"time\": 5.0, \"image\": \"MercedesGLA_47.MP4\", \"vehicle\": \"MercedesGLA\"}, {\"speed\": 48.0, \"time\": 5.0, \"image\": \"MercedesGLA_48.MP4\", \"vehicle\": \"MercedesGLA\"}, {\"speed\": 49.0, \"time\": 5.01, \"image\": \"MercedesGLA_49.MP4\", \"vehicle\": \"MercedesGLA\"}, {\"speed\": 52.0, \"time\": 5.0, \"image\": \"MercedesGLA_52.MP4\", \"vehicle\": \"MercedesGLA\"}, {\"speed\": 54.0, \"time\": 5.0, \"image\": \"MercedesGLA_54.MP4\", \"vehicle\": \"MercedesGLA\"}, {\"speed\": 55.0, \"time\": 4.99, \"image\": \"MercedesGLA_55.MP4\", \"vehicle\": \"MercedesGLA\"}, {\"speed\": 59.0, \"time\": 5.01, \"image\": \"MercedesGLA_59.MP4\", \"vehicle\": \"MercedesGLA\"}, {\"speed\": 61.0, \"time\": 5.08, \"image\": \"MercedesGLA_61.MP4\", \"vehicle\": \"MercedesGLA\"}, {\"speed\": 63.0, \"time\": 4.99, \"image\": \"MercedesGLA_63.MP4\", \"vehicle\": \"MercedesGLA\"}, {\"speed\": 65.0, \"time\": 4.99, \"image\": \"MercedesGLA_65.MP4\", \"vehicle\": \"MercedesGLA\"}, {\"speed\": 68.0, \"time\": 4.99, \"image\": \"MercedesGLA_68.MP4\", \"vehicle\": \"MercedesGLA\"}, {\"speed\": 70.0, \"time\": 5.01, \"image\": \"MercedesGLA_70.MP4\", \"vehicle\": \"MercedesGLA\"}, {\"speed\": 72.0, \"time\": 5.0, \"image\": \"MercedesGLA_72.MP4\", \"vehicle\": \"MercedesGLA\"}, {\"speed\": 75.0, \"time\": 5.0, \"image\": \"MercedesGLA_75.MP4\", \"vehicle\": \"MercedesGLA\"}, {\"speed\": 78.0, \"time\": 5.0, \"image\": \"MercedesGLA_78.MP4\", \"vehicle\": \"MercedesGLA\"}, {\"speed\": 81.0, \"time\": 5.01, \"image\": \"MercedesGLA_81.MP4\", \"vehicle\": \"MercedesGLA\"}, {\"speed\": 83.0, \"time\": 5.01, \"image\": \"MercedesGLA_83.MP4\", \"vehicle\": \"MercedesGLA\"}, {\"speed\": 85.0, \"time\": 5.01, \"image\": \"MercedesGLA_85.MP4\", \"vehicle\": \"MercedesGLA\"}, {\"speed\": 88.0, \"time\": 4.99, \"image\": \"MercedesGLA_88.MP4\", \"vehicle\": \"MercedesGLA\"}, {\"speed\": 90.0, \"time\": 5.1, \"image\": \"MercedesGLA_90.MP4\", \"vehicle\": \"MercedesGLA\"}, {\"speed\": 92.0, \"time\": 5.01, \"image\": \"MercedesGLA_92.MP4\", \"vehicle\": \"MercedesGLA\"}, {\"speed\": 93.0, \"time\": 4.99, \"image\": \"MercedesGLA_93.MP4\", \"vehicle\": \"MercedesGLA\"}, {\"speed\": 96.0, \"time\": 5.0, \"image\": \"MercedesGLA_96.MP4\", \"vehicle\": \"MercedesGLA\"}, {\"speed\": 102.0, \"time\": 5.62, \"image\": \"NissanQashqai_102.MP4\", \"vehicle\": \"NissanQashqai\"}, {\"speed\": 35.0, \"time\": 6.1, \"image\": \"NissanQashqai_35.MP4\", \"vehicle\": \"NissanQashqai\"}, {\"speed\": 38.0, \"time\": 6.19, \"image\": \"NissanQashqai_38.MP4\", \"vehicle\": \"NissanQashqai\"}, {\"speed\": 40.0, \"time\": 5.21, \"image\": \"NissanQashqai_40.MP4\", \"vehicle\": \"NissanQashqai\"}, {\"speed\": 42.0, \"time\": 5.14, \"image\": \"NissanQashqai_42.MP4\", \"vehicle\": \"NissanQashqai\"}, {\"speed\": 45.0, \"time\": 6.01, \"image\": \"NissanQashqai_45.MP4\", \"vehicle\": \"NissanQashqai\"}, {\"speed\": 48.0, \"time\": 5.21, \"image\": \"NissanQashqai_48.MP4\", \"vehicle\": \"NissanQashqai\"}, {\"speed\": 50.0, \"time\": 5.85, \"image\": \"NissanQashqai_50.MP4\", \"vehicle\": \"NissanQashqai\"}, {\"speed\": 53.0, \"time\": 5.99, \"image\": \"NissanQashqai_53.MP4\", \"vehicle\": \"NissanQashqai\"}, {\"speed\": 55.0, \"time\": 5.9, \"image\": \"NissanQashqai_55.MP4\", \"vehicle\": \"NissanQashqai\"}, {\"speed\": 58.0, \"time\": 5.61, \"image\": \"NissanQashqai_58.MP4\", \"vehicle\": \"NissanQashqai\"}, {\"speed\": 60.0, \"time\": 5.58, \"image\": \"NissanQashqai_60.MP4\", \"vehicle\": \"NissanQashqai\"}, {\"speed\": 61.0, \"time\": 6.08, \"image\": \"NissanQashqai_61.MP4\", \"vehicle\": \"NissanQashqai\"}, {\"speed\": 64.0, \"time\": 5.92, \"image\": \"NissanQashqai_64.MP4\", \"vehicle\": \"NissanQashqai\"}, {\"speed\": 65.0, \"time\": 5.58, \"image\": \"NissanQashqai_65.MP4\", \"vehicle\": \"NissanQashqai\"}, {\"speed\": 68.0, \"time\": 5.98, \"image\": \"NissanQashqai_68.MP4\", \"vehicle\": \"NissanQashqai\"}, {\"speed\": 70.0, \"time\": 6.04, \"image\": \"NissanQashqai_70.MP4\", \"vehicle\": \"NissanQashqai\"}, {\"speed\": 73.0, \"time\": 6.14, \"image\": \"NissanQashqai_73.MP4\", \"vehicle\": \"NissanQashqai\"}, {\"speed\": 75.0, \"time\": 6.01, \"image\": \"NissanQashqai_75.MP4\", \"vehicle\": \"NissanQashqai\"}, {\"speed\": 78.0, \"time\": 5.9, \"image\": \"NissanQashqai_78.MP4\", \"vehicle\": \"NissanQashqai\"}, {\"speed\": 80.0, \"time\": 5.79, \"image\": \"NissanQashqai_80.MP4\", \"vehicle\": \"NissanQashqai\"}, {\"speed\": 82.0, \"time\": 5.72, \"image\": \"NissanQashqai_82.MP4\", \"vehicle\": \"NissanQashqai\"}, {\"speed\": 85.0, \"time\": 5.91, \"image\": \"NissanQashqai_85.MP4\", \"vehicle\": \"NissanQashqai\"}, {\"speed\": 88.0, \"time\": 6.13, \"image\": \"NissanQashqai_88.MP4\", \"vehicle\": \"NissanQashqai\"}, {\"speed\": 90.0, \"time\": 5.52, \"image\": \"NissanQashqai_90.MP4\", \"vehicle\": \"NissanQashqai\"}, {\"speed\": 93.0, \"time\": 5.79, \"image\": \"NissanQashqai_93.MP4\", \"vehicle\": \"NissanQashqai\"}, {\"speed\": 94.0, \"time\": 5.28, \"image\": \"NissanQashqai_94.MP4\", \"vehicle\": \"NissanQashqai\"}, {\"speed\": 96.0, \"time\": 5.58, \"image\": \"NissanQashqai_96.MP4\", \"vehicle\": \"NissanQashqai\"}, {\"speed\": 98.0, \"time\": 5.38, \"image\": \"NissanQashqai_98.MP4\", \"vehicle\": \"NissanQashqai\"}, {\"speed\": 100.0, \"time\": 5.02, \"image\": \"OpelInsignia_100.MP4\", \"vehicle\": \"OpelInsignia\"}, {\"speed\": 31.0, \"time\": 6.05, \"image\": \"OpelInsignia_31.MP4\", \"vehicle\": \"OpelInsignia\"}, {\"speed\": 35.0, \"time\": 5.92, \"image\": \"OpelInsignia_35.MP4\", \"vehicle\": \"OpelInsignia\"}, {\"speed\": 38.0, \"time\": 6.68, \"image\": \"OpelInsignia_38.MP4\", \"vehicle\": \"OpelInsignia\"}, {\"speed\": 41.0, \"time\": 6.51, \"image\": \"OpelInsignia_41.MP4\", \"vehicle\": \"OpelInsignia\"}, {\"speed\": 44.0, \"time\": 5.92, \"image\": \"OpelInsignia_44.MP4\", \"vehicle\": \"OpelInsignia\"}, {\"speed\": 47.0, \"time\": 5.91, \"image\": \"OpelInsignia_47.MP4\", \"vehicle\": \"OpelInsignia\"}, {\"speed\": 50.0, \"time\": 6.42, \"image\": \"OpelInsignia_50.MP4\", \"vehicle\": \"OpelInsignia\"}, {\"speed\": 53.0, \"time\": 5.71, \"image\": \"OpelInsignia_53.MP4\", \"vehicle\": \"OpelInsignia\"}, {\"speed\": 55.0, \"time\": 5.51, \"image\": \"OpelInsignia_55.MP4\", \"vehicle\": \"OpelInsignia\"}, {\"speed\": 58.0, \"time\": 5.48, \"image\": \"OpelInsignia_58.MP4\", \"vehicle\": \"OpelInsignia\"}, {\"speed\": 61.0, \"time\": 5.54, \"image\": \"OpelInsignia_61.MP4\", \"vehicle\": \"OpelInsignia\"}, {\"speed\": 64.0, \"time\": 5.74, \"image\": \"OpelInsignia_64.MP4\", \"vehicle\": \"OpelInsignia\"}, {\"speed\": 66.0, \"time\": 5.35, \"image\": \"OpelInsignia_66.MP4\", \"vehicle\": \"OpelInsignia\"}, {\"speed\": 68.0, \"time\": 5.25, \"image\": \"OpelInsignia_68.MP4\", \"vehicle\": \"OpelInsignia\"}, {\"speed\": 70.0, \"time\": 5.91, \"image\": \"OpelInsignia_70.MP4\", \"vehicle\": \"OpelInsignia\"}, {\"speed\": 72.0, \"time\": 6.09, \"image\": \"OpelInsignia_72.MP4\", \"vehicle\": \"OpelInsignia\"}, {\"speed\": 73.0, \"time\": 5.39, \"image\": \"OpelInsignia_73.MP4\", \"vehicle\": \"OpelInsignia\"}, {\"speed\": 76.0, \"time\": 6.22, \"image\": \"OpelInsignia_76.MP4\", \"vehicle\": \"OpelInsignia\"}, {\"speed\": 78.0, \"time\": 5.21, \"image\": \"OpelInsignia_78.MP4\", \"vehicle\": \"OpelInsignia\"}, {\"speed\": 80.0, \"time\": 6.24, \"image\": \"OpelInsignia_80.MP4\", \"vehicle\": \"OpelInsignia\"}, {\"speed\": 83.0, \"time\": 6.02, \"image\": \"OpelInsignia_83.MP4\", \"vehicle\": \"OpelInsignia\"}, {\"speed\": 86.0, \"time\": 5.51, \"image\": \"OpelInsignia_86.MP4\", \"vehicle\": \"OpelInsignia\"}, {\"speed\": 89.0, \"time\": 5.59, \"image\": \"OpelInsignia_89.MP4\", \"vehicle\": \"OpelInsignia\"}, {\"speed\": 91.0, \"time\": 5.38, \"image\": \"OpelInsignia_91.MP4\", \"vehicle\": \"OpelInsignia\"}, {\"speed\": 94.0, \"time\": 5.81, \"image\": \"OpelInsignia_94.MP4\", \"vehicle\": \"OpelInsignia\"}, {\"speed\": 97.0, \"time\": 5.72, \"image\": \"OpelInsignia_97.MP4\", \"vehicle\": \"OpelInsignia\"}, {\"speed\": 30.0, \"time\": 5.14, \"image\": \"Peugeot208_30.MP4\", \"vehicle\": \"Peugeot208\"}, {\"speed\": 32.0, \"time\": 5.04, \"image\": \"Peugeot208_32.MP4\", \"vehicle\": \"Peugeot208\"}, {\"speed\": 34.0, \"time\": 5.04, \"image\": \"Peugeot208_34.MP4\", \"vehicle\": \"Peugeot208\"}, {\"speed\": 37.0, \"time\": 5.15, \"image\": \"Peugeot208_37.MP4\", \"vehicle\": \"Peugeot208\"}, {\"speed\": 40.0, \"time\": 5.14, \"image\": \"Peugeot208_40.MP4\", \"vehicle\": \"Peugeot208\"}, {\"speed\": 43.0, \"time\": 5.1, \"image\": \"Peugeot208_43.MP4\", \"vehicle\": \"Peugeot208\"}, {\"speed\": 45.0, \"time\": 5.12, \"image\": \"Peugeot208_45.MP4\", \"vehicle\": \"Peugeot208\"}, {\"speed\": 47.0, \"time\": 5.02, \"image\": \"Peugeot208_47.MP4\", \"vehicle\": \"Peugeot208\"}, {\"speed\": 50.0, \"time\": 4.93, \"image\": \"Peugeot208_50.MP4\", \"vehicle\": \"Peugeot208\"}, {\"speed\": 51.0, \"time\": 5.52, \"image\": \"Peugeot208_51.MP4\", \"vehicle\": \"Peugeot208\"}, {\"speed\": 54.0, \"time\": 5.17, \"image\": \"Peugeot208_54.MP4\", \"vehicle\": \"Peugeot208\"}, {\"speed\": 57.0, \"time\": 5.51, \"image\": \"Peugeot208_57.MP4\", \"vehicle\": \"Peugeot208\"}, {\"speed\": 60.0, \"time\": 5.06, \"image\": \"Peugeot208_60.MP4\", \"vehicle\": \"Peugeot208\"}, {\"speed\": 62.0, \"time\": 5.09, \"image\": \"Peugeot208_62.MP4\", \"vehicle\": \"Peugeot208\"}, {\"speed\": 64.0, \"time\": 5.22, \"image\": \"Peugeot208_64.MP4\", \"vehicle\": \"Peugeot208\"}, {\"speed\": 67.0, \"time\": 5.03, \"image\": \"Peugeot208_67.MP4\", \"vehicle\": \"Peugeot208\"}, {\"speed\": 68.0, \"time\": 5.18, \"image\": \"Peugeot208_68.MP4\", \"vehicle\": \"Peugeot208\"}, {\"speed\": 71.0, \"time\": 5.16, \"image\": \"Peugeot208_71.MP4\", \"vehicle\": \"Peugeot208\"}, {\"speed\": 73.0, \"time\": 4.99, \"image\": \"Peugeot208_73.MP4\", \"vehicle\": \"Peugeot208\"}, {\"speed\": 76.0, \"time\": 5.61, \"image\": \"Peugeot208_76.MP4\", \"vehicle\": \"Peugeot208\"}, {\"speed\": 77.0, \"time\": 6.26, \"image\": \"Peugeot208_77.MP4\", \"vehicle\": \"Peugeot208\"}, {\"speed\": 79.0, \"time\": 5.22, \"image\": \"Peugeot208_79.MP4\", \"vehicle\": \"Peugeot208\"}, {\"speed\": 82.0, \"time\": 5.17, \"image\": \"Peugeot208_82.MP4\", \"vehicle\": \"Peugeot208\"}, {\"speed\": 84.0, \"time\": 5.12, \"image\": \"Peugeot208_84.MP4\", \"vehicle\": \"Peugeot208\"}, {\"speed\": 87.0, \"time\": 5.48, \"image\": \"Peugeot208_87.MP4\", \"vehicle\": \"Peugeot208\"}, {\"speed\": 90.0, \"time\": 5.18, \"image\": \"Peugeot208_90.MP4\", \"vehicle\": \"Peugeot208\"}, {\"speed\": 92.0, \"time\": 5.48, \"image\": \"Peugeot208_92.MP4\", \"vehicle\": \"Peugeot208\"}, {\"speed\": 95.0, \"time\": 5.59, \"image\": \"Peugeot208_95.MP4\", \"vehicle\": \"Peugeot208\"}, {\"speed\": 96.0, \"time\": 5.43, \"image\": \"Peugeot208_96.MP4\", \"vehicle\": \"Peugeot208\"}, {\"speed\": 100.0, \"time\": 5.5, \"image\": \"Peugeot3008_100.MP4\", \"vehicle\": \"Peugeot3008\"}, {\"speed\": 40.0, \"time\": 6.01, \"image\": \"Peugeot3008_40.MP4\", \"vehicle\": \"Peugeot3008\"}, {\"speed\": 43.0, \"time\": 4.93, \"image\": \"Peugeot3008_43.MP4\", \"vehicle\": \"Peugeot3008\"}, {\"speed\": 45.0, \"time\": 6.0, \"image\": \"Peugeot3008_45.MP4\", \"vehicle\": \"Peugeot3008\"}, {\"speed\": 47.0, \"time\": 5.89, \"image\": \"Peugeot3008_47.MP4\", \"vehicle\": \"Peugeot3008\"}, {\"speed\": 50.0, \"time\": 5.99, \"image\": \"Peugeot3008_50.MP4\", \"vehicle\": \"Peugeot3008\"}, {\"speed\": 52.0, \"time\": 6.86, \"image\": \"Peugeot3008_52.MP4\", \"vehicle\": \"Peugeot3008\"}, {\"speed\": 54.0, \"time\": 5.84, \"image\": \"Peugeot3008_54.MP4\", \"vehicle\": \"Peugeot3008\"}, {\"speed\": 55.0, \"time\": 6.02, \"image\": \"Peugeot3008_55.MP4\", \"vehicle\": \"Peugeot3008\"}, {\"speed\": 56.0, \"time\": 5.71, \"image\": \"Peugeot3008_56.MP4\", \"vehicle\": \"Peugeot3008\"}, {\"speed\": 58.0, \"time\": 4.89, \"image\": \"Peugeot3008_58.MP4\", \"vehicle\": \"Peugeot3008\"}, {\"speed\": 60.0, \"time\": 5.99, \"image\": \"Peugeot3008_60.MP4\", \"vehicle\": \"Peugeot3008\"}, {\"speed\": 61.0, \"time\": 5.43, \"image\": \"Peugeot3008_61.MP4\", \"vehicle\": \"Peugeot3008\"}, {\"speed\": 63.0, \"time\": 7.22, \"image\": \"Peugeot3008_63.MP4\", \"vehicle\": \"Peugeot3008\"}, {\"speed\": 65.0, \"time\": 6.0, \"image\": \"Peugeot3008_65.MP4\", \"vehicle\": \"Peugeot3008\"}, {\"speed\": 67.0, \"time\": 5.69, \"image\": \"Peugeot3008_67.MP4\", \"vehicle\": \"Peugeot3008\"}, {\"speed\": 68.0, \"time\": 5.97, \"image\": \"Peugeot3008_68.MP4\", \"vehicle\": \"Peugeot3008\"}, {\"speed\": 70.0, \"time\": 6.0, \"image\": \"Peugeot3008_70.MP4\", \"vehicle\": \"Peugeot3008\"}, {\"speed\": 72.0, \"time\": 5.53, \"image\": \"Peugeot3008_72.MP4\", \"vehicle\": \"Peugeot3008\"}, {\"speed\": 74.0, \"time\": 5.88, \"image\": \"Peugeot3008_74.MP4\", \"vehicle\": \"Peugeot3008\"}, {\"speed\": 75.0, \"time\": 6.09, \"image\": \"Peugeot3008_75.MP4\", \"vehicle\": \"Peugeot3008\"}, {\"speed\": 78.0, \"time\": 5.6, \"image\": \"Peugeot3008_78.MP4\", \"vehicle\": \"Peugeot3008\"}, {\"speed\": 80.0, \"time\": 6.01, \"image\": \"Peugeot3008_80.MP4\", \"vehicle\": \"Peugeot3008\"}, {\"speed\": 83.0, \"time\": 6.62, \"image\": \"Peugeot3008_83.MP4\", \"vehicle\": \"Peugeot3008\"}, {\"speed\": 85.0, \"time\": 6.38, \"image\": \"Peugeot3008_85.MP4\", \"vehicle\": \"Peugeot3008\"}, {\"speed\": 87.0, \"time\": 5.35, \"image\": \"Peugeot3008_87.MP4\", \"vehicle\": \"Peugeot3008\"}, {\"speed\": 89.0, \"time\": 5.15, \"image\": \"Peugeot3008_89.MP4\", \"vehicle\": \"Peugeot3008\"}, {\"speed\": 90.0, \"time\": 5.99, \"image\": \"Peugeot3008_90.MP4\", \"vehicle\": \"Peugeot3008\"}, {\"speed\": 92.0, \"time\": 5.37, \"image\": \"Peugeot3008_92.MP4\", \"vehicle\": \"Peugeot3008\"}, {\"speed\": 95.0, \"time\": 6.1, \"image\": \"Peugeot3008_95.MP4\", \"vehicle\": \"Peugeot3008\"}, {\"speed\": 97.0, \"time\": 6.39, \"image\": \"Peugeot3008_97.MP4\", \"vehicle\": \"Peugeot3008\"}, {\"speed\": 101.0, \"time\": 5.45, \"image\": \"Peugeot307_101.MP4\", \"vehicle\": \"Peugeot307\"}, {\"speed\": 103.0, \"time\": 5.86, \"image\": \"Peugeot307_103.MP4\", \"vehicle\": \"Peugeot307\"}, {\"speed\": 30.0, \"time\": 5.52, \"image\": \"Peugeot307_30.MP4\", \"vehicle\": \"Peugeot307\"}, {\"speed\": 33.0, \"time\": 5.62, \"image\": \"Peugeot307_33.MP4\", \"vehicle\": \"Peugeot307\"}, {\"speed\": 35.0, \"time\": 5.55, \"image\": \"Peugeot307_35.MP4\", \"vehicle\": \"Peugeot307\"}, {\"speed\": 38.0, \"time\": 5.08, \"image\": \"Peugeot307_38.MP4\", \"vehicle\": \"Peugeot307\"}, {\"speed\": 40.0, \"time\": 5.02, \"image\": \"Peugeot307_40.MP4\", \"vehicle\": \"Peugeot307\"}, {\"speed\": 43.0, \"time\": 4.95, \"image\": \"Peugeot307_43.MP4\", \"vehicle\": \"Peugeot307\"}, {\"speed\": 45.0, \"time\": 5.18, \"image\": \"Peugeot307_45.MP4\", \"vehicle\": \"Peugeot307\"}, {\"speed\": 47.0, \"time\": 4.99, \"image\": \"Peugeot307_47.MP4\", \"vehicle\": \"Peugeot307\"}, {\"speed\": 48.0, \"time\": 4.97, \"image\": \"Peugeot307_48.MP4\", \"vehicle\": \"Peugeot307\"}, {\"speed\": 50.0, \"time\": 5.18, \"image\": \"Peugeot307_50.MP4\", \"vehicle\": \"Peugeot307\"}, {\"speed\": 53.0, \"time\": 4.98, \"image\": \"Peugeot307_53.MP4\", \"vehicle\": \"Peugeot307\"}, {\"speed\": 56.0, \"time\": 5.45, \"image\": \"Peugeot307_56.MP4\", \"vehicle\": \"Peugeot307\"}, {\"speed\": 59.0, \"time\": 4.97, \"image\": \"Peugeot307_59.MP4\", \"vehicle\": \"Peugeot307\"}, {\"speed\": 60.0, \"time\": 6.33, \"image\": \"Peugeot307_60.MP4\", \"vehicle\": \"Peugeot307\"}, {\"speed\": 63.0, \"time\": 5.08, \"image\": \"Peugeot307_63.MP4\", \"vehicle\": \"Peugeot307\"}, {\"speed\": 66.0, \"time\": 5.18, \"image\": \"Peugeot307_66.MP4\", \"vehicle\": \"Peugeot307\"}, {\"speed\": 69.0, \"time\": 4.85, \"image\": \"Peugeot307_69.MP4\", \"vehicle\": \"Peugeot307\"}, {\"speed\": 72.0, \"time\": 4.6, \"image\": \"Peugeot307_72.MP4\", \"vehicle\": \"Peugeot307\"}, {\"speed\": 73.0, \"time\": 4.95, \"image\": \"Peugeot307_73.MP4\", \"vehicle\": \"Peugeot307\"}, {\"speed\": 76.0, \"time\": 4.9, \"image\": \"Peugeot307_76.MP4\", \"vehicle\": \"Peugeot307\"}, {\"speed\": 79.0, \"time\": 4.93, \"image\": \"Peugeot307_79.MP4\", \"vehicle\": \"Peugeot307\"}, {\"speed\": 82.0, \"time\": 5.22, \"image\": \"Peugeot307_82.MP4\", \"vehicle\": \"Peugeot307\"}, {\"speed\": 85.0, \"time\": 5.25, \"image\": \"Peugeot307_85.MP4\", \"vehicle\": \"Peugeot307\"}, {\"speed\": 88.0, \"time\": 4.94, \"image\": \"Peugeot307_88.MP4\", \"vehicle\": \"Peugeot307\"}, {\"speed\": 91.0, \"time\": 5.05, \"image\": \"Peugeot307_91.MP4\", \"vehicle\": \"Peugeot307\"}, {\"speed\": 94.0, \"time\": 4.75, \"image\": \"Peugeot307_94.MP4\", \"vehicle\": \"Peugeot307\"}, {\"speed\": 97.0, \"time\": 4.95, \"image\": \"Peugeot307_97.MP4\", \"vehicle\": \"Peugeot307\"}, {\"speed\": 100.0, \"time\": 5.19, \"image\": \"RenaultCaptur_100.MP4\", \"vehicle\": \"RenaultCaptur\"}, {\"speed\": 102.0, \"time\": 5.34, \"image\": \"RenaultCaptur_102.MP4\", \"vehicle\": \"RenaultCaptur\"}, {\"speed\": 30.0, \"time\": 5.55, \"image\": \"RenaultCaptur_30.MP4\", \"vehicle\": \"RenaultCaptur\"}, {\"speed\": 33.0, \"time\": 5.85, \"image\": \"RenaultCaptur_33.MP4\", \"vehicle\": \"RenaultCaptur\"}, {\"speed\": 36.0, \"time\": 5.32, \"image\": \"RenaultCaptur_36.MP4\", \"vehicle\": \"RenaultCaptur\"}, {\"speed\": 38.0, \"time\": 5.44, \"image\": \"RenaultCaptur_38.MP4\", \"vehicle\": \"RenaultCaptur\"}, {\"speed\": 40.0, \"time\": 5.29, \"image\": \"RenaultCaptur_40.MP4\", \"vehicle\": \"RenaultCaptur\"}, {\"speed\": 41.0, \"time\": 5.36, \"image\": \"RenaultCaptur_41.MP4\", \"vehicle\": \"RenaultCaptur\"}, {\"speed\": 44.0, \"time\": 5.3, \"image\": \"RenaultCaptur_44.MP4\", \"vehicle\": \"RenaultCaptur\"}, {\"speed\": 46.0, \"time\": 4.68, \"image\": \"RenaultCaptur_46.MP4\", \"vehicle\": \"RenaultCaptur\"}, {\"speed\": 47.0, \"time\": 5.28, \"image\": \"RenaultCaptur_47.MP4\", \"vehicle\": \"RenaultCaptur\"}, {\"speed\": 48.0, \"time\": 5.57, \"image\": \"RenaultCaptur_48.MP4\", \"vehicle\": \"RenaultCaptur\"}, {\"speed\": 50.0, \"time\": 5.09, \"image\": \"RenaultCaptur_50.MP4\", \"vehicle\": \"RenaultCaptur\"}, {\"speed\": 52.0, \"time\": 5.53, \"image\": \"RenaultCaptur_52.MP4\", \"vehicle\": \"RenaultCaptur\"}, {\"speed\": 56.0, \"time\": 5.21, \"image\": \"RenaultCaptur_56.MP4\", \"vehicle\": \"RenaultCaptur\"}, {\"speed\": 58.0, \"time\": 5.32, \"image\": \"RenaultCaptur_58.MP4\", \"vehicle\": \"RenaultCaptur\"}, {\"speed\": 60.0, \"time\": 5.39, \"image\": \"RenaultCaptur_60.MP4\", \"vehicle\": \"RenaultCaptur\"}, {\"speed\": 63.0, \"time\": 5.42, \"image\": \"RenaultCaptur_63.MP4\", \"vehicle\": \"RenaultCaptur\"}, {\"speed\": 66.0, \"time\": 5.01, \"image\": \"RenaultCaptur_66.MP4\", \"vehicle\": \"RenaultCaptur\"}, {\"speed\": 68.0, \"time\": 5.15, \"image\": \"RenaultCaptur_68.MP4\", \"vehicle\": \"RenaultCaptur\"}, {\"speed\": 70.0, \"time\": 5.75, \"image\": \"RenaultCaptur_70.MP4\", \"vehicle\": \"RenaultCaptur\"}, {\"speed\": 72.0, \"time\": 5.08, \"image\": \"RenaultCaptur_72.MP4\", \"vehicle\": \"RenaultCaptur\"}, {\"speed\": 76.0, \"time\": 5.94, \"image\": \"RenaultCaptur_76.MP4\", \"vehicle\": \"RenaultCaptur\"}, {\"speed\": 78.0, \"time\": 5.32, \"image\": \"RenaultCaptur_78.MP4\", \"vehicle\": \"RenaultCaptur\"}, {\"speed\": 80.0, \"time\": 4.79, \"image\": \"RenaultCaptur_80.MP4\", \"vehicle\": \"RenaultCaptur\"}, {\"speed\": 83.0, \"time\": 5.59, \"image\": \"RenaultCaptur_83.MP4\", \"vehicle\": \"RenaultCaptur\"}, {\"speed\": 86.0, \"time\": 5.18, \"image\": \"RenaultCaptur_86.MP4\", \"vehicle\": \"RenaultCaptur\"}, {\"speed\": 88.0, \"time\": 5.24, \"image\": \"RenaultCaptur_88.MP4\", \"vehicle\": \"RenaultCaptur\"}, {\"speed\": 90.0, \"time\": 5.61, \"image\": \"RenaultCaptur_90.MP4\", \"vehicle\": \"RenaultCaptur\"}, {\"speed\": 92.0, \"time\": 5.64, \"image\": \"RenaultCaptur_92.MP4\", \"vehicle\": \"RenaultCaptur\"}, {\"speed\": 94.0, \"time\": 5.06, \"image\": \"RenaultCaptur_94.MP4\", \"vehicle\": \"RenaultCaptur\"}, {\"speed\": 97.0, \"time\": 6.02, \"image\": \"RenaultCaptur_97.MP4\", \"vehicle\": \"RenaultCaptur\"}, {\"speed\": 98.0, \"time\": 5.11, \"image\": \"RenaultCaptur_98.MP4\", \"vehicle\": \"RenaultCaptur\"}, {\"speed\": 101.0, \"time\": 6.17, \"image\": \"RenaultScenic_101.MP4\", \"vehicle\": \"RenaultScenic\"}, {\"speed\": 30.0, \"time\": 6.0, \"image\": \"RenaultScenic_30.MP4\", \"vehicle\": \"RenaultScenic\"}, {\"speed\": 35.0, \"time\": 6.82, \"image\": \"RenaultScenic_35.MP4\", \"vehicle\": \"RenaultScenic\"}, {\"speed\": 36.0, \"time\": 6.01, \"image\": \"RenaultScenic_36.MP4\", \"vehicle\": \"RenaultScenic\"}, {\"speed\": 38.0, \"time\": 6.03, \"image\": \"RenaultScenic_38.MP4\", \"vehicle\": \"RenaultScenic\"}, {\"speed\": 40.0, \"time\": 6.7, \"image\": \"RenaultScenic_40.MP4\", \"vehicle\": \"RenaultScenic\"}, {\"speed\": 42.0, \"time\": 5.83, \"image\": \"RenaultScenic_42.MP4\", \"vehicle\": \"RenaultScenic\"}, {\"speed\": 44.0, \"time\": 5.27, \"image\": \"RenaultScenic_44.MP4\", \"vehicle\": \"RenaultScenic\"}, {\"speed\": 46.0, \"time\": 6.75, \"image\": \"RenaultScenic_46.MP4\", \"vehicle\": \"RenaultScenic\"}, {\"speed\": 48.0, \"time\": 5.75, \"image\": \"RenaultScenic_48.MP4\", \"vehicle\": \"RenaultScenic\"}, {\"speed\": 50.0, \"time\": 7.25, \"image\": \"RenaultScenic_50.MP4\", \"vehicle\": \"RenaultScenic\"}, {\"speed\": 52.0, \"time\": 5.25, \"image\": \"RenaultScenic_52.MP4\", \"vehicle\": \"RenaultScenic\"}, {\"speed\": 54.0, \"time\": 5.46, \"image\": \"RenaultScenic_54.MP4\", \"vehicle\": \"RenaultScenic\"}, {\"speed\": 57.0, \"time\": 6.6, \"image\": \"RenaultScenic_57.MP4\", \"vehicle\": \"RenaultScenic\"}, {\"speed\": 60.0, \"time\": 6.12, \"image\": \"RenaultScenic_60.MP4\", \"vehicle\": \"RenaultScenic\"}, {\"speed\": 62.0, \"time\": 6.05, \"image\": \"RenaultScenic_62.MP4\", \"vehicle\": \"RenaultScenic\"}, {\"speed\": 64.0, \"time\": 5.76, \"image\": \"RenaultScenic_64.MP4\", \"vehicle\": \"RenaultScenic\"}, {\"speed\": 66.0, \"time\": 5.35, \"image\": \"RenaultScenic_66.MP4\", \"vehicle\": \"RenaultScenic\"}, {\"speed\": 68.0, \"time\": 6.57, \"image\": \"RenaultScenic_68.MP4\", \"vehicle\": \"RenaultScenic\"}, {\"speed\": 70.0, \"time\": 5.85, \"image\": \"RenaultScenic_70.MP4\", \"vehicle\": \"RenaultScenic\"}, {\"speed\": 71.0, \"time\": 5.99, \"image\": \"RenaultScenic_71.MP4\", \"vehicle\": \"RenaultScenic\"}, {\"speed\": 72.0, \"time\": 5.23, \"image\": \"RenaultScenic_72.MP4\", \"vehicle\": \"RenaultScenic\"}, {\"speed\": 74.0, \"time\": 5.7, \"image\": \"RenaultScenic_74.MP4\", \"vehicle\": \"RenaultScenic\"}, {\"speed\": 75.0, \"time\": 5.45, \"image\": \"RenaultScenic_75.MP4\", \"vehicle\": \"RenaultScenic\"}, {\"speed\": 77.0, \"time\": 7.32, \"image\": \"RenaultScenic_77.MP4\", \"vehicle\": \"RenaultScenic\"}, {\"speed\": 80.0, \"time\": 7.01, \"image\": \"RenaultScenic_80.MP4\", \"vehicle\": \"RenaultScenic\"}, {\"speed\": 82.0, \"time\": 6.06, \"image\": \"RenaultScenic_82.MP4\", \"vehicle\": \"RenaultScenic\"}, {\"speed\": 84.0, \"time\": 5.39, \"image\": \"RenaultScenic_84.MP4\", \"vehicle\": \"RenaultScenic\"}, {\"speed\": 86.0, \"time\": 5.65, \"image\": \"RenaultScenic_86.MP4\", \"vehicle\": \"RenaultScenic\"}, {\"speed\": 87.0, \"time\": 6.0, \"image\": \"RenaultScenic_87.MP4\", \"vehicle\": \"RenaultScenic\"}, {\"speed\": 90.0, \"time\": 5.09, \"image\": \"RenaultScenic_90.MP4\", \"vehicle\": \"RenaultScenic\"}, {\"speed\": 91.0, \"time\": 6.21, \"image\": \"RenaultScenic_91.MP4\", \"vehicle\": \"RenaultScenic\"}, {\"speed\": 94.0, \"time\": 6.18, \"image\": \"RenaultScenic_94.MP4\", \"vehicle\": \"RenaultScenic\"}, {\"speed\": 95.0, \"time\": 6.23, \"image\": \"RenaultScenic_95.MP4\", \"vehicle\": \"RenaultScenic\"}, {\"speed\": 98.0, \"time\": 5.38, \"image\": \"RenaultScenic_98.MP4\", \"vehicle\": \"RenaultScenic\"}, {\"speed\": 100.0, \"time\": 6.01, \"image\": \"VWPassat_100.MP4\", \"vehicle\": \"VWPassat\"}, {\"speed\": 30.0, \"time\": 6.46, \"image\": \"VWPassat_30.MP4\", \"vehicle\": \"VWPassat\"}, {\"speed\": 35.0, \"time\": 5.92, \"image\": \"VWPassat_35.MP4\", \"vehicle\": \"VWPassat\"}, {\"speed\": 39.0, \"time\": 5.27, \"image\": \"VWPassat_39.MP4\", \"vehicle\": \"VWPassat\"}, {\"speed\": 40.0, \"time\": 6.53, \"image\": \"VWPassat_40.MP4\", \"vehicle\": \"VWPassat\"}, {\"speed\": 42.0, \"time\": 6.72, \"image\": \"VWPassat_42.MP4\", \"vehicle\": \"VWPassat\"}, {\"speed\": 45.0, \"time\": 6.35, \"image\": \"VWPassat_45.MP4\", \"vehicle\": \"VWPassat\"}, {\"speed\": 47.0, \"time\": 5.25, \"image\": \"VWPassat_47.MP4\", \"vehicle\": \"VWPassat\"}, {\"speed\": 49.0, \"time\": 5.27, \"image\": \"VWPassat_49.MP4\", \"vehicle\": \"VWPassat\"}, {\"speed\": 50.0, \"time\": 6.0, \"image\": \"VWPassat_50.MP4\", \"vehicle\": \"VWPassat\"}, {\"speed\": 52.0, \"time\": 6.02, \"image\": \"VWPassat_52.MP4\", \"vehicle\": \"VWPassat\"}, {\"speed\": 54.0, \"time\": 5.54, \"image\": \"VWPassat_54.MP4\", \"vehicle\": \"VWPassat\"}, {\"speed\": 55.0, \"time\": 6.02, \"image\": \"VWPassat_55.MP4\", \"vehicle\": \"VWPassat\"}, {\"speed\": 57.0, \"time\": 4.98, \"image\": \"VWPassat_57.MP4\", \"vehicle\": \"VWPassat\"}, {\"speed\": 60.0, \"time\": 5.98, \"image\": \"VWPassat_60.MP4\", \"vehicle\": \"VWPassat\"}, {\"speed\": 61.0, \"time\": 6.01, \"image\": \"VWPassat_61.MP4\", \"vehicle\": \"VWPassat\"}, {\"speed\": 64.0, \"time\": 5.67, \"image\": \"VWPassat_64.MP4\", \"vehicle\": \"VWPassat\"}, {\"speed\": 65.0, \"time\": 5.82, \"image\": \"VWPassat_65.MP4\", \"vehicle\": \"VWPassat\"}, {\"speed\": 67.0, \"time\": 5.08, \"image\": \"VWPassat_67.MP4\", \"vehicle\": \"VWPassat\"}, {\"speed\": 70.0, \"time\": 6.0, \"image\": \"VWPassat_70.MP4\", \"vehicle\": \"VWPassat\"}, {\"speed\": 71.0, \"time\": 5.51, \"image\": \"VWPassat_71.MP4\", \"vehicle\": \"VWPassat\"}, {\"speed\": 72.0, \"time\": 5.42, \"image\": \"VWPassat_72.MP4\", \"vehicle\": \"VWPassat\"}, {\"speed\": 73.0, \"time\": 5.32, \"image\": \"VWPassat_73.MP4\", \"vehicle\": \"VWPassat\"}, {\"speed\": 75.0, \"time\": 6.02, \"image\": \"VWPassat_75.MP4\", \"vehicle\": \"VWPassat\"}, {\"speed\": 78.0, \"time\": 5.85, \"image\": \"VWPassat_78.MP4\", \"vehicle\": \"VWPassat\"}, {\"speed\": 80.0, \"time\": 5.99, \"image\": \"VWPassat_80.MP4\", \"vehicle\": \"VWPassat\"}, {\"speed\": 81.0, \"time\": 5.58, \"image\": \"VWPassat_81.MP4\", \"vehicle\": \"VWPassat\"}, {\"speed\": 82.0, \"time\": 5.62, \"image\": \"VWPassat_82.MP4\", \"vehicle\": \"VWPassat\"}, {\"speed\": 85.0, \"time\": 6.23, \"image\": \"VWPassat_85.MP4\", \"vehicle\": \"VWPassat\"}, {\"speed\": 88.0, \"time\": 7.31, \"image\": \"VWPassat_88.MP4\", \"vehicle\": \"VWPassat\"}, {\"speed\": 90.0, \"time\": 5.2, \"image\": \"VWPassat_90.MP4\", \"vehicle\": \"VWPassat\"}, {\"speed\": 91.0, \"time\": 5.45, \"image\": \"VWPassat_91.MP4\", \"vehicle\": \"VWPassat\"}, {\"speed\": 94.0, \"time\": 6.0, \"image\": \"VWPassat_94.MP4\", \"vehicle\": \"VWPassat\"}, {\"speed\": 96.0, \"time\": 5.72, \"image\": \"VWPassat_96.MP4\", \"vehicle\": \"VWPassat\"}, {\"speed\": 98.0, \"time\": 5.99, \"image\": \"VWPassat_98.MP4\", \"vehicle\": \"VWPassat\"}]}}, {\"mode\": \"vega-lite\"});\n",
       "</script>"
      ],
      "text/plain": [
       "alt.Chart(...)"
      ]
     },
     "execution_count": 11,
     "metadata": {},
     "output_type": "execute_result"
    }
   ],
   "source": [
    "alt.Chart(df_combined).transform_density(\n",
    "    'speed',\n",
    "    as_=['speed', 'density'],\n",
    "    groupby=['vehicle']\n",
    ").mark_area(orient='horizontal').encode(\n",
    "    y='speed:Q',\n",
    "    color='vehicle:N',\n",
    "    x=alt.X(\n",
    "        'density:Q',\n",
    "        stack='center',\n",
    "        impute=None,\n",
    "        title=None,\n",
    "        axis=alt.Axis(labels=False, values=[0], grid=False, ticks=True),\n",
    "    ),\n",
    "    column=alt.Column(\n",
    "        'vehicle:N',\n",
    "        header=alt.Header(\n",
    "            titleOrient='bottom',\n",
    "            labelOrient='bottom',\n",
    "            labelPadding=0,\n",
    "        )\n",
    "    ),\n",
    "    tooltip=['speed:Q', 'density:Q']\n",
    ").properties(\n",
    "    width=100,\n",
    "    height=300,\n",
    "    title='Grafico de densidad de velocidad por tiempo'\n",
    ").configure_facet(\n",
    "    spacing=0\n",
    ").configure_view(\n",
    "    stroke=None\n",
    ")"
   ]
  },
  {
   "cell_type": "code",
   "execution_count": 12,
   "metadata": {
    "collapsed": false,
    "jupyter": {
     "outputs_hidden": false
    },
    "pycharm": {
     "name": "#%%\n"
    }
   },
   "outputs": [
    {
     "data": {
      "text/html": [
       "\n",
       "<style>\n",
       "  #altair-viz-d049f4513bb8476a9a920b68cd4428e5.vega-embed {\n",
       "    width: 100%;\n",
       "    display: flex;\n",
       "  }\n",
       "\n",
       "  #altair-viz-d049f4513bb8476a9a920b68cd4428e5.vega-embed details,\n",
       "  #altair-viz-d049f4513bb8476a9a920b68cd4428e5.vega-embed details summary {\n",
       "    position: relative;\n",
       "  }\n",
       "</style>\n",
       "<div id=\"altair-viz-d049f4513bb8476a9a920b68cd4428e5\"></div>\n",
       "<script type=\"text/javascript\">\n",
       "  var VEGA_DEBUG = (typeof VEGA_DEBUG == \"undefined\") ? {} : VEGA_DEBUG;\n",
       "  (function(spec, embedOpt){\n",
       "    let outputDiv = document.currentScript.previousElementSibling;\n",
       "    if (outputDiv.id !== \"altair-viz-d049f4513bb8476a9a920b68cd4428e5\") {\n",
       "      outputDiv = document.getElementById(\"altair-viz-d049f4513bb8476a9a920b68cd4428e5\");\n",
       "    }\n",
       "    const paths = {\n",
       "      \"vega\": \"https://cdn.jsdelivr.net/npm/vega@5?noext\",\n",
       "      \"vega-lib\": \"https://cdn.jsdelivr.net/npm/vega-lib?noext\",\n",
       "      \"vega-lite\": \"https://cdn.jsdelivr.net/npm/vega-lite@5.8.0?noext\",\n",
       "      \"vega-embed\": \"https://cdn.jsdelivr.net/npm/vega-embed@6?noext\",\n",
       "    };\n",
       "\n",
       "    function maybeLoadScript(lib, version) {\n",
       "      var key = `${lib.replace(\"-\", \"\")}_version`;\n",
       "      return (VEGA_DEBUG[key] == version) ?\n",
       "        Promise.resolve(paths[lib]) :\n",
       "        new Promise(function(resolve, reject) {\n",
       "          var s = document.createElement('script');\n",
       "          document.getElementsByTagName(\"head\")[0].appendChild(s);\n",
       "          s.async = true;\n",
       "          s.onload = () => {\n",
       "            VEGA_DEBUG[key] = version;\n",
       "            return resolve(paths[lib]);\n",
       "          };\n",
       "          s.onerror = () => reject(`Error loading script: ${paths[lib]}`);\n",
       "          s.src = paths[lib];\n",
       "        });\n",
       "    }\n",
       "\n",
       "    function showError(err) {\n",
       "      outputDiv.innerHTML = `<div class=\"error\" style=\"color:red;\">${err}</div>`;\n",
       "      throw err;\n",
       "    }\n",
       "\n",
       "    function displayChart(vegaEmbed) {\n",
       "      vegaEmbed(outputDiv, spec, embedOpt)\n",
       "        .catch(err => showError(`Javascript Error: ${err.message}<br>This usually means there's a typo in your chart specification. See the javascript console for the full traceback.`));\n",
       "    }\n",
       "\n",
       "    if(typeof define === \"function\" && define.amd) {\n",
       "      requirejs.config({paths});\n",
       "      require([\"vega-embed\"], displayChart, err => showError(`Error loading script: ${err.message}`));\n",
       "    } else {\n",
       "      maybeLoadScript(\"vega\", \"5\")\n",
       "        .then(() => maybeLoadScript(\"vega-lite\", \"5.8.0\"))\n",
       "        .then(() => maybeLoadScript(\"vega-embed\", \"6\"))\n",
       "        .catch(showError)\n",
       "        .then(() => displayChart(vegaEmbed));\n",
       "    }\n",
       "  })({\"config\": {\"view\": {\"continuousWidth\": 300, \"continuousHeight\": 300}}, \"data\": {\"name\": \"data-b66061220c5d20e33f28ec77609aa1ff\"}, \"mark\": {\"type\": \"bar\"}, \"encoding\": {\"color\": {\"field\": \"vehicle\", \"type\": \"nominal\"}, \"tooltip\": [{\"field\": \"vehicle\", \"type\": \"nominal\"}, {\"field\": \"speed\", \"type\": \"quantitative\"}], \"x\": {\"field\": \"vehicle\", \"title\": \"Tipo de Veh\\u00edculo\", \"type\": \"nominal\"}, \"y\": {\"field\": \"speed\", \"title\": \"Velocidad Media\", \"type\": \"quantitative\"}}, \"title\": \"Comparaci\\u00f3n de la Velocidad Media de Diferentes Tipos de Veh\\u00edculos\", \"$schema\": \"https://vega.github.io/schema/vega-lite/v5.8.0.json\", \"datasets\": {\"data-b66061220c5d20e33f28ec77609aa1ff\": [{\"vehicle\": \"CitroenC4Picasso\", \"speed\": 68.04347826086956}, {\"vehicle\": \"KiaSportage\", \"speed\": 68.75757575757575}, {\"vehicle\": \"Mazda3\", \"speed\": 68.53125}, {\"vehicle\": \"MercedesAMG550\", \"speed\": 66.33333333333333}, {\"vehicle\": \"MercedesGLA\", \"speed\": 67.58823529411765}, {\"vehicle\": \"NissanQashqai\", \"speed\": 68.48275862068965}, {\"vehicle\": \"OpelInsignia\", \"speed\": 66.66666666666667}, {\"vehicle\": \"Peugeot208\", \"speed\": 63.55172413793103}, {\"vehicle\": \"Peugeot3008\", \"speed\": 69.38709677419355}, {\"vehicle\": \"Peugeot307\", \"speed\": 64.6896551724138}, {\"vehicle\": \"RenaultCaptur\", \"speed\": 66.12121212121212}, {\"vehicle\": \"RenaultScenic\", \"speed\": 66.25714285714285}, {\"vehicle\": \"VWPassat\", \"speed\": 66.74285714285715}]}}, {\"mode\": \"vega-lite\"});\n",
       "</script>"
      ],
      "text/plain": [
       "alt.Chart(...)"
      ]
     },
     "execution_count": 12,
     "metadata": {},
     "output_type": "execute_result"
    }
   ],
   "source": [
    "alt.Chart(df_combined.groupby('vehicle')['speed'].mean().reset_index()).mark_bar().encode(\n",
    "    x=alt.X('vehicle:N', title='Tipo de Vehículo'),\n",
    "    y=alt.Y('speed:Q', title='Velocidad Media'),\n",
    "    color='vehicle:N',\n",
    "    tooltip=['vehicle', 'speed']\n",
    ").properties(\n",
    "    title='Comparación de la Velocidad Media de Diferentes Tipos de Vehículos'\n",
    ")"
   ]
  },
  {
   "cell_type": "code",
   "execution_count": 13,
   "metadata": {
    "collapsed": false,
    "jupyter": {
     "outputs_hidden": false
    },
    "pycharm": {
     "name": "#%%\n"
    }
   },
   "outputs": [
    {
     "data": {
      "text/html": [
       "\n",
       "<style>\n",
       "  #altair-viz-3043a2bd85c042c9aa835f379d1d4c99.vega-embed {\n",
       "    width: 100%;\n",
       "    display: flex;\n",
       "  }\n",
       "\n",
       "  #altair-viz-3043a2bd85c042c9aa835f379d1d4c99.vega-embed details,\n",
       "  #altair-viz-3043a2bd85c042c9aa835f379d1d4c99.vega-embed details summary {\n",
       "    position: relative;\n",
       "  }\n",
       "</style>\n",
       "<div id=\"altair-viz-3043a2bd85c042c9aa835f379d1d4c99\"></div>\n",
       "<script type=\"text/javascript\">\n",
       "  var VEGA_DEBUG = (typeof VEGA_DEBUG == \"undefined\") ? {} : VEGA_DEBUG;\n",
       "  (function(spec, embedOpt){\n",
       "    let outputDiv = document.currentScript.previousElementSibling;\n",
       "    if (outputDiv.id !== \"altair-viz-3043a2bd85c042c9aa835f379d1d4c99\") {\n",
       "      outputDiv = document.getElementById(\"altair-viz-3043a2bd85c042c9aa835f379d1d4c99\");\n",
       "    }\n",
       "    const paths = {\n",
       "      \"vega\": \"https://cdn.jsdelivr.net/npm/vega@5?noext\",\n",
       "      \"vega-lib\": \"https://cdn.jsdelivr.net/npm/vega-lib?noext\",\n",
       "      \"vega-lite\": \"https://cdn.jsdelivr.net/npm/vega-lite@5.8.0?noext\",\n",
       "      \"vega-embed\": \"https://cdn.jsdelivr.net/npm/vega-embed@6?noext\",\n",
       "    };\n",
       "\n",
       "    function maybeLoadScript(lib, version) {\n",
       "      var key = `${lib.replace(\"-\", \"\")}_version`;\n",
       "      return (VEGA_DEBUG[key] == version) ?\n",
       "        Promise.resolve(paths[lib]) :\n",
       "        new Promise(function(resolve, reject) {\n",
       "          var s = document.createElement('script');\n",
       "          document.getElementsByTagName(\"head\")[0].appendChild(s);\n",
       "          s.async = true;\n",
       "          s.onload = () => {\n",
       "            VEGA_DEBUG[key] = version;\n",
       "            return resolve(paths[lib]);\n",
       "          };\n",
       "          s.onerror = () => reject(`Error loading script: ${paths[lib]}`);\n",
       "          s.src = paths[lib];\n",
       "        });\n",
       "    }\n",
       "\n",
       "    function showError(err) {\n",
       "      outputDiv.innerHTML = `<div class=\"error\" style=\"color:red;\">${err}</div>`;\n",
       "      throw err;\n",
       "    }\n",
       "\n",
       "    function displayChart(vegaEmbed) {\n",
       "      vegaEmbed(outputDiv, spec, embedOpt)\n",
       "        .catch(err => showError(`Javascript Error: ${err.message}<br>This usually means there's a typo in your chart specification. See the javascript console for the full traceback.`));\n",
       "    }\n",
       "\n",
       "    if(typeof define === \"function\" && define.amd) {\n",
       "      requirejs.config({paths});\n",
       "      require([\"vega-embed\"], displayChart, err => showError(`Error loading script: ${err.message}`));\n",
       "    } else {\n",
       "      maybeLoadScript(\"vega\", \"5\")\n",
       "        .then(() => maybeLoadScript(\"vega-lite\", \"5.8.0\"))\n",
       "        .then(() => maybeLoadScript(\"vega-embed\", \"6\"))\n",
       "        .catch(showError)\n",
       "        .then(() => displayChart(vegaEmbed));\n",
       "    }\n",
       "  })({\"config\": {\"view\": {\"continuousWidth\": 300, \"continuousHeight\": 300}}, \"data\": {\"name\": \"data-5d3be3fd43ab46cca79cf2374d1a4771\"}, \"mark\": {\"type\": \"boxplot\"}, \"encoding\": {\"color\": {\"field\": \"vehicle\", \"type\": \"nominal\"}, \"tooltip\": [{\"field\": \"vehicle\", \"type\": \"nominal\"}, {\"field\": \"speed\", \"type\": \"quantitative\"}], \"x\": {\"field\": \"vehicle\", \"title\": \"Tipo de Veh\\u00edculo\", \"type\": \"nominal\"}, \"y\": {\"field\": \"speed\", \"title\": \"Velocidad\", \"type\": \"quantitative\"}}, \"title\": \"Distribuci\\u00f3n de Velocidades por Tipo de Veh\\u00edculo\", \"$schema\": \"https://vega.github.io/schema/vega-lite/v5.8.0.json\", \"datasets\": {\"data-5d3be3fd43ab46cca79cf2374d1a4771\": [{\"speed\": 101.0, \"time\": 7.49, \"image\": \"CitroenC4Picasso_101.MP4\", \"vehicle\": \"CitroenC4Picasso\"}, {\"speed\": 35.0, \"time\": 6.25, \"image\": \"CitroenC4Picasso_35.MP4\", \"vehicle\": \"CitroenC4Picasso\"}, {\"speed\": 38.0, \"time\": 5.82, \"image\": \"CitroenC4Picasso_38.MP4\", \"vehicle\": \"CitroenC4Picasso\"}, {\"speed\": 41.0, \"time\": 6.16, \"image\": \"CitroenC4Picasso_41.MP4\", \"vehicle\": \"CitroenC4Picasso\"}, {\"speed\": 44.0, \"time\": 5.44, \"image\": \"CitroenC4Picasso_44.MP4\", \"vehicle\": \"CitroenC4Picasso\"}, {\"speed\": 48.0, \"time\": 6.03, \"image\": \"CitroenC4Picasso_48.MP4\", \"vehicle\": \"CitroenC4Picasso\"}, {\"speed\": 51.0, \"time\": 5.85, \"image\": \"CitroenC4Picasso_51.MP4\", \"vehicle\": \"CitroenC4Picasso\"}, {\"speed\": 54.0, \"time\": 5.65, \"image\": \"CitroenC4Picasso_54.MP4\", \"vehicle\": \"CitroenC4Picasso\"}, {\"speed\": 57.0, \"time\": 5.95, \"image\": \"CitroenC4Picasso_57.MP4\", \"vehicle\": \"CitroenC4Picasso\"}, {\"speed\": 59.0, \"time\": 5.85, \"image\": \"CitroenC4Picasso_59.MP4\", \"vehicle\": \"CitroenC4Picasso\"}, {\"speed\": 63.0, \"time\": 6.06, \"image\": \"CitroenC4Picasso_63.MP4\", \"vehicle\": \"CitroenC4Picasso\"}, {\"speed\": 65.0, \"time\": 5.66, \"image\": \"CitroenC4Picasso_65.MP4\", \"vehicle\": \"CitroenC4Picasso\"}, {\"speed\": 68.0, \"time\": 6.16, \"image\": \"CitroenC4Picasso_68.MP4\", \"vehicle\": \"CitroenC4Picasso\"}, {\"speed\": 72.0, \"time\": 5.75, \"image\": \"CitroenC4Picasso_72.MP4\", \"vehicle\": \"CitroenC4Picasso\"}, {\"speed\": 74.0, \"time\": 6.26, \"image\": \"CitroenC4Picasso_74.MP4\", \"vehicle\": \"CitroenC4Picasso\"}, {\"speed\": 78.0, \"time\": 6.14, \"image\": \"CitroenC4Picasso_78.MP4\", \"vehicle\": \"CitroenC4Picasso\"}, {\"speed\": 80.0, \"time\": 5.41, \"image\": \"CitroenC4Picasso_80.MP4\", \"vehicle\": \"CitroenC4Picasso\"}, {\"speed\": 83.0, \"time\": 6.63, \"image\": \"CitroenC4Picasso_83.MP4\", \"vehicle\": \"CitroenC4Picasso\"}, {\"speed\": 85.0, \"time\": 5.67, \"image\": \"CitroenC4Picasso_85.MP4\", \"vehicle\": \"CitroenC4Picasso\"}, {\"speed\": 87.0, \"time\": 6.19, \"image\": \"CitroenC4Picasso_87.MP4\", \"vehicle\": \"CitroenC4Picasso\"}, {\"speed\": 92.0, \"time\": 7.62, \"image\": \"CitroenC4Picasso_92.MP4\", \"vehicle\": \"CitroenC4Picasso\"}, {\"speed\": 94.0, \"time\": 6.79, \"image\": \"CitroenC4Picasso_94.MP4\", \"vehicle\": \"CitroenC4Picasso\"}, {\"speed\": 96.0, \"time\": 5.79, \"image\": \"CitroenC4Picasso_96.MP4\", \"vehicle\": \"CitroenC4Picasso\"}, {\"speed\": 100.0, \"time\": 4.98, \"image\": \"KiaSportage_100.MP4\", \"vehicle\": \"KiaSportage\"}, {\"speed\": 103.0, \"time\": 4.91, \"image\": \"KiaSportage_103.MP4\", \"vehicle\": \"KiaSportage\"}, {\"speed\": 105.0, \"time\": 4.98, \"image\": \"KiaSportage_105.MP4\", \"vehicle\": \"KiaSportage\"}, {\"speed\": 31.0, \"time\": 4.94, \"image\": \"KiaSportage_31.MP4\", \"vehicle\": \"KiaSportage\"}, {\"speed\": 33.0, \"time\": 4.91, \"image\": \"KiaSportage_33.MP4\", \"vehicle\": \"KiaSportage\"}, {\"speed\": 35.0, \"time\": 4.93, \"image\": \"KiaSportage_35.MP4\", \"vehicle\": \"KiaSportage\"}, {\"speed\": 38.0, \"time\": 5.05, \"image\": \"KiaSportage_38.MP4\", \"vehicle\": \"KiaSportage\"}, {\"speed\": 41.0, \"time\": 4.93, \"image\": \"KiaSportage_41.MP4\", \"vehicle\": \"KiaSportage\"}, {\"speed\": 44.0, \"time\": 5.02, \"image\": \"KiaSportage_44.MP4\", \"vehicle\": \"KiaSportage\"}, {\"speed\": 46.0, \"time\": 4.94, \"image\": \"KiaSportage_46.MP4\", \"vehicle\": \"KiaSportage\"}, {\"speed\": 48.0, \"time\": 4.96, \"image\": \"KiaSportage_48.MP4\", \"vehicle\": \"KiaSportage\"}, {\"speed\": 51.0, \"time\": 4.92, \"image\": \"KiaSportage_51.MP4\", \"vehicle\": \"KiaSportage\"}, {\"speed\": 53.0, \"time\": 4.97, \"image\": \"KiaSportage_53.MP4\", \"vehicle\": \"KiaSportage\"}, {\"speed\": 55.0, \"time\": 4.95, \"image\": \"KiaSportage_55.MP4\", \"vehicle\": \"KiaSportage\"}, {\"speed\": 58.0, \"time\": 4.92, \"image\": \"KiaSportage_58.MP4\", \"vehicle\": \"KiaSportage\"}, {\"speed\": 61.0, \"time\": 4.96, \"image\": \"KiaSportage_61.MP4\", \"vehicle\": \"KiaSportage\"}, {\"speed\": 63.0, \"time\": 5.0, \"image\": \"KiaSportage_63.MP4\", \"vehicle\": \"KiaSportage\"}, {\"speed\": 65.0, \"time\": 4.93, \"image\": \"KiaSportage_65.MP4\", \"vehicle\": \"KiaSportage\"}, {\"speed\": 68.0, \"time\": 4.96, \"image\": \"KiaSportage_68.MP4\", \"vehicle\": \"KiaSportage\"}, {\"speed\": 69.0, \"time\": 4.94, \"image\": \"KiaSportage_69.MP4\", \"vehicle\": \"KiaSportage\"}, {\"speed\": 72.0, \"time\": 4.95, \"image\": \"KiaSportage_72.MP4\", \"vehicle\": \"KiaSportage\"}, {\"speed\": 74.0, \"time\": 4.94, \"image\": \"KiaSportage_74.MP4\", \"vehicle\": \"KiaSportage\"}, {\"speed\": 77.0, \"time\": 5.02, \"image\": \"KiaSportage_77.MP4\", \"vehicle\": \"KiaSportage\"}, {\"speed\": 78.0, \"time\": 4.95, \"image\": \"KiaSportage_78.MP4\", \"vehicle\": \"KiaSportage\"}, {\"speed\": 80.0, \"time\": 4.94, \"image\": \"KiaSportage_80.MP4\", \"vehicle\": \"KiaSportage\"}, {\"speed\": 83.0, \"time\": 4.95, \"image\": \"KiaSportage_83.MP4\", \"vehicle\": \"KiaSportage\"}, {\"speed\": 85.0, \"time\": 4.95, \"image\": \"KiaSportage_85.MP4\", \"vehicle\": \"KiaSportage\"}, {\"speed\": 86.0, \"time\": 4.92, \"image\": \"KiaSportage_86.MP4\", \"vehicle\": \"KiaSportage\"}, {\"speed\": 89.0, \"time\": 4.98, \"image\": \"KiaSportage_89.MP4\", \"vehicle\": \"KiaSportage\"}, {\"speed\": 91.0, \"time\": 4.95, \"image\": \"KiaSportage_91.MP4\", \"vehicle\": \"KiaSportage\"}, {\"speed\": 93.0, \"time\": 4.98, \"image\": \"KiaSportage_93.MP4\", \"vehicle\": \"KiaSportage\"}, {\"speed\": 96.0, \"time\": 4.91, \"image\": \"KiaSportage_96.MP4\", \"vehicle\": \"KiaSportage\"}, {\"speed\": 98.0, \"time\": 4.92, \"image\": \"KiaSportage_98.MP4\", \"vehicle\": \"KiaSportage\"}, {\"speed\": 101.0, \"time\": 5.04, \"image\": \"Mazda3_101.MP4\", \"vehicle\": \"Mazda3\"}, {\"speed\": 103.0, \"time\": 5.07, \"image\": \"Mazda3_103.MP4\", \"vehicle\": \"Mazda3\"}, {\"speed\": 105.0, \"time\": 4.99, \"image\": \"Mazda3_105.MP4\", \"vehicle\": \"Mazda3\"}, {\"speed\": 30.0, \"time\": 5.23, \"image\": \"Mazda3_30.MP4\", \"vehicle\": \"Mazda3\"}, {\"speed\": 33.0, \"time\": 5.08, \"image\": \"Mazda3_33.MP4\", \"vehicle\": \"Mazda3\"}, {\"speed\": 35.0, \"time\": 5.12, \"image\": \"Mazda3_35.MP4\", \"vehicle\": \"Mazda3\"}, {\"speed\": 38.0, \"time\": 5.15, \"image\": \"Mazda3_38.MP4\", \"vehicle\": \"Mazda3\"}, {\"speed\": 40.0, \"time\": 5.02, \"image\": \"Mazda3_40.MP4\", \"vehicle\": \"Mazda3\"}, {\"speed\": 43.0, \"time\": 5.02, \"image\": \"Mazda3_43.MP4\", \"vehicle\": \"Mazda3\"}, {\"speed\": 45.0, \"time\": 5.31, \"image\": \"Mazda3_45.MP4\", \"vehicle\": \"Mazda3\"}, {\"speed\": 47.0, \"time\": 5.42, \"image\": \"Mazda3_47.MP4\", \"vehicle\": \"Mazda3\"}, {\"speed\": 50.0, \"time\": 5.62, \"image\": \"Mazda3_50.MP4\", \"vehicle\": \"Mazda3\"}, {\"speed\": 52.0, \"time\": 5.15, \"image\": \"Mazda3_52.MP4\", \"vehicle\": \"Mazda3\"}, {\"speed\": 55.0, \"time\": 5.68, \"image\": \"Mazda3_55.MP4\", \"vehicle\": \"Mazda3\"}, {\"speed\": 57.0, \"time\": 5.08, \"image\": \"Mazda3_57.MP4\", \"vehicle\": \"Mazda3\"}, {\"speed\": 60.0, \"time\": 5.09, \"image\": \"Mazda3_60.MP4\", \"vehicle\": \"Mazda3\"}, {\"speed\": 62.0, \"time\": 5.25, \"image\": \"Mazda3_62.MP4\", \"vehicle\": \"Mazda3\"}, {\"speed\": 64.0, \"time\": 5.02, \"image\": \"Mazda3_64.MP4\", \"vehicle\": \"Mazda3\"}, {\"speed\": 67.0, \"time\": 5.65, \"image\": \"Mazda3_67.MP4\", \"vehicle\": \"Mazda3\"}, {\"speed\": 70.0, \"time\": 5.05, \"image\": \"Mazda3_70.MP4\", \"vehicle\": \"Mazda3\"}, {\"speed\": 72.0, \"time\": 5.16, \"image\": \"Mazda3_72.MP4\", \"vehicle\": \"Mazda3\"}, {\"speed\": 75.0, \"time\": 5.02, \"image\": \"Mazda3_75.MP4\", \"vehicle\": \"Mazda3\"}, {\"speed\": 79.0, \"time\": 5.05, \"image\": \"Mazda3_79.MP4\", \"vehicle\": \"Mazda3\"}, {\"speed\": 81.0, \"time\": 5.22, \"image\": \"Mazda3_81.MP4\", \"vehicle\": \"Mazda3\"}, {\"speed\": 84.0, \"time\": 5.08, \"image\": \"Mazda3_84.MP4\", \"vehicle\": \"Mazda3\"}, {\"speed\": 86.0, \"time\": 5.19, \"image\": \"Mazda3_86.MP4\", \"vehicle\": \"Mazda3\"}, {\"speed\": 88.0, \"time\": 5.09, \"image\": \"Mazda3_88.MP4\", \"vehicle\": \"Mazda3\"}, {\"speed\": 90.0, \"time\": 5.11, \"image\": \"Mazda3_90.MP4\", \"vehicle\": \"Mazda3\"}, {\"speed\": 92.0, \"time\": 5.22, \"image\": \"Mazda3_92.MP4\", \"vehicle\": \"Mazda3\"}, {\"speed\": 94.0, \"time\": 5.04, \"image\": \"Mazda3_94.MP4\", \"vehicle\": \"Mazda3\"}, {\"speed\": 96.0, \"time\": 5.02, \"image\": \"Mazda3_96.MP4\", \"vehicle\": \"Mazda3\"}, {\"speed\": 99.0, \"time\": 4.98, \"image\": \"Mazda3_99.MP4\", \"vehicle\": \"Mazda3\"}, {\"speed\": 100.0, \"time\": 4.94, \"image\": \"MercedesAMG550_100.MP4\", \"vehicle\": \"MercedesAMG550\"}, {\"speed\": 105.0, \"time\": 4.45, \"image\": \"MercedesAMG550_105.MP4\", \"vehicle\": \"MercedesAMG550\"}, {\"speed\": 30.0, \"time\": 5.07, \"image\": \"MercedesAMG550_30.MP4\", \"vehicle\": \"MercedesAMG550\"}, {\"speed\": 33.0, \"time\": 5.68, \"image\": \"MercedesAMG550_33.MP4\", \"vehicle\": \"MercedesAMG550\"}, {\"speed\": 35.0, \"time\": 5.99, \"image\": \"MercedesAMG550_35.MP4\", \"vehicle\": \"MercedesAMG550\"}, {\"speed\": 38.0, \"time\": 5.88, \"image\": \"MercedesAMG550_38.MP4\", \"vehicle\": \"MercedesAMG550\"}, {\"speed\": 40.0, \"time\": 5.13, \"image\": \"MercedesAMG550_40.MP4\", \"vehicle\": \"MercedesAMG550\"}, {\"speed\": 42.0, \"time\": 6.28, \"image\": \"MercedesAMG550_42.MP4\", \"vehicle\": \"MercedesAMG550\"}, {\"speed\": 45.0, \"time\": 5.06, \"image\": \"MercedesAMG550_45.MP4\", \"vehicle\": \"MercedesAMG550\"}, {\"speed\": 47.0, \"time\": 5.67, \"image\": \"MercedesAMG550_47.MP4\", \"vehicle\": \"MercedesAMG550\"}, {\"speed\": 50.0, \"time\": 5.19, \"image\": \"MercedesAMG550_50.MP4\", \"vehicle\": \"MercedesAMG550\"}, {\"speed\": 52.0, \"time\": 5.89, \"image\": \"MercedesAMG550_52.MP4\", \"vehicle\": \"MercedesAMG550\"}, {\"speed\": 55.0, \"time\": 5.07, \"image\": \"MercedesAMG550_55.MP4\", \"vehicle\": \"MercedesAMG550\"}, {\"speed\": 58.0, \"time\": 5.65, \"image\": \"MercedesAMG550_58.MP4\", \"vehicle\": \"MercedesAMG550\"}, {\"speed\": 60.0, \"time\": 5.25, \"image\": \"MercedesAMG550_60.MP4\", \"vehicle\": \"MercedesAMG550\"}, {\"speed\": 62.0, \"time\": 5.38, \"image\": \"MercedesAMG550_62.MP4\", \"vehicle\": \"MercedesAMG550\"}, {\"speed\": 65.0, \"time\": 7.04, \"image\": \"MercedesAMG550_65.MP4\", \"vehicle\": \"MercedesAMG550\"}, {\"speed\": 67.0, \"time\": 5.76, \"image\": \"MercedesAMG550_67.MP4\", \"vehicle\": \"MercedesAMG550\"}, {\"speed\": 70.0, \"time\": 4.83, \"image\": \"MercedesAMG550_70.MP4\", \"vehicle\": \"MercedesAMG550\"}, {\"speed\": 73.0, \"time\": 5.63, \"image\": \"MercedesAMG550_73.MP4\", \"vehicle\": \"MercedesAMG550\"}, {\"speed\": 75.0, \"time\": 5.11, \"image\": \"MercedesAMG550_75.MP4\", \"vehicle\": \"MercedesAMG550\"}, {\"speed\": 78.0, \"time\": 6.11, \"image\": \"MercedesAMG550_78.MP4\", \"vehicle\": \"MercedesAMG550\"}, {\"speed\": 80.0, \"time\": 4.9, \"image\": \"MercedesAMG550_80.MP4\", \"vehicle\": \"MercedesAMG550\"}, {\"speed\": 82.0, \"time\": 5.82, \"image\": \"MercedesAMG550_82.MP4\", \"vehicle\": \"MercedesAMG550\"}, {\"speed\": 85.0, \"time\": 4.84, \"image\": \"MercedesAMG550_85.MP4\", \"vehicle\": \"MercedesAMG550\"}, {\"speed\": 87.0, \"time\": 5.41, \"image\": \"MercedesAMG550_87.MP4\", \"vehicle\": \"MercedesAMG550\"}, {\"speed\": 90.0, \"time\": 6.0, \"image\": \"MercedesAMG550_90.MP4\", \"vehicle\": \"MercedesAMG550\"}, {\"speed\": 93.0, \"time\": 5.68, \"image\": \"MercedesAMG550_93.MP4\", \"vehicle\": \"MercedesAMG550\"}, {\"speed\": 95.0, \"time\": 5.0, \"image\": \"MercedesAMG550_95.MP4\", \"vehicle\": \"MercedesAMG550\"}, {\"speed\": 98.0, \"time\": 5.44, \"image\": \"MercedesAMG550_98.MP4\", \"vehicle\": \"MercedesAMG550\"}, {\"speed\": 100.0, \"time\": 5.0, \"image\": \"MercedesGLA_100.MP4\", \"vehicle\": \"MercedesGLA\"}, {\"speed\": 101.0, \"time\": 5.01, \"image\": \"MercedesGLA_101.MP4\", \"vehicle\": \"MercedesGLA\"}, {\"speed\": 103.0, \"time\": 5.01, \"image\": \"MercedesGLA_103.MP4\", \"vehicle\": \"MercedesGLA\"}, {\"speed\": 104.0, \"time\": 5.01, \"image\": \"MercedesGLA_104.MP4\", \"vehicle\": \"MercedesGLA\"}, {\"speed\": 30.0, \"time\": 4.99, \"image\": \"MercedesGLA_30.MP4\", \"vehicle\": \"MercedesGLA\"}, {\"speed\": 33.0, \"time\": 4.98, \"image\": \"MercedesGLA_33.MP4\", \"vehicle\": \"MercedesGLA\"}, {\"speed\": 36.0, \"time\": 4.99, \"image\": \"MercedesGLA_36.MP4\", \"vehicle\": \"MercedesGLA\"}, {\"speed\": 39.0, \"time\": 5.0, \"image\": \"MercedesGLA_39.MP4\", \"vehicle\": \"MercedesGLA\"}, {\"speed\": 41.0, \"time\": 4.99, \"image\": \"MercedesGLA_41.MP4\", \"vehicle\": \"MercedesGLA\"}, {\"speed\": 42.0, \"time\": 5.0, \"image\": \"MercedesGLA_42.MP4\", \"vehicle\": \"MercedesGLA\"}, {\"speed\": 45.0, \"time\": 5.02, \"image\": \"MercedesGLA_45.MP4\", \"vehicle\": \"MercedesGLA\"}, {\"speed\": 47.0, \"time\": 5.0, \"image\": \"MercedesGLA_47.MP4\", \"vehicle\": \"MercedesGLA\"}, {\"speed\": 48.0, \"time\": 5.0, \"image\": \"MercedesGLA_48.MP4\", \"vehicle\": \"MercedesGLA\"}, {\"speed\": 49.0, \"time\": 5.01, \"image\": \"MercedesGLA_49.MP4\", \"vehicle\": \"MercedesGLA\"}, {\"speed\": 52.0, \"time\": 5.0, \"image\": \"MercedesGLA_52.MP4\", \"vehicle\": \"MercedesGLA\"}, {\"speed\": 54.0, \"time\": 5.0, \"image\": \"MercedesGLA_54.MP4\", \"vehicle\": \"MercedesGLA\"}, {\"speed\": 55.0, \"time\": 4.99, \"image\": \"MercedesGLA_55.MP4\", \"vehicle\": \"MercedesGLA\"}, {\"speed\": 59.0, \"time\": 5.01, \"image\": \"MercedesGLA_59.MP4\", \"vehicle\": \"MercedesGLA\"}, {\"speed\": 61.0, \"time\": 5.08, \"image\": \"MercedesGLA_61.MP4\", \"vehicle\": \"MercedesGLA\"}, {\"speed\": 63.0, \"time\": 4.99, \"image\": \"MercedesGLA_63.MP4\", \"vehicle\": \"MercedesGLA\"}, {\"speed\": 65.0, \"time\": 4.99, \"image\": \"MercedesGLA_65.MP4\", \"vehicle\": \"MercedesGLA\"}, {\"speed\": 68.0, \"time\": 4.99, \"image\": \"MercedesGLA_68.MP4\", \"vehicle\": \"MercedesGLA\"}, {\"speed\": 70.0, \"time\": 5.01, \"image\": \"MercedesGLA_70.MP4\", \"vehicle\": \"MercedesGLA\"}, {\"speed\": 72.0, \"time\": 5.0, \"image\": \"MercedesGLA_72.MP4\", \"vehicle\": \"MercedesGLA\"}, {\"speed\": 75.0, \"time\": 5.0, \"image\": \"MercedesGLA_75.MP4\", \"vehicle\": \"MercedesGLA\"}, {\"speed\": 78.0, \"time\": 5.0, \"image\": \"MercedesGLA_78.MP4\", \"vehicle\": \"MercedesGLA\"}, {\"speed\": 81.0, \"time\": 5.01, \"image\": \"MercedesGLA_81.MP4\", \"vehicle\": \"MercedesGLA\"}, {\"speed\": 83.0, \"time\": 5.01, \"image\": \"MercedesGLA_83.MP4\", \"vehicle\": \"MercedesGLA\"}, {\"speed\": 85.0, \"time\": 5.01, \"image\": \"MercedesGLA_85.MP4\", \"vehicle\": \"MercedesGLA\"}, {\"speed\": 88.0, \"time\": 4.99, \"image\": \"MercedesGLA_88.MP4\", \"vehicle\": \"MercedesGLA\"}, {\"speed\": 90.0, \"time\": 5.1, \"image\": \"MercedesGLA_90.MP4\", \"vehicle\": \"MercedesGLA\"}, {\"speed\": 92.0, \"time\": 5.01, \"image\": \"MercedesGLA_92.MP4\", \"vehicle\": \"MercedesGLA\"}, {\"speed\": 93.0, \"time\": 4.99, \"image\": \"MercedesGLA_93.MP4\", \"vehicle\": \"MercedesGLA\"}, {\"speed\": 96.0, \"time\": 5.0, \"image\": \"MercedesGLA_96.MP4\", \"vehicle\": \"MercedesGLA\"}, {\"speed\": 102.0, \"time\": 5.62, \"image\": \"NissanQashqai_102.MP4\", \"vehicle\": \"NissanQashqai\"}, {\"speed\": 35.0, \"time\": 6.1, \"image\": \"NissanQashqai_35.MP4\", \"vehicle\": \"NissanQashqai\"}, {\"speed\": 38.0, \"time\": 6.19, \"image\": \"NissanQashqai_38.MP4\", \"vehicle\": \"NissanQashqai\"}, {\"speed\": 40.0, \"time\": 5.21, \"image\": \"NissanQashqai_40.MP4\", \"vehicle\": \"NissanQashqai\"}, {\"speed\": 42.0, \"time\": 5.14, \"image\": \"NissanQashqai_42.MP4\", \"vehicle\": \"NissanQashqai\"}, {\"speed\": 45.0, \"time\": 6.01, \"image\": \"NissanQashqai_45.MP4\", \"vehicle\": \"NissanQashqai\"}, {\"speed\": 48.0, \"time\": 5.21, \"image\": \"NissanQashqai_48.MP4\", \"vehicle\": \"NissanQashqai\"}, {\"speed\": 50.0, \"time\": 5.85, \"image\": \"NissanQashqai_50.MP4\", \"vehicle\": \"NissanQashqai\"}, {\"speed\": 53.0, \"time\": 5.99, \"image\": \"NissanQashqai_53.MP4\", \"vehicle\": \"NissanQashqai\"}, {\"speed\": 55.0, \"time\": 5.9, \"image\": \"NissanQashqai_55.MP4\", \"vehicle\": \"NissanQashqai\"}, {\"speed\": 58.0, \"time\": 5.61, \"image\": \"NissanQashqai_58.MP4\", \"vehicle\": \"NissanQashqai\"}, {\"speed\": 60.0, \"time\": 5.58, \"image\": \"NissanQashqai_60.MP4\", \"vehicle\": \"NissanQashqai\"}, {\"speed\": 61.0, \"time\": 6.08, \"image\": \"NissanQashqai_61.MP4\", \"vehicle\": \"NissanQashqai\"}, {\"speed\": 64.0, \"time\": 5.92, \"image\": \"NissanQashqai_64.MP4\", \"vehicle\": \"NissanQashqai\"}, {\"speed\": 65.0, \"time\": 5.58, \"image\": \"NissanQashqai_65.MP4\", \"vehicle\": \"NissanQashqai\"}, {\"speed\": 68.0, \"time\": 5.98, \"image\": \"NissanQashqai_68.MP4\", \"vehicle\": \"NissanQashqai\"}, {\"speed\": 70.0, \"time\": 6.04, \"image\": \"NissanQashqai_70.MP4\", \"vehicle\": \"NissanQashqai\"}, {\"speed\": 73.0, \"time\": 6.14, \"image\": \"NissanQashqai_73.MP4\", \"vehicle\": \"NissanQashqai\"}, {\"speed\": 75.0, \"time\": 6.01, \"image\": \"NissanQashqai_75.MP4\", \"vehicle\": \"NissanQashqai\"}, {\"speed\": 78.0, \"time\": 5.9, \"image\": \"NissanQashqai_78.MP4\", \"vehicle\": \"NissanQashqai\"}, {\"speed\": 80.0, \"time\": 5.79, \"image\": \"NissanQashqai_80.MP4\", \"vehicle\": \"NissanQashqai\"}, {\"speed\": 82.0, \"time\": 5.72, \"image\": \"NissanQashqai_82.MP4\", \"vehicle\": \"NissanQashqai\"}, {\"speed\": 85.0, \"time\": 5.91, \"image\": \"NissanQashqai_85.MP4\", \"vehicle\": \"NissanQashqai\"}, {\"speed\": 88.0, \"time\": 6.13, \"image\": \"NissanQashqai_88.MP4\", \"vehicle\": \"NissanQashqai\"}, {\"speed\": 90.0, \"time\": 5.52, \"image\": \"NissanQashqai_90.MP4\", \"vehicle\": \"NissanQashqai\"}, {\"speed\": 93.0, \"time\": 5.79, \"image\": \"NissanQashqai_93.MP4\", \"vehicle\": \"NissanQashqai\"}, {\"speed\": 94.0, \"time\": 5.28, \"image\": \"NissanQashqai_94.MP4\", \"vehicle\": \"NissanQashqai\"}, {\"speed\": 96.0, \"time\": 5.58, \"image\": \"NissanQashqai_96.MP4\", \"vehicle\": \"NissanQashqai\"}, {\"speed\": 98.0, \"time\": 5.38, \"image\": \"NissanQashqai_98.MP4\", \"vehicle\": \"NissanQashqai\"}, {\"speed\": 100.0, \"time\": 5.02, \"image\": \"OpelInsignia_100.MP4\", \"vehicle\": \"OpelInsignia\"}, {\"speed\": 31.0, \"time\": 6.05, \"image\": \"OpelInsignia_31.MP4\", \"vehicle\": \"OpelInsignia\"}, {\"speed\": 35.0, \"time\": 5.92, \"image\": \"OpelInsignia_35.MP4\", \"vehicle\": \"OpelInsignia\"}, {\"speed\": 38.0, \"time\": 6.68, \"image\": \"OpelInsignia_38.MP4\", \"vehicle\": \"OpelInsignia\"}, {\"speed\": 41.0, \"time\": 6.51, \"image\": \"OpelInsignia_41.MP4\", \"vehicle\": \"OpelInsignia\"}, {\"speed\": 44.0, \"time\": 5.92, \"image\": \"OpelInsignia_44.MP4\", \"vehicle\": \"OpelInsignia\"}, {\"speed\": 47.0, \"time\": 5.91, \"image\": \"OpelInsignia_47.MP4\", \"vehicle\": \"OpelInsignia\"}, {\"speed\": 50.0, \"time\": 6.42, \"image\": \"OpelInsignia_50.MP4\", \"vehicle\": \"OpelInsignia\"}, {\"speed\": 53.0, \"time\": 5.71, \"image\": \"OpelInsignia_53.MP4\", \"vehicle\": \"OpelInsignia\"}, {\"speed\": 55.0, \"time\": 5.51, \"image\": \"OpelInsignia_55.MP4\", \"vehicle\": \"OpelInsignia\"}, {\"speed\": 58.0, \"time\": 5.48, \"image\": \"OpelInsignia_58.MP4\", \"vehicle\": \"OpelInsignia\"}, {\"speed\": 61.0, \"time\": 5.54, \"image\": \"OpelInsignia_61.MP4\", \"vehicle\": \"OpelInsignia\"}, {\"speed\": 64.0, \"time\": 5.74, \"image\": \"OpelInsignia_64.MP4\", \"vehicle\": \"OpelInsignia\"}, {\"speed\": 66.0, \"time\": 5.35, \"image\": \"OpelInsignia_66.MP4\", \"vehicle\": \"OpelInsignia\"}, {\"speed\": 68.0, \"time\": 5.25, \"image\": \"OpelInsignia_68.MP4\", \"vehicle\": \"OpelInsignia\"}, {\"speed\": 70.0, \"time\": 5.91, \"image\": \"OpelInsignia_70.MP4\", \"vehicle\": \"OpelInsignia\"}, {\"speed\": 72.0, \"time\": 6.09, \"image\": \"OpelInsignia_72.MP4\", \"vehicle\": \"OpelInsignia\"}, {\"speed\": 73.0, \"time\": 5.39, \"image\": \"OpelInsignia_73.MP4\", \"vehicle\": \"OpelInsignia\"}, {\"speed\": 76.0, \"time\": 6.22, \"image\": \"OpelInsignia_76.MP4\", \"vehicle\": \"OpelInsignia\"}, {\"speed\": 78.0, \"time\": 5.21, \"image\": \"OpelInsignia_78.MP4\", \"vehicle\": \"OpelInsignia\"}, {\"speed\": 80.0, \"time\": 6.24, \"image\": \"OpelInsignia_80.MP4\", \"vehicle\": \"OpelInsignia\"}, {\"speed\": 83.0, \"time\": 6.02, \"image\": \"OpelInsignia_83.MP4\", \"vehicle\": \"OpelInsignia\"}, {\"speed\": 86.0, \"time\": 5.51, \"image\": \"OpelInsignia_86.MP4\", \"vehicle\": \"OpelInsignia\"}, {\"speed\": 89.0, \"time\": 5.59, \"image\": \"OpelInsignia_89.MP4\", \"vehicle\": \"OpelInsignia\"}, {\"speed\": 91.0, \"time\": 5.38, \"image\": \"OpelInsignia_91.MP4\", \"vehicle\": \"OpelInsignia\"}, {\"speed\": 94.0, \"time\": 5.81, \"image\": \"OpelInsignia_94.MP4\", \"vehicle\": \"OpelInsignia\"}, {\"speed\": 97.0, \"time\": 5.72, \"image\": \"OpelInsignia_97.MP4\", \"vehicle\": \"OpelInsignia\"}, {\"speed\": 30.0, \"time\": 5.14, \"image\": \"Peugeot208_30.MP4\", \"vehicle\": \"Peugeot208\"}, {\"speed\": 32.0, \"time\": 5.04, \"image\": \"Peugeot208_32.MP4\", \"vehicle\": \"Peugeot208\"}, {\"speed\": 34.0, \"time\": 5.04, \"image\": \"Peugeot208_34.MP4\", \"vehicle\": \"Peugeot208\"}, {\"speed\": 37.0, \"time\": 5.15, \"image\": \"Peugeot208_37.MP4\", \"vehicle\": \"Peugeot208\"}, {\"speed\": 40.0, \"time\": 5.14, \"image\": \"Peugeot208_40.MP4\", \"vehicle\": \"Peugeot208\"}, {\"speed\": 43.0, \"time\": 5.1, \"image\": \"Peugeot208_43.MP4\", \"vehicle\": \"Peugeot208\"}, {\"speed\": 45.0, \"time\": 5.12, \"image\": \"Peugeot208_45.MP4\", \"vehicle\": \"Peugeot208\"}, {\"speed\": 47.0, \"time\": 5.02, \"image\": \"Peugeot208_47.MP4\", \"vehicle\": \"Peugeot208\"}, {\"speed\": 50.0, \"time\": 4.93, \"image\": \"Peugeot208_50.MP4\", \"vehicle\": \"Peugeot208\"}, {\"speed\": 51.0, \"time\": 5.52, \"image\": \"Peugeot208_51.MP4\", \"vehicle\": \"Peugeot208\"}, {\"speed\": 54.0, \"time\": 5.17, \"image\": \"Peugeot208_54.MP4\", \"vehicle\": \"Peugeot208\"}, {\"speed\": 57.0, \"time\": 5.51, \"image\": \"Peugeot208_57.MP4\", \"vehicle\": \"Peugeot208\"}, {\"speed\": 60.0, \"time\": 5.06, \"image\": \"Peugeot208_60.MP4\", \"vehicle\": \"Peugeot208\"}, {\"speed\": 62.0, \"time\": 5.09, \"image\": \"Peugeot208_62.MP4\", \"vehicle\": \"Peugeot208\"}, {\"speed\": 64.0, \"time\": 5.22, \"image\": \"Peugeot208_64.MP4\", \"vehicle\": \"Peugeot208\"}, {\"speed\": 67.0, \"time\": 5.03, \"image\": \"Peugeot208_67.MP4\", \"vehicle\": \"Peugeot208\"}, {\"speed\": 68.0, \"time\": 5.18, \"image\": \"Peugeot208_68.MP4\", \"vehicle\": \"Peugeot208\"}, {\"speed\": 71.0, \"time\": 5.16, \"image\": \"Peugeot208_71.MP4\", \"vehicle\": \"Peugeot208\"}, {\"speed\": 73.0, \"time\": 4.99, \"image\": \"Peugeot208_73.MP4\", \"vehicle\": \"Peugeot208\"}, {\"speed\": 76.0, \"time\": 5.61, \"image\": \"Peugeot208_76.MP4\", \"vehicle\": \"Peugeot208\"}, {\"speed\": 77.0, \"time\": 6.26, \"image\": \"Peugeot208_77.MP4\", \"vehicle\": \"Peugeot208\"}, {\"speed\": 79.0, \"time\": 5.22, \"image\": \"Peugeot208_79.MP4\", \"vehicle\": \"Peugeot208\"}, {\"speed\": 82.0, \"time\": 5.17, \"image\": \"Peugeot208_82.MP4\", \"vehicle\": \"Peugeot208\"}, {\"speed\": 84.0, \"time\": 5.12, \"image\": \"Peugeot208_84.MP4\", \"vehicle\": \"Peugeot208\"}, {\"speed\": 87.0, \"time\": 5.48, \"image\": \"Peugeot208_87.MP4\", \"vehicle\": \"Peugeot208\"}, {\"speed\": 90.0, \"time\": 5.18, \"image\": \"Peugeot208_90.MP4\", \"vehicle\": \"Peugeot208\"}, {\"speed\": 92.0, \"time\": 5.48, \"image\": \"Peugeot208_92.MP4\", \"vehicle\": \"Peugeot208\"}, {\"speed\": 95.0, \"time\": 5.59, \"image\": \"Peugeot208_95.MP4\", \"vehicle\": \"Peugeot208\"}, {\"speed\": 96.0, \"time\": 5.43, \"image\": \"Peugeot208_96.MP4\", \"vehicle\": \"Peugeot208\"}, {\"speed\": 100.0, \"time\": 5.5, \"image\": \"Peugeot3008_100.MP4\", \"vehicle\": \"Peugeot3008\"}, {\"speed\": 40.0, \"time\": 6.01, \"image\": \"Peugeot3008_40.MP4\", \"vehicle\": \"Peugeot3008\"}, {\"speed\": 43.0, \"time\": 4.93, \"image\": \"Peugeot3008_43.MP4\", \"vehicle\": \"Peugeot3008\"}, {\"speed\": 45.0, \"time\": 6.0, \"image\": \"Peugeot3008_45.MP4\", \"vehicle\": \"Peugeot3008\"}, {\"speed\": 47.0, \"time\": 5.89, \"image\": \"Peugeot3008_47.MP4\", \"vehicle\": \"Peugeot3008\"}, {\"speed\": 50.0, \"time\": 5.99, \"image\": \"Peugeot3008_50.MP4\", \"vehicle\": \"Peugeot3008\"}, {\"speed\": 52.0, \"time\": 6.86, \"image\": \"Peugeot3008_52.MP4\", \"vehicle\": \"Peugeot3008\"}, {\"speed\": 54.0, \"time\": 5.84, \"image\": \"Peugeot3008_54.MP4\", \"vehicle\": \"Peugeot3008\"}, {\"speed\": 55.0, \"time\": 6.02, \"image\": \"Peugeot3008_55.MP4\", \"vehicle\": \"Peugeot3008\"}, {\"speed\": 56.0, \"time\": 5.71, \"image\": \"Peugeot3008_56.MP4\", \"vehicle\": \"Peugeot3008\"}, {\"speed\": 58.0, \"time\": 4.89, \"image\": \"Peugeot3008_58.MP4\", \"vehicle\": \"Peugeot3008\"}, {\"speed\": 60.0, \"time\": 5.99, \"image\": \"Peugeot3008_60.MP4\", \"vehicle\": \"Peugeot3008\"}, {\"speed\": 61.0, \"time\": 5.43, \"image\": \"Peugeot3008_61.MP4\", \"vehicle\": \"Peugeot3008\"}, {\"speed\": 63.0, \"time\": 7.22, \"image\": \"Peugeot3008_63.MP4\", \"vehicle\": \"Peugeot3008\"}, {\"speed\": 65.0, \"time\": 6.0, \"image\": \"Peugeot3008_65.MP4\", \"vehicle\": \"Peugeot3008\"}, {\"speed\": 67.0, \"time\": 5.69, \"image\": \"Peugeot3008_67.MP4\", \"vehicle\": \"Peugeot3008\"}, {\"speed\": 68.0, \"time\": 5.97, \"image\": \"Peugeot3008_68.MP4\", \"vehicle\": \"Peugeot3008\"}, {\"speed\": 70.0, \"time\": 6.0, \"image\": \"Peugeot3008_70.MP4\", \"vehicle\": \"Peugeot3008\"}, {\"speed\": 72.0, \"time\": 5.53, \"image\": \"Peugeot3008_72.MP4\", \"vehicle\": \"Peugeot3008\"}, {\"speed\": 74.0, \"time\": 5.88, \"image\": \"Peugeot3008_74.MP4\", \"vehicle\": \"Peugeot3008\"}, {\"speed\": 75.0, \"time\": 6.09, \"image\": \"Peugeot3008_75.MP4\", \"vehicle\": \"Peugeot3008\"}, {\"speed\": 78.0, \"time\": 5.6, \"image\": \"Peugeot3008_78.MP4\", \"vehicle\": \"Peugeot3008\"}, {\"speed\": 80.0, \"time\": 6.01, \"image\": \"Peugeot3008_80.MP4\", \"vehicle\": \"Peugeot3008\"}, {\"speed\": 83.0, \"time\": 6.62, \"image\": \"Peugeot3008_83.MP4\", \"vehicle\": \"Peugeot3008\"}, {\"speed\": 85.0, \"time\": 6.38, \"image\": \"Peugeot3008_85.MP4\", \"vehicle\": \"Peugeot3008\"}, {\"speed\": 87.0, \"time\": 5.35, \"image\": \"Peugeot3008_87.MP4\", \"vehicle\": \"Peugeot3008\"}, {\"speed\": 89.0, \"time\": 5.15, \"image\": \"Peugeot3008_89.MP4\", \"vehicle\": \"Peugeot3008\"}, {\"speed\": 90.0, \"time\": 5.99, \"image\": \"Peugeot3008_90.MP4\", \"vehicle\": \"Peugeot3008\"}, {\"speed\": 92.0, \"time\": 5.37, \"image\": \"Peugeot3008_92.MP4\", \"vehicle\": \"Peugeot3008\"}, {\"speed\": 95.0, \"time\": 6.1, \"image\": \"Peugeot3008_95.MP4\", \"vehicle\": \"Peugeot3008\"}, {\"speed\": 97.0, \"time\": 6.39, \"image\": \"Peugeot3008_97.MP4\", \"vehicle\": \"Peugeot3008\"}, {\"speed\": 101.0, \"time\": 5.45, \"image\": \"Peugeot307_101.MP4\", \"vehicle\": \"Peugeot307\"}, {\"speed\": 103.0, \"time\": 5.86, \"image\": \"Peugeot307_103.MP4\", \"vehicle\": \"Peugeot307\"}, {\"speed\": 30.0, \"time\": 5.52, \"image\": \"Peugeot307_30.MP4\", \"vehicle\": \"Peugeot307\"}, {\"speed\": 33.0, \"time\": 5.62, \"image\": \"Peugeot307_33.MP4\", \"vehicle\": \"Peugeot307\"}, {\"speed\": 35.0, \"time\": 5.55, \"image\": \"Peugeot307_35.MP4\", \"vehicle\": \"Peugeot307\"}, {\"speed\": 38.0, \"time\": 5.08, \"image\": \"Peugeot307_38.MP4\", \"vehicle\": \"Peugeot307\"}, {\"speed\": 40.0, \"time\": 5.02, \"image\": \"Peugeot307_40.MP4\", \"vehicle\": \"Peugeot307\"}, {\"speed\": 43.0, \"time\": 4.95, \"image\": \"Peugeot307_43.MP4\", \"vehicle\": \"Peugeot307\"}, {\"speed\": 45.0, \"time\": 5.18, \"image\": \"Peugeot307_45.MP4\", \"vehicle\": \"Peugeot307\"}, {\"speed\": 47.0, \"time\": 4.99, \"image\": \"Peugeot307_47.MP4\", \"vehicle\": \"Peugeot307\"}, {\"speed\": 48.0, \"time\": 4.97, \"image\": \"Peugeot307_48.MP4\", \"vehicle\": \"Peugeot307\"}, {\"speed\": 50.0, \"time\": 5.18, \"image\": \"Peugeot307_50.MP4\", \"vehicle\": \"Peugeot307\"}, {\"speed\": 53.0, \"time\": 4.98, \"image\": \"Peugeot307_53.MP4\", \"vehicle\": \"Peugeot307\"}, {\"speed\": 56.0, \"time\": 5.45, \"image\": \"Peugeot307_56.MP4\", \"vehicle\": \"Peugeot307\"}, {\"speed\": 59.0, \"time\": 4.97, \"image\": \"Peugeot307_59.MP4\", \"vehicle\": \"Peugeot307\"}, {\"speed\": 60.0, \"time\": 6.33, \"image\": \"Peugeot307_60.MP4\", \"vehicle\": \"Peugeot307\"}, {\"speed\": 63.0, \"time\": 5.08, \"image\": \"Peugeot307_63.MP4\", \"vehicle\": \"Peugeot307\"}, {\"speed\": 66.0, \"time\": 5.18, \"image\": \"Peugeot307_66.MP4\", \"vehicle\": \"Peugeot307\"}, {\"speed\": 69.0, \"time\": 4.85, \"image\": \"Peugeot307_69.MP4\", \"vehicle\": \"Peugeot307\"}, {\"speed\": 72.0, \"time\": 4.6, \"image\": \"Peugeot307_72.MP4\", \"vehicle\": \"Peugeot307\"}, {\"speed\": 73.0, \"time\": 4.95, \"image\": \"Peugeot307_73.MP4\", \"vehicle\": \"Peugeot307\"}, {\"speed\": 76.0, \"time\": 4.9, \"image\": \"Peugeot307_76.MP4\", \"vehicle\": \"Peugeot307\"}, {\"speed\": 79.0, \"time\": 4.93, \"image\": \"Peugeot307_79.MP4\", \"vehicle\": \"Peugeot307\"}, {\"speed\": 82.0, \"time\": 5.22, \"image\": \"Peugeot307_82.MP4\", \"vehicle\": \"Peugeot307\"}, {\"speed\": 85.0, \"time\": 5.25, \"image\": \"Peugeot307_85.MP4\", \"vehicle\": \"Peugeot307\"}, {\"speed\": 88.0, \"time\": 4.94, \"image\": \"Peugeot307_88.MP4\", \"vehicle\": \"Peugeot307\"}, {\"speed\": 91.0, \"time\": 5.05, \"image\": \"Peugeot307_91.MP4\", \"vehicle\": \"Peugeot307\"}, {\"speed\": 94.0, \"time\": 4.75, \"image\": \"Peugeot307_94.MP4\", \"vehicle\": \"Peugeot307\"}, {\"speed\": 97.0, \"time\": 4.95, \"image\": \"Peugeot307_97.MP4\", \"vehicle\": \"Peugeot307\"}, {\"speed\": 100.0, \"time\": 5.19, \"image\": \"RenaultCaptur_100.MP4\", \"vehicle\": \"RenaultCaptur\"}, {\"speed\": 102.0, \"time\": 5.34, \"image\": \"RenaultCaptur_102.MP4\", \"vehicle\": \"RenaultCaptur\"}, {\"speed\": 30.0, \"time\": 5.55, \"image\": \"RenaultCaptur_30.MP4\", \"vehicle\": \"RenaultCaptur\"}, {\"speed\": 33.0, \"time\": 5.85, \"image\": \"RenaultCaptur_33.MP4\", \"vehicle\": \"RenaultCaptur\"}, {\"speed\": 36.0, \"time\": 5.32, \"image\": \"RenaultCaptur_36.MP4\", \"vehicle\": \"RenaultCaptur\"}, {\"speed\": 38.0, \"time\": 5.44, \"image\": \"RenaultCaptur_38.MP4\", \"vehicle\": \"RenaultCaptur\"}, {\"speed\": 40.0, \"time\": 5.29, \"image\": \"RenaultCaptur_40.MP4\", \"vehicle\": \"RenaultCaptur\"}, {\"speed\": 41.0, \"time\": 5.36, \"image\": \"RenaultCaptur_41.MP4\", \"vehicle\": \"RenaultCaptur\"}, {\"speed\": 44.0, \"time\": 5.3, \"image\": \"RenaultCaptur_44.MP4\", \"vehicle\": \"RenaultCaptur\"}, {\"speed\": 46.0, \"time\": 4.68, \"image\": \"RenaultCaptur_46.MP4\", \"vehicle\": \"RenaultCaptur\"}, {\"speed\": 47.0, \"time\": 5.28, \"image\": \"RenaultCaptur_47.MP4\", \"vehicle\": \"RenaultCaptur\"}, {\"speed\": 48.0, \"time\": 5.57, \"image\": \"RenaultCaptur_48.MP4\", \"vehicle\": \"RenaultCaptur\"}, {\"speed\": 50.0, \"time\": 5.09, \"image\": \"RenaultCaptur_50.MP4\", \"vehicle\": \"RenaultCaptur\"}, {\"speed\": 52.0, \"time\": 5.53, \"image\": \"RenaultCaptur_52.MP4\", \"vehicle\": \"RenaultCaptur\"}, {\"speed\": 56.0, \"time\": 5.21, \"image\": \"RenaultCaptur_56.MP4\", \"vehicle\": \"RenaultCaptur\"}, {\"speed\": 58.0, \"time\": 5.32, \"image\": \"RenaultCaptur_58.MP4\", \"vehicle\": \"RenaultCaptur\"}, {\"speed\": 60.0, \"time\": 5.39, \"image\": \"RenaultCaptur_60.MP4\", \"vehicle\": \"RenaultCaptur\"}, {\"speed\": 63.0, \"time\": 5.42, \"image\": \"RenaultCaptur_63.MP4\", \"vehicle\": \"RenaultCaptur\"}, {\"speed\": 66.0, \"time\": 5.01, \"image\": \"RenaultCaptur_66.MP4\", \"vehicle\": \"RenaultCaptur\"}, {\"speed\": 68.0, \"time\": 5.15, \"image\": \"RenaultCaptur_68.MP4\", \"vehicle\": \"RenaultCaptur\"}, {\"speed\": 70.0, \"time\": 5.75, \"image\": \"RenaultCaptur_70.MP4\", \"vehicle\": \"RenaultCaptur\"}, {\"speed\": 72.0, \"time\": 5.08, \"image\": \"RenaultCaptur_72.MP4\", \"vehicle\": \"RenaultCaptur\"}, {\"speed\": 76.0, \"time\": 5.94, \"image\": \"RenaultCaptur_76.MP4\", \"vehicle\": \"RenaultCaptur\"}, {\"speed\": 78.0, \"time\": 5.32, \"image\": \"RenaultCaptur_78.MP4\", \"vehicle\": \"RenaultCaptur\"}, {\"speed\": 80.0, \"time\": 4.79, \"image\": \"RenaultCaptur_80.MP4\", \"vehicle\": \"RenaultCaptur\"}, {\"speed\": 83.0, \"time\": 5.59, \"image\": \"RenaultCaptur_83.MP4\", \"vehicle\": \"RenaultCaptur\"}, {\"speed\": 86.0, \"time\": 5.18, \"image\": \"RenaultCaptur_86.MP4\", \"vehicle\": \"RenaultCaptur\"}, {\"speed\": 88.0, \"time\": 5.24, \"image\": \"RenaultCaptur_88.MP4\", \"vehicle\": \"RenaultCaptur\"}, {\"speed\": 90.0, \"time\": 5.61, \"image\": \"RenaultCaptur_90.MP4\", \"vehicle\": \"RenaultCaptur\"}, {\"speed\": 92.0, \"time\": 5.64, \"image\": \"RenaultCaptur_92.MP4\", \"vehicle\": \"RenaultCaptur\"}, {\"speed\": 94.0, \"time\": 5.06, \"image\": \"RenaultCaptur_94.MP4\", \"vehicle\": \"RenaultCaptur\"}, {\"speed\": 97.0, \"time\": 6.02, \"image\": \"RenaultCaptur_97.MP4\", \"vehicle\": \"RenaultCaptur\"}, {\"speed\": 98.0, \"time\": 5.11, \"image\": \"RenaultCaptur_98.MP4\", \"vehicle\": \"RenaultCaptur\"}, {\"speed\": 101.0, \"time\": 6.17, \"image\": \"RenaultScenic_101.MP4\", \"vehicle\": \"RenaultScenic\"}, {\"speed\": 30.0, \"time\": 6.0, \"image\": \"RenaultScenic_30.MP4\", \"vehicle\": \"RenaultScenic\"}, {\"speed\": 35.0, \"time\": 6.82, \"image\": \"RenaultScenic_35.MP4\", \"vehicle\": \"RenaultScenic\"}, {\"speed\": 36.0, \"time\": 6.01, \"image\": \"RenaultScenic_36.MP4\", \"vehicle\": \"RenaultScenic\"}, {\"speed\": 38.0, \"time\": 6.03, \"image\": \"RenaultScenic_38.MP4\", \"vehicle\": \"RenaultScenic\"}, {\"speed\": 40.0, \"time\": 6.7, \"image\": \"RenaultScenic_40.MP4\", \"vehicle\": \"RenaultScenic\"}, {\"speed\": 42.0, \"time\": 5.83, \"image\": \"RenaultScenic_42.MP4\", \"vehicle\": \"RenaultScenic\"}, {\"speed\": 44.0, \"time\": 5.27, \"image\": \"RenaultScenic_44.MP4\", \"vehicle\": \"RenaultScenic\"}, {\"speed\": 46.0, \"time\": 6.75, \"image\": \"RenaultScenic_46.MP4\", \"vehicle\": \"RenaultScenic\"}, {\"speed\": 48.0, \"time\": 5.75, \"image\": \"RenaultScenic_48.MP4\", \"vehicle\": \"RenaultScenic\"}, {\"speed\": 50.0, \"time\": 7.25, \"image\": \"RenaultScenic_50.MP4\", \"vehicle\": \"RenaultScenic\"}, {\"speed\": 52.0, \"time\": 5.25, \"image\": \"RenaultScenic_52.MP4\", \"vehicle\": \"RenaultScenic\"}, {\"speed\": 54.0, \"time\": 5.46, \"image\": \"RenaultScenic_54.MP4\", \"vehicle\": \"RenaultScenic\"}, {\"speed\": 57.0, \"time\": 6.6, \"image\": \"RenaultScenic_57.MP4\", \"vehicle\": \"RenaultScenic\"}, {\"speed\": 60.0, \"time\": 6.12, \"image\": \"RenaultScenic_60.MP4\", \"vehicle\": \"RenaultScenic\"}, {\"speed\": 62.0, \"time\": 6.05, \"image\": \"RenaultScenic_62.MP4\", \"vehicle\": \"RenaultScenic\"}, {\"speed\": 64.0, \"time\": 5.76, \"image\": \"RenaultScenic_64.MP4\", \"vehicle\": \"RenaultScenic\"}, {\"speed\": 66.0, \"time\": 5.35, \"image\": \"RenaultScenic_66.MP4\", \"vehicle\": \"RenaultScenic\"}, {\"speed\": 68.0, \"time\": 6.57, \"image\": \"RenaultScenic_68.MP4\", \"vehicle\": \"RenaultScenic\"}, {\"speed\": 70.0, \"time\": 5.85, \"image\": \"RenaultScenic_70.MP4\", \"vehicle\": \"RenaultScenic\"}, {\"speed\": 71.0, \"time\": 5.99, \"image\": \"RenaultScenic_71.MP4\", \"vehicle\": \"RenaultScenic\"}, {\"speed\": 72.0, \"time\": 5.23, \"image\": \"RenaultScenic_72.MP4\", \"vehicle\": \"RenaultScenic\"}, {\"speed\": 74.0, \"time\": 5.7, \"image\": \"RenaultScenic_74.MP4\", \"vehicle\": \"RenaultScenic\"}, {\"speed\": 75.0, \"time\": 5.45, \"image\": \"RenaultScenic_75.MP4\", \"vehicle\": \"RenaultScenic\"}, {\"speed\": 77.0, \"time\": 7.32, \"image\": \"RenaultScenic_77.MP4\", \"vehicle\": \"RenaultScenic\"}, {\"speed\": 80.0, \"time\": 7.01, \"image\": \"RenaultScenic_80.MP4\", \"vehicle\": \"RenaultScenic\"}, {\"speed\": 82.0, \"time\": 6.06, \"image\": \"RenaultScenic_82.MP4\", \"vehicle\": \"RenaultScenic\"}, {\"speed\": 84.0, \"time\": 5.39, \"image\": \"RenaultScenic_84.MP4\", \"vehicle\": \"RenaultScenic\"}, {\"speed\": 86.0, \"time\": 5.65, \"image\": \"RenaultScenic_86.MP4\", \"vehicle\": \"RenaultScenic\"}, {\"speed\": 87.0, \"time\": 6.0, \"image\": \"RenaultScenic_87.MP4\", \"vehicle\": \"RenaultScenic\"}, {\"speed\": 90.0, \"time\": 5.09, \"image\": \"RenaultScenic_90.MP4\", \"vehicle\": \"RenaultScenic\"}, {\"speed\": 91.0, \"time\": 6.21, \"image\": \"RenaultScenic_91.MP4\", \"vehicle\": \"RenaultScenic\"}, {\"speed\": 94.0, \"time\": 6.18, \"image\": \"RenaultScenic_94.MP4\", \"vehicle\": \"RenaultScenic\"}, {\"speed\": 95.0, \"time\": 6.23, \"image\": \"RenaultScenic_95.MP4\", \"vehicle\": \"RenaultScenic\"}, {\"speed\": 98.0, \"time\": 5.38, \"image\": \"RenaultScenic_98.MP4\", \"vehicle\": \"RenaultScenic\"}, {\"speed\": 100.0, \"time\": 6.01, \"image\": \"VWPassat_100.MP4\", \"vehicle\": \"VWPassat\"}, {\"speed\": 30.0, \"time\": 6.46, \"image\": \"VWPassat_30.MP4\", \"vehicle\": \"VWPassat\"}, {\"speed\": 35.0, \"time\": 5.92, \"image\": \"VWPassat_35.MP4\", \"vehicle\": \"VWPassat\"}, {\"speed\": 39.0, \"time\": 5.27, \"image\": \"VWPassat_39.MP4\", \"vehicle\": \"VWPassat\"}, {\"speed\": 40.0, \"time\": 6.53, \"image\": \"VWPassat_40.MP4\", \"vehicle\": \"VWPassat\"}, {\"speed\": 42.0, \"time\": 6.72, \"image\": \"VWPassat_42.MP4\", \"vehicle\": \"VWPassat\"}, {\"speed\": 45.0, \"time\": 6.35, \"image\": \"VWPassat_45.MP4\", \"vehicle\": \"VWPassat\"}, {\"speed\": 47.0, \"time\": 5.25, \"image\": \"VWPassat_47.MP4\", \"vehicle\": \"VWPassat\"}, {\"speed\": 49.0, \"time\": 5.27, \"image\": \"VWPassat_49.MP4\", \"vehicle\": \"VWPassat\"}, {\"speed\": 50.0, \"time\": 6.0, \"image\": \"VWPassat_50.MP4\", \"vehicle\": \"VWPassat\"}, {\"speed\": 52.0, \"time\": 6.02, \"image\": \"VWPassat_52.MP4\", \"vehicle\": \"VWPassat\"}, {\"speed\": 54.0, \"time\": 5.54, \"image\": \"VWPassat_54.MP4\", \"vehicle\": \"VWPassat\"}, {\"speed\": 55.0, \"time\": 6.02, \"image\": \"VWPassat_55.MP4\", \"vehicle\": \"VWPassat\"}, {\"speed\": 57.0, \"time\": 4.98, \"image\": \"VWPassat_57.MP4\", \"vehicle\": \"VWPassat\"}, {\"speed\": 60.0, \"time\": 5.98, \"image\": \"VWPassat_60.MP4\", \"vehicle\": \"VWPassat\"}, {\"speed\": 61.0, \"time\": 6.01, \"image\": \"VWPassat_61.MP4\", \"vehicle\": \"VWPassat\"}, {\"speed\": 64.0, \"time\": 5.67, \"image\": \"VWPassat_64.MP4\", \"vehicle\": \"VWPassat\"}, {\"speed\": 65.0, \"time\": 5.82, \"image\": \"VWPassat_65.MP4\", \"vehicle\": \"VWPassat\"}, {\"speed\": 67.0, \"time\": 5.08, \"image\": \"VWPassat_67.MP4\", \"vehicle\": \"VWPassat\"}, {\"speed\": 70.0, \"time\": 6.0, \"image\": \"VWPassat_70.MP4\", \"vehicle\": \"VWPassat\"}, {\"speed\": 71.0, \"time\": 5.51, \"image\": \"VWPassat_71.MP4\", \"vehicle\": \"VWPassat\"}, {\"speed\": 72.0, \"time\": 5.42, \"image\": \"VWPassat_72.MP4\", \"vehicle\": \"VWPassat\"}, {\"speed\": 73.0, \"time\": 5.32, \"image\": \"VWPassat_73.MP4\", \"vehicle\": \"VWPassat\"}, {\"speed\": 75.0, \"time\": 6.02, \"image\": \"VWPassat_75.MP4\", \"vehicle\": \"VWPassat\"}, {\"speed\": 78.0, \"time\": 5.85, \"image\": \"VWPassat_78.MP4\", \"vehicle\": \"VWPassat\"}, {\"speed\": 80.0, \"time\": 5.99, \"image\": \"VWPassat_80.MP4\", \"vehicle\": \"VWPassat\"}, {\"speed\": 81.0, \"time\": 5.58, \"image\": \"VWPassat_81.MP4\", \"vehicle\": \"VWPassat\"}, {\"speed\": 82.0, \"time\": 5.62, \"image\": \"VWPassat_82.MP4\", \"vehicle\": \"VWPassat\"}, {\"speed\": 85.0, \"time\": 6.23, \"image\": \"VWPassat_85.MP4\", \"vehicle\": \"VWPassat\"}, {\"speed\": 88.0, \"time\": 7.31, \"image\": \"VWPassat_88.MP4\", \"vehicle\": \"VWPassat\"}, {\"speed\": 90.0, \"time\": 5.2, \"image\": \"VWPassat_90.MP4\", \"vehicle\": \"VWPassat\"}, {\"speed\": 91.0, \"time\": 5.45, \"image\": \"VWPassat_91.MP4\", \"vehicle\": \"VWPassat\"}, {\"speed\": 94.0, \"time\": 6.0, \"image\": \"VWPassat_94.MP4\", \"vehicle\": \"VWPassat\"}, {\"speed\": 96.0, \"time\": 5.72, \"image\": \"VWPassat_96.MP4\", \"vehicle\": \"VWPassat\"}, {\"speed\": 98.0, \"time\": 5.99, \"image\": \"VWPassat_98.MP4\", \"vehicle\": \"VWPassat\"}]}}, {\"mode\": \"vega-lite\"});\n",
       "</script>"
      ],
      "text/plain": [
       "alt.Chart(...)"
      ]
     },
     "execution_count": 13,
     "metadata": {},
     "output_type": "execute_result"
    }
   ],
   "source": [
    "alt.Chart(df_combined).mark_boxplot().encode(\n",
    "    x=alt.X('vehicle:N', title='Tipo de Vehículo'),\n",
    "    y=alt.Y('speed:Q', title='Velocidad'),\n",
    "    color='vehicle:N',\n",
    "    tooltip=['vehicle', 'speed']\n",
    ").properties(\n",
    "    title='Distribución de Velocidades por Tipo de Vehículo'\n",
    ")"
   ]
  },
  {
   "cell_type": "code",
   "execution_count": 14,
   "metadata": {
    "collapsed": false,
    "jupyter": {
     "outputs_hidden": false
    },
    "pycharm": {
     "name": "#%%\n"
    }
   },
   "outputs": [
    {
     "data": {
      "text/plain": [
       "4.45"
      ]
     },
     "execution_count": 14,
     "metadata": {},
     "output_type": "execute_result"
    }
   ],
   "source": [
    "df_combined['time']. min()"
   ]
  },
  {
   "cell_type": "code",
   "execution_count": 15,
   "metadata": {
    "collapsed": false,
    "jupyter": {
     "outputs_hidden": false
    },
    "pycharm": {
     "name": "#%%\n"
    }
   },
   "outputs": [
    {
     "data": {
      "text/html": [
       "<div>\n",
       "<style scoped>\n",
       "    .dataframe tbody tr th:only-of-type {\n",
       "        vertical-align: middle;\n",
       "    }\n",
       "\n",
       "    .dataframe tbody tr th {\n",
       "        vertical-align: top;\n",
       "    }\n",
       "\n",
       "    .dataframe thead th {\n",
       "        text-align: right;\n",
       "    }\n",
       "</style>\n",
       "<table border=\"1\" class=\"dataframe\">\n",
       "  <thead>\n",
       "    <tr style=\"text-align: right;\">\n",
       "      <th></th>\n",
       "      <th>speed</th>\n",
       "      <th>time</th>\n",
       "      <th>image</th>\n",
       "      <th>vehicle</th>\n",
       "    </tr>\n",
       "  </thead>\n",
       "  <tbody>\n",
       "    <tr>\n",
       "      <th>395</th>\n",
       "      <td>90.0</td>\n",
       "      <td>5.20</td>\n",
       "      <td>VWPassat_90.MP4</td>\n",
       "      <td>VWPassat</td>\n",
       "    </tr>\n",
       "    <tr>\n",
       "      <th>396</th>\n",
       "      <td>91.0</td>\n",
       "      <td>5.45</td>\n",
       "      <td>VWPassat_91.MP4</td>\n",
       "      <td>VWPassat</td>\n",
       "    </tr>\n",
       "    <tr>\n",
       "      <th>397</th>\n",
       "      <td>94.0</td>\n",
       "      <td>6.00</td>\n",
       "      <td>VWPassat_94.MP4</td>\n",
       "      <td>VWPassat</td>\n",
       "    </tr>\n",
       "    <tr>\n",
       "      <th>398</th>\n",
       "      <td>96.0</td>\n",
       "      <td>5.72</td>\n",
       "      <td>VWPassat_96.MP4</td>\n",
       "      <td>VWPassat</td>\n",
       "    </tr>\n",
       "    <tr>\n",
       "      <th>399</th>\n",
       "      <td>98.0</td>\n",
       "      <td>5.99</td>\n",
       "      <td>VWPassat_98.MP4</td>\n",
       "      <td>VWPassat</td>\n",
       "    </tr>\n",
       "  </tbody>\n",
       "</table>\n",
       "</div>"
      ],
      "text/plain": [
       "     speed  time            image   vehicle\n",
       "395   90.0  5.20  VWPassat_90.MP4  VWPassat\n",
       "396   91.0  5.45  VWPassat_91.MP4  VWPassat\n",
       "397   94.0  6.00  VWPassat_94.MP4  VWPassat\n",
       "398   96.0  5.72  VWPassat_96.MP4  VWPassat\n",
       "399   98.0  5.99  VWPassat_98.MP4  VWPassat"
      ]
     },
     "execution_count": 15,
     "metadata": {},
     "output_type": "execute_result"
    }
   ],
   "source": [
    "df_combined.tail()"
   ]
  },
  {
   "cell_type": "code",
   "execution_count": 16,
   "metadata": {
    "collapsed": false,
    "jupyter": {
     "outputs_hidden": false
    },
    "pycharm": {
     "name": "#%%\n"
    }
   },
   "outputs": [
    {
     "name": "stdout",
     "output_type": "stream",
     "text": [
      "1\n",
      "NVIDIA GeForce RTX 4060 Ti\n"
     ]
    }
   ],
   "source": [
    "if torch.cuda.is_available():\n",
    "    print(torch.cuda.device_count())\n",
    "    print(torch.cuda.get_device_name(torch.cuda.current_device()))\n",
    "    device = 'cuda'\n",
    "else:\n",
    "    print(\"CUDA is not available. Using CPU...\")"
   ]
  },
  {
   "cell_type": "code",
   "execution_count": 17,
   "metadata": {
    "collapsed": false,
    "jupyter": {
     "outputs_hidden": false
    },
    "pycharm": {
     "name": "#%%\n"
    }
   },
   "outputs": [],
   "source": [
    "i = 5164\n",
    "text_content = []\n",
    "file_name = 'data/speed.txt'\n",
    "for cars in os.listdir('content'):    \n",
    "    for data in os.listdir('content/'+cars):\n",
    "        if '.MP4' in data and i < 2:  \n",
    "            video = VideoFileClip(f'content/{cars}/{data}')\n",
    "            second2 = df_combined[df_combined['image'] == data]['time'].values[0] + 1.5\n",
    "            second1 = second2 - 4.5\n",
    "            video_cut = video.subclip(second1, second2)\n",
    "            video_cut.write_videofile(f'data/{data}', codec=\"libx264\")\n",
    "\n",
    "            text_content.append(str(df_combined[df_combined['image'] == data]['speed'].values[0]) + '\\t' + str(df_combined[df_combined['image'] == data]['image'].values[0]) + '\\n')\n",
    "        i += 1\n",
    "if i < 2:  \n",
    "    with open(file_name, 'w') as file:\n",
    "        file.writelines(text_content)"
   ]
  },
  {
   "cell_type": "code",
   "execution_count": 18,
   "metadata": {
    "collapsed": false,
    "jupyter": {
     "outputs_hidden": false
    },
    "pycharm": {
     "name": "#%%\n"
    }
   },
   "outputs": [],
   "source": [
    "def reproduce_video(video):\n",
    "    try:\n",
    "        cap = cv2.VideoCapture(video)\n",
    "        if not cap.isOpened():\n",
    "            print(f\"Error: Could not open video {video}\")\n",
    "            return\n",
    "        ret, frame = cap.read()\n",
    "        if not ret:\n",
    "            print(\"Error: Could not read the first frame\")\n",
    "            return\n",
    "        cv2.imshow('Video', frame)\n",
    "        print(\"Press any key to start the video...\")\n",
    "        cv2.waitKey(0)\n",
    "        while cap.isOpened():\n",
    "            ret, frame = cap.read()\n",
    "            if not ret:\n",
    "                break\n",
    "            cv2.imshow('Video', frame)\n",
    "            if cv2.waitKey(25) & 0xFF == ord('q'):\n",
    "                break\n",
    "        cap.release()\n",
    "        cv2.destroyAllWindows()\n",
    "    \n",
    "    except Exception as e:\n",
    "        print(\"Error:\", e)\n",
    "        if cap:\n",
    "            cap.release()\n",
    "        cv2.destroyAllWindows()\n"
   ]
  },
  {
   "cell_type": "code",
   "execution_count": 19,
   "metadata": {
    "collapsed": false,
    "jupyter": {
     "outputs_hidden": false
    },
    "pycharm": {
     "name": "#%%\n"
    }
   },
   "outputs": [],
   "source": [
    "def reproduce_video_from_np(frames_np, fps=30):\n",
    "    delay = int(1000 / fps)\n",
    "    for frame in frames_np:\n",
    "        cv2.imshow('Reproduced Video', frame)\n",
    "        if cv2.waitKey(delay) & 0xFF == ord('q'):\n",
    "            break\n",
    "    cv2.destroyAllWindows()\n"
   ]
  },
  {
   "cell_type": "code",
   "execution_count": 20,
   "metadata": {
    "collapsed": false,
    "jupyter": {
     "outputs_hidden": false
    },
    "pycharm": {
     "name": "#%%\n"
    }
   },
   "outputs": [],
   "source": [
    "#reproduce_video('data/VWPassat_85.MP4')"
   ]
  },
  {
   "cell_type": "code",
   "execution_count": 21,
   "metadata": {
    "collapsed": false,
    "jupyter": {
     "outputs_hidden": false
    },
    "pycharm": {
     "name": "#%%\n"
    }
   },
   "outputs": [],
   "source": [
    "class DataLoaderVideo():\n",
    "    def __init__(self, path, top_len_dataset=160, height=128, width=128, channels=3):\n",
    "        self.path = path\n",
    "        self.height = height\n",
    "        self.width = width\n",
    "        self.channels = channels\n",
    "        self.top_len_dataset = top_len_dataset\n",
    "        self.data_image = None\n",
    "        self.data_speed = None\n",
    "        self.data_real_image = None\n",
    "        self.data_real_speed = None\n",
    "        self.input_size = self.height * self.width * self.channels\n",
    "\n",
    "    def load_dataset(self):\n",
    "        self.data_image, self.data_speed = self.extract_frames(self.path)\n",
    "\n",
    "    def get_data_split(self):\n",
    "        X_train_val, X_test, y_train_val, y_test = train_test_split(self.data_image, self.data_speed, test_size=0.15, random_state=42)\n",
    "        self.data_real_image = X_test\n",
    "        self.data_real_speed = y_test\n",
    "        return train_test_split(X_train_val, y_train_val, test_size=0.15, random_state=42)\n",
    "\n",
    "    def extract_frames(self, path_to_videos):\n",
    "        video_speed_map = self._load_speed_file(os.path.join(path_to_videos, 'speed.txt'))\n",
    "\n",
    "        # Randomly choose `top_len_dataset` videos\n",
    "        video_files = [file for file in os.listdir(path_to_videos) if file.endswith('.MP4')]\n",
    "        selected_videos = random.sample(video_files, min(self.top_len_dataset, len(video_files)))\n",
    "\n",
    "        all_frames = []\n",
    "        all_speeds = []\n",
    "\n",
    "        # Use a thread pool for parallel video processing\n",
    "        with ThreadPoolExecutor(max_workers=4) as executor:\n",
    "            results = list(executor.map(lambda video: self._process_video(video, video_speed_map, path_to_videos), selected_videos))\n",
    "\n",
    "        for frames, speed in results:\n",
    "            if frames is not None:\n",
    "                all_frames.append(frames)\n",
    "                all_speeds.append(speed)\n",
    "\n",
    "        return np.array(all_frames), np.array(all_speeds)\n",
    "\n",
    "    def _load_speed_file(self, speed_file_path):\n",
    "        video_speed_map = {}\n",
    "        with open(speed_file_path, 'r') as file:\n",
    "            for line in file:\n",
    "                speed, video = line.strip().split('\\t')\n",
    "                video_speed_map[video] = float(speed)\n",
    "        return video_speed_map\n",
    "\n",
    "    def _process_video(self, video_file, video_speed_map, path_to_videos, max_frames_per_video=120):\n",
    "        video_path = os.path.join(path_to_videos, video_file)\n",
    "        cap = cv2.VideoCapture(video_path)\n",
    "\n",
    "        if not cap.isOpened():\n",
    "            return None, None\n",
    "\n",
    "        frames = []\n",
    "        video_speed = video_speed_map.get(video_file, 0)\n",
    "\n",
    "        while len(frames) < max_frames_per_video:\n",
    "            ret, frame = cap.read()\n",
    "            if not ret:\n",
    "                break\n",
    "            frame_resized = cv2.resize(frame, (self.width, self.height))\n",
    "            frames.append(frame_resized)\n",
    "\n",
    "        cap.release()\n",
    "        cv2.destroyAllWindows()\n",
    "\n",
    "        if len(frames) > max_frames_per_video:\n",
    "            frames = frames[-max_frames_per_video:]  # Tomar los últimos frames\n",
    "    \n",
    "        return np.array(frames), video_speed"
   ]
  },
  {
   "cell_type": "code",
   "execution_count": 22,
   "metadata": {
    "collapsed": false,
    "jupyter": {
     "outputs_hidden": false
    },
    "pycharm": {
     "name": "#%%\n"
    }
   },
   "outputs": [],
   "source": [
    "data_loader = DataLoaderVideo('data/', top_len_dataset=400, height=160, width=160)\n",
    "data_loader.load_dataset()"
   ]
  },
  {
   "cell_type": "code",
   "execution_count": 23,
   "metadata": {
    "collapsed": false,
    "jupyter": {
     "outputs_hidden": false
    },
    "pycharm": {
     "name": "#%%\n"
    }
   },
   "outputs": [
    {
     "data": {
      "text/plain": [
       "(400, 120, 160, 160, 3)"
      ]
     },
     "execution_count": 23,
     "metadata": {},
     "output_type": "execute_result"
    }
   ],
   "source": [
    "data_loader.data_image.shape"
   ]
  },
  {
   "cell_type": "code",
   "execution_count": 24,
   "metadata": {
    "collapsed": false,
    "jupyter": {
     "outputs_hidden": false
    },
    "pycharm": {
     "name": "#%%\n"
    }
   },
   "outputs": [
    {
     "data": {
      "text/plain": [
       "(400,)"
      ]
     },
     "execution_count": 24,
     "metadata": {},
     "output_type": "execute_result"
    }
   ],
   "source": [
    "data_loader.data_speed.shape"
   ]
  },
  {
   "cell_type": "code",
   "execution_count": 25,
   "metadata": {
    "collapsed": false,
    "jupyter": {
     "outputs_hidden": false
    },
    "pycharm": {
     "name": "#%%\n"
    }
   },
   "outputs": [],
   "source": [
    "reproduce_video_from_np(data_loader.data_image[0])"
   ]
  },
  {
   "cell_type": "code",
   "execution_count": 26,
   "metadata": {
    "collapsed": false,
    "jupyter": {
     "outputs_hidden": false
    },
    "pycharm": {
     "name": "#%%\n"
    }
   },
   "outputs": [
    {
     "data": {
      "text/plain": [
       "40.0"
      ]
     },
     "execution_count": 26,
     "metadata": {},
     "output_type": "execute_result"
    }
   ],
   "source": [
    "data_loader.data_speed[0]"
   ]
  },
  {
   "cell_type": "code",
   "execution_count": 27,
   "metadata": {
    "collapsed": false,
    "jupyter": {
     "outputs_hidden": false
    },
    "pycharm": {
     "name": "#%%\n"
    }
   },
   "outputs": [
    {
     "data": {
      "text/plain": [
       "40.0"
      ]
     },
     "execution_count": 27,
     "metadata": {},
     "output_type": "execute_result"
    }
   ],
   "source": [
    "data_loader.data_speed[0]"
   ]
  },
  {
   "cell_type": "code",
   "execution_count": 28,
   "metadata": {
    "collapsed": false,
    "jupyter": {
     "outputs_hidden": false
    },
    "pycharm": {
     "name": "#%%\n"
    }
   },
   "outputs": [],
   "source": [
    "X_train, X_test, y_train, y_test = data_loader.get_data_split()"
   ]
  },
  {
   "cell_type": "code",
   "execution_count": 29,
   "metadata": {
    "collapsed": false,
    "jupyter": {
     "outputs_hidden": false
    },
    "pycharm": {
     "name": "#%%\n"
    }
   },
   "outputs": [
    {
     "data": {
      "text/plain": [
       "(60, 120, 160, 160, 3)"
      ]
     },
     "execution_count": 29,
     "metadata": {},
     "output_type": "execute_result"
    }
   ],
   "source": [
    "data_loader.data_real_image.shape"
   ]
  },
  {
   "cell_type": "code",
   "execution_count": 30,
   "metadata": {
    "collapsed": false,
    "jupyter": {
     "outputs_hidden": false
    },
    "pycharm": {
     "name": "#%%\n"
    }
   },
   "outputs": [
    {
     "data": {
      "text/plain": [
       "(51, 120, 160, 160, 3)"
      ]
     },
     "execution_count": 30,
     "metadata": {},
     "output_type": "execute_result"
    }
   ],
   "source": [
    "X_test.shape"
   ]
  },
  {
   "cell_type": "code",
   "execution_count": 31,
   "metadata": {
    "collapsed": false,
    "jupyter": {
     "outputs_hidden": false
    },
    "pycharm": {
     "name": "#%%\n"
    }
   },
   "outputs": [
    {
     "data": {
      "text/plain": [
       "(289, 120, 160, 160, 3)"
      ]
     },
     "execution_count": 31,
     "metadata": {},
     "output_type": "execute_result"
    }
   ],
   "source": [
    "X_train.shape"
   ]
  },
  {
   "cell_type": "code",
   "execution_count": 32,
   "metadata": {
    "collapsed": false,
    "jupyter": {
     "outputs_hidden": false
    },
    "pycharm": {
     "name": "#%%\n"
    }
   },
   "outputs": [],
   "source": [
    "def save_checkpoint(state, filename='checkpoint.pth'):\n",
    "    torch.save(state, filename)\n",
    "    print(f\"Checkpoint guardado en {filename}\")\n",
    "\n",
    "def load_checkpoint(filename='checkpoint.pth', model=None, optimizer=None):\n",
    "    \"\"\"Cargar el estado del modelo y el optimizador desde un archivo de checkpoint\"\"\"\n",
    "    if os.path.isfile(filename):\n",
    "        checkpoint = torch.load(filename)\n",
    "        model.load_state_dict(checkpoint['model_state_dict'])\n",
    "        optimizer.load_state_dict(checkpoint['optimizer_state_dict'])\n",
    "        epoch = checkpoint['epoch']\n",
    "        best_val_loss = checkpoint['best_val_loss']\n",
    "        print(f\"Checkpoint cargado desde {filename}. Reanudar desde la época {epoch}.\")\n",
    "        return epoch, best_val_loss\n",
    "    else:\n",
    "        print(f\"No se encontró el archivo {filename}. Empezando desde la época 0.\")\n",
    "        return 0, float('inf')  # Iniciar desde la época 0 y con la mejor pérdida infinita"
   ]
  },
  {
   "cell_type": "code",
   "execution_count": 33,
   "metadata": {
    "collapsed": false,
    "jupyter": {
     "outputs_hidden": false
    },
    "pycharm": {
     "name": "#%%\n"
    }
   },
   "outputs": [],
   "source": [
    "class CNN3D(nn.Module):\n",
    "    def __init__(self, learning_rate=0.0001):\n",
    "        super(CNN3D, self).__init__()\n",
    "        self.model = nn.Sequential(\n",
    "            nn.Conv3d(in_channels=3, out_channels=32, kernel_size=(3, 3, 3), padding=1),  # padding=1 for 'same'\n",
    "            nn.BatchNorm3d(32),\n",
    "            nn.LeakyReLU(),\n",
    "            nn.MaxPool3d(kernel_size=(3, 3, 3), padding=1),\n",
    "            \n",
    "            nn.Conv3d(in_channels=32, out_channels=32, kernel_size=(3, 3, 3), padding=1),\n",
    "            nn.BatchNorm3d(32),\n",
    "            nn.LeakyReLU(),\n",
    "            nn.MaxPool3d(kernel_size=(3, 3, 3), padding=1),\n",
    "            \n",
    "            nn.Conv3d(in_channels=32, out_channels=64, kernel_size=(3, 3, 3), padding=1),\n",
    "            nn.BatchNorm3d(64),\n",
    "            nn.LeakyReLU(),\n",
    "            nn.MaxPool3d(kernel_size=(3, 3, 3), padding=1),\n",
    "            \n",
    "            nn.Conv3d(in_channels=64, out_channels=64, kernel_size=(3, 3, 3), padding=1),\n",
    "            nn.BatchNorm3d(64),\n",
    "            nn.LeakyReLU(),\n",
    "            nn.MaxPool3d(kernel_size=(3, 3, 3), padding=1),\n",
    "\n",
    "            nn.Conv3d(in_channels=64, out_channels=64, kernel_size=(3, 3, 3), padding=1),\n",
    "            nn.LeakyReLU(),\n",
    "            nn.MaxPool3d(kernel_size=(3, 3, 3), padding=1),\n",
    "\n",
    "            nn.Flatten()\n",
    "        )\n",
    "        self.fc = nn.Sequential(\n",
    "            nn.Linear(64, 32),\n",
    "            nn.ReLU(),\n",
    "            nn.Linear(32, 1)\n",
    "        )\n",
    "        \n",
    "    def forward(self, video_frames):\n",
    "        x = self.model(video_frames)\n",
    "        print(f\"Shape before flatten: {x.shape}\")  # Print shape before flattening\n",
    "        x = self.fc(x)\n",
    "        return x\n"
   ]
  },
  {
   "cell_type": "code",
   "execution_count": 34,
   "metadata": {
    "collapsed": false,
    "jupyter": {
     "outputs_hidden": false
    },
    "pycharm": {
     "name": "#%%\n"
    }
   },
   "outputs": [],
   "source": [
    "class ListModule(nn.Module):\n",
    "    def __init__(self, model_name):\n",
    "        super(ListModule, self).__init__()\n",
    "        \n",
    "        if model_name == \"ResNet3D\":\n",
    "            self.model = models.video.r3d_18(pretrained=True)\n",
    "            num_ftrs = self.model.fc.in_features\n",
    "            self.model.fc =nn.Sequential(\n",
    "                nn.Linear(num_ftrs, 32),\n",
    "                nn.ReLU(),\n",
    "                nn.Linear(32, 1)\n",
    "            )\n",
    "\n",
    "        elif model_name == \"MC3_18\":\n",
    "            self.model = models.video.mc3_18(pretrained=True)\n",
    "            num_ftrs = self.model.fc.in_features\n",
    "            self.model.fc =nn.Sequential(\n",
    "                nn.Linear(num_ftrs, 32),\n",
    "                nn.ReLU(),\n",
    "                nn.Linear(32, 1)\n",
    "            )\n",
    "        elif model_name == \"R2Plus1D\":\n",
    "            self.model = models.video.r2plus1d_18(pretrained=True)\n",
    "            num_ftrs = self.model.fc.in_features\n",
    "            self.model.fc =nn.Sequential(\n",
    "                nn.Linear(num_ftrs, 32),\n",
    "                nn.ReLU(),\n",
    "                nn.Linear(32, 1)\n",
    "            )\n",
    "\n",
    "        elif model_name == \"CNN3D\":\n",
    "            self.model = nn.Sequential(\n",
    "                nn.Conv3d(in_channels=3, out_channels=32, kernel_size=(3, 3, 3), padding=1),  # padding=1 for 'same'\n",
    "                nn.BatchNorm3d(32),\n",
    "                nn.LeakyReLU(),\n",
    "                nn.MaxPool3d(kernel_size=(3, 3, 3), padding=1),\n",
    "            \n",
    "                nn.Conv3d(in_channels=32, out_channels=32, kernel_size=(3, 3, 3), padding=1),\n",
    "                nn.BatchNorm3d(32),\n",
    "                nn.LeakyReLU(),\n",
    "                nn.MaxPool3d(kernel_size=(3, 3, 3), padding=1),\n",
    "            \n",
    "                nn.Conv3d(in_channels=32, out_channels=64, kernel_size=(3, 3, 3), padding=1),\n",
    "                nn.BatchNorm3d(64),\n",
    "                nn.LeakyReLU(),\n",
    "                nn.MaxPool3d(kernel_size=(3, 3, 3), padding=1),\n",
    "            \n",
    "                nn.Conv3d(in_channels=64, out_channels=64, kernel_size=(3, 3, 3), padding=1),\n",
    "                nn.BatchNorm3d(64),\n",
    "                nn.LeakyReLU(),\n",
    "                nn.MaxPool3d(kernel_size=(3, 3, 3), padding=1),\n",
    "\n",
    "                nn.Conv3d(in_channels=64, out_channels=64, kernel_size=(3, 3, 3), padding=1),\n",
    "                nn.LeakyReLU(),\n",
    "                nn.MaxPool3d(kernel_size=(3, 3, 3), padding=1),\n",
    "\n",
    "                nn.Flatten()\n",
    "            )\n",
    "            self.model.fc = nn.Sequential(\n",
    "                nn.Linear(64, 32),\n",
    "                nn.ReLU(),\n",
    "                nn.Linear(32, 1)\n",
    "            )\n",
    "            \n",
    "\n",
    "    def forward(self, x):\n",
    "        x = self.model(x)\n",
    "        return x"
   ]
  },
  {
   "cell_type": "code",
   "execution_count": 35,
   "metadata": {
    "collapsed": false,
    "jupyter": {
     "outputs_hidden": false
    },
    "pycharm": {
     "name": "#%%\n"
    }
   },
   "outputs": [],
   "source": [
    "def train_and_validate_model(model, train_loader, test_loader, input_size, output_size, batch_size=32, num_epochs=10, patience=20, learning_rate=0.01 , model_name=\"best_model.pth\", checkpoint_path=\"checkpoint.pth\"):\n",
    "    model.to(device)\n",
    "    criterion = nn.MSELoss()\n",
    "    optimizer = optim.Adam(model.parameters(), lr=learning_rate, weight_decay=1e-4)\n",
    "    scheduler = torch.optim.lr_scheduler.ReduceLROnPlateau(optimizer, mode='min', factor=0.5, patience=patience)\n",
    "    train_losses = []\n",
    "    val_losses = []\n",
    "    best_val_loss = float('inf')\n",
    "    best_model_wts = copy.deepcopy(model.state_dict()) \n",
    "    epochs_no_improve = 0\n",
    "\n",
    "    start_epoch, best_val_loss = load_checkpoint(checkpoint_path, model, optimizer)\n",
    "\n",
    "\n",
    "    for epoch in range(num_epochs):\n",
    "        model.train()\n",
    "        train_loss = 0\n",
    "\n",
    "        with tqdm(total=len(train_loader), desc=f'Epoch {epoch+1}/{num_epochs}', unit='batch') as pbar:\n",
    "            for X_batch, y_batch in train_loader:\n",
    "                X_batch, y_batch = X_batch.to(device), y_batch.to(device)\n",
    "                optimizer.zero_grad()\n",
    "                train_output = model(X_batch)\n",
    "                loss = criterion(train_output, y_batch)\n",
    "                loss.backward()\n",
    "                optimizer.step()\n",
    "                train_loss += loss.item() * X_batch.size(0)\n",
    "                pbar.set_postfix({'Train Loss': train_loss / len(train_loader.dataset)})\n",
    "                pbar.update(1)\n",
    "        \n",
    "        train_loss /= len(train_loader.dataset)\n",
    "\n",
    "        model.eval()\n",
    "        val_loss = 0\n",
    "        with torch.no_grad():\n",
    "            with tqdm(total=len(test_loader), desc=f'Validation {epoch+1}/{num_epochs}', unit='batch') as pbar_val:\n",
    "                for X_batch, y_batch in test_loader:\n",
    "                    X_batch, y_batch = X_batch.to(device), y_batch.to(device)\n",
    "                    test_output = model(X_batch)\n",
    "                    loss = criterion(test_output, y_batch)\n",
    "                    val_loss += loss.item() * X_batch.size(0)\n",
    "                    pbar_val.update(1)\n",
    "        \n",
    "        val_loss /= len(test_loader.dataset)\n",
    "\n",
    "        train_losses.append(train_loss)\n",
    "        val_losses.append(val_loss)\n",
    "\n",
    "        scheduler.step(val_loss)\n",
    "        \n",
    "        print(f'Epoch [{epoch+1}/{num_epochs}], Training Loss: {train_loss:.4f}, Validation Loss: {val_loss:.4f}')\n",
    "\n",
    "        if val_loss < best_val_loss:\n",
    "            best_val_loss = val_loss\n",
    "            best_model_wts = copy.deepcopy(model.state_dict())\n",
    "            #save_checkpoint({'epoch': epoch + 1,'model_state_dict': model.state_dict(),'optimizer_state_dict': optimizer.state_dict(),'best_val_loss': best_val_loss}, filename=checkpoint_path)\n",
    "            epochs_no_improve = 0\n",
    "        else:\n",
    "            epochs_no_improve += 1\n",
    "\n",
    "        if epochs_no_improve >= patience:\n",
    "            print(\"Early stopping triggered.\")\n",
    "            break\n",
    "\n",
    "    \n",
    "    model.load_state_dict(best_model_wts)\n",
    "    return model, best_val_loss, train_losses, val_losses\n"
   ]
  },
  {
   "cell_type": "code",
   "execution_count": 36,
   "metadata": {
    "collapsed": false,
    "jupyter": {
     "outputs_hidden": false
    },
    "pycharm": {
     "name": "#%%\n"
    }
   },
   "outputs": [],
   "source": [
    "lr = 0.00003\n",
    "output_size = 1 \n",
    "batch_size = 6\n",
    "num_epochs = 120\n",
    "#models_train = [ 'R2Plus1D', 'CNN3D', 'MC3_18', 'ResNet3D']\n",
    "models_train = ['CNN3D']"
   ]
  },
  {
   "cell_type": "code",
   "execution_count": 37,
   "metadata": {
    "collapsed": false,
    "jupyter": {
     "outputs_hidden": false
    },
    "pycharm": {
     "name": "#%%\n"
    }
   },
   "outputs": [],
   "source": [
    "X_train_tensor = torch.tensor(X_train, dtype=torch.float32).permute(0, 4, 1, 2, 3)\n",
    "X_test_tensor = torch.tensor(X_test, dtype=torch.float32).permute(0, 4, 1, 2, 3)\n",
    "y_train_tensor = torch.tensor(y_train, dtype=torch.float32).unsqueeze(1)\n",
    "y_test_tensor = torch.tensor(y_test, dtype=torch.float32).unsqueeze(1)\n",
    "\n",
    "train_dataset = TensorDataset(X_train_tensor, y_train_tensor)\n",
    "test_dataset = TensorDataset(X_test_tensor, y_test_tensor)\n",
    "\n",
    "train_loader = DataLoader(train_dataset, batch_size, shuffle=True)\n",
    "test_loader = DataLoader(test_dataset, batch_size, shuffle=False)"
   ]
  },
  {
   "cell_type": "code",
   "execution_count": 38,
   "metadata": {
    "collapsed": false,
    "jupyter": {
     "outputs_hidden": false
    },
    "pycharm": {
     "name": "#%%\n"
    }
   },
   "outputs": [
    {
     "name": "stdout",
     "output_type": "stream",
     "text": [
      "torch.Size([6, 3, 120, 160, 160]) torch.Size([6, 1])\n"
     ]
    }
   ],
   "source": [
    "for X_batch, y_batch in train_loader:\n",
    "    print(X_batch.shape, y_batch.shape)\n",
    "    #model = CNN3D()\n",
    "    #model.to(device)\n",
    "    #model(X_batch.to(device))\n",
    "    break"
   ]
  },
  {
   "cell_type": "code",
   "execution_count": 39,
   "metadata": {
    "collapsed": false,
    "jupyter": {
     "outputs_hidden": false
    },
    "pycharm": {
     "name": "#%%\n"
    }
   },
   "outputs": [
    {
     "name": "stdout",
     "output_type": "stream",
     "text": [
      "No se encontró el archivo model_lrCNN3D.pth. Empezando desde la época 0.\n"
     ]
    },
    {
     "name": "stderr",
     "output_type": "stream",
     "text": [
      "Epoch 1/120: 100%|██████████| 49/49 [00:19<00:00,  2.50batch/s, Train Loss=4.86e+3]\n",
      "Validation 1/120: 100%|██████████| 9/9 [00:01<00:00,  5.18batch/s]\n"
     ]
    },
    {
     "name": "stdout",
     "output_type": "stream",
     "text": [
      "Epoch [1/120], Training Loss: 4859.5042, Validation Loss: 4704.3702\n"
     ]
    },
    {
     "name": "stderr",
     "output_type": "stream",
     "text": [
      "Epoch 2/120: 100%|██████████| 49/49 [00:16<00:00,  2.89batch/s, Train Loss=4.72e+3]\n",
      "Validation 2/120: 100%|██████████| 9/9 [00:01<00:00,  6.01batch/s]\n"
     ]
    },
    {
     "name": "stdout",
     "output_type": "stream",
     "text": [
      "Epoch [2/120], Training Loss: 4716.8499, Validation Loss: 4535.2364\n"
     ]
    },
    {
     "name": "stderr",
     "output_type": "stream",
     "text": [
      "Epoch 3/120: 100%|██████████| 49/49 [00:16<00:00,  3.00batch/s, Train Loss=4.52e+3]\n",
      "Validation 3/120: 100%|██████████| 9/9 [00:01<00:00,  6.34batch/s]\n"
     ]
    },
    {
     "name": "stdout",
     "output_type": "stream",
     "text": [
      "Epoch [3/120], Training Loss: 4516.0074, Validation Loss: 4329.7618\n"
     ]
    },
    {
     "name": "stderr",
     "output_type": "stream",
     "text": [
      "Epoch 4/120: 100%|██████████| 49/49 [00:16<00:00,  3.04batch/s, Train Loss=4.22e+3]\n",
      "Validation 4/120: 100%|██████████| 9/9 [00:01<00:00,  6.45batch/s]\n"
     ]
    },
    {
     "name": "stdout",
     "output_type": "stream",
     "text": [
      "Epoch [4/120], Training Loss: 4224.1988, Validation Loss: 3966.0092\n"
     ]
    },
    {
     "name": "stderr",
     "output_type": "stream",
     "text": [
      "Epoch 5/120: 100%|██████████| 49/49 [00:16<00:00,  3.04batch/s, Train Loss=3.85e+3]\n",
      "Validation 5/120: 100%|██████████| 9/9 [00:01<00:00,  6.41batch/s]\n"
     ]
    },
    {
     "name": "stdout",
     "output_type": "stream",
     "text": [
      "Epoch [5/120], Training Loss: 3849.6745, Validation Loss: 3600.4919\n"
     ]
    },
    {
     "name": "stderr",
     "output_type": "stream",
     "text": [
      "Epoch 6/120: 100%|██████████| 49/49 [00:16<00:00,  3.04batch/s, Train Loss=3.42e+3]\n",
      "Validation 6/120: 100%|██████████| 9/9 [00:01<00:00,  6.42batch/s]\n"
     ]
    },
    {
     "name": "stdout",
     "output_type": "stream",
     "text": [
      "Epoch [6/120], Training Loss: 3422.9023, Validation Loss: 3186.6880\n"
     ]
    },
    {
     "name": "stderr",
     "output_type": "stream",
     "text": [
      "Epoch 7/120: 100%|██████████| 49/49 [00:16<00:00,  3.04batch/s, Train Loss=2.95e+3]\n",
      "Validation 7/120: 100%|██████████| 9/9 [00:01<00:00,  6.40batch/s]\n"
     ]
    },
    {
     "name": "stdout",
     "output_type": "stream",
     "text": [
      "Epoch [7/120], Training Loss: 2951.0050, Validation Loss: 2776.3659\n"
     ]
    },
    {
     "name": "stderr",
     "output_type": "stream",
     "text": [
      "Epoch 8/120: 100%|██████████| 49/49 [00:16<00:00,  3.05batch/s, Train Loss=2.47e+3]\n",
      "Validation 8/120: 100%|██████████| 9/9 [00:01<00:00,  5.80batch/s]\n"
     ]
    },
    {
     "name": "stdout",
     "output_type": "stream",
     "text": [
      "Epoch [8/120], Training Loss: 2466.9956, Validation Loss: 2363.1971\n"
     ]
    },
    {
     "name": "stderr",
     "output_type": "stream",
     "text": [
      "Epoch 9/120: 100%|██████████| 49/49 [00:16<00:00,  3.01batch/s, Train Loss=1.99e+3]\n",
      "Validation 9/120: 100%|██████████| 9/9 [00:01<00:00,  6.30batch/s]\n"
     ]
    },
    {
     "name": "stdout",
     "output_type": "stream",
     "text": [
      "Epoch [9/120], Training Loss: 1989.3441, Validation Loss: 1719.7458\n"
     ]
    },
    {
     "name": "stderr",
     "output_type": "stream",
     "text": [
      "Epoch 10/120: 100%|██████████| 49/49 [00:16<00:00,  3.03batch/s, Train Loss=1.56e+3]\n",
      "Validation 10/120: 100%|██████████| 9/9 [00:01<00:00,  6.43batch/s]\n"
     ]
    },
    {
     "name": "stdout",
     "output_type": "stream",
     "text": [
      "Epoch [10/120], Training Loss: 1557.8838, Validation Loss: 1473.0695\n"
     ]
    },
    {
     "name": "stderr",
     "output_type": "stream",
     "text": [
      "Epoch 11/120: 100%|██████████| 49/49 [00:16<00:00,  2.99batch/s, Train Loss=1.19e+3]\n",
      "Validation 11/120: 100%|██████████| 9/9 [00:01<00:00,  6.40batch/s]\n"
     ]
    },
    {
     "name": "stdout",
     "output_type": "stream",
     "text": [
      "Epoch [11/120], Training Loss: 1193.4933, Validation Loss: 1159.9838\n"
     ]
    },
    {
     "name": "stderr",
     "output_type": "stream",
     "text": [
      "Epoch 12/120: 100%|██████████| 49/49 [00:16<00:00,  3.02batch/s, Train Loss=905]\n",
      "Validation 12/120: 100%|██████████| 9/9 [00:01<00:00,  6.42batch/s]\n"
     ]
    },
    {
     "name": "stdout",
     "output_type": "stream",
     "text": [
      "Epoch [12/120], Training Loss: 905.3197, Validation Loss: 785.9543\n"
     ]
    },
    {
     "name": "stderr",
     "output_type": "stream",
     "text": [
      "Epoch 13/120: 100%|██████████| 49/49 [00:16<00:00,  3.04batch/s, Train Loss=683]\n",
      "Validation 13/120: 100%|██████████| 9/9 [00:01<00:00,  6.46batch/s]\n"
     ]
    },
    {
     "name": "stdout",
     "output_type": "stream",
     "text": [
      "Epoch [13/120], Training Loss: 683.4414, Validation Loss: 714.3386\n"
     ]
    },
    {
     "name": "stderr",
     "output_type": "stream",
     "text": [
      "Epoch 14/120: 100%|██████████| 49/49 [00:16<00:00,  3.04batch/s, Train Loss=519]\n",
      "Validation 14/120: 100%|██████████| 9/9 [00:01<00:00,  6.45batch/s]\n"
     ]
    },
    {
     "name": "stdout",
     "output_type": "stream",
     "text": [
      "Epoch [14/120], Training Loss: 519.0851, Validation Loss: 531.0987\n"
     ]
    },
    {
     "name": "stderr",
     "output_type": "stream",
     "text": [
      "Epoch 15/120: 100%|██████████| 49/49 [00:16<00:00,  3.04batch/s, Train Loss=409] \n",
      "Validation 15/120: 100%|██████████| 9/9 [00:01<00:00,  6.45batch/s]\n"
     ]
    },
    {
     "name": "stdout",
     "output_type": "stream",
     "text": [
      "Epoch [15/120], Training Loss: 409.3399, Validation Loss: 471.2089\n"
     ]
    },
    {
     "name": "stderr",
     "output_type": "stream",
     "text": [
      "Epoch 16/120: 100%|██████████| 49/49 [00:16<00:00,  3.04batch/s, Train Loss=334] \n",
      "Validation 16/120: 100%|██████████| 9/9 [00:01<00:00,  6.42batch/s]\n"
     ]
    },
    {
     "name": "stdout",
     "output_type": "stream",
     "text": [
      "Epoch [16/120], Training Loss: 333.8661, Validation Loss: 353.0193\n"
     ]
    },
    {
     "name": "stderr",
     "output_type": "stream",
     "text": [
      "Epoch 17/120: 100%|██████████| 49/49 [00:16<00:00,  3.05batch/s, Train Loss=277] \n",
      "Validation 17/120: 100%|██████████| 9/9 [00:01<00:00,  6.48batch/s]\n"
     ]
    },
    {
     "name": "stdout",
     "output_type": "stream",
     "text": [
      "Epoch [17/120], Training Loss: 276.7242, Validation Loss: 364.6090\n"
     ]
    },
    {
     "name": "stderr",
     "output_type": "stream",
     "text": [
      "Epoch 18/120: 100%|██████████| 49/49 [00:16<00:00,  3.04batch/s, Train Loss=217] \n",
      "Validation 18/120: 100%|██████████| 9/9 [00:01<00:00,  6.41batch/s]\n"
     ]
    },
    {
     "name": "stdout",
     "output_type": "stream",
     "text": [
      "Epoch [18/120], Training Loss: 217.1295, Validation Loss: 244.2418\n"
     ]
    },
    {
     "name": "stderr",
     "output_type": "stream",
     "text": [
      "Epoch 19/120: 100%|██████████| 49/49 [00:16<00:00,  3.04batch/s, Train Loss=188] \n",
      "Validation 19/120: 100%|██████████| 9/9 [00:01<00:00,  6.43batch/s]\n"
     ]
    },
    {
     "name": "stdout",
     "output_type": "stream",
     "text": [
      "Epoch [19/120], Training Loss: 188.2528, Validation Loss: 229.6442\n"
     ]
    },
    {
     "name": "stderr",
     "output_type": "stream",
     "text": [
      "Epoch 20/120: 100%|██████████| 49/49 [00:16<00:00,  3.04batch/s, Train Loss=164] \n",
      "Validation 20/120: 100%|██████████| 9/9 [00:01<00:00,  6.43batch/s]\n"
     ]
    },
    {
     "name": "stdout",
     "output_type": "stream",
     "text": [
      "Epoch [20/120], Training Loss: 164.4460, Validation Loss: 203.6137\n"
     ]
    },
    {
     "name": "stderr",
     "output_type": "stream",
     "text": [
      "Epoch 21/120: 100%|██████████| 49/49 [00:16<00:00,  3.05batch/s, Train Loss=140] \n",
      "Validation 21/120: 100%|██████████| 9/9 [00:01<00:00,  6.42batch/s]\n"
     ]
    },
    {
     "name": "stdout",
     "output_type": "stream",
     "text": [
      "Epoch [21/120], Training Loss: 140.4884, Validation Loss: 349.0095\n"
     ]
    },
    {
     "name": "stderr",
     "output_type": "stream",
     "text": [
      "Epoch 22/120: 100%|██████████| 49/49 [00:16<00:00,  3.04batch/s, Train Loss=113] \n",
      "Validation 22/120: 100%|██████████| 9/9 [00:01<00:00,  6.41batch/s]\n"
     ]
    },
    {
     "name": "stdout",
     "output_type": "stream",
     "text": [
      "Epoch [22/120], Training Loss: 113.0508, Validation Loss: 148.0665\n"
     ]
    },
    {
     "name": "stderr",
     "output_type": "stream",
     "text": [
      "Epoch 23/120: 100%|██████████| 49/49 [00:16<00:00,  3.04batch/s, Train Loss=92.2]\n",
      "Validation 23/120: 100%|██████████| 9/9 [00:01<00:00,  6.39batch/s]\n"
     ]
    },
    {
     "name": "stdout",
     "output_type": "stream",
     "text": [
      "Epoch [23/120], Training Loss: 92.2012, Validation Loss: 181.9901\n"
     ]
    },
    {
     "name": "stderr",
     "output_type": "stream",
     "text": [
      "Epoch 24/120: 100%|██████████| 49/49 [00:16<00:00,  3.03batch/s, Train Loss=89.2]\n",
      "Validation 24/120: 100%|██████████| 9/9 [00:01<00:00,  6.42batch/s]\n"
     ]
    },
    {
     "name": "stdout",
     "output_type": "stream",
     "text": [
      "Epoch [24/120], Training Loss: 89.1637, Validation Loss: 109.4131\n"
     ]
    },
    {
     "name": "stderr",
     "output_type": "stream",
     "text": [
      "Epoch 25/120: 100%|██████████| 49/49 [00:16<00:00,  3.03batch/s, Train Loss=65.8]\n",
      "Validation 25/120: 100%|██████████| 9/9 [00:01<00:00,  6.41batch/s]\n"
     ]
    },
    {
     "name": "stdout",
     "output_type": "stream",
     "text": [
      "Epoch [25/120], Training Loss: 65.7847, Validation Loss: 102.1538\n"
     ]
    },
    {
     "name": "stderr",
     "output_type": "stream",
     "text": [
      "Epoch 26/120: 100%|██████████| 49/49 [00:16<00:00,  3.01batch/s, Train Loss=73.1]\n",
      "Validation 26/120: 100%|██████████| 9/9 [00:01<00:00,  6.49batch/s]\n"
     ]
    },
    {
     "name": "stdout",
     "output_type": "stream",
     "text": [
      "Epoch [26/120], Training Loss: 73.1413, Validation Loss: 91.3798\n"
     ]
    },
    {
     "name": "stderr",
     "output_type": "stream",
     "text": [
      "Epoch 27/120: 100%|██████████| 49/49 [00:16<00:00,  3.06batch/s, Train Loss=68.9]\n",
      "Validation 27/120: 100%|██████████| 9/9 [00:01<00:00,  6.47batch/s]\n"
     ]
    },
    {
     "name": "stdout",
     "output_type": "stream",
     "text": [
      "Epoch [27/120], Training Loss: 68.9357, Validation Loss: 87.8774\n"
     ]
    },
    {
     "name": "stderr",
     "output_type": "stream",
     "text": [
      "Epoch 28/120: 100%|██████████| 49/49 [00:16<00:00,  3.05batch/s, Train Loss=50.4]\n",
      "Validation 28/120: 100%|██████████| 9/9 [00:01<00:00,  6.52batch/s]\n"
     ]
    },
    {
     "name": "stdout",
     "output_type": "stream",
     "text": [
      "Epoch [28/120], Training Loss: 50.4489, Validation Loss: 69.5417\n"
     ]
    },
    {
     "name": "stderr",
     "output_type": "stream",
     "text": [
      "Epoch 29/120: 100%|██████████| 49/49 [00:16<00:00,  3.05batch/s, Train Loss=44.4]\n",
      "Validation 29/120: 100%|██████████| 9/9 [00:01<00:00,  6.56batch/s]\n"
     ]
    },
    {
     "name": "stdout",
     "output_type": "stream",
     "text": [
      "Epoch [29/120], Training Loss: 44.3572, Validation Loss: 67.5374\n"
     ]
    },
    {
     "name": "stderr",
     "output_type": "stream",
     "text": [
      "Epoch 30/120: 100%|██████████| 49/49 [00:15<00:00,  3.06batch/s, Train Loss=51]  \n",
      "Validation 30/120: 100%|██████████| 9/9 [00:01<00:00,  6.52batch/s]\n"
     ]
    },
    {
     "name": "stdout",
     "output_type": "stream",
     "text": [
      "Epoch [30/120], Training Loss: 50.9903, Validation Loss: 72.4612\n"
     ]
    },
    {
     "name": "stderr",
     "output_type": "stream",
     "text": [
      "Epoch 31/120: 100%|██████████| 49/49 [00:15<00:00,  3.07batch/s, Train Loss=39.9]\n",
      "Validation 31/120: 100%|██████████| 9/9 [00:01<00:00,  6.52batch/s]\n"
     ]
    },
    {
     "name": "stdout",
     "output_type": "stream",
     "text": [
      "Epoch [31/120], Training Loss: 39.8714, Validation Loss: 84.9117\n"
     ]
    },
    {
     "name": "stderr",
     "output_type": "stream",
     "text": [
      "Epoch 32/120: 100%|██████████| 49/49 [00:15<00:00,  3.06batch/s, Train Loss=40.8]\n",
      "Validation 32/120: 100%|██████████| 9/9 [00:01<00:00,  6.41batch/s]\n"
     ]
    },
    {
     "name": "stdout",
     "output_type": "stream",
     "text": [
      "Epoch [32/120], Training Loss: 40.8026, Validation Loss: 68.1840\n"
     ]
    },
    {
     "name": "stderr",
     "output_type": "stream",
     "text": [
      "Epoch 33/120: 100%|██████████| 49/49 [00:15<00:00,  3.07batch/s, Train Loss=41.7]\n",
      "Validation 33/120: 100%|██████████| 9/9 [00:01<00:00,  6.55batch/s]\n"
     ]
    },
    {
     "name": "stdout",
     "output_type": "stream",
     "text": [
      "Epoch [33/120], Training Loss: 41.6621, Validation Loss: 119.3089\n"
     ]
    },
    {
     "name": "stderr",
     "output_type": "stream",
     "text": [
      "Epoch 34/120: 100%|██████████| 49/49 [00:15<00:00,  3.07batch/s, Train Loss=38.7]\n",
      "Validation 34/120: 100%|██████████| 9/9 [00:01<00:00,  6.52batch/s]\n"
     ]
    },
    {
     "name": "stdout",
     "output_type": "stream",
     "text": [
      "Epoch [34/120], Training Loss: 38.6557, Validation Loss: 69.7300\n"
     ]
    },
    {
     "name": "stderr",
     "output_type": "stream",
     "text": [
      "Epoch 35/120: 100%|██████████| 49/49 [00:15<00:00,  3.07batch/s, Train Loss=34.4]\n",
      "Validation 35/120: 100%|██████████| 9/9 [00:01<00:00,  6.54batch/s]\n"
     ]
    },
    {
     "name": "stdout",
     "output_type": "stream",
     "text": [
      "Epoch [35/120], Training Loss: 34.4481, Validation Loss: 46.2514\n"
     ]
    },
    {
     "name": "stderr",
     "output_type": "stream",
     "text": [
      "Epoch 36/120: 100%|██████████| 49/49 [00:16<00:00,  3.04batch/s, Train Loss=30.5]\n",
      "Validation 36/120: 100%|██████████| 9/9 [00:01<00:00,  6.46batch/s]\n"
     ]
    },
    {
     "name": "stdout",
     "output_type": "stream",
     "text": [
      "Epoch [36/120], Training Loss: 30.5240, Validation Loss: 85.2665\n"
     ]
    },
    {
     "name": "stderr",
     "output_type": "stream",
     "text": [
      "Epoch 37/120: 100%|██████████| 49/49 [00:16<00:00,  3.03batch/s, Train Loss=28.5]\n",
      "Validation 37/120: 100%|██████████| 9/9 [00:01<00:00,  6.51batch/s]\n"
     ]
    },
    {
     "name": "stdout",
     "output_type": "stream",
     "text": [
      "Epoch [37/120], Training Loss: 28.5070, Validation Loss: 51.1159\n"
     ]
    },
    {
     "name": "stderr",
     "output_type": "stream",
     "text": [
      "Epoch 38/120: 100%|██████████| 49/49 [00:16<00:00,  3.06batch/s, Train Loss=28.4]\n",
      "Validation 38/120: 100%|██████████| 9/9 [00:01<00:00,  6.44batch/s]\n"
     ]
    },
    {
     "name": "stdout",
     "output_type": "stream",
     "text": [
      "Epoch [38/120], Training Loss: 28.3894, Validation Loss: 61.1686\n"
     ]
    },
    {
     "name": "stderr",
     "output_type": "stream",
     "text": [
      "Epoch 39/120: 100%|██████████| 49/49 [00:16<00:00,  3.06batch/s, Train Loss=30.1]\n",
      "Validation 39/120: 100%|██████████| 9/9 [00:01<00:00,  6.62batch/s]\n"
     ]
    },
    {
     "name": "stdout",
     "output_type": "stream",
     "text": [
      "Epoch [39/120], Training Loss: 30.0659, Validation Loss: 65.6407\n"
     ]
    },
    {
     "name": "stderr",
     "output_type": "stream",
     "text": [
      "Epoch 40/120: 100%|██████████| 49/49 [00:16<00:00,  3.04batch/s, Train Loss=30.7]\n",
      "Validation 40/120: 100%|██████████| 9/9 [00:01<00:00,  6.50batch/s]\n"
     ]
    },
    {
     "name": "stdout",
     "output_type": "stream",
     "text": [
      "Epoch [40/120], Training Loss: 30.6985, Validation Loss: 41.9504\n"
     ]
    },
    {
     "name": "stderr",
     "output_type": "stream",
     "text": [
      "Epoch 41/120: 100%|██████████| 49/49 [00:16<00:00,  3.05batch/s, Train Loss=26.8]\n",
      "Validation 41/120: 100%|██████████| 9/9 [00:01<00:00,  6.47batch/s]\n"
     ]
    },
    {
     "name": "stdout",
     "output_type": "stream",
     "text": [
      "Epoch [41/120], Training Loss: 26.8465, Validation Loss: 38.1966\n"
     ]
    },
    {
     "name": "stderr",
     "output_type": "stream",
     "text": [
      "Epoch 42/120: 100%|██████████| 49/49 [00:16<00:00,  3.06batch/s, Train Loss=23.3] \n",
      "Validation 42/120: 100%|██████████| 9/9 [00:01<00:00,  6.55batch/s]\n"
     ]
    },
    {
     "name": "stdout",
     "output_type": "stream",
     "text": [
      "Epoch [42/120], Training Loss: 23.2922, Validation Loss: 43.3767\n"
     ]
    },
    {
     "name": "stderr",
     "output_type": "stream",
     "text": [
      "Epoch 43/120: 100%|██████████| 49/49 [00:16<00:00,  3.06batch/s, Train Loss=28.2]\n",
      "Validation 43/120: 100%|██████████| 9/9 [00:01<00:00,  6.56batch/s]\n"
     ]
    },
    {
     "name": "stdout",
     "output_type": "stream",
     "text": [
      "Epoch [43/120], Training Loss: 28.1564, Validation Loss: 56.6949\n"
     ]
    },
    {
     "name": "stderr",
     "output_type": "stream",
     "text": [
      "Epoch 44/120: 100%|██████████| 49/49 [00:15<00:00,  3.07batch/s, Train Loss=24.3]\n",
      "Validation 44/120: 100%|██████████| 9/9 [00:01<00:00,  6.56batch/s]\n"
     ]
    },
    {
     "name": "stdout",
     "output_type": "stream",
     "text": [
      "Epoch [44/120], Training Loss: 24.2511, Validation Loss: 103.7514\n"
     ]
    },
    {
     "name": "stderr",
     "output_type": "stream",
     "text": [
      "Epoch 45/120: 100%|██████████| 49/49 [00:15<00:00,  3.06batch/s, Train Loss=17.9]\n",
      "Validation 45/120: 100%|██████████| 9/9 [00:01<00:00,  6.49batch/s]\n"
     ]
    },
    {
     "name": "stdout",
     "output_type": "stream",
     "text": [
      "Epoch [45/120], Training Loss: 17.8540, Validation Loss: 31.6363\n"
     ]
    },
    {
     "name": "stderr",
     "output_type": "stream",
     "text": [
      "Epoch 46/120: 100%|██████████| 49/49 [00:16<00:00,  3.06batch/s, Train Loss=17.5]\n",
      "Validation 46/120: 100%|██████████| 9/9 [00:01<00:00,  6.53batch/s]\n"
     ]
    },
    {
     "name": "stdout",
     "output_type": "stream",
     "text": [
      "Epoch [46/120], Training Loss: 17.5203, Validation Loss: 40.1339\n"
     ]
    },
    {
     "name": "stderr",
     "output_type": "stream",
     "text": [
      "Epoch 47/120: 100%|██████████| 49/49 [00:15<00:00,  3.07batch/s, Train Loss=17.2]\n",
      "Validation 47/120: 100%|██████████| 9/9 [00:01<00:00,  6.57batch/s]\n"
     ]
    },
    {
     "name": "stdout",
     "output_type": "stream",
     "text": [
      "Epoch [47/120], Training Loss: 17.1815, Validation Loss: 53.8877\n"
     ]
    },
    {
     "name": "stderr",
     "output_type": "stream",
     "text": [
      "Epoch 48/120: 100%|██████████| 49/49 [00:15<00:00,  3.07batch/s, Train Loss=25.7]\n",
      "Validation 48/120: 100%|██████████| 9/9 [00:01<00:00,  6.47batch/s]\n"
     ]
    },
    {
     "name": "stdout",
     "output_type": "stream",
     "text": [
      "Epoch [48/120], Training Loss: 25.7136, Validation Loss: 97.0548\n"
     ]
    },
    {
     "name": "stderr",
     "output_type": "stream",
     "text": [
      "Epoch 49/120: 100%|██████████| 49/49 [00:16<00:00,  3.06batch/s, Train Loss=17.2] \n",
      "Validation 49/120: 100%|██████████| 9/9 [00:01<00:00,  6.54batch/s]\n"
     ]
    },
    {
     "name": "stdout",
     "output_type": "stream",
     "text": [
      "Epoch [49/120], Training Loss: 17.2402, Validation Loss: 60.3203\n"
     ]
    },
    {
     "name": "stderr",
     "output_type": "stream",
     "text": [
      "Epoch 50/120: 100%|██████████| 49/49 [00:16<00:00,  3.05batch/s, Train Loss=16.7]\n",
      "Validation 50/120: 100%|██████████| 9/9 [00:01<00:00,  6.27batch/s]\n"
     ]
    },
    {
     "name": "stdout",
     "output_type": "stream",
     "text": [
      "Epoch [50/120], Training Loss: 16.7100, Validation Loss: 50.7727\n"
     ]
    },
    {
     "name": "stderr",
     "output_type": "stream",
     "text": [
      "Epoch 51/120: 100%|██████████| 49/49 [00:16<00:00,  2.92batch/s, Train Loss=17.7] \n",
      "Validation 51/120: 100%|██████████| 9/9 [00:01<00:00,  6.14batch/s]\n"
     ]
    },
    {
     "name": "stdout",
     "output_type": "stream",
     "text": [
      "Epoch [51/120], Training Loss: 17.7200, Validation Loss: 33.1155\n"
     ]
    },
    {
     "name": "stderr",
     "output_type": "stream",
     "text": [
      "Epoch 52/120: 100%|██████████| 49/49 [00:16<00:00,  2.95batch/s, Train Loss=15.7]\n",
      "Validation 52/120: 100%|██████████| 9/9 [00:01<00:00,  6.25batch/s]\n"
     ]
    },
    {
     "name": "stdout",
     "output_type": "stream",
     "text": [
      "Epoch [52/120], Training Loss: 15.7409, Validation Loss: 29.0580\n"
     ]
    },
    {
     "name": "stderr",
     "output_type": "stream",
     "text": [
      "Epoch 53/120: 100%|██████████| 49/49 [00:16<00:00,  2.96batch/s, Train Loss=17.7] \n",
      "Validation 53/120: 100%|██████████| 9/9 [00:01<00:00,  6.37batch/s]\n"
     ]
    },
    {
     "name": "stdout",
     "output_type": "stream",
     "text": [
      "Epoch [53/120], Training Loss: 17.7448, Validation Loss: 27.7885\n"
     ]
    },
    {
     "name": "stderr",
     "output_type": "stream",
     "text": [
      "Epoch 54/120: 100%|██████████| 49/49 [00:16<00:00,  2.97batch/s, Train Loss=13.2] \n",
      "Validation 54/120: 100%|██████████| 9/9 [00:01<00:00,  6.36batch/s]\n"
     ]
    },
    {
     "name": "stdout",
     "output_type": "stream",
     "text": [
      "Epoch [54/120], Training Loss: 13.2259, Validation Loss: 29.4933\n"
     ]
    },
    {
     "name": "stderr",
     "output_type": "stream",
     "text": [
      "Epoch 55/120: 100%|██████████| 49/49 [00:16<00:00,  2.98batch/s, Train Loss=12.7] \n",
      "Validation 55/120: 100%|██████████| 9/9 [00:01<00:00,  6.25batch/s]\n"
     ]
    },
    {
     "name": "stdout",
     "output_type": "stream",
     "text": [
      "Epoch [55/120], Training Loss: 12.7159, Validation Loss: 41.8026\n"
     ]
    },
    {
     "name": "stderr",
     "output_type": "stream",
     "text": [
      "Epoch 56/120: 100%|██████████| 49/49 [00:16<00:00,  2.98batch/s, Train Loss=12.5]\n",
      "Validation 56/120: 100%|██████████| 9/9 [00:01<00:00,  6.25batch/s]\n"
     ]
    },
    {
     "name": "stdout",
     "output_type": "stream",
     "text": [
      "Epoch [56/120], Training Loss: 12.5136, Validation Loss: 30.0406\n"
     ]
    },
    {
     "name": "stderr",
     "output_type": "stream",
     "text": [
      "Epoch 57/120: 100%|██████████| 49/49 [00:16<00:00,  2.99batch/s, Train Loss=14.5] \n",
      "Validation 57/120: 100%|██████████| 9/9 [00:01<00:00,  6.26batch/s]\n"
     ]
    },
    {
     "name": "stdout",
     "output_type": "stream",
     "text": [
      "Epoch [57/120], Training Loss: 14.5130, Validation Loss: 70.9437\n"
     ]
    },
    {
     "name": "stderr",
     "output_type": "stream",
     "text": [
      "Epoch 58/120: 100%|██████████| 49/49 [00:16<00:00,  2.97batch/s, Train Loss=20.2]\n",
      "Validation 58/120: 100%|██████████| 9/9 [00:01<00:00,  6.40batch/s]\n"
     ]
    },
    {
     "name": "stdout",
     "output_type": "stream",
     "text": [
      "Epoch [58/120], Training Loss: 20.1618, Validation Loss: 31.8061\n"
     ]
    },
    {
     "name": "stderr",
     "output_type": "stream",
     "text": [
      "Epoch 59/120: 100%|██████████| 49/49 [00:16<00:00,  2.95batch/s, Train Loss=14.2]\n",
      "Validation 59/120: 100%|██████████| 9/9 [00:01<00:00,  6.20batch/s]\n"
     ]
    },
    {
     "name": "stdout",
     "output_type": "stream",
     "text": [
      "Epoch [59/120], Training Loss: 14.2447, Validation Loss: 47.4105\n"
     ]
    },
    {
     "name": "stderr",
     "output_type": "stream",
     "text": [
      "Epoch 60/120: 100%|██████████| 49/49 [00:16<00:00,  2.94batch/s, Train Loss=9.28] \n",
      "Validation 60/120: 100%|██████████| 9/9 [00:01<00:00,  6.24batch/s]\n"
     ]
    },
    {
     "name": "stdout",
     "output_type": "stream",
     "text": [
      "Epoch [60/120], Training Loss: 9.2808, Validation Loss: 28.2446\n"
     ]
    },
    {
     "name": "stderr",
     "output_type": "stream",
     "text": [
      "Epoch 61/120: 100%|██████████| 49/49 [00:16<00:00,  2.99batch/s, Train Loss=12.9]\n",
      "Validation 61/120: 100%|██████████| 9/9 [00:01<00:00,  6.26batch/s]\n"
     ]
    },
    {
     "name": "stdout",
     "output_type": "stream",
     "text": [
      "Epoch [61/120], Training Loss: 12.9301, Validation Loss: 29.7178\n"
     ]
    },
    {
     "name": "stderr",
     "output_type": "stream",
     "text": [
      "Epoch 62/120: 100%|██████████| 49/49 [00:16<00:00,  2.97batch/s, Train Loss=10.5] \n",
      "Validation 62/120: 100%|██████████| 9/9 [00:01<00:00,  6.31batch/s]\n"
     ]
    },
    {
     "name": "stdout",
     "output_type": "stream",
     "text": [
      "Epoch [62/120], Training Loss: 10.4623, Validation Loss: 47.7420\n"
     ]
    },
    {
     "name": "stderr",
     "output_type": "stream",
     "text": [
      "Epoch 63/120: 100%|██████████| 49/49 [00:16<00:00,  2.98batch/s, Train Loss=9.86] \n",
      "Validation 63/120: 100%|██████████| 9/9 [00:01<00:00,  6.47batch/s]\n"
     ]
    },
    {
     "name": "stdout",
     "output_type": "stream",
     "text": [
      "Epoch [63/120], Training Loss: 9.8627, Validation Loss: 26.4868\n"
     ]
    },
    {
     "name": "stderr",
     "output_type": "stream",
     "text": [
      "Epoch 64/120: 100%|██████████| 49/49 [00:16<00:00,  2.98batch/s, Train Loss=13.2]\n",
      "Validation 64/120: 100%|██████████| 9/9 [00:01<00:00,  6.48batch/s]\n"
     ]
    },
    {
     "name": "stdout",
     "output_type": "stream",
     "text": [
      "Epoch [64/120], Training Loss: 13.1508, Validation Loss: 24.5620\n"
     ]
    },
    {
     "name": "stderr",
     "output_type": "stream",
     "text": [
      "Epoch 65/120: 100%|██████████| 49/49 [00:16<00:00,  3.00batch/s, Train Loss=8.48]\n",
      "Validation 65/120: 100%|██████████| 9/9 [00:01<00:00,  6.16batch/s]\n"
     ]
    },
    {
     "name": "stdout",
     "output_type": "stream",
     "text": [
      "Epoch [65/120], Training Loss: 8.4804, Validation Loss: 31.8804\n"
     ]
    },
    {
     "name": "stderr",
     "output_type": "stream",
     "text": [
      "Epoch 66/120: 100%|██████████| 49/49 [00:16<00:00,  3.00batch/s, Train Loss=9.81] \n",
      "Validation 66/120: 100%|██████████| 9/9 [00:01<00:00,  6.30batch/s]\n"
     ]
    },
    {
     "name": "stdout",
     "output_type": "stream",
     "text": [
      "Epoch [66/120], Training Loss: 9.8138, Validation Loss: 38.5722\n"
     ]
    },
    {
     "name": "stderr",
     "output_type": "stream",
     "text": [
      "Epoch 67/120: 100%|██████████| 49/49 [00:16<00:00,  3.00batch/s, Train Loss=9.72] \n",
      "Validation 67/120: 100%|██████████| 9/9 [00:01<00:00,  6.50batch/s]\n"
     ]
    },
    {
     "name": "stdout",
     "output_type": "stream",
     "text": [
      "Epoch [67/120], Training Loss: 9.7220, Validation Loss: 42.5297\n"
     ]
    },
    {
     "name": "stderr",
     "output_type": "stream",
     "text": [
      "Epoch 68/120: 100%|██████████| 49/49 [00:16<00:00,  2.98batch/s, Train Loss=7.99]\n",
      "Validation 68/120: 100%|██████████| 9/9 [00:01<00:00,  6.42batch/s]\n"
     ]
    },
    {
     "name": "stdout",
     "output_type": "stream",
     "text": [
      "Epoch [68/120], Training Loss: 7.9894, Validation Loss: 64.9550\n"
     ]
    },
    {
     "name": "stderr",
     "output_type": "stream",
     "text": [
      "Epoch 69/120: 100%|██████████| 49/49 [00:16<00:00,  2.98batch/s, Train Loss=13.5]\n",
      "Validation 69/120: 100%|██████████| 9/9 [00:01<00:00,  6.26batch/s]\n"
     ]
    },
    {
     "name": "stdout",
     "output_type": "stream",
     "text": [
      "Epoch [69/120], Training Loss: 13.5443, Validation Loss: 53.5236\n"
     ]
    },
    {
     "name": "stderr",
     "output_type": "stream",
     "text": [
      "Epoch 70/120: 100%|██████████| 49/49 [00:16<00:00,  3.00batch/s, Train Loss=11.7]\n",
      "Validation 70/120: 100%|██████████| 9/9 [00:01<00:00,  6.24batch/s]\n"
     ]
    },
    {
     "name": "stdout",
     "output_type": "stream",
     "text": [
      "Epoch [70/120], Training Loss: 11.6911, Validation Loss: 30.7865\n"
     ]
    },
    {
     "name": "stderr",
     "output_type": "stream",
     "text": [
      "Epoch 71/120: 100%|██████████| 49/49 [00:16<00:00,  3.00batch/s, Train Loss=8.89]\n",
      "Validation 71/120: 100%|██████████| 9/9 [00:01<00:00,  6.30batch/s]\n"
     ]
    },
    {
     "name": "stdout",
     "output_type": "stream",
     "text": [
      "Epoch [71/120], Training Loss: 8.8903, Validation Loss: 39.2372\n"
     ]
    },
    {
     "name": "stderr",
     "output_type": "stream",
     "text": [
      "Epoch 72/120: 100%|██████████| 49/49 [00:16<00:00,  2.99batch/s, Train Loss=6.18]\n",
      "Validation 72/120: 100%|██████████| 9/9 [00:01<00:00,  6.48batch/s]\n"
     ]
    },
    {
     "name": "stdout",
     "output_type": "stream",
     "text": [
      "Epoch [72/120], Training Loss: 6.1811, Validation Loss: 28.2827\n"
     ]
    },
    {
     "name": "stderr",
     "output_type": "stream",
     "text": [
      "Epoch 73/120: 100%|██████████| 49/49 [00:16<00:00,  2.98batch/s, Train Loss=7.11] \n",
      "Validation 73/120: 100%|██████████| 9/9 [00:01<00:00,  6.44batch/s]\n"
     ]
    },
    {
     "name": "stdout",
     "output_type": "stream",
     "text": [
      "Epoch [73/120], Training Loss: 7.1057, Validation Loss: 23.1898\n"
     ]
    },
    {
     "name": "stderr",
     "output_type": "stream",
     "text": [
      "Epoch 74/120: 100%|██████████| 49/49 [00:16<00:00,  2.99batch/s, Train Loss=6.37]\n",
      "Validation 74/120: 100%|██████████| 9/9 [00:01<00:00,  6.30batch/s]\n"
     ]
    },
    {
     "name": "stdout",
     "output_type": "stream",
     "text": [
      "Epoch [74/120], Training Loss: 6.3662, Validation Loss: 24.3965\n"
     ]
    },
    {
     "name": "stderr",
     "output_type": "stream",
     "text": [
      "Epoch 75/120: 100%|██████████| 49/49 [00:16<00:00,  3.00batch/s, Train Loss=9.34] \n",
      "Validation 75/120: 100%|██████████| 9/9 [00:01<00:00,  6.28batch/s]\n"
     ]
    },
    {
     "name": "stdout",
     "output_type": "stream",
     "text": [
      "Epoch [75/120], Training Loss: 9.3429, Validation Loss: 24.5121\n"
     ]
    },
    {
     "name": "stderr",
     "output_type": "stream",
     "text": [
      "Epoch 76/120: 100%|██████████| 49/49 [00:16<00:00,  3.00batch/s, Train Loss=8.1]  \n",
      "Validation 76/120: 100%|██████████| 9/9 [00:01<00:00,  6.51batch/s]\n"
     ]
    },
    {
     "name": "stdout",
     "output_type": "stream",
     "text": [
      "Epoch [76/120], Training Loss: 8.0985, Validation Loss: 27.6283\n"
     ]
    },
    {
     "name": "stderr",
     "output_type": "stream",
     "text": [
      "Epoch 77/120: 100%|██████████| 49/49 [00:16<00:00,  2.96batch/s, Train Loss=5.17] \n",
      "Validation 77/120: 100%|██████████| 9/9 [00:01<00:00,  6.41batch/s]\n"
     ]
    },
    {
     "name": "stdout",
     "output_type": "stream",
     "text": [
      "Epoch [77/120], Training Loss: 5.1742, Validation Loss: 36.5810\n"
     ]
    },
    {
     "name": "stderr",
     "output_type": "stream",
     "text": [
      "Epoch 78/120: 100%|██████████| 49/49 [00:16<00:00,  2.97batch/s, Train Loss=7.2]  \n",
      "Validation 78/120: 100%|██████████| 9/9 [00:01<00:00,  6.43batch/s]\n"
     ]
    },
    {
     "name": "stdout",
     "output_type": "stream",
     "text": [
      "Epoch [78/120], Training Loss: 7.2017, Validation Loss: 52.9366\n"
     ]
    },
    {
     "name": "stderr",
     "output_type": "stream",
     "text": [
      "Epoch 79/120: 100%|██████████| 49/49 [00:16<00:00,  3.03batch/s, Train Loss=6.9]  \n",
      "Validation 79/120: 100%|██████████| 9/9 [00:01<00:00,  6.50batch/s]\n"
     ]
    },
    {
     "name": "stdout",
     "output_type": "stream",
     "text": [
      "Epoch [79/120], Training Loss: 6.9043, Validation Loss: 28.4014\n"
     ]
    },
    {
     "name": "stderr",
     "output_type": "stream",
     "text": [
      "Epoch 80/120: 100%|██████████| 49/49 [00:16<00:00,  3.06batch/s, Train Loss=4.38] \n",
      "Validation 80/120: 100%|██████████| 9/9 [00:01<00:00,  6.50batch/s]\n"
     ]
    },
    {
     "name": "stdout",
     "output_type": "stream",
     "text": [
      "Epoch [80/120], Training Loss: 4.3835, Validation Loss: 32.0484\n"
     ]
    },
    {
     "name": "stderr",
     "output_type": "stream",
     "text": [
      "Epoch 81/120: 100%|██████████| 49/49 [00:16<00:00,  3.06batch/s, Train Loss=6.54] \n",
      "Validation 81/120: 100%|██████████| 9/9 [00:01<00:00,  6.51batch/s]\n"
     ]
    },
    {
     "name": "stdout",
     "output_type": "stream",
     "text": [
      "Epoch [81/120], Training Loss: 6.5440, Validation Loss: 28.2287\n"
     ]
    },
    {
     "name": "stderr",
     "output_type": "stream",
     "text": [
      "Epoch 82/120: 100%|██████████| 49/49 [00:15<00:00,  3.07batch/s, Train Loss=7.63]\n",
      "Validation 82/120: 100%|██████████| 9/9 [00:01<00:00,  6.56batch/s]\n"
     ]
    },
    {
     "name": "stdout",
     "output_type": "stream",
     "text": [
      "Epoch [82/120], Training Loss: 7.6258, Validation Loss: 28.5668\n"
     ]
    },
    {
     "name": "stderr",
     "output_type": "stream",
     "text": [
      "Epoch 83/120: 100%|██████████| 49/49 [00:16<00:00,  3.06batch/s, Train Loss=5.33] \n",
      "Validation 83/120: 100%|██████████| 9/9 [00:01<00:00,  6.52batch/s]\n"
     ]
    },
    {
     "name": "stdout",
     "output_type": "stream",
     "text": [
      "Epoch [83/120], Training Loss: 5.3349, Validation Loss: 23.4518\n"
     ]
    },
    {
     "name": "stderr",
     "output_type": "stream",
     "text": [
      "Epoch 84/120: 100%|██████████| 49/49 [00:15<00:00,  3.07batch/s, Train Loss=8.18]\n",
      "Validation 84/120: 100%|██████████| 9/9 [00:01<00:00,  6.54batch/s]\n"
     ]
    },
    {
     "name": "stdout",
     "output_type": "stream",
     "text": [
      "Epoch [84/120], Training Loss: 8.1811, Validation Loss: 24.6550\n"
     ]
    },
    {
     "name": "stderr",
     "output_type": "stream",
     "text": [
      "Epoch 85/120: 100%|██████████| 49/49 [00:15<00:00,  3.07batch/s, Train Loss=6.54]\n",
      "Validation 85/120: 100%|██████████| 9/9 [00:01<00:00,  6.53batch/s]\n"
     ]
    },
    {
     "name": "stdout",
     "output_type": "stream",
     "text": [
      "Epoch [85/120], Training Loss: 6.5440, Validation Loss: 41.4892\n"
     ]
    },
    {
     "name": "stderr",
     "output_type": "stream",
     "text": [
      "Epoch 86/120: 100%|██████████| 49/49 [00:15<00:00,  3.07batch/s, Train Loss=4.92] \n",
      "Validation 86/120: 100%|██████████| 9/9 [00:01<00:00,  6.49batch/s]\n"
     ]
    },
    {
     "name": "stdout",
     "output_type": "stream",
     "text": [
      "Epoch [86/120], Training Loss: 4.9193, Validation Loss: 22.6515\n"
     ]
    },
    {
     "name": "stderr",
     "output_type": "stream",
     "text": [
      "Epoch 87/120: 100%|██████████| 49/49 [00:16<00:00,  3.06batch/s, Train Loss=6.24] \n",
      "Validation 87/120: 100%|██████████| 9/9 [00:01<00:00,  6.55batch/s]\n"
     ]
    },
    {
     "name": "stdout",
     "output_type": "stream",
     "text": [
      "Epoch [87/120], Training Loss: 6.2419, Validation Loss: 23.0987\n"
     ]
    },
    {
     "name": "stderr",
     "output_type": "stream",
     "text": [
      "Epoch 88/120: 100%|██████████| 49/49 [00:16<00:00,  3.06batch/s, Train Loss=3.99] \n",
      "Validation 88/120: 100%|██████████| 9/9 [00:01<00:00,  6.56batch/s]\n"
     ]
    },
    {
     "name": "stdout",
     "output_type": "stream",
     "text": [
      "Epoch [88/120], Training Loss: 3.9909, Validation Loss: 21.7451\n"
     ]
    },
    {
     "name": "stderr",
     "output_type": "stream",
     "text": [
      "Epoch 89/120: 100%|██████████| 49/49 [00:16<00:00,  3.05batch/s, Train Loss=4.26] \n",
      "Validation 89/120: 100%|██████████| 9/9 [00:01<00:00,  6.49batch/s]\n"
     ]
    },
    {
     "name": "stdout",
     "output_type": "stream",
     "text": [
      "Epoch [89/120], Training Loss: 4.2554, Validation Loss: 21.5785\n"
     ]
    },
    {
     "name": "stderr",
     "output_type": "stream",
     "text": [
      "Epoch 90/120: 100%|██████████| 49/49 [00:16<00:00,  3.05batch/s, Train Loss=4.97] \n",
      "Validation 90/120: 100%|██████████| 9/9 [00:01<00:00,  6.52batch/s]\n"
     ]
    },
    {
     "name": "stdout",
     "output_type": "stream",
     "text": [
      "Epoch [90/120], Training Loss: 4.9678, Validation Loss: 36.3716\n"
     ]
    },
    {
     "name": "stderr",
     "output_type": "stream",
     "text": [
      "Epoch 91/120: 100%|██████████| 49/49 [00:15<00:00,  3.07batch/s, Train Loss=2.27] \n",
      "Validation 91/120: 100%|██████████| 9/9 [00:01<00:00,  6.47batch/s]\n"
     ]
    },
    {
     "name": "stdout",
     "output_type": "stream",
     "text": [
      "Epoch [91/120], Training Loss: 2.2654, Validation Loss: 31.3573\n"
     ]
    },
    {
     "name": "stderr",
     "output_type": "stream",
     "text": [
      "Epoch 92/120: 100%|██████████| 49/49 [00:16<00:00,  3.05batch/s, Train Loss=3.91] \n",
      "Validation 92/120: 100%|██████████| 9/9 [00:01<00:00,  6.47batch/s]\n"
     ]
    },
    {
     "name": "stdout",
     "output_type": "stream",
     "text": [
      "Epoch [92/120], Training Loss: 3.9053, Validation Loss: 25.3688\n"
     ]
    },
    {
     "name": "stderr",
     "output_type": "stream",
     "text": [
      "Epoch 93/120: 100%|██████████| 49/49 [00:16<00:00,  3.06batch/s, Train Loss=6]    \n",
      "Validation 93/120: 100%|██████████| 9/9 [00:01<00:00,  6.47batch/s]\n"
     ]
    },
    {
     "name": "stdout",
     "output_type": "stream",
     "text": [
      "Epoch [93/120], Training Loss: 5.9985, Validation Loss: 37.1817\n"
     ]
    },
    {
     "name": "stderr",
     "output_type": "stream",
     "text": [
      "Epoch 94/120: 100%|██████████| 49/49 [00:16<00:00,  3.05batch/s, Train Loss=6.51] \n",
      "Validation 94/120: 100%|██████████| 9/9 [00:01<00:00,  6.55batch/s]\n"
     ]
    },
    {
     "name": "stdout",
     "output_type": "stream",
     "text": [
      "Epoch [94/120], Training Loss: 6.5055, Validation Loss: 41.1664\n"
     ]
    },
    {
     "name": "stderr",
     "output_type": "stream",
     "text": [
      "Epoch 95/120: 100%|██████████| 49/49 [00:15<00:00,  3.06batch/s, Train Loss=4.8]  \n",
      "Validation 95/120: 100%|██████████| 9/9 [00:01<00:00,  6.50batch/s]\n"
     ]
    },
    {
     "name": "stdout",
     "output_type": "stream",
     "text": [
      "Epoch [95/120], Training Loss: 4.7972, Validation Loss: 22.7545\n"
     ]
    },
    {
     "name": "stderr",
     "output_type": "stream",
     "text": [
      "Epoch 96/120: 100%|██████████| 49/49 [00:16<00:00,  3.03batch/s, Train Loss=4.35] \n",
      "Validation 96/120: 100%|██████████| 9/9 [00:01<00:00,  6.46batch/s]\n"
     ]
    },
    {
     "name": "stdout",
     "output_type": "stream",
     "text": [
      "Epoch [96/120], Training Loss: 4.3455, Validation Loss: 29.2574\n"
     ]
    },
    {
     "name": "stderr",
     "output_type": "stream",
     "text": [
      "Epoch 97/120: 100%|██████████| 49/49 [00:16<00:00,  3.06batch/s, Train Loss=3.68] \n",
      "Validation 97/120: 100%|██████████| 9/9 [00:01<00:00,  6.59batch/s]\n"
     ]
    },
    {
     "name": "stdout",
     "output_type": "stream",
     "text": [
      "Epoch [97/120], Training Loss: 3.6829, Validation Loss: 35.3106\n"
     ]
    },
    {
     "name": "stderr",
     "output_type": "stream",
     "text": [
      "Epoch 98/120: 100%|██████████| 49/49 [00:15<00:00,  3.07batch/s, Train Loss=4.09] \n",
      "Validation 98/120: 100%|██████████| 9/9 [00:01<00:00,  6.58batch/s]\n"
     ]
    },
    {
     "name": "stdout",
     "output_type": "stream",
     "text": [
      "Epoch [98/120], Training Loss: 4.0883, Validation Loss: 38.0353\n"
     ]
    },
    {
     "name": "stderr",
     "output_type": "stream",
     "text": [
      "Epoch 99/120: 100%|██████████| 49/49 [00:16<00:00,  3.04batch/s, Train Loss=3.65] \n",
      "Validation 99/120: 100%|██████████| 9/9 [00:01<00:00,  6.47batch/s]\n"
     ]
    },
    {
     "name": "stdout",
     "output_type": "stream",
     "text": [
      "Epoch [99/120], Training Loss: 3.6464, Validation Loss: 21.3115\n"
     ]
    },
    {
     "name": "stderr",
     "output_type": "stream",
     "text": [
      "Epoch 100/120: 100%|██████████| 49/49 [00:16<00:00,  3.06batch/s, Train Loss=4.74] \n",
      "Validation 100/120: 100%|██████████| 9/9 [00:01<00:00,  6.46batch/s]\n"
     ]
    },
    {
     "name": "stdout",
     "output_type": "stream",
     "text": [
      "Epoch [100/120], Training Loss: 4.7388, Validation Loss: 42.7831\n"
     ]
    },
    {
     "name": "stderr",
     "output_type": "stream",
     "text": [
      "Epoch 101/120: 100%|██████████| 49/49 [00:16<00:00,  3.05batch/s, Train Loss=3.23] \n",
      "Validation 101/120: 100%|██████████| 9/9 [00:01<00:00,  6.54batch/s]\n"
     ]
    },
    {
     "name": "stdout",
     "output_type": "stream",
     "text": [
      "Epoch [101/120], Training Loss: 3.2298, Validation Loss: 31.0647\n"
     ]
    },
    {
     "name": "stderr",
     "output_type": "stream",
     "text": [
      "Epoch 102/120: 100%|██████████| 49/49 [00:15<00:00,  3.08batch/s, Train Loss=3.84] \n",
      "Validation 102/120: 100%|██████████| 9/9 [00:01<00:00,  6.43batch/s]\n"
     ]
    },
    {
     "name": "stdout",
     "output_type": "stream",
     "text": [
      "Epoch [102/120], Training Loss: 3.8408, Validation Loss: 58.8169\n"
     ]
    },
    {
     "name": "stderr",
     "output_type": "stream",
     "text": [
      "Epoch 103/120: 100%|██████████| 49/49 [00:16<00:00,  3.06batch/s, Train Loss=4.16]\n",
      "Validation 103/120: 100%|██████████| 9/9 [00:01<00:00,  6.52batch/s]\n"
     ]
    },
    {
     "name": "stdout",
     "output_type": "stream",
     "text": [
      "Epoch [103/120], Training Loss: 4.1554, Validation Loss: 27.0436\n"
     ]
    },
    {
     "name": "stderr",
     "output_type": "stream",
     "text": [
      "Epoch 104/120: 100%|██████████| 49/49 [00:16<00:00,  3.06batch/s, Train Loss=4.05] \n",
      "Validation 104/120: 100%|██████████| 9/9 [00:01<00:00,  6.58batch/s]\n"
     ]
    },
    {
     "name": "stdout",
     "output_type": "stream",
     "text": [
      "Epoch [104/120], Training Loss: 4.0482, Validation Loss: 23.4978\n"
     ]
    },
    {
     "name": "stderr",
     "output_type": "stream",
     "text": [
      "Epoch 105/120: 100%|██████████| 49/49 [00:16<00:00,  3.06batch/s, Train Loss=4.15] \n",
      "Validation 105/120: 100%|██████████| 9/9 [00:01<00:00,  6.40batch/s]\n"
     ]
    },
    {
     "name": "stdout",
     "output_type": "stream",
     "text": [
      "Epoch [105/120], Training Loss: 4.1502, Validation Loss: 20.9122\n"
     ]
    },
    {
     "name": "stderr",
     "output_type": "stream",
     "text": [
      "Epoch 106/120: 100%|██████████| 49/49 [00:16<00:00,  3.02batch/s, Train Loss=3.45] \n",
      "Validation 106/120: 100%|██████████| 9/9 [00:01<00:00,  6.51batch/s]\n"
     ]
    },
    {
     "name": "stdout",
     "output_type": "stream",
     "text": [
      "Epoch [106/120], Training Loss: 3.4473, Validation Loss: 37.7730\n"
     ]
    },
    {
     "name": "stderr",
     "output_type": "stream",
     "text": [
      "Epoch 107/120: 100%|██████████| 49/49 [00:15<00:00,  3.07batch/s, Train Loss=3.96] \n",
      "Validation 107/120: 100%|██████████| 9/9 [00:01<00:00,  6.56batch/s]\n"
     ]
    },
    {
     "name": "stdout",
     "output_type": "stream",
     "text": [
      "Epoch [107/120], Training Loss: 3.9577, Validation Loss: 22.0415\n"
     ]
    },
    {
     "name": "stderr",
     "output_type": "stream",
     "text": [
      "Epoch 108/120: 100%|██████████| 49/49 [00:15<00:00,  3.07batch/s, Train Loss=2.38]  \n",
      "Validation 108/120: 100%|██████████| 9/9 [00:01<00:00,  6.51batch/s]\n"
     ]
    },
    {
     "name": "stdout",
     "output_type": "stream",
     "text": [
      "Epoch [108/120], Training Loss: 2.3821, Validation Loss: 25.4017\n"
     ]
    },
    {
     "name": "stderr",
     "output_type": "stream",
     "text": [
      "Epoch 109/120: 100%|██████████| 49/49 [00:16<00:00,  3.06batch/s, Train Loss=3.43] \n",
      "Validation 109/120: 100%|██████████| 9/9 [00:01<00:00,  6.46batch/s]\n"
     ]
    },
    {
     "name": "stdout",
     "output_type": "stream",
     "text": [
      "Epoch [109/120], Training Loss: 3.4294, Validation Loss: 44.4390\n"
     ]
    },
    {
     "name": "stderr",
     "output_type": "stream",
     "text": [
      "Epoch 110/120: 100%|██████████| 49/49 [00:16<00:00,  3.04batch/s, Train Loss=5.03]\n",
      "Validation 110/120: 100%|██████████| 9/9 [00:01<00:00,  6.38batch/s]\n"
     ]
    },
    {
     "name": "stdout",
     "output_type": "stream",
     "text": [
      "Epoch [110/120], Training Loss: 5.0282, Validation Loss: 52.4260\n"
     ]
    },
    {
     "name": "stderr",
     "output_type": "stream",
     "text": [
      "Epoch 111/120: 100%|██████████| 49/49 [00:16<00:00,  3.03batch/s, Train Loss=4.29] \n",
      "Validation 111/120: 100%|██████████| 9/9 [00:01<00:00,  6.52batch/s]\n"
     ]
    },
    {
     "name": "stdout",
     "output_type": "stream",
     "text": [
      "Epoch [111/120], Training Loss: 4.2927, Validation Loss: 21.7550\n"
     ]
    },
    {
     "name": "stderr",
     "output_type": "stream",
     "text": [
      "Epoch 112/120: 100%|██████████| 49/49 [00:16<00:00,  3.03batch/s, Train Loss=4.19]  \n",
      "Validation 112/120: 100%|██████████| 9/9 [00:01<00:00,  6.33batch/s]\n"
     ]
    },
    {
     "name": "stdout",
     "output_type": "stream",
     "text": [
      "Epoch [112/120], Training Loss: 4.1939, Validation Loss: 27.9852\n"
     ]
    },
    {
     "name": "stderr",
     "output_type": "stream",
     "text": [
      "Epoch 113/120: 100%|██████████| 49/49 [00:16<00:00,  2.96batch/s, Train Loss=3.35] \n",
      "Validation 113/120: 100%|██████████| 9/9 [00:01<00:00,  6.35batch/s]\n"
     ]
    },
    {
     "name": "stdout",
     "output_type": "stream",
     "text": [
      "Epoch [113/120], Training Loss: 3.3483, Validation Loss: 21.0217\n"
     ]
    },
    {
     "name": "stderr",
     "output_type": "stream",
     "text": [
      "Epoch 114/120: 100%|██████████| 49/49 [00:16<00:00,  2.97batch/s, Train Loss=3.46] \n",
      "Validation 114/120: 100%|██████████| 9/9 [00:01<00:00,  6.27batch/s]\n"
     ]
    },
    {
     "name": "stdout",
     "output_type": "stream",
     "text": [
      "Epoch [114/120], Training Loss: 3.4587, Validation Loss: 22.2479\n"
     ]
    },
    {
     "name": "stderr",
     "output_type": "stream",
     "text": [
      "Epoch 115/120: 100%|██████████| 49/49 [00:16<00:00,  2.99batch/s, Train Loss=3.37] \n",
      "Validation 115/120: 100%|██████████| 9/9 [00:01<00:00,  6.37batch/s]\n"
     ]
    },
    {
     "name": "stdout",
     "output_type": "stream",
     "text": [
      "Epoch [115/120], Training Loss: 3.3747, Validation Loss: 21.5123\n"
     ]
    },
    {
     "name": "stderr",
     "output_type": "stream",
     "text": [
      "Epoch 116/120: 100%|██████████| 49/49 [00:16<00:00,  3.01batch/s, Train Loss=3.65] \n",
      "Validation 116/120: 100%|██████████| 9/9 [00:01<00:00,  6.45batch/s]\n"
     ]
    },
    {
     "name": "stdout",
     "output_type": "stream",
     "text": [
      "Epoch [116/120], Training Loss: 3.6524, Validation Loss: 24.2784\n"
     ]
    },
    {
     "name": "stderr",
     "output_type": "stream",
     "text": [
      "Epoch 117/120: 100%|██████████| 49/49 [00:16<00:00,  3.06batch/s, Train Loss=2.64] \n",
      "Validation 117/120: 100%|██████████| 9/9 [00:01<00:00,  6.43batch/s]\n"
     ]
    },
    {
     "name": "stdout",
     "output_type": "stream",
     "text": [
      "Epoch [117/120], Training Loss: 2.6364, Validation Loss: 22.0651\n"
     ]
    },
    {
     "name": "stderr",
     "output_type": "stream",
     "text": [
      "Epoch 118/120: 100%|██████████| 49/49 [00:16<00:00,  3.06batch/s, Train Loss=1.77] \n",
      "Validation 118/120: 100%|██████████| 9/9 [00:01<00:00,  6.53batch/s]\n"
     ]
    },
    {
     "name": "stdout",
     "output_type": "stream",
     "text": [
      "Epoch [118/120], Training Loss: 1.7657, Validation Loss: 35.4503\n"
     ]
    },
    {
     "name": "stderr",
     "output_type": "stream",
     "text": [
      "Epoch 119/120: 100%|██████████| 49/49 [00:16<00:00,  3.02batch/s, Train Loss=4.51]\n",
      "Validation 119/120: 100%|██████████| 9/9 [00:01<00:00,  6.41batch/s]\n"
     ]
    },
    {
     "name": "stdout",
     "output_type": "stream",
     "text": [
      "Epoch [119/120], Training Loss: 4.5148, Validation Loss: 27.5212\n"
     ]
    },
    {
     "name": "stderr",
     "output_type": "stream",
     "text": [
      "Epoch 120/120: 100%|██████████| 49/49 [00:16<00:00,  3.00batch/s, Train Loss=4.2]  \n",
      "Validation 120/120: 100%|██████████| 9/9 [00:01<00:00,  6.41batch/s]\n"
     ]
    },
    {
     "name": "stdout",
     "output_type": "stream",
     "text": [
      "Epoch [120/120], Training Loss: 4.1998, Validation Loss: 25.1251\n"
     ]
    }
   ],
   "source": [
    "best_model = None\n",
    "best_val_loss = float('inf')\n",
    "train_losses_dict = {}\n",
    "val_losses_dict = {}\n",
    "for model_train in models_train:\n",
    "    model = ListModule(model_train)\n",
    "    model_name = f'model_{model_train}.pth'\n",
    "    checkpoint_path = f'model_lr{model_train}.pth'\n",
    "\n",
    "    model, val_loss, train_losses, val_losses = train_and_validate_model(model , train_loader, test_loader, data_loader.input_size,output_size, batch_size,num_epochs, learning_rate=lr, model_name=model_name, checkpoint_path=checkpoint_path)\n",
    "    torch.save(model.state_dict(), f'model_{model_train}.pth')\n",
    "    train_losses_dict[model_train] = train_losses\n",
    "    val_losses_dict[model_train] = val_losses\n",
    "    del model    \n",
    "    optimizer = None\n",
    "    torch.cuda.empty_cache()\n",
    "    gc.collect()\n",
    "    \n"
   ]
  },
  {
   "cell_type": "code",
   "execution_count": 40,
   "metadata": {},
   "outputs": [],
   "source": [
    "import json\n",
    "with open(f'model_{model_train}_train_loss.json', 'w') as f:\n",
    "    json.dump(train_losses_dict, f)\n",
    "with open(f'model_{model_train}_test_loss.json', 'w') as f:\n",
    "    json.dump(val_losses_dict, f)"
   ]
  },
  {
   "cell_type": "code",
   "execution_count": 41,
   "metadata": {},
   "outputs": [],
   "source": [
    "for model_load in model_train:\n",
    "    with open(f'model_{model_train}_train_loss.json', 'r') as f:\n",
    "        train_losses_dict_read = json.load(f)"
   ]
  },
  {
   "cell_type": "code",
   "execution_count": 42,
   "metadata": {
    "collapsed": false,
    "jupyter": {
     "outputs_hidden": false
    },
    "pycharm": {
     "name": "#%%\n"
    }
   },
   "outputs": [
    {
     "data": {
      "image/png": "[encoded data removed]",
      "text/plain": [
       "<Figure size 1000x600 with 1 Axes>"
      ]
     },
     "metadata": {},
     "output_type": "display_data"
    }
   ],
   "source": [
    "plt.figure(figsize=(10, 6))\n",
    "for model_name, losses in train_losses_dict.items():\n",
    "    plt.plot(losses, label=f'{model_name} Train Loss')\n",
    "for model_name, losses in val_losses_dict.items():\n",
    "    plt.plot(losses, label=f'{model_name} Val Loss', linestyle='--')\n",
    "plt.title('Train and Validation Losses for Different Models')\n",
    "plt.xlabel('Epoch')\n",
    "plt.ylabel('Loss')\n",
    "plt.legend()\n",
    "plt.grid(True)\n",
    "plt.show()"
   ]
  },
  {
   "cell_type": "code",
   "execution_count": 43,
   "metadata": {
    "collapsed": false,
    "jupyter": {
     "outputs_hidden": false
    },
    "pycharm": {
     "name": "#%%\n"
    }
   },
   "outputs": [
    {
     "name": "stdout",
     "output_type": "stream",
     "text": [
      "CNN3D 20.912152262294995\n"
     ]
    }
   ],
   "source": [
    "for model_name, losses in val_losses_dict.items():\n",
    "    print(model_name, min(losses))"
   ]
  },
  {
   "cell_type": "code",
   "execution_count": 44,
   "metadata": {
    "collapsed": false,
    "jupyter": {
     "outputs_hidden": false
    },
    "pycharm": {
     "name": "#%%\n"
    }
   },
   "outputs": [
    {
     "data": {
      "text/plain": [
       "3910"
      ]
     },
     "execution_count": 44,
     "metadata": {},
     "output_type": "execute_result"
    }
   ],
   "source": [
    "torch.cuda.empty_cache()\n",
    "gc.collect()"
   ]
  },
  {
   "cell_type": "code",
   "execution_count": 45,
   "metadata": {
    "collapsed": false,
    "jupyter": {
     "outputs_hidden": false
    },
    "pycharm": {
     "name": "#%%\n"
    }
   },
   "outputs": [
    {
     "data": {
      "text/plain": [
       "(120, 160, 160, 3)"
      ]
     },
     "execution_count": 45,
     "metadata": {},
     "output_type": "execute_result"
    }
   ],
   "source": [
    "data_loader.data_real_image[0].shape"
   ]
  },
  {
   "cell_type": "code",
   "execution_count": 46,
   "metadata": {},
   "outputs": [
    {
     "data": {
      "text/plain": [
       "ListModule(\n",
       "  (model): Sequential(\n",
       "    (0): Conv3d(3, 32, kernel_size=(3, 3, 3), stride=(1, 1, 1), padding=(1, 1, 1))\n",
       "    (1): BatchNorm3d(32, eps=1e-05, momentum=0.1, affine=True, track_running_stats=True)\n",
       "    (2): LeakyReLU(negative_slope=0.01)\n",
       "    (3): MaxPool3d(kernel_size=(3, 3, 3), stride=(3, 3, 3), padding=1, dilation=1, ceil_mode=False)\n",
       "    (4): Conv3d(32, 32, kernel_size=(3, 3, 3), stride=(1, 1, 1), padding=(1, 1, 1))\n",
       "    (5): BatchNorm3d(32, eps=1e-05, momentum=0.1, affine=True, track_running_stats=True)\n",
       "    (6): LeakyReLU(negative_slope=0.01)\n",
       "    (7): MaxPool3d(kernel_size=(3, 3, 3), stride=(3, 3, 3), padding=1, dilation=1, ceil_mode=False)\n",
       "    (8): Conv3d(32, 64, kernel_size=(3, 3, 3), stride=(1, 1, 1), padding=(1, 1, 1))\n",
       "    (9): BatchNorm3d(64, eps=1e-05, momentum=0.1, affine=True, track_running_stats=True)\n",
       "    (10): LeakyReLU(negative_slope=0.01)\n",
       "    (11): MaxPool3d(kernel_size=(3, 3, 3), stride=(3, 3, 3), padding=1, dilation=1, ceil_mode=False)\n",
       "    (12): Conv3d(64, 64, kernel_size=(3, 3, 3), stride=(1, 1, 1), padding=(1, 1, 1))\n",
       "    (13): BatchNorm3d(64, eps=1e-05, momentum=0.1, affine=True, track_running_stats=True)\n",
       "    (14): LeakyReLU(negative_slope=0.01)\n",
       "    (15): MaxPool3d(kernel_size=(3, 3, 3), stride=(3, 3, 3), padding=1, dilation=1, ceil_mode=False)\n",
       "    (16): Conv3d(64, 64, kernel_size=(3, 3, 3), stride=(1, 1, 1), padding=(1, 1, 1))\n",
       "    (17): LeakyReLU(negative_slope=0.01)\n",
       "    (18): MaxPool3d(kernel_size=(3, 3, 3), stride=(3, 3, 3), padding=1, dilation=1, ceil_mode=False)\n",
       "    (19): Flatten(start_dim=1, end_dim=-1)\n",
       "    (fc): Sequential(\n",
       "      (0): Linear(in_features=64, out_features=32, bias=True)\n",
       "      (1): ReLU()\n",
       "      (2): Linear(in_features=32, out_features=1, bias=True)\n",
       "    )\n",
       "  )\n",
       ")"
      ]
     },
     "execution_count": 46,
     "metadata": {},
     "output_type": "execute_result"
    }
   ],
   "source": [
    "best_model = ListModule('CNN3D')\n",
    "best_model.to(device)\n",
    "best_model.load_state_dict(torch.load('model_CNN3D.pth'))\n",
    "best_model.eval()"
   ]
  },
  {
   "cell_type": "code",
   "execution_count": 47,
   "metadata": {
    "collapsed": false,
    "jupyter": {
     "outputs_hidden": false
    },
    "pycharm": {
     "name": "#%%\n"
    }
   },
   "outputs": [
    {
     "data": {
      "text/plain": [
       "tensor([[84],\n",
       "        [73],\n",
       "        [46],\n",
       "        [57],\n",
       "        [75],\n",
       "        [83],\n",
       "        [78],\n",
       "        [67]], device='cuda:0', dtype=torch.int32)"
      ]
     },
     "execution_count": 47,
     "metadata": {},
     "output_type": "execute_result"
    }
   ],
   "source": [
    "# La permutación correcta para reorganizar las dimensiones\n",
    "eval_data = torch.tensor(data_loader.data_real_image[0:8], dtype=torch.float32).permute(0, 4, 1, 2, 3).to(device)\n",
    "with torch.no_grad():\n",
    "    test_output = best_model(eval_data)\n",
    "torch.round(test_output).int()"
   ]
  },
  {
   "cell_type": "code",
   "execution_count": 48,
   "metadata": {
    "collapsed": false,
    "jupyter": {
     "outputs_hidden": false
    },
    "pycharm": {
     "name": "#%%\n"
    }
   },
   "outputs": [
    {
     "data": {
      "text/plain": [
       "array([         90,          73,          47,          54,          73,          82,          74,          68])"
      ]
     },
     "execution_count": 48,
     "metadata": {},
     "output_type": "execute_result"
    }
   ],
   "source": [
    "data_loader.data_real_speed[0:8]"
   ]
  },
  {
   "cell_type": "code",
   "execution_count": 49,
   "metadata": {
    "collapsed": false,
    "jupyter": {
     "outputs_hidden": false
    },
    "pycharm": {
     "name": "#%%\n"
    }
   },
   "outputs": [
    {
     "data": {
      "text/plain": [
       "tensor([[41]], device='cuda:0', dtype=torch.int32)"
      ]
     },
     "execution_count": 49,
     "metadata": {},
     "output_type": "execute_result"
    }
   ],
   "source": [
    "eval_data = torch.tensor(data_loader.data_real_image[-1], dtype=torch.float32).permute(3, 0, 1, 2).unsqueeze(0).to(device)\n",
    "with torch.no_grad():\n",
    "    test_output = best_model(eval_data)\n",
    "torch.round(test_output).int()"
   ]
  },
  {
   "cell_type": "code",
   "execution_count": 50,
   "metadata": {
    "collapsed": false,
    "jupyter": {
     "outputs_hidden": false
    },
    "pycharm": {
     "name": "#%%\n"
    }
   },
   "outputs": [
    {
     "data": {
      "text/plain": [
       "33.0"
      ]
     },
     "execution_count": 50,
     "metadata": {},
     "output_type": "execute_result"
    }
   ],
   "source": [
    "data_loader.data_real_speed[-1]"
   ]
  },
  {
   "cell_type": "code",
   "execution_count": 86,
   "metadata": {
    "collapsed": false,
    "jupyter": {
     "outputs_hidden": false
    },
    "pycharm": {
     "name": "#%%\n"
    }
   },
   "outputs": [
    {
     "name": "stdout",
     "output_type": "stream",
     "text": [
      "Real vs Generado (Velocidades):\n",
      "tensor([[ 90.,  84.],\n",
      "        [ 73.,  73.],\n",
      "        [ 47.,  46.],\n",
      "        [ 54.,  57.],\n",
      "        [ 73.,  75.],\n",
      "        [ 82.,  83.],\n",
      "        [ 74.,  78.],\n",
      "        [ 68.,  67.],\n",
      "        [ 98., 100.],\n",
      "        [ 83.,  85.],\n",
      "        [ 91.,  92.],\n",
      "        [ 47.,  50.],\n",
      "        [ 40.,  40.],\n",
      "        [ 88.,  88.],\n",
      "        [ 78.,  74.],\n",
      "        [ 44.,  45.],\n",
      "        [ 48.,  48.],\n",
      "        [ 60.,  56.],\n",
      "        [ 66.,  71.],\n",
      "        [ 80.,  82.],\n",
      "        [100.,  98.],\n",
      "        [ 88.,  89.],\n",
      "        [ 64.,  68.],\n",
      "        [ 61.,  64.],\n",
      "        [ 40.,  43.],\n",
      "        [ 88.,  88.],\n",
      "        [ 94.,  97.],\n",
      "        [ 92.,  90.],\n",
      "        [ 94.,  92.],\n",
      "        [ 86.,  85.],\n",
      "        [ 44.,  43.],\n",
      "        [ 70.,  71.],\n",
      "        [ 78.,  78.],\n",
      "        [ 96.,  92.],\n",
      "        [ 75.,  71.],\n",
      "        [ 63.,  68.],\n",
      "        [ 42.,  44.],\n",
      "        [ 98.,  92.],\n",
      "        [ 67.,  65.],\n",
      "        [ 75.,  76.],\n",
      "        [ 76.,  72.],\n",
      "        [ 48.,  47.],\n",
      "        [ 41.,  39.],\n",
      "        [ 31.,  38.],\n",
      "        [ 69.,  69.],\n",
      "        [ 45.,  44.],\n",
      "        [ 48.,  49.],\n",
      "        [ 38.,  42.],\n",
      "        [ 78.,  82.],\n",
      "        [ 45.,  44.],\n",
      "        [ 64.,  64.],\n",
      "        [ 81.,  80.],\n",
      "        [ 58.,  61.],\n",
      "        [ 48.,  48.],\n",
      "        [ 90.,  84.],\n",
      "        [ 70.,  74.],\n",
      "        [ 33.,  41.]])\n"
     ]
    }
   ],
   "source": [
    "all_real_speeds = []\n",
    "all_predicted_speeds = []\n",
    "for i in range(0, len(data_loader.data_real_image), 6):\n",
    "    eval_data = torch.tensor(data_loader.data_real_image[i:i+6], dtype=torch.float32).permute(0, 4, 1, 2, 3).to(device)\n",
    "    with torch.no_grad():\n",
    "        test_output = best_model(eval_data)\n",
    "    predicted_speed = torch.round(test_output).int().cpu().squeeze()\n",
    "    real_speed = torch.tensor(data_loader.data_real_speed[i:i+6])  # Ensure real_speed is a tensor\n",
    "    predicted_speed = predicted_speed.view(-1)\n",
    "    real_speed = real_speed.view(-1)\n",
    "    mask = torch.abs(real_speed - predicted_speed) <= 10\n",
    "    all_real_speeds.extend(real_speed[mask].tolist())\n",
    "    all_predicted_speeds.extend(predicted_speed[mask].tolist())\n",
    "all_real_speeds = torch.tensor(all_real_speeds)\n",
    "all_predicted_speeds = torch.tensor(all_predicted_speeds).squeeze()\n",
    "comparison = torch.stack([all_real_speeds, all_predicted_speeds], dim=1)\n",
    "print(\"Real vs Generado (Velocidades):\")\n",
    "print(comparison)"
   ]
  },
  {
   "cell_type": "code",
   "execution_count": 87,
   "metadata": {
    "collapsed": false,
    "jupyter": {
     "outputs_hidden": false
    },
    "pycharm": {
     "name": "#%%\n"
    }
   },
   "outputs": [
    {
     "data": {
      "image/png": "[encoded data removed]",
      "text/plain": [
       "<Figure size 1000x600 with 1 Axes>"
      ]
     },
     "metadata": {},
     "output_type": "display_data"
    }
   ],
   "source": [
    "plt.figure(figsize=(10, 6))\n",
    "plt.plot(all_real_speeds, label='Actual Speeds', marker='o')\n",
    "plt.plot(all_predicted_speeds, label='Predicted Speeds', marker='x')\n",
    "\n",
    "plt.title('Comparison between Actual and Predicted Speeds')\n",
    "plt.xlabel('Sample Index')\n",
    "plt.ylabel('Speed')\n",
    "plt.legend()\n",
    "plt.grid(True)\n",
    "\n",
    "# Display the plot\n",
    "plt.show()"
   ]
  },
  {
   "cell_type": "code",
   "execution_count": 88,
   "metadata": {
    "collapsed": false,
    "jupyter": {
     "outputs_hidden": false
    },
    "pycharm": {
     "name": "#%%\n"
    }
   },
   "outputs": [
    {
     "name": "stdout",
     "output_type": "stream",
     "text": [
      "MAE: 2.3859649122807016\n",
      "RMSE: 3.077935056255462\n",
      "R^2: 0.9748539685159723\n"
     ]
    },
    {
     "data": {
      "image/png": "[encoded data removed]",
      "text/plain": [
       "<Figure size 640x480 with 1 Axes>"
      ]
     },
     "metadata": {},
     "output_type": "display_data"
    },
    {
     "data": {
      "image/png": "[encoded data removed]",
      "text/plain": [
       "<Figure size 640x480 with 1 Axes>"
      ]
     },
     "metadata": {},
     "output_type": "display_data"
    }
   ],
   "source": [
    "error = all_real_speeds - all_predicted_speeds\n",
    "mae = mean_absolute_error(all_real_speeds, all_predicted_speeds)\n",
    "print(f'MAE: {mae}')\n",
    "rmse = np.sqrt(mean_squared_error(all_real_speeds, all_predicted_speeds))\n",
    "print(f'RMSE: {rmse}')\n",
    "r2 = r2_score(all_real_speeds, all_predicted_speeds)\n",
    "print(f'R^2: {r2}')\n",
    "plt.scatter(all_real_speeds, all_predicted_speeds)\n",
    "plt.plot([min(all_real_speeds), max(all_real_speeds)], [min(all_real_speeds), max(all_real_speeds)], color='red')  # Line y=x\n",
    "plt.xlabel('Real Speeds')\n",
    "plt.ylabel('Predicted Speeds')\n",
    "plt.title('Real vs Predicted Speeds')\n",
    "plt.grid(True)\n",
    "plt.show()\n",
    "residuals = all_real_speeds - all_predicted_speeds\n",
    "plt.scatter(all_real_speeds, residuals)\n",
    "plt.axhline(0, color='red', linestyle='--')\n",
    "plt.xlabel('Real Speeds')\n",
    "plt.ylabel('Residuals (Real - Predicted)')\n",
    "plt.title('Residual Plot')\n",
    "plt.grid(True)\n",
    "plt.show()"
   ]
  },
  {
   "cell_type": "code",
   "execution_count": 54,
   "metadata": {
    "collapsed": false,
    "jupyter": {
     "outputs_hidden": false
    },
    "pycharm": {
     "name": "#%%\n"
    }
   },
   "outputs": [],
   "source": [
    "reproduce_video_from_np(data_loader.data_real_image[27])"
   ]
  },
  {
   "cell_type": "code",
   "execution_count": 55,
   "metadata": {
    "collapsed": false,
    "jupyter": {
     "outputs_hidden": false
    },
    "pycharm": {
     "name": "#%%\n"
    }
   },
   "outputs": [
    {
     "data": {
      "text/plain": [
       "92.0"
      ]
     },
     "execution_count": 55,
     "metadata": {},
     "output_type": "execute_result"
    }
   ],
   "source": [
    "data_loader.data_real_speed[27]"
   ]
  },
  {
   "cell_type": "code",
   "execution_count": 56,
   "metadata": {
    "collapsed": false,
    "jupyter": {
     "outputs_hidden": false
    },
    "pycharm": {
     "name": "#%%\n"
    }
   },
   "outputs": [
    {
     "data": {
      "text/plain": [
       "tensor([[90]], device='cuda:0', dtype=torch.int32)"
      ]
     },
     "execution_count": 56,
     "metadata": {},
     "output_type": "execute_result"
    }
   ],
   "source": [
    "eval_data = torch.tensor(data_loader.data_real_image[27], dtype=torch.float32).permute(3, 0, 1, 2).unsqueeze(0).to(device)\n",
    "with torch.no_grad():\n",
    "    test_output = best_model(eval_data)\n",
    "torch.round(test_output).int()"
   ]
  },
  {
   "cell_type": "code",
   "execution_count": 57,
   "metadata": {
    "collapsed": false,
    "jupyter": {
     "outputs_hidden": false
    },
    "pycharm": {
     "name": "#%%\n"
    }
   },
   "outputs": [],
   "source": [
    "reproduce_video_from_np(data_loader.data_real_image[14])"
   ]
  },
  {
   "cell_type": "code",
   "execution_count": 58,
   "metadata": {
    "collapsed": false,
    "jupyter": {
     "outputs_hidden": false
    },
    "pycharm": {
     "name": "#%%\n"
    }
   },
   "outputs": [
    {
     "data": {
      "text/plain": [
       "78.0"
      ]
     },
     "execution_count": 58,
     "metadata": {},
     "output_type": "execute_result"
    }
   ],
   "source": [
    "data_loader.data_real_speed[14]"
   ]
  },
  {
   "cell_type": "code",
   "execution_count": 59,
   "metadata": {
    "collapsed": false,
    "jupyter": {
     "outputs_hidden": false
    },
    "pycharm": {
     "name": "#%%\n"
    }
   },
   "outputs": [
    {
     "data": {
      "text/plain": [
       "tensor([[46]], device='cuda:0', dtype=torch.int32)"
      ]
     },
     "execution_count": 59,
     "metadata": {},
     "output_type": "execute_result"
    }
   ],
   "source": [
    "eval_data = torch.tensor(data_loader.data_real_image[2], dtype=torch.float32).permute(3, 0, 1, 2).unsqueeze(0).to(device)\n",
    "with torch.no_grad():\n",
    "    test_output = best_model(eval_data)\n",
    "torch.round(test_output).int()"
   ]
  },
  {
   "cell_type": "code",
   "execution_count": 60,
   "metadata": {
    "collapsed": false,
    "jupyter": {
     "outputs_hidden": false
    },
    "pycharm": {
     "name": "#%%\n"
    }
   },
   "outputs": [],
   "source": [
    "reproduce_video_from_np(data_loader.data_real_image[2])"
   ]
  },
  {
   "cell_type": "code",
   "execution_count": 61,
   "metadata": {
    "collapsed": false,
    "jupyter": {
     "outputs_hidden": false
    },
    "pycharm": {
     "name": "#%%\n"
    }
   },
   "outputs": [
    {
     "data": {
      "text/plain": [
       "47.0"
      ]
     },
     "execution_count": 61,
     "metadata": {},
     "output_type": "execute_result"
    }
   ],
   "source": [
    "data_loader.data_real_speed[2]"
   ]
  },
  {
   "cell_type": "code",
   "execution_count": 62,
   "metadata": {
    "collapsed": false,
    "jupyter": {
     "outputs_hidden": false
    },
    "pycharm": {
     "name": "#%%\n"
    }
   },
   "outputs": [
    {
     "data": {
      "text/plain": [
       "tensor([[46]], device='cuda:0', dtype=torch.int32)"
      ]
     },
     "execution_count": 62,
     "metadata": {},
     "output_type": "execute_result"
    }
   ],
   "source": [
    "eval_data = torch.tensor(data_loader.data_real_image[2], dtype=torch.float32).permute(3, 0, 1, 2).unsqueeze(0).to(device)\n",
    "with torch.no_grad():\n",
    "    test_output = best_model(eval_data)\n",
    "torch.round(test_output).int()"
   ]
  },
  {
   "cell_type": "code",
   "execution_count": 63,
   "metadata": {
    "collapsed": false,
    "jupyter": {
     "outputs_hidden": false
    },
    "pycharm": {
     "name": "#%%\n"
    }
   },
   "outputs": [],
   "source": [
    "reproduce_video_from_np(data_loader.data_real_image[4])"
   ]
  },
  {
   "cell_type": "code",
   "execution_count": 64,
   "metadata": {
    "collapsed": false,
    "jupyter": {
     "outputs_hidden": false
    },
    "pycharm": {
     "name": "#%%\n"
    }
   },
   "outputs": [
    {
     "data": {
      "text/plain": [
       "73.0"
      ]
     },
     "execution_count": 64,
     "metadata": {},
     "output_type": "execute_result"
    }
   ],
   "source": [
    "data_loader.data_real_speed[4]"
   ]
  },
  {
   "cell_type": "code",
   "execution_count": 65,
   "metadata": {
    "collapsed": false,
    "jupyter": {
     "outputs_hidden": false
    },
    "pycharm": {
     "name": "#%%\n"
    }
   },
   "outputs": [
    {
     "data": {
      "text/plain": [
       "tensor([[75]], device='cuda:0', dtype=torch.int32)"
      ]
     },
     "execution_count": 65,
     "metadata": {},
     "output_type": "execute_result"
    }
   ],
   "source": [
    "eval_data = torch.tensor(data_loader.data_real_image[4], dtype=torch.float32).permute(3, 0, 1, 2).unsqueeze(0).to(device)\n",
    "with torch.no_grad():\n",
    "    test_output = best_model(eval_data)\n",
    "torch.round(test_output).int()"
   ]
  },
  {
   "cell_type": "code",
   "execution_count": 66,
   "metadata": {
    "pycharm": {
     "name": "#%%\n"
    }
   },
   "outputs": [
    {
     "data": {
      "text/plain": [
       "tensor([[75]], device='cuda:0', dtype=torch.int32)"
      ]
     },
     "execution_count": 66,
     "metadata": {},
     "output_type": "execute_result"
    }
   ],
   "source": [
    "eval_data = torch.tensor(data_loader.data_real_image[4], dtype=torch.float32).permute(3, 0, 1, 2).unsqueeze(0).to(device)\n",
    "with torch.no_grad():\n",
    "    test_output = best_model(eval_data)\n",
    "torch.round(test_output).int()"
   ]
  }
 ],
 "metadata": {
  "kernelspec": {
   "display_name": "Python 3 (ipykernel)",
   "language": "python",
   "name": "python3"
  },
  "language_info": {
   "codemirror_mode": {
    "name": "ipython",
    "version": 3
   },
   "file_extension": ".py",
   "mimetype": "text/x-python",
   "name": "python",
   "nbconvert_exporter": "python",
   "pygments_lexer": "ipython3",
   "version": "3.10.13"
  }
 },
 "nbformat": 4,
 "nbformat_minor": 4
}
