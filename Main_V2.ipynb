{
 "cells": [
  {
   "cell_type": "code",
   "execution_count": 1,
   "metadata": {
    "pycharm": {
     "is_executing": true,
     "name": "#%%\n"
    }
   },
   "outputs": [
    {
     "name": "stderr",
     "output_type": "stream",
     "text": [
      "C:\\Users\\erick\\anaconda3\\envs\\Yolo\\lib\\site-packages\\tqdm\\auto.py:21: TqdmWarning: IProgress not found. Please update jupyter and ipywidgets. See https://ipywidgets.readthedocs.io/en/stable/user_install.html\n",
      "  from .autonotebook import tqdm as notebook_tqdm\n"
     ]
    }
   ],
   "source": [
    "import os\n",
    "import zipfile\n",
    "from PIL import Image\n",
    "import matplotlib.pyplot as plt\n",
    "import time\n",
    "import pandas as pd\n",
    "import altair as alt\n",
    "from ultralytics import YOLO\n",
    "import torch\n",
    "import torch.nn as nn\n",
    "import torch.optim as optim\n",
    "from torch.utils.data import DataLoader, TensorDataset\n",
    "from sklearn.metrics import mean_squared_error\n",
    "import cv2\n",
    "import numpy as np\n",
    "from moviepy.video.io.VideoFileClip import VideoFileClip\n",
    "from sklearn.model_selection import train_test_split\n",
    "import gc\n",
    "import copy\n",
    "from tqdm import tqdm\n",
    "import pytorch_lightning as pl\n",
    "from pytorch_lightning.callbacks import ModelCheckpoint\n",
    "from concurrent.futures import ThreadPoolExecutor\n",
    "import random\n",
    "import math\n",
    "from sklearn.metrics import mean_absolute_error, mean_squared_error, r2_score\n",
    "from transformers import ViTFeatureExtractor, ViTModel\n",
    "from torchviz import make_dot\n",
    "from torchsummary import summary\n",
    "\n"
   ]
  },
  {
   "cell_type": "code",
   "execution_count": 2,
   "metadata": {
    "collapsed": false,
    "jupyter": {
     "outputs_hidden": false
    },
    "pycharm": {
     "name": "#%%\n"
    }
   },
   "outputs": [],
   "source": [
    "!set PYTORCH_CUDA_ALLOC_CONF=expandable_segments:True"
   ]
  },
  {
   "cell_type": "code",
   "execution_count": 3,
   "metadata": {
    "collapsed": false,
    "jupyter": {
     "outputs_hidden": false
    },
    "pycharm": {
     "name": "#%%\n"
    }
   },
   "outputs": [
    {
     "name": "stdout",
     "output_type": "stream",
     "text": [
      "Archivo CitroenC4Picasso.zip ya ha sido extraído anteriormente.\n",
      "Archivo KiaSportage.zip ya ha sido extraído anteriormente.\n",
      "Archivo Mazda3.zip ya ha sido extraído anteriormente.\n",
      "Archivo MercedesAMG550.zip ya ha sido extraído anteriormente.\n",
      "Archivo MercedesGLA.zip ya ha sido extraído anteriormente.\n",
      "Archivo NissanQashqai.zip ya ha sido extraído anteriormente.\n",
      "Archivo OpelInsignia.zip ya ha sido extraído anteriormente.\n",
      "Archivo Peugeot208.zip ya ha sido extraído anteriormente.\n",
      "Archivo Peugeot3008.zip ya ha sido extraído anteriormente.\n",
      "Archivo Peugeot307.zip ya ha sido extraído anteriormente.\n",
      "Archivo RenaultCaptur.zip ya ha sido extraído anteriormente.\n",
      "Archivo RenaultScenic.zip ya ha sido extraído anteriormente.\n",
      "Archivo VWPassat.zip ya ha sido extraído anteriormente.\n"
     ]
    }
   ],
   "source": [
    "for file in os.listdir('cars'):\n",
    "    archivo_zip = file\n",
    "    directorio_destino = 'content'\n",
    "    nombre_carpeta = archivo_zip.replace('.zip', '')\n",
    "    ruta_carpeta_extraida = os.path.join(directorio_destino, nombre_carpeta)\n",
    "    if not os.path.exists(directorio_destino):\n",
    "        os.makedirs(directorio_destino)\n",
    "\n",
    "    if not os.path.exists(ruta_carpeta_extraida):\n",
    "        with zipfile.ZipFile('cars/'+archivo_zip, 'r') as zip_ref:\n",
    "            zip_ref.extractall(ruta_carpeta_extraida)\n",
    "        print(f'Archivo {archivo_zip} extraído exitosamente en {ruta_carpeta_extraida}')\n",
    "    else:\n",
    "        print(f'Archivo {archivo_zip} ya ha sido extraído anteriormente.')\n"
   ]
  },
  {
   "cell_type": "code",
   "execution_count": 4,
   "metadata": {
    "collapsed": false,
    "jupyter": {
     "outputs_hidden": false
    },
    "pycharm": {
     "name": "#%%\n"
    }
   },
   "outputs": [],
   "source": [
    "dict = {}\n",
    "for cars in os.listdir('content'):    \n",
    "    array = []\n",
    "    for data in os.listdir('content/'+cars):\n",
    "        if '.txt' in data and data != 'Train_valid_split.txt':\n",
    "            with open('content/'+cars+'/'+data, 'r') as file:\n",
    "                line = str(file.readline()).strip('\\'').strip('[').strip(']').split(' ')  \n",
    "                json = {}\n",
    "                json['speed'] = line[0]\n",
    "                json['time'] = line[1]\n",
    "                json['image'] = data.replace('.txt','.MP4')\n",
    "                array.append(json)\n",
    "    dict[str(cars)] = array"
   ]
  },
  {
   "cell_type": "code",
   "execution_count": 5,
   "metadata": {
    "collapsed": false,
    "jupyter": {
     "outputs_hidden": false
    },
    "pycharm": {
     "name": "#%%\n"
    }
   },
   "outputs": [],
   "source": [
    "dataframes = []\n",
    "for car, records in dict.items():\n",
    "    df = pd.DataFrame(records)\n",
    "    df['speed'] = df['speed'].astype(float)\n",
    "    df['time'] = df['time'].astype(float)\n",
    "    df['vehicle'] = car\n",
    "    dataframes.append(df)\n",
    "df_combined = pd.concat(dataframes, ignore_index=True)\n"
   ]
  },
  {
   "cell_type": "code",
   "execution_count": 6,
   "metadata": {
    "collapsed": false,
    "jupyter": {
     "outputs_hidden": false
    },
    "pycharm": {
     "name": "#%%\n"
    }
   },
   "outputs": [
    {
     "data": {
      "text/html": [
       "\n",
       "<style>\n",
       "  #altair-viz-6a12c344676542cab4402c5c2fd83a92.vega-embed {\n",
       "    width: 100%;\n",
       "    display: flex;\n",
       "  }\n",
       "\n",
       "  #altair-viz-6a12c344676542cab4402c5c2fd83a92.vega-embed details,\n",
       "  #altair-viz-6a12c344676542cab4402c5c2fd83a92.vega-embed details summary {\n",
       "    position: relative;\n",
       "  }\n",
       "</style>\n",
       "<div id=\"altair-viz-6a12c344676542cab4402c5c2fd83a92\"></div>\n",
       "<script type=\"text/javascript\">\n",
       "  var VEGA_DEBUG = (typeof VEGA_DEBUG == \"undefined\") ? {} : VEGA_DEBUG;\n",
       "  (function(spec, embedOpt){\n",
       "    let outputDiv = document.currentScript.previousElementSibling;\n",
       "    if (outputDiv.id !== \"altair-viz-6a12c344676542cab4402c5c2fd83a92\") {\n",
       "      outputDiv = document.getElementById(\"altair-viz-6a12c344676542cab4402c5c2fd83a92\");\n",
       "    }\n",
       "    const paths = {\n",
       "      \"vega\": \"https://cdn.jsdelivr.net/npm/vega@5?noext\",\n",
       "      \"vega-lib\": \"https://cdn.jsdelivr.net/npm/vega-lib?noext\",\n",
       "      \"vega-lite\": \"https://cdn.jsdelivr.net/npm/vega-lite@5.8.0?noext\",\n",
       "      \"vega-embed\": \"https://cdn.jsdelivr.net/npm/vega-embed@6?noext\",\n",
       "    };\n",
       "\n",
       "    function maybeLoadScript(lib, version) {\n",
       "      var key = `${lib.replace(\"-\", \"\")}_version`;\n",
       "      return (VEGA_DEBUG[key] == version) ?\n",
       "        Promise.resolve(paths[lib]) :\n",
       "        new Promise(function(resolve, reject) {\n",
       "          var s = document.createElement('script');\n",
       "          document.getElementsByTagName(\"head\")[0].appendChild(s);\n",
       "          s.async = true;\n",
       "          s.onload = () => {\n",
       "            VEGA_DEBUG[key] = version;\n",
       "            return resolve(paths[lib]);\n",
       "          };\n",
       "          s.onerror = () => reject(`Error loading script: ${paths[lib]}`);\n",
       "          s.src = paths[lib];\n",
       "        });\n",
       "    }\n",
       "\n",
       "    function showError(err) {\n",
       "      outputDiv.innerHTML = `<div class=\"error\" style=\"color:red;\">${err}</div>`;\n",
       "      throw err;\n",
       "    }\n",
       "\n",
       "    function displayChart(vegaEmbed) {\n",
       "      vegaEmbed(outputDiv, spec, embedOpt)\n",
       "        .catch(err => showError(`Javascript Error: ${err.message}<br>This usually means there's a typo in your chart specification. See the javascript console for the full traceback.`));\n",
       "    }\n",
       "\n",
       "    if(typeof define === \"function\" && define.amd) {\n",
       "      requirejs.config({paths});\n",
       "      require([\"vega-embed\"], displayChart, err => showError(`Error loading script: ${err.message}`));\n",
       "    } else {\n",
       "      maybeLoadScript(\"vega\", \"5\")\n",
       "        .then(() => maybeLoadScript(\"vega-lite\", \"5.8.0\"))\n",
       "        .then(() => maybeLoadScript(\"vega-embed\", \"6\"))\n",
       "        .catch(showError)\n",
       "        .then(() => displayChart(vegaEmbed));\n",
       "    }\n",
       "  })({\"config\": {\"view\": {\"continuousWidth\": 300, \"continuousHeight\": 300}, \"axis\": {\"grid\": true}, \"legend\": {\"labelFontSize\": 12, \"titleFontSize\": 14}, \"title\": {\"fontSize\": 18}}, \"data\": {\"name\": \"data-5d3be3fd43ab46cca79cf2374d1a4771\"}, \"mark\": {\"type\": \"point\", \"opacity\": 0.7, \"size\": 60}, \"encoding\": {\"color\": {\"condition\": {\"param\": \"param_1\", \"field\": \"vehicle\", \"type\": \"nominal\"}, \"value\": \"lightgray\"}, \"tooltip\": [{\"field\": \"vehicle\", \"type\": \"nominal\"}, {\"field\": \"speed\", \"type\": \"quantitative\"}, {\"field\": \"time\", \"type\": \"quantitative\"}], \"x\": {\"field\": \"speed\", \"title\": \"Velocidad (km/h)\", \"type\": \"quantitative\"}, \"y\": {\"field\": \"time\", \"title\": \"Tiempo (s)\", \"type\": \"quantitative\"}}, \"height\": 400, \"params\": [{\"name\": \"param_1\", \"select\": {\"type\": \"point\", \"fields\": [\"vehicle\"]}}], \"title\": \"Relaci\\u00f3n entre la Velocidad y el Tipo de Veh\\u00edculo\", \"width\": 800, \"$schema\": \"https://vega.github.io/schema/vega-lite/v5.8.0.json\", \"datasets\": {\"data-5d3be3fd43ab46cca79cf2374d1a4771\": [{\"speed\": 101.0, \"time\": 7.49, \"image\": \"CitroenC4Picasso_101.MP4\", \"vehicle\": \"CitroenC4Picasso\"}, {\"speed\": 35.0, \"time\": 6.25, \"image\": \"CitroenC4Picasso_35.MP4\", \"vehicle\": \"CitroenC4Picasso\"}, {\"speed\": 38.0, \"time\": 5.82, \"image\": \"CitroenC4Picasso_38.MP4\", \"vehicle\": \"CitroenC4Picasso\"}, {\"speed\": 41.0, \"time\": 6.16, \"image\": \"CitroenC4Picasso_41.MP4\", \"vehicle\": \"CitroenC4Picasso\"}, {\"speed\": 44.0, \"time\": 5.44, \"image\": \"CitroenC4Picasso_44.MP4\", \"vehicle\": \"CitroenC4Picasso\"}, {\"speed\": 48.0, \"time\": 6.03, \"image\": \"CitroenC4Picasso_48.MP4\", \"vehicle\": \"CitroenC4Picasso\"}, {\"speed\": 51.0, \"time\": 5.85, \"image\": \"CitroenC4Picasso_51.MP4\", \"vehicle\": \"CitroenC4Picasso\"}, {\"speed\": 54.0, \"time\": 5.65, \"image\": \"CitroenC4Picasso_54.MP4\", \"vehicle\": \"CitroenC4Picasso\"}, {\"speed\": 57.0, \"time\": 5.95, \"image\": \"CitroenC4Picasso_57.MP4\", \"vehicle\": \"CitroenC4Picasso\"}, {\"speed\": 59.0, \"time\": 5.85, \"image\": \"CitroenC4Picasso_59.MP4\", \"vehicle\": \"CitroenC4Picasso\"}, {\"speed\": 63.0, \"time\": 6.06, \"image\": \"CitroenC4Picasso_63.MP4\", \"vehicle\": \"CitroenC4Picasso\"}, {\"speed\": 65.0, \"time\": 5.66, \"image\": \"CitroenC4Picasso_65.MP4\", \"vehicle\": \"CitroenC4Picasso\"}, {\"speed\": 68.0, \"time\": 6.16, \"image\": \"CitroenC4Picasso_68.MP4\", \"vehicle\": \"CitroenC4Picasso\"}, {\"speed\": 72.0, \"time\": 5.75, \"image\": \"CitroenC4Picasso_72.MP4\", \"vehicle\": \"CitroenC4Picasso\"}, {\"speed\": 74.0, \"time\": 6.26, \"image\": \"CitroenC4Picasso_74.MP4\", \"vehicle\": \"CitroenC4Picasso\"}, {\"speed\": 78.0, \"time\": 6.14, \"image\": \"CitroenC4Picasso_78.MP4\", \"vehicle\": \"CitroenC4Picasso\"}, {\"speed\": 80.0, \"time\": 5.41, \"image\": \"CitroenC4Picasso_80.MP4\", \"vehicle\": \"CitroenC4Picasso\"}, {\"speed\": 83.0, \"time\": 6.63, \"image\": \"CitroenC4Picasso_83.MP4\", \"vehicle\": \"CitroenC4Picasso\"}, {\"speed\": 85.0, \"time\": 5.67, \"image\": \"CitroenC4Picasso_85.MP4\", \"vehicle\": \"CitroenC4Picasso\"}, {\"speed\": 87.0, \"time\": 6.19, \"image\": \"CitroenC4Picasso_87.MP4\", \"vehicle\": \"CitroenC4Picasso\"}, {\"speed\": 92.0, \"time\": 7.62, \"image\": \"CitroenC4Picasso_92.MP4\", \"vehicle\": \"CitroenC4Picasso\"}, {\"speed\": 94.0, \"time\": 6.79, \"image\": \"CitroenC4Picasso_94.MP4\", \"vehicle\": \"CitroenC4Picasso\"}, {\"speed\": 96.0, \"time\": 5.79, \"image\": \"CitroenC4Picasso_96.MP4\", \"vehicle\": \"CitroenC4Picasso\"}, {\"speed\": 100.0, \"time\": 4.98, \"image\": \"KiaSportage_100.MP4\", \"vehicle\": \"KiaSportage\"}, {\"speed\": 103.0, \"time\": 4.91, \"image\": \"KiaSportage_103.MP4\", \"vehicle\": \"KiaSportage\"}, {\"speed\": 105.0, \"time\": 4.98, \"image\": \"KiaSportage_105.MP4\", \"vehicle\": \"KiaSportage\"}, {\"speed\": 31.0, \"time\": 4.94, \"image\": \"KiaSportage_31.MP4\", \"vehicle\": \"KiaSportage\"}, {\"speed\": 33.0, \"time\": 4.91, \"image\": \"KiaSportage_33.MP4\", \"vehicle\": \"KiaSportage\"}, {\"speed\": 35.0, \"time\": 4.93, \"image\": \"KiaSportage_35.MP4\", \"vehicle\": \"KiaSportage\"}, {\"speed\": 38.0, \"time\": 5.05, \"image\": \"KiaSportage_38.MP4\", \"vehicle\": \"KiaSportage\"}, {\"speed\": 41.0, \"time\": 4.93, \"image\": \"KiaSportage_41.MP4\", \"vehicle\": \"KiaSportage\"}, {\"speed\": 44.0, \"time\": 5.02, \"image\": \"KiaSportage_44.MP4\", \"vehicle\": \"KiaSportage\"}, {\"speed\": 46.0, \"time\": 4.94, \"image\": \"KiaSportage_46.MP4\", \"vehicle\": \"KiaSportage\"}, {\"speed\": 48.0, \"time\": 4.96, \"image\": \"KiaSportage_48.MP4\", \"vehicle\": \"KiaSportage\"}, {\"speed\": 51.0, \"time\": 4.92, \"image\": \"KiaSportage_51.MP4\", \"vehicle\": \"KiaSportage\"}, {\"speed\": 53.0, \"time\": 4.97, \"image\": \"KiaSportage_53.MP4\", \"vehicle\": \"KiaSportage\"}, {\"speed\": 55.0, \"time\": 4.95, \"image\": \"KiaSportage_55.MP4\", \"vehicle\": \"KiaSportage\"}, {\"speed\": 58.0, \"time\": 4.92, \"image\": \"KiaSportage_58.MP4\", \"vehicle\": \"KiaSportage\"}, {\"speed\": 61.0, \"time\": 4.96, \"image\": \"KiaSportage_61.MP4\", \"vehicle\": \"KiaSportage\"}, {\"speed\": 63.0, \"time\": 5.0, \"image\": \"KiaSportage_63.MP4\", \"vehicle\": \"KiaSportage\"}, {\"speed\": 65.0, \"time\": 4.93, \"image\": \"KiaSportage_65.MP4\", \"vehicle\": \"KiaSportage\"}, {\"speed\": 68.0, \"time\": 4.96, \"image\": \"KiaSportage_68.MP4\", \"vehicle\": \"KiaSportage\"}, {\"speed\": 69.0, \"time\": 4.94, \"image\": \"KiaSportage_69.MP4\", \"vehicle\": \"KiaSportage\"}, {\"speed\": 72.0, \"time\": 4.95, \"image\": \"KiaSportage_72.MP4\", \"vehicle\": \"KiaSportage\"}, {\"speed\": 74.0, \"time\": 4.94, \"image\": \"KiaSportage_74.MP4\", \"vehicle\": \"KiaSportage\"}, {\"speed\": 77.0, \"time\": 5.02, \"image\": \"KiaSportage_77.MP4\", \"vehicle\": \"KiaSportage\"}, {\"speed\": 78.0, \"time\": 4.95, \"image\": \"KiaSportage_78.MP4\", \"vehicle\": \"KiaSportage\"}, {\"speed\": 80.0, \"time\": 4.94, \"image\": \"KiaSportage_80.MP4\", \"vehicle\": \"KiaSportage\"}, {\"speed\": 83.0, \"time\": 4.95, \"image\": \"KiaSportage_83.MP4\", \"vehicle\": \"KiaSportage\"}, {\"speed\": 85.0, \"time\": 4.95, \"image\": \"KiaSportage_85.MP4\", \"vehicle\": \"KiaSportage\"}, {\"speed\": 86.0, \"time\": 4.92, \"image\": \"KiaSportage_86.MP4\", \"vehicle\": \"KiaSportage\"}, {\"speed\": 89.0, \"time\": 4.98, \"image\": \"KiaSportage_89.MP4\", \"vehicle\": \"KiaSportage\"}, {\"speed\": 91.0, \"time\": 4.95, \"image\": \"KiaSportage_91.MP4\", \"vehicle\": \"KiaSportage\"}, {\"speed\": 93.0, \"time\": 4.98, \"image\": \"KiaSportage_93.MP4\", \"vehicle\": \"KiaSportage\"}, {\"speed\": 96.0, \"time\": 4.91, \"image\": \"KiaSportage_96.MP4\", \"vehicle\": \"KiaSportage\"}, {\"speed\": 98.0, \"time\": 4.92, \"image\": \"KiaSportage_98.MP4\", \"vehicle\": \"KiaSportage\"}, {\"speed\": 101.0, \"time\": 5.04, \"image\": \"Mazda3_101.MP4\", \"vehicle\": \"Mazda3\"}, {\"speed\": 103.0, \"time\": 5.07, \"image\": \"Mazda3_103.MP4\", \"vehicle\": \"Mazda3\"}, {\"speed\": 105.0, \"time\": 4.99, \"image\": \"Mazda3_105.MP4\", \"vehicle\": \"Mazda3\"}, {\"speed\": 30.0, \"time\": 5.23, \"image\": \"Mazda3_30.MP4\", \"vehicle\": \"Mazda3\"}, {\"speed\": 33.0, \"time\": 5.08, \"image\": \"Mazda3_33.MP4\", \"vehicle\": \"Mazda3\"}, {\"speed\": 35.0, \"time\": 5.12, \"image\": \"Mazda3_35.MP4\", \"vehicle\": \"Mazda3\"}, {\"speed\": 38.0, \"time\": 5.15, \"image\": \"Mazda3_38.MP4\", \"vehicle\": \"Mazda3\"}, {\"speed\": 40.0, \"time\": 5.02, \"image\": \"Mazda3_40.MP4\", \"vehicle\": \"Mazda3\"}, {\"speed\": 43.0, \"time\": 5.02, \"image\": \"Mazda3_43.MP4\", \"vehicle\": \"Mazda3\"}, {\"speed\": 45.0, \"time\": 5.31, \"image\": \"Mazda3_45.MP4\", \"vehicle\": \"Mazda3\"}, {\"speed\": 47.0, \"time\": 5.42, \"image\": \"Mazda3_47.MP4\", \"vehicle\": \"Mazda3\"}, {\"speed\": 50.0, \"time\": 5.62, \"image\": \"Mazda3_50.MP4\", \"vehicle\": \"Mazda3\"}, {\"speed\": 52.0, \"time\": 5.15, \"image\": \"Mazda3_52.MP4\", \"vehicle\": \"Mazda3\"}, {\"speed\": 55.0, \"time\": 5.68, \"image\": \"Mazda3_55.MP4\", \"vehicle\": \"Mazda3\"}, {\"speed\": 57.0, \"time\": 5.08, \"image\": \"Mazda3_57.MP4\", \"vehicle\": \"Mazda3\"}, {\"speed\": 60.0, \"time\": 5.09, \"image\": \"Mazda3_60.MP4\", \"vehicle\": \"Mazda3\"}, {\"speed\": 62.0, \"time\": 5.25, \"image\": \"Mazda3_62.MP4\", \"vehicle\": \"Mazda3\"}, {\"speed\": 64.0, \"time\": 5.02, \"image\": \"Mazda3_64.MP4\", \"vehicle\": \"Mazda3\"}, {\"speed\": 67.0, \"time\": 5.65, \"image\": \"Mazda3_67.MP4\", \"vehicle\": \"Mazda3\"}, {\"speed\": 70.0, \"time\": 5.05, \"image\": \"Mazda3_70.MP4\", \"vehicle\": \"Mazda3\"}, {\"speed\": 72.0, \"time\": 5.16, \"image\": \"Mazda3_72.MP4\", \"vehicle\": \"Mazda3\"}, {\"speed\": 75.0, \"time\": 5.02, \"image\": \"Mazda3_75.MP4\", \"vehicle\": \"Mazda3\"}, {\"speed\": 79.0, \"time\": 5.05, \"image\": \"Mazda3_79.MP4\", \"vehicle\": \"Mazda3\"}, {\"speed\": 81.0, \"time\": 5.22, \"image\": \"Mazda3_81.MP4\", \"vehicle\": \"Mazda3\"}, {\"speed\": 84.0, \"time\": 5.08, \"image\": \"Mazda3_84.MP4\", \"vehicle\": \"Mazda3\"}, {\"speed\": 86.0, \"time\": 5.19, \"image\": \"Mazda3_86.MP4\", \"vehicle\": \"Mazda3\"}, {\"speed\": 88.0, \"time\": 5.09, \"image\": \"Mazda3_88.MP4\", \"vehicle\": \"Mazda3\"}, {\"speed\": 90.0, \"time\": 5.11, \"image\": \"Mazda3_90.MP4\", \"vehicle\": \"Mazda3\"}, {\"speed\": 92.0, \"time\": 5.22, \"image\": \"Mazda3_92.MP4\", \"vehicle\": \"Mazda3\"}, {\"speed\": 94.0, \"time\": 5.04, \"image\": \"Mazda3_94.MP4\", \"vehicle\": \"Mazda3\"}, {\"speed\": 96.0, \"time\": 5.02, \"image\": \"Mazda3_96.MP4\", \"vehicle\": \"Mazda3\"}, {\"speed\": 99.0, \"time\": 4.98, \"image\": \"Mazda3_99.MP4\", \"vehicle\": \"Mazda3\"}, {\"speed\": 100.0, \"time\": 4.94, \"image\": \"MercedesAMG550_100.MP4\", \"vehicle\": \"MercedesAMG550\"}, {\"speed\": 105.0, \"time\": 4.45, \"image\": \"MercedesAMG550_105.MP4\", \"vehicle\": \"MercedesAMG550\"}, {\"speed\": 30.0, \"time\": 5.07, \"image\": \"MercedesAMG550_30.MP4\", \"vehicle\": \"MercedesAMG550\"}, {\"speed\": 33.0, \"time\": 5.68, \"image\": \"MercedesAMG550_33.MP4\", \"vehicle\": \"MercedesAMG550\"}, {\"speed\": 35.0, \"time\": 5.99, \"image\": \"MercedesAMG550_35.MP4\", \"vehicle\": \"MercedesAMG550\"}, {\"speed\": 38.0, \"time\": 5.88, \"image\": \"MercedesAMG550_38.MP4\", \"vehicle\": \"MercedesAMG550\"}, {\"speed\": 40.0, \"time\": 5.13, \"image\": \"MercedesAMG550_40.MP4\", \"vehicle\": \"MercedesAMG550\"}, {\"speed\": 42.0, \"time\": 6.28, \"image\": \"MercedesAMG550_42.MP4\", \"vehicle\": \"MercedesAMG550\"}, {\"speed\": 45.0, \"time\": 5.06, \"image\": \"MercedesAMG550_45.MP4\", \"vehicle\": \"MercedesAMG550\"}, {\"speed\": 47.0, \"time\": 5.67, \"image\": \"MercedesAMG550_47.MP4\", \"vehicle\": \"MercedesAMG550\"}, {\"speed\": 50.0, \"time\": 5.19, \"image\": \"MercedesAMG550_50.MP4\", \"vehicle\": \"MercedesAMG550\"}, {\"speed\": 52.0, \"time\": 5.89, \"image\": \"MercedesAMG550_52.MP4\", \"vehicle\": \"MercedesAMG550\"}, {\"speed\": 55.0, \"time\": 5.07, \"image\": \"MercedesAMG550_55.MP4\", \"vehicle\": \"MercedesAMG550\"}, {\"speed\": 58.0, \"time\": 5.65, \"image\": \"MercedesAMG550_58.MP4\", \"vehicle\": \"MercedesAMG550\"}, {\"speed\": 60.0, \"time\": 5.25, \"image\": \"MercedesAMG550_60.MP4\", \"vehicle\": \"MercedesAMG550\"}, {\"speed\": 62.0, \"time\": 5.38, \"image\": \"MercedesAMG550_62.MP4\", \"vehicle\": \"MercedesAMG550\"}, {\"speed\": 65.0, \"time\": 7.04, \"image\": \"MercedesAMG550_65.MP4\", \"vehicle\": \"MercedesAMG550\"}, {\"speed\": 67.0, \"time\": 5.76, \"image\": \"MercedesAMG550_67.MP4\", \"vehicle\": \"MercedesAMG550\"}, {\"speed\": 70.0, \"time\": 4.83, \"image\": \"MercedesAMG550_70.MP4\", \"vehicle\": \"MercedesAMG550\"}, {\"speed\": 73.0, \"time\": 5.63, \"image\": \"MercedesAMG550_73.MP4\", \"vehicle\": \"MercedesAMG550\"}, {\"speed\": 75.0, \"time\": 5.11, \"image\": \"MercedesAMG550_75.MP4\", \"vehicle\": \"MercedesAMG550\"}, {\"speed\": 78.0, \"time\": 6.11, \"image\": \"MercedesAMG550_78.MP4\", \"vehicle\": \"MercedesAMG550\"}, {\"speed\": 80.0, \"time\": 4.9, \"image\": \"MercedesAMG550_80.MP4\", \"vehicle\": \"MercedesAMG550\"}, {\"speed\": 82.0, \"time\": 5.82, \"image\": \"MercedesAMG550_82.MP4\", \"vehicle\": \"MercedesAMG550\"}, {\"speed\": 85.0, \"time\": 4.84, \"image\": \"MercedesAMG550_85.MP4\", \"vehicle\": \"MercedesAMG550\"}, {\"speed\": 87.0, \"time\": 5.41, \"image\": \"MercedesAMG550_87.MP4\", \"vehicle\": \"MercedesAMG550\"}, {\"speed\": 90.0, \"time\": 6.0, \"image\": \"MercedesAMG550_90.MP4\", \"vehicle\": \"MercedesAMG550\"}, {\"speed\": 93.0, \"time\": 5.68, \"image\": \"MercedesAMG550_93.MP4\", \"vehicle\": \"MercedesAMG550\"}, {\"speed\": 95.0, \"time\": 5.0, \"image\": \"MercedesAMG550_95.MP4\", \"vehicle\": \"MercedesAMG550\"}, {\"speed\": 98.0, \"time\": 5.44, \"image\": \"MercedesAMG550_98.MP4\", \"vehicle\": \"MercedesAMG550\"}, {\"speed\": 100.0, \"time\": 5.0, \"image\": \"MercedesGLA_100.MP4\", \"vehicle\": \"MercedesGLA\"}, {\"speed\": 101.0, \"time\": 5.01, \"image\": \"MercedesGLA_101.MP4\", \"vehicle\": \"MercedesGLA\"}, {\"speed\": 103.0, \"time\": 5.01, \"image\": \"MercedesGLA_103.MP4\", \"vehicle\": \"MercedesGLA\"}, {\"speed\": 104.0, \"time\": 5.01, \"image\": \"MercedesGLA_104.MP4\", \"vehicle\": \"MercedesGLA\"}, {\"speed\": 30.0, \"time\": 4.99, \"image\": \"MercedesGLA_30.MP4\", \"vehicle\": \"MercedesGLA\"}, {\"speed\": 33.0, \"time\": 4.98, \"image\": \"MercedesGLA_33.MP4\", \"vehicle\": \"MercedesGLA\"}, {\"speed\": 36.0, \"time\": 4.99, \"image\": \"MercedesGLA_36.MP4\", \"vehicle\": \"MercedesGLA\"}, {\"speed\": 39.0, \"time\": 5.0, \"image\": \"MercedesGLA_39.MP4\", \"vehicle\": \"MercedesGLA\"}, {\"speed\": 41.0, \"time\": 4.99, \"image\": \"MercedesGLA_41.MP4\", \"vehicle\": \"MercedesGLA\"}, {\"speed\": 42.0, \"time\": 5.0, \"image\": \"MercedesGLA_42.MP4\", \"vehicle\": \"MercedesGLA\"}, {\"speed\": 45.0, \"time\": 5.02, \"image\": \"MercedesGLA_45.MP4\", \"vehicle\": \"MercedesGLA\"}, {\"speed\": 47.0, \"time\": 5.0, \"image\": \"MercedesGLA_47.MP4\", \"vehicle\": \"MercedesGLA\"}, {\"speed\": 48.0, \"time\": 5.0, \"image\": \"MercedesGLA_48.MP4\", \"vehicle\": \"MercedesGLA\"}, {\"speed\": 49.0, \"time\": 5.01, \"image\": \"MercedesGLA_49.MP4\", \"vehicle\": \"MercedesGLA\"}, {\"speed\": 52.0, \"time\": 5.0, \"image\": \"MercedesGLA_52.MP4\", \"vehicle\": \"MercedesGLA\"}, {\"speed\": 54.0, \"time\": 5.0, \"image\": \"MercedesGLA_54.MP4\", \"vehicle\": \"MercedesGLA\"}, {\"speed\": 55.0, \"time\": 4.99, \"image\": \"MercedesGLA_55.MP4\", \"vehicle\": \"MercedesGLA\"}, {\"speed\": 59.0, \"time\": 5.01, \"image\": \"MercedesGLA_59.MP4\", \"vehicle\": \"MercedesGLA\"}, {\"speed\": 61.0, \"time\": 5.08, \"image\": \"MercedesGLA_61.MP4\", \"vehicle\": \"MercedesGLA\"}, {\"speed\": 63.0, \"time\": 4.99, \"image\": \"MercedesGLA_63.MP4\", \"vehicle\": \"MercedesGLA\"}, {\"speed\": 65.0, \"time\": 4.99, \"image\": \"MercedesGLA_65.MP4\", \"vehicle\": \"MercedesGLA\"}, {\"speed\": 68.0, \"time\": 4.99, \"image\": \"MercedesGLA_68.MP4\", \"vehicle\": \"MercedesGLA\"}, {\"speed\": 70.0, \"time\": 5.01, \"image\": \"MercedesGLA_70.MP4\", \"vehicle\": \"MercedesGLA\"}, {\"speed\": 72.0, \"time\": 5.0, \"image\": \"MercedesGLA_72.MP4\", \"vehicle\": \"MercedesGLA\"}, {\"speed\": 75.0, \"time\": 5.0, \"image\": \"MercedesGLA_75.MP4\", \"vehicle\": \"MercedesGLA\"}, {\"speed\": 78.0, \"time\": 5.0, \"image\": \"MercedesGLA_78.MP4\", \"vehicle\": \"MercedesGLA\"}, {\"speed\": 81.0, \"time\": 5.01, \"image\": \"MercedesGLA_81.MP4\", \"vehicle\": \"MercedesGLA\"}, {\"speed\": 83.0, \"time\": 5.01, \"image\": \"MercedesGLA_83.MP4\", \"vehicle\": \"MercedesGLA\"}, {\"speed\": 85.0, \"time\": 5.01, \"image\": \"MercedesGLA_85.MP4\", \"vehicle\": \"MercedesGLA\"}, {\"speed\": 88.0, \"time\": 4.99, \"image\": \"MercedesGLA_88.MP4\", \"vehicle\": \"MercedesGLA\"}, {\"speed\": 90.0, \"time\": 5.1, \"image\": \"MercedesGLA_90.MP4\", \"vehicle\": \"MercedesGLA\"}, {\"speed\": 92.0, \"time\": 5.01, \"image\": \"MercedesGLA_92.MP4\", \"vehicle\": \"MercedesGLA\"}, {\"speed\": 93.0, \"time\": 4.99, \"image\": \"MercedesGLA_93.MP4\", \"vehicle\": \"MercedesGLA\"}, {\"speed\": 96.0, \"time\": 5.0, \"image\": \"MercedesGLA_96.MP4\", \"vehicle\": \"MercedesGLA\"}, {\"speed\": 102.0, \"time\": 5.62, \"image\": \"NissanQashqai_102.MP4\", \"vehicle\": \"NissanQashqai\"}, {\"speed\": 35.0, \"time\": 6.1, \"image\": \"NissanQashqai_35.MP4\", \"vehicle\": \"NissanQashqai\"}, {\"speed\": 38.0, \"time\": 6.19, \"image\": \"NissanQashqai_38.MP4\", \"vehicle\": \"NissanQashqai\"}, {\"speed\": 40.0, \"time\": 5.21, \"image\": \"NissanQashqai_40.MP4\", \"vehicle\": \"NissanQashqai\"}, {\"speed\": 42.0, \"time\": 5.14, \"image\": \"NissanQashqai_42.MP4\", \"vehicle\": \"NissanQashqai\"}, {\"speed\": 45.0, \"time\": 6.01, \"image\": \"NissanQashqai_45.MP4\", \"vehicle\": \"NissanQashqai\"}, {\"speed\": 48.0, \"time\": 5.21, \"image\": \"NissanQashqai_48.MP4\", \"vehicle\": \"NissanQashqai\"}, {\"speed\": 50.0, \"time\": 5.85, \"image\": \"NissanQashqai_50.MP4\", \"vehicle\": \"NissanQashqai\"}, {\"speed\": 53.0, \"time\": 5.99, \"image\": \"NissanQashqai_53.MP4\", \"vehicle\": \"NissanQashqai\"}, {\"speed\": 55.0, \"time\": 5.9, \"image\": \"NissanQashqai_55.MP4\", \"vehicle\": \"NissanQashqai\"}, {\"speed\": 58.0, \"time\": 5.61, \"image\": \"NissanQashqai_58.MP4\", \"vehicle\": \"NissanQashqai\"}, {\"speed\": 60.0, \"time\": 5.58, \"image\": \"NissanQashqai_60.MP4\", \"vehicle\": \"NissanQashqai\"}, {\"speed\": 61.0, \"time\": 6.08, \"image\": \"NissanQashqai_61.MP4\", \"vehicle\": \"NissanQashqai\"}, {\"speed\": 64.0, \"time\": 5.92, \"image\": \"NissanQashqai_64.MP4\", \"vehicle\": \"NissanQashqai\"}, {\"speed\": 65.0, \"time\": 5.58, \"image\": \"NissanQashqai_65.MP4\", \"vehicle\": \"NissanQashqai\"}, {\"speed\": 68.0, \"time\": 5.98, \"image\": \"NissanQashqai_68.MP4\", \"vehicle\": \"NissanQashqai\"}, {\"speed\": 70.0, \"time\": 6.04, \"image\": \"NissanQashqai_70.MP4\", \"vehicle\": \"NissanQashqai\"}, {\"speed\": 73.0, \"time\": 6.14, \"image\": \"NissanQashqai_73.MP4\", \"vehicle\": \"NissanQashqai\"}, {\"speed\": 75.0, \"time\": 6.01, \"image\": \"NissanQashqai_75.MP4\", \"vehicle\": \"NissanQashqai\"}, {\"speed\": 78.0, \"time\": 5.9, \"image\": \"NissanQashqai_78.MP4\", \"vehicle\": \"NissanQashqai\"}, {\"speed\": 80.0, \"time\": 5.79, \"image\": \"NissanQashqai_80.MP4\", \"vehicle\": \"NissanQashqai\"}, {\"speed\": 82.0, \"time\": 5.72, \"image\": \"NissanQashqai_82.MP4\", \"vehicle\": \"NissanQashqai\"}, {\"speed\": 85.0, \"time\": 5.91, \"image\": \"NissanQashqai_85.MP4\", \"vehicle\": \"NissanQashqai\"}, {\"speed\": 88.0, \"time\": 6.13, \"image\": \"NissanQashqai_88.MP4\", \"vehicle\": \"NissanQashqai\"}, {\"speed\": 90.0, \"time\": 5.52, \"image\": \"NissanQashqai_90.MP4\", \"vehicle\": \"NissanQashqai\"}, {\"speed\": 93.0, \"time\": 5.79, \"image\": \"NissanQashqai_93.MP4\", \"vehicle\": \"NissanQashqai\"}, {\"speed\": 94.0, \"time\": 5.28, \"image\": \"NissanQashqai_94.MP4\", \"vehicle\": \"NissanQashqai\"}, {\"speed\": 96.0, \"time\": 5.58, \"image\": \"NissanQashqai_96.MP4\", \"vehicle\": \"NissanQashqai\"}, {\"speed\": 98.0, \"time\": 5.38, \"image\": \"NissanQashqai_98.MP4\", \"vehicle\": \"NissanQashqai\"}, {\"speed\": 100.0, \"time\": 5.02, \"image\": \"OpelInsignia_100.MP4\", \"vehicle\": \"OpelInsignia\"}, {\"speed\": 31.0, \"time\": 6.05, \"image\": \"OpelInsignia_31.MP4\", \"vehicle\": \"OpelInsignia\"}, {\"speed\": 35.0, \"time\": 5.92, \"image\": \"OpelInsignia_35.MP4\", \"vehicle\": \"OpelInsignia\"}, {\"speed\": 38.0, \"time\": 6.68, \"image\": \"OpelInsignia_38.MP4\", \"vehicle\": \"OpelInsignia\"}, {\"speed\": 41.0, \"time\": 6.51, \"image\": \"OpelInsignia_41.MP4\", \"vehicle\": \"OpelInsignia\"}, {\"speed\": 44.0, \"time\": 5.92, \"image\": \"OpelInsignia_44.MP4\", \"vehicle\": \"OpelInsignia\"}, {\"speed\": 47.0, \"time\": 5.91, \"image\": \"OpelInsignia_47.MP4\", \"vehicle\": \"OpelInsignia\"}, {\"speed\": 50.0, \"time\": 6.42, \"image\": \"OpelInsignia_50.MP4\", \"vehicle\": \"OpelInsignia\"}, {\"speed\": 53.0, \"time\": 5.71, \"image\": \"OpelInsignia_53.MP4\", \"vehicle\": \"OpelInsignia\"}, {\"speed\": 55.0, \"time\": 5.51, \"image\": \"OpelInsignia_55.MP4\", \"vehicle\": \"OpelInsignia\"}, {\"speed\": 58.0, \"time\": 5.48, \"image\": \"OpelInsignia_58.MP4\", \"vehicle\": \"OpelInsignia\"}, {\"speed\": 61.0, \"time\": 5.54, \"image\": \"OpelInsignia_61.MP4\", \"vehicle\": \"OpelInsignia\"}, {\"speed\": 64.0, \"time\": 5.74, \"image\": \"OpelInsignia_64.MP4\", \"vehicle\": \"OpelInsignia\"}, {\"speed\": 66.0, \"time\": 5.35, \"image\": \"OpelInsignia_66.MP4\", \"vehicle\": \"OpelInsignia\"}, {\"speed\": 68.0, \"time\": 5.25, \"image\": \"OpelInsignia_68.MP4\", \"vehicle\": \"OpelInsignia\"}, {\"speed\": 70.0, \"time\": 5.91, \"image\": \"OpelInsignia_70.MP4\", \"vehicle\": \"OpelInsignia\"}, {\"speed\": 72.0, \"time\": 6.09, \"image\": \"OpelInsignia_72.MP4\", \"vehicle\": \"OpelInsignia\"}, {\"speed\": 73.0, \"time\": 5.39, \"image\": \"OpelInsignia_73.MP4\", \"vehicle\": \"OpelInsignia\"}, {\"speed\": 76.0, \"time\": 6.22, \"image\": \"OpelInsignia_76.MP4\", \"vehicle\": \"OpelInsignia\"}, {\"speed\": 78.0, \"time\": 5.21, \"image\": \"OpelInsignia_78.MP4\", \"vehicle\": \"OpelInsignia\"}, {\"speed\": 80.0, \"time\": 6.24, \"image\": \"OpelInsignia_80.MP4\", \"vehicle\": \"OpelInsignia\"}, {\"speed\": 83.0, \"time\": 6.02, \"image\": \"OpelInsignia_83.MP4\", \"vehicle\": \"OpelInsignia\"}, {\"speed\": 86.0, \"time\": 5.51, \"image\": \"OpelInsignia_86.MP4\", \"vehicle\": \"OpelInsignia\"}, {\"speed\": 89.0, \"time\": 5.59, \"image\": \"OpelInsignia_89.MP4\", \"vehicle\": \"OpelInsignia\"}, {\"speed\": 91.0, \"time\": 5.38, \"image\": \"OpelInsignia_91.MP4\", \"vehicle\": \"OpelInsignia\"}, {\"speed\": 94.0, \"time\": 5.81, \"image\": \"OpelInsignia_94.MP4\", \"vehicle\": \"OpelInsignia\"}, {\"speed\": 97.0, \"time\": 5.72, \"image\": \"OpelInsignia_97.MP4\", \"vehicle\": \"OpelInsignia\"}, {\"speed\": 30.0, \"time\": 5.14, \"image\": \"Peugeot208_30.MP4\", \"vehicle\": \"Peugeot208\"}, {\"speed\": 32.0, \"time\": 5.04, \"image\": \"Peugeot208_32.MP4\", \"vehicle\": \"Peugeot208\"}, {\"speed\": 34.0, \"time\": 5.04, \"image\": \"Peugeot208_34.MP4\", \"vehicle\": \"Peugeot208\"}, {\"speed\": 37.0, \"time\": 5.15, \"image\": \"Peugeot208_37.MP4\", \"vehicle\": \"Peugeot208\"}, {\"speed\": 40.0, \"time\": 5.14, \"image\": \"Peugeot208_40.MP4\", \"vehicle\": \"Peugeot208\"}, {\"speed\": 43.0, \"time\": 5.1, \"image\": \"Peugeot208_43.MP4\", \"vehicle\": \"Peugeot208\"}, {\"speed\": 45.0, \"time\": 5.12, \"image\": \"Peugeot208_45.MP4\", \"vehicle\": \"Peugeot208\"}, {\"speed\": 47.0, \"time\": 5.02, \"image\": \"Peugeot208_47.MP4\", \"vehicle\": \"Peugeot208\"}, {\"speed\": 50.0, \"time\": 4.93, \"image\": \"Peugeot208_50.MP4\", \"vehicle\": \"Peugeot208\"}, {\"speed\": 51.0, \"time\": 5.52, \"image\": \"Peugeot208_51.MP4\", \"vehicle\": \"Peugeot208\"}, {\"speed\": 54.0, \"time\": 5.17, \"image\": \"Peugeot208_54.MP4\", \"vehicle\": \"Peugeot208\"}, {\"speed\": 57.0, \"time\": 5.51, \"image\": \"Peugeot208_57.MP4\", \"vehicle\": \"Peugeot208\"}, {\"speed\": 60.0, \"time\": 5.06, \"image\": \"Peugeot208_60.MP4\", \"vehicle\": \"Peugeot208\"}, {\"speed\": 62.0, \"time\": 5.09, \"image\": \"Peugeot208_62.MP4\", \"vehicle\": \"Peugeot208\"}, {\"speed\": 64.0, \"time\": 5.22, \"image\": \"Peugeot208_64.MP4\", \"vehicle\": \"Peugeot208\"}, {\"speed\": 67.0, \"time\": 5.03, \"image\": \"Peugeot208_67.MP4\", \"vehicle\": \"Peugeot208\"}, {\"speed\": 68.0, \"time\": 5.18, \"image\": \"Peugeot208_68.MP4\", \"vehicle\": \"Peugeot208\"}, {\"speed\": 71.0, \"time\": 5.16, \"image\": \"Peugeot208_71.MP4\", \"vehicle\": \"Peugeot208\"}, {\"speed\": 73.0, \"time\": 4.99, \"image\": \"Peugeot208_73.MP4\", \"vehicle\": \"Peugeot208\"}, {\"speed\": 76.0, \"time\": 5.61, \"image\": \"Peugeot208_76.MP4\", \"vehicle\": \"Peugeot208\"}, {\"speed\": 77.0, \"time\": 6.26, \"image\": \"Peugeot208_77.MP4\", \"vehicle\": \"Peugeot208\"}, {\"speed\": 79.0, \"time\": 5.22, \"image\": \"Peugeot208_79.MP4\", \"vehicle\": \"Peugeot208\"}, {\"speed\": 82.0, \"time\": 5.17, \"image\": \"Peugeot208_82.MP4\", \"vehicle\": \"Peugeot208\"}, {\"speed\": 84.0, \"time\": 5.12, \"image\": \"Peugeot208_84.MP4\", \"vehicle\": \"Peugeot208\"}, {\"speed\": 87.0, \"time\": 5.48, \"image\": \"Peugeot208_87.MP4\", \"vehicle\": \"Peugeot208\"}, {\"speed\": 90.0, \"time\": 5.18, \"image\": \"Peugeot208_90.MP4\", \"vehicle\": \"Peugeot208\"}, {\"speed\": 92.0, \"time\": 5.48, \"image\": \"Peugeot208_92.MP4\", \"vehicle\": \"Peugeot208\"}, {\"speed\": 95.0, \"time\": 5.59, \"image\": \"Peugeot208_95.MP4\", \"vehicle\": \"Peugeot208\"}, {\"speed\": 96.0, \"time\": 5.43, \"image\": \"Peugeot208_96.MP4\", \"vehicle\": \"Peugeot208\"}, {\"speed\": 100.0, \"time\": 5.5, \"image\": \"Peugeot3008_100.MP4\", \"vehicle\": \"Peugeot3008\"}, {\"speed\": 40.0, \"time\": 6.01, \"image\": \"Peugeot3008_40.MP4\", \"vehicle\": \"Peugeot3008\"}, {\"speed\": 43.0, \"time\": 4.93, \"image\": \"Peugeot3008_43.MP4\", \"vehicle\": \"Peugeot3008\"}, {\"speed\": 45.0, \"time\": 6.0, \"image\": \"Peugeot3008_45.MP4\", \"vehicle\": \"Peugeot3008\"}, {\"speed\": 47.0, \"time\": 5.89, \"image\": \"Peugeot3008_47.MP4\", \"vehicle\": \"Peugeot3008\"}, {\"speed\": 50.0, \"time\": 5.99, \"image\": \"Peugeot3008_50.MP4\", \"vehicle\": \"Peugeot3008\"}, {\"speed\": 52.0, \"time\": 6.86, \"image\": \"Peugeot3008_52.MP4\", \"vehicle\": \"Peugeot3008\"}, {\"speed\": 54.0, \"time\": 5.84, \"image\": \"Peugeot3008_54.MP4\", \"vehicle\": \"Peugeot3008\"}, {\"speed\": 55.0, \"time\": 6.02, \"image\": \"Peugeot3008_55.MP4\", \"vehicle\": \"Peugeot3008\"}, {\"speed\": 56.0, \"time\": 5.71, \"image\": \"Peugeot3008_56.MP4\", \"vehicle\": \"Peugeot3008\"}, {\"speed\": 58.0, \"time\": 4.89, \"image\": \"Peugeot3008_58.MP4\", \"vehicle\": \"Peugeot3008\"}, {\"speed\": 60.0, \"time\": 5.99, \"image\": \"Peugeot3008_60.MP4\", \"vehicle\": \"Peugeot3008\"}, {\"speed\": 61.0, \"time\": 5.43, \"image\": \"Peugeot3008_61.MP4\", \"vehicle\": \"Peugeot3008\"}, {\"speed\": 63.0, \"time\": 7.22, \"image\": \"Peugeot3008_63.MP4\", \"vehicle\": \"Peugeot3008\"}, {\"speed\": 65.0, \"time\": 6.0, \"image\": \"Peugeot3008_65.MP4\", \"vehicle\": \"Peugeot3008\"}, {\"speed\": 67.0, \"time\": 5.69, \"image\": \"Peugeot3008_67.MP4\", \"vehicle\": \"Peugeot3008\"}, {\"speed\": 68.0, \"time\": 5.97, \"image\": \"Peugeot3008_68.MP4\", \"vehicle\": \"Peugeot3008\"}, {\"speed\": 70.0, \"time\": 6.0, \"image\": \"Peugeot3008_70.MP4\", \"vehicle\": \"Peugeot3008\"}, {\"speed\": 72.0, \"time\": 5.53, \"image\": \"Peugeot3008_72.MP4\", \"vehicle\": \"Peugeot3008\"}, {\"speed\": 74.0, \"time\": 5.88, \"image\": \"Peugeot3008_74.MP4\", \"vehicle\": \"Peugeot3008\"}, {\"speed\": 75.0, \"time\": 6.09, \"image\": \"Peugeot3008_75.MP4\", \"vehicle\": \"Peugeot3008\"}, {\"speed\": 78.0, \"time\": 5.6, \"image\": \"Peugeot3008_78.MP4\", \"vehicle\": \"Peugeot3008\"}, {\"speed\": 80.0, \"time\": 6.01, \"image\": \"Peugeot3008_80.MP4\", \"vehicle\": \"Peugeot3008\"}, {\"speed\": 83.0, \"time\": 6.62, \"image\": \"Peugeot3008_83.MP4\", \"vehicle\": \"Peugeot3008\"}, {\"speed\": 85.0, \"time\": 6.38, \"image\": \"Peugeot3008_85.MP4\", \"vehicle\": \"Peugeot3008\"}, {\"speed\": 87.0, \"time\": 5.35, \"image\": \"Peugeot3008_87.MP4\", \"vehicle\": \"Peugeot3008\"}, {\"speed\": 89.0, \"time\": 5.15, \"image\": \"Peugeot3008_89.MP4\", \"vehicle\": \"Peugeot3008\"}, {\"speed\": 90.0, \"time\": 5.99, \"image\": \"Peugeot3008_90.MP4\", \"vehicle\": \"Peugeot3008\"}, {\"speed\": 92.0, \"time\": 5.37, \"image\": \"Peugeot3008_92.MP4\", \"vehicle\": \"Peugeot3008\"}, {\"speed\": 95.0, \"time\": 6.1, \"image\": \"Peugeot3008_95.MP4\", \"vehicle\": \"Peugeot3008\"}, {\"speed\": 97.0, \"time\": 6.39, \"image\": \"Peugeot3008_97.MP4\", \"vehicle\": \"Peugeot3008\"}, {\"speed\": 101.0, \"time\": 5.45, \"image\": \"Peugeot307_101.MP4\", \"vehicle\": \"Peugeot307\"}, {\"speed\": 103.0, \"time\": 5.86, \"image\": \"Peugeot307_103.MP4\", \"vehicle\": \"Peugeot307\"}, {\"speed\": 30.0, \"time\": 5.52, \"image\": \"Peugeot307_30.MP4\", \"vehicle\": \"Peugeot307\"}, {\"speed\": 33.0, \"time\": 5.62, \"image\": \"Peugeot307_33.MP4\", \"vehicle\": \"Peugeot307\"}, {\"speed\": 35.0, \"time\": 5.55, \"image\": \"Peugeot307_35.MP4\", \"vehicle\": \"Peugeot307\"}, {\"speed\": 38.0, \"time\": 5.08, \"image\": \"Peugeot307_38.MP4\", \"vehicle\": \"Peugeot307\"}, {\"speed\": 40.0, \"time\": 5.02, \"image\": \"Peugeot307_40.MP4\", \"vehicle\": \"Peugeot307\"}, {\"speed\": 43.0, \"time\": 4.95, \"image\": \"Peugeot307_43.MP4\", \"vehicle\": \"Peugeot307\"}, {\"speed\": 45.0, \"time\": 5.18, \"image\": \"Peugeot307_45.MP4\", \"vehicle\": \"Peugeot307\"}, {\"speed\": 47.0, \"time\": 4.99, \"image\": \"Peugeot307_47.MP4\", \"vehicle\": \"Peugeot307\"}, {\"speed\": 48.0, \"time\": 4.97, \"image\": \"Peugeot307_48.MP4\", \"vehicle\": \"Peugeot307\"}, {\"speed\": 50.0, \"time\": 5.18, \"image\": \"Peugeot307_50.MP4\", \"vehicle\": \"Peugeot307\"}, {\"speed\": 53.0, \"time\": 4.98, \"image\": \"Peugeot307_53.MP4\", \"vehicle\": \"Peugeot307\"}, {\"speed\": 56.0, \"time\": 5.45, \"image\": \"Peugeot307_56.MP4\", \"vehicle\": \"Peugeot307\"}, {\"speed\": 59.0, \"time\": 4.97, \"image\": \"Peugeot307_59.MP4\", \"vehicle\": \"Peugeot307\"}, {\"speed\": 60.0, \"time\": 6.33, \"image\": \"Peugeot307_60.MP4\", \"vehicle\": \"Peugeot307\"}, {\"speed\": 63.0, \"time\": 5.08, \"image\": \"Peugeot307_63.MP4\", \"vehicle\": \"Peugeot307\"}, {\"speed\": 66.0, \"time\": 5.18, \"image\": \"Peugeot307_66.MP4\", \"vehicle\": \"Peugeot307\"}, {\"speed\": 69.0, \"time\": 4.85, \"image\": \"Peugeot307_69.MP4\", \"vehicle\": \"Peugeot307\"}, {\"speed\": 72.0, \"time\": 4.6, \"image\": \"Peugeot307_72.MP4\", \"vehicle\": \"Peugeot307\"}, {\"speed\": 73.0, \"time\": 4.95, \"image\": \"Peugeot307_73.MP4\", \"vehicle\": \"Peugeot307\"}, {\"speed\": 76.0, \"time\": 4.9, \"image\": \"Peugeot307_76.MP4\", \"vehicle\": \"Peugeot307\"}, {\"speed\": 79.0, \"time\": 4.93, \"image\": \"Peugeot307_79.MP4\", \"vehicle\": \"Peugeot307\"}, {\"speed\": 82.0, \"time\": 5.22, \"image\": \"Peugeot307_82.MP4\", \"vehicle\": \"Peugeot307\"}, {\"speed\": 85.0, \"time\": 5.25, \"image\": \"Peugeot307_85.MP4\", \"vehicle\": \"Peugeot307\"}, {\"speed\": 88.0, \"time\": 4.94, \"image\": \"Peugeot307_88.MP4\", \"vehicle\": \"Peugeot307\"}, {\"speed\": 91.0, \"time\": 5.05, \"image\": \"Peugeot307_91.MP4\", \"vehicle\": \"Peugeot307\"}, {\"speed\": 94.0, \"time\": 4.75, \"image\": \"Peugeot307_94.MP4\", \"vehicle\": \"Peugeot307\"}, {\"speed\": 97.0, \"time\": 4.95, \"image\": \"Peugeot307_97.MP4\", \"vehicle\": \"Peugeot307\"}, {\"speed\": 100.0, \"time\": 5.19, \"image\": \"RenaultCaptur_100.MP4\", \"vehicle\": \"RenaultCaptur\"}, {\"speed\": 102.0, \"time\": 5.34, \"image\": \"RenaultCaptur_102.MP4\", \"vehicle\": \"RenaultCaptur\"}, {\"speed\": 30.0, \"time\": 5.55, \"image\": \"RenaultCaptur_30.MP4\", \"vehicle\": \"RenaultCaptur\"}, {\"speed\": 33.0, \"time\": 5.85, \"image\": \"RenaultCaptur_33.MP4\", \"vehicle\": \"RenaultCaptur\"}, {\"speed\": 36.0, \"time\": 5.32, \"image\": \"RenaultCaptur_36.MP4\", \"vehicle\": \"RenaultCaptur\"}, {\"speed\": 38.0, \"time\": 5.44, \"image\": \"RenaultCaptur_38.MP4\", \"vehicle\": \"RenaultCaptur\"}, {\"speed\": 40.0, \"time\": 5.29, \"image\": \"RenaultCaptur_40.MP4\", \"vehicle\": \"RenaultCaptur\"}, {\"speed\": 41.0, \"time\": 5.36, \"image\": \"RenaultCaptur_41.MP4\", \"vehicle\": \"RenaultCaptur\"}, {\"speed\": 44.0, \"time\": 5.3, \"image\": \"RenaultCaptur_44.MP4\", \"vehicle\": \"RenaultCaptur\"}, {\"speed\": 46.0, \"time\": 4.68, \"image\": \"RenaultCaptur_46.MP4\", \"vehicle\": \"RenaultCaptur\"}, {\"speed\": 47.0, \"time\": 5.28, \"image\": \"RenaultCaptur_47.MP4\", \"vehicle\": \"RenaultCaptur\"}, {\"speed\": 48.0, \"time\": 5.57, \"image\": \"RenaultCaptur_48.MP4\", \"vehicle\": \"RenaultCaptur\"}, {\"speed\": 50.0, \"time\": 5.09, \"image\": \"RenaultCaptur_50.MP4\", \"vehicle\": \"RenaultCaptur\"}, {\"speed\": 52.0, \"time\": 5.53, \"image\": \"RenaultCaptur_52.MP4\", \"vehicle\": \"RenaultCaptur\"}, {\"speed\": 56.0, \"time\": 5.21, \"image\": \"RenaultCaptur_56.MP4\", \"vehicle\": \"RenaultCaptur\"}, {\"speed\": 58.0, \"time\": 5.32, \"image\": \"RenaultCaptur_58.MP4\", \"vehicle\": \"RenaultCaptur\"}, {\"speed\": 60.0, \"time\": 5.39, \"image\": \"RenaultCaptur_60.MP4\", \"vehicle\": \"RenaultCaptur\"}, {\"speed\": 63.0, \"time\": 5.42, \"image\": \"RenaultCaptur_63.MP4\", \"vehicle\": \"RenaultCaptur\"}, {\"speed\": 66.0, \"time\": 5.01, \"image\": \"RenaultCaptur_66.MP4\", \"vehicle\": \"RenaultCaptur\"}, {\"speed\": 68.0, \"time\": 5.15, \"image\": \"RenaultCaptur_68.MP4\", \"vehicle\": \"RenaultCaptur\"}, {\"speed\": 70.0, \"time\": 5.75, \"image\": \"RenaultCaptur_70.MP4\", \"vehicle\": \"RenaultCaptur\"}, {\"speed\": 72.0, \"time\": 5.08, \"image\": \"RenaultCaptur_72.MP4\", \"vehicle\": \"RenaultCaptur\"}, {\"speed\": 76.0, \"time\": 5.94, \"image\": \"RenaultCaptur_76.MP4\", \"vehicle\": \"RenaultCaptur\"}, {\"speed\": 78.0, \"time\": 5.32, \"image\": \"RenaultCaptur_78.MP4\", \"vehicle\": \"RenaultCaptur\"}, {\"speed\": 80.0, \"time\": 4.79, \"image\": \"RenaultCaptur_80.MP4\", \"vehicle\": \"RenaultCaptur\"}, {\"speed\": 83.0, \"time\": 5.59, \"image\": \"RenaultCaptur_83.MP4\", \"vehicle\": \"RenaultCaptur\"}, {\"speed\": 86.0, \"time\": 5.18, \"image\": \"RenaultCaptur_86.MP4\", \"vehicle\": \"RenaultCaptur\"}, {\"speed\": 88.0, \"time\": 5.24, \"image\": \"RenaultCaptur_88.MP4\", \"vehicle\": \"RenaultCaptur\"}, {\"speed\": 90.0, \"time\": 5.61, \"image\": \"RenaultCaptur_90.MP4\", \"vehicle\": \"RenaultCaptur\"}, {\"speed\": 92.0, \"time\": 5.64, \"image\": \"RenaultCaptur_92.MP4\", \"vehicle\": \"RenaultCaptur\"}, {\"speed\": 94.0, \"time\": 5.06, \"image\": \"RenaultCaptur_94.MP4\", \"vehicle\": \"RenaultCaptur\"}, {\"speed\": 97.0, \"time\": 6.02, \"image\": \"RenaultCaptur_97.MP4\", \"vehicle\": \"RenaultCaptur\"}, {\"speed\": 98.0, \"time\": 5.11, \"image\": \"RenaultCaptur_98.MP4\", \"vehicle\": \"RenaultCaptur\"}, {\"speed\": 101.0, \"time\": 6.17, \"image\": \"RenaultScenic_101.MP4\", \"vehicle\": \"RenaultScenic\"}, {\"speed\": 30.0, \"time\": 6.0, \"image\": \"RenaultScenic_30.MP4\", \"vehicle\": \"RenaultScenic\"}, {\"speed\": 35.0, \"time\": 6.82, \"image\": \"RenaultScenic_35.MP4\", \"vehicle\": \"RenaultScenic\"}, {\"speed\": 36.0, \"time\": 6.01, \"image\": \"RenaultScenic_36.MP4\", \"vehicle\": \"RenaultScenic\"}, {\"speed\": 38.0, \"time\": 6.03, \"image\": \"RenaultScenic_38.MP4\", \"vehicle\": \"RenaultScenic\"}, {\"speed\": 40.0, \"time\": 6.7, \"image\": \"RenaultScenic_40.MP4\", \"vehicle\": \"RenaultScenic\"}, {\"speed\": 42.0, \"time\": 5.83, \"image\": \"RenaultScenic_42.MP4\", \"vehicle\": \"RenaultScenic\"}, {\"speed\": 44.0, \"time\": 5.27, \"image\": \"RenaultScenic_44.MP4\", \"vehicle\": \"RenaultScenic\"}, {\"speed\": 46.0, \"time\": 6.75, \"image\": \"RenaultScenic_46.MP4\", \"vehicle\": \"RenaultScenic\"}, {\"speed\": 48.0, \"time\": 5.75, \"image\": \"RenaultScenic_48.MP4\", \"vehicle\": \"RenaultScenic\"}, {\"speed\": 50.0, \"time\": 7.25, \"image\": \"RenaultScenic_50.MP4\", \"vehicle\": \"RenaultScenic\"}, {\"speed\": 52.0, \"time\": 5.25, \"image\": \"RenaultScenic_52.MP4\", \"vehicle\": \"RenaultScenic\"}, {\"speed\": 54.0, \"time\": 5.46, \"image\": \"RenaultScenic_54.MP4\", \"vehicle\": \"RenaultScenic\"}, {\"speed\": 57.0, \"time\": 6.6, \"image\": \"RenaultScenic_57.MP4\", \"vehicle\": \"RenaultScenic\"}, {\"speed\": 60.0, \"time\": 6.12, \"image\": \"RenaultScenic_60.MP4\", \"vehicle\": \"RenaultScenic\"}, {\"speed\": 62.0, \"time\": 6.05, \"image\": \"RenaultScenic_62.MP4\", \"vehicle\": \"RenaultScenic\"}, {\"speed\": 64.0, \"time\": 5.76, \"image\": \"RenaultScenic_64.MP4\", \"vehicle\": \"RenaultScenic\"}, {\"speed\": 66.0, \"time\": 5.35, \"image\": \"RenaultScenic_66.MP4\", \"vehicle\": \"RenaultScenic\"}, {\"speed\": 68.0, \"time\": 6.57, \"image\": \"RenaultScenic_68.MP4\", \"vehicle\": \"RenaultScenic\"}, {\"speed\": 70.0, \"time\": 5.85, \"image\": \"RenaultScenic_70.MP4\", \"vehicle\": \"RenaultScenic\"}, {\"speed\": 71.0, \"time\": 5.99, \"image\": \"RenaultScenic_71.MP4\", \"vehicle\": \"RenaultScenic\"}, {\"speed\": 72.0, \"time\": 5.23, \"image\": \"RenaultScenic_72.MP4\", \"vehicle\": \"RenaultScenic\"}, {\"speed\": 74.0, \"time\": 5.7, \"image\": \"RenaultScenic_74.MP4\", \"vehicle\": \"RenaultScenic\"}, {\"speed\": 75.0, \"time\": 5.45, \"image\": \"RenaultScenic_75.MP4\", \"vehicle\": \"RenaultScenic\"}, {\"speed\": 77.0, \"time\": 7.32, \"image\": \"RenaultScenic_77.MP4\", \"vehicle\": \"RenaultScenic\"}, {\"speed\": 80.0, \"time\": 7.01, \"image\": \"RenaultScenic_80.MP4\", \"vehicle\": \"RenaultScenic\"}, {\"speed\": 82.0, \"time\": 6.06, \"image\": \"RenaultScenic_82.MP4\", \"vehicle\": \"RenaultScenic\"}, {\"speed\": 84.0, \"time\": 5.39, \"image\": \"RenaultScenic_84.MP4\", \"vehicle\": \"RenaultScenic\"}, {\"speed\": 86.0, \"time\": 5.65, \"image\": \"RenaultScenic_86.MP4\", \"vehicle\": \"RenaultScenic\"}, {\"speed\": 87.0, \"time\": 6.0, \"image\": \"RenaultScenic_87.MP4\", \"vehicle\": \"RenaultScenic\"}, {\"speed\": 90.0, \"time\": 5.09, \"image\": \"RenaultScenic_90.MP4\", \"vehicle\": \"RenaultScenic\"}, {\"speed\": 91.0, \"time\": 6.21, \"image\": \"RenaultScenic_91.MP4\", \"vehicle\": \"RenaultScenic\"}, {\"speed\": 94.0, \"time\": 6.18, \"image\": \"RenaultScenic_94.MP4\", \"vehicle\": \"RenaultScenic\"}, {\"speed\": 95.0, \"time\": 6.23, \"image\": \"RenaultScenic_95.MP4\", \"vehicle\": \"RenaultScenic\"}, {\"speed\": 98.0, \"time\": 5.38, \"image\": \"RenaultScenic_98.MP4\", \"vehicle\": \"RenaultScenic\"}, {\"speed\": 100.0, \"time\": 6.01, \"image\": \"VWPassat_100.MP4\", \"vehicle\": \"VWPassat\"}, {\"speed\": 30.0, \"time\": 6.46, \"image\": \"VWPassat_30.MP4\", \"vehicle\": \"VWPassat\"}, {\"speed\": 35.0, \"time\": 5.92, \"image\": \"VWPassat_35.MP4\", \"vehicle\": \"VWPassat\"}, {\"speed\": 39.0, \"time\": 5.27, \"image\": \"VWPassat_39.MP4\", \"vehicle\": \"VWPassat\"}, {\"speed\": 40.0, \"time\": 6.53, \"image\": \"VWPassat_40.MP4\", \"vehicle\": \"VWPassat\"}, {\"speed\": 42.0, \"time\": 6.72, \"image\": \"VWPassat_42.MP4\", \"vehicle\": \"VWPassat\"}, {\"speed\": 45.0, \"time\": 6.35, \"image\": \"VWPassat_45.MP4\", \"vehicle\": \"VWPassat\"}, {\"speed\": 47.0, \"time\": 5.25, \"image\": \"VWPassat_47.MP4\", \"vehicle\": \"VWPassat\"}, {\"speed\": 49.0, \"time\": 5.27, \"image\": \"VWPassat_49.MP4\", \"vehicle\": \"VWPassat\"}, {\"speed\": 50.0, \"time\": 6.0, \"image\": \"VWPassat_50.MP4\", \"vehicle\": \"VWPassat\"}, {\"speed\": 52.0, \"time\": 6.02, \"image\": \"VWPassat_52.MP4\", \"vehicle\": \"VWPassat\"}, {\"speed\": 54.0, \"time\": 5.54, \"image\": \"VWPassat_54.MP4\", \"vehicle\": \"VWPassat\"}, {\"speed\": 55.0, \"time\": 6.02, \"image\": \"VWPassat_55.MP4\", \"vehicle\": \"VWPassat\"}, {\"speed\": 57.0, \"time\": 4.98, \"image\": \"VWPassat_57.MP4\", \"vehicle\": \"VWPassat\"}, {\"speed\": 60.0, \"time\": 5.98, \"image\": \"VWPassat_60.MP4\", \"vehicle\": \"VWPassat\"}, {\"speed\": 61.0, \"time\": 6.01, \"image\": \"VWPassat_61.MP4\", \"vehicle\": \"VWPassat\"}, {\"speed\": 64.0, \"time\": 5.67, \"image\": \"VWPassat_64.MP4\", \"vehicle\": \"VWPassat\"}, {\"speed\": 65.0, \"time\": 5.82, \"image\": \"VWPassat_65.MP4\", \"vehicle\": \"VWPassat\"}, {\"speed\": 67.0, \"time\": 5.08, \"image\": \"VWPassat_67.MP4\", \"vehicle\": \"VWPassat\"}, {\"speed\": 70.0, \"time\": 6.0, \"image\": \"VWPassat_70.MP4\", \"vehicle\": \"VWPassat\"}, {\"speed\": 71.0, \"time\": 5.51, \"image\": \"VWPassat_71.MP4\", \"vehicle\": \"VWPassat\"}, {\"speed\": 72.0, \"time\": 5.42, \"image\": \"VWPassat_72.MP4\", \"vehicle\": \"VWPassat\"}, {\"speed\": 73.0, \"time\": 5.32, \"image\": \"VWPassat_73.MP4\", \"vehicle\": \"VWPassat\"}, {\"speed\": 75.0, \"time\": 6.02, \"image\": \"VWPassat_75.MP4\", \"vehicle\": \"VWPassat\"}, {\"speed\": 78.0, \"time\": 5.85, \"image\": \"VWPassat_78.MP4\", \"vehicle\": \"VWPassat\"}, {\"speed\": 80.0, \"time\": 5.99, \"image\": \"VWPassat_80.MP4\", \"vehicle\": \"VWPassat\"}, {\"speed\": 81.0, \"time\": 5.58, \"image\": \"VWPassat_81.MP4\", \"vehicle\": \"VWPassat\"}, {\"speed\": 82.0, \"time\": 5.62, \"image\": \"VWPassat_82.MP4\", \"vehicle\": \"VWPassat\"}, {\"speed\": 85.0, \"time\": 6.23, \"image\": \"VWPassat_85.MP4\", \"vehicle\": \"VWPassat\"}, {\"speed\": 88.0, \"time\": 7.31, \"image\": \"VWPassat_88.MP4\", \"vehicle\": \"VWPassat\"}, {\"speed\": 90.0, \"time\": 5.2, \"image\": \"VWPassat_90.MP4\", \"vehicle\": \"VWPassat\"}, {\"speed\": 91.0, \"time\": 5.45, \"image\": \"VWPassat_91.MP4\", \"vehicle\": \"VWPassat\"}, {\"speed\": 94.0, \"time\": 6.0, \"image\": \"VWPassat_94.MP4\", \"vehicle\": \"VWPassat\"}, {\"speed\": 96.0, \"time\": 5.72, \"image\": \"VWPassat_96.MP4\", \"vehicle\": \"VWPassat\"}, {\"speed\": 98.0, \"time\": 5.99, \"image\": \"VWPassat_98.MP4\", \"vehicle\": \"VWPassat\"}]}}, {\"mode\": \"vega-lite\"});\n",
       "</script>"
      ],
      "text/plain": [
       "alt.Chart(...)"
      ]
     },
     "metadata": {},
     "output_type": "display_data"
    }
   ],
   "source": [
    "seleccion_vehicle = alt.selection_multi(fields=['vehicle'])\n",
    "scatter_plot = alt.Chart(df_combined).mark_point(size=60, opacity=0.7).encode(\n",
    "    x=alt.X('speed', title='Velocidad (km/h)'),\n",
    "    y=alt.Y('time', title='Tiempo (s)'),\n",
    "    color=alt.condition(seleccion_vehicle, 'vehicle:N', alt.value('lightgray')),\n",
    "    tooltip=['vehicle', 'speed', 'time']\n",
    ").add_selection(\n",
    "    seleccion_vehicle\n",
    ").properties(\n",
    "    title='Relación entre la Velocidad y el Tipo de Vehículo',\n",
    "    width=800,\n",
    "    height=400\n",
    ").configure_axis(\n",
    "    grid=True\n",
    ").configure_legend(\n",
    "    titleFontSize=14,\n",
    "    labelFontSize=12\n",
    ").configure_title(\n",
    "    fontSize=18\n",
    ")\n",
    "scatter_plot.display()"
   ]
  },
  {
   "cell_type": "code",
   "execution_count": 7,
   "metadata": {
    "collapsed": false,
    "jupyter": {
     "outputs_hidden": false
    },
    "pycharm": {
     "name": "#%%\n"
    }
   },
   "outputs": [
    {
     "data": {
      "text/html": [
       "\n",
       "<style>\n",
       "  #altair-viz-a5a32323a8d148f9bb6cf812192a8c09.vega-embed {\n",
       "    width: 100%;\n",
       "    display: flex;\n",
       "  }\n",
       "\n",
       "  #altair-viz-a5a32323a8d148f9bb6cf812192a8c09.vega-embed details,\n",
       "  #altair-viz-a5a32323a8d148f9bb6cf812192a8c09.vega-embed details summary {\n",
       "    position: relative;\n",
       "  }\n",
       "</style>\n",
       "<div id=\"altair-viz-a5a32323a8d148f9bb6cf812192a8c09\"></div>\n",
       "<script type=\"text/javascript\">\n",
       "  var VEGA_DEBUG = (typeof VEGA_DEBUG == \"undefined\") ? {} : VEGA_DEBUG;\n",
       "  (function(spec, embedOpt){\n",
       "    let outputDiv = document.currentScript.previousElementSibling;\n",
       "    if (outputDiv.id !== \"altair-viz-a5a32323a8d148f9bb6cf812192a8c09\") {\n",
       "      outputDiv = document.getElementById(\"altair-viz-a5a32323a8d148f9bb6cf812192a8c09\");\n",
       "    }\n",
       "    const paths = {\n",
       "      \"vega\": \"https://cdn.jsdelivr.net/npm/vega@5?noext\",\n",
       "      \"vega-lib\": \"https://cdn.jsdelivr.net/npm/vega-lib?noext\",\n",
       "      \"vega-lite\": \"https://cdn.jsdelivr.net/npm/vega-lite@5.8.0?noext\",\n",
       "      \"vega-embed\": \"https://cdn.jsdelivr.net/npm/vega-embed@6?noext\",\n",
       "    };\n",
       "\n",
       "    function maybeLoadScript(lib, version) {\n",
       "      var key = `${lib.replace(\"-\", \"\")}_version`;\n",
       "      return (VEGA_DEBUG[key] == version) ?\n",
       "        Promise.resolve(paths[lib]) :\n",
       "        new Promise(function(resolve, reject) {\n",
       "          var s = document.createElement('script');\n",
       "          document.getElementsByTagName(\"head\")[0].appendChild(s);\n",
       "          s.async = true;\n",
       "          s.onload = () => {\n",
       "            VEGA_DEBUG[key] = version;\n",
       "            return resolve(paths[lib]);\n",
       "          };\n",
       "          s.onerror = () => reject(`Error loading script: ${paths[lib]}`);\n",
       "          s.src = paths[lib];\n",
       "        });\n",
       "    }\n",
       "\n",
       "    function showError(err) {\n",
       "      outputDiv.innerHTML = `<div class=\"error\" style=\"color:red;\">${err}</div>`;\n",
       "      throw err;\n",
       "    }\n",
       "\n",
       "    function displayChart(vegaEmbed) {\n",
       "      vegaEmbed(outputDiv, spec, embedOpt)\n",
       "        .catch(err => showError(`Javascript Error: ${err.message}<br>This usually means there's a typo in your chart specification. See the javascript console for the full traceback.`));\n",
       "    }\n",
       "\n",
       "    if(typeof define === \"function\" && define.amd) {\n",
       "      requirejs.config({paths});\n",
       "      require([\"vega-embed\"], displayChart, err => showError(`Error loading script: ${err.message}`));\n",
       "    } else {\n",
       "      maybeLoadScript(\"vega\", \"5\")\n",
       "        .then(() => maybeLoadScript(\"vega-lite\", \"5.8.0\"))\n",
       "        .then(() => maybeLoadScript(\"vega-embed\", \"6\"))\n",
       "        .catch(showError)\n",
       "        .then(() => displayChart(vegaEmbed));\n",
       "    }\n",
       "  })({\"config\": {\"view\": {\"continuousWidth\": 300, \"continuousHeight\": 300}}, \"data\": {\"name\": \"data-5d3be3fd43ab46cca79cf2374d1a4771\"}, \"mark\": {\"type\": \"bar\"}, \"encoding\": {\"column\": {\"field\": \"vehicle\", \"title\": \"vehicle\", \"type\": \"nominal\"}, \"x\": {\"bin\": {\"maxbins\": 30}, \"field\": \"speed\", \"title\": \"Velocidad (km/h)\", \"type\": \"quantitative\"}, \"y\": {\"aggregate\": \"count\", \"title\": \"Contador\", \"type\": \"quantitative\"}}, \"height\": 100, \"title\": \"Distribucion de velocidad por vehicle\", \"width\": 150, \"$schema\": \"https://vega.github.io/schema/vega-lite/v5.8.0.json\", \"datasets\": {\"data-5d3be3fd43ab46cca79cf2374d1a4771\": [{\"speed\": 101.0, \"time\": 7.49, \"image\": \"CitroenC4Picasso_101.MP4\", \"vehicle\": \"CitroenC4Picasso\"}, {\"speed\": 35.0, \"time\": 6.25, \"image\": \"CitroenC4Picasso_35.MP4\", \"vehicle\": \"CitroenC4Picasso\"}, {\"speed\": 38.0, \"time\": 5.82, \"image\": \"CitroenC4Picasso_38.MP4\", \"vehicle\": \"CitroenC4Picasso\"}, {\"speed\": 41.0, \"time\": 6.16, \"image\": \"CitroenC4Picasso_41.MP4\", \"vehicle\": \"CitroenC4Picasso\"}, {\"speed\": 44.0, \"time\": 5.44, \"image\": \"CitroenC4Picasso_44.MP4\", \"vehicle\": \"CitroenC4Picasso\"}, {\"speed\": 48.0, \"time\": 6.03, \"image\": \"CitroenC4Picasso_48.MP4\", \"vehicle\": \"CitroenC4Picasso\"}, {\"speed\": 51.0, \"time\": 5.85, \"image\": \"CitroenC4Picasso_51.MP4\", \"vehicle\": \"CitroenC4Picasso\"}, {\"speed\": 54.0, \"time\": 5.65, \"image\": \"CitroenC4Picasso_54.MP4\", \"vehicle\": \"CitroenC4Picasso\"}, {\"speed\": 57.0, \"time\": 5.95, \"image\": \"CitroenC4Picasso_57.MP4\", \"vehicle\": \"CitroenC4Picasso\"}, {\"speed\": 59.0, \"time\": 5.85, \"image\": \"CitroenC4Picasso_59.MP4\", \"vehicle\": \"CitroenC4Picasso\"}, {\"speed\": 63.0, \"time\": 6.06, \"image\": \"CitroenC4Picasso_63.MP4\", \"vehicle\": \"CitroenC4Picasso\"}, {\"speed\": 65.0, \"time\": 5.66, \"image\": \"CitroenC4Picasso_65.MP4\", \"vehicle\": \"CitroenC4Picasso\"}, {\"speed\": 68.0, \"time\": 6.16, \"image\": \"CitroenC4Picasso_68.MP4\", \"vehicle\": \"CitroenC4Picasso\"}, {\"speed\": 72.0, \"time\": 5.75, \"image\": \"CitroenC4Picasso_72.MP4\", \"vehicle\": \"CitroenC4Picasso\"}, {\"speed\": 74.0, \"time\": 6.26, \"image\": \"CitroenC4Picasso_74.MP4\", \"vehicle\": \"CitroenC4Picasso\"}, {\"speed\": 78.0, \"time\": 6.14, \"image\": \"CitroenC4Picasso_78.MP4\", \"vehicle\": \"CitroenC4Picasso\"}, {\"speed\": 80.0, \"time\": 5.41, \"image\": \"CitroenC4Picasso_80.MP4\", \"vehicle\": \"CitroenC4Picasso\"}, {\"speed\": 83.0, \"time\": 6.63, \"image\": \"CitroenC4Picasso_83.MP4\", \"vehicle\": \"CitroenC4Picasso\"}, {\"speed\": 85.0, \"time\": 5.67, \"image\": \"CitroenC4Picasso_85.MP4\", \"vehicle\": \"CitroenC4Picasso\"}, {\"speed\": 87.0, \"time\": 6.19, \"image\": \"CitroenC4Picasso_87.MP4\", \"vehicle\": \"CitroenC4Picasso\"}, {\"speed\": 92.0, \"time\": 7.62, \"image\": \"CitroenC4Picasso_92.MP4\", \"vehicle\": \"CitroenC4Picasso\"}, {\"speed\": 94.0, \"time\": 6.79, \"image\": \"CitroenC4Picasso_94.MP4\", \"vehicle\": \"CitroenC4Picasso\"}, {\"speed\": 96.0, \"time\": 5.79, \"image\": \"CitroenC4Picasso_96.MP4\", \"vehicle\": \"CitroenC4Picasso\"}, {\"speed\": 100.0, \"time\": 4.98, \"image\": \"KiaSportage_100.MP4\", \"vehicle\": \"KiaSportage\"}, {\"speed\": 103.0, \"time\": 4.91, \"image\": \"KiaSportage_103.MP4\", \"vehicle\": \"KiaSportage\"}, {\"speed\": 105.0, \"time\": 4.98, \"image\": \"KiaSportage_105.MP4\", \"vehicle\": \"KiaSportage\"}, {\"speed\": 31.0, \"time\": 4.94, \"image\": \"KiaSportage_31.MP4\", \"vehicle\": \"KiaSportage\"}, {\"speed\": 33.0, \"time\": 4.91, \"image\": \"KiaSportage_33.MP4\", \"vehicle\": \"KiaSportage\"}, {\"speed\": 35.0, \"time\": 4.93, \"image\": \"KiaSportage_35.MP4\", \"vehicle\": \"KiaSportage\"}, {\"speed\": 38.0, \"time\": 5.05, \"image\": \"KiaSportage_38.MP4\", \"vehicle\": \"KiaSportage\"}, {\"speed\": 41.0, \"time\": 4.93, \"image\": \"KiaSportage_41.MP4\", \"vehicle\": \"KiaSportage\"}, {\"speed\": 44.0, \"time\": 5.02, \"image\": \"KiaSportage_44.MP4\", \"vehicle\": \"KiaSportage\"}, {\"speed\": 46.0, \"time\": 4.94, \"image\": \"KiaSportage_46.MP4\", \"vehicle\": \"KiaSportage\"}, {\"speed\": 48.0, \"time\": 4.96, \"image\": \"KiaSportage_48.MP4\", \"vehicle\": \"KiaSportage\"}, {\"speed\": 51.0, \"time\": 4.92, \"image\": \"KiaSportage_51.MP4\", \"vehicle\": \"KiaSportage\"}, {\"speed\": 53.0, \"time\": 4.97, \"image\": \"KiaSportage_53.MP4\", \"vehicle\": \"KiaSportage\"}, {\"speed\": 55.0, \"time\": 4.95, \"image\": \"KiaSportage_55.MP4\", \"vehicle\": \"KiaSportage\"}, {\"speed\": 58.0, \"time\": 4.92, \"image\": \"KiaSportage_58.MP4\", \"vehicle\": \"KiaSportage\"}, {\"speed\": 61.0, \"time\": 4.96, \"image\": \"KiaSportage_61.MP4\", \"vehicle\": \"KiaSportage\"}, {\"speed\": 63.0, \"time\": 5.0, \"image\": \"KiaSportage_63.MP4\", \"vehicle\": \"KiaSportage\"}, {\"speed\": 65.0, \"time\": 4.93, \"image\": \"KiaSportage_65.MP4\", \"vehicle\": \"KiaSportage\"}, {\"speed\": 68.0, \"time\": 4.96, \"image\": \"KiaSportage_68.MP4\", \"vehicle\": \"KiaSportage\"}, {\"speed\": 69.0, \"time\": 4.94, \"image\": \"KiaSportage_69.MP4\", \"vehicle\": \"KiaSportage\"}, {\"speed\": 72.0, \"time\": 4.95, \"image\": \"KiaSportage_72.MP4\", \"vehicle\": \"KiaSportage\"}, {\"speed\": 74.0, \"time\": 4.94, \"image\": \"KiaSportage_74.MP4\", \"vehicle\": \"KiaSportage\"}, {\"speed\": 77.0, \"time\": 5.02, \"image\": \"KiaSportage_77.MP4\", \"vehicle\": \"KiaSportage\"}, {\"speed\": 78.0, \"time\": 4.95, \"image\": \"KiaSportage_78.MP4\", \"vehicle\": \"KiaSportage\"}, {\"speed\": 80.0, \"time\": 4.94, \"image\": \"KiaSportage_80.MP4\", \"vehicle\": \"KiaSportage\"}, {\"speed\": 83.0, \"time\": 4.95, \"image\": \"KiaSportage_83.MP4\", \"vehicle\": \"KiaSportage\"}, {\"speed\": 85.0, \"time\": 4.95, \"image\": \"KiaSportage_85.MP4\", \"vehicle\": \"KiaSportage\"}, {\"speed\": 86.0, \"time\": 4.92, \"image\": \"KiaSportage_86.MP4\", \"vehicle\": \"KiaSportage\"}, {\"speed\": 89.0, \"time\": 4.98, \"image\": \"KiaSportage_89.MP4\", \"vehicle\": \"KiaSportage\"}, {\"speed\": 91.0, \"time\": 4.95, \"image\": \"KiaSportage_91.MP4\", \"vehicle\": \"KiaSportage\"}, {\"speed\": 93.0, \"time\": 4.98, \"image\": \"KiaSportage_93.MP4\", \"vehicle\": \"KiaSportage\"}, {\"speed\": 96.0, \"time\": 4.91, \"image\": \"KiaSportage_96.MP4\", \"vehicle\": \"KiaSportage\"}, {\"speed\": 98.0, \"time\": 4.92, \"image\": \"KiaSportage_98.MP4\", \"vehicle\": \"KiaSportage\"}, {\"speed\": 101.0, \"time\": 5.04, \"image\": \"Mazda3_101.MP4\", \"vehicle\": \"Mazda3\"}, {\"speed\": 103.0, \"time\": 5.07, \"image\": \"Mazda3_103.MP4\", \"vehicle\": \"Mazda3\"}, {\"speed\": 105.0, \"time\": 4.99, \"image\": \"Mazda3_105.MP4\", \"vehicle\": \"Mazda3\"}, {\"speed\": 30.0, \"time\": 5.23, \"image\": \"Mazda3_30.MP4\", \"vehicle\": \"Mazda3\"}, {\"speed\": 33.0, \"time\": 5.08, \"image\": \"Mazda3_33.MP4\", \"vehicle\": \"Mazda3\"}, {\"speed\": 35.0, \"time\": 5.12, \"image\": \"Mazda3_35.MP4\", \"vehicle\": \"Mazda3\"}, {\"speed\": 38.0, \"time\": 5.15, \"image\": \"Mazda3_38.MP4\", \"vehicle\": \"Mazda3\"}, {\"speed\": 40.0, \"time\": 5.02, \"image\": \"Mazda3_40.MP4\", \"vehicle\": \"Mazda3\"}, {\"speed\": 43.0, \"time\": 5.02, \"image\": \"Mazda3_43.MP4\", \"vehicle\": \"Mazda3\"}, {\"speed\": 45.0, \"time\": 5.31, \"image\": \"Mazda3_45.MP4\", \"vehicle\": \"Mazda3\"}, {\"speed\": 47.0, \"time\": 5.42, \"image\": \"Mazda3_47.MP4\", \"vehicle\": \"Mazda3\"}, {\"speed\": 50.0, \"time\": 5.62, \"image\": \"Mazda3_50.MP4\", \"vehicle\": \"Mazda3\"}, {\"speed\": 52.0, \"time\": 5.15, \"image\": \"Mazda3_52.MP4\", \"vehicle\": \"Mazda3\"}, {\"speed\": 55.0, \"time\": 5.68, \"image\": \"Mazda3_55.MP4\", \"vehicle\": \"Mazda3\"}, {\"speed\": 57.0, \"time\": 5.08, \"image\": \"Mazda3_57.MP4\", \"vehicle\": \"Mazda3\"}, {\"speed\": 60.0, \"time\": 5.09, \"image\": \"Mazda3_60.MP4\", \"vehicle\": \"Mazda3\"}, {\"speed\": 62.0, \"time\": 5.25, \"image\": \"Mazda3_62.MP4\", \"vehicle\": \"Mazda3\"}, {\"speed\": 64.0, \"time\": 5.02, \"image\": \"Mazda3_64.MP4\", \"vehicle\": \"Mazda3\"}, {\"speed\": 67.0, \"time\": 5.65, \"image\": \"Mazda3_67.MP4\", \"vehicle\": \"Mazda3\"}, {\"speed\": 70.0, \"time\": 5.05, \"image\": \"Mazda3_70.MP4\", \"vehicle\": \"Mazda3\"}, {\"speed\": 72.0, \"time\": 5.16, \"image\": \"Mazda3_72.MP4\", \"vehicle\": \"Mazda3\"}, {\"speed\": 75.0, \"time\": 5.02, \"image\": \"Mazda3_75.MP4\", \"vehicle\": \"Mazda3\"}, {\"speed\": 79.0, \"time\": 5.05, \"image\": \"Mazda3_79.MP4\", \"vehicle\": \"Mazda3\"}, {\"speed\": 81.0, \"time\": 5.22, \"image\": \"Mazda3_81.MP4\", \"vehicle\": \"Mazda3\"}, {\"speed\": 84.0, \"time\": 5.08, \"image\": \"Mazda3_84.MP4\", \"vehicle\": \"Mazda3\"}, {\"speed\": 86.0, \"time\": 5.19, \"image\": \"Mazda3_86.MP4\", \"vehicle\": \"Mazda3\"}, {\"speed\": 88.0, \"time\": 5.09, \"image\": \"Mazda3_88.MP4\", \"vehicle\": \"Mazda3\"}, {\"speed\": 90.0, \"time\": 5.11, \"image\": \"Mazda3_90.MP4\", \"vehicle\": \"Mazda3\"}, {\"speed\": 92.0, \"time\": 5.22, \"image\": \"Mazda3_92.MP4\", \"vehicle\": \"Mazda3\"}, {\"speed\": 94.0, \"time\": 5.04, \"image\": \"Mazda3_94.MP4\", \"vehicle\": \"Mazda3\"}, {\"speed\": 96.0, \"time\": 5.02, \"image\": \"Mazda3_96.MP4\", \"vehicle\": \"Mazda3\"}, {\"speed\": 99.0, \"time\": 4.98, \"image\": \"Mazda3_99.MP4\", \"vehicle\": \"Mazda3\"}, {\"speed\": 100.0, \"time\": 4.94, \"image\": \"MercedesAMG550_100.MP4\", \"vehicle\": \"MercedesAMG550\"}, {\"speed\": 105.0, \"time\": 4.45, \"image\": \"MercedesAMG550_105.MP4\", \"vehicle\": \"MercedesAMG550\"}, {\"speed\": 30.0, \"time\": 5.07, \"image\": \"MercedesAMG550_30.MP4\", \"vehicle\": \"MercedesAMG550\"}, {\"speed\": 33.0, \"time\": 5.68, \"image\": \"MercedesAMG550_33.MP4\", \"vehicle\": \"MercedesAMG550\"}, {\"speed\": 35.0, \"time\": 5.99, \"image\": \"MercedesAMG550_35.MP4\", \"vehicle\": \"MercedesAMG550\"}, {\"speed\": 38.0, \"time\": 5.88, \"image\": \"MercedesAMG550_38.MP4\", \"vehicle\": \"MercedesAMG550\"}, {\"speed\": 40.0, \"time\": 5.13, \"image\": \"MercedesAMG550_40.MP4\", \"vehicle\": \"MercedesAMG550\"}, {\"speed\": 42.0, \"time\": 6.28, \"image\": \"MercedesAMG550_42.MP4\", \"vehicle\": \"MercedesAMG550\"}, {\"speed\": 45.0, \"time\": 5.06, \"image\": \"MercedesAMG550_45.MP4\", \"vehicle\": \"MercedesAMG550\"}, {\"speed\": 47.0, \"time\": 5.67, \"image\": \"MercedesAMG550_47.MP4\", \"vehicle\": \"MercedesAMG550\"}, {\"speed\": 50.0, \"time\": 5.19, \"image\": \"MercedesAMG550_50.MP4\", \"vehicle\": \"MercedesAMG550\"}, {\"speed\": 52.0, \"time\": 5.89, \"image\": \"MercedesAMG550_52.MP4\", \"vehicle\": \"MercedesAMG550\"}, {\"speed\": 55.0, \"time\": 5.07, \"image\": \"MercedesAMG550_55.MP4\", \"vehicle\": \"MercedesAMG550\"}, {\"speed\": 58.0, \"time\": 5.65, \"image\": \"MercedesAMG550_58.MP4\", \"vehicle\": \"MercedesAMG550\"}, {\"speed\": 60.0, \"time\": 5.25, \"image\": \"MercedesAMG550_60.MP4\", \"vehicle\": \"MercedesAMG550\"}, {\"speed\": 62.0, \"time\": 5.38, \"image\": \"MercedesAMG550_62.MP4\", \"vehicle\": \"MercedesAMG550\"}, {\"speed\": 65.0, \"time\": 7.04, \"image\": \"MercedesAMG550_65.MP4\", \"vehicle\": \"MercedesAMG550\"}, {\"speed\": 67.0, \"time\": 5.76, \"image\": \"MercedesAMG550_67.MP4\", \"vehicle\": \"MercedesAMG550\"}, {\"speed\": 70.0, \"time\": 4.83, \"image\": \"MercedesAMG550_70.MP4\", \"vehicle\": \"MercedesAMG550\"}, {\"speed\": 73.0, \"time\": 5.63, \"image\": \"MercedesAMG550_73.MP4\", \"vehicle\": \"MercedesAMG550\"}, {\"speed\": 75.0, \"time\": 5.11, \"image\": \"MercedesAMG550_75.MP4\", \"vehicle\": \"MercedesAMG550\"}, {\"speed\": 78.0, \"time\": 6.11, \"image\": \"MercedesAMG550_78.MP4\", \"vehicle\": \"MercedesAMG550\"}, {\"speed\": 80.0, \"time\": 4.9, \"image\": \"MercedesAMG550_80.MP4\", \"vehicle\": \"MercedesAMG550\"}, {\"speed\": 82.0, \"time\": 5.82, \"image\": \"MercedesAMG550_82.MP4\", \"vehicle\": \"MercedesAMG550\"}, {\"speed\": 85.0, \"time\": 4.84, \"image\": \"MercedesAMG550_85.MP4\", \"vehicle\": \"MercedesAMG550\"}, {\"speed\": 87.0, \"time\": 5.41, \"image\": \"MercedesAMG550_87.MP4\", \"vehicle\": \"MercedesAMG550\"}, {\"speed\": 90.0, \"time\": 6.0, \"image\": \"MercedesAMG550_90.MP4\", \"vehicle\": \"MercedesAMG550\"}, {\"speed\": 93.0, \"time\": 5.68, \"image\": \"MercedesAMG550_93.MP4\", \"vehicle\": \"MercedesAMG550\"}, {\"speed\": 95.0, \"time\": 5.0, \"image\": \"MercedesAMG550_95.MP4\", \"vehicle\": \"MercedesAMG550\"}, {\"speed\": 98.0, \"time\": 5.44, \"image\": \"MercedesAMG550_98.MP4\", \"vehicle\": \"MercedesAMG550\"}, {\"speed\": 100.0, \"time\": 5.0, \"image\": \"MercedesGLA_100.MP4\", \"vehicle\": \"MercedesGLA\"}, {\"speed\": 101.0, \"time\": 5.01, \"image\": \"MercedesGLA_101.MP4\", \"vehicle\": \"MercedesGLA\"}, {\"speed\": 103.0, \"time\": 5.01, \"image\": \"MercedesGLA_103.MP4\", \"vehicle\": \"MercedesGLA\"}, {\"speed\": 104.0, \"time\": 5.01, \"image\": \"MercedesGLA_104.MP4\", \"vehicle\": \"MercedesGLA\"}, {\"speed\": 30.0, \"time\": 4.99, \"image\": \"MercedesGLA_30.MP4\", \"vehicle\": \"MercedesGLA\"}, {\"speed\": 33.0, \"time\": 4.98, \"image\": \"MercedesGLA_33.MP4\", \"vehicle\": \"MercedesGLA\"}, {\"speed\": 36.0, \"time\": 4.99, \"image\": \"MercedesGLA_36.MP4\", \"vehicle\": \"MercedesGLA\"}, {\"speed\": 39.0, \"time\": 5.0, \"image\": \"MercedesGLA_39.MP4\", \"vehicle\": \"MercedesGLA\"}, {\"speed\": 41.0, \"time\": 4.99, \"image\": \"MercedesGLA_41.MP4\", \"vehicle\": \"MercedesGLA\"}, {\"speed\": 42.0, \"time\": 5.0, \"image\": \"MercedesGLA_42.MP4\", \"vehicle\": \"MercedesGLA\"}, {\"speed\": 45.0, \"time\": 5.02, \"image\": \"MercedesGLA_45.MP4\", \"vehicle\": \"MercedesGLA\"}, {\"speed\": 47.0, \"time\": 5.0, \"image\": \"MercedesGLA_47.MP4\", \"vehicle\": \"MercedesGLA\"}, {\"speed\": 48.0, \"time\": 5.0, \"image\": \"MercedesGLA_48.MP4\", \"vehicle\": \"MercedesGLA\"}, {\"speed\": 49.0, \"time\": 5.01, \"image\": \"MercedesGLA_49.MP4\", \"vehicle\": \"MercedesGLA\"}, {\"speed\": 52.0, \"time\": 5.0, \"image\": \"MercedesGLA_52.MP4\", \"vehicle\": \"MercedesGLA\"}, {\"speed\": 54.0, \"time\": 5.0, \"image\": \"MercedesGLA_54.MP4\", \"vehicle\": \"MercedesGLA\"}, {\"speed\": 55.0, \"time\": 4.99, \"image\": \"MercedesGLA_55.MP4\", \"vehicle\": \"MercedesGLA\"}, {\"speed\": 59.0, \"time\": 5.01, \"image\": \"MercedesGLA_59.MP4\", \"vehicle\": \"MercedesGLA\"}, {\"speed\": 61.0, \"time\": 5.08, \"image\": \"MercedesGLA_61.MP4\", \"vehicle\": \"MercedesGLA\"}, {\"speed\": 63.0, \"time\": 4.99, \"image\": \"MercedesGLA_63.MP4\", \"vehicle\": \"MercedesGLA\"}, {\"speed\": 65.0, \"time\": 4.99, \"image\": \"MercedesGLA_65.MP4\", \"vehicle\": \"MercedesGLA\"}, {\"speed\": 68.0, \"time\": 4.99, \"image\": \"MercedesGLA_68.MP4\", \"vehicle\": \"MercedesGLA\"}, {\"speed\": 70.0, \"time\": 5.01, \"image\": \"MercedesGLA_70.MP4\", \"vehicle\": \"MercedesGLA\"}, {\"speed\": 72.0, \"time\": 5.0, \"image\": \"MercedesGLA_72.MP4\", \"vehicle\": \"MercedesGLA\"}, {\"speed\": 75.0, \"time\": 5.0, \"image\": \"MercedesGLA_75.MP4\", \"vehicle\": \"MercedesGLA\"}, {\"speed\": 78.0, \"time\": 5.0, \"image\": \"MercedesGLA_78.MP4\", \"vehicle\": \"MercedesGLA\"}, {\"speed\": 81.0, \"time\": 5.01, \"image\": \"MercedesGLA_81.MP4\", \"vehicle\": \"MercedesGLA\"}, {\"speed\": 83.0, \"time\": 5.01, \"image\": \"MercedesGLA_83.MP4\", \"vehicle\": \"MercedesGLA\"}, {\"speed\": 85.0, \"time\": 5.01, \"image\": \"MercedesGLA_85.MP4\", \"vehicle\": \"MercedesGLA\"}, {\"speed\": 88.0, \"time\": 4.99, \"image\": \"MercedesGLA_88.MP4\", \"vehicle\": \"MercedesGLA\"}, {\"speed\": 90.0, \"time\": 5.1, \"image\": \"MercedesGLA_90.MP4\", \"vehicle\": \"MercedesGLA\"}, {\"speed\": 92.0, \"time\": 5.01, \"image\": \"MercedesGLA_92.MP4\", \"vehicle\": \"MercedesGLA\"}, {\"speed\": 93.0, \"time\": 4.99, \"image\": \"MercedesGLA_93.MP4\", \"vehicle\": \"MercedesGLA\"}, {\"speed\": 96.0, \"time\": 5.0, \"image\": \"MercedesGLA_96.MP4\", \"vehicle\": \"MercedesGLA\"}, {\"speed\": 102.0, \"time\": 5.62, \"image\": \"NissanQashqai_102.MP4\", \"vehicle\": \"NissanQashqai\"}, {\"speed\": 35.0, \"time\": 6.1, \"image\": \"NissanQashqai_35.MP4\", \"vehicle\": \"NissanQashqai\"}, {\"speed\": 38.0, \"time\": 6.19, \"image\": \"NissanQashqai_38.MP4\", \"vehicle\": \"NissanQashqai\"}, {\"speed\": 40.0, \"time\": 5.21, \"image\": \"NissanQashqai_40.MP4\", \"vehicle\": \"NissanQashqai\"}, {\"speed\": 42.0, \"time\": 5.14, \"image\": \"NissanQashqai_42.MP4\", \"vehicle\": \"NissanQashqai\"}, {\"speed\": 45.0, \"time\": 6.01, \"image\": \"NissanQashqai_45.MP4\", \"vehicle\": \"NissanQashqai\"}, {\"speed\": 48.0, \"time\": 5.21, \"image\": \"NissanQashqai_48.MP4\", \"vehicle\": \"NissanQashqai\"}, {\"speed\": 50.0, \"time\": 5.85, \"image\": \"NissanQashqai_50.MP4\", \"vehicle\": \"NissanQashqai\"}, {\"speed\": 53.0, \"time\": 5.99, \"image\": \"NissanQashqai_53.MP4\", \"vehicle\": \"NissanQashqai\"}, {\"speed\": 55.0, \"time\": 5.9, \"image\": \"NissanQashqai_55.MP4\", \"vehicle\": \"NissanQashqai\"}, {\"speed\": 58.0, \"time\": 5.61, \"image\": \"NissanQashqai_58.MP4\", \"vehicle\": \"NissanQashqai\"}, {\"speed\": 60.0, \"time\": 5.58, \"image\": \"NissanQashqai_60.MP4\", \"vehicle\": \"NissanQashqai\"}, {\"speed\": 61.0, \"time\": 6.08, \"image\": \"NissanQashqai_61.MP4\", \"vehicle\": \"NissanQashqai\"}, {\"speed\": 64.0, \"time\": 5.92, \"image\": \"NissanQashqai_64.MP4\", \"vehicle\": \"NissanQashqai\"}, {\"speed\": 65.0, \"time\": 5.58, \"image\": \"NissanQashqai_65.MP4\", \"vehicle\": \"NissanQashqai\"}, {\"speed\": 68.0, \"time\": 5.98, \"image\": \"NissanQashqai_68.MP4\", \"vehicle\": \"NissanQashqai\"}, {\"speed\": 70.0, \"time\": 6.04, \"image\": \"NissanQashqai_70.MP4\", \"vehicle\": \"NissanQashqai\"}, {\"speed\": 73.0, \"time\": 6.14, \"image\": \"NissanQashqai_73.MP4\", \"vehicle\": \"NissanQashqai\"}, {\"speed\": 75.0, \"time\": 6.01, \"image\": \"NissanQashqai_75.MP4\", \"vehicle\": \"NissanQashqai\"}, {\"speed\": 78.0, \"time\": 5.9, \"image\": \"NissanQashqai_78.MP4\", \"vehicle\": \"NissanQashqai\"}, {\"speed\": 80.0, \"time\": 5.79, \"image\": \"NissanQashqai_80.MP4\", \"vehicle\": \"NissanQashqai\"}, {\"speed\": 82.0, \"time\": 5.72, \"image\": \"NissanQashqai_82.MP4\", \"vehicle\": \"NissanQashqai\"}, {\"speed\": 85.0, \"time\": 5.91, \"image\": \"NissanQashqai_85.MP4\", \"vehicle\": \"NissanQashqai\"}, {\"speed\": 88.0, \"time\": 6.13, \"image\": \"NissanQashqai_88.MP4\", \"vehicle\": \"NissanQashqai\"}, {\"speed\": 90.0, \"time\": 5.52, \"image\": \"NissanQashqai_90.MP4\", \"vehicle\": \"NissanQashqai\"}, {\"speed\": 93.0, \"time\": 5.79, \"image\": \"NissanQashqai_93.MP4\", \"vehicle\": \"NissanQashqai\"}, {\"speed\": 94.0, \"time\": 5.28, \"image\": \"NissanQashqai_94.MP4\", \"vehicle\": \"NissanQashqai\"}, {\"speed\": 96.0, \"time\": 5.58, \"image\": \"NissanQashqai_96.MP4\", \"vehicle\": \"NissanQashqai\"}, {\"speed\": 98.0, \"time\": 5.38, \"image\": \"NissanQashqai_98.MP4\", \"vehicle\": \"NissanQashqai\"}, {\"speed\": 100.0, \"time\": 5.02, \"image\": \"OpelInsignia_100.MP4\", \"vehicle\": \"OpelInsignia\"}, {\"speed\": 31.0, \"time\": 6.05, \"image\": \"OpelInsignia_31.MP4\", \"vehicle\": \"OpelInsignia\"}, {\"speed\": 35.0, \"time\": 5.92, \"image\": \"OpelInsignia_35.MP4\", \"vehicle\": \"OpelInsignia\"}, {\"speed\": 38.0, \"time\": 6.68, \"image\": \"OpelInsignia_38.MP4\", \"vehicle\": \"OpelInsignia\"}, {\"speed\": 41.0, \"time\": 6.51, \"image\": \"OpelInsignia_41.MP4\", \"vehicle\": \"OpelInsignia\"}, {\"speed\": 44.0, \"time\": 5.92, \"image\": \"OpelInsignia_44.MP4\", \"vehicle\": \"OpelInsignia\"}, {\"speed\": 47.0, \"time\": 5.91, \"image\": \"OpelInsignia_47.MP4\", \"vehicle\": \"OpelInsignia\"}, {\"speed\": 50.0, \"time\": 6.42, \"image\": \"OpelInsignia_50.MP4\", \"vehicle\": \"OpelInsignia\"}, {\"speed\": 53.0, \"time\": 5.71, \"image\": \"OpelInsignia_53.MP4\", \"vehicle\": \"OpelInsignia\"}, {\"speed\": 55.0, \"time\": 5.51, \"image\": \"OpelInsignia_55.MP4\", \"vehicle\": \"OpelInsignia\"}, {\"speed\": 58.0, \"time\": 5.48, \"image\": \"OpelInsignia_58.MP4\", \"vehicle\": \"OpelInsignia\"}, {\"speed\": 61.0, \"time\": 5.54, \"image\": \"OpelInsignia_61.MP4\", \"vehicle\": \"OpelInsignia\"}, {\"speed\": 64.0, \"time\": 5.74, \"image\": \"OpelInsignia_64.MP4\", \"vehicle\": \"OpelInsignia\"}, {\"speed\": 66.0, \"time\": 5.35, \"image\": \"OpelInsignia_66.MP4\", \"vehicle\": \"OpelInsignia\"}, {\"speed\": 68.0, \"time\": 5.25, \"image\": \"OpelInsignia_68.MP4\", \"vehicle\": \"OpelInsignia\"}, {\"speed\": 70.0, \"time\": 5.91, \"image\": \"OpelInsignia_70.MP4\", \"vehicle\": \"OpelInsignia\"}, {\"speed\": 72.0, \"time\": 6.09, \"image\": \"OpelInsignia_72.MP4\", \"vehicle\": \"OpelInsignia\"}, {\"speed\": 73.0, \"time\": 5.39, \"image\": \"OpelInsignia_73.MP4\", \"vehicle\": \"OpelInsignia\"}, {\"speed\": 76.0, \"time\": 6.22, \"image\": \"OpelInsignia_76.MP4\", \"vehicle\": \"OpelInsignia\"}, {\"speed\": 78.0, \"time\": 5.21, \"image\": \"OpelInsignia_78.MP4\", \"vehicle\": \"OpelInsignia\"}, {\"speed\": 80.0, \"time\": 6.24, \"image\": \"OpelInsignia_80.MP4\", \"vehicle\": \"OpelInsignia\"}, {\"speed\": 83.0, \"time\": 6.02, \"image\": \"OpelInsignia_83.MP4\", \"vehicle\": \"OpelInsignia\"}, {\"speed\": 86.0, \"time\": 5.51, \"image\": \"OpelInsignia_86.MP4\", \"vehicle\": \"OpelInsignia\"}, {\"speed\": 89.0, \"time\": 5.59, \"image\": \"OpelInsignia_89.MP4\", \"vehicle\": \"OpelInsignia\"}, {\"speed\": 91.0, \"time\": 5.38, \"image\": \"OpelInsignia_91.MP4\", \"vehicle\": \"OpelInsignia\"}, {\"speed\": 94.0, \"time\": 5.81, \"image\": \"OpelInsignia_94.MP4\", \"vehicle\": \"OpelInsignia\"}, {\"speed\": 97.0, \"time\": 5.72, \"image\": \"OpelInsignia_97.MP4\", \"vehicle\": \"OpelInsignia\"}, {\"speed\": 30.0, \"time\": 5.14, \"image\": \"Peugeot208_30.MP4\", \"vehicle\": \"Peugeot208\"}, {\"speed\": 32.0, \"time\": 5.04, \"image\": \"Peugeot208_32.MP4\", \"vehicle\": \"Peugeot208\"}, {\"speed\": 34.0, \"time\": 5.04, \"image\": \"Peugeot208_34.MP4\", \"vehicle\": \"Peugeot208\"}, {\"speed\": 37.0, \"time\": 5.15, \"image\": \"Peugeot208_37.MP4\", \"vehicle\": \"Peugeot208\"}, {\"speed\": 40.0, \"time\": 5.14, \"image\": \"Peugeot208_40.MP4\", \"vehicle\": \"Peugeot208\"}, {\"speed\": 43.0, \"time\": 5.1, \"image\": \"Peugeot208_43.MP4\", \"vehicle\": \"Peugeot208\"}, {\"speed\": 45.0, \"time\": 5.12, \"image\": \"Peugeot208_45.MP4\", \"vehicle\": \"Peugeot208\"}, {\"speed\": 47.0, \"time\": 5.02, \"image\": \"Peugeot208_47.MP4\", \"vehicle\": \"Peugeot208\"}, {\"speed\": 50.0, \"time\": 4.93, \"image\": \"Peugeot208_50.MP4\", \"vehicle\": \"Peugeot208\"}, {\"speed\": 51.0, \"time\": 5.52, \"image\": \"Peugeot208_51.MP4\", \"vehicle\": \"Peugeot208\"}, {\"speed\": 54.0, \"time\": 5.17, \"image\": \"Peugeot208_54.MP4\", \"vehicle\": \"Peugeot208\"}, {\"speed\": 57.0, \"time\": 5.51, \"image\": \"Peugeot208_57.MP4\", \"vehicle\": \"Peugeot208\"}, {\"speed\": 60.0, \"time\": 5.06, \"image\": \"Peugeot208_60.MP4\", \"vehicle\": \"Peugeot208\"}, {\"speed\": 62.0, \"time\": 5.09, \"image\": \"Peugeot208_62.MP4\", \"vehicle\": \"Peugeot208\"}, {\"speed\": 64.0, \"time\": 5.22, \"image\": \"Peugeot208_64.MP4\", \"vehicle\": \"Peugeot208\"}, {\"speed\": 67.0, \"time\": 5.03, \"image\": \"Peugeot208_67.MP4\", \"vehicle\": \"Peugeot208\"}, {\"speed\": 68.0, \"time\": 5.18, \"image\": \"Peugeot208_68.MP4\", \"vehicle\": \"Peugeot208\"}, {\"speed\": 71.0, \"time\": 5.16, \"image\": \"Peugeot208_71.MP4\", \"vehicle\": \"Peugeot208\"}, {\"speed\": 73.0, \"time\": 4.99, \"image\": \"Peugeot208_73.MP4\", \"vehicle\": \"Peugeot208\"}, {\"speed\": 76.0, \"time\": 5.61, \"image\": \"Peugeot208_76.MP4\", \"vehicle\": \"Peugeot208\"}, {\"speed\": 77.0, \"time\": 6.26, \"image\": \"Peugeot208_77.MP4\", \"vehicle\": \"Peugeot208\"}, {\"speed\": 79.0, \"time\": 5.22, \"image\": \"Peugeot208_79.MP4\", \"vehicle\": \"Peugeot208\"}, {\"speed\": 82.0, \"time\": 5.17, \"image\": \"Peugeot208_82.MP4\", \"vehicle\": \"Peugeot208\"}, {\"speed\": 84.0, \"time\": 5.12, \"image\": \"Peugeot208_84.MP4\", \"vehicle\": \"Peugeot208\"}, {\"speed\": 87.0, \"time\": 5.48, \"image\": \"Peugeot208_87.MP4\", \"vehicle\": \"Peugeot208\"}, {\"speed\": 90.0, \"time\": 5.18, \"image\": \"Peugeot208_90.MP4\", \"vehicle\": \"Peugeot208\"}, {\"speed\": 92.0, \"time\": 5.48, \"image\": \"Peugeot208_92.MP4\", \"vehicle\": \"Peugeot208\"}, {\"speed\": 95.0, \"time\": 5.59, \"image\": \"Peugeot208_95.MP4\", \"vehicle\": \"Peugeot208\"}, {\"speed\": 96.0, \"time\": 5.43, \"image\": \"Peugeot208_96.MP4\", \"vehicle\": \"Peugeot208\"}, {\"speed\": 100.0, \"time\": 5.5, \"image\": \"Peugeot3008_100.MP4\", \"vehicle\": \"Peugeot3008\"}, {\"speed\": 40.0, \"time\": 6.01, \"image\": \"Peugeot3008_40.MP4\", \"vehicle\": \"Peugeot3008\"}, {\"speed\": 43.0, \"time\": 4.93, \"image\": \"Peugeot3008_43.MP4\", \"vehicle\": \"Peugeot3008\"}, {\"speed\": 45.0, \"time\": 6.0, \"image\": \"Peugeot3008_45.MP4\", \"vehicle\": \"Peugeot3008\"}, {\"speed\": 47.0, \"time\": 5.89, \"image\": \"Peugeot3008_47.MP4\", \"vehicle\": \"Peugeot3008\"}, {\"speed\": 50.0, \"time\": 5.99, \"image\": \"Peugeot3008_50.MP4\", \"vehicle\": \"Peugeot3008\"}, {\"speed\": 52.0, \"time\": 6.86, \"image\": \"Peugeot3008_52.MP4\", \"vehicle\": \"Peugeot3008\"}, {\"speed\": 54.0, \"time\": 5.84, \"image\": \"Peugeot3008_54.MP4\", \"vehicle\": \"Peugeot3008\"}, {\"speed\": 55.0, \"time\": 6.02, \"image\": \"Peugeot3008_55.MP4\", \"vehicle\": \"Peugeot3008\"}, {\"speed\": 56.0, \"time\": 5.71, \"image\": \"Peugeot3008_56.MP4\", \"vehicle\": \"Peugeot3008\"}, {\"speed\": 58.0, \"time\": 4.89, \"image\": \"Peugeot3008_58.MP4\", \"vehicle\": \"Peugeot3008\"}, {\"speed\": 60.0, \"time\": 5.99, \"image\": \"Peugeot3008_60.MP4\", \"vehicle\": \"Peugeot3008\"}, {\"speed\": 61.0, \"time\": 5.43, \"image\": \"Peugeot3008_61.MP4\", \"vehicle\": \"Peugeot3008\"}, {\"speed\": 63.0, \"time\": 7.22, \"image\": \"Peugeot3008_63.MP4\", \"vehicle\": \"Peugeot3008\"}, {\"speed\": 65.0, \"time\": 6.0, \"image\": \"Peugeot3008_65.MP4\", \"vehicle\": \"Peugeot3008\"}, {\"speed\": 67.0, \"time\": 5.69, \"image\": \"Peugeot3008_67.MP4\", \"vehicle\": \"Peugeot3008\"}, {\"speed\": 68.0, \"time\": 5.97, \"image\": \"Peugeot3008_68.MP4\", \"vehicle\": \"Peugeot3008\"}, {\"speed\": 70.0, \"time\": 6.0, \"image\": \"Peugeot3008_70.MP4\", \"vehicle\": \"Peugeot3008\"}, {\"speed\": 72.0, \"time\": 5.53, \"image\": \"Peugeot3008_72.MP4\", \"vehicle\": \"Peugeot3008\"}, {\"speed\": 74.0, \"time\": 5.88, \"image\": \"Peugeot3008_74.MP4\", \"vehicle\": \"Peugeot3008\"}, {\"speed\": 75.0, \"time\": 6.09, \"image\": \"Peugeot3008_75.MP4\", \"vehicle\": \"Peugeot3008\"}, {\"speed\": 78.0, \"time\": 5.6, \"image\": \"Peugeot3008_78.MP4\", \"vehicle\": \"Peugeot3008\"}, {\"speed\": 80.0, \"time\": 6.01, \"image\": \"Peugeot3008_80.MP4\", \"vehicle\": \"Peugeot3008\"}, {\"speed\": 83.0, \"time\": 6.62, \"image\": \"Peugeot3008_83.MP4\", \"vehicle\": \"Peugeot3008\"}, {\"speed\": 85.0, \"time\": 6.38, \"image\": \"Peugeot3008_85.MP4\", \"vehicle\": \"Peugeot3008\"}, {\"speed\": 87.0, \"time\": 5.35, \"image\": \"Peugeot3008_87.MP4\", \"vehicle\": \"Peugeot3008\"}, {\"speed\": 89.0, \"time\": 5.15, \"image\": \"Peugeot3008_89.MP4\", \"vehicle\": \"Peugeot3008\"}, {\"speed\": 90.0, \"time\": 5.99, \"image\": \"Peugeot3008_90.MP4\", \"vehicle\": \"Peugeot3008\"}, {\"speed\": 92.0, \"time\": 5.37, \"image\": \"Peugeot3008_92.MP4\", \"vehicle\": \"Peugeot3008\"}, {\"speed\": 95.0, \"time\": 6.1, \"image\": \"Peugeot3008_95.MP4\", \"vehicle\": \"Peugeot3008\"}, {\"speed\": 97.0, \"time\": 6.39, \"image\": \"Peugeot3008_97.MP4\", \"vehicle\": \"Peugeot3008\"}, {\"speed\": 101.0, \"time\": 5.45, \"image\": \"Peugeot307_101.MP4\", \"vehicle\": \"Peugeot307\"}, {\"speed\": 103.0, \"time\": 5.86, \"image\": \"Peugeot307_103.MP4\", \"vehicle\": \"Peugeot307\"}, {\"speed\": 30.0, \"time\": 5.52, \"image\": \"Peugeot307_30.MP4\", \"vehicle\": \"Peugeot307\"}, {\"speed\": 33.0, \"time\": 5.62, \"image\": \"Peugeot307_33.MP4\", \"vehicle\": \"Peugeot307\"}, {\"speed\": 35.0, \"time\": 5.55, \"image\": \"Peugeot307_35.MP4\", \"vehicle\": \"Peugeot307\"}, {\"speed\": 38.0, \"time\": 5.08, \"image\": \"Peugeot307_38.MP4\", \"vehicle\": \"Peugeot307\"}, {\"speed\": 40.0, \"time\": 5.02, \"image\": \"Peugeot307_40.MP4\", \"vehicle\": \"Peugeot307\"}, {\"speed\": 43.0, \"time\": 4.95, \"image\": \"Peugeot307_43.MP4\", \"vehicle\": \"Peugeot307\"}, {\"speed\": 45.0, \"time\": 5.18, \"image\": \"Peugeot307_45.MP4\", \"vehicle\": \"Peugeot307\"}, {\"speed\": 47.0, \"time\": 4.99, \"image\": \"Peugeot307_47.MP4\", \"vehicle\": \"Peugeot307\"}, {\"speed\": 48.0, \"time\": 4.97, \"image\": \"Peugeot307_48.MP4\", \"vehicle\": \"Peugeot307\"}, {\"speed\": 50.0, \"time\": 5.18, \"image\": \"Peugeot307_50.MP4\", \"vehicle\": \"Peugeot307\"}, {\"speed\": 53.0, \"time\": 4.98, \"image\": \"Peugeot307_53.MP4\", \"vehicle\": \"Peugeot307\"}, {\"speed\": 56.0, \"time\": 5.45, \"image\": \"Peugeot307_56.MP4\", \"vehicle\": \"Peugeot307\"}, {\"speed\": 59.0, \"time\": 4.97, \"image\": \"Peugeot307_59.MP4\", \"vehicle\": \"Peugeot307\"}, {\"speed\": 60.0, \"time\": 6.33, \"image\": \"Peugeot307_60.MP4\", \"vehicle\": \"Peugeot307\"}, {\"speed\": 63.0, \"time\": 5.08, \"image\": \"Peugeot307_63.MP4\", \"vehicle\": \"Peugeot307\"}, {\"speed\": 66.0, \"time\": 5.18, \"image\": \"Peugeot307_66.MP4\", \"vehicle\": \"Peugeot307\"}, {\"speed\": 69.0, \"time\": 4.85, \"image\": \"Peugeot307_69.MP4\", \"vehicle\": \"Peugeot307\"}, {\"speed\": 72.0, \"time\": 4.6, \"image\": \"Peugeot307_72.MP4\", \"vehicle\": \"Peugeot307\"}, {\"speed\": 73.0, \"time\": 4.95, \"image\": \"Peugeot307_73.MP4\", \"vehicle\": \"Peugeot307\"}, {\"speed\": 76.0, \"time\": 4.9, \"image\": \"Peugeot307_76.MP4\", \"vehicle\": \"Peugeot307\"}, {\"speed\": 79.0, \"time\": 4.93, \"image\": \"Peugeot307_79.MP4\", \"vehicle\": \"Peugeot307\"}, {\"speed\": 82.0, \"time\": 5.22, \"image\": \"Peugeot307_82.MP4\", \"vehicle\": \"Peugeot307\"}, {\"speed\": 85.0, \"time\": 5.25, \"image\": \"Peugeot307_85.MP4\", \"vehicle\": \"Peugeot307\"}, {\"speed\": 88.0, \"time\": 4.94, \"image\": \"Peugeot307_88.MP4\", \"vehicle\": \"Peugeot307\"}, {\"speed\": 91.0, \"time\": 5.05, \"image\": \"Peugeot307_91.MP4\", \"vehicle\": \"Peugeot307\"}, {\"speed\": 94.0, \"time\": 4.75, \"image\": \"Peugeot307_94.MP4\", \"vehicle\": \"Peugeot307\"}, {\"speed\": 97.0, \"time\": 4.95, \"image\": \"Peugeot307_97.MP4\", \"vehicle\": \"Peugeot307\"}, {\"speed\": 100.0, \"time\": 5.19, \"image\": \"RenaultCaptur_100.MP4\", \"vehicle\": \"RenaultCaptur\"}, {\"speed\": 102.0, \"time\": 5.34, \"image\": \"RenaultCaptur_102.MP4\", \"vehicle\": \"RenaultCaptur\"}, {\"speed\": 30.0, \"time\": 5.55, \"image\": \"RenaultCaptur_30.MP4\", \"vehicle\": \"RenaultCaptur\"}, {\"speed\": 33.0, \"time\": 5.85, \"image\": \"RenaultCaptur_33.MP4\", \"vehicle\": \"RenaultCaptur\"}, {\"speed\": 36.0, \"time\": 5.32, \"image\": \"RenaultCaptur_36.MP4\", \"vehicle\": \"RenaultCaptur\"}, {\"speed\": 38.0, \"time\": 5.44, \"image\": \"RenaultCaptur_38.MP4\", \"vehicle\": \"RenaultCaptur\"}, {\"speed\": 40.0, \"time\": 5.29, \"image\": \"RenaultCaptur_40.MP4\", \"vehicle\": \"RenaultCaptur\"}, {\"speed\": 41.0, \"time\": 5.36, \"image\": \"RenaultCaptur_41.MP4\", \"vehicle\": \"RenaultCaptur\"}, {\"speed\": 44.0, \"time\": 5.3, \"image\": \"RenaultCaptur_44.MP4\", \"vehicle\": \"RenaultCaptur\"}, {\"speed\": 46.0, \"time\": 4.68, \"image\": \"RenaultCaptur_46.MP4\", \"vehicle\": \"RenaultCaptur\"}, {\"speed\": 47.0, \"time\": 5.28, \"image\": \"RenaultCaptur_47.MP4\", \"vehicle\": \"RenaultCaptur\"}, {\"speed\": 48.0, \"time\": 5.57, \"image\": \"RenaultCaptur_48.MP4\", \"vehicle\": \"RenaultCaptur\"}, {\"speed\": 50.0, \"time\": 5.09, \"image\": \"RenaultCaptur_50.MP4\", \"vehicle\": \"RenaultCaptur\"}, {\"speed\": 52.0, \"time\": 5.53, \"image\": \"RenaultCaptur_52.MP4\", \"vehicle\": \"RenaultCaptur\"}, {\"speed\": 56.0, \"time\": 5.21, \"image\": \"RenaultCaptur_56.MP4\", \"vehicle\": \"RenaultCaptur\"}, {\"speed\": 58.0, \"time\": 5.32, \"image\": \"RenaultCaptur_58.MP4\", \"vehicle\": \"RenaultCaptur\"}, {\"speed\": 60.0, \"time\": 5.39, \"image\": \"RenaultCaptur_60.MP4\", \"vehicle\": \"RenaultCaptur\"}, {\"speed\": 63.0, \"time\": 5.42, \"image\": \"RenaultCaptur_63.MP4\", \"vehicle\": \"RenaultCaptur\"}, {\"speed\": 66.0, \"time\": 5.01, \"image\": \"RenaultCaptur_66.MP4\", \"vehicle\": \"RenaultCaptur\"}, {\"speed\": 68.0, \"time\": 5.15, \"image\": \"RenaultCaptur_68.MP4\", \"vehicle\": \"RenaultCaptur\"}, {\"speed\": 70.0, \"time\": 5.75, \"image\": \"RenaultCaptur_70.MP4\", \"vehicle\": \"RenaultCaptur\"}, {\"speed\": 72.0, \"time\": 5.08, \"image\": \"RenaultCaptur_72.MP4\", \"vehicle\": \"RenaultCaptur\"}, {\"speed\": 76.0, \"time\": 5.94, \"image\": \"RenaultCaptur_76.MP4\", \"vehicle\": \"RenaultCaptur\"}, {\"speed\": 78.0, \"time\": 5.32, \"image\": \"RenaultCaptur_78.MP4\", \"vehicle\": \"RenaultCaptur\"}, {\"speed\": 80.0, \"time\": 4.79, \"image\": \"RenaultCaptur_80.MP4\", \"vehicle\": \"RenaultCaptur\"}, {\"speed\": 83.0, \"time\": 5.59, \"image\": \"RenaultCaptur_83.MP4\", \"vehicle\": \"RenaultCaptur\"}, {\"speed\": 86.0, \"time\": 5.18, \"image\": \"RenaultCaptur_86.MP4\", \"vehicle\": \"RenaultCaptur\"}, {\"speed\": 88.0, \"time\": 5.24, \"image\": \"RenaultCaptur_88.MP4\", \"vehicle\": \"RenaultCaptur\"}, {\"speed\": 90.0, \"time\": 5.61, \"image\": \"RenaultCaptur_90.MP4\", \"vehicle\": \"RenaultCaptur\"}, {\"speed\": 92.0, \"time\": 5.64, \"image\": \"RenaultCaptur_92.MP4\", \"vehicle\": \"RenaultCaptur\"}, {\"speed\": 94.0, \"time\": 5.06, \"image\": \"RenaultCaptur_94.MP4\", \"vehicle\": \"RenaultCaptur\"}, {\"speed\": 97.0, \"time\": 6.02, \"image\": \"RenaultCaptur_97.MP4\", \"vehicle\": \"RenaultCaptur\"}, {\"speed\": 98.0, \"time\": 5.11, \"image\": \"RenaultCaptur_98.MP4\", \"vehicle\": \"RenaultCaptur\"}, {\"speed\": 101.0, \"time\": 6.17, \"image\": \"RenaultScenic_101.MP4\", \"vehicle\": \"RenaultScenic\"}, {\"speed\": 30.0, \"time\": 6.0, \"image\": \"RenaultScenic_30.MP4\", \"vehicle\": \"RenaultScenic\"}, {\"speed\": 35.0, \"time\": 6.82, \"image\": \"RenaultScenic_35.MP4\", \"vehicle\": \"RenaultScenic\"}, {\"speed\": 36.0, \"time\": 6.01, \"image\": \"RenaultScenic_36.MP4\", \"vehicle\": \"RenaultScenic\"}, {\"speed\": 38.0, \"time\": 6.03, \"image\": \"RenaultScenic_38.MP4\", \"vehicle\": \"RenaultScenic\"}, {\"speed\": 40.0, \"time\": 6.7, \"image\": \"RenaultScenic_40.MP4\", \"vehicle\": \"RenaultScenic\"}, {\"speed\": 42.0, \"time\": 5.83, \"image\": \"RenaultScenic_42.MP4\", \"vehicle\": \"RenaultScenic\"}, {\"speed\": 44.0, \"time\": 5.27, \"image\": \"RenaultScenic_44.MP4\", \"vehicle\": \"RenaultScenic\"}, {\"speed\": 46.0, \"time\": 6.75, \"image\": \"RenaultScenic_46.MP4\", \"vehicle\": \"RenaultScenic\"}, {\"speed\": 48.0, \"time\": 5.75, \"image\": \"RenaultScenic_48.MP4\", \"vehicle\": \"RenaultScenic\"}, {\"speed\": 50.0, \"time\": 7.25, \"image\": \"RenaultScenic_50.MP4\", \"vehicle\": \"RenaultScenic\"}, {\"speed\": 52.0, \"time\": 5.25, \"image\": \"RenaultScenic_52.MP4\", \"vehicle\": \"RenaultScenic\"}, {\"speed\": 54.0, \"time\": 5.46, \"image\": \"RenaultScenic_54.MP4\", \"vehicle\": \"RenaultScenic\"}, {\"speed\": 57.0, \"time\": 6.6, \"image\": \"RenaultScenic_57.MP4\", \"vehicle\": \"RenaultScenic\"}, {\"speed\": 60.0, \"time\": 6.12, \"image\": \"RenaultScenic_60.MP4\", \"vehicle\": \"RenaultScenic\"}, {\"speed\": 62.0, \"time\": 6.05, \"image\": \"RenaultScenic_62.MP4\", \"vehicle\": \"RenaultScenic\"}, {\"speed\": 64.0, \"time\": 5.76, \"image\": \"RenaultScenic_64.MP4\", \"vehicle\": \"RenaultScenic\"}, {\"speed\": 66.0, \"time\": 5.35, \"image\": \"RenaultScenic_66.MP4\", \"vehicle\": \"RenaultScenic\"}, {\"speed\": 68.0, \"time\": 6.57, \"image\": \"RenaultScenic_68.MP4\", \"vehicle\": \"RenaultScenic\"}, {\"speed\": 70.0, \"time\": 5.85, \"image\": \"RenaultScenic_70.MP4\", \"vehicle\": \"RenaultScenic\"}, {\"speed\": 71.0, \"time\": 5.99, \"image\": \"RenaultScenic_71.MP4\", \"vehicle\": \"RenaultScenic\"}, {\"speed\": 72.0, \"time\": 5.23, \"image\": \"RenaultScenic_72.MP4\", \"vehicle\": \"RenaultScenic\"}, {\"speed\": 74.0, \"time\": 5.7, \"image\": \"RenaultScenic_74.MP4\", \"vehicle\": \"RenaultScenic\"}, {\"speed\": 75.0, \"time\": 5.45, \"image\": \"RenaultScenic_75.MP4\", \"vehicle\": \"RenaultScenic\"}, {\"speed\": 77.0, \"time\": 7.32, \"image\": \"RenaultScenic_77.MP4\", \"vehicle\": \"RenaultScenic\"}, {\"speed\": 80.0, \"time\": 7.01, \"image\": \"RenaultScenic_80.MP4\", \"vehicle\": \"RenaultScenic\"}, {\"speed\": 82.0, \"time\": 6.06, \"image\": \"RenaultScenic_82.MP4\", \"vehicle\": \"RenaultScenic\"}, {\"speed\": 84.0, \"time\": 5.39, \"image\": \"RenaultScenic_84.MP4\", \"vehicle\": \"RenaultScenic\"}, {\"speed\": 86.0, \"time\": 5.65, \"image\": \"RenaultScenic_86.MP4\", \"vehicle\": \"RenaultScenic\"}, {\"speed\": 87.0, \"time\": 6.0, \"image\": \"RenaultScenic_87.MP4\", \"vehicle\": \"RenaultScenic\"}, {\"speed\": 90.0, \"time\": 5.09, \"image\": \"RenaultScenic_90.MP4\", \"vehicle\": \"RenaultScenic\"}, {\"speed\": 91.0, \"time\": 6.21, \"image\": \"RenaultScenic_91.MP4\", \"vehicle\": \"RenaultScenic\"}, {\"speed\": 94.0, \"time\": 6.18, \"image\": \"RenaultScenic_94.MP4\", \"vehicle\": \"RenaultScenic\"}, {\"speed\": 95.0, \"time\": 6.23, \"image\": \"RenaultScenic_95.MP4\", \"vehicle\": \"RenaultScenic\"}, {\"speed\": 98.0, \"time\": 5.38, \"image\": \"RenaultScenic_98.MP4\", \"vehicle\": \"RenaultScenic\"}, {\"speed\": 100.0, \"time\": 6.01, \"image\": \"VWPassat_100.MP4\", \"vehicle\": \"VWPassat\"}, {\"speed\": 30.0, \"time\": 6.46, \"image\": \"VWPassat_30.MP4\", \"vehicle\": \"VWPassat\"}, {\"speed\": 35.0, \"time\": 5.92, \"image\": \"VWPassat_35.MP4\", \"vehicle\": \"VWPassat\"}, {\"speed\": 39.0, \"time\": 5.27, \"image\": \"VWPassat_39.MP4\", \"vehicle\": \"VWPassat\"}, {\"speed\": 40.0, \"time\": 6.53, \"image\": \"VWPassat_40.MP4\", \"vehicle\": \"VWPassat\"}, {\"speed\": 42.0, \"time\": 6.72, \"image\": \"VWPassat_42.MP4\", \"vehicle\": \"VWPassat\"}, {\"speed\": 45.0, \"time\": 6.35, \"image\": \"VWPassat_45.MP4\", \"vehicle\": \"VWPassat\"}, {\"speed\": 47.0, \"time\": 5.25, \"image\": \"VWPassat_47.MP4\", \"vehicle\": \"VWPassat\"}, {\"speed\": 49.0, \"time\": 5.27, \"image\": \"VWPassat_49.MP4\", \"vehicle\": \"VWPassat\"}, {\"speed\": 50.0, \"time\": 6.0, \"image\": \"VWPassat_50.MP4\", \"vehicle\": \"VWPassat\"}, {\"speed\": 52.0, \"time\": 6.02, \"image\": \"VWPassat_52.MP4\", \"vehicle\": \"VWPassat\"}, {\"speed\": 54.0, \"time\": 5.54, \"image\": \"VWPassat_54.MP4\", \"vehicle\": \"VWPassat\"}, {\"speed\": 55.0, \"time\": 6.02, \"image\": \"VWPassat_55.MP4\", \"vehicle\": \"VWPassat\"}, {\"speed\": 57.0, \"time\": 4.98, \"image\": \"VWPassat_57.MP4\", \"vehicle\": \"VWPassat\"}, {\"speed\": 60.0, \"time\": 5.98, \"image\": \"VWPassat_60.MP4\", \"vehicle\": \"VWPassat\"}, {\"speed\": 61.0, \"time\": 6.01, \"image\": \"VWPassat_61.MP4\", \"vehicle\": \"VWPassat\"}, {\"speed\": 64.0, \"time\": 5.67, \"image\": \"VWPassat_64.MP4\", \"vehicle\": \"VWPassat\"}, {\"speed\": 65.0, \"time\": 5.82, \"image\": \"VWPassat_65.MP4\", \"vehicle\": \"VWPassat\"}, {\"speed\": 67.0, \"time\": 5.08, \"image\": \"VWPassat_67.MP4\", \"vehicle\": \"VWPassat\"}, {\"speed\": 70.0, \"time\": 6.0, \"image\": \"VWPassat_70.MP4\", \"vehicle\": \"VWPassat\"}, {\"speed\": 71.0, \"time\": 5.51, \"image\": \"VWPassat_71.MP4\", \"vehicle\": \"VWPassat\"}, {\"speed\": 72.0, \"time\": 5.42, \"image\": \"VWPassat_72.MP4\", \"vehicle\": \"VWPassat\"}, {\"speed\": 73.0, \"time\": 5.32, \"image\": \"VWPassat_73.MP4\", \"vehicle\": \"VWPassat\"}, {\"speed\": 75.0, \"time\": 6.02, \"image\": \"VWPassat_75.MP4\", \"vehicle\": \"VWPassat\"}, {\"speed\": 78.0, \"time\": 5.85, \"image\": \"VWPassat_78.MP4\", \"vehicle\": \"VWPassat\"}, {\"speed\": 80.0, \"time\": 5.99, \"image\": \"VWPassat_80.MP4\", \"vehicle\": \"VWPassat\"}, {\"speed\": 81.0, \"time\": 5.58, \"image\": \"VWPassat_81.MP4\", \"vehicle\": \"VWPassat\"}, {\"speed\": 82.0, \"time\": 5.62, \"image\": \"VWPassat_82.MP4\", \"vehicle\": \"VWPassat\"}, {\"speed\": 85.0, \"time\": 6.23, \"image\": \"VWPassat_85.MP4\", \"vehicle\": \"VWPassat\"}, {\"speed\": 88.0, \"time\": 7.31, \"image\": \"VWPassat_88.MP4\", \"vehicle\": \"VWPassat\"}, {\"speed\": 90.0, \"time\": 5.2, \"image\": \"VWPassat_90.MP4\", \"vehicle\": \"VWPassat\"}, {\"speed\": 91.0, \"time\": 5.45, \"image\": \"VWPassat_91.MP4\", \"vehicle\": \"VWPassat\"}, {\"speed\": 94.0, \"time\": 6.0, \"image\": \"VWPassat_94.MP4\", \"vehicle\": \"VWPassat\"}, {\"speed\": 96.0, \"time\": 5.72, \"image\": \"VWPassat_96.MP4\", \"vehicle\": \"VWPassat\"}, {\"speed\": 98.0, \"time\": 5.99, \"image\": \"VWPassat_98.MP4\", \"vehicle\": \"VWPassat\"}]}}, {\"mode\": \"vega-lite\"});\n",
       "</script>"
      ],
      "text/plain": [
       "alt.Chart(...)"
      ]
     },
     "execution_count": 7,
     "metadata": {},
     "output_type": "execute_result"
    }
   ],
   "source": [
    "alt.Chart(df_combined).mark_bar().encode(\n",
    "    x=alt.X('speed', bin=alt.Bin(maxbins=30), title='Velocidad (km/h)'),\n",
    "    y=alt.Y('count()', title='Contador'),\n",
    "    column=alt.Column('vehicle', title='vehicle')\n",
    ").properties(\n",
    "    width=150,\n",
    "    height=100,\n",
    "    title='Distribucion de velocidad por vehicle'\n",
    ")"
   ]
  },
  {
   "cell_type": "code",
   "execution_count": 8,
   "metadata": {
    "collapsed": false,
    "jupyter": {
     "outputs_hidden": false
    },
    "pycharm": {
     "name": "#%%\n"
    }
   },
   "outputs": [
    {
     "data": {
      "text/html": [
       "\n",
       "<style>\n",
       "  #altair-viz-6fc155db495c40cab64985bcdbe32724.vega-embed {\n",
       "    width: 100%;\n",
       "    display: flex;\n",
       "  }\n",
       "\n",
       "  #altair-viz-6fc155db495c40cab64985bcdbe32724.vega-embed details,\n",
       "  #altair-viz-6fc155db495c40cab64985bcdbe32724.vega-embed details summary {\n",
       "    position: relative;\n",
       "  }\n",
       "</style>\n",
       "<div id=\"altair-viz-6fc155db495c40cab64985bcdbe32724\"></div>\n",
       "<script type=\"text/javascript\">\n",
       "  var VEGA_DEBUG = (typeof VEGA_DEBUG == \"undefined\") ? {} : VEGA_DEBUG;\n",
       "  (function(spec, embedOpt){\n",
       "    let outputDiv = document.currentScript.previousElementSibling;\n",
       "    if (outputDiv.id !== \"altair-viz-6fc155db495c40cab64985bcdbe32724\") {\n",
       "      outputDiv = document.getElementById(\"altair-viz-6fc155db495c40cab64985bcdbe32724\");\n",
       "    }\n",
       "    const paths = {\n",
       "      \"vega\": \"https://cdn.jsdelivr.net/npm/vega@5?noext\",\n",
       "      \"vega-lib\": \"https://cdn.jsdelivr.net/npm/vega-lib?noext\",\n",
       "      \"vega-lite\": \"https://cdn.jsdelivr.net/npm/vega-lite@5.8.0?noext\",\n",
       "      \"vega-embed\": \"https://cdn.jsdelivr.net/npm/vega-embed@6?noext\",\n",
       "    };\n",
       "\n",
       "    function maybeLoadScript(lib, version) {\n",
       "      var key = `${lib.replace(\"-\", \"\")}_version`;\n",
       "      return (VEGA_DEBUG[key] == version) ?\n",
       "        Promise.resolve(paths[lib]) :\n",
       "        new Promise(function(resolve, reject) {\n",
       "          var s = document.createElement('script');\n",
       "          document.getElementsByTagName(\"head\")[0].appendChild(s);\n",
       "          s.async = true;\n",
       "          s.onload = () => {\n",
       "            VEGA_DEBUG[key] = version;\n",
       "            return resolve(paths[lib]);\n",
       "          };\n",
       "          s.onerror = () => reject(`Error loading script: ${paths[lib]}`);\n",
       "          s.src = paths[lib];\n",
       "        });\n",
       "    }\n",
       "\n",
       "    function showError(err) {\n",
       "      outputDiv.innerHTML = `<div class=\"error\" style=\"color:red;\">${err}</div>`;\n",
       "      throw err;\n",
       "    }\n",
       "\n",
       "    function displayChart(vegaEmbed) {\n",
       "      vegaEmbed(outputDiv, spec, embedOpt)\n",
       "        .catch(err => showError(`Javascript Error: ${err.message}<br>This usually means there's a typo in your chart specification. See the javascript console for the full traceback.`));\n",
       "    }\n",
       "\n",
       "    if(typeof define === \"function\" && define.amd) {\n",
       "      requirejs.config({paths});\n",
       "      require([\"vega-embed\"], displayChart, err => showError(`Error loading script: ${err.message}`));\n",
       "    } else {\n",
       "      maybeLoadScript(\"vega\", \"5\")\n",
       "        .then(() => maybeLoadScript(\"vega-lite\", \"5.8.0\"))\n",
       "        .then(() => maybeLoadScript(\"vega-embed\", \"6\"))\n",
       "        .catch(showError)\n",
       "        .then(() => displayChart(vegaEmbed));\n",
       "    }\n",
       "  })({\"config\": {\"view\": {\"continuousWidth\": 300, \"continuousHeight\": 300}}, \"data\": {\"name\": \"data-5d3be3fd43ab46cca79cf2374d1a4771\"}, \"mark\": {\"type\": \"bar\"}, \"encoding\": {\"x\": {\"bin\": {\"maxbins\": 5}, \"field\": \"speed\", \"title\": \"Velocidad (km/h)\", \"type\": \"quantitative\"}, \"y\": {\"aggregate\": \"count\", \"title\": \"Contador\", \"type\": \"quantitative\"}}, \"height\": 100, \"title\": \"Distribucion de velocidad\", \"width\": 150, \"$schema\": \"https://vega.github.io/schema/vega-lite/v5.8.0.json\", \"datasets\": {\"data-5d3be3fd43ab46cca79cf2374d1a4771\": [{\"speed\": 101.0, \"time\": 7.49, \"image\": \"CitroenC4Picasso_101.MP4\", \"vehicle\": \"CitroenC4Picasso\"}, {\"speed\": 35.0, \"time\": 6.25, \"image\": \"CitroenC4Picasso_35.MP4\", \"vehicle\": \"CitroenC4Picasso\"}, {\"speed\": 38.0, \"time\": 5.82, \"image\": \"CitroenC4Picasso_38.MP4\", \"vehicle\": \"CitroenC4Picasso\"}, {\"speed\": 41.0, \"time\": 6.16, \"image\": \"CitroenC4Picasso_41.MP4\", \"vehicle\": \"CitroenC4Picasso\"}, {\"speed\": 44.0, \"time\": 5.44, \"image\": \"CitroenC4Picasso_44.MP4\", \"vehicle\": \"CitroenC4Picasso\"}, {\"speed\": 48.0, \"time\": 6.03, \"image\": \"CitroenC4Picasso_48.MP4\", \"vehicle\": \"CitroenC4Picasso\"}, {\"speed\": 51.0, \"time\": 5.85, \"image\": \"CitroenC4Picasso_51.MP4\", \"vehicle\": \"CitroenC4Picasso\"}, {\"speed\": 54.0, \"time\": 5.65, \"image\": \"CitroenC4Picasso_54.MP4\", \"vehicle\": \"CitroenC4Picasso\"}, {\"speed\": 57.0, \"time\": 5.95, \"image\": \"CitroenC4Picasso_57.MP4\", \"vehicle\": \"CitroenC4Picasso\"}, {\"speed\": 59.0, \"time\": 5.85, \"image\": \"CitroenC4Picasso_59.MP4\", \"vehicle\": \"CitroenC4Picasso\"}, {\"speed\": 63.0, \"time\": 6.06, \"image\": \"CitroenC4Picasso_63.MP4\", \"vehicle\": \"CitroenC4Picasso\"}, {\"speed\": 65.0, \"time\": 5.66, \"image\": \"CitroenC4Picasso_65.MP4\", \"vehicle\": \"CitroenC4Picasso\"}, {\"speed\": 68.0, \"time\": 6.16, \"image\": \"CitroenC4Picasso_68.MP4\", \"vehicle\": \"CitroenC4Picasso\"}, {\"speed\": 72.0, \"time\": 5.75, \"image\": \"CitroenC4Picasso_72.MP4\", \"vehicle\": \"CitroenC4Picasso\"}, {\"speed\": 74.0, \"time\": 6.26, \"image\": \"CitroenC4Picasso_74.MP4\", \"vehicle\": \"CitroenC4Picasso\"}, {\"speed\": 78.0, \"time\": 6.14, \"image\": \"CitroenC4Picasso_78.MP4\", \"vehicle\": \"CitroenC4Picasso\"}, {\"speed\": 80.0, \"time\": 5.41, \"image\": \"CitroenC4Picasso_80.MP4\", \"vehicle\": \"CitroenC4Picasso\"}, {\"speed\": 83.0, \"time\": 6.63, \"image\": \"CitroenC4Picasso_83.MP4\", \"vehicle\": \"CitroenC4Picasso\"}, {\"speed\": 85.0, \"time\": 5.67, \"image\": \"CitroenC4Picasso_85.MP4\", \"vehicle\": \"CitroenC4Picasso\"}, {\"speed\": 87.0, \"time\": 6.19, \"image\": \"CitroenC4Picasso_87.MP4\", \"vehicle\": \"CitroenC4Picasso\"}, {\"speed\": 92.0, \"time\": 7.62, \"image\": \"CitroenC4Picasso_92.MP4\", \"vehicle\": \"CitroenC4Picasso\"}, {\"speed\": 94.0, \"time\": 6.79, \"image\": \"CitroenC4Picasso_94.MP4\", \"vehicle\": \"CitroenC4Picasso\"}, {\"speed\": 96.0, \"time\": 5.79, \"image\": \"CitroenC4Picasso_96.MP4\", \"vehicle\": \"CitroenC4Picasso\"}, {\"speed\": 100.0, \"time\": 4.98, \"image\": \"KiaSportage_100.MP4\", \"vehicle\": \"KiaSportage\"}, {\"speed\": 103.0, \"time\": 4.91, \"image\": \"KiaSportage_103.MP4\", \"vehicle\": \"KiaSportage\"}, {\"speed\": 105.0, \"time\": 4.98, \"image\": \"KiaSportage_105.MP4\", \"vehicle\": \"KiaSportage\"}, {\"speed\": 31.0, \"time\": 4.94, \"image\": \"KiaSportage_31.MP4\", \"vehicle\": \"KiaSportage\"}, {\"speed\": 33.0, \"time\": 4.91, \"image\": \"KiaSportage_33.MP4\", \"vehicle\": \"KiaSportage\"}, {\"speed\": 35.0, \"time\": 4.93, \"image\": \"KiaSportage_35.MP4\", \"vehicle\": \"KiaSportage\"}, {\"speed\": 38.0, \"time\": 5.05, \"image\": \"KiaSportage_38.MP4\", \"vehicle\": \"KiaSportage\"}, {\"speed\": 41.0, \"time\": 4.93, \"image\": \"KiaSportage_41.MP4\", \"vehicle\": \"KiaSportage\"}, {\"speed\": 44.0, \"time\": 5.02, \"image\": \"KiaSportage_44.MP4\", \"vehicle\": \"KiaSportage\"}, {\"speed\": 46.0, \"time\": 4.94, \"image\": \"KiaSportage_46.MP4\", \"vehicle\": \"KiaSportage\"}, {\"speed\": 48.0, \"time\": 4.96, \"image\": \"KiaSportage_48.MP4\", \"vehicle\": \"KiaSportage\"}, {\"speed\": 51.0, \"time\": 4.92, \"image\": \"KiaSportage_51.MP4\", \"vehicle\": \"KiaSportage\"}, {\"speed\": 53.0, \"time\": 4.97, \"image\": \"KiaSportage_53.MP4\", \"vehicle\": \"KiaSportage\"}, {\"speed\": 55.0, \"time\": 4.95, \"image\": \"KiaSportage_55.MP4\", \"vehicle\": \"KiaSportage\"}, {\"speed\": 58.0, \"time\": 4.92, \"image\": \"KiaSportage_58.MP4\", \"vehicle\": \"KiaSportage\"}, {\"speed\": 61.0, \"time\": 4.96, \"image\": \"KiaSportage_61.MP4\", \"vehicle\": \"KiaSportage\"}, {\"speed\": 63.0, \"time\": 5.0, \"image\": \"KiaSportage_63.MP4\", \"vehicle\": \"KiaSportage\"}, {\"speed\": 65.0, \"time\": 4.93, \"image\": \"KiaSportage_65.MP4\", \"vehicle\": \"KiaSportage\"}, {\"speed\": 68.0, \"time\": 4.96, \"image\": \"KiaSportage_68.MP4\", \"vehicle\": \"KiaSportage\"}, {\"speed\": 69.0, \"time\": 4.94, \"image\": \"KiaSportage_69.MP4\", \"vehicle\": \"KiaSportage\"}, {\"speed\": 72.0, \"time\": 4.95, \"image\": \"KiaSportage_72.MP4\", \"vehicle\": \"KiaSportage\"}, {\"speed\": 74.0, \"time\": 4.94, \"image\": \"KiaSportage_74.MP4\", \"vehicle\": \"KiaSportage\"}, {\"speed\": 77.0, \"time\": 5.02, \"image\": \"KiaSportage_77.MP4\", \"vehicle\": \"KiaSportage\"}, {\"speed\": 78.0, \"time\": 4.95, \"image\": \"KiaSportage_78.MP4\", \"vehicle\": \"KiaSportage\"}, {\"speed\": 80.0, \"time\": 4.94, \"image\": \"KiaSportage_80.MP4\", \"vehicle\": \"KiaSportage\"}, {\"speed\": 83.0, \"time\": 4.95, \"image\": \"KiaSportage_83.MP4\", \"vehicle\": \"KiaSportage\"}, {\"speed\": 85.0, \"time\": 4.95, \"image\": \"KiaSportage_85.MP4\", \"vehicle\": \"KiaSportage\"}, {\"speed\": 86.0, \"time\": 4.92, \"image\": \"KiaSportage_86.MP4\", \"vehicle\": \"KiaSportage\"}, {\"speed\": 89.0, \"time\": 4.98, \"image\": \"KiaSportage_89.MP4\", \"vehicle\": \"KiaSportage\"}, {\"speed\": 91.0, \"time\": 4.95, \"image\": \"KiaSportage_91.MP4\", \"vehicle\": \"KiaSportage\"}, {\"speed\": 93.0, \"time\": 4.98, \"image\": \"KiaSportage_93.MP4\", \"vehicle\": \"KiaSportage\"}, {\"speed\": 96.0, \"time\": 4.91, \"image\": \"KiaSportage_96.MP4\", \"vehicle\": \"KiaSportage\"}, {\"speed\": 98.0, \"time\": 4.92, \"image\": \"KiaSportage_98.MP4\", \"vehicle\": \"KiaSportage\"}, {\"speed\": 101.0, \"time\": 5.04, \"image\": \"Mazda3_101.MP4\", \"vehicle\": \"Mazda3\"}, {\"speed\": 103.0, \"time\": 5.07, \"image\": \"Mazda3_103.MP4\", \"vehicle\": \"Mazda3\"}, {\"speed\": 105.0, \"time\": 4.99, \"image\": \"Mazda3_105.MP4\", \"vehicle\": \"Mazda3\"}, {\"speed\": 30.0, \"time\": 5.23, \"image\": \"Mazda3_30.MP4\", \"vehicle\": \"Mazda3\"}, {\"speed\": 33.0, \"time\": 5.08, \"image\": \"Mazda3_33.MP4\", \"vehicle\": \"Mazda3\"}, {\"speed\": 35.0, \"time\": 5.12, \"image\": \"Mazda3_35.MP4\", \"vehicle\": \"Mazda3\"}, {\"speed\": 38.0, \"time\": 5.15, \"image\": \"Mazda3_38.MP4\", \"vehicle\": \"Mazda3\"}, {\"speed\": 40.0, \"time\": 5.02, \"image\": \"Mazda3_40.MP4\", \"vehicle\": \"Mazda3\"}, {\"speed\": 43.0, \"time\": 5.02, \"image\": \"Mazda3_43.MP4\", \"vehicle\": \"Mazda3\"}, {\"speed\": 45.0, \"time\": 5.31, \"image\": \"Mazda3_45.MP4\", \"vehicle\": \"Mazda3\"}, {\"speed\": 47.0, \"time\": 5.42, \"image\": \"Mazda3_47.MP4\", \"vehicle\": \"Mazda3\"}, {\"speed\": 50.0, \"time\": 5.62, \"image\": \"Mazda3_50.MP4\", \"vehicle\": \"Mazda3\"}, {\"speed\": 52.0, \"time\": 5.15, \"image\": \"Mazda3_52.MP4\", \"vehicle\": \"Mazda3\"}, {\"speed\": 55.0, \"time\": 5.68, \"image\": \"Mazda3_55.MP4\", \"vehicle\": \"Mazda3\"}, {\"speed\": 57.0, \"time\": 5.08, \"image\": \"Mazda3_57.MP4\", \"vehicle\": \"Mazda3\"}, {\"speed\": 60.0, \"time\": 5.09, \"image\": \"Mazda3_60.MP4\", \"vehicle\": \"Mazda3\"}, {\"speed\": 62.0, \"time\": 5.25, \"image\": \"Mazda3_62.MP4\", \"vehicle\": \"Mazda3\"}, {\"speed\": 64.0, \"time\": 5.02, \"image\": \"Mazda3_64.MP4\", \"vehicle\": \"Mazda3\"}, {\"speed\": 67.0, \"time\": 5.65, \"image\": \"Mazda3_67.MP4\", \"vehicle\": \"Mazda3\"}, {\"speed\": 70.0, \"time\": 5.05, \"image\": \"Mazda3_70.MP4\", \"vehicle\": \"Mazda3\"}, {\"speed\": 72.0, \"time\": 5.16, \"image\": \"Mazda3_72.MP4\", \"vehicle\": \"Mazda3\"}, {\"speed\": 75.0, \"time\": 5.02, \"image\": \"Mazda3_75.MP4\", \"vehicle\": \"Mazda3\"}, {\"speed\": 79.0, \"time\": 5.05, \"image\": \"Mazda3_79.MP4\", \"vehicle\": \"Mazda3\"}, {\"speed\": 81.0, \"time\": 5.22, \"image\": \"Mazda3_81.MP4\", \"vehicle\": \"Mazda3\"}, {\"speed\": 84.0, \"time\": 5.08, \"image\": \"Mazda3_84.MP4\", \"vehicle\": \"Mazda3\"}, {\"speed\": 86.0, \"time\": 5.19, \"image\": \"Mazda3_86.MP4\", \"vehicle\": \"Mazda3\"}, {\"speed\": 88.0, \"time\": 5.09, \"image\": \"Mazda3_88.MP4\", \"vehicle\": \"Mazda3\"}, {\"speed\": 90.0, \"time\": 5.11, \"image\": \"Mazda3_90.MP4\", \"vehicle\": \"Mazda3\"}, {\"speed\": 92.0, \"time\": 5.22, \"image\": \"Mazda3_92.MP4\", \"vehicle\": \"Mazda3\"}, {\"speed\": 94.0, \"time\": 5.04, \"image\": \"Mazda3_94.MP4\", \"vehicle\": \"Mazda3\"}, {\"speed\": 96.0, \"time\": 5.02, \"image\": \"Mazda3_96.MP4\", \"vehicle\": \"Mazda3\"}, {\"speed\": 99.0, \"time\": 4.98, \"image\": \"Mazda3_99.MP4\", \"vehicle\": \"Mazda3\"}, {\"speed\": 100.0, \"time\": 4.94, \"image\": \"MercedesAMG550_100.MP4\", \"vehicle\": \"MercedesAMG550\"}, {\"speed\": 105.0, \"time\": 4.45, \"image\": \"MercedesAMG550_105.MP4\", \"vehicle\": \"MercedesAMG550\"}, {\"speed\": 30.0, \"time\": 5.07, \"image\": \"MercedesAMG550_30.MP4\", \"vehicle\": \"MercedesAMG550\"}, {\"speed\": 33.0, \"time\": 5.68, \"image\": \"MercedesAMG550_33.MP4\", \"vehicle\": \"MercedesAMG550\"}, {\"speed\": 35.0, \"time\": 5.99, \"image\": \"MercedesAMG550_35.MP4\", \"vehicle\": \"MercedesAMG550\"}, {\"speed\": 38.0, \"time\": 5.88, \"image\": \"MercedesAMG550_38.MP4\", \"vehicle\": \"MercedesAMG550\"}, {\"speed\": 40.0, \"time\": 5.13, \"image\": \"MercedesAMG550_40.MP4\", \"vehicle\": \"MercedesAMG550\"}, {\"speed\": 42.0, \"time\": 6.28, \"image\": \"MercedesAMG550_42.MP4\", \"vehicle\": \"MercedesAMG550\"}, {\"speed\": 45.0, \"time\": 5.06, \"image\": \"MercedesAMG550_45.MP4\", \"vehicle\": \"MercedesAMG550\"}, {\"speed\": 47.0, \"time\": 5.67, \"image\": \"MercedesAMG550_47.MP4\", \"vehicle\": \"MercedesAMG550\"}, {\"speed\": 50.0, \"time\": 5.19, \"image\": \"MercedesAMG550_50.MP4\", \"vehicle\": \"MercedesAMG550\"}, {\"speed\": 52.0, \"time\": 5.89, \"image\": \"MercedesAMG550_52.MP4\", \"vehicle\": \"MercedesAMG550\"}, {\"speed\": 55.0, \"time\": 5.07, \"image\": \"MercedesAMG550_55.MP4\", \"vehicle\": \"MercedesAMG550\"}, {\"speed\": 58.0, \"time\": 5.65, \"image\": \"MercedesAMG550_58.MP4\", \"vehicle\": \"MercedesAMG550\"}, {\"speed\": 60.0, \"time\": 5.25, \"image\": \"MercedesAMG550_60.MP4\", \"vehicle\": \"MercedesAMG550\"}, {\"speed\": 62.0, \"time\": 5.38, \"image\": \"MercedesAMG550_62.MP4\", \"vehicle\": \"MercedesAMG550\"}, {\"speed\": 65.0, \"time\": 7.04, \"image\": \"MercedesAMG550_65.MP4\", \"vehicle\": \"MercedesAMG550\"}, {\"speed\": 67.0, \"time\": 5.76, \"image\": \"MercedesAMG550_67.MP4\", \"vehicle\": \"MercedesAMG550\"}, {\"speed\": 70.0, \"time\": 4.83, \"image\": \"MercedesAMG550_70.MP4\", \"vehicle\": \"MercedesAMG550\"}, {\"speed\": 73.0, \"time\": 5.63, \"image\": \"MercedesAMG550_73.MP4\", \"vehicle\": \"MercedesAMG550\"}, {\"speed\": 75.0, \"time\": 5.11, \"image\": \"MercedesAMG550_75.MP4\", \"vehicle\": \"MercedesAMG550\"}, {\"speed\": 78.0, \"time\": 6.11, \"image\": \"MercedesAMG550_78.MP4\", \"vehicle\": \"MercedesAMG550\"}, {\"speed\": 80.0, \"time\": 4.9, \"image\": \"MercedesAMG550_80.MP4\", \"vehicle\": \"MercedesAMG550\"}, {\"speed\": 82.0, \"time\": 5.82, \"image\": \"MercedesAMG550_82.MP4\", \"vehicle\": \"MercedesAMG550\"}, {\"speed\": 85.0, \"time\": 4.84, \"image\": \"MercedesAMG550_85.MP4\", \"vehicle\": \"MercedesAMG550\"}, {\"speed\": 87.0, \"time\": 5.41, \"image\": \"MercedesAMG550_87.MP4\", \"vehicle\": \"MercedesAMG550\"}, {\"speed\": 90.0, \"time\": 6.0, \"image\": \"MercedesAMG550_90.MP4\", \"vehicle\": \"MercedesAMG550\"}, {\"speed\": 93.0, \"time\": 5.68, \"image\": \"MercedesAMG550_93.MP4\", \"vehicle\": \"MercedesAMG550\"}, {\"speed\": 95.0, \"time\": 5.0, \"image\": \"MercedesAMG550_95.MP4\", \"vehicle\": \"MercedesAMG550\"}, {\"speed\": 98.0, \"time\": 5.44, \"image\": \"MercedesAMG550_98.MP4\", \"vehicle\": \"MercedesAMG550\"}, {\"speed\": 100.0, \"time\": 5.0, \"image\": \"MercedesGLA_100.MP4\", \"vehicle\": \"MercedesGLA\"}, {\"speed\": 101.0, \"time\": 5.01, \"image\": \"MercedesGLA_101.MP4\", \"vehicle\": \"MercedesGLA\"}, {\"speed\": 103.0, \"time\": 5.01, \"image\": \"MercedesGLA_103.MP4\", \"vehicle\": \"MercedesGLA\"}, {\"speed\": 104.0, \"time\": 5.01, \"image\": \"MercedesGLA_104.MP4\", \"vehicle\": \"MercedesGLA\"}, {\"speed\": 30.0, \"time\": 4.99, \"image\": \"MercedesGLA_30.MP4\", \"vehicle\": \"MercedesGLA\"}, {\"speed\": 33.0, \"time\": 4.98, \"image\": \"MercedesGLA_33.MP4\", \"vehicle\": \"MercedesGLA\"}, {\"speed\": 36.0, \"time\": 4.99, \"image\": \"MercedesGLA_36.MP4\", \"vehicle\": \"MercedesGLA\"}, {\"speed\": 39.0, \"time\": 5.0, \"image\": \"MercedesGLA_39.MP4\", \"vehicle\": \"MercedesGLA\"}, {\"speed\": 41.0, \"time\": 4.99, \"image\": \"MercedesGLA_41.MP4\", \"vehicle\": \"MercedesGLA\"}, {\"speed\": 42.0, \"time\": 5.0, \"image\": \"MercedesGLA_42.MP4\", \"vehicle\": \"MercedesGLA\"}, {\"speed\": 45.0, \"time\": 5.02, \"image\": \"MercedesGLA_45.MP4\", \"vehicle\": \"MercedesGLA\"}, {\"speed\": 47.0, \"time\": 5.0, \"image\": \"MercedesGLA_47.MP4\", \"vehicle\": \"MercedesGLA\"}, {\"speed\": 48.0, \"time\": 5.0, \"image\": \"MercedesGLA_48.MP4\", \"vehicle\": \"MercedesGLA\"}, {\"speed\": 49.0, \"time\": 5.01, \"image\": \"MercedesGLA_49.MP4\", \"vehicle\": \"MercedesGLA\"}, {\"speed\": 52.0, \"time\": 5.0, \"image\": \"MercedesGLA_52.MP4\", \"vehicle\": \"MercedesGLA\"}, {\"speed\": 54.0, \"time\": 5.0, \"image\": \"MercedesGLA_54.MP4\", \"vehicle\": \"MercedesGLA\"}, {\"speed\": 55.0, \"time\": 4.99, \"image\": \"MercedesGLA_55.MP4\", \"vehicle\": \"MercedesGLA\"}, {\"speed\": 59.0, \"time\": 5.01, \"image\": \"MercedesGLA_59.MP4\", \"vehicle\": \"MercedesGLA\"}, {\"speed\": 61.0, \"time\": 5.08, \"image\": \"MercedesGLA_61.MP4\", \"vehicle\": \"MercedesGLA\"}, {\"speed\": 63.0, \"time\": 4.99, \"image\": \"MercedesGLA_63.MP4\", \"vehicle\": \"MercedesGLA\"}, {\"speed\": 65.0, \"time\": 4.99, \"image\": \"MercedesGLA_65.MP4\", \"vehicle\": \"MercedesGLA\"}, {\"speed\": 68.0, \"time\": 4.99, \"image\": \"MercedesGLA_68.MP4\", \"vehicle\": \"MercedesGLA\"}, {\"speed\": 70.0, \"time\": 5.01, \"image\": \"MercedesGLA_70.MP4\", \"vehicle\": \"MercedesGLA\"}, {\"speed\": 72.0, \"time\": 5.0, \"image\": \"MercedesGLA_72.MP4\", \"vehicle\": \"MercedesGLA\"}, {\"speed\": 75.0, \"time\": 5.0, \"image\": \"MercedesGLA_75.MP4\", \"vehicle\": \"MercedesGLA\"}, {\"speed\": 78.0, \"time\": 5.0, \"image\": \"MercedesGLA_78.MP4\", \"vehicle\": \"MercedesGLA\"}, {\"speed\": 81.0, \"time\": 5.01, \"image\": \"MercedesGLA_81.MP4\", \"vehicle\": \"MercedesGLA\"}, {\"speed\": 83.0, \"time\": 5.01, \"image\": \"MercedesGLA_83.MP4\", \"vehicle\": \"MercedesGLA\"}, {\"speed\": 85.0, \"time\": 5.01, \"image\": \"MercedesGLA_85.MP4\", \"vehicle\": \"MercedesGLA\"}, {\"speed\": 88.0, \"time\": 4.99, \"image\": \"MercedesGLA_88.MP4\", \"vehicle\": \"MercedesGLA\"}, {\"speed\": 90.0, \"time\": 5.1, \"image\": \"MercedesGLA_90.MP4\", \"vehicle\": \"MercedesGLA\"}, {\"speed\": 92.0, \"time\": 5.01, \"image\": \"MercedesGLA_92.MP4\", \"vehicle\": \"MercedesGLA\"}, {\"speed\": 93.0, \"time\": 4.99, \"image\": \"MercedesGLA_93.MP4\", \"vehicle\": \"MercedesGLA\"}, {\"speed\": 96.0, \"time\": 5.0, \"image\": \"MercedesGLA_96.MP4\", \"vehicle\": \"MercedesGLA\"}, {\"speed\": 102.0, \"time\": 5.62, \"image\": \"NissanQashqai_102.MP4\", \"vehicle\": \"NissanQashqai\"}, {\"speed\": 35.0, \"time\": 6.1, \"image\": \"NissanQashqai_35.MP4\", \"vehicle\": \"NissanQashqai\"}, {\"speed\": 38.0, \"time\": 6.19, \"image\": \"NissanQashqai_38.MP4\", \"vehicle\": \"NissanQashqai\"}, {\"speed\": 40.0, \"time\": 5.21, \"image\": \"NissanQashqai_40.MP4\", \"vehicle\": \"NissanQashqai\"}, {\"speed\": 42.0, \"time\": 5.14, \"image\": \"NissanQashqai_42.MP4\", \"vehicle\": \"NissanQashqai\"}, {\"speed\": 45.0, \"time\": 6.01, \"image\": \"NissanQashqai_45.MP4\", \"vehicle\": \"NissanQashqai\"}, {\"speed\": 48.0, \"time\": 5.21, \"image\": \"NissanQashqai_48.MP4\", \"vehicle\": \"NissanQashqai\"}, {\"speed\": 50.0, \"time\": 5.85, \"image\": \"NissanQashqai_50.MP4\", \"vehicle\": \"NissanQashqai\"}, {\"speed\": 53.0, \"time\": 5.99, \"image\": \"NissanQashqai_53.MP4\", \"vehicle\": \"NissanQashqai\"}, {\"speed\": 55.0, \"time\": 5.9, \"image\": \"NissanQashqai_55.MP4\", \"vehicle\": \"NissanQashqai\"}, {\"speed\": 58.0, \"time\": 5.61, \"image\": \"NissanQashqai_58.MP4\", \"vehicle\": \"NissanQashqai\"}, {\"speed\": 60.0, \"time\": 5.58, \"image\": \"NissanQashqai_60.MP4\", \"vehicle\": \"NissanQashqai\"}, {\"speed\": 61.0, \"time\": 6.08, \"image\": \"NissanQashqai_61.MP4\", \"vehicle\": \"NissanQashqai\"}, {\"speed\": 64.0, \"time\": 5.92, \"image\": \"NissanQashqai_64.MP4\", \"vehicle\": \"NissanQashqai\"}, {\"speed\": 65.0, \"time\": 5.58, \"image\": \"NissanQashqai_65.MP4\", \"vehicle\": \"NissanQashqai\"}, {\"speed\": 68.0, \"time\": 5.98, \"image\": \"NissanQashqai_68.MP4\", \"vehicle\": \"NissanQashqai\"}, {\"speed\": 70.0, \"time\": 6.04, \"image\": \"NissanQashqai_70.MP4\", \"vehicle\": \"NissanQashqai\"}, {\"speed\": 73.0, \"time\": 6.14, \"image\": \"NissanQashqai_73.MP4\", \"vehicle\": \"NissanQashqai\"}, {\"speed\": 75.0, \"time\": 6.01, \"image\": \"NissanQashqai_75.MP4\", \"vehicle\": \"NissanQashqai\"}, {\"speed\": 78.0, \"time\": 5.9, \"image\": \"NissanQashqai_78.MP4\", \"vehicle\": \"NissanQashqai\"}, {\"speed\": 80.0, \"time\": 5.79, \"image\": \"NissanQashqai_80.MP4\", \"vehicle\": \"NissanQashqai\"}, {\"speed\": 82.0, \"time\": 5.72, \"image\": \"NissanQashqai_82.MP4\", \"vehicle\": \"NissanQashqai\"}, {\"speed\": 85.0, \"time\": 5.91, \"image\": \"NissanQashqai_85.MP4\", \"vehicle\": \"NissanQashqai\"}, {\"speed\": 88.0, \"time\": 6.13, \"image\": \"NissanQashqai_88.MP4\", \"vehicle\": \"NissanQashqai\"}, {\"speed\": 90.0, \"time\": 5.52, \"image\": \"NissanQashqai_90.MP4\", \"vehicle\": \"NissanQashqai\"}, {\"speed\": 93.0, \"time\": 5.79, \"image\": \"NissanQashqai_93.MP4\", \"vehicle\": \"NissanQashqai\"}, {\"speed\": 94.0, \"time\": 5.28, \"image\": \"NissanQashqai_94.MP4\", \"vehicle\": \"NissanQashqai\"}, {\"speed\": 96.0, \"time\": 5.58, \"image\": \"NissanQashqai_96.MP4\", \"vehicle\": \"NissanQashqai\"}, {\"speed\": 98.0, \"time\": 5.38, \"image\": \"NissanQashqai_98.MP4\", \"vehicle\": \"NissanQashqai\"}, {\"speed\": 100.0, \"time\": 5.02, \"image\": \"OpelInsignia_100.MP4\", \"vehicle\": \"OpelInsignia\"}, {\"speed\": 31.0, \"time\": 6.05, \"image\": \"OpelInsignia_31.MP4\", \"vehicle\": \"OpelInsignia\"}, {\"speed\": 35.0, \"time\": 5.92, \"image\": \"OpelInsignia_35.MP4\", \"vehicle\": \"OpelInsignia\"}, {\"speed\": 38.0, \"time\": 6.68, \"image\": \"OpelInsignia_38.MP4\", \"vehicle\": \"OpelInsignia\"}, {\"speed\": 41.0, \"time\": 6.51, \"image\": \"OpelInsignia_41.MP4\", \"vehicle\": \"OpelInsignia\"}, {\"speed\": 44.0, \"time\": 5.92, \"image\": \"OpelInsignia_44.MP4\", \"vehicle\": \"OpelInsignia\"}, {\"speed\": 47.0, \"time\": 5.91, \"image\": \"OpelInsignia_47.MP4\", \"vehicle\": \"OpelInsignia\"}, {\"speed\": 50.0, \"time\": 6.42, \"image\": \"OpelInsignia_50.MP4\", \"vehicle\": \"OpelInsignia\"}, {\"speed\": 53.0, \"time\": 5.71, \"image\": \"OpelInsignia_53.MP4\", \"vehicle\": \"OpelInsignia\"}, {\"speed\": 55.0, \"time\": 5.51, \"image\": \"OpelInsignia_55.MP4\", \"vehicle\": \"OpelInsignia\"}, {\"speed\": 58.0, \"time\": 5.48, \"image\": \"OpelInsignia_58.MP4\", \"vehicle\": \"OpelInsignia\"}, {\"speed\": 61.0, \"time\": 5.54, \"image\": \"OpelInsignia_61.MP4\", \"vehicle\": \"OpelInsignia\"}, {\"speed\": 64.0, \"time\": 5.74, \"image\": \"OpelInsignia_64.MP4\", \"vehicle\": \"OpelInsignia\"}, {\"speed\": 66.0, \"time\": 5.35, \"image\": \"OpelInsignia_66.MP4\", \"vehicle\": \"OpelInsignia\"}, {\"speed\": 68.0, \"time\": 5.25, \"image\": \"OpelInsignia_68.MP4\", \"vehicle\": \"OpelInsignia\"}, {\"speed\": 70.0, \"time\": 5.91, \"image\": \"OpelInsignia_70.MP4\", \"vehicle\": \"OpelInsignia\"}, {\"speed\": 72.0, \"time\": 6.09, \"image\": \"OpelInsignia_72.MP4\", \"vehicle\": \"OpelInsignia\"}, {\"speed\": 73.0, \"time\": 5.39, \"image\": \"OpelInsignia_73.MP4\", \"vehicle\": \"OpelInsignia\"}, {\"speed\": 76.0, \"time\": 6.22, \"image\": \"OpelInsignia_76.MP4\", \"vehicle\": \"OpelInsignia\"}, {\"speed\": 78.0, \"time\": 5.21, \"image\": \"OpelInsignia_78.MP4\", \"vehicle\": \"OpelInsignia\"}, {\"speed\": 80.0, \"time\": 6.24, \"image\": \"OpelInsignia_80.MP4\", \"vehicle\": \"OpelInsignia\"}, {\"speed\": 83.0, \"time\": 6.02, \"image\": \"OpelInsignia_83.MP4\", \"vehicle\": \"OpelInsignia\"}, {\"speed\": 86.0, \"time\": 5.51, \"image\": \"OpelInsignia_86.MP4\", \"vehicle\": \"OpelInsignia\"}, {\"speed\": 89.0, \"time\": 5.59, \"image\": \"OpelInsignia_89.MP4\", \"vehicle\": \"OpelInsignia\"}, {\"speed\": 91.0, \"time\": 5.38, \"image\": \"OpelInsignia_91.MP4\", \"vehicle\": \"OpelInsignia\"}, {\"speed\": 94.0, \"time\": 5.81, \"image\": \"OpelInsignia_94.MP4\", \"vehicle\": \"OpelInsignia\"}, {\"speed\": 97.0, \"time\": 5.72, \"image\": \"OpelInsignia_97.MP4\", \"vehicle\": \"OpelInsignia\"}, {\"speed\": 30.0, \"time\": 5.14, \"image\": \"Peugeot208_30.MP4\", \"vehicle\": \"Peugeot208\"}, {\"speed\": 32.0, \"time\": 5.04, \"image\": \"Peugeot208_32.MP4\", \"vehicle\": \"Peugeot208\"}, {\"speed\": 34.0, \"time\": 5.04, \"image\": \"Peugeot208_34.MP4\", \"vehicle\": \"Peugeot208\"}, {\"speed\": 37.0, \"time\": 5.15, \"image\": \"Peugeot208_37.MP4\", \"vehicle\": \"Peugeot208\"}, {\"speed\": 40.0, \"time\": 5.14, \"image\": \"Peugeot208_40.MP4\", \"vehicle\": \"Peugeot208\"}, {\"speed\": 43.0, \"time\": 5.1, \"image\": \"Peugeot208_43.MP4\", \"vehicle\": \"Peugeot208\"}, {\"speed\": 45.0, \"time\": 5.12, \"image\": \"Peugeot208_45.MP4\", \"vehicle\": \"Peugeot208\"}, {\"speed\": 47.0, \"time\": 5.02, \"image\": \"Peugeot208_47.MP4\", \"vehicle\": \"Peugeot208\"}, {\"speed\": 50.0, \"time\": 4.93, \"image\": \"Peugeot208_50.MP4\", \"vehicle\": \"Peugeot208\"}, {\"speed\": 51.0, \"time\": 5.52, \"image\": \"Peugeot208_51.MP4\", \"vehicle\": \"Peugeot208\"}, {\"speed\": 54.0, \"time\": 5.17, \"image\": \"Peugeot208_54.MP4\", \"vehicle\": \"Peugeot208\"}, {\"speed\": 57.0, \"time\": 5.51, \"image\": \"Peugeot208_57.MP4\", \"vehicle\": \"Peugeot208\"}, {\"speed\": 60.0, \"time\": 5.06, \"image\": \"Peugeot208_60.MP4\", \"vehicle\": \"Peugeot208\"}, {\"speed\": 62.0, \"time\": 5.09, \"image\": \"Peugeot208_62.MP4\", \"vehicle\": \"Peugeot208\"}, {\"speed\": 64.0, \"time\": 5.22, \"image\": \"Peugeot208_64.MP4\", \"vehicle\": \"Peugeot208\"}, {\"speed\": 67.0, \"time\": 5.03, \"image\": \"Peugeot208_67.MP4\", \"vehicle\": \"Peugeot208\"}, {\"speed\": 68.0, \"time\": 5.18, \"image\": \"Peugeot208_68.MP4\", \"vehicle\": \"Peugeot208\"}, {\"speed\": 71.0, \"time\": 5.16, \"image\": \"Peugeot208_71.MP4\", \"vehicle\": \"Peugeot208\"}, {\"speed\": 73.0, \"time\": 4.99, \"image\": \"Peugeot208_73.MP4\", \"vehicle\": \"Peugeot208\"}, {\"speed\": 76.0, \"time\": 5.61, \"image\": \"Peugeot208_76.MP4\", \"vehicle\": \"Peugeot208\"}, {\"speed\": 77.0, \"time\": 6.26, \"image\": \"Peugeot208_77.MP4\", \"vehicle\": \"Peugeot208\"}, {\"speed\": 79.0, \"time\": 5.22, \"image\": \"Peugeot208_79.MP4\", \"vehicle\": \"Peugeot208\"}, {\"speed\": 82.0, \"time\": 5.17, \"image\": \"Peugeot208_82.MP4\", \"vehicle\": \"Peugeot208\"}, {\"speed\": 84.0, \"time\": 5.12, \"image\": \"Peugeot208_84.MP4\", \"vehicle\": \"Peugeot208\"}, {\"speed\": 87.0, \"time\": 5.48, \"image\": \"Peugeot208_87.MP4\", \"vehicle\": \"Peugeot208\"}, {\"speed\": 90.0, \"time\": 5.18, \"image\": \"Peugeot208_90.MP4\", \"vehicle\": \"Peugeot208\"}, {\"speed\": 92.0, \"time\": 5.48, \"image\": \"Peugeot208_92.MP4\", \"vehicle\": \"Peugeot208\"}, {\"speed\": 95.0, \"time\": 5.59, \"image\": \"Peugeot208_95.MP4\", \"vehicle\": \"Peugeot208\"}, {\"speed\": 96.0, \"time\": 5.43, \"image\": \"Peugeot208_96.MP4\", \"vehicle\": \"Peugeot208\"}, {\"speed\": 100.0, \"time\": 5.5, \"image\": \"Peugeot3008_100.MP4\", \"vehicle\": \"Peugeot3008\"}, {\"speed\": 40.0, \"time\": 6.01, \"image\": \"Peugeot3008_40.MP4\", \"vehicle\": \"Peugeot3008\"}, {\"speed\": 43.0, \"time\": 4.93, \"image\": \"Peugeot3008_43.MP4\", \"vehicle\": \"Peugeot3008\"}, {\"speed\": 45.0, \"time\": 6.0, \"image\": \"Peugeot3008_45.MP4\", \"vehicle\": \"Peugeot3008\"}, {\"speed\": 47.0, \"time\": 5.89, \"image\": \"Peugeot3008_47.MP4\", \"vehicle\": \"Peugeot3008\"}, {\"speed\": 50.0, \"time\": 5.99, \"image\": \"Peugeot3008_50.MP4\", \"vehicle\": \"Peugeot3008\"}, {\"speed\": 52.0, \"time\": 6.86, \"image\": \"Peugeot3008_52.MP4\", \"vehicle\": \"Peugeot3008\"}, {\"speed\": 54.0, \"time\": 5.84, \"image\": \"Peugeot3008_54.MP4\", \"vehicle\": \"Peugeot3008\"}, {\"speed\": 55.0, \"time\": 6.02, \"image\": \"Peugeot3008_55.MP4\", \"vehicle\": \"Peugeot3008\"}, {\"speed\": 56.0, \"time\": 5.71, \"image\": \"Peugeot3008_56.MP4\", \"vehicle\": \"Peugeot3008\"}, {\"speed\": 58.0, \"time\": 4.89, \"image\": \"Peugeot3008_58.MP4\", \"vehicle\": \"Peugeot3008\"}, {\"speed\": 60.0, \"time\": 5.99, \"image\": \"Peugeot3008_60.MP4\", \"vehicle\": \"Peugeot3008\"}, {\"speed\": 61.0, \"time\": 5.43, \"image\": \"Peugeot3008_61.MP4\", \"vehicle\": \"Peugeot3008\"}, {\"speed\": 63.0, \"time\": 7.22, \"image\": \"Peugeot3008_63.MP4\", \"vehicle\": \"Peugeot3008\"}, {\"speed\": 65.0, \"time\": 6.0, \"image\": \"Peugeot3008_65.MP4\", \"vehicle\": \"Peugeot3008\"}, {\"speed\": 67.0, \"time\": 5.69, \"image\": \"Peugeot3008_67.MP4\", \"vehicle\": \"Peugeot3008\"}, {\"speed\": 68.0, \"time\": 5.97, \"image\": \"Peugeot3008_68.MP4\", \"vehicle\": \"Peugeot3008\"}, {\"speed\": 70.0, \"time\": 6.0, \"image\": \"Peugeot3008_70.MP4\", \"vehicle\": \"Peugeot3008\"}, {\"speed\": 72.0, \"time\": 5.53, \"image\": \"Peugeot3008_72.MP4\", \"vehicle\": \"Peugeot3008\"}, {\"speed\": 74.0, \"time\": 5.88, \"image\": \"Peugeot3008_74.MP4\", \"vehicle\": \"Peugeot3008\"}, {\"speed\": 75.0, \"time\": 6.09, \"image\": \"Peugeot3008_75.MP4\", \"vehicle\": \"Peugeot3008\"}, {\"speed\": 78.0, \"time\": 5.6, \"image\": \"Peugeot3008_78.MP4\", \"vehicle\": \"Peugeot3008\"}, {\"speed\": 80.0, \"time\": 6.01, \"image\": \"Peugeot3008_80.MP4\", \"vehicle\": \"Peugeot3008\"}, {\"speed\": 83.0, \"time\": 6.62, \"image\": \"Peugeot3008_83.MP4\", \"vehicle\": \"Peugeot3008\"}, {\"speed\": 85.0, \"time\": 6.38, \"image\": \"Peugeot3008_85.MP4\", \"vehicle\": \"Peugeot3008\"}, {\"speed\": 87.0, \"time\": 5.35, \"image\": \"Peugeot3008_87.MP4\", \"vehicle\": \"Peugeot3008\"}, {\"speed\": 89.0, \"time\": 5.15, \"image\": \"Peugeot3008_89.MP4\", \"vehicle\": \"Peugeot3008\"}, {\"speed\": 90.0, \"time\": 5.99, \"image\": \"Peugeot3008_90.MP4\", \"vehicle\": \"Peugeot3008\"}, {\"speed\": 92.0, \"time\": 5.37, \"image\": \"Peugeot3008_92.MP4\", \"vehicle\": \"Peugeot3008\"}, {\"speed\": 95.0, \"time\": 6.1, \"image\": \"Peugeot3008_95.MP4\", \"vehicle\": \"Peugeot3008\"}, {\"speed\": 97.0, \"time\": 6.39, \"image\": \"Peugeot3008_97.MP4\", \"vehicle\": \"Peugeot3008\"}, {\"speed\": 101.0, \"time\": 5.45, \"image\": \"Peugeot307_101.MP4\", \"vehicle\": \"Peugeot307\"}, {\"speed\": 103.0, \"time\": 5.86, \"image\": \"Peugeot307_103.MP4\", \"vehicle\": \"Peugeot307\"}, {\"speed\": 30.0, \"time\": 5.52, \"image\": \"Peugeot307_30.MP4\", \"vehicle\": \"Peugeot307\"}, {\"speed\": 33.0, \"time\": 5.62, \"image\": \"Peugeot307_33.MP4\", \"vehicle\": \"Peugeot307\"}, {\"speed\": 35.0, \"time\": 5.55, \"image\": \"Peugeot307_35.MP4\", \"vehicle\": \"Peugeot307\"}, {\"speed\": 38.0, \"time\": 5.08, \"image\": \"Peugeot307_38.MP4\", \"vehicle\": \"Peugeot307\"}, {\"speed\": 40.0, \"time\": 5.02, \"image\": \"Peugeot307_40.MP4\", \"vehicle\": \"Peugeot307\"}, {\"speed\": 43.0, \"time\": 4.95, \"image\": \"Peugeot307_43.MP4\", \"vehicle\": \"Peugeot307\"}, {\"speed\": 45.0, \"time\": 5.18, \"image\": \"Peugeot307_45.MP4\", \"vehicle\": \"Peugeot307\"}, {\"speed\": 47.0, \"time\": 4.99, \"image\": \"Peugeot307_47.MP4\", \"vehicle\": \"Peugeot307\"}, {\"speed\": 48.0, \"time\": 4.97, \"image\": \"Peugeot307_48.MP4\", \"vehicle\": \"Peugeot307\"}, {\"speed\": 50.0, \"time\": 5.18, \"image\": \"Peugeot307_50.MP4\", \"vehicle\": \"Peugeot307\"}, {\"speed\": 53.0, \"time\": 4.98, \"image\": \"Peugeot307_53.MP4\", \"vehicle\": \"Peugeot307\"}, {\"speed\": 56.0, \"time\": 5.45, \"image\": \"Peugeot307_56.MP4\", \"vehicle\": \"Peugeot307\"}, {\"speed\": 59.0, \"time\": 4.97, \"image\": \"Peugeot307_59.MP4\", \"vehicle\": \"Peugeot307\"}, {\"speed\": 60.0, \"time\": 6.33, \"image\": \"Peugeot307_60.MP4\", \"vehicle\": \"Peugeot307\"}, {\"speed\": 63.0, \"time\": 5.08, \"image\": \"Peugeot307_63.MP4\", \"vehicle\": \"Peugeot307\"}, {\"speed\": 66.0, \"time\": 5.18, \"image\": \"Peugeot307_66.MP4\", \"vehicle\": \"Peugeot307\"}, {\"speed\": 69.0, \"time\": 4.85, \"image\": \"Peugeot307_69.MP4\", \"vehicle\": \"Peugeot307\"}, {\"speed\": 72.0, \"time\": 4.6, \"image\": \"Peugeot307_72.MP4\", \"vehicle\": \"Peugeot307\"}, {\"speed\": 73.0, \"time\": 4.95, \"image\": \"Peugeot307_73.MP4\", \"vehicle\": \"Peugeot307\"}, {\"speed\": 76.0, \"time\": 4.9, \"image\": \"Peugeot307_76.MP4\", \"vehicle\": \"Peugeot307\"}, {\"speed\": 79.0, \"time\": 4.93, \"image\": \"Peugeot307_79.MP4\", \"vehicle\": \"Peugeot307\"}, {\"speed\": 82.0, \"time\": 5.22, \"image\": \"Peugeot307_82.MP4\", \"vehicle\": \"Peugeot307\"}, {\"speed\": 85.0, \"time\": 5.25, \"image\": \"Peugeot307_85.MP4\", \"vehicle\": \"Peugeot307\"}, {\"speed\": 88.0, \"time\": 4.94, \"image\": \"Peugeot307_88.MP4\", \"vehicle\": \"Peugeot307\"}, {\"speed\": 91.0, \"time\": 5.05, \"image\": \"Peugeot307_91.MP4\", \"vehicle\": \"Peugeot307\"}, {\"speed\": 94.0, \"time\": 4.75, \"image\": \"Peugeot307_94.MP4\", \"vehicle\": \"Peugeot307\"}, {\"speed\": 97.0, \"time\": 4.95, \"image\": \"Peugeot307_97.MP4\", \"vehicle\": \"Peugeot307\"}, {\"speed\": 100.0, \"time\": 5.19, \"image\": \"RenaultCaptur_100.MP4\", \"vehicle\": \"RenaultCaptur\"}, {\"speed\": 102.0, \"time\": 5.34, \"image\": \"RenaultCaptur_102.MP4\", \"vehicle\": \"RenaultCaptur\"}, {\"speed\": 30.0, \"time\": 5.55, \"image\": \"RenaultCaptur_30.MP4\", \"vehicle\": \"RenaultCaptur\"}, {\"speed\": 33.0, \"time\": 5.85, \"image\": \"RenaultCaptur_33.MP4\", \"vehicle\": \"RenaultCaptur\"}, {\"speed\": 36.0, \"time\": 5.32, \"image\": \"RenaultCaptur_36.MP4\", \"vehicle\": \"RenaultCaptur\"}, {\"speed\": 38.0, \"time\": 5.44, \"image\": \"RenaultCaptur_38.MP4\", \"vehicle\": \"RenaultCaptur\"}, {\"speed\": 40.0, \"time\": 5.29, \"image\": \"RenaultCaptur_40.MP4\", \"vehicle\": \"RenaultCaptur\"}, {\"speed\": 41.0, \"time\": 5.36, \"image\": \"RenaultCaptur_41.MP4\", \"vehicle\": \"RenaultCaptur\"}, {\"speed\": 44.0, \"time\": 5.3, \"image\": \"RenaultCaptur_44.MP4\", \"vehicle\": \"RenaultCaptur\"}, {\"speed\": 46.0, \"time\": 4.68, \"image\": \"RenaultCaptur_46.MP4\", \"vehicle\": \"RenaultCaptur\"}, {\"speed\": 47.0, \"time\": 5.28, \"image\": \"RenaultCaptur_47.MP4\", \"vehicle\": \"RenaultCaptur\"}, {\"speed\": 48.0, \"time\": 5.57, \"image\": \"RenaultCaptur_48.MP4\", \"vehicle\": \"RenaultCaptur\"}, {\"speed\": 50.0, \"time\": 5.09, \"image\": \"RenaultCaptur_50.MP4\", \"vehicle\": \"RenaultCaptur\"}, {\"speed\": 52.0, \"time\": 5.53, \"image\": \"RenaultCaptur_52.MP4\", \"vehicle\": \"RenaultCaptur\"}, {\"speed\": 56.0, \"time\": 5.21, \"image\": \"RenaultCaptur_56.MP4\", \"vehicle\": \"RenaultCaptur\"}, {\"speed\": 58.0, \"time\": 5.32, \"image\": \"RenaultCaptur_58.MP4\", \"vehicle\": \"RenaultCaptur\"}, {\"speed\": 60.0, \"time\": 5.39, \"image\": \"RenaultCaptur_60.MP4\", \"vehicle\": \"RenaultCaptur\"}, {\"speed\": 63.0, \"time\": 5.42, \"image\": \"RenaultCaptur_63.MP4\", \"vehicle\": \"RenaultCaptur\"}, {\"speed\": 66.0, \"time\": 5.01, \"image\": \"RenaultCaptur_66.MP4\", \"vehicle\": \"RenaultCaptur\"}, {\"speed\": 68.0, \"time\": 5.15, \"image\": \"RenaultCaptur_68.MP4\", \"vehicle\": \"RenaultCaptur\"}, {\"speed\": 70.0, \"time\": 5.75, \"image\": \"RenaultCaptur_70.MP4\", \"vehicle\": \"RenaultCaptur\"}, {\"speed\": 72.0, \"time\": 5.08, \"image\": \"RenaultCaptur_72.MP4\", \"vehicle\": \"RenaultCaptur\"}, {\"speed\": 76.0, \"time\": 5.94, \"image\": \"RenaultCaptur_76.MP4\", \"vehicle\": \"RenaultCaptur\"}, {\"speed\": 78.0, \"time\": 5.32, \"image\": \"RenaultCaptur_78.MP4\", \"vehicle\": \"RenaultCaptur\"}, {\"speed\": 80.0, \"time\": 4.79, \"image\": \"RenaultCaptur_80.MP4\", \"vehicle\": \"RenaultCaptur\"}, {\"speed\": 83.0, \"time\": 5.59, \"image\": \"RenaultCaptur_83.MP4\", \"vehicle\": \"RenaultCaptur\"}, {\"speed\": 86.0, \"time\": 5.18, \"image\": \"RenaultCaptur_86.MP4\", \"vehicle\": \"RenaultCaptur\"}, {\"speed\": 88.0, \"time\": 5.24, \"image\": \"RenaultCaptur_88.MP4\", \"vehicle\": \"RenaultCaptur\"}, {\"speed\": 90.0, \"time\": 5.61, \"image\": \"RenaultCaptur_90.MP4\", \"vehicle\": \"RenaultCaptur\"}, {\"speed\": 92.0, \"time\": 5.64, \"image\": \"RenaultCaptur_92.MP4\", \"vehicle\": \"RenaultCaptur\"}, {\"speed\": 94.0, \"time\": 5.06, \"image\": \"RenaultCaptur_94.MP4\", \"vehicle\": \"RenaultCaptur\"}, {\"speed\": 97.0, \"time\": 6.02, \"image\": \"RenaultCaptur_97.MP4\", \"vehicle\": \"RenaultCaptur\"}, {\"speed\": 98.0, \"time\": 5.11, \"image\": \"RenaultCaptur_98.MP4\", \"vehicle\": \"RenaultCaptur\"}, {\"speed\": 101.0, \"time\": 6.17, \"image\": \"RenaultScenic_101.MP4\", \"vehicle\": \"RenaultScenic\"}, {\"speed\": 30.0, \"time\": 6.0, \"image\": \"RenaultScenic_30.MP4\", \"vehicle\": \"RenaultScenic\"}, {\"speed\": 35.0, \"time\": 6.82, \"image\": \"RenaultScenic_35.MP4\", \"vehicle\": \"RenaultScenic\"}, {\"speed\": 36.0, \"time\": 6.01, \"image\": \"RenaultScenic_36.MP4\", \"vehicle\": \"RenaultScenic\"}, {\"speed\": 38.0, \"time\": 6.03, \"image\": \"RenaultScenic_38.MP4\", \"vehicle\": \"RenaultScenic\"}, {\"speed\": 40.0, \"time\": 6.7, \"image\": \"RenaultScenic_40.MP4\", \"vehicle\": \"RenaultScenic\"}, {\"speed\": 42.0, \"time\": 5.83, \"image\": \"RenaultScenic_42.MP4\", \"vehicle\": \"RenaultScenic\"}, {\"speed\": 44.0, \"time\": 5.27, \"image\": \"RenaultScenic_44.MP4\", \"vehicle\": \"RenaultScenic\"}, {\"speed\": 46.0, \"time\": 6.75, \"image\": \"RenaultScenic_46.MP4\", \"vehicle\": \"RenaultScenic\"}, {\"speed\": 48.0, \"time\": 5.75, \"image\": \"RenaultScenic_48.MP4\", \"vehicle\": \"RenaultScenic\"}, {\"speed\": 50.0, \"time\": 7.25, \"image\": \"RenaultScenic_50.MP4\", \"vehicle\": \"RenaultScenic\"}, {\"speed\": 52.0, \"time\": 5.25, \"image\": \"RenaultScenic_52.MP4\", \"vehicle\": \"RenaultScenic\"}, {\"speed\": 54.0, \"time\": 5.46, \"image\": \"RenaultScenic_54.MP4\", \"vehicle\": \"RenaultScenic\"}, {\"speed\": 57.0, \"time\": 6.6, \"image\": \"RenaultScenic_57.MP4\", \"vehicle\": \"RenaultScenic\"}, {\"speed\": 60.0, \"time\": 6.12, \"image\": \"RenaultScenic_60.MP4\", \"vehicle\": \"RenaultScenic\"}, {\"speed\": 62.0, \"time\": 6.05, \"image\": \"RenaultScenic_62.MP4\", \"vehicle\": \"RenaultScenic\"}, {\"speed\": 64.0, \"time\": 5.76, \"image\": \"RenaultScenic_64.MP4\", \"vehicle\": \"RenaultScenic\"}, {\"speed\": 66.0, \"time\": 5.35, \"image\": \"RenaultScenic_66.MP4\", \"vehicle\": \"RenaultScenic\"}, {\"speed\": 68.0, \"time\": 6.57, \"image\": \"RenaultScenic_68.MP4\", \"vehicle\": \"RenaultScenic\"}, {\"speed\": 70.0, \"time\": 5.85, \"image\": \"RenaultScenic_70.MP4\", \"vehicle\": \"RenaultScenic\"}, {\"speed\": 71.0, \"time\": 5.99, \"image\": \"RenaultScenic_71.MP4\", \"vehicle\": \"RenaultScenic\"}, {\"speed\": 72.0, \"time\": 5.23, \"image\": \"RenaultScenic_72.MP4\", \"vehicle\": \"RenaultScenic\"}, {\"speed\": 74.0, \"time\": 5.7, \"image\": \"RenaultScenic_74.MP4\", \"vehicle\": \"RenaultScenic\"}, {\"speed\": 75.0, \"time\": 5.45, \"image\": \"RenaultScenic_75.MP4\", \"vehicle\": \"RenaultScenic\"}, {\"speed\": 77.0, \"time\": 7.32, \"image\": \"RenaultScenic_77.MP4\", \"vehicle\": \"RenaultScenic\"}, {\"speed\": 80.0, \"time\": 7.01, \"image\": \"RenaultScenic_80.MP4\", \"vehicle\": \"RenaultScenic\"}, {\"speed\": 82.0, \"time\": 6.06, \"image\": \"RenaultScenic_82.MP4\", \"vehicle\": \"RenaultScenic\"}, {\"speed\": 84.0, \"time\": 5.39, \"image\": \"RenaultScenic_84.MP4\", \"vehicle\": \"RenaultScenic\"}, {\"speed\": 86.0, \"time\": 5.65, \"image\": \"RenaultScenic_86.MP4\", \"vehicle\": \"RenaultScenic\"}, {\"speed\": 87.0, \"time\": 6.0, \"image\": \"RenaultScenic_87.MP4\", \"vehicle\": \"RenaultScenic\"}, {\"speed\": 90.0, \"time\": 5.09, \"image\": \"RenaultScenic_90.MP4\", \"vehicle\": \"RenaultScenic\"}, {\"speed\": 91.0, \"time\": 6.21, \"image\": \"RenaultScenic_91.MP4\", \"vehicle\": \"RenaultScenic\"}, {\"speed\": 94.0, \"time\": 6.18, \"image\": \"RenaultScenic_94.MP4\", \"vehicle\": \"RenaultScenic\"}, {\"speed\": 95.0, \"time\": 6.23, \"image\": \"RenaultScenic_95.MP4\", \"vehicle\": \"RenaultScenic\"}, {\"speed\": 98.0, \"time\": 5.38, \"image\": \"RenaultScenic_98.MP4\", \"vehicle\": \"RenaultScenic\"}, {\"speed\": 100.0, \"time\": 6.01, \"image\": \"VWPassat_100.MP4\", \"vehicle\": \"VWPassat\"}, {\"speed\": 30.0, \"time\": 6.46, \"image\": \"VWPassat_30.MP4\", \"vehicle\": \"VWPassat\"}, {\"speed\": 35.0, \"time\": 5.92, \"image\": \"VWPassat_35.MP4\", \"vehicle\": \"VWPassat\"}, {\"speed\": 39.0, \"time\": 5.27, \"image\": \"VWPassat_39.MP4\", \"vehicle\": \"VWPassat\"}, {\"speed\": 40.0, \"time\": 6.53, \"image\": \"VWPassat_40.MP4\", \"vehicle\": \"VWPassat\"}, {\"speed\": 42.0, \"time\": 6.72, \"image\": \"VWPassat_42.MP4\", \"vehicle\": \"VWPassat\"}, {\"speed\": 45.0, \"time\": 6.35, \"image\": \"VWPassat_45.MP4\", \"vehicle\": \"VWPassat\"}, {\"speed\": 47.0, \"time\": 5.25, \"image\": \"VWPassat_47.MP4\", \"vehicle\": \"VWPassat\"}, {\"speed\": 49.0, \"time\": 5.27, \"image\": \"VWPassat_49.MP4\", \"vehicle\": \"VWPassat\"}, {\"speed\": 50.0, \"time\": 6.0, \"image\": \"VWPassat_50.MP4\", \"vehicle\": \"VWPassat\"}, {\"speed\": 52.0, \"time\": 6.02, \"image\": \"VWPassat_52.MP4\", \"vehicle\": \"VWPassat\"}, {\"speed\": 54.0, \"time\": 5.54, \"image\": \"VWPassat_54.MP4\", \"vehicle\": \"VWPassat\"}, {\"speed\": 55.0, \"time\": 6.02, \"image\": \"VWPassat_55.MP4\", \"vehicle\": \"VWPassat\"}, {\"speed\": 57.0, \"time\": 4.98, \"image\": \"VWPassat_57.MP4\", \"vehicle\": \"VWPassat\"}, {\"speed\": 60.0, \"time\": 5.98, \"image\": \"VWPassat_60.MP4\", \"vehicle\": \"VWPassat\"}, {\"speed\": 61.0, \"time\": 6.01, \"image\": \"VWPassat_61.MP4\", \"vehicle\": \"VWPassat\"}, {\"speed\": 64.0, \"time\": 5.67, \"image\": \"VWPassat_64.MP4\", \"vehicle\": \"VWPassat\"}, {\"speed\": 65.0, \"time\": 5.82, \"image\": \"VWPassat_65.MP4\", \"vehicle\": \"VWPassat\"}, {\"speed\": 67.0, \"time\": 5.08, \"image\": \"VWPassat_67.MP4\", \"vehicle\": \"VWPassat\"}, {\"speed\": 70.0, \"time\": 6.0, \"image\": \"VWPassat_70.MP4\", \"vehicle\": \"VWPassat\"}, {\"speed\": 71.0, \"time\": 5.51, \"image\": \"VWPassat_71.MP4\", \"vehicle\": \"VWPassat\"}, {\"speed\": 72.0, \"time\": 5.42, \"image\": \"VWPassat_72.MP4\", \"vehicle\": \"VWPassat\"}, {\"speed\": 73.0, \"time\": 5.32, \"image\": \"VWPassat_73.MP4\", \"vehicle\": \"VWPassat\"}, {\"speed\": 75.0, \"time\": 6.02, \"image\": \"VWPassat_75.MP4\", \"vehicle\": \"VWPassat\"}, {\"speed\": 78.0, \"time\": 5.85, \"image\": \"VWPassat_78.MP4\", \"vehicle\": \"VWPassat\"}, {\"speed\": 80.0, \"time\": 5.99, \"image\": \"VWPassat_80.MP4\", \"vehicle\": \"VWPassat\"}, {\"speed\": 81.0, \"time\": 5.58, \"image\": \"VWPassat_81.MP4\", \"vehicle\": \"VWPassat\"}, {\"speed\": 82.0, \"time\": 5.62, \"image\": \"VWPassat_82.MP4\", \"vehicle\": \"VWPassat\"}, {\"speed\": 85.0, \"time\": 6.23, \"image\": \"VWPassat_85.MP4\", \"vehicle\": \"VWPassat\"}, {\"speed\": 88.0, \"time\": 7.31, \"image\": \"VWPassat_88.MP4\", \"vehicle\": \"VWPassat\"}, {\"speed\": 90.0, \"time\": 5.2, \"image\": \"VWPassat_90.MP4\", \"vehicle\": \"VWPassat\"}, {\"speed\": 91.0, \"time\": 5.45, \"image\": \"VWPassat_91.MP4\", \"vehicle\": \"VWPassat\"}, {\"speed\": 94.0, \"time\": 6.0, \"image\": \"VWPassat_94.MP4\", \"vehicle\": \"VWPassat\"}, {\"speed\": 96.0, \"time\": 5.72, \"image\": \"VWPassat_96.MP4\", \"vehicle\": \"VWPassat\"}, {\"speed\": 98.0, \"time\": 5.99, \"image\": \"VWPassat_98.MP4\", \"vehicle\": \"VWPassat\"}]}}, {\"mode\": \"vega-lite\"});\n",
       "</script>"
      ],
      "text/plain": [
       "alt.Chart(...)"
      ]
     },
     "execution_count": 8,
     "metadata": {},
     "output_type": "execute_result"
    }
   ],
   "source": [
    "alt.Chart(df_combined).mark_bar().encode(\n",
    "    x=alt.X('speed', bin=alt.Bin(maxbins=5), title='Velocidad (km/h)'),\n",
    "    y=alt.Y('count()', title='Contador')\n",
    ").properties(\n",
    "    width=150,\n",
    "    height=100,\n",
    "    title='Distribucion de velocidad'\n",
    ")"
   ]
  },
  {
   "cell_type": "code",
   "execution_count": 9,
   "metadata": {
    "collapsed": false,
    "jupyter": {
     "outputs_hidden": false
    },
    "pycharm": {
     "name": "#%%\n"
    }
   },
   "outputs": [
    {
     "data": {
      "text/html": [
       "\n",
       "<style>\n",
       "  #altair-viz-b60f81a6a5ad45b5b34c37b12173decc.vega-embed {\n",
       "    width: 100%;\n",
       "    display: flex;\n",
       "  }\n",
       "\n",
       "  #altair-viz-b60f81a6a5ad45b5b34c37b12173decc.vega-embed details,\n",
       "  #altair-viz-b60f81a6a5ad45b5b34c37b12173decc.vega-embed details summary {\n",
       "    position: relative;\n",
       "  }\n",
       "</style>\n",
       "<div id=\"altair-viz-b60f81a6a5ad45b5b34c37b12173decc\"></div>\n",
       "<script type=\"text/javascript\">\n",
       "  var VEGA_DEBUG = (typeof VEGA_DEBUG == \"undefined\") ? {} : VEGA_DEBUG;\n",
       "  (function(spec, embedOpt){\n",
       "    let outputDiv = document.currentScript.previousElementSibling;\n",
       "    if (outputDiv.id !== \"altair-viz-b60f81a6a5ad45b5b34c37b12173decc\") {\n",
       "      outputDiv = document.getElementById(\"altair-viz-b60f81a6a5ad45b5b34c37b12173decc\");\n",
       "    }\n",
       "    const paths = {\n",
       "      \"vega\": \"https://cdn.jsdelivr.net/npm/vega@5?noext\",\n",
       "      \"vega-lib\": \"https://cdn.jsdelivr.net/npm/vega-lib?noext\",\n",
       "      \"vega-lite\": \"https://cdn.jsdelivr.net/npm/vega-lite@5.8.0?noext\",\n",
       "      \"vega-embed\": \"https://cdn.jsdelivr.net/npm/vega-embed@6?noext\",\n",
       "    };\n",
       "\n",
       "    function maybeLoadScript(lib, version) {\n",
       "      var key = `${lib.replace(\"-\", \"\")}_version`;\n",
       "      return (VEGA_DEBUG[key] == version) ?\n",
       "        Promise.resolve(paths[lib]) :\n",
       "        new Promise(function(resolve, reject) {\n",
       "          var s = document.createElement('script');\n",
       "          document.getElementsByTagName(\"head\")[0].appendChild(s);\n",
       "          s.async = true;\n",
       "          s.onload = () => {\n",
       "            VEGA_DEBUG[key] = version;\n",
       "            return resolve(paths[lib]);\n",
       "          };\n",
       "          s.onerror = () => reject(`Error loading script: ${paths[lib]}`);\n",
       "          s.src = paths[lib];\n",
       "        });\n",
       "    }\n",
       "\n",
       "    function showError(err) {\n",
       "      outputDiv.innerHTML = `<div class=\"error\" style=\"color:red;\">${err}</div>`;\n",
       "      throw err;\n",
       "    }\n",
       "\n",
       "    function displayChart(vegaEmbed) {\n",
       "      vegaEmbed(outputDiv, spec, embedOpt)\n",
       "        .catch(err => showError(`Javascript Error: ${err.message}<br>This usually means there's a typo in your chart specification. See the javascript console for the full traceback.`));\n",
       "    }\n",
       "\n",
       "    if(typeof define === \"function\" && define.amd) {\n",
       "      requirejs.config({paths});\n",
       "      require([\"vega-embed\"], displayChart, err => showError(`Error loading script: ${err.message}`));\n",
       "    } else {\n",
       "      maybeLoadScript(\"vega\", \"5\")\n",
       "        .then(() => maybeLoadScript(\"vega-lite\", \"5.8.0\"))\n",
       "        .then(() => maybeLoadScript(\"vega-embed\", \"6\"))\n",
       "        .catch(showError)\n",
       "        .then(() => displayChart(vegaEmbed));\n",
       "    }\n",
       "  })({\"config\": {\"view\": {\"continuousWidth\": 300, \"continuousHeight\": 300}}, \"layer\": [{\"mark\": {\"type\": \"point\", \"filled\": true, \"opacity\": 0.5, \"size\": 40}, \"encoding\": {\"color\": {\"value\": \"steelblue\"}, \"tooltip\": [{\"field\": \"speed\", \"type\": \"quantitative\"}, {\"field\": \"time\", \"type\": \"quantitative\"}], \"x\": {\"axis\": {\"title\": \"Velocidad (km/h)\"}, \"field\": \"speed\", \"type\": \"quantitative\"}, \"y\": {\"axis\": {\"title\": \"Tiempo (s)\"}, \"field\": \"time\", \"type\": \"quantitative\"}}, \"title\": {\"text\": \"Correlacion Velocidad vs Tiempo (Correlation: -0.03)\", \"anchor\": \"middle\", \"fontSize\": 16, \"fontWeight\": \"bold\"}}, {\"mark\": {\"type\": \"line\", \"color\": \"red\", \"strokeWidth\": 3}, \"encoding\": {\"x\": {\"field\": \"speed\", \"type\": \"quantitative\"}, \"y\": {\"field\": \"time\", \"type\": \"quantitative\"}}, \"transform\": [{\"on\": \"speed\", \"regression\": \"time\"}]}], \"data\": {\"name\": \"data-5d3be3fd43ab46cca79cf2374d1a4771\"}, \"height\": 400, \"width\": 500, \"$schema\": \"https://vega.github.io/schema/vega-lite/v5.8.0.json\", \"datasets\": {\"data-5d3be3fd43ab46cca79cf2374d1a4771\": [{\"speed\": 101.0, \"time\": 7.49, \"image\": \"CitroenC4Picasso_101.MP4\", \"vehicle\": \"CitroenC4Picasso\"}, {\"speed\": 35.0, \"time\": 6.25, \"image\": \"CitroenC4Picasso_35.MP4\", \"vehicle\": \"CitroenC4Picasso\"}, {\"speed\": 38.0, \"time\": 5.82, \"image\": \"CitroenC4Picasso_38.MP4\", \"vehicle\": \"CitroenC4Picasso\"}, {\"speed\": 41.0, \"time\": 6.16, \"image\": \"CitroenC4Picasso_41.MP4\", \"vehicle\": \"CitroenC4Picasso\"}, {\"speed\": 44.0, \"time\": 5.44, \"image\": \"CitroenC4Picasso_44.MP4\", \"vehicle\": \"CitroenC4Picasso\"}, {\"speed\": 48.0, \"time\": 6.03, \"image\": \"CitroenC4Picasso_48.MP4\", \"vehicle\": \"CitroenC4Picasso\"}, {\"speed\": 51.0, \"time\": 5.85, \"image\": \"CitroenC4Picasso_51.MP4\", \"vehicle\": \"CitroenC4Picasso\"}, {\"speed\": 54.0, \"time\": 5.65, \"image\": \"CitroenC4Picasso_54.MP4\", \"vehicle\": \"CitroenC4Picasso\"}, {\"speed\": 57.0, \"time\": 5.95, \"image\": \"CitroenC4Picasso_57.MP4\", \"vehicle\": \"CitroenC4Picasso\"}, {\"speed\": 59.0, \"time\": 5.85, \"image\": \"CitroenC4Picasso_59.MP4\", \"vehicle\": \"CitroenC4Picasso\"}, {\"speed\": 63.0, \"time\": 6.06, \"image\": \"CitroenC4Picasso_63.MP4\", \"vehicle\": \"CitroenC4Picasso\"}, {\"speed\": 65.0, \"time\": 5.66, \"image\": \"CitroenC4Picasso_65.MP4\", \"vehicle\": \"CitroenC4Picasso\"}, {\"speed\": 68.0, \"time\": 6.16, \"image\": \"CitroenC4Picasso_68.MP4\", \"vehicle\": \"CitroenC4Picasso\"}, {\"speed\": 72.0, \"time\": 5.75, \"image\": \"CitroenC4Picasso_72.MP4\", \"vehicle\": \"CitroenC4Picasso\"}, {\"speed\": 74.0, \"time\": 6.26, \"image\": \"CitroenC4Picasso_74.MP4\", \"vehicle\": \"CitroenC4Picasso\"}, {\"speed\": 78.0, \"time\": 6.14, \"image\": \"CitroenC4Picasso_78.MP4\", \"vehicle\": \"CitroenC4Picasso\"}, {\"speed\": 80.0, \"time\": 5.41, \"image\": \"CitroenC4Picasso_80.MP4\", \"vehicle\": \"CitroenC4Picasso\"}, {\"speed\": 83.0, \"time\": 6.63, \"image\": \"CitroenC4Picasso_83.MP4\", \"vehicle\": \"CitroenC4Picasso\"}, {\"speed\": 85.0, \"time\": 5.67, \"image\": \"CitroenC4Picasso_85.MP4\", \"vehicle\": \"CitroenC4Picasso\"}, {\"speed\": 87.0, \"time\": 6.19, \"image\": \"CitroenC4Picasso_87.MP4\", \"vehicle\": \"CitroenC4Picasso\"}, {\"speed\": 92.0, \"time\": 7.62, \"image\": \"CitroenC4Picasso_92.MP4\", \"vehicle\": \"CitroenC4Picasso\"}, {\"speed\": 94.0, \"time\": 6.79, \"image\": \"CitroenC4Picasso_94.MP4\", \"vehicle\": \"CitroenC4Picasso\"}, {\"speed\": 96.0, \"time\": 5.79, \"image\": \"CitroenC4Picasso_96.MP4\", \"vehicle\": \"CitroenC4Picasso\"}, {\"speed\": 100.0, \"time\": 4.98, \"image\": \"KiaSportage_100.MP4\", \"vehicle\": \"KiaSportage\"}, {\"speed\": 103.0, \"time\": 4.91, \"image\": \"KiaSportage_103.MP4\", \"vehicle\": \"KiaSportage\"}, {\"speed\": 105.0, \"time\": 4.98, \"image\": \"KiaSportage_105.MP4\", \"vehicle\": \"KiaSportage\"}, {\"speed\": 31.0, \"time\": 4.94, \"image\": \"KiaSportage_31.MP4\", \"vehicle\": \"KiaSportage\"}, {\"speed\": 33.0, \"time\": 4.91, \"image\": \"KiaSportage_33.MP4\", \"vehicle\": \"KiaSportage\"}, {\"speed\": 35.0, \"time\": 4.93, \"image\": \"KiaSportage_35.MP4\", \"vehicle\": \"KiaSportage\"}, {\"speed\": 38.0, \"time\": 5.05, \"image\": \"KiaSportage_38.MP4\", \"vehicle\": \"KiaSportage\"}, {\"speed\": 41.0, \"time\": 4.93, \"image\": \"KiaSportage_41.MP4\", \"vehicle\": \"KiaSportage\"}, {\"speed\": 44.0, \"time\": 5.02, \"image\": \"KiaSportage_44.MP4\", \"vehicle\": \"KiaSportage\"}, {\"speed\": 46.0, \"time\": 4.94, \"image\": \"KiaSportage_46.MP4\", \"vehicle\": \"KiaSportage\"}, {\"speed\": 48.0, \"time\": 4.96, \"image\": \"KiaSportage_48.MP4\", \"vehicle\": \"KiaSportage\"}, {\"speed\": 51.0, \"time\": 4.92, \"image\": \"KiaSportage_51.MP4\", \"vehicle\": \"KiaSportage\"}, {\"speed\": 53.0, \"time\": 4.97, \"image\": \"KiaSportage_53.MP4\", \"vehicle\": \"KiaSportage\"}, {\"speed\": 55.0, \"time\": 4.95, \"image\": \"KiaSportage_55.MP4\", \"vehicle\": \"KiaSportage\"}, {\"speed\": 58.0, \"time\": 4.92, \"image\": \"KiaSportage_58.MP4\", \"vehicle\": \"KiaSportage\"}, {\"speed\": 61.0, \"time\": 4.96, \"image\": \"KiaSportage_61.MP4\", \"vehicle\": \"KiaSportage\"}, {\"speed\": 63.0, \"time\": 5.0, \"image\": \"KiaSportage_63.MP4\", \"vehicle\": \"KiaSportage\"}, {\"speed\": 65.0, \"time\": 4.93, \"image\": \"KiaSportage_65.MP4\", \"vehicle\": \"KiaSportage\"}, {\"speed\": 68.0, \"time\": 4.96, \"image\": \"KiaSportage_68.MP4\", \"vehicle\": \"KiaSportage\"}, {\"speed\": 69.0, \"time\": 4.94, \"image\": \"KiaSportage_69.MP4\", \"vehicle\": \"KiaSportage\"}, {\"speed\": 72.0, \"time\": 4.95, \"image\": \"KiaSportage_72.MP4\", \"vehicle\": \"KiaSportage\"}, {\"speed\": 74.0, \"time\": 4.94, \"image\": \"KiaSportage_74.MP4\", \"vehicle\": \"KiaSportage\"}, {\"speed\": 77.0, \"time\": 5.02, \"image\": \"KiaSportage_77.MP4\", \"vehicle\": \"KiaSportage\"}, {\"speed\": 78.0, \"time\": 4.95, \"image\": \"KiaSportage_78.MP4\", \"vehicle\": \"KiaSportage\"}, {\"speed\": 80.0, \"time\": 4.94, \"image\": \"KiaSportage_80.MP4\", \"vehicle\": \"KiaSportage\"}, {\"speed\": 83.0, \"time\": 4.95, \"image\": \"KiaSportage_83.MP4\", \"vehicle\": \"KiaSportage\"}, {\"speed\": 85.0, \"time\": 4.95, \"image\": \"KiaSportage_85.MP4\", \"vehicle\": \"KiaSportage\"}, {\"speed\": 86.0, \"time\": 4.92, \"image\": \"KiaSportage_86.MP4\", \"vehicle\": \"KiaSportage\"}, {\"speed\": 89.0, \"time\": 4.98, \"image\": \"KiaSportage_89.MP4\", \"vehicle\": \"KiaSportage\"}, {\"speed\": 91.0, \"time\": 4.95, \"image\": \"KiaSportage_91.MP4\", \"vehicle\": \"KiaSportage\"}, {\"speed\": 93.0, \"time\": 4.98, \"image\": \"KiaSportage_93.MP4\", \"vehicle\": \"KiaSportage\"}, {\"speed\": 96.0, \"time\": 4.91, \"image\": \"KiaSportage_96.MP4\", \"vehicle\": \"KiaSportage\"}, {\"speed\": 98.0, \"time\": 4.92, \"image\": \"KiaSportage_98.MP4\", \"vehicle\": \"KiaSportage\"}, {\"speed\": 101.0, \"time\": 5.04, \"image\": \"Mazda3_101.MP4\", \"vehicle\": \"Mazda3\"}, {\"speed\": 103.0, \"time\": 5.07, \"image\": \"Mazda3_103.MP4\", \"vehicle\": \"Mazda3\"}, {\"speed\": 105.0, \"time\": 4.99, \"image\": \"Mazda3_105.MP4\", \"vehicle\": \"Mazda3\"}, {\"speed\": 30.0, \"time\": 5.23, \"image\": \"Mazda3_30.MP4\", \"vehicle\": \"Mazda3\"}, {\"speed\": 33.0, \"time\": 5.08, \"image\": \"Mazda3_33.MP4\", \"vehicle\": \"Mazda3\"}, {\"speed\": 35.0, \"time\": 5.12, \"image\": \"Mazda3_35.MP4\", \"vehicle\": \"Mazda3\"}, {\"speed\": 38.0, \"time\": 5.15, \"image\": \"Mazda3_38.MP4\", \"vehicle\": \"Mazda3\"}, {\"speed\": 40.0, \"time\": 5.02, \"image\": \"Mazda3_40.MP4\", \"vehicle\": \"Mazda3\"}, {\"speed\": 43.0, \"time\": 5.02, \"image\": \"Mazda3_43.MP4\", \"vehicle\": \"Mazda3\"}, {\"speed\": 45.0, \"time\": 5.31, \"image\": \"Mazda3_45.MP4\", \"vehicle\": \"Mazda3\"}, {\"speed\": 47.0, \"time\": 5.42, \"image\": \"Mazda3_47.MP4\", \"vehicle\": \"Mazda3\"}, {\"speed\": 50.0, \"time\": 5.62, \"image\": \"Mazda3_50.MP4\", \"vehicle\": \"Mazda3\"}, {\"speed\": 52.0, \"time\": 5.15, \"image\": \"Mazda3_52.MP4\", \"vehicle\": \"Mazda3\"}, {\"speed\": 55.0, \"time\": 5.68, \"image\": \"Mazda3_55.MP4\", \"vehicle\": \"Mazda3\"}, {\"speed\": 57.0, \"time\": 5.08, \"image\": \"Mazda3_57.MP4\", \"vehicle\": \"Mazda3\"}, {\"speed\": 60.0, \"time\": 5.09, \"image\": \"Mazda3_60.MP4\", \"vehicle\": \"Mazda3\"}, {\"speed\": 62.0, \"time\": 5.25, \"image\": \"Mazda3_62.MP4\", \"vehicle\": \"Mazda3\"}, {\"speed\": 64.0, \"time\": 5.02, \"image\": \"Mazda3_64.MP4\", \"vehicle\": \"Mazda3\"}, {\"speed\": 67.0, \"time\": 5.65, \"image\": \"Mazda3_67.MP4\", \"vehicle\": \"Mazda3\"}, {\"speed\": 70.0, \"time\": 5.05, \"image\": \"Mazda3_70.MP4\", \"vehicle\": \"Mazda3\"}, {\"speed\": 72.0, \"time\": 5.16, \"image\": \"Mazda3_72.MP4\", \"vehicle\": \"Mazda3\"}, {\"speed\": 75.0, \"time\": 5.02, \"image\": \"Mazda3_75.MP4\", \"vehicle\": \"Mazda3\"}, {\"speed\": 79.0, \"time\": 5.05, \"image\": \"Mazda3_79.MP4\", \"vehicle\": \"Mazda3\"}, {\"speed\": 81.0, \"time\": 5.22, \"image\": \"Mazda3_81.MP4\", \"vehicle\": \"Mazda3\"}, {\"speed\": 84.0, \"time\": 5.08, \"image\": \"Mazda3_84.MP4\", \"vehicle\": \"Mazda3\"}, {\"speed\": 86.0, \"time\": 5.19, \"image\": \"Mazda3_86.MP4\", \"vehicle\": \"Mazda3\"}, {\"speed\": 88.0, \"time\": 5.09, \"image\": \"Mazda3_88.MP4\", \"vehicle\": \"Mazda3\"}, {\"speed\": 90.0, \"time\": 5.11, \"image\": \"Mazda3_90.MP4\", \"vehicle\": \"Mazda3\"}, {\"speed\": 92.0, \"time\": 5.22, \"image\": \"Mazda3_92.MP4\", \"vehicle\": \"Mazda3\"}, {\"speed\": 94.0, \"time\": 5.04, \"image\": \"Mazda3_94.MP4\", \"vehicle\": \"Mazda3\"}, {\"speed\": 96.0, \"time\": 5.02, \"image\": \"Mazda3_96.MP4\", \"vehicle\": \"Mazda3\"}, {\"speed\": 99.0, \"time\": 4.98, \"image\": \"Mazda3_99.MP4\", \"vehicle\": \"Mazda3\"}, {\"speed\": 100.0, \"time\": 4.94, \"image\": \"MercedesAMG550_100.MP4\", \"vehicle\": \"MercedesAMG550\"}, {\"speed\": 105.0, \"time\": 4.45, \"image\": \"MercedesAMG550_105.MP4\", \"vehicle\": \"MercedesAMG550\"}, {\"speed\": 30.0, \"time\": 5.07, \"image\": \"MercedesAMG550_30.MP4\", \"vehicle\": \"MercedesAMG550\"}, {\"speed\": 33.0, \"time\": 5.68, \"image\": \"MercedesAMG550_33.MP4\", \"vehicle\": \"MercedesAMG550\"}, {\"speed\": 35.0, \"time\": 5.99, \"image\": \"MercedesAMG550_35.MP4\", \"vehicle\": \"MercedesAMG550\"}, {\"speed\": 38.0, \"time\": 5.88, \"image\": \"MercedesAMG550_38.MP4\", \"vehicle\": \"MercedesAMG550\"}, {\"speed\": 40.0, \"time\": 5.13, \"image\": \"MercedesAMG550_40.MP4\", \"vehicle\": \"MercedesAMG550\"}, {\"speed\": 42.0, \"time\": 6.28, \"image\": \"MercedesAMG550_42.MP4\", \"vehicle\": \"MercedesAMG550\"}, {\"speed\": 45.0, \"time\": 5.06, \"image\": \"MercedesAMG550_45.MP4\", \"vehicle\": \"MercedesAMG550\"}, {\"speed\": 47.0, \"time\": 5.67, \"image\": \"MercedesAMG550_47.MP4\", \"vehicle\": \"MercedesAMG550\"}, {\"speed\": 50.0, \"time\": 5.19, \"image\": \"MercedesAMG550_50.MP4\", \"vehicle\": \"MercedesAMG550\"}, {\"speed\": 52.0, \"time\": 5.89, \"image\": \"MercedesAMG550_52.MP4\", \"vehicle\": \"MercedesAMG550\"}, {\"speed\": 55.0, \"time\": 5.07, \"image\": \"MercedesAMG550_55.MP4\", \"vehicle\": \"MercedesAMG550\"}, {\"speed\": 58.0, \"time\": 5.65, \"image\": \"MercedesAMG550_58.MP4\", \"vehicle\": \"MercedesAMG550\"}, {\"speed\": 60.0, \"time\": 5.25, \"image\": \"MercedesAMG550_60.MP4\", \"vehicle\": \"MercedesAMG550\"}, {\"speed\": 62.0, \"time\": 5.38, \"image\": \"MercedesAMG550_62.MP4\", \"vehicle\": \"MercedesAMG550\"}, {\"speed\": 65.0, \"time\": 7.04, \"image\": \"MercedesAMG550_65.MP4\", \"vehicle\": \"MercedesAMG550\"}, {\"speed\": 67.0, \"time\": 5.76, \"image\": \"MercedesAMG550_67.MP4\", \"vehicle\": \"MercedesAMG550\"}, {\"speed\": 70.0, \"time\": 4.83, \"image\": \"MercedesAMG550_70.MP4\", \"vehicle\": \"MercedesAMG550\"}, {\"speed\": 73.0, \"time\": 5.63, \"image\": \"MercedesAMG550_73.MP4\", \"vehicle\": \"MercedesAMG550\"}, {\"speed\": 75.0, \"time\": 5.11, \"image\": \"MercedesAMG550_75.MP4\", \"vehicle\": \"MercedesAMG550\"}, {\"speed\": 78.0, \"time\": 6.11, \"image\": \"MercedesAMG550_78.MP4\", \"vehicle\": \"MercedesAMG550\"}, {\"speed\": 80.0, \"time\": 4.9, \"image\": \"MercedesAMG550_80.MP4\", \"vehicle\": \"MercedesAMG550\"}, {\"speed\": 82.0, \"time\": 5.82, \"image\": \"MercedesAMG550_82.MP4\", \"vehicle\": \"MercedesAMG550\"}, {\"speed\": 85.0, \"time\": 4.84, \"image\": \"MercedesAMG550_85.MP4\", \"vehicle\": \"MercedesAMG550\"}, {\"speed\": 87.0, \"time\": 5.41, \"image\": \"MercedesAMG550_87.MP4\", \"vehicle\": \"MercedesAMG550\"}, {\"speed\": 90.0, \"time\": 6.0, \"image\": \"MercedesAMG550_90.MP4\", \"vehicle\": \"MercedesAMG550\"}, {\"speed\": 93.0, \"time\": 5.68, \"image\": \"MercedesAMG550_93.MP4\", \"vehicle\": \"MercedesAMG550\"}, {\"speed\": 95.0, \"time\": 5.0, \"image\": \"MercedesAMG550_95.MP4\", \"vehicle\": \"MercedesAMG550\"}, {\"speed\": 98.0, \"time\": 5.44, \"image\": \"MercedesAMG550_98.MP4\", \"vehicle\": \"MercedesAMG550\"}, {\"speed\": 100.0, \"time\": 5.0, \"image\": \"MercedesGLA_100.MP4\", \"vehicle\": \"MercedesGLA\"}, {\"speed\": 101.0, \"time\": 5.01, \"image\": \"MercedesGLA_101.MP4\", \"vehicle\": \"MercedesGLA\"}, {\"speed\": 103.0, \"time\": 5.01, \"image\": \"MercedesGLA_103.MP4\", \"vehicle\": \"MercedesGLA\"}, {\"speed\": 104.0, \"time\": 5.01, \"image\": \"MercedesGLA_104.MP4\", \"vehicle\": \"MercedesGLA\"}, {\"speed\": 30.0, \"time\": 4.99, \"image\": \"MercedesGLA_30.MP4\", \"vehicle\": \"MercedesGLA\"}, {\"speed\": 33.0, \"time\": 4.98, \"image\": \"MercedesGLA_33.MP4\", \"vehicle\": \"MercedesGLA\"}, {\"speed\": 36.0, \"time\": 4.99, \"image\": \"MercedesGLA_36.MP4\", \"vehicle\": \"MercedesGLA\"}, {\"speed\": 39.0, \"time\": 5.0, \"image\": \"MercedesGLA_39.MP4\", \"vehicle\": \"MercedesGLA\"}, {\"speed\": 41.0, \"time\": 4.99, \"image\": \"MercedesGLA_41.MP4\", \"vehicle\": \"MercedesGLA\"}, {\"speed\": 42.0, \"time\": 5.0, \"image\": \"MercedesGLA_42.MP4\", \"vehicle\": \"MercedesGLA\"}, {\"speed\": 45.0, \"time\": 5.02, \"image\": \"MercedesGLA_45.MP4\", \"vehicle\": \"MercedesGLA\"}, {\"speed\": 47.0, \"time\": 5.0, \"image\": \"MercedesGLA_47.MP4\", \"vehicle\": \"MercedesGLA\"}, {\"speed\": 48.0, \"time\": 5.0, \"image\": \"MercedesGLA_48.MP4\", \"vehicle\": \"MercedesGLA\"}, {\"speed\": 49.0, \"time\": 5.01, \"image\": \"MercedesGLA_49.MP4\", \"vehicle\": \"MercedesGLA\"}, {\"speed\": 52.0, \"time\": 5.0, \"image\": \"MercedesGLA_52.MP4\", \"vehicle\": \"MercedesGLA\"}, {\"speed\": 54.0, \"time\": 5.0, \"image\": \"MercedesGLA_54.MP4\", \"vehicle\": \"MercedesGLA\"}, {\"speed\": 55.0, \"time\": 4.99, \"image\": \"MercedesGLA_55.MP4\", \"vehicle\": \"MercedesGLA\"}, {\"speed\": 59.0, \"time\": 5.01, \"image\": \"MercedesGLA_59.MP4\", \"vehicle\": \"MercedesGLA\"}, {\"speed\": 61.0, \"time\": 5.08, \"image\": \"MercedesGLA_61.MP4\", \"vehicle\": \"MercedesGLA\"}, {\"speed\": 63.0, \"time\": 4.99, \"image\": \"MercedesGLA_63.MP4\", \"vehicle\": \"MercedesGLA\"}, {\"speed\": 65.0, \"time\": 4.99, \"image\": \"MercedesGLA_65.MP4\", \"vehicle\": \"MercedesGLA\"}, {\"speed\": 68.0, \"time\": 4.99, \"image\": \"MercedesGLA_68.MP4\", \"vehicle\": \"MercedesGLA\"}, {\"speed\": 70.0, \"time\": 5.01, \"image\": \"MercedesGLA_70.MP4\", \"vehicle\": \"MercedesGLA\"}, {\"speed\": 72.0, \"time\": 5.0, \"image\": \"MercedesGLA_72.MP4\", \"vehicle\": \"MercedesGLA\"}, {\"speed\": 75.0, \"time\": 5.0, \"image\": \"MercedesGLA_75.MP4\", \"vehicle\": \"MercedesGLA\"}, {\"speed\": 78.0, \"time\": 5.0, \"image\": \"MercedesGLA_78.MP4\", \"vehicle\": \"MercedesGLA\"}, {\"speed\": 81.0, \"time\": 5.01, \"image\": \"MercedesGLA_81.MP4\", \"vehicle\": \"MercedesGLA\"}, {\"speed\": 83.0, \"time\": 5.01, \"image\": \"MercedesGLA_83.MP4\", \"vehicle\": \"MercedesGLA\"}, {\"speed\": 85.0, \"time\": 5.01, \"image\": \"MercedesGLA_85.MP4\", \"vehicle\": \"MercedesGLA\"}, {\"speed\": 88.0, \"time\": 4.99, \"image\": \"MercedesGLA_88.MP4\", \"vehicle\": \"MercedesGLA\"}, {\"speed\": 90.0, \"time\": 5.1, \"image\": \"MercedesGLA_90.MP4\", \"vehicle\": \"MercedesGLA\"}, {\"speed\": 92.0, \"time\": 5.01, \"image\": \"MercedesGLA_92.MP4\", \"vehicle\": \"MercedesGLA\"}, {\"speed\": 93.0, \"time\": 4.99, \"image\": \"MercedesGLA_93.MP4\", \"vehicle\": \"MercedesGLA\"}, {\"speed\": 96.0, \"time\": 5.0, \"image\": \"MercedesGLA_96.MP4\", \"vehicle\": \"MercedesGLA\"}, {\"speed\": 102.0, \"time\": 5.62, \"image\": \"NissanQashqai_102.MP4\", \"vehicle\": \"NissanQashqai\"}, {\"speed\": 35.0, \"time\": 6.1, \"image\": \"NissanQashqai_35.MP4\", \"vehicle\": \"NissanQashqai\"}, {\"speed\": 38.0, \"time\": 6.19, \"image\": \"NissanQashqai_38.MP4\", \"vehicle\": \"NissanQashqai\"}, {\"speed\": 40.0, \"time\": 5.21, \"image\": \"NissanQashqai_40.MP4\", \"vehicle\": \"NissanQashqai\"}, {\"speed\": 42.0, \"time\": 5.14, \"image\": \"NissanQashqai_42.MP4\", \"vehicle\": \"NissanQashqai\"}, {\"speed\": 45.0, \"time\": 6.01, \"image\": \"NissanQashqai_45.MP4\", \"vehicle\": \"NissanQashqai\"}, {\"speed\": 48.0, \"time\": 5.21, \"image\": \"NissanQashqai_48.MP4\", \"vehicle\": \"NissanQashqai\"}, {\"speed\": 50.0, \"time\": 5.85, \"image\": \"NissanQashqai_50.MP4\", \"vehicle\": \"NissanQashqai\"}, {\"speed\": 53.0, \"time\": 5.99, \"image\": \"NissanQashqai_53.MP4\", \"vehicle\": \"NissanQashqai\"}, {\"speed\": 55.0, \"time\": 5.9, \"image\": \"NissanQashqai_55.MP4\", \"vehicle\": \"NissanQashqai\"}, {\"speed\": 58.0, \"time\": 5.61, \"image\": \"NissanQashqai_58.MP4\", \"vehicle\": \"NissanQashqai\"}, {\"speed\": 60.0, \"time\": 5.58, \"image\": \"NissanQashqai_60.MP4\", \"vehicle\": \"NissanQashqai\"}, {\"speed\": 61.0, \"time\": 6.08, \"image\": \"NissanQashqai_61.MP4\", \"vehicle\": \"NissanQashqai\"}, {\"speed\": 64.0, \"time\": 5.92, \"image\": \"NissanQashqai_64.MP4\", \"vehicle\": \"NissanQashqai\"}, {\"speed\": 65.0, \"time\": 5.58, \"image\": \"NissanQashqai_65.MP4\", \"vehicle\": \"NissanQashqai\"}, {\"speed\": 68.0, \"time\": 5.98, \"image\": \"NissanQashqai_68.MP4\", \"vehicle\": \"NissanQashqai\"}, {\"speed\": 70.0, \"time\": 6.04, \"image\": \"NissanQashqai_70.MP4\", \"vehicle\": \"NissanQashqai\"}, {\"speed\": 73.0, \"time\": 6.14, \"image\": \"NissanQashqai_73.MP4\", \"vehicle\": \"NissanQashqai\"}, {\"speed\": 75.0, \"time\": 6.01, \"image\": \"NissanQashqai_75.MP4\", \"vehicle\": \"NissanQashqai\"}, {\"speed\": 78.0, \"time\": 5.9, \"image\": \"NissanQashqai_78.MP4\", \"vehicle\": \"NissanQashqai\"}, {\"speed\": 80.0, \"time\": 5.79, \"image\": \"NissanQashqai_80.MP4\", \"vehicle\": \"NissanQashqai\"}, {\"speed\": 82.0, \"time\": 5.72, \"image\": \"NissanQashqai_82.MP4\", \"vehicle\": \"NissanQashqai\"}, {\"speed\": 85.0, \"time\": 5.91, \"image\": \"NissanQashqai_85.MP4\", \"vehicle\": \"NissanQashqai\"}, {\"speed\": 88.0, \"time\": 6.13, \"image\": \"NissanQashqai_88.MP4\", \"vehicle\": \"NissanQashqai\"}, {\"speed\": 90.0, \"time\": 5.52, \"image\": \"NissanQashqai_90.MP4\", \"vehicle\": \"NissanQashqai\"}, {\"speed\": 93.0, \"time\": 5.79, \"image\": \"NissanQashqai_93.MP4\", \"vehicle\": \"NissanQashqai\"}, {\"speed\": 94.0, \"time\": 5.28, \"image\": \"NissanQashqai_94.MP4\", \"vehicle\": \"NissanQashqai\"}, {\"speed\": 96.0, \"time\": 5.58, \"image\": \"NissanQashqai_96.MP4\", \"vehicle\": \"NissanQashqai\"}, {\"speed\": 98.0, \"time\": 5.38, \"image\": \"NissanQashqai_98.MP4\", \"vehicle\": \"NissanQashqai\"}, {\"speed\": 100.0, \"time\": 5.02, \"image\": \"OpelInsignia_100.MP4\", \"vehicle\": \"OpelInsignia\"}, {\"speed\": 31.0, \"time\": 6.05, \"image\": \"OpelInsignia_31.MP4\", \"vehicle\": \"OpelInsignia\"}, {\"speed\": 35.0, \"time\": 5.92, \"image\": \"OpelInsignia_35.MP4\", \"vehicle\": \"OpelInsignia\"}, {\"speed\": 38.0, \"time\": 6.68, \"image\": \"OpelInsignia_38.MP4\", \"vehicle\": \"OpelInsignia\"}, {\"speed\": 41.0, \"time\": 6.51, \"image\": \"OpelInsignia_41.MP4\", \"vehicle\": \"OpelInsignia\"}, {\"speed\": 44.0, \"time\": 5.92, \"image\": \"OpelInsignia_44.MP4\", \"vehicle\": \"OpelInsignia\"}, {\"speed\": 47.0, \"time\": 5.91, \"image\": \"OpelInsignia_47.MP4\", \"vehicle\": \"OpelInsignia\"}, {\"speed\": 50.0, \"time\": 6.42, \"image\": \"OpelInsignia_50.MP4\", \"vehicle\": \"OpelInsignia\"}, {\"speed\": 53.0, \"time\": 5.71, \"image\": \"OpelInsignia_53.MP4\", \"vehicle\": \"OpelInsignia\"}, {\"speed\": 55.0, \"time\": 5.51, \"image\": \"OpelInsignia_55.MP4\", \"vehicle\": \"OpelInsignia\"}, {\"speed\": 58.0, \"time\": 5.48, \"image\": \"OpelInsignia_58.MP4\", \"vehicle\": \"OpelInsignia\"}, {\"speed\": 61.0, \"time\": 5.54, \"image\": \"OpelInsignia_61.MP4\", \"vehicle\": \"OpelInsignia\"}, {\"speed\": 64.0, \"time\": 5.74, \"image\": \"OpelInsignia_64.MP4\", \"vehicle\": \"OpelInsignia\"}, {\"speed\": 66.0, \"time\": 5.35, \"image\": \"OpelInsignia_66.MP4\", \"vehicle\": \"OpelInsignia\"}, {\"speed\": 68.0, \"time\": 5.25, \"image\": \"OpelInsignia_68.MP4\", \"vehicle\": \"OpelInsignia\"}, {\"speed\": 70.0, \"time\": 5.91, \"image\": \"OpelInsignia_70.MP4\", \"vehicle\": \"OpelInsignia\"}, {\"speed\": 72.0, \"time\": 6.09, \"image\": \"OpelInsignia_72.MP4\", \"vehicle\": \"OpelInsignia\"}, {\"speed\": 73.0, \"time\": 5.39, \"image\": \"OpelInsignia_73.MP4\", \"vehicle\": \"OpelInsignia\"}, {\"speed\": 76.0, \"time\": 6.22, \"image\": \"OpelInsignia_76.MP4\", \"vehicle\": \"OpelInsignia\"}, {\"speed\": 78.0, \"time\": 5.21, \"image\": \"OpelInsignia_78.MP4\", \"vehicle\": \"OpelInsignia\"}, {\"speed\": 80.0, \"time\": 6.24, \"image\": \"OpelInsignia_80.MP4\", \"vehicle\": \"OpelInsignia\"}, {\"speed\": 83.0, \"time\": 6.02, \"image\": \"OpelInsignia_83.MP4\", \"vehicle\": \"OpelInsignia\"}, {\"speed\": 86.0, \"time\": 5.51, \"image\": \"OpelInsignia_86.MP4\", \"vehicle\": \"OpelInsignia\"}, {\"speed\": 89.0, \"time\": 5.59, \"image\": \"OpelInsignia_89.MP4\", \"vehicle\": \"OpelInsignia\"}, {\"speed\": 91.0, \"time\": 5.38, \"image\": \"OpelInsignia_91.MP4\", \"vehicle\": \"OpelInsignia\"}, {\"speed\": 94.0, \"time\": 5.81, \"image\": \"OpelInsignia_94.MP4\", \"vehicle\": \"OpelInsignia\"}, {\"speed\": 97.0, \"time\": 5.72, \"image\": \"OpelInsignia_97.MP4\", \"vehicle\": \"OpelInsignia\"}, {\"speed\": 30.0, \"time\": 5.14, \"image\": \"Peugeot208_30.MP4\", \"vehicle\": \"Peugeot208\"}, {\"speed\": 32.0, \"time\": 5.04, \"image\": \"Peugeot208_32.MP4\", \"vehicle\": \"Peugeot208\"}, {\"speed\": 34.0, \"time\": 5.04, \"image\": \"Peugeot208_34.MP4\", \"vehicle\": \"Peugeot208\"}, {\"speed\": 37.0, \"time\": 5.15, \"image\": \"Peugeot208_37.MP4\", \"vehicle\": \"Peugeot208\"}, {\"speed\": 40.0, \"time\": 5.14, \"image\": \"Peugeot208_40.MP4\", \"vehicle\": \"Peugeot208\"}, {\"speed\": 43.0, \"time\": 5.1, \"image\": \"Peugeot208_43.MP4\", \"vehicle\": \"Peugeot208\"}, {\"speed\": 45.0, \"time\": 5.12, \"image\": \"Peugeot208_45.MP4\", \"vehicle\": \"Peugeot208\"}, {\"speed\": 47.0, \"time\": 5.02, \"image\": \"Peugeot208_47.MP4\", \"vehicle\": \"Peugeot208\"}, {\"speed\": 50.0, \"time\": 4.93, \"image\": \"Peugeot208_50.MP4\", \"vehicle\": \"Peugeot208\"}, {\"speed\": 51.0, \"time\": 5.52, \"image\": \"Peugeot208_51.MP4\", \"vehicle\": \"Peugeot208\"}, {\"speed\": 54.0, \"time\": 5.17, \"image\": \"Peugeot208_54.MP4\", \"vehicle\": \"Peugeot208\"}, {\"speed\": 57.0, \"time\": 5.51, \"image\": \"Peugeot208_57.MP4\", \"vehicle\": \"Peugeot208\"}, {\"speed\": 60.0, \"time\": 5.06, \"image\": \"Peugeot208_60.MP4\", \"vehicle\": \"Peugeot208\"}, {\"speed\": 62.0, \"time\": 5.09, \"image\": \"Peugeot208_62.MP4\", \"vehicle\": \"Peugeot208\"}, {\"speed\": 64.0, \"time\": 5.22, \"image\": \"Peugeot208_64.MP4\", \"vehicle\": \"Peugeot208\"}, {\"speed\": 67.0, \"time\": 5.03, \"image\": \"Peugeot208_67.MP4\", \"vehicle\": \"Peugeot208\"}, {\"speed\": 68.0, \"time\": 5.18, \"image\": \"Peugeot208_68.MP4\", \"vehicle\": \"Peugeot208\"}, {\"speed\": 71.0, \"time\": 5.16, \"image\": \"Peugeot208_71.MP4\", \"vehicle\": \"Peugeot208\"}, {\"speed\": 73.0, \"time\": 4.99, \"image\": \"Peugeot208_73.MP4\", \"vehicle\": \"Peugeot208\"}, {\"speed\": 76.0, \"time\": 5.61, \"image\": \"Peugeot208_76.MP4\", \"vehicle\": \"Peugeot208\"}, {\"speed\": 77.0, \"time\": 6.26, \"image\": \"Peugeot208_77.MP4\", \"vehicle\": \"Peugeot208\"}, {\"speed\": 79.0, \"time\": 5.22, \"image\": \"Peugeot208_79.MP4\", \"vehicle\": \"Peugeot208\"}, {\"speed\": 82.0, \"time\": 5.17, \"image\": \"Peugeot208_82.MP4\", \"vehicle\": \"Peugeot208\"}, {\"speed\": 84.0, \"time\": 5.12, \"image\": \"Peugeot208_84.MP4\", \"vehicle\": \"Peugeot208\"}, {\"speed\": 87.0, \"time\": 5.48, \"image\": \"Peugeot208_87.MP4\", \"vehicle\": \"Peugeot208\"}, {\"speed\": 90.0, \"time\": 5.18, \"image\": \"Peugeot208_90.MP4\", \"vehicle\": \"Peugeot208\"}, {\"speed\": 92.0, \"time\": 5.48, \"image\": \"Peugeot208_92.MP4\", \"vehicle\": \"Peugeot208\"}, {\"speed\": 95.0, \"time\": 5.59, \"image\": \"Peugeot208_95.MP4\", \"vehicle\": \"Peugeot208\"}, {\"speed\": 96.0, \"time\": 5.43, \"image\": \"Peugeot208_96.MP4\", \"vehicle\": \"Peugeot208\"}, {\"speed\": 100.0, \"time\": 5.5, \"image\": \"Peugeot3008_100.MP4\", \"vehicle\": \"Peugeot3008\"}, {\"speed\": 40.0, \"time\": 6.01, \"image\": \"Peugeot3008_40.MP4\", \"vehicle\": \"Peugeot3008\"}, {\"speed\": 43.0, \"time\": 4.93, \"image\": \"Peugeot3008_43.MP4\", \"vehicle\": \"Peugeot3008\"}, {\"speed\": 45.0, \"time\": 6.0, \"image\": \"Peugeot3008_45.MP4\", \"vehicle\": \"Peugeot3008\"}, {\"speed\": 47.0, \"time\": 5.89, \"image\": \"Peugeot3008_47.MP4\", \"vehicle\": \"Peugeot3008\"}, {\"speed\": 50.0, \"time\": 5.99, \"image\": \"Peugeot3008_50.MP4\", \"vehicle\": \"Peugeot3008\"}, {\"speed\": 52.0, \"time\": 6.86, \"image\": \"Peugeot3008_52.MP4\", \"vehicle\": \"Peugeot3008\"}, {\"speed\": 54.0, \"time\": 5.84, \"image\": \"Peugeot3008_54.MP4\", \"vehicle\": \"Peugeot3008\"}, {\"speed\": 55.0, \"time\": 6.02, \"image\": \"Peugeot3008_55.MP4\", \"vehicle\": \"Peugeot3008\"}, {\"speed\": 56.0, \"time\": 5.71, \"image\": \"Peugeot3008_56.MP4\", \"vehicle\": \"Peugeot3008\"}, {\"speed\": 58.0, \"time\": 4.89, \"image\": \"Peugeot3008_58.MP4\", \"vehicle\": \"Peugeot3008\"}, {\"speed\": 60.0, \"time\": 5.99, \"image\": \"Peugeot3008_60.MP4\", \"vehicle\": \"Peugeot3008\"}, {\"speed\": 61.0, \"time\": 5.43, \"image\": \"Peugeot3008_61.MP4\", \"vehicle\": \"Peugeot3008\"}, {\"speed\": 63.0, \"time\": 7.22, \"image\": \"Peugeot3008_63.MP4\", \"vehicle\": \"Peugeot3008\"}, {\"speed\": 65.0, \"time\": 6.0, \"image\": \"Peugeot3008_65.MP4\", \"vehicle\": \"Peugeot3008\"}, {\"speed\": 67.0, \"time\": 5.69, \"image\": \"Peugeot3008_67.MP4\", \"vehicle\": \"Peugeot3008\"}, {\"speed\": 68.0, \"time\": 5.97, \"image\": \"Peugeot3008_68.MP4\", \"vehicle\": \"Peugeot3008\"}, {\"speed\": 70.0, \"time\": 6.0, \"image\": \"Peugeot3008_70.MP4\", \"vehicle\": \"Peugeot3008\"}, {\"speed\": 72.0, \"time\": 5.53, \"image\": \"Peugeot3008_72.MP4\", \"vehicle\": \"Peugeot3008\"}, {\"speed\": 74.0, \"time\": 5.88, \"image\": \"Peugeot3008_74.MP4\", \"vehicle\": \"Peugeot3008\"}, {\"speed\": 75.0, \"time\": 6.09, \"image\": \"Peugeot3008_75.MP4\", \"vehicle\": \"Peugeot3008\"}, {\"speed\": 78.0, \"time\": 5.6, \"image\": \"Peugeot3008_78.MP4\", \"vehicle\": \"Peugeot3008\"}, {\"speed\": 80.0, \"time\": 6.01, \"image\": \"Peugeot3008_80.MP4\", \"vehicle\": \"Peugeot3008\"}, {\"speed\": 83.0, \"time\": 6.62, \"image\": \"Peugeot3008_83.MP4\", \"vehicle\": \"Peugeot3008\"}, {\"speed\": 85.0, \"time\": 6.38, \"image\": \"Peugeot3008_85.MP4\", \"vehicle\": \"Peugeot3008\"}, {\"speed\": 87.0, \"time\": 5.35, \"image\": \"Peugeot3008_87.MP4\", \"vehicle\": \"Peugeot3008\"}, {\"speed\": 89.0, \"time\": 5.15, \"image\": \"Peugeot3008_89.MP4\", \"vehicle\": \"Peugeot3008\"}, {\"speed\": 90.0, \"time\": 5.99, \"image\": \"Peugeot3008_90.MP4\", \"vehicle\": \"Peugeot3008\"}, {\"speed\": 92.0, \"time\": 5.37, \"image\": \"Peugeot3008_92.MP4\", \"vehicle\": \"Peugeot3008\"}, {\"speed\": 95.0, \"time\": 6.1, \"image\": \"Peugeot3008_95.MP4\", \"vehicle\": \"Peugeot3008\"}, {\"speed\": 97.0, \"time\": 6.39, \"image\": \"Peugeot3008_97.MP4\", \"vehicle\": \"Peugeot3008\"}, {\"speed\": 101.0, \"time\": 5.45, \"image\": \"Peugeot307_101.MP4\", \"vehicle\": \"Peugeot307\"}, {\"speed\": 103.0, \"time\": 5.86, \"image\": \"Peugeot307_103.MP4\", \"vehicle\": \"Peugeot307\"}, {\"speed\": 30.0, \"time\": 5.52, \"image\": \"Peugeot307_30.MP4\", \"vehicle\": \"Peugeot307\"}, {\"speed\": 33.0, \"time\": 5.62, \"image\": \"Peugeot307_33.MP4\", \"vehicle\": \"Peugeot307\"}, {\"speed\": 35.0, \"time\": 5.55, \"image\": \"Peugeot307_35.MP4\", \"vehicle\": \"Peugeot307\"}, {\"speed\": 38.0, \"time\": 5.08, \"image\": \"Peugeot307_38.MP4\", \"vehicle\": \"Peugeot307\"}, {\"speed\": 40.0, \"time\": 5.02, \"image\": \"Peugeot307_40.MP4\", \"vehicle\": \"Peugeot307\"}, {\"speed\": 43.0, \"time\": 4.95, \"image\": \"Peugeot307_43.MP4\", \"vehicle\": \"Peugeot307\"}, {\"speed\": 45.0, \"time\": 5.18, \"image\": \"Peugeot307_45.MP4\", \"vehicle\": \"Peugeot307\"}, {\"speed\": 47.0, \"time\": 4.99, \"image\": \"Peugeot307_47.MP4\", \"vehicle\": \"Peugeot307\"}, {\"speed\": 48.0, \"time\": 4.97, \"image\": \"Peugeot307_48.MP4\", \"vehicle\": \"Peugeot307\"}, {\"speed\": 50.0, \"time\": 5.18, \"image\": \"Peugeot307_50.MP4\", \"vehicle\": \"Peugeot307\"}, {\"speed\": 53.0, \"time\": 4.98, \"image\": \"Peugeot307_53.MP4\", \"vehicle\": \"Peugeot307\"}, {\"speed\": 56.0, \"time\": 5.45, \"image\": \"Peugeot307_56.MP4\", \"vehicle\": \"Peugeot307\"}, {\"speed\": 59.0, \"time\": 4.97, \"image\": \"Peugeot307_59.MP4\", \"vehicle\": \"Peugeot307\"}, {\"speed\": 60.0, \"time\": 6.33, \"image\": \"Peugeot307_60.MP4\", \"vehicle\": \"Peugeot307\"}, {\"speed\": 63.0, \"time\": 5.08, \"image\": \"Peugeot307_63.MP4\", \"vehicle\": \"Peugeot307\"}, {\"speed\": 66.0, \"time\": 5.18, \"image\": \"Peugeot307_66.MP4\", \"vehicle\": \"Peugeot307\"}, {\"speed\": 69.0, \"time\": 4.85, \"image\": \"Peugeot307_69.MP4\", \"vehicle\": \"Peugeot307\"}, {\"speed\": 72.0, \"time\": 4.6, \"image\": \"Peugeot307_72.MP4\", \"vehicle\": \"Peugeot307\"}, {\"speed\": 73.0, \"time\": 4.95, \"image\": \"Peugeot307_73.MP4\", \"vehicle\": \"Peugeot307\"}, {\"speed\": 76.0, \"time\": 4.9, \"image\": \"Peugeot307_76.MP4\", \"vehicle\": \"Peugeot307\"}, {\"speed\": 79.0, \"time\": 4.93, \"image\": \"Peugeot307_79.MP4\", \"vehicle\": \"Peugeot307\"}, {\"speed\": 82.0, \"time\": 5.22, \"image\": \"Peugeot307_82.MP4\", \"vehicle\": \"Peugeot307\"}, {\"speed\": 85.0, \"time\": 5.25, \"image\": \"Peugeot307_85.MP4\", \"vehicle\": \"Peugeot307\"}, {\"speed\": 88.0, \"time\": 4.94, \"image\": \"Peugeot307_88.MP4\", \"vehicle\": \"Peugeot307\"}, {\"speed\": 91.0, \"time\": 5.05, \"image\": \"Peugeot307_91.MP4\", \"vehicle\": \"Peugeot307\"}, {\"speed\": 94.0, \"time\": 4.75, \"image\": \"Peugeot307_94.MP4\", \"vehicle\": \"Peugeot307\"}, {\"speed\": 97.0, \"time\": 4.95, \"image\": \"Peugeot307_97.MP4\", \"vehicle\": \"Peugeot307\"}, {\"speed\": 100.0, \"time\": 5.19, \"image\": \"RenaultCaptur_100.MP4\", \"vehicle\": \"RenaultCaptur\"}, {\"speed\": 102.0, \"time\": 5.34, \"image\": \"RenaultCaptur_102.MP4\", \"vehicle\": \"RenaultCaptur\"}, {\"speed\": 30.0, \"time\": 5.55, \"image\": \"RenaultCaptur_30.MP4\", \"vehicle\": \"RenaultCaptur\"}, {\"speed\": 33.0, \"time\": 5.85, \"image\": \"RenaultCaptur_33.MP4\", \"vehicle\": \"RenaultCaptur\"}, {\"speed\": 36.0, \"time\": 5.32, \"image\": \"RenaultCaptur_36.MP4\", \"vehicle\": \"RenaultCaptur\"}, {\"speed\": 38.0, \"time\": 5.44, \"image\": \"RenaultCaptur_38.MP4\", \"vehicle\": \"RenaultCaptur\"}, {\"speed\": 40.0, \"time\": 5.29, \"image\": \"RenaultCaptur_40.MP4\", \"vehicle\": \"RenaultCaptur\"}, {\"speed\": 41.0, \"time\": 5.36, \"image\": \"RenaultCaptur_41.MP4\", \"vehicle\": \"RenaultCaptur\"}, {\"speed\": 44.0, \"time\": 5.3, \"image\": \"RenaultCaptur_44.MP4\", \"vehicle\": \"RenaultCaptur\"}, {\"speed\": 46.0, \"time\": 4.68, \"image\": \"RenaultCaptur_46.MP4\", \"vehicle\": \"RenaultCaptur\"}, {\"speed\": 47.0, \"time\": 5.28, \"image\": \"RenaultCaptur_47.MP4\", \"vehicle\": \"RenaultCaptur\"}, {\"speed\": 48.0, \"time\": 5.57, \"image\": \"RenaultCaptur_48.MP4\", \"vehicle\": \"RenaultCaptur\"}, {\"speed\": 50.0, \"time\": 5.09, \"image\": \"RenaultCaptur_50.MP4\", \"vehicle\": \"RenaultCaptur\"}, {\"speed\": 52.0, \"time\": 5.53, \"image\": \"RenaultCaptur_52.MP4\", \"vehicle\": \"RenaultCaptur\"}, {\"speed\": 56.0, \"time\": 5.21, \"image\": \"RenaultCaptur_56.MP4\", \"vehicle\": \"RenaultCaptur\"}, {\"speed\": 58.0, \"time\": 5.32, \"image\": \"RenaultCaptur_58.MP4\", \"vehicle\": \"RenaultCaptur\"}, {\"speed\": 60.0, \"time\": 5.39, \"image\": \"RenaultCaptur_60.MP4\", \"vehicle\": \"RenaultCaptur\"}, {\"speed\": 63.0, \"time\": 5.42, \"image\": \"RenaultCaptur_63.MP4\", \"vehicle\": \"RenaultCaptur\"}, {\"speed\": 66.0, \"time\": 5.01, \"image\": \"RenaultCaptur_66.MP4\", \"vehicle\": \"RenaultCaptur\"}, {\"speed\": 68.0, \"time\": 5.15, \"image\": \"RenaultCaptur_68.MP4\", \"vehicle\": \"RenaultCaptur\"}, {\"speed\": 70.0, \"time\": 5.75, \"image\": \"RenaultCaptur_70.MP4\", \"vehicle\": \"RenaultCaptur\"}, {\"speed\": 72.0, \"time\": 5.08, \"image\": \"RenaultCaptur_72.MP4\", \"vehicle\": \"RenaultCaptur\"}, {\"speed\": 76.0, \"time\": 5.94, \"image\": \"RenaultCaptur_76.MP4\", \"vehicle\": \"RenaultCaptur\"}, {\"speed\": 78.0, \"time\": 5.32, \"image\": \"RenaultCaptur_78.MP4\", \"vehicle\": \"RenaultCaptur\"}, {\"speed\": 80.0, \"time\": 4.79, \"image\": \"RenaultCaptur_80.MP4\", \"vehicle\": \"RenaultCaptur\"}, {\"speed\": 83.0, \"time\": 5.59, \"image\": \"RenaultCaptur_83.MP4\", \"vehicle\": \"RenaultCaptur\"}, {\"speed\": 86.0, \"time\": 5.18, \"image\": \"RenaultCaptur_86.MP4\", \"vehicle\": \"RenaultCaptur\"}, {\"speed\": 88.0, \"time\": 5.24, \"image\": \"RenaultCaptur_88.MP4\", \"vehicle\": \"RenaultCaptur\"}, {\"speed\": 90.0, \"time\": 5.61, \"image\": \"RenaultCaptur_90.MP4\", \"vehicle\": \"RenaultCaptur\"}, {\"speed\": 92.0, \"time\": 5.64, \"image\": \"RenaultCaptur_92.MP4\", \"vehicle\": \"RenaultCaptur\"}, {\"speed\": 94.0, \"time\": 5.06, \"image\": \"RenaultCaptur_94.MP4\", \"vehicle\": \"RenaultCaptur\"}, {\"speed\": 97.0, \"time\": 6.02, \"image\": \"RenaultCaptur_97.MP4\", \"vehicle\": \"RenaultCaptur\"}, {\"speed\": 98.0, \"time\": 5.11, \"image\": \"RenaultCaptur_98.MP4\", \"vehicle\": \"RenaultCaptur\"}, {\"speed\": 101.0, \"time\": 6.17, \"image\": \"RenaultScenic_101.MP4\", \"vehicle\": \"RenaultScenic\"}, {\"speed\": 30.0, \"time\": 6.0, \"image\": \"RenaultScenic_30.MP4\", \"vehicle\": \"RenaultScenic\"}, {\"speed\": 35.0, \"time\": 6.82, \"image\": \"RenaultScenic_35.MP4\", \"vehicle\": \"RenaultScenic\"}, {\"speed\": 36.0, \"time\": 6.01, \"image\": \"RenaultScenic_36.MP4\", \"vehicle\": \"RenaultScenic\"}, {\"speed\": 38.0, \"time\": 6.03, \"image\": \"RenaultScenic_38.MP4\", \"vehicle\": \"RenaultScenic\"}, {\"speed\": 40.0, \"time\": 6.7, \"image\": \"RenaultScenic_40.MP4\", \"vehicle\": \"RenaultScenic\"}, {\"speed\": 42.0, \"time\": 5.83, \"image\": \"RenaultScenic_42.MP4\", \"vehicle\": \"RenaultScenic\"}, {\"speed\": 44.0, \"time\": 5.27, \"image\": \"RenaultScenic_44.MP4\", \"vehicle\": \"RenaultScenic\"}, {\"speed\": 46.0, \"time\": 6.75, \"image\": \"RenaultScenic_46.MP4\", \"vehicle\": \"RenaultScenic\"}, {\"speed\": 48.0, \"time\": 5.75, \"image\": \"RenaultScenic_48.MP4\", \"vehicle\": \"RenaultScenic\"}, {\"speed\": 50.0, \"time\": 7.25, \"image\": \"RenaultScenic_50.MP4\", \"vehicle\": \"RenaultScenic\"}, {\"speed\": 52.0, \"time\": 5.25, \"image\": \"RenaultScenic_52.MP4\", \"vehicle\": \"RenaultScenic\"}, {\"speed\": 54.0, \"time\": 5.46, \"image\": \"RenaultScenic_54.MP4\", \"vehicle\": \"RenaultScenic\"}, {\"speed\": 57.0, \"time\": 6.6, \"image\": \"RenaultScenic_57.MP4\", \"vehicle\": \"RenaultScenic\"}, {\"speed\": 60.0, \"time\": 6.12, \"image\": \"RenaultScenic_60.MP4\", \"vehicle\": \"RenaultScenic\"}, {\"speed\": 62.0, \"time\": 6.05, \"image\": \"RenaultScenic_62.MP4\", \"vehicle\": \"RenaultScenic\"}, {\"speed\": 64.0, \"time\": 5.76, \"image\": \"RenaultScenic_64.MP4\", \"vehicle\": \"RenaultScenic\"}, {\"speed\": 66.0, \"time\": 5.35, \"image\": \"RenaultScenic_66.MP4\", \"vehicle\": \"RenaultScenic\"}, {\"speed\": 68.0, \"time\": 6.57, \"image\": \"RenaultScenic_68.MP4\", \"vehicle\": \"RenaultScenic\"}, {\"speed\": 70.0, \"time\": 5.85, \"image\": \"RenaultScenic_70.MP4\", \"vehicle\": \"RenaultScenic\"}, {\"speed\": 71.0, \"time\": 5.99, \"image\": \"RenaultScenic_71.MP4\", \"vehicle\": \"RenaultScenic\"}, {\"speed\": 72.0, \"time\": 5.23, \"image\": \"RenaultScenic_72.MP4\", \"vehicle\": \"RenaultScenic\"}, {\"speed\": 74.0, \"time\": 5.7, \"image\": \"RenaultScenic_74.MP4\", \"vehicle\": \"RenaultScenic\"}, {\"speed\": 75.0, \"time\": 5.45, \"image\": \"RenaultScenic_75.MP4\", \"vehicle\": \"RenaultScenic\"}, {\"speed\": 77.0, \"time\": 7.32, \"image\": \"RenaultScenic_77.MP4\", \"vehicle\": \"RenaultScenic\"}, {\"speed\": 80.0, \"time\": 7.01, \"image\": \"RenaultScenic_80.MP4\", \"vehicle\": \"RenaultScenic\"}, {\"speed\": 82.0, \"time\": 6.06, \"image\": \"RenaultScenic_82.MP4\", \"vehicle\": \"RenaultScenic\"}, {\"speed\": 84.0, \"time\": 5.39, \"image\": \"RenaultScenic_84.MP4\", \"vehicle\": \"RenaultScenic\"}, {\"speed\": 86.0, \"time\": 5.65, \"image\": \"RenaultScenic_86.MP4\", \"vehicle\": \"RenaultScenic\"}, {\"speed\": 87.0, \"time\": 6.0, \"image\": \"RenaultScenic_87.MP4\", \"vehicle\": \"RenaultScenic\"}, {\"speed\": 90.0, \"time\": 5.09, \"image\": \"RenaultScenic_90.MP4\", \"vehicle\": \"RenaultScenic\"}, {\"speed\": 91.0, \"time\": 6.21, \"image\": \"RenaultScenic_91.MP4\", \"vehicle\": \"RenaultScenic\"}, {\"speed\": 94.0, \"time\": 6.18, \"image\": \"RenaultScenic_94.MP4\", \"vehicle\": \"RenaultScenic\"}, {\"speed\": 95.0, \"time\": 6.23, \"image\": \"RenaultScenic_95.MP4\", \"vehicle\": \"RenaultScenic\"}, {\"speed\": 98.0, \"time\": 5.38, \"image\": \"RenaultScenic_98.MP4\", \"vehicle\": \"RenaultScenic\"}, {\"speed\": 100.0, \"time\": 6.01, \"image\": \"VWPassat_100.MP4\", \"vehicle\": \"VWPassat\"}, {\"speed\": 30.0, \"time\": 6.46, \"image\": \"VWPassat_30.MP4\", \"vehicle\": \"VWPassat\"}, {\"speed\": 35.0, \"time\": 5.92, \"image\": \"VWPassat_35.MP4\", \"vehicle\": \"VWPassat\"}, {\"speed\": 39.0, \"time\": 5.27, \"image\": \"VWPassat_39.MP4\", \"vehicle\": \"VWPassat\"}, {\"speed\": 40.0, \"time\": 6.53, \"image\": \"VWPassat_40.MP4\", \"vehicle\": \"VWPassat\"}, {\"speed\": 42.0, \"time\": 6.72, \"image\": \"VWPassat_42.MP4\", \"vehicle\": \"VWPassat\"}, {\"speed\": 45.0, \"time\": 6.35, \"image\": \"VWPassat_45.MP4\", \"vehicle\": \"VWPassat\"}, {\"speed\": 47.0, \"time\": 5.25, \"image\": \"VWPassat_47.MP4\", \"vehicle\": \"VWPassat\"}, {\"speed\": 49.0, \"time\": 5.27, \"image\": \"VWPassat_49.MP4\", \"vehicle\": \"VWPassat\"}, {\"speed\": 50.0, \"time\": 6.0, \"image\": \"VWPassat_50.MP4\", \"vehicle\": \"VWPassat\"}, {\"speed\": 52.0, \"time\": 6.02, \"image\": \"VWPassat_52.MP4\", \"vehicle\": \"VWPassat\"}, {\"speed\": 54.0, \"time\": 5.54, \"image\": \"VWPassat_54.MP4\", \"vehicle\": \"VWPassat\"}, {\"speed\": 55.0, \"time\": 6.02, \"image\": \"VWPassat_55.MP4\", \"vehicle\": \"VWPassat\"}, {\"speed\": 57.0, \"time\": 4.98, \"image\": \"VWPassat_57.MP4\", \"vehicle\": \"VWPassat\"}, {\"speed\": 60.0, \"time\": 5.98, \"image\": \"VWPassat_60.MP4\", \"vehicle\": \"VWPassat\"}, {\"speed\": 61.0, \"time\": 6.01, \"image\": \"VWPassat_61.MP4\", \"vehicle\": \"VWPassat\"}, {\"speed\": 64.0, \"time\": 5.67, \"image\": \"VWPassat_64.MP4\", \"vehicle\": \"VWPassat\"}, {\"speed\": 65.0, \"time\": 5.82, \"image\": \"VWPassat_65.MP4\", \"vehicle\": \"VWPassat\"}, {\"speed\": 67.0, \"time\": 5.08, \"image\": \"VWPassat_67.MP4\", \"vehicle\": \"VWPassat\"}, {\"speed\": 70.0, \"time\": 6.0, \"image\": \"VWPassat_70.MP4\", \"vehicle\": \"VWPassat\"}, {\"speed\": 71.0, \"time\": 5.51, \"image\": \"VWPassat_71.MP4\", \"vehicle\": \"VWPassat\"}, {\"speed\": 72.0, \"time\": 5.42, \"image\": \"VWPassat_72.MP4\", \"vehicle\": \"VWPassat\"}, {\"speed\": 73.0, \"time\": 5.32, \"image\": \"VWPassat_73.MP4\", \"vehicle\": \"VWPassat\"}, {\"speed\": 75.0, \"time\": 6.02, \"image\": \"VWPassat_75.MP4\", \"vehicle\": \"VWPassat\"}, {\"speed\": 78.0, \"time\": 5.85, \"image\": \"VWPassat_78.MP4\", \"vehicle\": \"VWPassat\"}, {\"speed\": 80.0, \"time\": 5.99, \"image\": \"VWPassat_80.MP4\", \"vehicle\": \"VWPassat\"}, {\"speed\": 81.0, \"time\": 5.58, \"image\": \"VWPassat_81.MP4\", \"vehicle\": \"VWPassat\"}, {\"speed\": 82.0, \"time\": 5.62, \"image\": \"VWPassat_82.MP4\", \"vehicle\": \"VWPassat\"}, {\"speed\": 85.0, \"time\": 6.23, \"image\": \"VWPassat_85.MP4\", \"vehicle\": \"VWPassat\"}, {\"speed\": 88.0, \"time\": 7.31, \"image\": \"VWPassat_88.MP4\", \"vehicle\": \"VWPassat\"}, {\"speed\": 90.0, \"time\": 5.2, \"image\": \"VWPassat_90.MP4\", \"vehicle\": \"VWPassat\"}, {\"speed\": 91.0, \"time\": 5.45, \"image\": \"VWPassat_91.MP4\", \"vehicle\": \"VWPassat\"}, {\"speed\": 94.0, \"time\": 6.0, \"image\": \"VWPassat_94.MP4\", \"vehicle\": \"VWPassat\"}, {\"speed\": 96.0, \"time\": 5.72, \"image\": \"VWPassat_96.MP4\", \"vehicle\": \"VWPassat\"}, {\"speed\": 98.0, \"time\": 5.99, \"image\": \"VWPassat_98.MP4\", \"vehicle\": \"VWPassat\"}]}}, {\"mode\": \"vega-lite\"});\n",
       "</script>"
      ],
      "text/plain": [
       "alt.LayerChart(...)"
      ]
     },
     "execution_count": 9,
     "metadata": {},
     "output_type": "execute_result"
    }
   ],
   "source": [
    "correlation_matrix = df_combined[['speed', 'time']].corr()\n",
    "correlation = correlation_matrix['speed']['time']\n",
    "\n",
    "scatter_plot = alt.Chart(df_combined).mark_point(filled=True, size=40, opacity=0.5).encode(\n",
    "    x=alt.X('speed:Q', axis=alt.Axis(title='Velocidad (km/h)')),\n",
    "    y=alt.Y('time:Q', axis=alt.Axis(title='Tiempo (s)')),\n",
    "    tooltip=['speed', 'time'],\n",
    "    color=alt.value('steelblue')\n",
    ").properties(\n",
    "    width=500,  # Increased width for better readability\n",
    "    height=400,  # Adjusted height for a better aspect ratio\n",
    "    title=alt.TitleParams(f'Correlacion Velocidad vs Tiempo (Correlation: {correlation:.2f})', \n",
    "                          fontSize=16, fontWeight='bold', anchor='middle')  # Centered and styled title\n",
    ")\n",
    "\n",
    "trendline = alt.Chart(df_combined).transform_regression('speed', 'time').mark_line(color='red', strokeWidth=3).encode(\n",
    "    x='speed:Q',\n",
    "    y='time:Q'\n",
    ")\n",
    "\n",
    "final_chart = scatter_plot + trendline\n",
    "final_chart"
   ]
  },
  {
   "cell_type": "code",
   "execution_count": 10,
   "metadata": {
    "collapsed": false,
    "jupyter": {
     "outputs_hidden": false
    },
    "pycharm": {
     "name": "#%%\n"
    }
   },
   "outputs": [
    {
     "data": {
      "text/html": [
       "\n",
       "<style>\n",
       "  #altair-viz-76e58dccd4ca4d16bb040687c4497006.vega-embed {\n",
       "    width: 100%;\n",
       "    display: flex;\n",
       "  }\n",
       "\n",
       "  #altair-viz-76e58dccd4ca4d16bb040687c4497006.vega-embed details,\n",
       "  #altair-viz-76e58dccd4ca4d16bb040687c4497006.vega-embed details summary {\n",
       "    position: relative;\n",
       "  }\n",
       "</style>\n",
       "<div id=\"altair-viz-76e58dccd4ca4d16bb040687c4497006\"></div>\n",
       "<script type=\"text/javascript\">\n",
       "  var VEGA_DEBUG = (typeof VEGA_DEBUG == \"undefined\") ? {} : VEGA_DEBUG;\n",
       "  (function(spec, embedOpt){\n",
       "    let outputDiv = document.currentScript.previousElementSibling;\n",
       "    if (outputDiv.id !== \"altair-viz-76e58dccd4ca4d16bb040687c4497006\") {\n",
       "      outputDiv = document.getElementById(\"altair-viz-76e58dccd4ca4d16bb040687c4497006\");\n",
       "    }\n",
       "    const paths = {\n",
       "      \"vega\": \"https://cdn.jsdelivr.net/npm/vega@5?noext\",\n",
       "      \"vega-lib\": \"https://cdn.jsdelivr.net/npm/vega-lib?noext\",\n",
       "      \"vega-lite\": \"https://cdn.jsdelivr.net/npm/vega-lite@5.8.0?noext\",\n",
       "      \"vega-embed\": \"https://cdn.jsdelivr.net/npm/vega-embed@6?noext\",\n",
       "    };\n",
       "\n",
       "    function maybeLoadScript(lib, version) {\n",
       "      var key = `${lib.replace(\"-\", \"\")}_version`;\n",
       "      return (VEGA_DEBUG[key] == version) ?\n",
       "        Promise.resolve(paths[lib]) :\n",
       "        new Promise(function(resolve, reject) {\n",
       "          var s = document.createElement('script');\n",
       "          document.getElementsByTagName(\"head\")[0].appendChild(s);\n",
       "          s.async = true;\n",
       "          s.onload = () => {\n",
       "            VEGA_DEBUG[key] = version;\n",
       "            return resolve(paths[lib]);\n",
       "          };\n",
       "          s.onerror = () => reject(`Error loading script: ${paths[lib]}`);\n",
       "          s.src = paths[lib];\n",
       "        });\n",
       "    }\n",
       "\n",
       "    function showError(err) {\n",
       "      outputDiv.innerHTML = `<div class=\"error\" style=\"color:red;\">${err}</div>`;\n",
       "      throw err;\n",
       "    }\n",
       "\n",
       "    function displayChart(vegaEmbed) {\n",
       "      vegaEmbed(outputDiv, spec, embedOpt)\n",
       "        .catch(err => showError(`Javascript Error: ${err.message}<br>This usually means there's a typo in your chart specification. See the javascript console for the full traceback.`));\n",
       "    }\n",
       "\n",
       "    if(typeof define === \"function\" && define.amd) {\n",
       "      requirejs.config({paths});\n",
       "      require([\"vega-embed\"], displayChart, err => showError(`Error loading script: ${err.message}`));\n",
       "    } else {\n",
       "      maybeLoadScript(\"vega\", \"5\")\n",
       "        .then(() => maybeLoadScript(\"vega-lite\", \"5.8.0\"))\n",
       "        .then(() => maybeLoadScript(\"vega-embed\", \"6\"))\n",
       "        .catch(showError)\n",
       "        .then(() => displayChart(vegaEmbed));\n",
       "    }\n",
       "  })({\"config\": {\"view\": {\"continuousWidth\": 300, \"continuousHeight\": 300}}, \"layer\": [{\"mark\": {\"type\": \"point\", \"filled\": true, \"opacity\": 0.5, \"size\": 40}, \"encoding\": {\"color\": {\"value\": \"steelblue\"}, \"tooltip\": [{\"field\": \"speed\", \"type\": \"quantitative\"}, {\"field\": \"time\", \"type\": \"quantitative\"}], \"x\": {\"axis\": {\"title\": \"Velocidad (km/h)\"}, \"field\": \"speed\", \"type\": \"quantitative\"}, \"y\": {\"axis\": {\"title\": \"Tiempo (s)\"}, \"field\": \"time\", \"type\": \"quantitative\"}}, \"title\": {\"text\": \"Correlacion Velocidad vs Tiempo (Correlation: -0.03)\", \"anchor\": \"middle\", \"fontSize\": 16, \"fontWeight\": \"bold\"}}, {\"mark\": {\"type\": \"line\", \"color\": \"red\", \"strokeWidth\": 3}, \"encoding\": {\"x\": {\"field\": \"speed\", \"type\": \"quantitative\"}, \"y\": {\"field\": \"time\", \"type\": \"quantitative\"}}, \"transform\": [{\"on\": \"speed\", \"regression\": \"time\"}]}], \"data\": {\"name\": \"data-5d3be3fd43ab46cca79cf2374d1a4771\"}, \"height\": 400, \"width\": 500, \"$schema\": \"https://vega.github.io/schema/vega-lite/v5.8.0.json\", \"datasets\": {\"data-5d3be3fd43ab46cca79cf2374d1a4771\": [{\"speed\": 101.0, \"time\": 7.49, \"image\": \"CitroenC4Picasso_101.MP4\", \"vehicle\": \"CitroenC4Picasso\"}, {\"speed\": 35.0, \"time\": 6.25, \"image\": \"CitroenC4Picasso_35.MP4\", \"vehicle\": \"CitroenC4Picasso\"}, {\"speed\": 38.0, \"time\": 5.82, \"image\": \"CitroenC4Picasso_38.MP4\", \"vehicle\": \"CitroenC4Picasso\"}, {\"speed\": 41.0, \"time\": 6.16, \"image\": \"CitroenC4Picasso_41.MP4\", \"vehicle\": \"CitroenC4Picasso\"}, {\"speed\": 44.0, \"time\": 5.44, \"image\": \"CitroenC4Picasso_44.MP4\", \"vehicle\": \"CitroenC4Picasso\"}, {\"speed\": 48.0, \"time\": 6.03, \"image\": \"CitroenC4Picasso_48.MP4\", \"vehicle\": \"CitroenC4Picasso\"}, {\"speed\": 51.0, \"time\": 5.85, \"image\": \"CitroenC4Picasso_51.MP4\", \"vehicle\": \"CitroenC4Picasso\"}, {\"speed\": 54.0, \"time\": 5.65, \"image\": \"CitroenC4Picasso_54.MP4\", \"vehicle\": \"CitroenC4Picasso\"}, {\"speed\": 57.0, \"time\": 5.95, \"image\": \"CitroenC4Picasso_57.MP4\", \"vehicle\": \"CitroenC4Picasso\"}, {\"speed\": 59.0, \"time\": 5.85, \"image\": \"CitroenC4Picasso_59.MP4\", \"vehicle\": \"CitroenC4Picasso\"}, {\"speed\": 63.0, \"time\": 6.06, \"image\": \"CitroenC4Picasso_63.MP4\", \"vehicle\": \"CitroenC4Picasso\"}, {\"speed\": 65.0, \"time\": 5.66, \"image\": \"CitroenC4Picasso_65.MP4\", \"vehicle\": \"CitroenC4Picasso\"}, {\"speed\": 68.0, \"time\": 6.16, \"image\": \"CitroenC4Picasso_68.MP4\", \"vehicle\": \"CitroenC4Picasso\"}, {\"speed\": 72.0, \"time\": 5.75, \"image\": \"CitroenC4Picasso_72.MP4\", \"vehicle\": \"CitroenC4Picasso\"}, {\"speed\": 74.0, \"time\": 6.26, \"image\": \"CitroenC4Picasso_74.MP4\", \"vehicle\": \"CitroenC4Picasso\"}, {\"speed\": 78.0, \"time\": 6.14, \"image\": \"CitroenC4Picasso_78.MP4\", \"vehicle\": \"CitroenC4Picasso\"}, {\"speed\": 80.0, \"time\": 5.41, \"image\": \"CitroenC4Picasso_80.MP4\", \"vehicle\": \"CitroenC4Picasso\"}, {\"speed\": 83.0, \"time\": 6.63, \"image\": \"CitroenC4Picasso_83.MP4\", \"vehicle\": \"CitroenC4Picasso\"}, {\"speed\": 85.0, \"time\": 5.67, \"image\": \"CitroenC4Picasso_85.MP4\", \"vehicle\": \"CitroenC4Picasso\"}, {\"speed\": 87.0, \"time\": 6.19, \"image\": \"CitroenC4Picasso_87.MP4\", \"vehicle\": \"CitroenC4Picasso\"}, {\"speed\": 92.0, \"time\": 7.62, \"image\": \"CitroenC4Picasso_92.MP4\", \"vehicle\": \"CitroenC4Picasso\"}, {\"speed\": 94.0, \"time\": 6.79, \"image\": \"CitroenC4Picasso_94.MP4\", \"vehicle\": \"CitroenC4Picasso\"}, {\"speed\": 96.0, \"time\": 5.79, \"image\": \"CitroenC4Picasso_96.MP4\", \"vehicle\": \"CitroenC4Picasso\"}, {\"speed\": 100.0, \"time\": 4.98, \"image\": \"KiaSportage_100.MP4\", \"vehicle\": \"KiaSportage\"}, {\"speed\": 103.0, \"time\": 4.91, \"image\": \"KiaSportage_103.MP4\", \"vehicle\": \"KiaSportage\"}, {\"speed\": 105.0, \"time\": 4.98, \"image\": \"KiaSportage_105.MP4\", \"vehicle\": \"KiaSportage\"}, {\"speed\": 31.0, \"time\": 4.94, \"image\": \"KiaSportage_31.MP4\", \"vehicle\": \"KiaSportage\"}, {\"speed\": 33.0, \"time\": 4.91, \"image\": \"KiaSportage_33.MP4\", \"vehicle\": \"KiaSportage\"}, {\"speed\": 35.0, \"time\": 4.93, \"image\": \"KiaSportage_35.MP4\", \"vehicle\": \"KiaSportage\"}, {\"speed\": 38.0, \"time\": 5.05, \"image\": \"KiaSportage_38.MP4\", \"vehicle\": \"KiaSportage\"}, {\"speed\": 41.0, \"time\": 4.93, \"image\": \"KiaSportage_41.MP4\", \"vehicle\": \"KiaSportage\"}, {\"speed\": 44.0, \"time\": 5.02, \"image\": \"KiaSportage_44.MP4\", \"vehicle\": \"KiaSportage\"}, {\"speed\": 46.0, \"time\": 4.94, \"image\": \"KiaSportage_46.MP4\", \"vehicle\": \"KiaSportage\"}, {\"speed\": 48.0, \"time\": 4.96, \"image\": \"KiaSportage_48.MP4\", \"vehicle\": \"KiaSportage\"}, {\"speed\": 51.0, \"time\": 4.92, \"image\": \"KiaSportage_51.MP4\", \"vehicle\": \"KiaSportage\"}, {\"speed\": 53.0, \"time\": 4.97, \"image\": \"KiaSportage_53.MP4\", \"vehicle\": \"KiaSportage\"}, {\"speed\": 55.0, \"time\": 4.95, \"image\": \"KiaSportage_55.MP4\", \"vehicle\": \"KiaSportage\"}, {\"speed\": 58.0, \"time\": 4.92, \"image\": \"KiaSportage_58.MP4\", \"vehicle\": \"KiaSportage\"}, {\"speed\": 61.0, \"time\": 4.96, \"image\": \"KiaSportage_61.MP4\", \"vehicle\": \"KiaSportage\"}, {\"speed\": 63.0, \"time\": 5.0, \"image\": \"KiaSportage_63.MP4\", \"vehicle\": \"KiaSportage\"}, {\"speed\": 65.0, \"time\": 4.93, \"image\": \"KiaSportage_65.MP4\", \"vehicle\": \"KiaSportage\"}, {\"speed\": 68.0, \"time\": 4.96, \"image\": \"KiaSportage_68.MP4\", \"vehicle\": \"KiaSportage\"}, {\"speed\": 69.0, \"time\": 4.94, \"image\": \"KiaSportage_69.MP4\", \"vehicle\": \"KiaSportage\"}, {\"speed\": 72.0, \"time\": 4.95, \"image\": \"KiaSportage_72.MP4\", \"vehicle\": \"KiaSportage\"}, {\"speed\": 74.0, \"time\": 4.94, \"image\": \"KiaSportage_74.MP4\", \"vehicle\": \"KiaSportage\"}, {\"speed\": 77.0, \"time\": 5.02, \"image\": \"KiaSportage_77.MP4\", \"vehicle\": \"KiaSportage\"}, {\"speed\": 78.0, \"time\": 4.95, \"image\": \"KiaSportage_78.MP4\", \"vehicle\": \"KiaSportage\"}, {\"speed\": 80.0, \"time\": 4.94, \"image\": \"KiaSportage_80.MP4\", \"vehicle\": \"KiaSportage\"}, {\"speed\": 83.0, \"time\": 4.95, \"image\": \"KiaSportage_83.MP4\", \"vehicle\": \"KiaSportage\"}, {\"speed\": 85.0, \"time\": 4.95, \"image\": \"KiaSportage_85.MP4\", \"vehicle\": \"KiaSportage\"}, {\"speed\": 86.0, \"time\": 4.92, \"image\": \"KiaSportage_86.MP4\", \"vehicle\": \"KiaSportage\"}, {\"speed\": 89.0, \"time\": 4.98, \"image\": \"KiaSportage_89.MP4\", \"vehicle\": \"KiaSportage\"}, {\"speed\": 91.0, \"time\": 4.95, \"image\": \"KiaSportage_91.MP4\", \"vehicle\": \"KiaSportage\"}, {\"speed\": 93.0, \"time\": 4.98, \"image\": \"KiaSportage_93.MP4\", \"vehicle\": \"KiaSportage\"}, {\"speed\": 96.0, \"time\": 4.91, \"image\": \"KiaSportage_96.MP4\", \"vehicle\": \"KiaSportage\"}, {\"speed\": 98.0, \"time\": 4.92, \"image\": \"KiaSportage_98.MP4\", \"vehicle\": \"KiaSportage\"}, {\"speed\": 101.0, \"time\": 5.04, \"image\": \"Mazda3_101.MP4\", \"vehicle\": \"Mazda3\"}, {\"speed\": 103.0, \"time\": 5.07, \"image\": \"Mazda3_103.MP4\", \"vehicle\": \"Mazda3\"}, {\"speed\": 105.0, \"time\": 4.99, \"image\": \"Mazda3_105.MP4\", \"vehicle\": \"Mazda3\"}, {\"speed\": 30.0, \"time\": 5.23, \"image\": \"Mazda3_30.MP4\", \"vehicle\": \"Mazda3\"}, {\"speed\": 33.0, \"time\": 5.08, \"image\": \"Mazda3_33.MP4\", \"vehicle\": \"Mazda3\"}, {\"speed\": 35.0, \"time\": 5.12, \"image\": \"Mazda3_35.MP4\", \"vehicle\": \"Mazda3\"}, {\"speed\": 38.0, \"time\": 5.15, \"image\": \"Mazda3_38.MP4\", \"vehicle\": \"Mazda3\"}, {\"speed\": 40.0, \"time\": 5.02, \"image\": \"Mazda3_40.MP4\", \"vehicle\": \"Mazda3\"}, {\"speed\": 43.0, \"time\": 5.02, \"image\": \"Mazda3_43.MP4\", \"vehicle\": \"Mazda3\"}, {\"speed\": 45.0, \"time\": 5.31, \"image\": \"Mazda3_45.MP4\", \"vehicle\": \"Mazda3\"}, {\"speed\": 47.0, \"time\": 5.42, \"image\": \"Mazda3_47.MP4\", \"vehicle\": \"Mazda3\"}, {\"speed\": 50.0, \"time\": 5.62, \"image\": \"Mazda3_50.MP4\", \"vehicle\": \"Mazda3\"}, {\"speed\": 52.0, \"time\": 5.15, \"image\": \"Mazda3_52.MP4\", \"vehicle\": \"Mazda3\"}, {\"speed\": 55.0, \"time\": 5.68, \"image\": \"Mazda3_55.MP4\", \"vehicle\": \"Mazda3\"}, {\"speed\": 57.0, \"time\": 5.08, \"image\": \"Mazda3_57.MP4\", \"vehicle\": \"Mazda3\"}, {\"speed\": 60.0, \"time\": 5.09, \"image\": \"Mazda3_60.MP4\", \"vehicle\": \"Mazda3\"}, {\"speed\": 62.0, \"time\": 5.25, \"image\": \"Mazda3_62.MP4\", \"vehicle\": \"Mazda3\"}, {\"speed\": 64.0, \"time\": 5.02, \"image\": \"Mazda3_64.MP4\", \"vehicle\": \"Mazda3\"}, {\"speed\": 67.0, \"time\": 5.65, \"image\": \"Mazda3_67.MP4\", \"vehicle\": \"Mazda3\"}, {\"speed\": 70.0, \"time\": 5.05, \"image\": \"Mazda3_70.MP4\", \"vehicle\": \"Mazda3\"}, {\"speed\": 72.0, \"time\": 5.16, \"image\": \"Mazda3_72.MP4\", \"vehicle\": \"Mazda3\"}, {\"speed\": 75.0, \"time\": 5.02, \"image\": \"Mazda3_75.MP4\", \"vehicle\": \"Mazda3\"}, {\"speed\": 79.0, \"time\": 5.05, \"image\": \"Mazda3_79.MP4\", \"vehicle\": \"Mazda3\"}, {\"speed\": 81.0, \"time\": 5.22, \"image\": \"Mazda3_81.MP4\", \"vehicle\": \"Mazda3\"}, {\"speed\": 84.0, \"time\": 5.08, \"image\": \"Mazda3_84.MP4\", \"vehicle\": \"Mazda3\"}, {\"speed\": 86.0, \"time\": 5.19, \"image\": \"Mazda3_86.MP4\", \"vehicle\": \"Mazda3\"}, {\"speed\": 88.0, \"time\": 5.09, \"image\": \"Mazda3_88.MP4\", \"vehicle\": \"Mazda3\"}, {\"speed\": 90.0, \"time\": 5.11, \"image\": \"Mazda3_90.MP4\", \"vehicle\": \"Mazda3\"}, {\"speed\": 92.0, \"time\": 5.22, \"image\": \"Mazda3_92.MP4\", \"vehicle\": \"Mazda3\"}, {\"speed\": 94.0, \"time\": 5.04, \"image\": \"Mazda3_94.MP4\", \"vehicle\": \"Mazda3\"}, {\"speed\": 96.0, \"time\": 5.02, \"image\": \"Mazda3_96.MP4\", \"vehicle\": \"Mazda3\"}, {\"speed\": 99.0, \"time\": 4.98, \"image\": \"Mazda3_99.MP4\", \"vehicle\": \"Mazda3\"}, {\"speed\": 100.0, \"time\": 4.94, \"image\": \"MercedesAMG550_100.MP4\", \"vehicle\": \"MercedesAMG550\"}, {\"speed\": 105.0, \"time\": 4.45, \"image\": \"MercedesAMG550_105.MP4\", \"vehicle\": \"MercedesAMG550\"}, {\"speed\": 30.0, \"time\": 5.07, \"image\": \"MercedesAMG550_30.MP4\", \"vehicle\": \"MercedesAMG550\"}, {\"speed\": 33.0, \"time\": 5.68, \"image\": \"MercedesAMG550_33.MP4\", \"vehicle\": \"MercedesAMG550\"}, {\"speed\": 35.0, \"time\": 5.99, \"image\": \"MercedesAMG550_35.MP4\", \"vehicle\": \"MercedesAMG550\"}, {\"speed\": 38.0, \"time\": 5.88, \"image\": \"MercedesAMG550_38.MP4\", \"vehicle\": \"MercedesAMG550\"}, {\"speed\": 40.0, \"time\": 5.13, \"image\": \"MercedesAMG550_40.MP4\", \"vehicle\": \"MercedesAMG550\"}, {\"speed\": 42.0, \"time\": 6.28, \"image\": \"MercedesAMG550_42.MP4\", \"vehicle\": \"MercedesAMG550\"}, {\"speed\": 45.0, \"time\": 5.06, \"image\": \"MercedesAMG550_45.MP4\", \"vehicle\": \"MercedesAMG550\"}, {\"speed\": 47.0, \"time\": 5.67, \"image\": \"MercedesAMG550_47.MP4\", \"vehicle\": \"MercedesAMG550\"}, {\"speed\": 50.0, \"time\": 5.19, \"image\": \"MercedesAMG550_50.MP4\", \"vehicle\": \"MercedesAMG550\"}, {\"speed\": 52.0, \"time\": 5.89, \"image\": \"MercedesAMG550_52.MP4\", \"vehicle\": \"MercedesAMG550\"}, {\"speed\": 55.0, \"time\": 5.07, \"image\": \"MercedesAMG550_55.MP4\", \"vehicle\": \"MercedesAMG550\"}, {\"speed\": 58.0, \"time\": 5.65, \"image\": \"MercedesAMG550_58.MP4\", \"vehicle\": \"MercedesAMG550\"}, {\"speed\": 60.0, \"time\": 5.25, \"image\": \"MercedesAMG550_60.MP4\", \"vehicle\": \"MercedesAMG550\"}, {\"speed\": 62.0, \"time\": 5.38, \"image\": \"MercedesAMG550_62.MP4\", \"vehicle\": \"MercedesAMG550\"}, {\"speed\": 65.0, \"time\": 7.04, \"image\": \"MercedesAMG550_65.MP4\", \"vehicle\": \"MercedesAMG550\"}, {\"speed\": 67.0, \"time\": 5.76, \"image\": \"MercedesAMG550_67.MP4\", \"vehicle\": \"MercedesAMG550\"}, {\"speed\": 70.0, \"time\": 4.83, \"image\": \"MercedesAMG550_70.MP4\", \"vehicle\": \"MercedesAMG550\"}, {\"speed\": 73.0, \"time\": 5.63, \"image\": \"MercedesAMG550_73.MP4\", \"vehicle\": \"MercedesAMG550\"}, {\"speed\": 75.0, \"time\": 5.11, \"image\": \"MercedesAMG550_75.MP4\", \"vehicle\": \"MercedesAMG550\"}, {\"speed\": 78.0, \"time\": 6.11, \"image\": \"MercedesAMG550_78.MP4\", \"vehicle\": \"MercedesAMG550\"}, {\"speed\": 80.0, \"time\": 4.9, \"image\": \"MercedesAMG550_80.MP4\", \"vehicle\": \"MercedesAMG550\"}, {\"speed\": 82.0, \"time\": 5.82, \"image\": \"MercedesAMG550_82.MP4\", \"vehicle\": \"MercedesAMG550\"}, {\"speed\": 85.0, \"time\": 4.84, \"image\": \"MercedesAMG550_85.MP4\", \"vehicle\": \"MercedesAMG550\"}, {\"speed\": 87.0, \"time\": 5.41, \"image\": \"MercedesAMG550_87.MP4\", \"vehicle\": \"MercedesAMG550\"}, {\"speed\": 90.0, \"time\": 6.0, \"image\": \"MercedesAMG550_90.MP4\", \"vehicle\": \"MercedesAMG550\"}, {\"speed\": 93.0, \"time\": 5.68, \"image\": \"MercedesAMG550_93.MP4\", \"vehicle\": \"MercedesAMG550\"}, {\"speed\": 95.0, \"time\": 5.0, \"image\": \"MercedesAMG550_95.MP4\", \"vehicle\": \"MercedesAMG550\"}, {\"speed\": 98.0, \"time\": 5.44, \"image\": \"MercedesAMG550_98.MP4\", \"vehicle\": \"MercedesAMG550\"}, {\"speed\": 100.0, \"time\": 5.0, \"image\": \"MercedesGLA_100.MP4\", \"vehicle\": \"MercedesGLA\"}, {\"speed\": 101.0, \"time\": 5.01, \"image\": \"MercedesGLA_101.MP4\", \"vehicle\": \"MercedesGLA\"}, {\"speed\": 103.0, \"time\": 5.01, \"image\": \"MercedesGLA_103.MP4\", \"vehicle\": \"MercedesGLA\"}, {\"speed\": 104.0, \"time\": 5.01, \"image\": \"MercedesGLA_104.MP4\", \"vehicle\": \"MercedesGLA\"}, {\"speed\": 30.0, \"time\": 4.99, \"image\": \"MercedesGLA_30.MP4\", \"vehicle\": \"MercedesGLA\"}, {\"speed\": 33.0, \"time\": 4.98, \"image\": \"MercedesGLA_33.MP4\", \"vehicle\": \"MercedesGLA\"}, {\"speed\": 36.0, \"time\": 4.99, \"image\": \"MercedesGLA_36.MP4\", \"vehicle\": \"MercedesGLA\"}, {\"speed\": 39.0, \"time\": 5.0, \"image\": \"MercedesGLA_39.MP4\", \"vehicle\": \"MercedesGLA\"}, {\"speed\": 41.0, \"time\": 4.99, \"image\": \"MercedesGLA_41.MP4\", \"vehicle\": \"MercedesGLA\"}, {\"speed\": 42.0, \"time\": 5.0, \"image\": \"MercedesGLA_42.MP4\", \"vehicle\": \"MercedesGLA\"}, {\"speed\": 45.0, \"time\": 5.02, \"image\": \"MercedesGLA_45.MP4\", \"vehicle\": \"MercedesGLA\"}, {\"speed\": 47.0, \"time\": 5.0, \"image\": \"MercedesGLA_47.MP4\", \"vehicle\": \"MercedesGLA\"}, {\"speed\": 48.0, \"time\": 5.0, \"image\": \"MercedesGLA_48.MP4\", \"vehicle\": \"MercedesGLA\"}, {\"speed\": 49.0, \"time\": 5.01, \"image\": \"MercedesGLA_49.MP4\", \"vehicle\": \"MercedesGLA\"}, {\"speed\": 52.0, \"time\": 5.0, \"image\": \"MercedesGLA_52.MP4\", \"vehicle\": \"MercedesGLA\"}, {\"speed\": 54.0, \"time\": 5.0, \"image\": \"MercedesGLA_54.MP4\", \"vehicle\": \"MercedesGLA\"}, {\"speed\": 55.0, \"time\": 4.99, \"image\": \"MercedesGLA_55.MP4\", \"vehicle\": \"MercedesGLA\"}, {\"speed\": 59.0, \"time\": 5.01, \"image\": \"MercedesGLA_59.MP4\", \"vehicle\": \"MercedesGLA\"}, {\"speed\": 61.0, \"time\": 5.08, \"image\": \"MercedesGLA_61.MP4\", \"vehicle\": \"MercedesGLA\"}, {\"speed\": 63.0, \"time\": 4.99, \"image\": \"MercedesGLA_63.MP4\", \"vehicle\": \"MercedesGLA\"}, {\"speed\": 65.0, \"time\": 4.99, \"image\": \"MercedesGLA_65.MP4\", \"vehicle\": \"MercedesGLA\"}, {\"speed\": 68.0, \"time\": 4.99, \"image\": \"MercedesGLA_68.MP4\", \"vehicle\": \"MercedesGLA\"}, {\"speed\": 70.0, \"time\": 5.01, \"image\": \"MercedesGLA_70.MP4\", \"vehicle\": \"MercedesGLA\"}, {\"speed\": 72.0, \"time\": 5.0, \"image\": \"MercedesGLA_72.MP4\", \"vehicle\": \"MercedesGLA\"}, {\"speed\": 75.0, \"time\": 5.0, \"image\": \"MercedesGLA_75.MP4\", \"vehicle\": \"MercedesGLA\"}, {\"speed\": 78.0, \"time\": 5.0, \"image\": \"MercedesGLA_78.MP4\", \"vehicle\": \"MercedesGLA\"}, {\"speed\": 81.0, \"time\": 5.01, \"image\": \"MercedesGLA_81.MP4\", \"vehicle\": \"MercedesGLA\"}, {\"speed\": 83.0, \"time\": 5.01, \"image\": \"MercedesGLA_83.MP4\", \"vehicle\": \"MercedesGLA\"}, {\"speed\": 85.0, \"time\": 5.01, \"image\": \"MercedesGLA_85.MP4\", \"vehicle\": \"MercedesGLA\"}, {\"speed\": 88.0, \"time\": 4.99, \"image\": \"MercedesGLA_88.MP4\", \"vehicle\": \"MercedesGLA\"}, {\"speed\": 90.0, \"time\": 5.1, \"image\": \"MercedesGLA_90.MP4\", \"vehicle\": \"MercedesGLA\"}, {\"speed\": 92.0, \"time\": 5.01, \"image\": \"MercedesGLA_92.MP4\", \"vehicle\": \"MercedesGLA\"}, {\"speed\": 93.0, \"time\": 4.99, \"image\": \"MercedesGLA_93.MP4\", \"vehicle\": \"MercedesGLA\"}, {\"speed\": 96.0, \"time\": 5.0, \"image\": \"MercedesGLA_96.MP4\", \"vehicle\": \"MercedesGLA\"}, {\"speed\": 102.0, \"time\": 5.62, \"image\": \"NissanQashqai_102.MP4\", \"vehicle\": \"NissanQashqai\"}, {\"speed\": 35.0, \"time\": 6.1, \"image\": \"NissanQashqai_35.MP4\", \"vehicle\": \"NissanQashqai\"}, {\"speed\": 38.0, \"time\": 6.19, \"image\": \"NissanQashqai_38.MP4\", \"vehicle\": \"NissanQashqai\"}, {\"speed\": 40.0, \"time\": 5.21, \"image\": \"NissanQashqai_40.MP4\", \"vehicle\": \"NissanQashqai\"}, {\"speed\": 42.0, \"time\": 5.14, \"image\": \"NissanQashqai_42.MP4\", \"vehicle\": \"NissanQashqai\"}, {\"speed\": 45.0, \"time\": 6.01, \"image\": \"NissanQashqai_45.MP4\", \"vehicle\": \"NissanQashqai\"}, {\"speed\": 48.0, \"time\": 5.21, \"image\": \"NissanQashqai_48.MP4\", \"vehicle\": \"NissanQashqai\"}, {\"speed\": 50.0, \"time\": 5.85, \"image\": \"NissanQashqai_50.MP4\", \"vehicle\": \"NissanQashqai\"}, {\"speed\": 53.0, \"time\": 5.99, \"image\": \"NissanQashqai_53.MP4\", \"vehicle\": \"NissanQashqai\"}, {\"speed\": 55.0, \"time\": 5.9, \"image\": \"NissanQashqai_55.MP4\", \"vehicle\": \"NissanQashqai\"}, {\"speed\": 58.0, \"time\": 5.61, \"image\": \"NissanQashqai_58.MP4\", \"vehicle\": \"NissanQashqai\"}, {\"speed\": 60.0, \"time\": 5.58, \"image\": \"NissanQashqai_60.MP4\", \"vehicle\": \"NissanQashqai\"}, {\"speed\": 61.0, \"time\": 6.08, \"image\": \"NissanQashqai_61.MP4\", \"vehicle\": \"NissanQashqai\"}, {\"speed\": 64.0, \"time\": 5.92, \"image\": \"NissanQashqai_64.MP4\", \"vehicle\": \"NissanQashqai\"}, {\"speed\": 65.0, \"time\": 5.58, \"image\": \"NissanQashqai_65.MP4\", \"vehicle\": \"NissanQashqai\"}, {\"speed\": 68.0, \"time\": 5.98, \"image\": \"NissanQashqai_68.MP4\", \"vehicle\": \"NissanQashqai\"}, {\"speed\": 70.0, \"time\": 6.04, \"image\": \"NissanQashqai_70.MP4\", \"vehicle\": \"NissanQashqai\"}, {\"speed\": 73.0, \"time\": 6.14, \"image\": \"NissanQashqai_73.MP4\", \"vehicle\": \"NissanQashqai\"}, {\"speed\": 75.0, \"time\": 6.01, \"image\": \"NissanQashqai_75.MP4\", \"vehicle\": \"NissanQashqai\"}, {\"speed\": 78.0, \"time\": 5.9, \"image\": \"NissanQashqai_78.MP4\", \"vehicle\": \"NissanQashqai\"}, {\"speed\": 80.0, \"time\": 5.79, \"image\": \"NissanQashqai_80.MP4\", \"vehicle\": \"NissanQashqai\"}, {\"speed\": 82.0, \"time\": 5.72, \"image\": \"NissanQashqai_82.MP4\", \"vehicle\": \"NissanQashqai\"}, {\"speed\": 85.0, \"time\": 5.91, \"image\": \"NissanQashqai_85.MP4\", \"vehicle\": \"NissanQashqai\"}, {\"speed\": 88.0, \"time\": 6.13, \"image\": \"NissanQashqai_88.MP4\", \"vehicle\": \"NissanQashqai\"}, {\"speed\": 90.0, \"time\": 5.52, \"image\": \"NissanQashqai_90.MP4\", \"vehicle\": \"NissanQashqai\"}, {\"speed\": 93.0, \"time\": 5.79, \"image\": \"NissanQashqai_93.MP4\", \"vehicle\": \"NissanQashqai\"}, {\"speed\": 94.0, \"time\": 5.28, \"image\": \"NissanQashqai_94.MP4\", \"vehicle\": \"NissanQashqai\"}, {\"speed\": 96.0, \"time\": 5.58, \"image\": \"NissanQashqai_96.MP4\", \"vehicle\": \"NissanQashqai\"}, {\"speed\": 98.0, \"time\": 5.38, \"image\": \"NissanQashqai_98.MP4\", \"vehicle\": \"NissanQashqai\"}, {\"speed\": 100.0, \"time\": 5.02, \"image\": \"OpelInsignia_100.MP4\", \"vehicle\": \"OpelInsignia\"}, {\"speed\": 31.0, \"time\": 6.05, \"image\": \"OpelInsignia_31.MP4\", \"vehicle\": \"OpelInsignia\"}, {\"speed\": 35.0, \"time\": 5.92, \"image\": \"OpelInsignia_35.MP4\", \"vehicle\": \"OpelInsignia\"}, {\"speed\": 38.0, \"time\": 6.68, \"image\": \"OpelInsignia_38.MP4\", \"vehicle\": \"OpelInsignia\"}, {\"speed\": 41.0, \"time\": 6.51, \"image\": \"OpelInsignia_41.MP4\", \"vehicle\": \"OpelInsignia\"}, {\"speed\": 44.0, \"time\": 5.92, \"image\": \"OpelInsignia_44.MP4\", \"vehicle\": \"OpelInsignia\"}, {\"speed\": 47.0, \"time\": 5.91, \"image\": \"OpelInsignia_47.MP4\", \"vehicle\": \"OpelInsignia\"}, {\"speed\": 50.0, \"time\": 6.42, \"image\": \"OpelInsignia_50.MP4\", \"vehicle\": \"OpelInsignia\"}, {\"speed\": 53.0, \"time\": 5.71, \"image\": \"OpelInsignia_53.MP4\", \"vehicle\": \"OpelInsignia\"}, {\"speed\": 55.0, \"time\": 5.51, \"image\": \"OpelInsignia_55.MP4\", \"vehicle\": \"OpelInsignia\"}, {\"speed\": 58.0, \"time\": 5.48, \"image\": \"OpelInsignia_58.MP4\", \"vehicle\": \"OpelInsignia\"}, {\"speed\": 61.0, \"time\": 5.54, \"image\": \"OpelInsignia_61.MP4\", \"vehicle\": \"OpelInsignia\"}, {\"speed\": 64.0, \"time\": 5.74, \"image\": \"OpelInsignia_64.MP4\", \"vehicle\": \"OpelInsignia\"}, {\"speed\": 66.0, \"time\": 5.35, \"image\": \"OpelInsignia_66.MP4\", \"vehicle\": \"OpelInsignia\"}, {\"speed\": 68.0, \"time\": 5.25, \"image\": \"OpelInsignia_68.MP4\", \"vehicle\": \"OpelInsignia\"}, {\"speed\": 70.0, \"time\": 5.91, \"image\": \"OpelInsignia_70.MP4\", \"vehicle\": \"OpelInsignia\"}, {\"speed\": 72.0, \"time\": 6.09, \"image\": \"OpelInsignia_72.MP4\", \"vehicle\": \"OpelInsignia\"}, {\"speed\": 73.0, \"time\": 5.39, \"image\": \"OpelInsignia_73.MP4\", \"vehicle\": \"OpelInsignia\"}, {\"speed\": 76.0, \"time\": 6.22, \"image\": \"OpelInsignia_76.MP4\", \"vehicle\": \"OpelInsignia\"}, {\"speed\": 78.0, \"time\": 5.21, \"image\": \"OpelInsignia_78.MP4\", \"vehicle\": \"OpelInsignia\"}, {\"speed\": 80.0, \"time\": 6.24, \"image\": \"OpelInsignia_80.MP4\", \"vehicle\": \"OpelInsignia\"}, {\"speed\": 83.0, \"time\": 6.02, \"image\": \"OpelInsignia_83.MP4\", \"vehicle\": \"OpelInsignia\"}, {\"speed\": 86.0, \"time\": 5.51, \"image\": \"OpelInsignia_86.MP4\", \"vehicle\": \"OpelInsignia\"}, {\"speed\": 89.0, \"time\": 5.59, \"image\": \"OpelInsignia_89.MP4\", \"vehicle\": \"OpelInsignia\"}, {\"speed\": 91.0, \"time\": 5.38, \"image\": \"OpelInsignia_91.MP4\", \"vehicle\": \"OpelInsignia\"}, {\"speed\": 94.0, \"time\": 5.81, \"image\": \"OpelInsignia_94.MP4\", \"vehicle\": \"OpelInsignia\"}, {\"speed\": 97.0, \"time\": 5.72, \"image\": \"OpelInsignia_97.MP4\", \"vehicle\": \"OpelInsignia\"}, {\"speed\": 30.0, \"time\": 5.14, \"image\": \"Peugeot208_30.MP4\", \"vehicle\": \"Peugeot208\"}, {\"speed\": 32.0, \"time\": 5.04, \"image\": \"Peugeot208_32.MP4\", \"vehicle\": \"Peugeot208\"}, {\"speed\": 34.0, \"time\": 5.04, \"image\": \"Peugeot208_34.MP4\", \"vehicle\": \"Peugeot208\"}, {\"speed\": 37.0, \"time\": 5.15, \"image\": \"Peugeot208_37.MP4\", \"vehicle\": \"Peugeot208\"}, {\"speed\": 40.0, \"time\": 5.14, \"image\": \"Peugeot208_40.MP4\", \"vehicle\": \"Peugeot208\"}, {\"speed\": 43.0, \"time\": 5.1, \"image\": \"Peugeot208_43.MP4\", \"vehicle\": \"Peugeot208\"}, {\"speed\": 45.0, \"time\": 5.12, \"image\": \"Peugeot208_45.MP4\", \"vehicle\": \"Peugeot208\"}, {\"speed\": 47.0, \"time\": 5.02, \"image\": \"Peugeot208_47.MP4\", \"vehicle\": \"Peugeot208\"}, {\"speed\": 50.0, \"time\": 4.93, \"image\": \"Peugeot208_50.MP4\", \"vehicle\": \"Peugeot208\"}, {\"speed\": 51.0, \"time\": 5.52, \"image\": \"Peugeot208_51.MP4\", \"vehicle\": \"Peugeot208\"}, {\"speed\": 54.0, \"time\": 5.17, \"image\": \"Peugeot208_54.MP4\", \"vehicle\": \"Peugeot208\"}, {\"speed\": 57.0, \"time\": 5.51, \"image\": \"Peugeot208_57.MP4\", \"vehicle\": \"Peugeot208\"}, {\"speed\": 60.0, \"time\": 5.06, \"image\": \"Peugeot208_60.MP4\", \"vehicle\": \"Peugeot208\"}, {\"speed\": 62.0, \"time\": 5.09, \"image\": \"Peugeot208_62.MP4\", \"vehicle\": \"Peugeot208\"}, {\"speed\": 64.0, \"time\": 5.22, \"image\": \"Peugeot208_64.MP4\", \"vehicle\": \"Peugeot208\"}, {\"speed\": 67.0, \"time\": 5.03, \"image\": \"Peugeot208_67.MP4\", \"vehicle\": \"Peugeot208\"}, {\"speed\": 68.0, \"time\": 5.18, \"image\": \"Peugeot208_68.MP4\", \"vehicle\": \"Peugeot208\"}, {\"speed\": 71.0, \"time\": 5.16, \"image\": \"Peugeot208_71.MP4\", \"vehicle\": \"Peugeot208\"}, {\"speed\": 73.0, \"time\": 4.99, \"image\": \"Peugeot208_73.MP4\", \"vehicle\": \"Peugeot208\"}, {\"speed\": 76.0, \"time\": 5.61, \"image\": \"Peugeot208_76.MP4\", \"vehicle\": \"Peugeot208\"}, {\"speed\": 77.0, \"time\": 6.26, \"image\": \"Peugeot208_77.MP4\", \"vehicle\": \"Peugeot208\"}, {\"speed\": 79.0, \"time\": 5.22, \"image\": \"Peugeot208_79.MP4\", \"vehicle\": \"Peugeot208\"}, {\"speed\": 82.0, \"time\": 5.17, \"image\": \"Peugeot208_82.MP4\", \"vehicle\": \"Peugeot208\"}, {\"speed\": 84.0, \"time\": 5.12, \"image\": \"Peugeot208_84.MP4\", \"vehicle\": \"Peugeot208\"}, {\"speed\": 87.0, \"time\": 5.48, \"image\": \"Peugeot208_87.MP4\", \"vehicle\": \"Peugeot208\"}, {\"speed\": 90.0, \"time\": 5.18, \"image\": \"Peugeot208_90.MP4\", \"vehicle\": \"Peugeot208\"}, {\"speed\": 92.0, \"time\": 5.48, \"image\": \"Peugeot208_92.MP4\", \"vehicle\": \"Peugeot208\"}, {\"speed\": 95.0, \"time\": 5.59, \"image\": \"Peugeot208_95.MP4\", \"vehicle\": \"Peugeot208\"}, {\"speed\": 96.0, \"time\": 5.43, \"image\": \"Peugeot208_96.MP4\", \"vehicle\": \"Peugeot208\"}, {\"speed\": 100.0, \"time\": 5.5, \"image\": \"Peugeot3008_100.MP4\", \"vehicle\": \"Peugeot3008\"}, {\"speed\": 40.0, \"time\": 6.01, \"image\": \"Peugeot3008_40.MP4\", \"vehicle\": \"Peugeot3008\"}, {\"speed\": 43.0, \"time\": 4.93, \"image\": \"Peugeot3008_43.MP4\", \"vehicle\": \"Peugeot3008\"}, {\"speed\": 45.0, \"time\": 6.0, \"image\": \"Peugeot3008_45.MP4\", \"vehicle\": \"Peugeot3008\"}, {\"speed\": 47.0, \"time\": 5.89, \"image\": \"Peugeot3008_47.MP4\", \"vehicle\": \"Peugeot3008\"}, {\"speed\": 50.0, \"time\": 5.99, \"image\": \"Peugeot3008_50.MP4\", \"vehicle\": \"Peugeot3008\"}, {\"speed\": 52.0, \"time\": 6.86, \"image\": \"Peugeot3008_52.MP4\", \"vehicle\": \"Peugeot3008\"}, {\"speed\": 54.0, \"time\": 5.84, \"image\": \"Peugeot3008_54.MP4\", \"vehicle\": \"Peugeot3008\"}, {\"speed\": 55.0, \"time\": 6.02, \"image\": \"Peugeot3008_55.MP4\", \"vehicle\": \"Peugeot3008\"}, {\"speed\": 56.0, \"time\": 5.71, \"image\": \"Peugeot3008_56.MP4\", \"vehicle\": \"Peugeot3008\"}, {\"speed\": 58.0, \"time\": 4.89, \"image\": \"Peugeot3008_58.MP4\", \"vehicle\": \"Peugeot3008\"}, {\"speed\": 60.0, \"time\": 5.99, \"image\": \"Peugeot3008_60.MP4\", \"vehicle\": \"Peugeot3008\"}, {\"speed\": 61.0, \"time\": 5.43, \"image\": \"Peugeot3008_61.MP4\", \"vehicle\": \"Peugeot3008\"}, {\"speed\": 63.0, \"time\": 7.22, \"image\": \"Peugeot3008_63.MP4\", \"vehicle\": \"Peugeot3008\"}, {\"speed\": 65.0, \"time\": 6.0, \"image\": \"Peugeot3008_65.MP4\", \"vehicle\": \"Peugeot3008\"}, {\"speed\": 67.0, \"time\": 5.69, \"image\": \"Peugeot3008_67.MP4\", \"vehicle\": \"Peugeot3008\"}, {\"speed\": 68.0, \"time\": 5.97, \"image\": \"Peugeot3008_68.MP4\", \"vehicle\": \"Peugeot3008\"}, {\"speed\": 70.0, \"time\": 6.0, \"image\": \"Peugeot3008_70.MP4\", \"vehicle\": \"Peugeot3008\"}, {\"speed\": 72.0, \"time\": 5.53, \"image\": \"Peugeot3008_72.MP4\", \"vehicle\": \"Peugeot3008\"}, {\"speed\": 74.0, \"time\": 5.88, \"image\": \"Peugeot3008_74.MP4\", \"vehicle\": \"Peugeot3008\"}, {\"speed\": 75.0, \"time\": 6.09, \"image\": \"Peugeot3008_75.MP4\", \"vehicle\": \"Peugeot3008\"}, {\"speed\": 78.0, \"time\": 5.6, \"image\": \"Peugeot3008_78.MP4\", \"vehicle\": \"Peugeot3008\"}, {\"speed\": 80.0, \"time\": 6.01, \"image\": \"Peugeot3008_80.MP4\", \"vehicle\": \"Peugeot3008\"}, {\"speed\": 83.0, \"time\": 6.62, \"image\": \"Peugeot3008_83.MP4\", \"vehicle\": \"Peugeot3008\"}, {\"speed\": 85.0, \"time\": 6.38, \"image\": \"Peugeot3008_85.MP4\", \"vehicle\": \"Peugeot3008\"}, {\"speed\": 87.0, \"time\": 5.35, \"image\": \"Peugeot3008_87.MP4\", \"vehicle\": \"Peugeot3008\"}, {\"speed\": 89.0, \"time\": 5.15, \"image\": \"Peugeot3008_89.MP4\", \"vehicle\": \"Peugeot3008\"}, {\"speed\": 90.0, \"time\": 5.99, \"image\": \"Peugeot3008_90.MP4\", \"vehicle\": \"Peugeot3008\"}, {\"speed\": 92.0, \"time\": 5.37, \"image\": \"Peugeot3008_92.MP4\", \"vehicle\": \"Peugeot3008\"}, {\"speed\": 95.0, \"time\": 6.1, \"image\": \"Peugeot3008_95.MP4\", \"vehicle\": \"Peugeot3008\"}, {\"speed\": 97.0, \"time\": 6.39, \"image\": \"Peugeot3008_97.MP4\", \"vehicle\": \"Peugeot3008\"}, {\"speed\": 101.0, \"time\": 5.45, \"image\": \"Peugeot307_101.MP4\", \"vehicle\": \"Peugeot307\"}, {\"speed\": 103.0, \"time\": 5.86, \"image\": \"Peugeot307_103.MP4\", \"vehicle\": \"Peugeot307\"}, {\"speed\": 30.0, \"time\": 5.52, \"image\": \"Peugeot307_30.MP4\", \"vehicle\": \"Peugeot307\"}, {\"speed\": 33.0, \"time\": 5.62, \"image\": \"Peugeot307_33.MP4\", \"vehicle\": \"Peugeot307\"}, {\"speed\": 35.0, \"time\": 5.55, \"image\": \"Peugeot307_35.MP4\", \"vehicle\": \"Peugeot307\"}, {\"speed\": 38.0, \"time\": 5.08, \"image\": \"Peugeot307_38.MP4\", \"vehicle\": \"Peugeot307\"}, {\"speed\": 40.0, \"time\": 5.02, \"image\": \"Peugeot307_40.MP4\", \"vehicle\": \"Peugeot307\"}, {\"speed\": 43.0, \"time\": 4.95, \"image\": \"Peugeot307_43.MP4\", \"vehicle\": \"Peugeot307\"}, {\"speed\": 45.0, \"time\": 5.18, \"image\": \"Peugeot307_45.MP4\", \"vehicle\": \"Peugeot307\"}, {\"speed\": 47.0, \"time\": 4.99, \"image\": \"Peugeot307_47.MP4\", \"vehicle\": \"Peugeot307\"}, {\"speed\": 48.0, \"time\": 4.97, \"image\": \"Peugeot307_48.MP4\", \"vehicle\": \"Peugeot307\"}, {\"speed\": 50.0, \"time\": 5.18, \"image\": \"Peugeot307_50.MP4\", \"vehicle\": \"Peugeot307\"}, {\"speed\": 53.0, \"time\": 4.98, \"image\": \"Peugeot307_53.MP4\", \"vehicle\": \"Peugeot307\"}, {\"speed\": 56.0, \"time\": 5.45, \"image\": \"Peugeot307_56.MP4\", \"vehicle\": \"Peugeot307\"}, {\"speed\": 59.0, \"time\": 4.97, \"image\": \"Peugeot307_59.MP4\", \"vehicle\": \"Peugeot307\"}, {\"speed\": 60.0, \"time\": 6.33, \"image\": \"Peugeot307_60.MP4\", \"vehicle\": \"Peugeot307\"}, {\"speed\": 63.0, \"time\": 5.08, \"image\": \"Peugeot307_63.MP4\", \"vehicle\": \"Peugeot307\"}, {\"speed\": 66.0, \"time\": 5.18, \"image\": \"Peugeot307_66.MP4\", \"vehicle\": \"Peugeot307\"}, {\"speed\": 69.0, \"time\": 4.85, \"image\": \"Peugeot307_69.MP4\", \"vehicle\": \"Peugeot307\"}, {\"speed\": 72.0, \"time\": 4.6, \"image\": \"Peugeot307_72.MP4\", \"vehicle\": \"Peugeot307\"}, {\"speed\": 73.0, \"time\": 4.95, \"image\": \"Peugeot307_73.MP4\", \"vehicle\": \"Peugeot307\"}, {\"speed\": 76.0, \"time\": 4.9, \"image\": \"Peugeot307_76.MP4\", \"vehicle\": \"Peugeot307\"}, {\"speed\": 79.0, \"time\": 4.93, \"image\": \"Peugeot307_79.MP4\", \"vehicle\": \"Peugeot307\"}, {\"speed\": 82.0, \"time\": 5.22, \"image\": \"Peugeot307_82.MP4\", \"vehicle\": \"Peugeot307\"}, {\"speed\": 85.0, \"time\": 5.25, \"image\": \"Peugeot307_85.MP4\", \"vehicle\": \"Peugeot307\"}, {\"speed\": 88.0, \"time\": 4.94, \"image\": \"Peugeot307_88.MP4\", \"vehicle\": \"Peugeot307\"}, {\"speed\": 91.0, \"time\": 5.05, \"image\": \"Peugeot307_91.MP4\", \"vehicle\": \"Peugeot307\"}, {\"speed\": 94.0, \"time\": 4.75, \"image\": \"Peugeot307_94.MP4\", \"vehicle\": \"Peugeot307\"}, {\"speed\": 97.0, \"time\": 4.95, \"image\": \"Peugeot307_97.MP4\", \"vehicle\": \"Peugeot307\"}, {\"speed\": 100.0, \"time\": 5.19, \"image\": \"RenaultCaptur_100.MP4\", \"vehicle\": \"RenaultCaptur\"}, {\"speed\": 102.0, \"time\": 5.34, \"image\": \"RenaultCaptur_102.MP4\", \"vehicle\": \"RenaultCaptur\"}, {\"speed\": 30.0, \"time\": 5.55, \"image\": \"RenaultCaptur_30.MP4\", \"vehicle\": \"RenaultCaptur\"}, {\"speed\": 33.0, \"time\": 5.85, \"image\": \"RenaultCaptur_33.MP4\", \"vehicle\": \"RenaultCaptur\"}, {\"speed\": 36.0, \"time\": 5.32, \"image\": \"RenaultCaptur_36.MP4\", \"vehicle\": \"RenaultCaptur\"}, {\"speed\": 38.0, \"time\": 5.44, \"image\": \"RenaultCaptur_38.MP4\", \"vehicle\": \"RenaultCaptur\"}, {\"speed\": 40.0, \"time\": 5.29, \"image\": \"RenaultCaptur_40.MP4\", \"vehicle\": \"RenaultCaptur\"}, {\"speed\": 41.0, \"time\": 5.36, \"image\": \"RenaultCaptur_41.MP4\", \"vehicle\": \"RenaultCaptur\"}, {\"speed\": 44.0, \"time\": 5.3, \"image\": \"RenaultCaptur_44.MP4\", \"vehicle\": \"RenaultCaptur\"}, {\"speed\": 46.0, \"time\": 4.68, \"image\": \"RenaultCaptur_46.MP4\", \"vehicle\": \"RenaultCaptur\"}, {\"speed\": 47.0, \"time\": 5.28, \"image\": \"RenaultCaptur_47.MP4\", \"vehicle\": \"RenaultCaptur\"}, {\"speed\": 48.0, \"time\": 5.57, \"image\": \"RenaultCaptur_48.MP4\", \"vehicle\": \"RenaultCaptur\"}, {\"speed\": 50.0, \"time\": 5.09, \"image\": \"RenaultCaptur_50.MP4\", \"vehicle\": \"RenaultCaptur\"}, {\"speed\": 52.0, \"time\": 5.53, \"image\": \"RenaultCaptur_52.MP4\", \"vehicle\": \"RenaultCaptur\"}, {\"speed\": 56.0, \"time\": 5.21, \"image\": \"RenaultCaptur_56.MP4\", \"vehicle\": \"RenaultCaptur\"}, {\"speed\": 58.0, \"time\": 5.32, \"image\": \"RenaultCaptur_58.MP4\", \"vehicle\": \"RenaultCaptur\"}, {\"speed\": 60.0, \"time\": 5.39, \"image\": \"RenaultCaptur_60.MP4\", \"vehicle\": \"RenaultCaptur\"}, {\"speed\": 63.0, \"time\": 5.42, \"image\": \"RenaultCaptur_63.MP4\", \"vehicle\": \"RenaultCaptur\"}, {\"speed\": 66.0, \"time\": 5.01, \"image\": \"RenaultCaptur_66.MP4\", \"vehicle\": \"RenaultCaptur\"}, {\"speed\": 68.0, \"time\": 5.15, \"image\": \"RenaultCaptur_68.MP4\", \"vehicle\": \"RenaultCaptur\"}, {\"speed\": 70.0, \"time\": 5.75, \"image\": \"RenaultCaptur_70.MP4\", \"vehicle\": \"RenaultCaptur\"}, {\"speed\": 72.0, \"time\": 5.08, \"image\": \"RenaultCaptur_72.MP4\", \"vehicle\": \"RenaultCaptur\"}, {\"speed\": 76.0, \"time\": 5.94, \"image\": \"RenaultCaptur_76.MP4\", \"vehicle\": \"RenaultCaptur\"}, {\"speed\": 78.0, \"time\": 5.32, \"image\": \"RenaultCaptur_78.MP4\", \"vehicle\": \"RenaultCaptur\"}, {\"speed\": 80.0, \"time\": 4.79, \"image\": \"RenaultCaptur_80.MP4\", \"vehicle\": \"RenaultCaptur\"}, {\"speed\": 83.0, \"time\": 5.59, \"image\": \"RenaultCaptur_83.MP4\", \"vehicle\": \"RenaultCaptur\"}, {\"speed\": 86.0, \"time\": 5.18, \"image\": \"RenaultCaptur_86.MP4\", \"vehicle\": \"RenaultCaptur\"}, {\"speed\": 88.0, \"time\": 5.24, \"image\": \"RenaultCaptur_88.MP4\", \"vehicle\": \"RenaultCaptur\"}, {\"speed\": 90.0, \"time\": 5.61, \"image\": \"RenaultCaptur_90.MP4\", \"vehicle\": \"RenaultCaptur\"}, {\"speed\": 92.0, \"time\": 5.64, \"image\": \"RenaultCaptur_92.MP4\", \"vehicle\": \"RenaultCaptur\"}, {\"speed\": 94.0, \"time\": 5.06, \"image\": \"RenaultCaptur_94.MP4\", \"vehicle\": \"RenaultCaptur\"}, {\"speed\": 97.0, \"time\": 6.02, \"image\": \"RenaultCaptur_97.MP4\", \"vehicle\": \"RenaultCaptur\"}, {\"speed\": 98.0, \"time\": 5.11, \"image\": \"RenaultCaptur_98.MP4\", \"vehicle\": \"RenaultCaptur\"}, {\"speed\": 101.0, \"time\": 6.17, \"image\": \"RenaultScenic_101.MP4\", \"vehicle\": \"RenaultScenic\"}, {\"speed\": 30.0, \"time\": 6.0, \"image\": \"RenaultScenic_30.MP4\", \"vehicle\": \"RenaultScenic\"}, {\"speed\": 35.0, \"time\": 6.82, \"image\": \"RenaultScenic_35.MP4\", \"vehicle\": \"RenaultScenic\"}, {\"speed\": 36.0, \"time\": 6.01, \"image\": \"RenaultScenic_36.MP4\", \"vehicle\": \"RenaultScenic\"}, {\"speed\": 38.0, \"time\": 6.03, \"image\": \"RenaultScenic_38.MP4\", \"vehicle\": \"RenaultScenic\"}, {\"speed\": 40.0, \"time\": 6.7, \"image\": \"RenaultScenic_40.MP4\", \"vehicle\": \"RenaultScenic\"}, {\"speed\": 42.0, \"time\": 5.83, \"image\": \"RenaultScenic_42.MP4\", \"vehicle\": \"RenaultScenic\"}, {\"speed\": 44.0, \"time\": 5.27, \"image\": \"RenaultScenic_44.MP4\", \"vehicle\": \"RenaultScenic\"}, {\"speed\": 46.0, \"time\": 6.75, \"image\": \"RenaultScenic_46.MP4\", \"vehicle\": \"RenaultScenic\"}, {\"speed\": 48.0, \"time\": 5.75, \"image\": \"RenaultScenic_48.MP4\", \"vehicle\": \"RenaultScenic\"}, {\"speed\": 50.0, \"time\": 7.25, \"image\": \"RenaultScenic_50.MP4\", \"vehicle\": \"RenaultScenic\"}, {\"speed\": 52.0, \"time\": 5.25, \"image\": \"RenaultScenic_52.MP4\", \"vehicle\": \"RenaultScenic\"}, {\"speed\": 54.0, \"time\": 5.46, \"image\": \"RenaultScenic_54.MP4\", \"vehicle\": \"RenaultScenic\"}, {\"speed\": 57.0, \"time\": 6.6, \"image\": \"RenaultScenic_57.MP4\", \"vehicle\": \"RenaultScenic\"}, {\"speed\": 60.0, \"time\": 6.12, \"image\": \"RenaultScenic_60.MP4\", \"vehicle\": \"RenaultScenic\"}, {\"speed\": 62.0, \"time\": 6.05, \"image\": \"RenaultScenic_62.MP4\", \"vehicle\": \"RenaultScenic\"}, {\"speed\": 64.0, \"time\": 5.76, \"image\": \"RenaultScenic_64.MP4\", \"vehicle\": \"RenaultScenic\"}, {\"speed\": 66.0, \"time\": 5.35, \"image\": \"RenaultScenic_66.MP4\", \"vehicle\": \"RenaultScenic\"}, {\"speed\": 68.0, \"time\": 6.57, \"image\": \"RenaultScenic_68.MP4\", \"vehicle\": \"RenaultScenic\"}, {\"speed\": 70.0, \"time\": 5.85, \"image\": \"RenaultScenic_70.MP4\", \"vehicle\": \"RenaultScenic\"}, {\"speed\": 71.0, \"time\": 5.99, \"image\": \"RenaultScenic_71.MP4\", \"vehicle\": \"RenaultScenic\"}, {\"speed\": 72.0, \"time\": 5.23, \"image\": \"RenaultScenic_72.MP4\", \"vehicle\": \"RenaultScenic\"}, {\"speed\": 74.0, \"time\": 5.7, \"image\": \"RenaultScenic_74.MP4\", \"vehicle\": \"RenaultScenic\"}, {\"speed\": 75.0, \"time\": 5.45, \"image\": \"RenaultScenic_75.MP4\", \"vehicle\": \"RenaultScenic\"}, {\"speed\": 77.0, \"time\": 7.32, \"image\": \"RenaultScenic_77.MP4\", \"vehicle\": \"RenaultScenic\"}, {\"speed\": 80.0, \"time\": 7.01, \"image\": \"RenaultScenic_80.MP4\", \"vehicle\": \"RenaultScenic\"}, {\"speed\": 82.0, \"time\": 6.06, \"image\": \"RenaultScenic_82.MP4\", \"vehicle\": \"RenaultScenic\"}, {\"speed\": 84.0, \"time\": 5.39, \"image\": \"RenaultScenic_84.MP4\", \"vehicle\": \"RenaultScenic\"}, {\"speed\": 86.0, \"time\": 5.65, \"image\": \"RenaultScenic_86.MP4\", \"vehicle\": \"RenaultScenic\"}, {\"speed\": 87.0, \"time\": 6.0, \"image\": \"RenaultScenic_87.MP4\", \"vehicle\": \"RenaultScenic\"}, {\"speed\": 90.0, \"time\": 5.09, \"image\": \"RenaultScenic_90.MP4\", \"vehicle\": \"RenaultScenic\"}, {\"speed\": 91.0, \"time\": 6.21, \"image\": \"RenaultScenic_91.MP4\", \"vehicle\": \"RenaultScenic\"}, {\"speed\": 94.0, \"time\": 6.18, \"image\": \"RenaultScenic_94.MP4\", \"vehicle\": \"RenaultScenic\"}, {\"speed\": 95.0, \"time\": 6.23, \"image\": \"RenaultScenic_95.MP4\", \"vehicle\": \"RenaultScenic\"}, {\"speed\": 98.0, \"time\": 5.38, \"image\": \"RenaultScenic_98.MP4\", \"vehicle\": \"RenaultScenic\"}, {\"speed\": 100.0, \"time\": 6.01, \"image\": \"VWPassat_100.MP4\", \"vehicle\": \"VWPassat\"}, {\"speed\": 30.0, \"time\": 6.46, \"image\": \"VWPassat_30.MP4\", \"vehicle\": \"VWPassat\"}, {\"speed\": 35.0, \"time\": 5.92, \"image\": \"VWPassat_35.MP4\", \"vehicle\": \"VWPassat\"}, {\"speed\": 39.0, \"time\": 5.27, \"image\": \"VWPassat_39.MP4\", \"vehicle\": \"VWPassat\"}, {\"speed\": 40.0, \"time\": 6.53, \"image\": \"VWPassat_40.MP4\", \"vehicle\": \"VWPassat\"}, {\"speed\": 42.0, \"time\": 6.72, \"image\": \"VWPassat_42.MP4\", \"vehicle\": \"VWPassat\"}, {\"speed\": 45.0, \"time\": 6.35, \"image\": \"VWPassat_45.MP4\", \"vehicle\": \"VWPassat\"}, {\"speed\": 47.0, \"time\": 5.25, \"image\": \"VWPassat_47.MP4\", \"vehicle\": \"VWPassat\"}, {\"speed\": 49.0, \"time\": 5.27, \"image\": \"VWPassat_49.MP4\", \"vehicle\": \"VWPassat\"}, {\"speed\": 50.0, \"time\": 6.0, \"image\": \"VWPassat_50.MP4\", \"vehicle\": \"VWPassat\"}, {\"speed\": 52.0, \"time\": 6.02, \"image\": \"VWPassat_52.MP4\", \"vehicle\": \"VWPassat\"}, {\"speed\": 54.0, \"time\": 5.54, \"image\": \"VWPassat_54.MP4\", \"vehicle\": \"VWPassat\"}, {\"speed\": 55.0, \"time\": 6.02, \"image\": \"VWPassat_55.MP4\", \"vehicle\": \"VWPassat\"}, {\"speed\": 57.0, \"time\": 4.98, \"image\": \"VWPassat_57.MP4\", \"vehicle\": \"VWPassat\"}, {\"speed\": 60.0, \"time\": 5.98, \"image\": \"VWPassat_60.MP4\", \"vehicle\": \"VWPassat\"}, {\"speed\": 61.0, \"time\": 6.01, \"image\": \"VWPassat_61.MP4\", \"vehicle\": \"VWPassat\"}, {\"speed\": 64.0, \"time\": 5.67, \"image\": \"VWPassat_64.MP4\", \"vehicle\": \"VWPassat\"}, {\"speed\": 65.0, \"time\": 5.82, \"image\": \"VWPassat_65.MP4\", \"vehicle\": \"VWPassat\"}, {\"speed\": 67.0, \"time\": 5.08, \"image\": \"VWPassat_67.MP4\", \"vehicle\": \"VWPassat\"}, {\"speed\": 70.0, \"time\": 6.0, \"image\": \"VWPassat_70.MP4\", \"vehicle\": \"VWPassat\"}, {\"speed\": 71.0, \"time\": 5.51, \"image\": \"VWPassat_71.MP4\", \"vehicle\": \"VWPassat\"}, {\"speed\": 72.0, \"time\": 5.42, \"image\": \"VWPassat_72.MP4\", \"vehicle\": \"VWPassat\"}, {\"speed\": 73.0, \"time\": 5.32, \"image\": \"VWPassat_73.MP4\", \"vehicle\": \"VWPassat\"}, {\"speed\": 75.0, \"time\": 6.02, \"image\": \"VWPassat_75.MP4\", \"vehicle\": \"VWPassat\"}, {\"speed\": 78.0, \"time\": 5.85, \"image\": \"VWPassat_78.MP4\", \"vehicle\": \"VWPassat\"}, {\"speed\": 80.0, \"time\": 5.99, \"image\": \"VWPassat_80.MP4\", \"vehicle\": \"VWPassat\"}, {\"speed\": 81.0, \"time\": 5.58, \"image\": \"VWPassat_81.MP4\", \"vehicle\": \"VWPassat\"}, {\"speed\": 82.0, \"time\": 5.62, \"image\": \"VWPassat_82.MP4\", \"vehicle\": \"VWPassat\"}, {\"speed\": 85.0, \"time\": 6.23, \"image\": \"VWPassat_85.MP4\", \"vehicle\": \"VWPassat\"}, {\"speed\": 88.0, \"time\": 7.31, \"image\": \"VWPassat_88.MP4\", \"vehicle\": \"VWPassat\"}, {\"speed\": 90.0, \"time\": 5.2, \"image\": \"VWPassat_90.MP4\", \"vehicle\": \"VWPassat\"}, {\"speed\": 91.0, \"time\": 5.45, \"image\": \"VWPassat_91.MP4\", \"vehicle\": \"VWPassat\"}, {\"speed\": 94.0, \"time\": 6.0, \"image\": \"VWPassat_94.MP4\", \"vehicle\": \"VWPassat\"}, {\"speed\": 96.0, \"time\": 5.72, \"image\": \"VWPassat_96.MP4\", \"vehicle\": \"VWPassat\"}, {\"speed\": 98.0, \"time\": 5.99, \"image\": \"VWPassat_98.MP4\", \"vehicle\": \"VWPassat\"}]}}, {\"mode\": \"vega-lite\"});\n",
       "</script>"
      ],
      "text/plain": [
       "alt.LayerChart(...)"
      ]
     },
     "execution_count": 10,
     "metadata": {},
     "output_type": "execute_result"
    }
   ],
   "source": [
    "correlation_matrix = df_combined[['speed', 'time']].corr()\n",
    "correlation = correlation_matrix['speed']['time']\n",
    "\n",
    "scatter_plot = alt.Chart(df_combined).mark_point(filled=True, size=40, opacity=0.5).encode(\n",
    "    x=alt.X('speed:Q', axis=alt.Axis(title='Velocidad (km/h)')),\n",
    "    y=alt.Y('time:Q', axis=alt.Axis(title='Tiempo (s)')),\n",
    "    tooltip=['speed', 'time'],\n",
    "    color=alt.value('steelblue')\n",
    ").properties(\n",
    "    width=500,  # Increased width for better readability\n",
    "    height=400,  # Adjusted height for a better aspect ratio\n",
    "    title=alt.TitleParams(f'Correlacion Velocidad vs Tiempo (Correlation: {correlation:.2f})', \n",
    "                          fontSize=16, fontWeight='bold', anchor='middle')  # Centered and styled title\n",
    ")\n",
    "\n",
    "trendline = alt.Chart(df_combined).transform_regression('speed', 'time').mark_line(color='red', strokeWidth=3).encode(\n",
    "    x='speed:Q',\n",
    "    y='time:Q'\n",
    ")\n",
    "\n",
    "final_chart = scatter_plot + trendline\n",
    "final_chart"
   ]
  },
  {
   "cell_type": "code",
   "execution_count": 11,
   "metadata": {
    "collapsed": false,
    "jupyter": {
     "outputs_hidden": false
    },
    "pycharm": {
     "name": "#%%\n"
    }
   },
   "outputs": [
    {
     "data": {
      "text/html": [
       "\n",
       "<style>\n",
       "  #altair-viz-eff2c1b0f369471e84712a81195c6f8c.vega-embed {\n",
       "    width: 100%;\n",
       "    display: flex;\n",
       "  }\n",
       "\n",
       "  #altair-viz-eff2c1b0f369471e84712a81195c6f8c.vega-embed details,\n",
       "  #altair-viz-eff2c1b0f369471e84712a81195c6f8c.vega-embed details summary {\n",
       "    position: relative;\n",
       "  }\n",
       "</style>\n",
       "<div id=\"altair-viz-eff2c1b0f369471e84712a81195c6f8c\"></div>\n",
       "<script type=\"text/javascript\">\n",
       "  var VEGA_DEBUG = (typeof VEGA_DEBUG == \"undefined\") ? {} : VEGA_DEBUG;\n",
       "  (function(spec, embedOpt){\n",
       "    let outputDiv = document.currentScript.previousElementSibling;\n",
       "    if (outputDiv.id !== \"altair-viz-eff2c1b0f369471e84712a81195c6f8c\") {\n",
       "      outputDiv = document.getElementById(\"altair-viz-eff2c1b0f369471e84712a81195c6f8c\");\n",
       "    }\n",
       "    const paths = {\n",
       "      \"vega\": \"https://cdn.jsdelivr.net/npm/vega@5?noext\",\n",
       "      \"vega-lib\": \"https://cdn.jsdelivr.net/npm/vega-lib?noext\",\n",
       "      \"vega-lite\": \"https://cdn.jsdelivr.net/npm/vega-lite@5.8.0?noext\",\n",
       "      \"vega-embed\": \"https://cdn.jsdelivr.net/npm/vega-embed@6?noext\",\n",
       "    };\n",
       "\n",
       "    function maybeLoadScript(lib, version) {\n",
       "      var key = `${lib.replace(\"-\", \"\")}_version`;\n",
       "      return (VEGA_DEBUG[key] == version) ?\n",
       "        Promise.resolve(paths[lib]) :\n",
       "        new Promise(function(resolve, reject) {\n",
       "          var s = document.createElement('script');\n",
       "          document.getElementsByTagName(\"head\")[0].appendChild(s);\n",
       "          s.async = true;\n",
       "          s.onload = () => {\n",
       "            VEGA_DEBUG[key] = version;\n",
       "            return resolve(paths[lib]);\n",
       "          };\n",
       "          s.onerror = () => reject(`Error loading script: ${paths[lib]}`);\n",
       "          s.src = paths[lib];\n",
       "        });\n",
       "    }\n",
       "\n",
       "    function showError(err) {\n",
       "      outputDiv.innerHTML = `<div class=\"error\" style=\"color:red;\">${err}</div>`;\n",
       "      throw err;\n",
       "    }\n",
       "\n",
       "    function displayChart(vegaEmbed) {\n",
       "      vegaEmbed(outputDiv, spec, embedOpt)\n",
       "        .catch(err => showError(`Javascript Error: ${err.message}<br>This usually means there's a typo in your chart specification. See the javascript console for the full traceback.`));\n",
       "    }\n",
       "\n",
       "    if(typeof define === \"function\" && define.amd) {\n",
       "      requirejs.config({paths});\n",
       "      require([\"vega-embed\"], displayChart, err => showError(`Error loading script: ${err.message}`));\n",
       "    } else {\n",
       "      maybeLoadScript(\"vega\", \"5\")\n",
       "        .then(() => maybeLoadScript(\"vega-lite\", \"5.8.0\"))\n",
       "        .then(() => maybeLoadScript(\"vega-embed\", \"6\"))\n",
       "        .catch(showError)\n",
       "        .then(() => displayChart(vegaEmbed));\n",
       "    }\n",
       "  })({\"config\": {\"view\": {\"continuousWidth\": 300, \"continuousHeight\": 300, \"stroke\": null}, \"facet\": {\"spacing\": 0}}, \"data\": {\"name\": \"data-5d3be3fd43ab46cca79cf2374d1a4771\"}, \"mark\": {\"type\": \"area\", \"orient\": \"horizontal\"}, \"encoding\": {\"color\": {\"field\": \"vehicle\", \"type\": \"nominal\"}, \"column\": {\"field\": \"vehicle\", \"header\": {\"labelOrient\": \"bottom\", \"labelPadding\": 0, \"titleOrient\": \"bottom\"}, \"type\": \"nominal\"}, \"tooltip\": [{\"field\": \"speed\", \"type\": \"quantitative\"}, {\"field\": \"density\", \"type\": \"quantitative\"}], \"x\": {\"axis\": {\"grid\": false, \"labels\": false, \"ticks\": true, \"values\": [0]}, \"field\": \"density\", \"impute\": null, \"stack\": \"center\", \"title\": null, \"type\": \"quantitative\"}, \"y\": {\"field\": \"speed\", \"type\": \"quantitative\"}}, \"height\": 300, \"title\": \"Grafico de densidad de velocidad por tiempo\", \"transform\": [{\"density\": \"speed\", \"groupby\": [\"vehicle\"], \"as\": [\"speed\", \"density\"]}], \"width\": 100, \"$schema\": \"https://vega.github.io/schema/vega-lite/v5.8.0.json\", \"datasets\": {\"data-5d3be3fd43ab46cca79cf2374d1a4771\": [{\"speed\": 101.0, \"time\": 7.49, \"image\": \"CitroenC4Picasso_101.MP4\", \"vehicle\": \"CitroenC4Picasso\"}, {\"speed\": 35.0, \"time\": 6.25, \"image\": \"CitroenC4Picasso_35.MP4\", \"vehicle\": \"CitroenC4Picasso\"}, {\"speed\": 38.0, \"time\": 5.82, \"image\": \"CitroenC4Picasso_38.MP4\", \"vehicle\": \"CitroenC4Picasso\"}, {\"speed\": 41.0, \"time\": 6.16, \"image\": \"CitroenC4Picasso_41.MP4\", \"vehicle\": \"CitroenC4Picasso\"}, {\"speed\": 44.0, \"time\": 5.44, \"image\": \"CitroenC4Picasso_44.MP4\", \"vehicle\": \"CitroenC4Picasso\"}, {\"speed\": 48.0, \"time\": 6.03, \"image\": \"CitroenC4Picasso_48.MP4\", \"vehicle\": \"CitroenC4Picasso\"}, {\"speed\": 51.0, \"time\": 5.85, \"image\": \"CitroenC4Picasso_51.MP4\", \"vehicle\": \"CitroenC4Picasso\"}, {\"speed\": 54.0, \"time\": 5.65, \"image\": \"CitroenC4Picasso_54.MP4\", \"vehicle\": \"CitroenC4Picasso\"}, {\"speed\": 57.0, \"time\": 5.95, \"image\": \"CitroenC4Picasso_57.MP4\", \"vehicle\": \"CitroenC4Picasso\"}, {\"speed\": 59.0, \"time\": 5.85, \"image\": \"CitroenC4Picasso_59.MP4\", \"vehicle\": \"CitroenC4Picasso\"}, {\"speed\": 63.0, \"time\": 6.06, \"image\": \"CitroenC4Picasso_63.MP4\", \"vehicle\": \"CitroenC4Picasso\"}, {\"speed\": 65.0, \"time\": 5.66, \"image\": \"CitroenC4Picasso_65.MP4\", \"vehicle\": \"CitroenC4Picasso\"}, {\"speed\": 68.0, \"time\": 6.16, \"image\": \"CitroenC4Picasso_68.MP4\", \"vehicle\": \"CitroenC4Picasso\"}, {\"speed\": 72.0, \"time\": 5.75, \"image\": \"CitroenC4Picasso_72.MP4\", \"vehicle\": \"CitroenC4Picasso\"}, {\"speed\": 74.0, \"time\": 6.26, \"image\": \"CitroenC4Picasso_74.MP4\", \"vehicle\": \"CitroenC4Picasso\"}, {\"speed\": 78.0, \"time\": 6.14, \"image\": \"CitroenC4Picasso_78.MP4\", \"vehicle\": \"CitroenC4Picasso\"}, {\"speed\": 80.0, \"time\": 5.41, \"image\": \"CitroenC4Picasso_80.MP4\", \"vehicle\": \"CitroenC4Picasso\"}, {\"speed\": 83.0, \"time\": 6.63, \"image\": \"CitroenC4Picasso_83.MP4\", \"vehicle\": \"CitroenC4Picasso\"}, {\"speed\": 85.0, \"time\": 5.67, \"image\": \"CitroenC4Picasso_85.MP4\", \"vehicle\": \"CitroenC4Picasso\"}, {\"speed\": 87.0, \"time\": 6.19, \"image\": \"CitroenC4Picasso_87.MP4\", \"vehicle\": \"CitroenC4Picasso\"}, {\"speed\": 92.0, \"time\": 7.62, \"image\": \"CitroenC4Picasso_92.MP4\", \"vehicle\": \"CitroenC4Picasso\"}, {\"speed\": 94.0, \"time\": 6.79, \"image\": \"CitroenC4Picasso_94.MP4\", \"vehicle\": \"CitroenC4Picasso\"}, {\"speed\": 96.0, \"time\": 5.79, \"image\": \"CitroenC4Picasso_96.MP4\", \"vehicle\": \"CitroenC4Picasso\"}, {\"speed\": 100.0, \"time\": 4.98, \"image\": \"KiaSportage_100.MP4\", \"vehicle\": \"KiaSportage\"}, {\"speed\": 103.0, \"time\": 4.91, \"image\": \"KiaSportage_103.MP4\", \"vehicle\": \"KiaSportage\"}, {\"speed\": 105.0, \"time\": 4.98, \"image\": \"KiaSportage_105.MP4\", \"vehicle\": \"KiaSportage\"}, {\"speed\": 31.0, \"time\": 4.94, \"image\": \"KiaSportage_31.MP4\", \"vehicle\": \"KiaSportage\"}, {\"speed\": 33.0, \"time\": 4.91, \"image\": \"KiaSportage_33.MP4\", \"vehicle\": \"KiaSportage\"}, {\"speed\": 35.0, \"time\": 4.93, \"image\": \"KiaSportage_35.MP4\", \"vehicle\": \"KiaSportage\"}, {\"speed\": 38.0, \"time\": 5.05, \"image\": \"KiaSportage_38.MP4\", \"vehicle\": \"KiaSportage\"}, {\"speed\": 41.0, \"time\": 4.93, \"image\": \"KiaSportage_41.MP4\", \"vehicle\": \"KiaSportage\"}, {\"speed\": 44.0, \"time\": 5.02, \"image\": \"KiaSportage_44.MP4\", \"vehicle\": \"KiaSportage\"}, {\"speed\": 46.0, \"time\": 4.94, \"image\": \"KiaSportage_46.MP4\", \"vehicle\": \"KiaSportage\"}, {\"speed\": 48.0, \"time\": 4.96, \"image\": \"KiaSportage_48.MP4\", \"vehicle\": \"KiaSportage\"}, {\"speed\": 51.0, \"time\": 4.92, \"image\": \"KiaSportage_51.MP4\", \"vehicle\": \"KiaSportage\"}, {\"speed\": 53.0, \"time\": 4.97, \"image\": \"KiaSportage_53.MP4\", \"vehicle\": \"KiaSportage\"}, {\"speed\": 55.0, \"time\": 4.95, \"image\": \"KiaSportage_55.MP4\", \"vehicle\": \"KiaSportage\"}, {\"speed\": 58.0, \"time\": 4.92, \"image\": \"KiaSportage_58.MP4\", \"vehicle\": \"KiaSportage\"}, {\"speed\": 61.0, \"time\": 4.96, \"image\": \"KiaSportage_61.MP4\", \"vehicle\": \"KiaSportage\"}, {\"speed\": 63.0, \"time\": 5.0, \"image\": \"KiaSportage_63.MP4\", \"vehicle\": \"KiaSportage\"}, {\"speed\": 65.0, \"time\": 4.93, \"image\": \"KiaSportage_65.MP4\", \"vehicle\": \"KiaSportage\"}, {\"speed\": 68.0, \"time\": 4.96, \"image\": \"KiaSportage_68.MP4\", \"vehicle\": \"KiaSportage\"}, {\"speed\": 69.0, \"time\": 4.94, \"image\": \"KiaSportage_69.MP4\", \"vehicle\": \"KiaSportage\"}, {\"speed\": 72.0, \"time\": 4.95, \"image\": \"KiaSportage_72.MP4\", \"vehicle\": \"KiaSportage\"}, {\"speed\": 74.0, \"time\": 4.94, \"image\": \"KiaSportage_74.MP4\", \"vehicle\": \"KiaSportage\"}, {\"speed\": 77.0, \"time\": 5.02, \"image\": \"KiaSportage_77.MP4\", \"vehicle\": \"KiaSportage\"}, {\"speed\": 78.0, \"time\": 4.95, \"image\": \"KiaSportage_78.MP4\", \"vehicle\": \"KiaSportage\"}, {\"speed\": 80.0, \"time\": 4.94, \"image\": \"KiaSportage_80.MP4\", \"vehicle\": \"KiaSportage\"}, {\"speed\": 83.0, \"time\": 4.95, \"image\": \"KiaSportage_83.MP4\", \"vehicle\": \"KiaSportage\"}, {\"speed\": 85.0, \"time\": 4.95, \"image\": \"KiaSportage_85.MP4\", \"vehicle\": \"KiaSportage\"}, {\"speed\": 86.0, \"time\": 4.92, \"image\": \"KiaSportage_86.MP4\", \"vehicle\": \"KiaSportage\"}, {\"speed\": 89.0, \"time\": 4.98, \"image\": \"KiaSportage_89.MP4\", \"vehicle\": \"KiaSportage\"}, {\"speed\": 91.0, \"time\": 4.95, \"image\": \"KiaSportage_91.MP4\", \"vehicle\": \"KiaSportage\"}, {\"speed\": 93.0, \"time\": 4.98, \"image\": \"KiaSportage_93.MP4\", \"vehicle\": \"KiaSportage\"}, {\"speed\": 96.0, \"time\": 4.91, \"image\": \"KiaSportage_96.MP4\", \"vehicle\": \"KiaSportage\"}, {\"speed\": 98.0, \"time\": 4.92, \"image\": \"KiaSportage_98.MP4\", \"vehicle\": \"KiaSportage\"}, {\"speed\": 101.0, \"time\": 5.04, \"image\": \"Mazda3_101.MP4\", \"vehicle\": \"Mazda3\"}, {\"speed\": 103.0, \"time\": 5.07, \"image\": \"Mazda3_103.MP4\", \"vehicle\": \"Mazda3\"}, {\"speed\": 105.0, \"time\": 4.99, \"image\": \"Mazda3_105.MP4\", \"vehicle\": \"Mazda3\"}, {\"speed\": 30.0, \"time\": 5.23, \"image\": \"Mazda3_30.MP4\", \"vehicle\": \"Mazda3\"}, {\"speed\": 33.0, \"time\": 5.08, \"image\": \"Mazda3_33.MP4\", \"vehicle\": \"Mazda3\"}, {\"speed\": 35.0, \"time\": 5.12, \"image\": \"Mazda3_35.MP4\", \"vehicle\": \"Mazda3\"}, {\"speed\": 38.0, \"time\": 5.15, \"image\": \"Mazda3_38.MP4\", \"vehicle\": \"Mazda3\"}, {\"speed\": 40.0, \"time\": 5.02, \"image\": \"Mazda3_40.MP4\", \"vehicle\": \"Mazda3\"}, {\"speed\": 43.0, \"time\": 5.02, \"image\": \"Mazda3_43.MP4\", \"vehicle\": \"Mazda3\"}, {\"speed\": 45.0, \"time\": 5.31, \"image\": \"Mazda3_45.MP4\", \"vehicle\": \"Mazda3\"}, {\"speed\": 47.0, \"time\": 5.42, \"image\": \"Mazda3_47.MP4\", \"vehicle\": \"Mazda3\"}, {\"speed\": 50.0, \"time\": 5.62, \"image\": \"Mazda3_50.MP4\", \"vehicle\": \"Mazda3\"}, {\"speed\": 52.0, \"time\": 5.15, \"image\": \"Mazda3_52.MP4\", \"vehicle\": \"Mazda3\"}, {\"speed\": 55.0, \"time\": 5.68, \"image\": \"Mazda3_55.MP4\", \"vehicle\": \"Mazda3\"}, {\"speed\": 57.0, \"time\": 5.08, \"image\": \"Mazda3_57.MP4\", \"vehicle\": \"Mazda3\"}, {\"speed\": 60.0, \"time\": 5.09, \"image\": \"Mazda3_60.MP4\", \"vehicle\": \"Mazda3\"}, {\"speed\": 62.0, \"time\": 5.25, \"image\": \"Mazda3_62.MP4\", \"vehicle\": \"Mazda3\"}, {\"speed\": 64.0, \"time\": 5.02, \"image\": \"Mazda3_64.MP4\", \"vehicle\": \"Mazda3\"}, {\"speed\": 67.0, \"time\": 5.65, \"image\": \"Mazda3_67.MP4\", \"vehicle\": \"Mazda3\"}, {\"speed\": 70.0, \"time\": 5.05, \"image\": \"Mazda3_70.MP4\", \"vehicle\": \"Mazda3\"}, {\"speed\": 72.0, \"time\": 5.16, \"image\": \"Mazda3_72.MP4\", \"vehicle\": \"Mazda3\"}, {\"speed\": 75.0, \"time\": 5.02, \"image\": \"Mazda3_75.MP4\", \"vehicle\": \"Mazda3\"}, {\"speed\": 79.0, \"time\": 5.05, \"image\": \"Mazda3_79.MP4\", \"vehicle\": \"Mazda3\"}, {\"speed\": 81.0, \"time\": 5.22, \"image\": \"Mazda3_81.MP4\", \"vehicle\": \"Mazda3\"}, {\"speed\": 84.0, \"time\": 5.08, \"image\": \"Mazda3_84.MP4\", \"vehicle\": \"Mazda3\"}, {\"speed\": 86.0, \"time\": 5.19, \"image\": \"Mazda3_86.MP4\", \"vehicle\": \"Mazda3\"}, {\"speed\": 88.0, \"time\": 5.09, \"image\": \"Mazda3_88.MP4\", \"vehicle\": \"Mazda3\"}, {\"speed\": 90.0, \"time\": 5.11, \"image\": \"Mazda3_90.MP4\", \"vehicle\": \"Mazda3\"}, {\"speed\": 92.0, \"time\": 5.22, \"image\": \"Mazda3_92.MP4\", \"vehicle\": \"Mazda3\"}, {\"speed\": 94.0, \"time\": 5.04, \"image\": \"Mazda3_94.MP4\", \"vehicle\": \"Mazda3\"}, {\"speed\": 96.0, \"time\": 5.02, \"image\": \"Mazda3_96.MP4\", \"vehicle\": \"Mazda3\"}, {\"speed\": 99.0, \"time\": 4.98, \"image\": \"Mazda3_99.MP4\", \"vehicle\": \"Mazda3\"}, {\"speed\": 100.0, \"time\": 4.94, \"image\": \"MercedesAMG550_100.MP4\", \"vehicle\": \"MercedesAMG550\"}, {\"speed\": 105.0, \"time\": 4.45, \"image\": \"MercedesAMG550_105.MP4\", \"vehicle\": \"MercedesAMG550\"}, {\"speed\": 30.0, \"time\": 5.07, \"image\": \"MercedesAMG550_30.MP4\", \"vehicle\": \"MercedesAMG550\"}, {\"speed\": 33.0, \"time\": 5.68, \"image\": \"MercedesAMG550_33.MP4\", \"vehicle\": \"MercedesAMG550\"}, {\"speed\": 35.0, \"time\": 5.99, \"image\": \"MercedesAMG550_35.MP4\", \"vehicle\": \"MercedesAMG550\"}, {\"speed\": 38.0, \"time\": 5.88, \"image\": \"MercedesAMG550_38.MP4\", \"vehicle\": \"MercedesAMG550\"}, {\"speed\": 40.0, \"time\": 5.13, \"image\": \"MercedesAMG550_40.MP4\", \"vehicle\": \"MercedesAMG550\"}, {\"speed\": 42.0, \"time\": 6.28, \"image\": \"MercedesAMG550_42.MP4\", \"vehicle\": \"MercedesAMG550\"}, {\"speed\": 45.0, \"time\": 5.06, \"image\": \"MercedesAMG550_45.MP4\", \"vehicle\": \"MercedesAMG550\"}, {\"speed\": 47.0, \"time\": 5.67, \"image\": \"MercedesAMG550_47.MP4\", \"vehicle\": \"MercedesAMG550\"}, {\"speed\": 50.0, \"time\": 5.19, \"image\": \"MercedesAMG550_50.MP4\", \"vehicle\": \"MercedesAMG550\"}, {\"speed\": 52.0, \"time\": 5.89, \"image\": \"MercedesAMG550_52.MP4\", \"vehicle\": \"MercedesAMG550\"}, {\"speed\": 55.0, \"time\": 5.07, \"image\": \"MercedesAMG550_55.MP4\", \"vehicle\": \"MercedesAMG550\"}, {\"speed\": 58.0, \"time\": 5.65, \"image\": \"MercedesAMG550_58.MP4\", \"vehicle\": \"MercedesAMG550\"}, {\"speed\": 60.0, \"time\": 5.25, \"image\": \"MercedesAMG550_60.MP4\", \"vehicle\": \"MercedesAMG550\"}, {\"speed\": 62.0, \"time\": 5.38, \"image\": \"MercedesAMG550_62.MP4\", \"vehicle\": \"MercedesAMG550\"}, {\"speed\": 65.0, \"time\": 7.04, \"image\": \"MercedesAMG550_65.MP4\", \"vehicle\": \"MercedesAMG550\"}, {\"speed\": 67.0, \"time\": 5.76, \"image\": \"MercedesAMG550_67.MP4\", \"vehicle\": \"MercedesAMG550\"}, {\"speed\": 70.0, \"time\": 4.83, \"image\": \"MercedesAMG550_70.MP4\", \"vehicle\": \"MercedesAMG550\"}, {\"speed\": 73.0, \"time\": 5.63, \"image\": \"MercedesAMG550_73.MP4\", \"vehicle\": \"MercedesAMG550\"}, {\"speed\": 75.0, \"time\": 5.11, \"image\": \"MercedesAMG550_75.MP4\", \"vehicle\": \"MercedesAMG550\"}, {\"speed\": 78.0, \"time\": 6.11, \"image\": \"MercedesAMG550_78.MP4\", \"vehicle\": \"MercedesAMG550\"}, {\"speed\": 80.0, \"time\": 4.9, \"image\": \"MercedesAMG550_80.MP4\", \"vehicle\": \"MercedesAMG550\"}, {\"speed\": 82.0, \"time\": 5.82, \"image\": \"MercedesAMG550_82.MP4\", \"vehicle\": \"MercedesAMG550\"}, {\"speed\": 85.0, \"time\": 4.84, \"image\": \"MercedesAMG550_85.MP4\", \"vehicle\": \"MercedesAMG550\"}, {\"speed\": 87.0, \"time\": 5.41, \"image\": \"MercedesAMG550_87.MP4\", \"vehicle\": \"MercedesAMG550\"}, {\"speed\": 90.0, \"time\": 6.0, \"image\": \"MercedesAMG550_90.MP4\", \"vehicle\": \"MercedesAMG550\"}, {\"speed\": 93.0, \"time\": 5.68, \"image\": \"MercedesAMG550_93.MP4\", \"vehicle\": \"MercedesAMG550\"}, {\"speed\": 95.0, \"time\": 5.0, \"image\": \"MercedesAMG550_95.MP4\", \"vehicle\": \"MercedesAMG550\"}, {\"speed\": 98.0, \"time\": 5.44, \"image\": \"MercedesAMG550_98.MP4\", \"vehicle\": \"MercedesAMG550\"}, {\"speed\": 100.0, \"time\": 5.0, \"image\": \"MercedesGLA_100.MP4\", \"vehicle\": \"MercedesGLA\"}, {\"speed\": 101.0, \"time\": 5.01, \"image\": \"MercedesGLA_101.MP4\", \"vehicle\": \"MercedesGLA\"}, {\"speed\": 103.0, \"time\": 5.01, \"image\": \"MercedesGLA_103.MP4\", \"vehicle\": \"MercedesGLA\"}, {\"speed\": 104.0, \"time\": 5.01, \"image\": \"MercedesGLA_104.MP4\", \"vehicle\": \"MercedesGLA\"}, {\"speed\": 30.0, \"time\": 4.99, \"image\": \"MercedesGLA_30.MP4\", \"vehicle\": \"MercedesGLA\"}, {\"speed\": 33.0, \"time\": 4.98, \"image\": \"MercedesGLA_33.MP4\", \"vehicle\": \"MercedesGLA\"}, {\"speed\": 36.0, \"time\": 4.99, \"image\": \"MercedesGLA_36.MP4\", \"vehicle\": \"MercedesGLA\"}, {\"speed\": 39.0, \"time\": 5.0, \"image\": \"MercedesGLA_39.MP4\", \"vehicle\": \"MercedesGLA\"}, {\"speed\": 41.0, \"time\": 4.99, \"image\": \"MercedesGLA_41.MP4\", \"vehicle\": \"MercedesGLA\"}, {\"speed\": 42.0, \"time\": 5.0, \"image\": \"MercedesGLA_42.MP4\", \"vehicle\": \"MercedesGLA\"}, {\"speed\": 45.0, \"time\": 5.02, \"image\": \"MercedesGLA_45.MP4\", \"vehicle\": \"MercedesGLA\"}, {\"speed\": 47.0, \"time\": 5.0, \"image\": \"MercedesGLA_47.MP4\", \"vehicle\": \"MercedesGLA\"}, {\"speed\": 48.0, \"time\": 5.0, \"image\": \"MercedesGLA_48.MP4\", \"vehicle\": \"MercedesGLA\"}, {\"speed\": 49.0, \"time\": 5.01, \"image\": \"MercedesGLA_49.MP4\", \"vehicle\": \"MercedesGLA\"}, {\"speed\": 52.0, \"time\": 5.0, \"image\": \"MercedesGLA_52.MP4\", \"vehicle\": \"MercedesGLA\"}, {\"speed\": 54.0, \"time\": 5.0, \"image\": \"MercedesGLA_54.MP4\", \"vehicle\": \"MercedesGLA\"}, {\"speed\": 55.0, \"time\": 4.99, \"image\": \"MercedesGLA_55.MP4\", \"vehicle\": \"MercedesGLA\"}, {\"speed\": 59.0, \"time\": 5.01, \"image\": \"MercedesGLA_59.MP4\", \"vehicle\": \"MercedesGLA\"}, {\"speed\": 61.0, \"time\": 5.08, \"image\": \"MercedesGLA_61.MP4\", \"vehicle\": \"MercedesGLA\"}, {\"speed\": 63.0, \"time\": 4.99, \"image\": \"MercedesGLA_63.MP4\", \"vehicle\": \"MercedesGLA\"}, {\"speed\": 65.0, \"time\": 4.99, \"image\": \"MercedesGLA_65.MP4\", \"vehicle\": \"MercedesGLA\"}, {\"speed\": 68.0, \"time\": 4.99, \"image\": \"MercedesGLA_68.MP4\", \"vehicle\": \"MercedesGLA\"}, {\"speed\": 70.0, \"time\": 5.01, \"image\": \"MercedesGLA_70.MP4\", \"vehicle\": \"MercedesGLA\"}, {\"speed\": 72.0, \"time\": 5.0, \"image\": \"MercedesGLA_72.MP4\", \"vehicle\": \"MercedesGLA\"}, {\"speed\": 75.0, \"time\": 5.0, \"image\": \"MercedesGLA_75.MP4\", \"vehicle\": \"MercedesGLA\"}, {\"speed\": 78.0, \"time\": 5.0, \"image\": \"MercedesGLA_78.MP4\", \"vehicle\": \"MercedesGLA\"}, {\"speed\": 81.0, \"time\": 5.01, \"image\": \"MercedesGLA_81.MP4\", \"vehicle\": \"MercedesGLA\"}, {\"speed\": 83.0, \"time\": 5.01, \"image\": \"MercedesGLA_83.MP4\", \"vehicle\": \"MercedesGLA\"}, {\"speed\": 85.0, \"time\": 5.01, \"image\": \"MercedesGLA_85.MP4\", \"vehicle\": \"MercedesGLA\"}, {\"speed\": 88.0, \"time\": 4.99, \"image\": \"MercedesGLA_88.MP4\", \"vehicle\": \"MercedesGLA\"}, {\"speed\": 90.0, \"time\": 5.1, \"image\": \"MercedesGLA_90.MP4\", \"vehicle\": \"MercedesGLA\"}, {\"speed\": 92.0, \"time\": 5.01, \"image\": \"MercedesGLA_92.MP4\", \"vehicle\": \"MercedesGLA\"}, {\"speed\": 93.0, \"time\": 4.99, \"image\": \"MercedesGLA_93.MP4\", \"vehicle\": \"MercedesGLA\"}, {\"speed\": 96.0, \"time\": 5.0, \"image\": \"MercedesGLA_96.MP4\", \"vehicle\": \"MercedesGLA\"}, {\"speed\": 102.0, \"time\": 5.62, \"image\": \"NissanQashqai_102.MP4\", \"vehicle\": \"NissanQashqai\"}, {\"speed\": 35.0, \"time\": 6.1, \"image\": \"NissanQashqai_35.MP4\", \"vehicle\": \"NissanQashqai\"}, {\"speed\": 38.0, \"time\": 6.19, \"image\": \"NissanQashqai_38.MP4\", \"vehicle\": \"NissanQashqai\"}, {\"speed\": 40.0, \"time\": 5.21, \"image\": \"NissanQashqai_40.MP4\", \"vehicle\": \"NissanQashqai\"}, {\"speed\": 42.0, \"time\": 5.14, \"image\": \"NissanQashqai_42.MP4\", \"vehicle\": \"NissanQashqai\"}, {\"speed\": 45.0, \"time\": 6.01, \"image\": \"NissanQashqai_45.MP4\", \"vehicle\": \"NissanQashqai\"}, {\"speed\": 48.0, \"time\": 5.21, \"image\": \"NissanQashqai_48.MP4\", \"vehicle\": \"NissanQashqai\"}, {\"speed\": 50.0, \"time\": 5.85, \"image\": \"NissanQashqai_50.MP4\", \"vehicle\": \"NissanQashqai\"}, {\"speed\": 53.0, \"time\": 5.99, \"image\": \"NissanQashqai_53.MP4\", \"vehicle\": \"NissanQashqai\"}, {\"speed\": 55.0, \"time\": 5.9, \"image\": \"NissanQashqai_55.MP4\", \"vehicle\": \"NissanQashqai\"}, {\"speed\": 58.0, \"time\": 5.61, \"image\": \"NissanQashqai_58.MP4\", \"vehicle\": \"NissanQashqai\"}, {\"speed\": 60.0, \"time\": 5.58, \"image\": \"NissanQashqai_60.MP4\", \"vehicle\": \"NissanQashqai\"}, {\"speed\": 61.0, \"time\": 6.08, \"image\": \"NissanQashqai_61.MP4\", \"vehicle\": \"NissanQashqai\"}, {\"speed\": 64.0, \"time\": 5.92, \"image\": \"NissanQashqai_64.MP4\", \"vehicle\": \"NissanQashqai\"}, {\"speed\": 65.0, \"time\": 5.58, \"image\": \"NissanQashqai_65.MP4\", \"vehicle\": \"NissanQashqai\"}, {\"speed\": 68.0, \"time\": 5.98, \"image\": \"NissanQashqai_68.MP4\", \"vehicle\": \"NissanQashqai\"}, {\"speed\": 70.0, \"time\": 6.04, \"image\": \"NissanQashqai_70.MP4\", \"vehicle\": \"NissanQashqai\"}, {\"speed\": 73.0, \"time\": 6.14, \"image\": \"NissanQashqai_73.MP4\", \"vehicle\": \"NissanQashqai\"}, {\"speed\": 75.0, \"time\": 6.01, \"image\": \"NissanQashqai_75.MP4\", \"vehicle\": \"NissanQashqai\"}, {\"speed\": 78.0, \"time\": 5.9, \"image\": \"NissanQashqai_78.MP4\", \"vehicle\": \"NissanQashqai\"}, {\"speed\": 80.0, \"time\": 5.79, \"image\": \"NissanQashqai_80.MP4\", \"vehicle\": \"NissanQashqai\"}, {\"speed\": 82.0, \"time\": 5.72, \"image\": \"NissanQashqai_82.MP4\", \"vehicle\": \"NissanQashqai\"}, {\"speed\": 85.0, \"time\": 5.91, \"image\": \"NissanQashqai_85.MP4\", \"vehicle\": \"NissanQashqai\"}, {\"speed\": 88.0, \"time\": 6.13, \"image\": \"NissanQashqai_88.MP4\", \"vehicle\": \"NissanQashqai\"}, {\"speed\": 90.0, \"time\": 5.52, \"image\": \"NissanQashqai_90.MP4\", \"vehicle\": \"NissanQashqai\"}, {\"speed\": 93.0, \"time\": 5.79, \"image\": \"NissanQashqai_93.MP4\", \"vehicle\": \"NissanQashqai\"}, {\"speed\": 94.0, \"time\": 5.28, \"image\": \"NissanQashqai_94.MP4\", \"vehicle\": \"NissanQashqai\"}, {\"speed\": 96.0, \"time\": 5.58, \"image\": \"NissanQashqai_96.MP4\", \"vehicle\": \"NissanQashqai\"}, {\"speed\": 98.0, \"time\": 5.38, \"image\": \"NissanQashqai_98.MP4\", \"vehicle\": \"NissanQashqai\"}, {\"speed\": 100.0, \"time\": 5.02, \"image\": \"OpelInsignia_100.MP4\", \"vehicle\": \"OpelInsignia\"}, {\"speed\": 31.0, \"time\": 6.05, \"image\": \"OpelInsignia_31.MP4\", \"vehicle\": \"OpelInsignia\"}, {\"speed\": 35.0, \"time\": 5.92, \"image\": \"OpelInsignia_35.MP4\", \"vehicle\": \"OpelInsignia\"}, {\"speed\": 38.0, \"time\": 6.68, \"image\": \"OpelInsignia_38.MP4\", \"vehicle\": \"OpelInsignia\"}, {\"speed\": 41.0, \"time\": 6.51, \"image\": \"OpelInsignia_41.MP4\", \"vehicle\": \"OpelInsignia\"}, {\"speed\": 44.0, \"time\": 5.92, \"image\": \"OpelInsignia_44.MP4\", \"vehicle\": \"OpelInsignia\"}, {\"speed\": 47.0, \"time\": 5.91, \"image\": \"OpelInsignia_47.MP4\", \"vehicle\": \"OpelInsignia\"}, {\"speed\": 50.0, \"time\": 6.42, \"image\": \"OpelInsignia_50.MP4\", \"vehicle\": \"OpelInsignia\"}, {\"speed\": 53.0, \"time\": 5.71, \"image\": \"OpelInsignia_53.MP4\", \"vehicle\": \"OpelInsignia\"}, {\"speed\": 55.0, \"time\": 5.51, \"image\": \"OpelInsignia_55.MP4\", \"vehicle\": \"OpelInsignia\"}, {\"speed\": 58.0, \"time\": 5.48, \"image\": \"OpelInsignia_58.MP4\", \"vehicle\": \"OpelInsignia\"}, {\"speed\": 61.0, \"time\": 5.54, \"image\": \"OpelInsignia_61.MP4\", \"vehicle\": \"OpelInsignia\"}, {\"speed\": 64.0, \"time\": 5.74, \"image\": \"OpelInsignia_64.MP4\", \"vehicle\": \"OpelInsignia\"}, {\"speed\": 66.0, \"time\": 5.35, \"image\": \"OpelInsignia_66.MP4\", \"vehicle\": \"OpelInsignia\"}, {\"speed\": 68.0, \"time\": 5.25, \"image\": \"OpelInsignia_68.MP4\", \"vehicle\": \"OpelInsignia\"}, {\"speed\": 70.0, \"time\": 5.91, \"image\": \"OpelInsignia_70.MP4\", \"vehicle\": \"OpelInsignia\"}, {\"speed\": 72.0, \"time\": 6.09, \"image\": \"OpelInsignia_72.MP4\", \"vehicle\": \"OpelInsignia\"}, {\"speed\": 73.0, \"time\": 5.39, \"image\": \"OpelInsignia_73.MP4\", \"vehicle\": \"OpelInsignia\"}, {\"speed\": 76.0, \"time\": 6.22, \"image\": \"OpelInsignia_76.MP4\", \"vehicle\": \"OpelInsignia\"}, {\"speed\": 78.0, \"time\": 5.21, \"image\": \"OpelInsignia_78.MP4\", \"vehicle\": \"OpelInsignia\"}, {\"speed\": 80.0, \"time\": 6.24, \"image\": \"OpelInsignia_80.MP4\", \"vehicle\": \"OpelInsignia\"}, {\"speed\": 83.0, \"time\": 6.02, \"image\": \"OpelInsignia_83.MP4\", \"vehicle\": \"OpelInsignia\"}, {\"speed\": 86.0, \"time\": 5.51, \"image\": \"OpelInsignia_86.MP4\", \"vehicle\": \"OpelInsignia\"}, {\"speed\": 89.0, \"time\": 5.59, \"image\": \"OpelInsignia_89.MP4\", \"vehicle\": \"OpelInsignia\"}, {\"speed\": 91.0, \"time\": 5.38, \"image\": \"OpelInsignia_91.MP4\", \"vehicle\": \"OpelInsignia\"}, {\"speed\": 94.0, \"time\": 5.81, \"image\": \"OpelInsignia_94.MP4\", \"vehicle\": \"OpelInsignia\"}, {\"speed\": 97.0, \"time\": 5.72, \"image\": \"OpelInsignia_97.MP4\", \"vehicle\": \"OpelInsignia\"}, {\"speed\": 30.0, \"time\": 5.14, \"image\": \"Peugeot208_30.MP4\", \"vehicle\": \"Peugeot208\"}, {\"speed\": 32.0, \"time\": 5.04, \"image\": \"Peugeot208_32.MP4\", \"vehicle\": \"Peugeot208\"}, {\"speed\": 34.0, \"time\": 5.04, \"image\": \"Peugeot208_34.MP4\", \"vehicle\": \"Peugeot208\"}, {\"speed\": 37.0, \"time\": 5.15, \"image\": \"Peugeot208_37.MP4\", \"vehicle\": \"Peugeot208\"}, {\"speed\": 40.0, \"time\": 5.14, \"image\": \"Peugeot208_40.MP4\", \"vehicle\": \"Peugeot208\"}, {\"speed\": 43.0, \"time\": 5.1, \"image\": \"Peugeot208_43.MP4\", \"vehicle\": \"Peugeot208\"}, {\"speed\": 45.0, \"time\": 5.12, \"image\": \"Peugeot208_45.MP4\", \"vehicle\": \"Peugeot208\"}, {\"speed\": 47.0, \"time\": 5.02, \"image\": \"Peugeot208_47.MP4\", \"vehicle\": \"Peugeot208\"}, {\"speed\": 50.0, \"time\": 4.93, \"image\": \"Peugeot208_50.MP4\", \"vehicle\": \"Peugeot208\"}, {\"speed\": 51.0, \"time\": 5.52, \"image\": \"Peugeot208_51.MP4\", \"vehicle\": \"Peugeot208\"}, {\"speed\": 54.0, \"time\": 5.17, \"image\": \"Peugeot208_54.MP4\", \"vehicle\": \"Peugeot208\"}, {\"speed\": 57.0, \"time\": 5.51, \"image\": \"Peugeot208_57.MP4\", \"vehicle\": \"Peugeot208\"}, {\"speed\": 60.0, \"time\": 5.06, \"image\": \"Peugeot208_60.MP4\", \"vehicle\": \"Peugeot208\"}, {\"speed\": 62.0, \"time\": 5.09, \"image\": \"Peugeot208_62.MP4\", \"vehicle\": \"Peugeot208\"}, {\"speed\": 64.0, \"time\": 5.22, \"image\": \"Peugeot208_64.MP4\", \"vehicle\": \"Peugeot208\"}, {\"speed\": 67.0, \"time\": 5.03, \"image\": \"Peugeot208_67.MP4\", \"vehicle\": \"Peugeot208\"}, {\"speed\": 68.0, \"time\": 5.18, \"image\": \"Peugeot208_68.MP4\", \"vehicle\": \"Peugeot208\"}, {\"speed\": 71.0, \"time\": 5.16, \"image\": \"Peugeot208_71.MP4\", \"vehicle\": \"Peugeot208\"}, {\"speed\": 73.0, \"time\": 4.99, \"image\": \"Peugeot208_73.MP4\", \"vehicle\": \"Peugeot208\"}, {\"speed\": 76.0, \"time\": 5.61, \"image\": \"Peugeot208_76.MP4\", \"vehicle\": \"Peugeot208\"}, {\"speed\": 77.0, \"time\": 6.26, \"image\": \"Peugeot208_77.MP4\", \"vehicle\": \"Peugeot208\"}, {\"speed\": 79.0, \"time\": 5.22, \"image\": \"Peugeot208_79.MP4\", \"vehicle\": \"Peugeot208\"}, {\"speed\": 82.0, \"time\": 5.17, \"image\": \"Peugeot208_82.MP4\", \"vehicle\": \"Peugeot208\"}, {\"speed\": 84.0, \"time\": 5.12, \"image\": \"Peugeot208_84.MP4\", \"vehicle\": \"Peugeot208\"}, {\"speed\": 87.0, \"time\": 5.48, \"image\": \"Peugeot208_87.MP4\", \"vehicle\": \"Peugeot208\"}, {\"speed\": 90.0, \"time\": 5.18, \"image\": \"Peugeot208_90.MP4\", \"vehicle\": \"Peugeot208\"}, {\"speed\": 92.0, \"time\": 5.48, \"image\": \"Peugeot208_92.MP4\", \"vehicle\": \"Peugeot208\"}, {\"speed\": 95.0, \"time\": 5.59, \"image\": \"Peugeot208_95.MP4\", \"vehicle\": \"Peugeot208\"}, {\"speed\": 96.0, \"time\": 5.43, \"image\": \"Peugeot208_96.MP4\", \"vehicle\": \"Peugeot208\"}, {\"speed\": 100.0, \"time\": 5.5, \"image\": \"Peugeot3008_100.MP4\", \"vehicle\": \"Peugeot3008\"}, {\"speed\": 40.0, \"time\": 6.01, \"image\": \"Peugeot3008_40.MP4\", \"vehicle\": \"Peugeot3008\"}, {\"speed\": 43.0, \"time\": 4.93, \"image\": \"Peugeot3008_43.MP4\", \"vehicle\": \"Peugeot3008\"}, {\"speed\": 45.0, \"time\": 6.0, \"image\": \"Peugeot3008_45.MP4\", \"vehicle\": \"Peugeot3008\"}, {\"speed\": 47.0, \"time\": 5.89, \"image\": \"Peugeot3008_47.MP4\", \"vehicle\": \"Peugeot3008\"}, {\"speed\": 50.0, \"time\": 5.99, \"image\": \"Peugeot3008_50.MP4\", \"vehicle\": \"Peugeot3008\"}, {\"speed\": 52.0, \"time\": 6.86, \"image\": \"Peugeot3008_52.MP4\", \"vehicle\": \"Peugeot3008\"}, {\"speed\": 54.0, \"time\": 5.84, \"image\": \"Peugeot3008_54.MP4\", \"vehicle\": \"Peugeot3008\"}, {\"speed\": 55.0, \"time\": 6.02, \"image\": \"Peugeot3008_55.MP4\", \"vehicle\": \"Peugeot3008\"}, {\"speed\": 56.0, \"time\": 5.71, \"image\": \"Peugeot3008_56.MP4\", \"vehicle\": \"Peugeot3008\"}, {\"speed\": 58.0, \"time\": 4.89, \"image\": \"Peugeot3008_58.MP4\", \"vehicle\": \"Peugeot3008\"}, {\"speed\": 60.0, \"time\": 5.99, \"image\": \"Peugeot3008_60.MP4\", \"vehicle\": \"Peugeot3008\"}, {\"speed\": 61.0, \"time\": 5.43, \"image\": \"Peugeot3008_61.MP4\", \"vehicle\": \"Peugeot3008\"}, {\"speed\": 63.0, \"time\": 7.22, \"image\": \"Peugeot3008_63.MP4\", \"vehicle\": \"Peugeot3008\"}, {\"speed\": 65.0, \"time\": 6.0, \"image\": \"Peugeot3008_65.MP4\", \"vehicle\": \"Peugeot3008\"}, {\"speed\": 67.0, \"time\": 5.69, \"image\": \"Peugeot3008_67.MP4\", \"vehicle\": \"Peugeot3008\"}, {\"speed\": 68.0, \"time\": 5.97, \"image\": \"Peugeot3008_68.MP4\", \"vehicle\": \"Peugeot3008\"}, {\"speed\": 70.0, \"time\": 6.0, \"image\": \"Peugeot3008_70.MP4\", \"vehicle\": \"Peugeot3008\"}, {\"speed\": 72.0, \"time\": 5.53, \"image\": \"Peugeot3008_72.MP4\", \"vehicle\": \"Peugeot3008\"}, {\"speed\": 74.0, \"time\": 5.88, \"image\": \"Peugeot3008_74.MP4\", \"vehicle\": \"Peugeot3008\"}, {\"speed\": 75.0, \"time\": 6.09, \"image\": \"Peugeot3008_75.MP4\", \"vehicle\": \"Peugeot3008\"}, {\"speed\": 78.0, \"time\": 5.6, \"image\": \"Peugeot3008_78.MP4\", \"vehicle\": \"Peugeot3008\"}, {\"speed\": 80.0, \"time\": 6.01, \"image\": \"Peugeot3008_80.MP4\", \"vehicle\": \"Peugeot3008\"}, {\"speed\": 83.0, \"time\": 6.62, \"image\": \"Peugeot3008_83.MP4\", \"vehicle\": \"Peugeot3008\"}, {\"speed\": 85.0, \"time\": 6.38, \"image\": \"Peugeot3008_85.MP4\", \"vehicle\": \"Peugeot3008\"}, {\"speed\": 87.0, \"time\": 5.35, \"image\": \"Peugeot3008_87.MP4\", \"vehicle\": \"Peugeot3008\"}, {\"speed\": 89.0, \"time\": 5.15, \"image\": \"Peugeot3008_89.MP4\", \"vehicle\": \"Peugeot3008\"}, {\"speed\": 90.0, \"time\": 5.99, \"image\": \"Peugeot3008_90.MP4\", \"vehicle\": \"Peugeot3008\"}, {\"speed\": 92.0, \"time\": 5.37, \"image\": \"Peugeot3008_92.MP4\", \"vehicle\": \"Peugeot3008\"}, {\"speed\": 95.0, \"time\": 6.1, \"image\": \"Peugeot3008_95.MP4\", \"vehicle\": \"Peugeot3008\"}, {\"speed\": 97.0, \"time\": 6.39, \"image\": \"Peugeot3008_97.MP4\", \"vehicle\": \"Peugeot3008\"}, {\"speed\": 101.0, \"time\": 5.45, \"image\": \"Peugeot307_101.MP4\", \"vehicle\": \"Peugeot307\"}, {\"speed\": 103.0, \"time\": 5.86, \"image\": \"Peugeot307_103.MP4\", \"vehicle\": \"Peugeot307\"}, {\"speed\": 30.0, \"time\": 5.52, \"image\": \"Peugeot307_30.MP4\", \"vehicle\": \"Peugeot307\"}, {\"speed\": 33.0, \"time\": 5.62, \"image\": \"Peugeot307_33.MP4\", \"vehicle\": \"Peugeot307\"}, {\"speed\": 35.0, \"time\": 5.55, \"image\": \"Peugeot307_35.MP4\", \"vehicle\": \"Peugeot307\"}, {\"speed\": 38.0, \"time\": 5.08, \"image\": \"Peugeot307_38.MP4\", \"vehicle\": \"Peugeot307\"}, {\"speed\": 40.0, \"time\": 5.02, \"image\": \"Peugeot307_40.MP4\", \"vehicle\": \"Peugeot307\"}, {\"speed\": 43.0, \"time\": 4.95, \"image\": \"Peugeot307_43.MP4\", \"vehicle\": \"Peugeot307\"}, {\"speed\": 45.0, \"time\": 5.18, \"image\": \"Peugeot307_45.MP4\", \"vehicle\": \"Peugeot307\"}, {\"speed\": 47.0, \"time\": 4.99, \"image\": \"Peugeot307_47.MP4\", \"vehicle\": \"Peugeot307\"}, {\"speed\": 48.0, \"time\": 4.97, \"image\": \"Peugeot307_48.MP4\", \"vehicle\": \"Peugeot307\"}, {\"speed\": 50.0, \"time\": 5.18, \"image\": \"Peugeot307_50.MP4\", \"vehicle\": \"Peugeot307\"}, {\"speed\": 53.0, \"time\": 4.98, \"image\": \"Peugeot307_53.MP4\", \"vehicle\": \"Peugeot307\"}, {\"speed\": 56.0, \"time\": 5.45, \"image\": \"Peugeot307_56.MP4\", \"vehicle\": \"Peugeot307\"}, {\"speed\": 59.0, \"time\": 4.97, \"image\": \"Peugeot307_59.MP4\", \"vehicle\": \"Peugeot307\"}, {\"speed\": 60.0, \"time\": 6.33, \"image\": \"Peugeot307_60.MP4\", \"vehicle\": \"Peugeot307\"}, {\"speed\": 63.0, \"time\": 5.08, \"image\": \"Peugeot307_63.MP4\", \"vehicle\": \"Peugeot307\"}, {\"speed\": 66.0, \"time\": 5.18, \"image\": \"Peugeot307_66.MP4\", \"vehicle\": \"Peugeot307\"}, {\"speed\": 69.0, \"time\": 4.85, \"image\": \"Peugeot307_69.MP4\", \"vehicle\": \"Peugeot307\"}, {\"speed\": 72.0, \"time\": 4.6, \"image\": \"Peugeot307_72.MP4\", \"vehicle\": \"Peugeot307\"}, {\"speed\": 73.0, \"time\": 4.95, \"image\": \"Peugeot307_73.MP4\", \"vehicle\": \"Peugeot307\"}, {\"speed\": 76.0, \"time\": 4.9, \"image\": \"Peugeot307_76.MP4\", \"vehicle\": \"Peugeot307\"}, {\"speed\": 79.0, \"time\": 4.93, \"image\": \"Peugeot307_79.MP4\", \"vehicle\": \"Peugeot307\"}, {\"speed\": 82.0, \"time\": 5.22, \"image\": \"Peugeot307_82.MP4\", \"vehicle\": \"Peugeot307\"}, {\"speed\": 85.0, \"time\": 5.25, \"image\": \"Peugeot307_85.MP4\", \"vehicle\": \"Peugeot307\"}, {\"speed\": 88.0, \"time\": 4.94, \"image\": \"Peugeot307_88.MP4\", \"vehicle\": \"Peugeot307\"}, {\"speed\": 91.0, \"time\": 5.05, \"image\": \"Peugeot307_91.MP4\", \"vehicle\": \"Peugeot307\"}, {\"speed\": 94.0, \"time\": 4.75, \"image\": \"Peugeot307_94.MP4\", \"vehicle\": \"Peugeot307\"}, {\"speed\": 97.0, \"time\": 4.95, \"image\": \"Peugeot307_97.MP4\", \"vehicle\": \"Peugeot307\"}, {\"speed\": 100.0, \"time\": 5.19, \"image\": \"RenaultCaptur_100.MP4\", \"vehicle\": \"RenaultCaptur\"}, {\"speed\": 102.0, \"time\": 5.34, \"image\": \"RenaultCaptur_102.MP4\", \"vehicle\": \"RenaultCaptur\"}, {\"speed\": 30.0, \"time\": 5.55, \"image\": \"RenaultCaptur_30.MP4\", \"vehicle\": \"RenaultCaptur\"}, {\"speed\": 33.0, \"time\": 5.85, \"image\": \"RenaultCaptur_33.MP4\", \"vehicle\": \"RenaultCaptur\"}, {\"speed\": 36.0, \"time\": 5.32, \"image\": \"RenaultCaptur_36.MP4\", \"vehicle\": \"RenaultCaptur\"}, {\"speed\": 38.0, \"time\": 5.44, \"image\": \"RenaultCaptur_38.MP4\", \"vehicle\": \"RenaultCaptur\"}, {\"speed\": 40.0, \"time\": 5.29, \"image\": \"RenaultCaptur_40.MP4\", \"vehicle\": \"RenaultCaptur\"}, {\"speed\": 41.0, \"time\": 5.36, \"image\": \"RenaultCaptur_41.MP4\", \"vehicle\": \"RenaultCaptur\"}, {\"speed\": 44.0, \"time\": 5.3, \"image\": \"RenaultCaptur_44.MP4\", \"vehicle\": \"RenaultCaptur\"}, {\"speed\": 46.0, \"time\": 4.68, \"image\": \"RenaultCaptur_46.MP4\", \"vehicle\": \"RenaultCaptur\"}, {\"speed\": 47.0, \"time\": 5.28, \"image\": \"RenaultCaptur_47.MP4\", \"vehicle\": \"RenaultCaptur\"}, {\"speed\": 48.0, \"time\": 5.57, \"image\": \"RenaultCaptur_48.MP4\", \"vehicle\": \"RenaultCaptur\"}, {\"speed\": 50.0, \"time\": 5.09, \"image\": \"RenaultCaptur_50.MP4\", \"vehicle\": \"RenaultCaptur\"}, {\"speed\": 52.0, \"time\": 5.53, \"image\": \"RenaultCaptur_52.MP4\", \"vehicle\": \"RenaultCaptur\"}, {\"speed\": 56.0, \"time\": 5.21, \"image\": \"RenaultCaptur_56.MP4\", \"vehicle\": \"RenaultCaptur\"}, {\"speed\": 58.0, \"time\": 5.32, \"image\": \"RenaultCaptur_58.MP4\", \"vehicle\": \"RenaultCaptur\"}, {\"speed\": 60.0, \"time\": 5.39, \"image\": \"RenaultCaptur_60.MP4\", \"vehicle\": \"RenaultCaptur\"}, {\"speed\": 63.0, \"time\": 5.42, \"image\": \"RenaultCaptur_63.MP4\", \"vehicle\": \"RenaultCaptur\"}, {\"speed\": 66.0, \"time\": 5.01, \"image\": \"RenaultCaptur_66.MP4\", \"vehicle\": \"RenaultCaptur\"}, {\"speed\": 68.0, \"time\": 5.15, \"image\": \"RenaultCaptur_68.MP4\", \"vehicle\": \"RenaultCaptur\"}, {\"speed\": 70.0, \"time\": 5.75, \"image\": \"RenaultCaptur_70.MP4\", \"vehicle\": \"RenaultCaptur\"}, {\"speed\": 72.0, \"time\": 5.08, \"image\": \"RenaultCaptur_72.MP4\", \"vehicle\": \"RenaultCaptur\"}, {\"speed\": 76.0, \"time\": 5.94, \"image\": \"RenaultCaptur_76.MP4\", \"vehicle\": \"RenaultCaptur\"}, {\"speed\": 78.0, \"time\": 5.32, \"image\": \"RenaultCaptur_78.MP4\", \"vehicle\": \"RenaultCaptur\"}, {\"speed\": 80.0, \"time\": 4.79, \"image\": \"RenaultCaptur_80.MP4\", \"vehicle\": \"RenaultCaptur\"}, {\"speed\": 83.0, \"time\": 5.59, \"image\": \"RenaultCaptur_83.MP4\", \"vehicle\": \"RenaultCaptur\"}, {\"speed\": 86.0, \"time\": 5.18, \"image\": \"RenaultCaptur_86.MP4\", \"vehicle\": \"RenaultCaptur\"}, {\"speed\": 88.0, \"time\": 5.24, \"image\": \"RenaultCaptur_88.MP4\", \"vehicle\": \"RenaultCaptur\"}, {\"speed\": 90.0, \"time\": 5.61, \"image\": \"RenaultCaptur_90.MP4\", \"vehicle\": \"RenaultCaptur\"}, {\"speed\": 92.0, \"time\": 5.64, \"image\": \"RenaultCaptur_92.MP4\", \"vehicle\": \"RenaultCaptur\"}, {\"speed\": 94.0, \"time\": 5.06, \"image\": \"RenaultCaptur_94.MP4\", \"vehicle\": \"RenaultCaptur\"}, {\"speed\": 97.0, \"time\": 6.02, \"image\": \"RenaultCaptur_97.MP4\", \"vehicle\": \"RenaultCaptur\"}, {\"speed\": 98.0, \"time\": 5.11, \"image\": \"RenaultCaptur_98.MP4\", \"vehicle\": \"RenaultCaptur\"}, {\"speed\": 101.0, \"time\": 6.17, \"image\": \"RenaultScenic_101.MP4\", \"vehicle\": \"RenaultScenic\"}, {\"speed\": 30.0, \"time\": 6.0, \"image\": \"RenaultScenic_30.MP4\", \"vehicle\": \"RenaultScenic\"}, {\"speed\": 35.0, \"time\": 6.82, \"image\": \"RenaultScenic_35.MP4\", \"vehicle\": \"RenaultScenic\"}, {\"speed\": 36.0, \"time\": 6.01, \"image\": \"RenaultScenic_36.MP4\", \"vehicle\": \"RenaultScenic\"}, {\"speed\": 38.0, \"time\": 6.03, \"image\": \"RenaultScenic_38.MP4\", \"vehicle\": \"RenaultScenic\"}, {\"speed\": 40.0, \"time\": 6.7, \"image\": \"RenaultScenic_40.MP4\", \"vehicle\": \"RenaultScenic\"}, {\"speed\": 42.0, \"time\": 5.83, \"image\": \"RenaultScenic_42.MP4\", \"vehicle\": \"RenaultScenic\"}, {\"speed\": 44.0, \"time\": 5.27, \"image\": \"RenaultScenic_44.MP4\", \"vehicle\": \"RenaultScenic\"}, {\"speed\": 46.0, \"time\": 6.75, \"image\": \"RenaultScenic_46.MP4\", \"vehicle\": \"RenaultScenic\"}, {\"speed\": 48.0, \"time\": 5.75, \"image\": \"RenaultScenic_48.MP4\", \"vehicle\": \"RenaultScenic\"}, {\"speed\": 50.0, \"time\": 7.25, \"image\": \"RenaultScenic_50.MP4\", \"vehicle\": \"RenaultScenic\"}, {\"speed\": 52.0, \"time\": 5.25, \"image\": \"RenaultScenic_52.MP4\", \"vehicle\": \"RenaultScenic\"}, {\"speed\": 54.0, \"time\": 5.46, \"image\": \"RenaultScenic_54.MP4\", \"vehicle\": \"RenaultScenic\"}, {\"speed\": 57.0, \"time\": 6.6, \"image\": \"RenaultScenic_57.MP4\", \"vehicle\": \"RenaultScenic\"}, {\"speed\": 60.0, \"time\": 6.12, \"image\": \"RenaultScenic_60.MP4\", \"vehicle\": \"RenaultScenic\"}, {\"speed\": 62.0, \"time\": 6.05, \"image\": \"RenaultScenic_62.MP4\", \"vehicle\": \"RenaultScenic\"}, {\"speed\": 64.0, \"time\": 5.76, \"image\": \"RenaultScenic_64.MP4\", \"vehicle\": \"RenaultScenic\"}, {\"speed\": 66.0, \"time\": 5.35, \"image\": \"RenaultScenic_66.MP4\", \"vehicle\": \"RenaultScenic\"}, {\"speed\": 68.0, \"time\": 6.57, \"image\": \"RenaultScenic_68.MP4\", \"vehicle\": \"RenaultScenic\"}, {\"speed\": 70.0, \"time\": 5.85, \"image\": \"RenaultScenic_70.MP4\", \"vehicle\": \"RenaultScenic\"}, {\"speed\": 71.0, \"time\": 5.99, \"image\": \"RenaultScenic_71.MP4\", \"vehicle\": \"RenaultScenic\"}, {\"speed\": 72.0, \"time\": 5.23, \"image\": \"RenaultScenic_72.MP4\", \"vehicle\": \"RenaultScenic\"}, {\"speed\": 74.0, \"time\": 5.7, \"image\": \"RenaultScenic_74.MP4\", \"vehicle\": \"RenaultScenic\"}, {\"speed\": 75.0, \"time\": 5.45, \"image\": \"RenaultScenic_75.MP4\", \"vehicle\": \"RenaultScenic\"}, {\"speed\": 77.0, \"time\": 7.32, \"image\": \"RenaultScenic_77.MP4\", \"vehicle\": \"RenaultScenic\"}, {\"speed\": 80.0, \"time\": 7.01, \"image\": \"RenaultScenic_80.MP4\", \"vehicle\": \"RenaultScenic\"}, {\"speed\": 82.0, \"time\": 6.06, \"image\": \"RenaultScenic_82.MP4\", \"vehicle\": \"RenaultScenic\"}, {\"speed\": 84.0, \"time\": 5.39, \"image\": \"RenaultScenic_84.MP4\", \"vehicle\": \"RenaultScenic\"}, {\"speed\": 86.0, \"time\": 5.65, \"image\": \"RenaultScenic_86.MP4\", \"vehicle\": \"RenaultScenic\"}, {\"speed\": 87.0, \"time\": 6.0, \"image\": \"RenaultScenic_87.MP4\", \"vehicle\": \"RenaultScenic\"}, {\"speed\": 90.0, \"time\": 5.09, \"image\": \"RenaultScenic_90.MP4\", \"vehicle\": \"RenaultScenic\"}, {\"speed\": 91.0, \"time\": 6.21, \"image\": \"RenaultScenic_91.MP4\", \"vehicle\": \"RenaultScenic\"}, {\"speed\": 94.0, \"time\": 6.18, \"image\": \"RenaultScenic_94.MP4\", \"vehicle\": \"RenaultScenic\"}, {\"speed\": 95.0, \"time\": 6.23, \"image\": \"RenaultScenic_95.MP4\", \"vehicle\": \"RenaultScenic\"}, {\"speed\": 98.0, \"time\": 5.38, \"image\": \"RenaultScenic_98.MP4\", \"vehicle\": \"RenaultScenic\"}, {\"speed\": 100.0, \"time\": 6.01, \"image\": \"VWPassat_100.MP4\", \"vehicle\": \"VWPassat\"}, {\"speed\": 30.0, \"time\": 6.46, \"image\": \"VWPassat_30.MP4\", \"vehicle\": \"VWPassat\"}, {\"speed\": 35.0, \"time\": 5.92, \"image\": \"VWPassat_35.MP4\", \"vehicle\": \"VWPassat\"}, {\"speed\": 39.0, \"time\": 5.27, \"image\": \"VWPassat_39.MP4\", \"vehicle\": \"VWPassat\"}, {\"speed\": 40.0, \"time\": 6.53, \"image\": \"VWPassat_40.MP4\", \"vehicle\": \"VWPassat\"}, {\"speed\": 42.0, \"time\": 6.72, \"image\": \"VWPassat_42.MP4\", \"vehicle\": \"VWPassat\"}, {\"speed\": 45.0, \"time\": 6.35, \"image\": \"VWPassat_45.MP4\", \"vehicle\": \"VWPassat\"}, {\"speed\": 47.0, \"time\": 5.25, \"image\": \"VWPassat_47.MP4\", \"vehicle\": \"VWPassat\"}, {\"speed\": 49.0, \"time\": 5.27, \"image\": \"VWPassat_49.MP4\", \"vehicle\": \"VWPassat\"}, {\"speed\": 50.0, \"time\": 6.0, \"image\": \"VWPassat_50.MP4\", \"vehicle\": \"VWPassat\"}, {\"speed\": 52.0, \"time\": 6.02, \"image\": \"VWPassat_52.MP4\", \"vehicle\": \"VWPassat\"}, {\"speed\": 54.0, \"time\": 5.54, \"image\": \"VWPassat_54.MP4\", \"vehicle\": \"VWPassat\"}, {\"speed\": 55.0, \"time\": 6.02, \"image\": \"VWPassat_55.MP4\", \"vehicle\": \"VWPassat\"}, {\"speed\": 57.0, \"time\": 4.98, \"image\": \"VWPassat_57.MP4\", \"vehicle\": \"VWPassat\"}, {\"speed\": 60.0, \"time\": 5.98, \"image\": \"VWPassat_60.MP4\", \"vehicle\": \"VWPassat\"}, {\"speed\": 61.0, \"time\": 6.01, \"image\": \"VWPassat_61.MP4\", \"vehicle\": \"VWPassat\"}, {\"speed\": 64.0, \"time\": 5.67, \"image\": \"VWPassat_64.MP4\", \"vehicle\": \"VWPassat\"}, {\"speed\": 65.0, \"time\": 5.82, \"image\": \"VWPassat_65.MP4\", \"vehicle\": \"VWPassat\"}, {\"speed\": 67.0, \"time\": 5.08, \"image\": \"VWPassat_67.MP4\", \"vehicle\": \"VWPassat\"}, {\"speed\": 70.0, \"time\": 6.0, \"image\": \"VWPassat_70.MP4\", \"vehicle\": \"VWPassat\"}, {\"speed\": 71.0, \"time\": 5.51, \"image\": \"VWPassat_71.MP4\", \"vehicle\": \"VWPassat\"}, {\"speed\": 72.0, \"time\": 5.42, \"image\": \"VWPassat_72.MP4\", \"vehicle\": \"VWPassat\"}, {\"speed\": 73.0, \"time\": 5.32, \"image\": \"VWPassat_73.MP4\", \"vehicle\": \"VWPassat\"}, {\"speed\": 75.0, \"time\": 6.02, \"image\": \"VWPassat_75.MP4\", \"vehicle\": \"VWPassat\"}, {\"speed\": 78.0, \"time\": 5.85, \"image\": \"VWPassat_78.MP4\", \"vehicle\": \"VWPassat\"}, {\"speed\": 80.0, \"time\": 5.99, \"image\": \"VWPassat_80.MP4\", \"vehicle\": \"VWPassat\"}, {\"speed\": 81.0, \"time\": 5.58, \"image\": \"VWPassat_81.MP4\", \"vehicle\": \"VWPassat\"}, {\"speed\": 82.0, \"time\": 5.62, \"image\": \"VWPassat_82.MP4\", \"vehicle\": \"VWPassat\"}, {\"speed\": 85.0, \"time\": 6.23, \"image\": \"VWPassat_85.MP4\", \"vehicle\": \"VWPassat\"}, {\"speed\": 88.0, \"time\": 7.31, \"image\": \"VWPassat_88.MP4\", \"vehicle\": \"VWPassat\"}, {\"speed\": 90.0, \"time\": 5.2, \"image\": \"VWPassat_90.MP4\", \"vehicle\": \"VWPassat\"}, {\"speed\": 91.0, \"time\": 5.45, \"image\": \"VWPassat_91.MP4\", \"vehicle\": \"VWPassat\"}, {\"speed\": 94.0, \"time\": 6.0, \"image\": \"VWPassat_94.MP4\", \"vehicle\": \"VWPassat\"}, {\"speed\": 96.0, \"time\": 5.72, \"image\": \"VWPassat_96.MP4\", \"vehicle\": \"VWPassat\"}, {\"speed\": 98.0, \"time\": 5.99, \"image\": \"VWPassat_98.MP4\", \"vehicle\": \"VWPassat\"}]}}, {\"mode\": \"vega-lite\"});\n",
       "</script>"
      ],
      "text/plain": [
       "alt.Chart(...)"
      ]
     },
     "execution_count": 11,
     "metadata": {},
     "output_type": "execute_result"
    }
   ],
   "source": [
    "alt.Chart(df_combined).transform_density(\n",
    "    'speed',\n",
    "    as_=['speed', 'density'],\n",
    "    groupby=['vehicle']\n",
    ").mark_area(orient='horizontal').encode(\n",
    "    y='speed:Q',\n",
    "    color='vehicle:N',\n",
    "    x=alt.X(\n",
    "        'density:Q',\n",
    "        stack='center',\n",
    "        impute=None,\n",
    "        title=None,\n",
    "        axis=alt.Axis(labels=False, values=[0], grid=False, ticks=True),\n",
    "    ),\n",
    "    column=alt.Column(\n",
    "        'vehicle:N',\n",
    "        header=alt.Header(\n",
    "            titleOrient='bottom',\n",
    "            labelOrient='bottom',\n",
    "            labelPadding=0,\n",
    "        )\n",
    "    ),\n",
    "    tooltip=['speed:Q', 'density:Q']\n",
    ").properties(\n",
    "    width=100,\n",
    "    height=300,\n",
    "    title='Grafico de densidad de velocidad por tiempo'\n",
    ").configure_facet(\n",
    "    spacing=0\n",
    ").configure_view(\n",
    "    stroke=None\n",
    ")"
   ]
  },
  {
   "cell_type": "code",
   "execution_count": 12,
   "metadata": {
    "collapsed": false,
    "jupyter": {
     "outputs_hidden": false
    },
    "pycharm": {
     "name": "#%%\n"
    }
   },
   "outputs": [
    {
     "data": {
      "text/html": [
       "\n",
       "<style>\n",
       "  #altair-viz-16780fad03f74cc09813293949392b62.vega-embed {\n",
       "    width: 100%;\n",
       "    display: flex;\n",
       "  }\n",
       "\n",
       "  #altair-viz-16780fad03f74cc09813293949392b62.vega-embed details,\n",
       "  #altair-viz-16780fad03f74cc09813293949392b62.vega-embed details summary {\n",
       "    position: relative;\n",
       "  }\n",
       "</style>\n",
       "<div id=\"altair-viz-16780fad03f74cc09813293949392b62\"></div>\n",
       "<script type=\"text/javascript\">\n",
       "  var VEGA_DEBUG = (typeof VEGA_DEBUG == \"undefined\") ? {} : VEGA_DEBUG;\n",
       "  (function(spec, embedOpt){\n",
       "    let outputDiv = document.currentScript.previousElementSibling;\n",
       "    if (outputDiv.id !== \"altair-viz-16780fad03f74cc09813293949392b62\") {\n",
       "      outputDiv = document.getElementById(\"altair-viz-16780fad03f74cc09813293949392b62\");\n",
       "    }\n",
       "    const paths = {\n",
       "      \"vega\": \"https://cdn.jsdelivr.net/npm/vega@5?noext\",\n",
       "      \"vega-lib\": \"https://cdn.jsdelivr.net/npm/vega-lib?noext\",\n",
       "      \"vega-lite\": \"https://cdn.jsdelivr.net/npm/vega-lite@5.8.0?noext\",\n",
       "      \"vega-embed\": \"https://cdn.jsdelivr.net/npm/vega-embed@6?noext\",\n",
       "    };\n",
       "\n",
       "    function maybeLoadScript(lib, version) {\n",
       "      var key = `${lib.replace(\"-\", \"\")}_version`;\n",
       "      return (VEGA_DEBUG[key] == version) ?\n",
       "        Promise.resolve(paths[lib]) :\n",
       "        new Promise(function(resolve, reject) {\n",
       "          var s = document.createElement('script');\n",
       "          document.getElementsByTagName(\"head\")[0].appendChild(s);\n",
       "          s.async = true;\n",
       "          s.onload = () => {\n",
       "            VEGA_DEBUG[key] = version;\n",
       "            return resolve(paths[lib]);\n",
       "          };\n",
       "          s.onerror = () => reject(`Error loading script: ${paths[lib]}`);\n",
       "          s.src = paths[lib];\n",
       "        });\n",
       "    }\n",
       "\n",
       "    function showError(err) {\n",
       "      outputDiv.innerHTML = `<div class=\"error\" style=\"color:red;\">${err}</div>`;\n",
       "      throw err;\n",
       "    }\n",
       "\n",
       "    function displayChart(vegaEmbed) {\n",
       "      vegaEmbed(outputDiv, spec, embedOpt)\n",
       "        .catch(err => showError(`Javascript Error: ${err.message}<br>This usually means there's a typo in your chart specification. See the javascript console for the full traceback.`));\n",
       "    }\n",
       "\n",
       "    if(typeof define === \"function\" && define.amd) {\n",
       "      requirejs.config({paths});\n",
       "      require([\"vega-embed\"], displayChart, err => showError(`Error loading script: ${err.message}`));\n",
       "    } else {\n",
       "      maybeLoadScript(\"vega\", \"5\")\n",
       "        .then(() => maybeLoadScript(\"vega-lite\", \"5.8.0\"))\n",
       "        .then(() => maybeLoadScript(\"vega-embed\", \"6\"))\n",
       "        .catch(showError)\n",
       "        .then(() => displayChart(vegaEmbed));\n",
       "    }\n",
       "  })({\"config\": {\"view\": {\"continuousWidth\": 300, \"continuousHeight\": 300}}, \"data\": {\"name\": \"data-b66061220c5d20e33f28ec77609aa1ff\"}, \"mark\": {\"type\": \"bar\"}, \"encoding\": {\"color\": {\"field\": \"vehicle\", \"type\": \"nominal\"}, \"tooltip\": [{\"field\": \"vehicle\", \"type\": \"nominal\"}, {\"field\": \"speed\", \"type\": \"quantitative\"}], \"x\": {\"field\": \"vehicle\", \"title\": \"Tipo de Veh\\u00edculo\", \"type\": \"nominal\"}, \"y\": {\"field\": \"speed\", \"title\": \"Velocidad Media\", \"type\": \"quantitative\"}}, \"title\": \"Comparaci\\u00f3n de la Velocidad Media de Diferentes Tipos de Veh\\u00edculos\", \"$schema\": \"https://vega.github.io/schema/vega-lite/v5.8.0.json\", \"datasets\": {\"data-b66061220c5d20e33f28ec77609aa1ff\": [{\"vehicle\": \"CitroenC4Picasso\", \"speed\": 68.04347826086956}, {\"vehicle\": \"KiaSportage\", \"speed\": 68.75757575757575}, {\"vehicle\": \"Mazda3\", \"speed\": 68.53125}, {\"vehicle\": \"MercedesAMG550\", \"speed\": 66.33333333333333}, {\"vehicle\": \"MercedesGLA\", \"speed\": 67.58823529411765}, {\"vehicle\": \"NissanQashqai\", \"speed\": 68.48275862068965}, {\"vehicle\": \"OpelInsignia\", \"speed\": 66.66666666666667}, {\"vehicle\": \"Peugeot208\", \"speed\": 63.55172413793103}, {\"vehicle\": \"Peugeot3008\", \"speed\": 69.38709677419355}, {\"vehicle\": \"Peugeot307\", \"speed\": 64.6896551724138}, {\"vehicle\": \"RenaultCaptur\", \"speed\": 66.12121212121212}, {\"vehicle\": \"RenaultScenic\", \"speed\": 66.25714285714285}, {\"vehicle\": \"VWPassat\", \"speed\": 66.74285714285715}]}}, {\"mode\": \"vega-lite\"});\n",
       "</script>"
      ],
      "text/plain": [
       "alt.Chart(...)"
      ]
     },
     "execution_count": 12,
     "metadata": {},
     "output_type": "execute_result"
    }
   ],
   "source": [
    "alt.Chart(df_combined.groupby('vehicle')['speed'].mean().reset_index()).mark_bar().encode(\n",
    "    x=alt.X('vehicle:N', title='Tipo de Vehículo'),\n",
    "    y=alt.Y('speed:Q', title='Velocidad Media'),\n",
    "    color='vehicle:N',\n",
    "    tooltip=['vehicle', 'speed']\n",
    ").properties(\n",
    "    title='Comparación de la Velocidad Media de Diferentes Tipos de Vehículos'\n",
    ")"
   ]
  },
  {
   "cell_type": "code",
   "execution_count": 13,
   "metadata": {
    "collapsed": false,
    "jupyter": {
     "outputs_hidden": false
    },
    "pycharm": {
     "name": "#%%\n"
    }
   },
   "outputs": [
    {
     "data": {
      "text/html": [
       "\n",
       "<style>\n",
       "  #altair-viz-032f8b9e8ddb4fd987f8e0b1a466af0e.vega-embed {\n",
       "    width: 100%;\n",
       "    display: flex;\n",
       "  }\n",
       "\n",
       "  #altair-viz-032f8b9e8ddb4fd987f8e0b1a466af0e.vega-embed details,\n",
       "  #altair-viz-032f8b9e8ddb4fd987f8e0b1a466af0e.vega-embed details summary {\n",
       "    position: relative;\n",
       "  }\n",
       "</style>\n",
       "<div id=\"altair-viz-032f8b9e8ddb4fd987f8e0b1a466af0e\"></div>\n",
       "<script type=\"text/javascript\">\n",
       "  var VEGA_DEBUG = (typeof VEGA_DEBUG == \"undefined\") ? {} : VEGA_DEBUG;\n",
       "  (function(spec, embedOpt){\n",
       "    let outputDiv = document.currentScript.previousElementSibling;\n",
       "    if (outputDiv.id !== \"altair-viz-032f8b9e8ddb4fd987f8e0b1a466af0e\") {\n",
       "      outputDiv = document.getElementById(\"altair-viz-032f8b9e8ddb4fd987f8e0b1a466af0e\");\n",
       "    }\n",
       "    const paths = {\n",
       "      \"vega\": \"https://cdn.jsdelivr.net/npm/vega@5?noext\",\n",
       "      \"vega-lib\": \"https://cdn.jsdelivr.net/npm/vega-lib?noext\",\n",
       "      \"vega-lite\": \"https://cdn.jsdelivr.net/npm/vega-lite@5.8.0?noext\",\n",
       "      \"vega-embed\": \"https://cdn.jsdelivr.net/npm/vega-embed@6?noext\",\n",
       "    };\n",
       "\n",
       "    function maybeLoadScript(lib, version) {\n",
       "      var key = `${lib.replace(\"-\", \"\")}_version`;\n",
       "      return (VEGA_DEBUG[key] == version) ?\n",
       "        Promise.resolve(paths[lib]) :\n",
       "        new Promise(function(resolve, reject) {\n",
       "          var s = document.createElement('script');\n",
       "          document.getElementsByTagName(\"head\")[0].appendChild(s);\n",
       "          s.async = true;\n",
       "          s.onload = () => {\n",
       "            VEGA_DEBUG[key] = version;\n",
       "            return resolve(paths[lib]);\n",
       "          };\n",
       "          s.onerror = () => reject(`Error loading script: ${paths[lib]}`);\n",
       "          s.src = paths[lib];\n",
       "        });\n",
       "    }\n",
       "\n",
       "    function showError(err) {\n",
       "      outputDiv.innerHTML = `<div class=\"error\" style=\"color:red;\">${err}</div>`;\n",
       "      throw err;\n",
       "    }\n",
       "\n",
       "    function displayChart(vegaEmbed) {\n",
       "      vegaEmbed(outputDiv, spec, embedOpt)\n",
       "        .catch(err => showError(`Javascript Error: ${err.message}<br>This usually means there's a typo in your chart specification. See the javascript console for the full traceback.`));\n",
       "    }\n",
       "\n",
       "    if(typeof define === \"function\" && define.amd) {\n",
       "      requirejs.config({paths});\n",
       "      require([\"vega-embed\"], displayChart, err => showError(`Error loading script: ${err.message}`));\n",
       "    } else {\n",
       "      maybeLoadScript(\"vega\", \"5\")\n",
       "        .then(() => maybeLoadScript(\"vega-lite\", \"5.8.0\"))\n",
       "        .then(() => maybeLoadScript(\"vega-embed\", \"6\"))\n",
       "        .catch(showError)\n",
       "        .then(() => displayChart(vegaEmbed));\n",
       "    }\n",
       "  })({\"config\": {\"view\": {\"continuousWidth\": 300, \"continuousHeight\": 300}}, \"data\": {\"name\": \"data-5d3be3fd43ab46cca79cf2374d1a4771\"}, \"mark\": {\"type\": \"boxplot\"}, \"encoding\": {\"color\": {\"field\": \"vehicle\", \"type\": \"nominal\"}, \"tooltip\": [{\"field\": \"vehicle\", \"type\": \"nominal\"}, {\"field\": \"speed\", \"type\": \"quantitative\"}], \"x\": {\"field\": \"vehicle\", \"title\": \"Tipo de Veh\\u00edculo\", \"type\": \"nominal\"}, \"y\": {\"field\": \"speed\", \"title\": \"Velocidad\", \"type\": \"quantitative\"}}, \"title\": \"Distribuci\\u00f3n de Velocidades por Tipo de Veh\\u00edculo\", \"$schema\": \"https://vega.github.io/schema/vega-lite/v5.8.0.json\", \"datasets\": {\"data-5d3be3fd43ab46cca79cf2374d1a4771\": [{\"speed\": 101.0, \"time\": 7.49, \"image\": \"CitroenC4Picasso_101.MP4\", \"vehicle\": \"CitroenC4Picasso\"}, {\"speed\": 35.0, \"time\": 6.25, \"image\": \"CitroenC4Picasso_35.MP4\", \"vehicle\": \"CitroenC4Picasso\"}, {\"speed\": 38.0, \"time\": 5.82, \"image\": \"CitroenC4Picasso_38.MP4\", \"vehicle\": \"CitroenC4Picasso\"}, {\"speed\": 41.0, \"time\": 6.16, \"image\": \"CitroenC4Picasso_41.MP4\", \"vehicle\": \"CitroenC4Picasso\"}, {\"speed\": 44.0, \"time\": 5.44, \"image\": \"CitroenC4Picasso_44.MP4\", \"vehicle\": \"CitroenC4Picasso\"}, {\"speed\": 48.0, \"time\": 6.03, \"image\": \"CitroenC4Picasso_48.MP4\", \"vehicle\": \"CitroenC4Picasso\"}, {\"speed\": 51.0, \"time\": 5.85, \"image\": \"CitroenC4Picasso_51.MP4\", \"vehicle\": \"CitroenC4Picasso\"}, {\"speed\": 54.0, \"time\": 5.65, \"image\": \"CitroenC4Picasso_54.MP4\", \"vehicle\": \"CitroenC4Picasso\"}, {\"speed\": 57.0, \"time\": 5.95, \"image\": \"CitroenC4Picasso_57.MP4\", \"vehicle\": \"CitroenC4Picasso\"}, {\"speed\": 59.0, \"time\": 5.85, \"image\": \"CitroenC4Picasso_59.MP4\", \"vehicle\": \"CitroenC4Picasso\"}, {\"speed\": 63.0, \"time\": 6.06, \"image\": \"CitroenC4Picasso_63.MP4\", \"vehicle\": \"CitroenC4Picasso\"}, {\"speed\": 65.0, \"time\": 5.66, \"image\": \"CitroenC4Picasso_65.MP4\", \"vehicle\": \"CitroenC4Picasso\"}, {\"speed\": 68.0, \"time\": 6.16, \"image\": \"CitroenC4Picasso_68.MP4\", \"vehicle\": \"CitroenC4Picasso\"}, {\"speed\": 72.0, \"time\": 5.75, \"image\": \"CitroenC4Picasso_72.MP4\", \"vehicle\": \"CitroenC4Picasso\"}, {\"speed\": 74.0, \"time\": 6.26, \"image\": \"CitroenC4Picasso_74.MP4\", \"vehicle\": \"CitroenC4Picasso\"}, {\"speed\": 78.0, \"time\": 6.14, \"image\": \"CitroenC4Picasso_78.MP4\", \"vehicle\": \"CitroenC4Picasso\"}, {\"speed\": 80.0, \"time\": 5.41, \"image\": \"CitroenC4Picasso_80.MP4\", \"vehicle\": \"CitroenC4Picasso\"}, {\"speed\": 83.0, \"time\": 6.63, \"image\": \"CitroenC4Picasso_83.MP4\", \"vehicle\": \"CitroenC4Picasso\"}, {\"speed\": 85.0, \"time\": 5.67, \"image\": \"CitroenC4Picasso_85.MP4\", \"vehicle\": \"CitroenC4Picasso\"}, {\"speed\": 87.0, \"time\": 6.19, \"image\": \"CitroenC4Picasso_87.MP4\", \"vehicle\": \"CitroenC4Picasso\"}, {\"speed\": 92.0, \"time\": 7.62, \"image\": \"CitroenC4Picasso_92.MP4\", \"vehicle\": \"CitroenC4Picasso\"}, {\"speed\": 94.0, \"time\": 6.79, \"image\": \"CitroenC4Picasso_94.MP4\", \"vehicle\": \"CitroenC4Picasso\"}, {\"speed\": 96.0, \"time\": 5.79, \"image\": \"CitroenC4Picasso_96.MP4\", \"vehicle\": \"CitroenC4Picasso\"}, {\"speed\": 100.0, \"time\": 4.98, \"image\": \"KiaSportage_100.MP4\", \"vehicle\": \"KiaSportage\"}, {\"speed\": 103.0, \"time\": 4.91, \"image\": \"KiaSportage_103.MP4\", \"vehicle\": \"KiaSportage\"}, {\"speed\": 105.0, \"time\": 4.98, \"image\": \"KiaSportage_105.MP4\", \"vehicle\": \"KiaSportage\"}, {\"speed\": 31.0, \"time\": 4.94, \"image\": \"KiaSportage_31.MP4\", \"vehicle\": \"KiaSportage\"}, {\"speed\": 33.0, \"time\": 4.91, \"image\": \"KiaSportage_33.MP4\", \"vehicle\": \"KiaSportage\"}, {\"speed\": 35.0, \"time\": 4.93, \"image\": \"KiaSportage_35.MP4\", \"vehicle\": \"KiaSportage\"}, {\"speed\": 38.0, \"time\": 5.05, \"image\": \"KiaSportage_38.MP4\", \"vehicle\": \"KiaSportage\"}, {\"speed\": 41.0, \"time\": 4.93, \"image\": \"KiaSportage_41.MP4\", \"vehicle\": \"KiaSportage\"}, {\"speed\": 44.0, \"time\": 5.02, \"image\": \"KiaSportage_44.MP4\", \"vehicle\": \"KiaSportage\"}, {\"speed\": 46.0, \"time\": 4.94, \"image\": \"KiaSportage_46.MP4\", \"vehicle\": \"KiaSportage\"}, {\"speed\": 48.0, \"time\": 4.96, \"image\": \"KiaSportage_48.MP4\", \"vehicle\": \"KiaSportage\"}, {\"speed\": 51.0, \"time\": 4.92, \"image\": \"KiaSportage_51.MP4\", \"vehicle\": \"KiaSportage\"}, {\"speed\": 53.0, \"time\": 4.97, \"image\": \"KiaSportage_53.MP4\", \"vehicle\": \"KiaSportage\"}, {\"speed\": 55.0, \"time\": 4.95, \"image\": \"KiaSportage_55.MP4\", \"vehicle\": \"KiaSportage\"}, {\"speed\": 58.0, \"time\": 4.92, \"image\": \"KiaSportage_58.MP4\", \"vehicle\": \"KiaSportage\"}, {\"speed\": 61.0, \"time\": 4.96, \"image\": \"KiaSportage_61.MP4\", \"vehicle\": \"KiaSportage\"}, {\"speed\": 63.0, \"time\": 5.0, \"image\": \"KiaSportage_63.MP4\", \"vehicle\": \"KiaSportage\"}, {\"speed\": 65.0, \"time\": 4.93, \"image\": \"KiaSportage_65.MP4\", \"vehicle\": \"KiaSportage\"}, {\"speed\": 68.0, \"time\": 4.96, \"image\": \"KiaSportage_68.MP4\", \"vehicle\": \"KiaSportage\"}, {\"speed\": 69.0, \"time\": 4.94, \"image\": \"KiaSportage_69.MP4\", \"vehicle\": \"KiaSportage\"}, {\"speed\": 72.0, \"time\": 4.95, \"image\": \"KiaSportage_72.MP4\", \"vehicle\": \"KiaSportage\"}, {\"speed\": 74.0, \"time\": 4.94, \"image\": \"KiaSportage_74.MP4\", \"vehicle\": \"KiaSportage\"}, {\"speed\": 77.0, \"time\": 5.02, \"image\": \"KiaSportage_77.MP4\", \"vehicle\": \"KiaSportage\"}, {\"speed\": 78.0, \"time\": 4.95, \"image\": \"KiaSportage_78.MP4\", \"vehicle\": \"KiaSportage\"}, {\"speed\": 80.0, \"time\": 4.94, \"image\": \"KiaSportage_80.MP4\", \"vehicle\": \"KiaSportage\"}, {\"speed\": 83.0, \"time\": 4.95, \"image\": \"KiaSportage_83.MP4\", \"vehicle\": \"KiaSportage\"}, {\"speed\": 85.0, \"time\": 4.95, \"image\": \"KiaSportage_85.MP4\", \"vehicle\": \"KiaSportage\"}, {\"speed\": 86.0, \"time\": 4.92, \"image\": \"KiaSportage_86.MP4\", \"vehicle\": \"KiaSportage\"}, {\"speed\": 89.0, \"time\": 4.98, \"image\": \"KiaSportage_89.MP4\", \"vehicle\": \"KiaSportage\"}, {\"speed\": 91.0, \"time\": 4.95, \"image\": \"KiaSportage_91.MP4\", \"vehicle\": \"KiaSportage\"}, {\"speed\": 93.0, \"time\": 4.98, \"image\": \"KiaSportage_93.MP4\", \"vehicle\": \"KiaSportage\"}, {\"speed\": 96.0, \"time\": 4.91, \"image\": \"KiaSportage_96.MP4\", \"vehicle\": \"KiaSportage\"}, {\"speed\": 98.0, \"time\": 4.92, \"image\": \"KiaSportage_98.MP4\", \"vehicle\": \"KiaSportage\"}, {\"speed\": 101.0, \"time\": 5.04, \"image\": \"Mazda3_101.MP4\", \"vehicle\": \"Mazda3\"}, {\"speed\": 103.0, \"time\": 5.07, \"image\": \"Mazda3_103.MP4\", \"vehicle\": \"Mazda3\"}, {\"speed\": 105.0, \"time\": 4.99, \"image\": \"Mazda3_105.MP4\", \"vehicle\": \"Mazda3\"}, {\"speed\": 30.0, \"time\": 5.23, \"image\": \"Mazda3_30.MP4\", \"vehicle\": \"Mazda3\"}, {\"speed\": 33.0, \"time\": 5.08, \"image\": \"Mazda3_33.MP4\", \"vehicle\": \"Mazda3\"}, {\"speed\": 35.0, \"time\": 5.12, \"image\": \"Mazda3_35.MP4\", \"vehicle\": \"Mazda3\"}, {\"speed\": 38.0, \"time\": 5.15, \"image\": \"Mazda3_38.MP4\", \"vehicle\": \"Mazda3\"}, {\"speed\": 40.0, \"time\": 5.02, \"image\": \"Mazda3_40.MP4\", \"vehicle\": \"Mazda3\"}, {\"speed\": 43.0, \"time\": 5.02, \"image\": \"Mazda3_43.MP4\", \"vehicle\": \"Mazda3\"}, {\"speed\": 45.0, \"time\": 5.31, \"image\": \"Mazda3_45.MP4\", \"vehicle\": \"Mazda3\"}, {\"speed\": 47.0, \"time\": 5.42, \"image\": \"Mazda3_47.MP4\", \"vehicle\": \"Mazda3\"}, {\"speed\": 50.0, \"time\": 5.62, \"image\": \"Mazda3_50.MP4\", \"vehicle\": \"Mazda3\"}, {\"speed\": 52.0, \"time\": 5.15, \"image\": \"Mazda3_52.MP4\", \"vehicle\": \"Mazda3\"}, {\"speed\": 55.0, \"time\": 5.68, \"image\": \"Mazda3_55.MP4\", \"vehicle\": \"Mazda3\"}, {\"speed\": 57.0, \"time\": 5.08, \"image\": \"Mazda3_57.MP4\", \"vehicle\": \"Mazda3\"}, {\"speed\": 60.0, \"time\": 5.09, \"image\": \"Mazda3_60.MP4\", \"vehicle\": \"Mazda3\"}, {\"speed\": 62.0, \"time\": 5.25, \"image\": \"Mazda3_62.MP4\", \"vehicle\": \"Mazda3\"}, {\"speed\": 64.0, \"time\": 5.02, \"image\": \"Mazda3_64.MP4\", \"vehicle\": \"Mazda3\"}, {\"speed\": 67.0, \"time\": 5.65, \"image\": \"Mazda3_67.MP4\", \"vehicle\": \"Mazda3\"}, {\"speed\": 70.0, \"time\": 5.05, \"image\": \"Mazda3_70.MP4\", \"vehicle\": \"Mazda3\"}, {\"speed\": 72.0, \"time\": 5.16, \"image\": \"Mazda3_72.MP4\", \"vehicle\": \"Mazda3\"}, {\"speed\": 75.0, \"time\": 5.02, \"image\": \"Mazda3_75.MP4\", \"vehicle\": \"Mazda3\"}, {\"speed\": 79.0, \"time\": 5.05, \"image\": \"Mazda3_79.MP4\", \"vehicle\": \"Mazda3\"}, {\"speed\": 81.0, \"time\": 5.22, \"image\": \"Mazda3_81.MP4\", \"vehicle\": \"Mazda3\"}, {\"speed\": 84.0, \"time\": 5.08, \"image\": \"Mazda3_84.MP4\", \"vehicle\": \"Mazda3\"}, {\"speed\": 86.0, \"time\": 5.19, \"image\": \"Mazda3_86.MP4\", \"vehicle\": \"Mazda3\"}, {\"speed\": 88.0, \"time\": 5.09, \"image\": \"Mazda3_88.MP4\", \"vehicle\": \"Mazda3\"}, {\"speed\": 90.0, \"time\": 5.11, \"image\": \"Mazda3_90.MP4\", \"vehicle\": \"Mazda3\"}, {\"speed\": 92.0, \"time\": 5.22, \"image\": \"Mazda3_92.MP4\", \"vehicle\": \"Mazda3\"}, {\"speed\": 94.0, \"time\": 5.04, \"image\": \"Mazda3_94.MP4\", \"vehicle\": \"Mazda3\"}, {\"speed\": 96.0, \"time\": 5.02, \"image\": \"Mazda3_96.MP4\", \"vehicle\": \"Mazda3\"}, {\"speed\": 99.0, \"time\": 4.98, \"image\": \"Mazda3_99.MP4\", \"vehicle\": \"Mazda3\"}, {\"speed\": 100.0, \"time\": 4.94, \"image\": \"MercedesAMG550_100.MP4\", \"vehicle\": \"MercedesAMG550\"}, {\"speed\": 105.0, \"time\": 4.45, \"image\": \"MercedesAMG550_105.MP4\", \"vehicle\": \"MercedesAMG550\"}, {\"speed\": 30.0, \"time\": 5.07, \"image\": \"MercedesAMG550_30.MP4\", \"vehicle\": \"MercedesAMG550\"}, {\"speed\": 33.0, \"time\": 5.68, \"image\": \"MercedesAMG550_33.MP4\", \"vehicle\": \"MercedesAMG550\"}, {\"speed\": 35.0, \"time\": 5.99, \"image\": \"MercedesAMG550_35.MP4\", \"vehicle\": \"MercedesAMG550\"}, {\"speed\": 38.0, \"time\": 5.88, \"image\": \"MercedesAMG550_38.MP4\", \"vehicle\": \"MercedesAMG550\"}, {\"speed\": 40.0, \"time\": 5.13, \"image\": \"MercedesAMG550_40.MP4\", \"vehicle\": \"MercedesAMG550\"}, {\"speed\": 42.0, \"time\": 6.28, \"image\": \"MercedesAMG550_42.MP4\", \"vehicle\": \"MercedesAMG550\"}, {\"speed\": 45.0, \"time\": 5.06, \"image\": \"MercedesAMG550_45.MP4\", \"vehicle\": \"MercedesAMG550\"}, {\"speed\": 47.0, \"time\": 5.67, \"image\": \"MercedesAMG550_47.MP4\", \"vehicle\": \"MercedesAMG550\"}, {\"speed\": 50.0, \"time\": 5.19, \"image\": \"MercedesAMG550_50.MP4\", \"vehicle\": \"MercedesAMG550\"}, {\"speed\": 52.0, \"time\": 5.89, \"image\": \"MercedesAMG550_52.MP4\", \"vehicle\": \"MercedesAMG550\"}, {\"speed\": 55.0, \"time\": 5.07, \"image\": \"MercedesAMG550_55.MP4\", \"vehicle\": \"MercedesAMG550\"}, {\"speed\": 58.0, \"time\": 5.65, \"image\": \"MercedesAMG550_58.MP4\", \"vehicle\": \"MercedesAMG550\"}, {\"speed\": 60.0, \"time\": 5.25, \"image\": \"MercedesAMG550_60.MP4\", \"vehicle\": \"MercedesAMG550\"}, {\"speed\": 62.0, \"time\": 5.38, \"image\": \"MercedesAMG550_62.MP4\", \"vehicle\": \"MercedesAMG550\"}, {\"speed\": 65.0, \"time\": 7.04, \"image\": \"MercedesAMG550_65.MP4\", \"vehicle\": \"MercedesAMG550\"}, {\"speed\": 67.0, \"time\": 5.76, \"image\": \"MercedesAMG550_67.MP4\", \"vehicle\": \"MercedesAMG550\"}, {\"speed\": 70.0, \"time\": 4.83, \"image\": \"MercedesAMG550_70.MP4\", \"vehicle\": \"MercedesAMG550\"}, {\"speed\": 73.0, \"time\": 5.63, \"image\": \"MercedesAMG550_73.MP4\", \"vehicle\": \"MercedesAMG550\"}, {\"speed\": 75.0, \"time\": 5.11, \"image\": \"MercedesAMG550_75.MP4\", \"vehicle\": \"MercedesAMG550\"}, {\"speed\": 78.0, \"time\": 6.11, \"image\": \"MercedesAMG550_78.MP4\", \"vehicle\": \"MercedesAMG550\"}, {\"speed\": 80.0, \"time\": 4.9, \"image\": \"MercedesAMG550_80.MP4\", \"vehicle\": \"MercedesAMG550\"}, {\"speed\": 82.0, \"time\": 5.82, \"image\": \"MercedesAMG550_82.MP4\", \"vehicle\": \"MercedesAMG550\"}, {\"speed\": 85.0, \"time\": 4.84, \"image\": \"MercedesAMG550_85.MP4\", \"vehicle\": \"MercedesAMG550\"}, {\"speed\": 87.0, \"time\": 5.41, \"image\": \"MercedesAMG550_87.MP4\", \"vehicle\": \"MercedesAMG550\"}, {\"speed\": 90.0, \"time\": 6.0, \"image\": \"MercedesAMG550_90.MP4\", \"vehicle\": \"MercedesAMG550\"}, {\"speed\": 93.0, \"time\": 5.68, \"image\": \"MercedesAMG550_93.MP4\", \"vehicle\": \"MercedesAMG550\"}, {\"speed\": 95.0, \"time\": 5.0, \"image\": \"MercedesAMG550_95.MP4\", \"vehicle\": \"MercedesAMG550\"}, {\"speed\": 98.0, \"time\": 5.44, \"image\": \"MercedesAMG550_98.MP4\", \"vehicle\": \"MercedesAMG550\"}, {\"speed\": 100.0, \"time\": 5.0, \"image\": \"MercedesGLA_100.MP4\", \"vehicle\": \"MercedesGLA\"}, {\"speed\": 101.0, \"time\": 5.01, \"image\": \"MercedesGLA_101.MP4\", \"vehicle\": \"MercedesGLA\"}, {\"speed\": 103.0, \"time\": 5.01, \"image\": \"MercedesGLA_103.MP4\", \"vehicle\": \"MercedesGLA\"}, {\"speed\": 104.0, \"time\": 5.01, \"image\": \"MercedesGLA_104.MP4\", \"vehicle\": \"MercedesGLA\"}, {\"speed\": 30.0, \"time\": 4.99, \"image\": \"MercedesGLA_30.MP4\", \"vehicle\": \"MercedesGLA\"}, {\"speed\": 33.0, \"time\": 4.98, \"image\": \"MercedesGLA_33.MP4\", \"vehicle\": \"MercedesGLA\"}, {\"speed\": 36.0, \"time\": 4.99, \"image\": \"MercedesGLA_36.MP4\", \"vehicle\": \"MercedesGLA\"}, {\"speed\": 39.0, \"time\": 5.0, \"image\": \"MercedesGLA_39.MP4\", \"vehicle\": \"MercedesGLA\"}, {\"speed\": 41.0, \"time\": 4.99, \"image\": \"MercedesGLA_41.MP4\", \"vehicle\": \"MercedesGLA\"}, {\"speed\": 42.0, \"time\": 5.0, \"image\": \"MercedesGLA_42.MP4\", \"vehicle\": \"MercedesGLA\"}, {\"speed\": 45.0, \"time\": 5.02, \"image\": \"MercedesGLA_45.MP4\", \"vehicle\": \"MercedesGLA\"}, {\"speed\": 47.0, \"time\": 5.0, \"image\": \"MercedesGLA_47.MP4\", \"vehicle\": \"MercedesGLA\"}, {\"speed\": 48.0, \"time\": 5.0, \"image\": \"MercedesGLA_48.MP4\", \"vehicle\": \"MercedesGLA\"}, {\"speed\": 49.0, \"time\": 5.01, \"image\": \"MercedesGLA_49.MP4\", \"vehicle\": \"MercedesGLA\"}, {\"speed\": 52.0, \"time\": 5.0, \"image\": \"MercedesGLA_52.MP4\", \"vehicle\": \"MercedesGLA\"}, {\"speed\": 54.0, \"time\": 5.0, \"image\": \"MercedesGLA_54.MP4\", \"vehicle\": \"MercedesGLA\"}, {\"speed\": 55.0, \"time\": 4.99, \"image\": \"MercedesGLA_55.MP4\", \"vehicle\": \"MercedesGLA\"}, {\"speed\": 59.0, \"time\": 5.01, \"image\": \"MercedesGLA_59.MP4\", \"vehicle\": \"MercedesGLA\"}, {\"speed\": 61.0, \"time\": 5.08, \"image\": \"MercedesGLA_61.MP4\", \"vehicle\": \"MercedesGLA\"}, {\"speed\": 63.0, \"time\": 4.99, \"image\": \"MercedesGLA_63.MP4\", \"vehicle\": \"MercedesGLA\"}, {\"speed\": 65.0, \"time\": 4.99, \"image\": \"MercedesGLA_65.MP4\", \"vehicle\": \"MercedesGLA\"}, {\"speed\": 68.0, \"time\": 4.99, \"image\": \"MercedesGLA_68.MP4\", \"vehicle\": \"MercedesGLA\"}, {\"speed\": 70.0, \"time\": 5.01, \"image\": \"MercedesGLA_70.MP4\", \"vehicle\": \"MercedesGLA\"}, {\"speed\": 72.0, \"time\": 5.0, \"image\": \"MercedesGLA_72.MP4\", \"vehicle\": \"MercedesGLA\"}, {\"speed\": 75.0, \"time\": 5.0, \"image\": \"MercedesGLA_75.MP4\", \"vehicle\": \"MercedesGLA\"}, {\"speed\": 78.0, \"time\": 5.0, \"image\": \"MercedesGLA_78.MP4\", \"vehicle\": \"MercedesGLA\"}, {\"speed\": 81.0, \"time\": 5.01, \"image\": \"MercedesGLA_81.MP4\", \"vehicle\": \"MercedesGLA\"}, {\"speed\": 83.0, \"time\": 5.01, \"image\": \"MercedesGLA_83.MP4\", \"vehicle\": \"MercedesGLA\"}, {\"speed\": 85.0, \"time\": 5.01, \"image\": \"MercedesGLA_85.MP4\", \"vehicle\": \"MercedesGLA\"}, {\"speed\": 88.0, \"time\": 4.99, \"image\": \"MercedesGLA_88.MP4\", \"vehicle\": \"MercedesGLA\"}, {\"speed\": 90.0, \"time\": 5.1, \"image\": \"MercedesGLA_90.MP4\", \"vehicle\": \"MercedesGLA\"}, {\"speed\": 92.0, \"time\": 5.01, \"image\": \"MercedesGLA_92.MP4\", \"vehicle\": \"MercedesGLA\"}, {\"speed\": 93.0, \"time\": 4.99, \"image\": \"MercedesGLA_93.MP4\", \"vehicle\": \"MercedesGLA\"}, {\"speed\": 96.0, \"time\": 5.0, \"image\": \"MercedesGLA_96.MP4\", \"vehicle\": \"MercedesGLA\"}, {\"speed\": 102.0, \"time\": 5.62, \"image\": \"NissanQashqai_102.MP4\", \"vehicle\": \"NissanQashqai\"}, {\"speed\": 35.0, \"time\": 6.1, \"image\": \"NissanQashqai_35.MP4\", \"vehicle\": \"NissanQashqai\"}, {\"speed\": 38.0, \"time\": 6.19, \"image\": \"NissanQashqai_38.MP4\", \"vehicle\": \"NissanQashqai\"}, {\"speed\": 40.0, \"time\": 5.21, \"image\": \"NissanQashqai_40.MP4\", \"vehicle\": \"NissanQashqai\"}, {\"speed\": 42.0, \"time\": 5.14, \"image\": \"NissanQashqai_42.MP4\", \"vehicle\": \"NissanQashqai\"}, {\"speed\": 45.0, \"time\": 6.01, \"image\": \"NissanQashqai_45.MP4\", \"vehicle\": \"NissanQashqai\"}, {\"speed\": 48.0, \"time\": 5.21, \"image\": \"NissanQashqai_48.MP4\", \"vehicle\": \"NissanQashqai\"}, {\"speed\": 50.0, \"time\": 5.85, \"image\": \"NissanQashqai_50.MP4\", \"vehicle\": \"NissanQashqai\"}, {\"speed\": 53.0, \"time\": 5.99, \"image\": \"NissanQashqai_53.MP4\", \"vehicle\": \"NissanQashqai\"}, {\"speed\": 55.0, \"time\": 5.9, \"image\": \"NissanQashqai_55.MP4\", \"vehicle\": \"NissanQashqai\"}, {\"speed\": 58.0, \"time\": 5.61, \"image\": \"NissanQashqai_58.MP4\", \"vehicle\": \"NissanQashqai\"}, {\"speed\": 60.0, \"time\": 5.58, \"image\": \"NissanQashqai_60.MP4\", \"vehicle\": \"NissanQashqai\"}, {\"speed\": 61.0, \"time\": 6.08, \"image\": \"NissanQashqai_61.MP4\", \"vehicle\": \"NissanQashqai\"}, {\"speed\": 64.0, \"time\": 5.92, \"image\": \"NissanQashqai_64.MP4\", \"vehicle\": \"NissanQashqai\"}, {\"speed\": 65.0, \"time\": 5.58, \"image\": \"NissanQashqai_65.MP4\", \"vehicle\": \"NissanQashqai\"}, {\"speed\": 68.0, \"time\": 5.98, \"image\": \"NissanQashqai_68.MP4\", \"vehicle\": \"NissanQashqai\"}, {\"speed\": 70.0, \"time\": 6.04, \"image\": \"NissanQashqai_70.MP4\", \"vehicle\": \"NissanQashqai\"}, {\"speed\": 73.0, \"time\": 6.14, \"image\": \"NissanQashqai_73.MP4\", \"vehicle\": \"NissanQashqai\"}, {\"speed\": 75.0, \"time\": 6.01, \"image\": \"NissanQashqai_75.MP4\", \"vehicle\": \"NissanQashqai\"}, {\"speed\": 78.0, \"time\": 5.9, \"image\": \"NissanQashqai_78.MP4\", \"vehicle\": \"NissanQashqai\"}, {\"speed\": 80.0, \"time\": 5.79, \"image\": \"NissanQashqai_80.MP4\", \"vehicle\": \"NissanQashqai\"}, {\"speed\": 82.0, \"time\": 5.72, \"image\": \"NissanQashqai_82.MP4\", \"vehicle\": \"NissanQashqai\"}, {\"speed\": 85.0, \"time\": 5.91, \"image\": \"NissanQashqai_85.MP4\", \"vehicle\": \"NissanQashqai\"}, {\"speed\": 88.0, \"time\": 6.13, \"image\": \"NissanQashqai_88.MP4\", \"vehicle\": \"NissanQashqai\"}, {\"speed\": 90.0, \"time\": 5.52, \"image\": \"NissanQashqai_90.MP4\", \"vehicle\": \"NissanQashqai\"}, {\"speed\": 93.0, \"time\": 5.79, \"image\": \"NissanQashqai_93.MP4\", \"vehicle\": \"NissanQashqai\"}, {\"speed\": 94.0, \"time\": 5.28, \"image\": \"NissanQashqai_94.MP4\", \"vehicle\": \"NissanQashqai\"}, {\"speed\": 96.0, \"time\": 5.58, \"image\": \"NissanQashqai_96.MP4\", \"vehicle\": \"NissanQashqai\"}, {\"speed\": 98.0, \"time\": 5.38, \"image\": \"NissanQashqai_98.MP4\", \"vehicle\": \"NissanQashqai\"}, {\"speed\": 100.0, \"time\": 5.02, \"image\": \"OpelInsignia_100.MP4\", \"vehicle\": \"OpelInsignia\"}, {\"speed\": 31.0, \"time\": 6.05, \"image\": \"OpelInsignia_31.MP4\", \"vehicle\": \"OpelInsignia\"}, {\"speed\": 35.0, \"time\": 5.92, \"image\": \"OpelInsignia_35.MP4\", \"vehicle\": \"OpelInsignia\"}, {\"speed\": 38.0, \"time\": 6.68, \"image\": \"OpelInsignia_38.MP4\", \"vehicle\": \"OpelInsignia\"}, {\"speed\": 41.0, \"time\": 6.51, \"image\": \"OpelInsignia_41.MP4\", \"vehicle\": \"OpelInsignia\"}, {\"speed\": 44.0, \"time\": 5.92, \"image\": \"OpelInsignia_44.MP4\", \"vehicle\": \"OpelInsignia\"}, {\"speed\": 47.0, \"time\": 5.91, \"image\": \"OpelInsignia_47.MP4\", \"vehicle\": \"OpelInsignia\"}, {\"speed\": 50.0, \"time\": 6.42, \"image\": \"OpelInsignia_50.MP4\", \"vehicle\": \"OpelInsignia\"}, {\"speed\": 53.0, \"time\": 5.71, \"image\": \"OpelInsignia_53.MP4\", \"vehicle\": \"OpelInsignia\"}, {\"speed\": 55.0, \"time\": 5.51, \"image\": \"OpelInsignia_55.MP4\", \"vehicle\": \"OpelInsignia\"}, {\"speed\": 58.0, \"time\": 5.48, \"image\": \"OpelInsignia_58.MP4\", \"vehicle\": \"OpelInsignia\"}, {\"speed\": 61.0, \"time\": 5.54, \"image\": \"OpelInsignia_61.MP4\", \"vehicle\": \"OpelInsignia\"}, {\"speed\": 64.0, \"time\": 5.74, \"image\": \"OpelInsignia_64.MP4\", \"vehicle\": \"OpelInsignia\"}, {\"speed\": 66.0, \"time\": 5.35, \"image\": \"OpelInsignia_66.MP4\", \"vehicle\": \"OpelInsignia\"}, {\"speed\": 68.0, \"time\": 5.25, \"image\": \"OpelInsignia_68.MP4\", \"vehicle\": \"OpelInsignia\"}, {\"speed\": 70.0, \"time\": 5.91, \"image\": \"OpelInsignia_70.MP4\", \"vehicle\": \"OpelInsignia\"}, {\"speed\": 72.0, \"time\": 6.09, \"image\": \"OpelInsignia_72.MP4\", \"vehicle\": \"OpelInsignia\"}, {\"speed\": 73.0, \"time\": 5.39, \"image\": \"OpelInsignia_73.MP4\", \"vehicle\": \"OpelInsignia\"}, {\"speed\": 76.0, \"time\": 6.22, \"image\": \"OpelInsignia_76.MP4\", \"vehicle\": \"OpelInsignia\"}, {\"speed\": 78.0, \"time\": 5.21, \"image\": \"OpelInsignia_78.MP4\", \"vehicle\": \"OpelInsignia\"}, {\"speed\": 80.0, \"time\": 6.24, \"image\": \"OpelInsignia_80.MP4\", \"vehicle\": \"OpelInsignia\"}, {\"speed\": 83.0, \"time\": 6.02, \"image\": \"OpelInsignia_83.MP4\", \"vehicle\": \"OpelInsignia\"}, {\"speed\": 86.0, \"time\": 5.51, \"image\": \"OpelInsignia_86.MP4\", \"vehicle\": \"OpelInsignia\"}, {\"speed\": 89.0, \"time\": 5.59, \"image\": \"OpelInsignia_89.MP4\", \"vehicle\": \"OpelInsignia\"}, {\"speed\": 91.0, \"time\": 5.38, \"image\": \"OpelInsignia_91.MP4\", \"vehicle\": \"OpelInsignia\"}, {\"speed\": 94.0, \"time\": 5.81, \"image\": \"OpelInsignia_94.MP4\", \"vehicle\": \"OpelInsignia\"}, {\"speed\": 97.0, \"time\": 5.72, \"image\": \"OpelInsignia_97.MP4\", \"vehicle\": \"OpelInsignia\"}, {\"speed\": 30.0, \"time\": 5.14, \"image\": \"Peugeot208_30.MP4\", \"vehicle\": \"Peugeot208\"}, {\"speed\": 32.0, \"time\": 5.04, \"image\": \"Peugeot208_32.MP4\", \"vehicle\": \"Peugeot208\"}, {\"speed\": 34.0, \"time\": 5.04, \"image\": \"Peugeot208_34.MP4\", \"vehicle\": \"Peugeot208\"}, {\"speed\": 37.0, \"time\": 5.15, \"image\": \"Peugeot208_37.MP4\", \"vehicle\": \"Peugeot208\"}, {\"speed\": 40.0, \"time\": 5.14, \"image\": \"Peugeot208_40.MP4\", \"vehicle\": \"Peugeot208\"}, {\"speed\": 43.0, \"time\": 5.1, \"image\": \"Peugeot208_43.MP4\", \"vehicle\": \"Peugeot208\"}, {\"speed\": 45.0, \"time\": 5.12, \"image\": \"Peugeot208_45.MP4\", \"vehicle\": \"Peugeot208\"}, {\"speed\": 47.0, \"time\": 5.02, \"image\": \"Peugeot208_47.MP4\", \"vehicle\": \"Peugeot208\"}, {\"speed\": 50.0, \"time\": 4.93, \"image\": \"Peugeot208_50.MP4\", \"vehicle\": \"Peugeot208\"}, {\"speed\": 51.0, \"time\": 5.52, \"image\": \"Peugeot208_51.MP4\", \"vehicle\": \"Peugeot208\"}, {\"speed\": 54.0, \"time\": 5.17, \"image\": \"Peugeot208_54.MP4\", \"vehicle\": \"Peugeot208\"}, {\"speed\": 57.0, \"time\": 5.51, \"image\": \"Peugeot208_57.MP4\", \"vehicle\": \"Peugeot208\"}, {\"speed\": 60.0, \"time\": 5.06, \"image\": \"Peugeot208_60.MP4\", \"vehicle\": \"Peugeot208\"}, {\"speed\": 62.0, \"time\": 5.09, \"image\": \"Peugeot208_62.MP4\", \"vehicle\": \"Peugeot208\"}, {\"speed\": 64.0, \"time\": 5.22, \"image\": \"Peugeot208_64.MP4\", \"vehicle\": \"Peugeot208\"}, {\"speed\": 67.0, \"time\": 5.03, \"image\": \"Peugeot208_67.MP4\", \"vehicle\": \"Peugeot208\"}, {\"speed\": 68.0, \"time\": 5.18, \"image\": \"Peugeot208_68.MP4\", \"vehicle\": \"Peugeot208\"}, {\"speed\": 71.0, \"time\": 5.16, \"image\": \"Peugeot208_71.MP4\", \"vehicle\": \"Peugeot208\"}, {\"speed\": 73.0, \"time\": 4.99, \"image\": \"Peugeot208_73.MP4\", \"vehicle\": \"Peugeot208\"}, {\"speed\": 76.0, \"time\": 5.61, \"image\": \"Peugeot208_76.MP4\", \"vehicle\": \"Peugeot208\"}, {\"speed\": 77.0, \"time\": 6.26, \"image\": \"Peugeot208_77.MP4\", \"vehicle\": \"Peugeot208\"}, {\"speed\": 79.0, \"time\": 5.22, \"image\": \"Peugeot208_79.MP4\", \"vehicle\": \"Peugeot208\"}, {\"speed\": 82.0, \"time\": 5.17, \"image\": \"Peugeot208_82.MP4\", \"vehicle\": \"Peugeot208\"}, {\"speed\": 84.0, \"time\": 5.12, \"image\": \"Peugeot208_84.MP4\", \"vehicle\": \"Peugeot208\"}, {\"speed\": 87.0, \"time\": 5.48, \"image\": \"Peugeot208_87.MP4\", \"vehicle\": \"Peugeot208\"}, {\"speed\": 90.0, \"time\": 5.18, \"image\": \"Peugeot208_90.MP4\", \"vehicle\": \"Peugeot208\"}, {\"speed\": 92.0, \"time\": 5.48, \"image\": \"Peugeot208_92.MP4\", \"vehicle\": \"Peugeot208\"}, {\"speed\": 95.0, \"time\": 5.59, \"image\": \"Peugeot208_95.MP4\", \"vehicle\": \"Peugeot208\"}, {\"speed\": 96.0, \"time\": 5.43, \"image\": \"Peugeot208_96.MP4\", \"vehicle\": \"Peugeot208\"}, {\"speed\": 100.0, \"time\": 5.5, \"image\": \"Peugeot3008_100.MP4\", \"vehicle\": \"Peugeot3008\"}, {\"speed\": 40.0, \"time\": 6.01, \"image\": \"Peugeot3008_40.MP4\", \"vehicle\": \"Peugeot3008\"}, {\"speed\": 43.0, \"time\": 4.93, \"image\": \"Peugeot3008_43.MP4\", \"vehicle\": \"Peugeot3008\"}, {\"speed\": 45.0, \"time\": 6.0, \"image\": \"Peugeot3008_45.MP4\", \"vehicle\": \"Peugeot3008\"}, {\"speed\": 47.0, \"time\": 5.89, \"image\": \"Peugeot3008_47.MP4\", \"vehicle\": \"Peugeot3008\"}, {\"speed\": 50.0, \"time\": 5.99, \"image\": \"Peugeot3008_50.MP4\", \"vehicle\": \"Peugeot3008\"}, {\"speed\": 52.0, \"time\": 6.86, \"image\": \"Peugeot3008_52.MP4\", \"vehicle\": \"Peugeot3008\"}, {\"speed\": 54.0, \"time\": 5.84, \"image\": \"Peugeot3008_54.MP4\", \"vehicle\": \"Peugeot3008\"}, {\"speed\": 55.0, \"time\": 6.02, \"image\": \"Peugeot3008_55.MP4\", \"vehicle\": \"Peugeot3008\"}, {\"speed\": 56.0, \"time\": 5.71, \"image\": \"Peugeot3008_56.MP4\", \"vehicle\": \"Peugeot3008\"}, {\"speed\": 58.0, \"time\": 4.89, \"image\": \"Peugeot3008_58.MP4\", \"vehicle\": \"Peugeot3008\"}, {\"speed\": 60.0, \"time\": 5.99, \"image\": \"Peugeot3008_60.MP4\", \"vehicle\": \"Peugeot3008\"}, {\"speed\": 61.0, \"time\": 5.43, \"image\": \"Peugeot3008_61.MP4\", \"vehicle\": \"Peugeot3008\"}, {\"speed\": 63.0, \"time\": 7.22, \"image\": \"Peugeot3008_63.MP4\", \"vehicle\": \"Peugeot3008\"}, {\"speed\": 65.0, \"time\": 6.0, \"image\": \"Peugeot3008_65.MP4\", \"vehicle\": \"Peugeot3008\"}, {\"speed\": 67.0, \"time\": 5.69, \"image\": \"Peugeot3008_67.MP4\", \"vehicle\": \"Peugeot3008\"}, {\"speed\": 68.0, \"time\": 5.97, \"image\": \"Peugeot3008_68.MP4\", \"vehicle\": \"Peugeot3008\"}, {\"speed\": 70.0, \"time\": 6.0, \"image\": \"Peugeot3008_70.MP4\", \"vehicle\": \"Peugeot3008\"}, {\"speed\": 72.0, \"time\": 5.53, \"image\": \"Peugeot3008_72.MP4\", \"vehicle\": \"Peugeot3008\"}, {\"speed\": 74.0, \"time\": 5.88, \"image\": \"Peugeot3008_74.MP4\", \"vehicle\": \"Peugeot3008\"}, {\"speed\": 75.0, \"time\": 6.09, \"image\": \"Peugeot3008_75.MP4\", \"vehicle\": \"Peugeot3008\"}, {\"speed\": 78.0, \"time\": 5.6, \"image\": \"Peugeot3008_78.MP4\", \"vehicle\": \"Peugeot3008\"}, {\"speed\": 80.0, \"time\": 6.01, \"image\": \"Peugeot3008_80.MP4\", \"vehicle\": \"Peugeot3008\"}, {\"speed\": 83.0, \"time\": 6.62, \"image\": \"Peugeot3008_83.MP4\", \"vehicle\": \"Peugeot3008\"}, {\"speed\": 85.0, \"time\": 6.38, \"image\": \"Peugeot3008_85.MP4\", \"vehicle\": \"Peugeot3008\"}, {\"speed\": 87.0, \"time\": 5.35, \"image\": \"Peugeot3008_87.MP4\", \"vehicle\": \"Peugeot3008\"}, {\"speed\": 89.0, \"time\": 5.15, \"image\": \"Peugeot3008_89.MP4\", \"vehicle\": \"Peugeot3008\"}, {\"speed\": 90.0, \"time\": 5.99, \"image\": \"Peugeot3008_90.MP4\", \"vehicle\": \"Peugeot3008\"}, {\"speed\": 92.0, \"time\": 5.37, \"image\": \"Peugeot3008_92.MP4\", \"vehicle\": \"Peugeot3008\"}, {\"speed\": 95.0, \"time\": 6.1, \"image\": \"Peugeot3008_95.MP4\", \"vehicle\": \"Peugeot3008\"}, {\"speed\": 97.0, \"time\": 6.39, \"image\": \"Peugeot3008_97.MP4\", \"vehicle\": \"Peugeot3008\"}, {\"speed\": 101.0, \"time\": 5.45, \"image\": \"Peugeot307_101.MP4\", \"vehicle\": \"Peugeot307\"}, {\"speed\": 103.0, \"time\": 5.86, \"image\": \"Peugeot307_103.MP4\", \"vehicle\": \"Peugeot307\"}, {\"speed\": 30.0, \"time\": 5.52, \"image\": \"Peugeot307_30.MP4\", \"vehicle\": \"Peugeot307\"}, {\"speed\": 33.0, \"time\": 5.62, \"image\": \"Peugeot307_33.MP4\", \"vehicle\": \"Peugeot307\"}, {\"speed\": 35.0, \"time\": 5.55, \"image\": \"Peugeot307_35.MP4\", \"vehicle\": \"Peugeot307\"}, {\"speed\": 38.0, \"time\": 5.08, \"image\": \"Peugeot307_38.MP4\", \"vehicle\": \"Peugeot307\"}, {\"speed\": 40.0, \"time\": 5.02, \"image\": \"Peugeot307_40.MP4\", \"vehicle\": \"Peugeot307\"}, {\"speed\": 43.0, \"time\": 4.95, \"image\": \"Peugeot307_43.MP4\", \"vehicle\": \"Peugeot307\"}, {\"speed\": 45.0, \"time\": 5.18, \"image\": \"Peugeot307_45.MP4\", \"vehicle\": \"Peugeot307\"}, {\"speed\": 47.0, \"time\": 4.99, \"image\": \"Peugeot307_47.MP4\", \"vehicle\": \"Peugeot307\"}, {\"speed\": 48.0, \"time\": 4.97, \"image\": \"Peugeot307_48.MP4\", \"vehicle\": \"Peugeot307\"}, {\"speed\": 50.0, \"time\": 5.18, \"image\": \"Peugeot307_50.MP4\", \"vehicle\": \"Peugeot307\"}, {\"speed\": 53.0, \"time\": 4.98, \"image\": \"Peugeot307_53.MP4\", \"vehicle\": \"Peugeot307\"}, {\"speed\": 56.0, \"time\": 5.45, \"image\": \"Peugeot307_56.MP4\", \"vehicle\": \"Peugeot307\"}, {\"speed\": 59.0, \"time\": 4.97, \"image\": \"Peugeot307_59.MP4\", \"vehicle\": \"Peugeot307\"}, {\"speed\": 60.0, \"time\": 6.33, \"image\": \"Peugeot307_60.MP4\", \"vehicle\": \"Peugeot307\"}, {\"speed\": 63.0, \"time\": 5.08, \"image\": \"Peugeot307_63.MP4\", \"vehicle\": \"Peugeot307\"}, {\"speed\": 66.0, \"time\": 5.18, \"image\": \"Peugeot307_66.MP4\", \"vehicle\": \"Peugeot307\"}, {\"speed\": 69.0, \"time\": 4.85, \"image\": \"Peugeot307_69.MP4\", \"vehicle\": \"Peugeot307\"}, {\"speed\": 72.0, \"time\": 4.6, \"image\": \"Peugeot307_72.MP4\", \"vehicle\": \"Peugeot307\"}, {\"speed\": 73.0, \"time\": 4.95, \"image\": \"Peugeot307_73.MP4\", \"vehicle\": \"Peugeot307\"}, {\"speed\": 76.0, \"time\": 4.9, \"image\": \"Peugeot307_76.MP4\", \"vehicle\": \"Peugeot307\"}, {\"speed\": 79.0, \"time\": 4.93, \"image\": \"Peugeot307_79.MP4\", \"vehicle\": \"Peugeot307\"}, {\"speed\": 82.0, \"time\": 5.22, \"image\": \"Peugeot307_82.MP4\", \"vehicle\": \"Peugeot307\"}, {\"speed\": 85.0, \"time\": 5.25, \"image\": \"Peugeot307_85.MP4\", \"vehicle\": \"Peugeot307\"}, {\"speed\": 88.0, \"time\": 4.94, \"image\": \"Peugeot307_88.MP4\", \"vehicle\": \"Peugeot307\"}, {\"speed\": 91.0, \"time\": 5.05, \"image\": \"Peugeot307_91.MP4\", \"vehicle\": \"Peugeot307\"}, {\"speed\": 94.0, \"time\": 4.75, \"image\": \"Peugeot307_94.MP4\", \"vehicle\": \"Peugeot307\"}, {\"speed\": 97.0, \"time\": 4.95, \"image\": \"Peugeot307_97.MP4\", \"vehicle\": \"Peugeot307\"}, {\"speed\": 100.0, \"time\": 5.19, \"image\": \"RenaultCaptur_100.MP4\", \"vehicle\": \"RenaultCaptur\"}, {\"speed\": 102.0, \"time\": 5.34, \"image\": \"RenaultCaptur_102.MP4\", \"vehicle\": \"RenaultCaptur\"}, {\"speed\": 30.0, \"time\": 5.55, \"image\": \"RenaultCaptur_30.MP4\", \"vehicle\": \"RenaultCaptur\"}, {\"speed\": 33.0, \"time\": 5.85, \"image\": \"RenaultCaptur_33.MP4\", \"vehicle\": \"RenaultCaptur\"}, {\"speed\": 36.0, \"time\": 5.32, \"image\": \"RenaultCaptur_36.MP4\", \"vehicle\": \"RenaultCaptur\"}, {\"speed\": 38.0, \"time\": 5.44, \"image\": \"RenaultCaptur_38.MP4\", \"vehicle\": \"RenaultCaptur\"}, {\"speed\": 40.0, \"time\": 5.29, \"image\": \"RenaultCaptur_40.MP4\", \"vehicle\": \"RenaultCaptur\"}, {\"speed\": 41.0, \"time\": 5.36, \"image\": \"RenaultCaptur_41.MP4\", \"vehicle\": \"RenaultCaptur\"}, {\"speed\": 44.0, \"time\": 5.3, \"image\": \"RenaultCaptur_44.MP4\", \"vehicle\": \"RenaultCaptur\"}, {\"speed\": 46.0, \"time\": 4.68, \"image\": \"RenaultCaptur_46.MP4\", \"vehicle\": \"RenaultCaptur\"}, {\"speed\": 47.0, \"time\": 5.28, \"image\": \"RenaultCaptur_47.MP4\", \"vehicle\": \"RenaultCaptur\"}, {\"speed\": 48.0, \"time\": 5.57, \"image\": \"RenaultCaptur_48.MP4\", \"vehicle\": \"RenaultCaptur\"}, {\"speed\": 50.0, \"time\": 5.09, \"image\": \"RenaultCaptur_50.MP4\", \"vehicle\": \"RenaultCaptur\"}, {\"speed\": 52.0, \"time\": 5.53, \"image\": \"RenaultCaptur_52.MP4\", \"vehicle\": \"RenaultCaptur\"}, {\"speed\": 56.0, \"time\": 5.21, \"image\": \"RenaultCaptur_56.MP4\", \"vehicle\": \"RenaultCaptur\"}, {\"speed\": 58.0, \"time\": 5.32, \"image\": \"RenaultCaptur_58.MP4\", \"vehicle\": \"RenaultCaptur\"}, {\"speed\": 60.0, \"time\": 5.39, \"image\": \"RenaultCaptur_60.MP4\", \"vehicle\": \"RenaultCaptur\"}, {\"speed\": 63.0, \"time\": 5.42, \"image\": \"RenaultCaptur_63.MP4\", \"vehicle\": \"RenaultCaptur\"}, {\"speed\": 66.0, \"time\": 5.01, \"image\": \"RenaultCaptur_66.MP4\", \"vehicle\": \"RenaultCaptur\"}, {\"speed\": 68.0, \"time\": 5.15, \"image\": \"RenaultCaptur_68.MP4\", \"vehicle\": \"RenaultCaptur\"}, {\"speed\": 70.0, \"time\": 5.75, \"image\": \"RenaultCaptur_70.MP4\", \"vehicle\": \"RenaultCaptur\"}, {\"speed\": 72.0, \"time\": 5.08, \"image\": \"RenaultCaptur_72.MP4\", \"vehicle\": \"RenaultCaptur\"}, {\"speed\": 76.0, \"time\": 5.94, \"image\": \"RenaultCaptur_76.MP4\", \"vehicle\": \"RenaultCaptur\"}, {\"speed\": 78.0, \"time\": 5.32, \"image\": \"RenaultCaptur_78.MP4\", \"vehicle\": \"RenaultCaptur\"}, {\"speed\": 80.0, \"time\": 4.79, \"image\": \"RenaultCaptur_80.MP4\", \"vehicle\": \"RenaultCaptur\"}, {\"speed\": 83.0, \"time\": 5.59, \"image\": \"RenaultCaptur_83.MP4\", \"vehicle\": \"RenaultCaptur\"}, {\"speed\": 86.0, \"time\": 5.18, \"image\": \"RenaultCaptur_86.MP4\", \"vehicle\": \"RenaultCaptur\"}, {\"speed\": 88.0, \"time\": 5.24, \"image\": \"RenaultCaptur_88.MP4\", \"vehicle\": \"RenaultCaptur\"}, {\"speed\": 90.0, \"time\": 5.61, \"image\": \"RenaultCaptur_90.MP4\", \"vehicle\": \"RenaultCaptur\"}, {\"speed\": 92.0, \"time\": 5.64, \"image\": \"RenaultCaptur_92.MP4\", \"vehicle\": \"RenaultCaptur\"}, {\"speed\": 94.0, \"time\": 5.06, \"image\": \"RenaultCaptur_94.MP4\", \"vehicle\": \"RenaultCaptur\"}, {\"speed\": 97.0, \"time\": 6.02, \"image\": \"RenaultCaptur_97.MP4\", \"vehicle\": \"RenaultCaptur\"}, {\"speed\": 98.0, \"time\": 5.11, \"image\": \"RenaultCaptur_98.MP4\", \"vehicle\": \"RenaultCaptur\"}, {\"speed\": 101.0, \"time\": 6.17, \"image\": \"RenaultScenic_101.MP4\", \"vehicle\": \"RenaultScenic\"}, {\"speed\": 30.0, \"time\": 6.0, \"image\": \"RenaultScenic_30.MP4\", \"vehicle\": \"RenaultScenic\"}, {\"speed\": 35.0, \"time\": 6.82, \"image\": \"RenaultScenic_35.MP4\", \"vehicle\": \"RenaultScenic\"}, {\"speed\": 36.0, \"time\": 6.01, \"image\": \"RenaultScenic_36.MP4\", \"vehicle\": \"RenaultScenic\"}, {\"speed\": 38.0, \"time\": 6.03, \"image\": \"RenaultScenic_38.MP4\", \"vehicle\": \"RenaultScenic\"}, {\"speed\": 40.0, \"time\": 6.7, \"image\": \"RenaultScenic_40.MP4\", \"vehicle\": \"RenaultScenic\"}, {\"speed\": 42.0, \"time\": 5.83, \"image\": \"RenaultScenic_42.MP4\", \"vehicle\": \"RenaultScenic\"}, {\"speed\": 44.0, \"time\": 5.27, \"image\": \"RenaultScenic_44.MP4\", \"vehicle\": \"RenaultScenic\"}, {\"speed\": 46.0, \"time\": 6.75, \"image\": \"RenaultScenic_46.MP4\", \"vehicle\": \"RenaultScenic\"}, {\"speed\": 48.0, \"time\": 5.75, \"image\": \"RenaultScenic_48.MP4\", \"vehicle\": \"RenaultScenic\"}, {\"speed\": 50.0, \"time\": 7.25, \"image\": \"RenaultScenic_50.MP4\", \"vehicle\": \"RenaultScenic\"}, {\"speed\": 52.0, \"time\": 5.25, \"image\": \"RenaultScenic_52.MP4\", \"vehicle\": \"RenaultScenic\"}, {\"speed\": 54.0, \"time\": 5.46, \"image\": \"RenaultScenic_54.MP4\", \"vehicle\": \"RenaultScenic\"}, {\"speed\": 57.0, \"time\": 6.6, \"image\": \"RenaultScenic_57.MP4\", \"vehicle\": \"RenaultScenic\"}, {\"speed\": 60.0, \"time\": 6.12, \"image\": \"RenaultScenic_60.MP4\", \"vehicle\": \"RenaultScenic\"}, {\"speed\": 62.0, \"time\": 6.05, \"image\": \"RenaultScenic_62.MP4\", \"vehicle\": \"RenaultScenic\"}, {\"speed\": 64.0, \"time\": 5.76, \"image\": \"RenaultScenic_64.MP4\", \"vehicle\": \"RenaultScenic\"}, {\"speed\": 66.0, \"time\": 5.35, \"image\": \"RenaultScenic_66.MP4\", \"vehicle\": \"RenaultScenic\"}, {\"speed\": 68.0, \"time\": 6.57, \"image\": \"RenaultScenic_68.MP4\", \"vehicle\": \"RenaultScenic\"}, {\"speed\": 70.0, \"time\": 5.85, \"image\": \"RenaultScenic_70.MP4\", \"vehicle\": \"RenaultScenic\"}, {\"speed\": 71.0, \"time\": 5.99, \"image\": \"RenaultScenic_71.MP4\", \"vehicle\": \"RenaultScenic\"}, {\"speed\": 72.0, \"time\": 5.23, \"image\": \"RenaultScenic_72.MP4\", \"vehicle\": \"RenaultScenic\"}, {\"speed\": 74.0, \"time\": 5.7, \"image\": \"RenaultScenic_74.MP4\", \"vehicle\": \"RenaultScenic\"}, {\"speed\": 75.0, \"time\": 5.45, \"image\": \"RenaultScenic_75.MP4\", \"vehicle\": \"RenaultScenic\"}, {\"speed\": 77.0, \"time\": 7.32, \"image\": \"RenaultScenic_77.MP4\", \"vehicle\": \"RenaultScenic\"}, {\"speed\": 80.0, \"time\": 7.01, \"image\": \"RenaultScenic_80.MP4\", \"vehicle\": \"RenaultScenic\"}, {\"speed\": 82.0, \"time\": 6.06, \"image\": \"RenaultScenic_82.MP4\", \"vehicle\": \"RenaultScenic\"}, {\"speed\": 84.0, \"time\": 5.39, \"image\": \"RenaultScenic_84.MP4\", \"vehicle\": \"RenaultScenic\"}, {\"speed\": 86.0, \"time\": 5.65, \"image\": \"RenaultScenic_86.MP4\", \"vehicle\": \"RenaultScenic\"}, {\"speed\": 87.0, \"time\": 6.0, \"image\": \"RenaultScenic_87.MP4\", \"vehicle\": \"RenaultScenic\"}, {\"speed\": 90.0, \"time\": 5.09, \"image\": \"RenaultScenic_90.MP4\", \"vehicle\": \"RenaultScenic\"}, {\"speed\": 91.0, \"time\": 6.21, \"image\": \"RenaultScenic_91.MP4\", \"vehicle\": \"RenaultScenic\"}, {\"speed\": 94.0, \"time\": 6.18, \"image\": \"RenaultScenic_94.MP4\", \"vehicle\": \"RenaultScenic\"}, {\"speed\": 95.0, \"time\": 6.23, \"image\": \"RenaultScenic_95.MP4\", \"vehicle\": \"RenaultScenic\"}, {\"speed\": 98.0, \"time\": 5.38, \"image\": \"RenaultScenic_98.MP4\", \"vehicle\": \"RenaultScenic\"}, {\"speed\": 100.0, \"time\": 6.01, \"image\": \"VWPassat_100.MP4\", \"vehicle\": \"VWPassat\"}, {\"speed\": 30.0, \"time\": 6.46, \"image\": \"VWPassat_30.MP4\", \"vehicle\": \"VWPassat\"}, {\"speed\": 35.0, \"time\": 5.92, \"image\": \"VWPassat_35.MP4\", \"vehicle\": \"VWPassat\"}, {\"speed\": 39.0, \"time\": 5.27, \"image\": \"VWPassat_39.MP4\", \"vehicle\": \"VWPassat\"}, {\"speed\": 40.0, \"time\": 6.53, \"image\": \"VWPassat_40.MP4\", \"vehicle\": \"VWPassat\"}, {\"speed\": 42.0, \"time\": 6.72, \"image\": \"VWPassat_42.MP4\", \"vehicle\": \"VWPassat\"}, {\"speed\": 45.0, \"time\": 6.35, \"image\": \"VWPassat_45.MP4\", \"vehicle\": \"VWPassat\"}, {\"speed\": 47.0, \"time\": 5.25, \"image\": \"VWPassat_47.MP4\", \"vehicle\": \"VWPassat\"}, {\"speed\": 49.0, \"time\": 5.27, \"image\": \"VWPassat_49.MP4\", \"vehicle\": \"VWPassat\"}, {\"speed\": 50.0, \"time\": 6.0, \"image\": \"VWPassat_50.MP4\", \"vehicle\": \"VWPassat\"}, {\"speed\": 52.0, \"time\": 6.02, \"image\": \"VWPassat_52.MP4\", \"vehicle\": \"VWPassat\"}, {\"speed\": 54.0, \"time\": 5.54, \"image\": \"VWPassat_54.MP4\", \"vehicle\": \"VWPassat\"}, {\"speed\": 55.0, \"time\": 6.02, \"image\": \"VWPassat_55.MP4\", \"vehicle\": \"VWPassat\"}, {\"speed\": 57.0, \"time\": 4.98, \"image\": \"VWPassat_57.MP4\", \"vehicle\": \"VWPassat\"}, {\"speed\": 60.0, \"time\": 5.98, \"image\": \"VWPassat_60.MP4\", \"vehicle\": \"VWPassat\"}, {\"speed\": 61.0, \"time\": 6.01, \"image\": \"VWPassat_61.MP4\", \"vehicle\": \"VWPassat\"}, {\"speed\": 64.0, \"time\": 5.67, \"image\": \"VWPassat_64.MP4\", \"vehicle\": \"VWPassat\"}, {\"speed\": 65.0, \"time\": 5.82, \"image\": \"VWPassat_65.MP4\", \"vehicle\": \"VWPassat\"}, {\"speed\": 67.0, \"time\": 5.08, \"image\": \"VWPassat_67.MP4\", \"vehicle\": \"VWPassat\"}, {\"speed\": 70.0, \"time\": 6.0, \"image\": \"VWPassat_70.MP4\", \"vehicle\": \"VWPassat\"}, {\"speed\": 71.0, \"time\": 5.51, \"image\": \"VWPassat_71.MP4\", \"vehicle\": \"VWPassat\"}, {\"speed\": 72.0, \"time\": 5.42, \"image\": \"VWPassat_72.MP4\", \"vehicle\": \"VWPassat\"}, {\"speed\": 73.0, \"time\": 5.32, \"image\": \"VWPassat_73.MP4\", \"vehicle\": \"VWPassat\"}, {\"speed\": 75.0, \"time\": 6.02, \"image\": \"VWPassat_75.MP4\", \"vehicle\": \"VWPassat\"}, {\"speed\": 78.0, \"time\": 5.85, \"image\": \"VWPassat_78.MP4\", \"vehicle\": \"VWPassat\"}, {\"speed\": 80.0, \"time\": 5.99, \"image\": \"VWPassat_80.MP4\", \"vehicle\": \"VWPassat\"}, {\"speed\": 81.0, \"time\": 5.58, \"image\": \"VWPassat_81.MP4\", \"vehicle\": \"VWPassat\"}, {\"speed\": 82.0, \"time\": 5.62, \"image\": \"VWPassat_82.MP4\", \"vehicle\": \"VWPassat\"}, {\"speed\": 85.0, \"time\": 6.23, \"image\": \"VWPassat_85.MP4\", \"vehicle\": \"VWPassat\"}, {\"speed\": 88.0, \"time\": 7.31, \"image\": \"VWPassat_88.MP4\", \"vehicle\": \"VWPassat\"}, {\"speed\": 90.0, \"time\": 5.2, \"image\": \"VWPassat_90.MP4\", \"vehicle\": \"VWPassat\"}, {\"speed\": 91.0, \"time\": 5.45, \"image\": \"VWPassat_91.MP4\", \"vehicle\": \"VWPassat\"}, {\"speed\": 94.0, \"time\": 6.0, \"image\": \"VWPassat_94.MP4\", \"vehicle\": \"VWPassat\"}, {\"speed\": 96.0, \"time\": 5.72, \"image\": \"VWPassat_96.MP4\", \"vehicle\": \"VWPassat\"}, {\"speed\": 98.0, \"time\": 5.99, \"image\": \"VWPassat_98.MP4\", \"vehicle\": \"VWPassat\"}]}}, {\"mode\": \"vega-lite\"});\n",
       "</script>"
      ],
      "text/plain": [
       "alt.Chart(...)"
      ]
     },
     "execution_count": 13,
     "metadata": {},
     "output_type": "execute_result"
    }
   ],
   "source": [
    "alt.Chart(df_combined).mark_boxplot().encode(\n",
    "    x=alt.X('vehicle:N', title='Tipo de Vehículo'),\n",
    "    y=alt.Y('speed:Q', title='Velocidad'),\n",
    "    color='vehicle:N',\n",
    "    tooltip=['vehicle', 'speed']\n",
    ").properties(\n",
    "    title='Distribución de Velocidades por Tipo de Vehículo'\n",
    ")"
   ]
  },
  {
   "cell_type": "code",
   "execution_count": 14,
   "metadata": {
    "collapsed": false,
    "jupyter": {
     "outputs_hidden": false
    },
    "pycharm": {
     "name": "#%%\n"
    }
   },
   "outputs": [
    {
     "data": {
      "text/plain": [
       "4.45"
      ]
     },
     "execution_count": 14,
     "metadata": {},
     "output_type": "execute_result"
    }
   ],
   "source": [
    "df_combined['time']. min()"
   ]
  },
  {
   "cell_type": "code",
   "execution_count": 15,
   "metadata": {
    "collapsed": false,
    "jupyter": {
     "outputs_hidden": false
    },
    "pycharm": {
     "name": "#%%\n"
    }
   },
   "outputs": [
    {
     "data": {
      "text/html": [
       "<div>\n",
       "<style scoped>\n",
       "    .dataframe tbody tr th:only-of-type {\n",
       "        vertical-align: middle;\n",
       "    }\n",
       "\n",
       "    .dataframe tbody tr th {\n",
       "        vertical-align: top;\n",
       "    }\n",
       "\n",
       "    .dataframe thead th {\n",
       "        text-align: right;\n",
       "    }\n",
       "</style>\n",
       "<table border=\"1\" class=\"dataframe\">\n",
       "  <thead>\n",
       "    <tr style=\"text-align: right;\">\n",
       "      <th></th>\n",
       "      <th>speed</th>\n",
       "      <th>time</th>\n",
       "      <th>image</th>\n",
       "      <th>vehicle</th>\n",
       "    </tr>\n",
       "  </thead>\n",
       "  <tbody>\n",
       "    <tr>\n",
       "      <th>395</th>\n",
       "      <td>90.0</td>\n",
       "      <td>5.20</td>\n",
       "      <td>VWPassat_90.MP4</td>\n",
       "      <td>VWPassat</td>\n",
       "    </tr>\n",
       "    <tr>\n",
       "      <th>396</th>\n",
       "      <td>91.0</td>\n",
       "      <td>5.45</td>\n",
       "      <td>VWPassat_91.MP4</td>\n",
       "      <td>VWPassat</td>\n",
       "    </tr>\n",
       "    <tr>\n",
       "      <th>397</th>\n",
       "      <td>94.0</td>\n",
       "      <td>6.00</td>\n",
       "      <td>VWPassat_94.MP4</td>\n",
       "      <td>VWPassat</td>\n",
       "    </tr>\n",
       "    <tr>\n",
       "      <th>398</th>\n",
       "      <td>96.0</td>\n",
       "      <td>5.72</td>\n",
       "      <td>VWPassat_96.MP4</td>\n",
       "      <td>VWPassat</td>\n",
       "    </tr>\n",
       "    <tr>\n",
       "      <th>399</th>\n",
       "      <td>98.0</td>\n",
       "      <td>5.99</td>\n",
       "      <td>VWPassat_98.MP4</td>\n",
       "      <td>VWPassat</td>\n",
       "    </tr>\n",
       "  </tbody>\n",
       "</table>\n",
       "</div>"
      ],
      "text/plain": [
       "     speed  time            image   vehicle\n",
       "395   90.0  5.20  VWPassat_90.MP4  VWPassat\n",
       "396   91.0  5.45  VWPassat_91.MP4  VWPassat\n",
       "397   94.0  6.00  VWPassat_94.MP4  VWPassat\n",
       "398   96.0  5.72  VWPassat_96.MP4  VWPassat\n",
       "399   98.0  5.99  VWPassat_98.MP4  VWPassat"
      ]
     },
     "execution_count": 15,
     "metadata": {},
     "output_type": "execute_result"
    }
   ],
   "source": [
    "df_combined.tail()"
   ]
  },
  {
   "cell_type": "code",
   "execution_count": 16,
   "metadata": {
    "collapsed": false,
    "jupyter": {
     "outputs_hidden": false
    },
    "pycharm": {
     "name": "#%%\n"
    }
   },
   "outputs": [
    {
     "name": "stdout",
     "output_type": "stream",
     "text": [
      "1\n",
      "NVIDIA GeForce RTX 4060 Ti\n"
     ]
    }
   ],
   "source": [
    "if torch.cuda.is_available():\n",
    "    print(torch.cuda.device_count())\n",
    "    print(torch.cuda.get_device_name(torch.cuda.current_device()))\n",
    "    device = 'cuda'\n",
    "else:\n",
    "    print(\"CUDA is not available. Using CPU...\")"
   ]
  },
  {
   "cell_type": "code",
   "execution_count": 17,
   "metadata": {
    "collapsed": false,
    "jupyter": {
     "outputs_hidden": false
    },
    "pycharm": {
     "name": "#%%\n"
    }
   },
   "outputs": [],
   "source": [
    "i = 5164\n",
    "text_content = []\n",
    "file_name = 'data/speed.txt'\n",
    "for cars in os.listdir('content'):    \n",
    "    for data in os.listdir('content/'+cars):\n",
    "        if '.MP4' in data and i < 2:  \n",
    "            video = VideoFileClip(f'content/{cars}/{data}')\n",
    "            second2 = df_combined[df_combined['image'] == data]['time'].values[0] + 1.5\n",
    "            second1 = second2 - 4.5\n",
    "            video_cut = video.subclip(second1, second2)\n",
    "            video_cut.write_videofile(f'data/{data}', codec=\"libx264\")\n",
    "\n",
    "            text_content.append(str(df_combined[df_combined['image'] == data]['speed'].values[0]) + '\\t' + str(df_combined[df_combined['image'] == data]['image'].values[0]) + '\\n')\n",
    "        i += 1\n",
    "if i < 2:  \n",
    "    with open(file_name, 'w') as file:\n",
    "        file.writelines(text_content)"
   ]
  },
  {
   "cell_type": "code",
   "execution_count": 18,
   "metadata": {
    "collapsed": false,
    "jupyter": {
     "outputs_hidden": false
    },
    "pycharm": {
     "name": "#%%\n"
    }
   },
   "outputs": [],
   "source": [
    "def reproduce_video(video):\n",
    "    try:\n",
    "        cap = cv2.VideoCapture(video)\n",
    "        if not cap.isOpened():\n",
    "            print(f\"Error: Could not open video {video}\")\n",
    "            return\n",
    "        ret, frame = cap.read()\n",
    "        if not ret:\n",
    "            print(\"Error: Could not read the first frame\")\n",
    "            return\n",
    "        cv2.imshow('Video', frame)\n",
    "        print(\"Press any key to start the video...\")\n",
    "        cv2.waitKey(0)\n",
    "        while cap.isOpened():\n",
    "            ret, frame = cap.read()\n",
    "            if not ret:\n",
    "                break\n",
    "            cv2.imshow('Video', frame)\n",
    "            if cv2.waitKey(25) & 0xFF == ord('q'):\n",
    "                break\n",
    "        cap.release()\n",
    "        cv2.destroyAllWindows()\n",
    "    \n",
    "    except Exception as e:\n",
    "        print(\"Error:\", e)\n",
    "        if cap:\n",
    "            cap.release()\n",
    "        cv2.destroyAllWindows()\n"
   ]
  },
  {
   "cell_type": "code",
   "execution_count": 19,
   "metadata": {
    "collapsed": false,
    "jupyter": {
     "outputs_hidden": false
    },
    "pycharm": {
     "name": "#%%\n"
    }
   },
   "outputs": [],
   "source": [
    "def reproduce_video_from_np(frames_np, fps=30):\n",
    "    delay = int(1000 / fps)\n",
    "    for frame in frames_np:\n",
    "        cv2.imshow('Reproduced Video', frame)\n",
    "        if cv2.waitKey(delay) & 0xFF == ord('q'):\n",
    "            break\n",
    "    cv2.destroyAllWindows()\n"
   ]
  },
  {
   "cell_type": "code",
   "execution_count": 20,
   "metadata": {
    "collapsed": false,
    "jupyter": {
     "outputs_hidden": false
    },
    "pycharm": {
     "name": "#%%\n"
    }
   },
   "outputs": [],
   "source": [
    "#reproduce_video('data/VWPassat_85.MP4')"
   ]
  },
  {
   "cell_type": "code",
   "execution_count": 21,
   "metadata": {
    "collapsed": false,
    "jupyter": {
     "outputs_hidden": false
    },
    "pycharm": {
     "name": "#%%\n"
    }
   },
   "outputs": [],
   "source": [
    "class DataLoaderVideo():\n",
    "    def __init__(self, path, top_len_dataset=160, height=128, width=128, channels=3):\n",
    "        self.path = path\n",
    "        self.height = height\n",
    "        self.width = width\n",
    "        self.channels = channels\n",
    "        self.top_len_dataset = top_len_dataset\n",
    "        self.data_image = None\n",
    "        self.data_speed = None\n",
    "        self.data_real_image = None\n",
    "        self.data_real_speed = None\n",
    "        self.input_size = self.height * self.width * self.channels\n",
    "        self.feature_extractor = ViTFeatureExtractor.from_pretrained('google/vit-base-patch16-224-in21k')\n",
    "\n",
    "\n",
    "    def load_dataset(self):\n",
    "        self.data_image, self.data_speed = self.extract_frames(self.path)\n",
    "\n",
    "    def get_data_split(self):\n",
    "        X_train_val, X_test, y_train_val, y_test = train_test_split(self.data_image, self.data_speed, test_size=0.15, random_state=42)\n",
    "        self.data_real_image = X_test\n",
    "        self.data_real_speed = y_test\n",
    "        return train_test_split(X_train_val, y_train_val, test_size=0.15, random_state=42)\n",
    "\n",
    "    def extract_frames(self, path_to_videos):\n",
    "        video_speed_map = self._load_speed_file(os.path.join(path_to_videos, 'speed.txt'))\n",
    "\n",
    "        # Randomly choose `top_len_dataset` videos\n",
    "        video_files = [file for file in os.listdir(path_to_videos) if file.endswith('.MP4')]\n",
    "        selected_videos = random.sample(video_files, min(self.top_len_dataset, len(video_files)))\n",
    "\n",
    "        all_frames = []\n",
    "        all_speeds = []\n",
    "\n",
    "        # Use a thread pool for parallel video processing\n",
    "        with ThreadPoolExecutor(max_workers=4) as executor:\n",
    "            results = list(executor.map(lambda video: self._process_video(video, video_speed_map, path_to_videos), selected_videos))\n",
    "\n",
    "        for frames, speed in results:\n",
    "            if frames is not None:\n",
    "                all_frames.append(frames)\n",
    "                all_speeds.append(speed)\n",
    "\n",
    "        return np.array(all_frames), np.array(all_speeds)\n",
    "\n",
    "    def _load_speed_file(self, speed_file_path):\n",
    "        video_speed_map = {}\n",
    "        with open(speed_file_path, 'r') as file:\n",
    "            for line in file:\n",
    "                speed, video = line.strip().split('\\t')\n",
    "                video_speed_map[video] = float(speed)\n",
    "        return video_speed_map\n",
    "\n",
    "    def _process_video(self, video_file, video_speed_map, path_to_videos, max_frames_per_video=64):\n",
    "        video_path = os.path.join(path_to_videos, video_file)\n",
    "        cap = cv2.VideoCapture(video_path)\n",
    "\n",
    "        if not cap.isOpened():\n",
    "            return None, None\n",
    "\n",
    "        frames = []\n",
    "        video_speed = video_speed_map.get(video_file, 0)\n",
    "\n",
    "        while len(frames) < max_frames_per_video:\n",
    "            ret, frame = cap.read()\n",
    "            if not ret:\n",
    "                break\n",
    "            frame_resized = cv2.resize(frame, (self.width, self.height))\n",
    "            image = Image.fromarray(frame_resized)\n",
    "            inputs = self.feature_extractor(images=image, return_tensors=\"pt\")\n",
    "            frames.append(inputs['pixel_values'].squeeze(0))\n",
    "\n",
    "        cap.release()\n",
    "        cv2.destroyAllWindows()\n",
    "\n",
    "        if len(frames) > max_frames_per_video:\n",
    "            frames = frames[-max_frames_per_video:]  # Tomar los últimos frames\n",
    "    \n",
    "        return np.array(frames), video_speed"
   ]
  },
  {
   "cell_type": "code",
   "execution_count": 22,
   "metadata": {
    "collapsed": false,
    "jupyter": {
     "outputs_hidden": false
    },
    "pycharm": {
     "name": "#%%\n"
    }
   },
   "outputs": [],
   "source": [
    "data_loader = DataLoaderVideo('data/', top_len_dataset=300, height=160, width=160)\n",
    "data_loader.load_dataset()"
   ]
  },
  {
   "cell_type": "code",
   "execution_count": 23,
   "metadata": {
    "collapsed": false,
    "jupyter": {
     "outputs_hidden": false
    },
    "pycharm": {
     "name": "#%%\n"
    }
   },
   "outputs": [
    {
     "data": {
      "text/plain": [
       "(300, 64, 3, 224, 224)"
      ]
     },
     "execution_count": 23,
     "metadata": {},
     "output_type": "execute_result"
    }
   ],
   "source": [
    "data_loader.data_image.shape"
   ]
  },
  {
   "cell_type": "code",
   "execution_count": 24,
   "metadata": {
    "collapsed": false,
    "jupyter": {
     "outputs_hidden": false
    },
    "pycharm": {
     "name": "#%%\n"
    }
   },
   "outputs": [
    {
     "data": {
      "text/plain": [
       "(300,)"
      ]
     },
     "execution_count": 24,
     "metadata": {},
     "output_type": "execute_result"
    }
   ],
   "source": [
    "data_loader.data_speed.shape"
   ]
  },
  {
   "cell_type": "code",
   "execution_count": 25,
   "metadata": {
    "collapsed": false,
    "jupyter": {
     "outputs_hidden": false
    },
    "pycharm": {
     "name": "#%%\n"
    }
   },
   "outputs": [],
   "source": [
    "#reproduce_video_from_np(data_loader.data_image[-3])"
   ]
  },
  {
   "cell_type": "code",
   "execution_count": 26,
   "metadata": {
    "collapsed": false,
    "jupyter": {
     "outputs_hidden": false
    },
    "pycharm": {
     "name": "#%%\n"
    }
   },
   "outputs": [
    {
     "data": {
      "text/plain": [
       "90.0"
      ]
     },
     "execution_count": 26,
     "metadata": {},
     "output_type": "execute_result"
    }
   ],
   "source": [
    "data_loader.data_speed[1]"
   ]
  },
  {
   "cell_type": "code",
   "execution_count": 27,
   "metadata": {
    "collapsed": false,
    "jupyter": {
     "outputs_hidden": false
    },
    "pycharm": {
     "name": "#%%\n"
    }
   },
   "outputs": [
    {
     "data": {
      "text/plain": [
       "55.0"
      ]
     },
     "execution_count": 27,
     "metadata": {},
     "output_type": "execute_result"
    }
   ],
   "source": [
    "data_loader.data_speed[0]"
   ]
  },
  {
   "cell_type": "code",
   "execution_count": 28,
   "metadata": {
    "collapsed": false,
    "jupyter": {
     "outputs_hidden": false
    },
    "pycharm": {
     "name": "#%%\n"
    }
   },
   "outputs": [],
   "source": [
    "X_train, X_test, y_train, y_test = data_loader.get_data_split()"
   ]
  },
  {
   "cell_type": "code",
   "execution_count": 29,
   "metadata": {
    "collapsed": false,
    "jupyter": {
     "outputs_hidden": false
    },
    "pycharm": {
     "name": "#%%\n"
    }
   },
   "outputs": [
    {
     "data": {
      "text/plain": [
       "(45, 64, 3, 224, 224)"
      ]
     },
     "execution_count": 29,
     "metadata": {},
     "output_type": "execute_result"
    }
   ],
   "source": [
    "data_loader.data_real_image.shape"
   ]
  },
  {
   "cell_type": "code",
   "execution_count": 30,
   "metadata": {
    "collapsed": false,
    "jupyter": {
     "outputs_hidden": false
    },
    "pycharm": {
     "name": "#%%\n"
    }
   },
   "outputs": [
    {
     "data": {
      "text/plain": [
       "(39, 64, 3, 224, 224)"
      ]
     },
     "execution_count": 30,
     "metadata": {},
     "output_type": "execute_result"
    }
   ],
   "source": [
    "X_test.shape"
   ]
  },
  {
   "cell_type": "code",
   "execution_count": 31,
   "metadata": {
    "collapsed": false,
    "jupyter": {
     "outputs_hidden": false
    },
    "pycharm": {
     "name": "#%%\n"
    }
   },
   "outputs": [
    {
     "data": {
      "text/plain": [
       "(216, 64, 3, 224, 224)"
      ]
     },
     "execution_count": 31,
     "metadata": {},
     "output_type": "execute_result"
    }
   ],
   "source": [
    "X_train.shape"
   ]
  },
  {
   "cell_type": "code",
   "execution_count": 32,
   "metadata": {
    "collapsed": false,
    "jupyter": {
     "outputs_hidden": false
    },
    "pycharm": {
     "name": "#%%\n"
    }
   },
   "outputs": [],
   "source": [
    "def save_checkpoint(state, filename='checkpoint.pth'):\n",
    "    torch.save(state, filename)\n",
    "    print(f\"Checkpoint guardado en {filename}\")\n",
    "\n",
    "def load_checkpoint(filename='checkpoint.pth', model=None, optimizer=None):\n",
    "    \"\"\"Cargar el estado del modelo y el optimizador desde un archivo de checkpoint\"\"\"\n",
    "    if os.path.isfile(filename):\n",
    "        checkpoint = torch.load(filename)\n",
    "        model.load_state_dict(checkpoint['model_state_dict'])\n",
    "        optimizer.load_state_dict(checkpoint['optimizer_state_dict'])\n",
    "        epoch = checkpoint['epoch']\n",
    "        best_val_loss = checkpoint['best_val_loss']\n",
    "        print(f\"Checkpoint cargado desde {filename}. Reanudar desde la época {epoch}.\")\n",
    "        return epoch, best_val_loss\n",
    "    else:\n",
    "        print(f\"No se encontró el archivo {filename}. Empezando desde la época 0.\")\n",
    "        return 0, float('inf')  # Iniciar desde la época 0 y con la mejor pérdida infinita"
   ]
  },
  {
   "cell_type": "code",
   "execution_count": 33,
   "metadata": {
    "collapsed": false,
    "jupyter": {
     "outputs_hidden": false
    },
    "pycharm": {
     "name": "#%%\n"
    }
   },
   "outputs": [],
   "source": [
    "class CNN3D(pl.LightningModule):\n",
    "    def __init__(self, learning_rate=0.0001):\n",
    "        super(CNN3D, self).__init__()\n",
    "        self.model = nn.Sequential(\n",
    "            nn.Conv3d(in_channels=3, out_channels=32, kernel_size=(3, 3, 3), padding=1),  # padding=1 for 'same'\n",
    "            nn.BatchNorm3d(32),\n",
    "            nn.LeakyReLU(),\n",
    "            nn.MaxPool3d(kernel_size=(3, 3, 3), padding=1),\n",
    "            \n",
    "            nn.Conv3d(in_channels=32, out_channels=32, kernel_size=(3, 3, 3), padding=1),\n",
    "            nn.BatchNorm3d(32),\n",
    "            nn.LeakyReLU(),\n",
    "            nn.MaxPool3d(kernel_size=(3, 3, 3), padding=1),\n",
    "            \n",
    "            nn.Conv3d(in_channels=32, out_channels=64, kernel_size=(3, 3, 3), padding=1),\n",
    "            nn.BatchNorm3d(64),\n",
    "            nn.LeakyReLU(),\n",
    "            nn.MaxPool3d(kernel_size=(3, 3, 3), padding=1),\n",
    "            \n",
    "            nn.Conv3d(in_channels=64, out_channels=64, kernel_size=(3, 3, 3), padding=1),\n",
    "            nn.BatchNorm3d(64),\n",
    "            nn.LeakyReLU(),\n",
    "            nn.MaxPool3d(kernel_size=(3, 3, 3), padding=1),\n",
    "\n",
    "            nn.Conv3d(in_channels=64, out_channels=64, kernel_size=(3, 3, 3), padding=1),\n",
    "            nn.LeakyReLU(),\n",
    "            nn.MaxPool3d(kernel_size=(3, 3, 3), padding=1),\n",
    "\n",
    "            nn.Flatten()\n",
    "        )\n",
    "        self.fc = nn.Sequential(\n",
    "            nn.Linear(64, 32),\n",
    "            nn.ReLU(),\n",
    "            nn.Linear(32, 1)\n",
    "        )\n",
    "        \n",
    "    def forward(self, video_frames):\n",
    "        x = self.model(video_frames)\n",
    "        #print(f\"Shape before flatten: {x.shape}\")  # Print shape before flattening\n",
    "        x = self.fc(x)\n",
    "        return x\n"
   ]
  },
  {
   "cell_type": "code",
   "execution_count": 34,
   "metadata": {
    "collapsed": false,
    "jupyter": {
     "outputs_hidden": false
    },
    "pycharm": {
     "name": "#%%\n"
    }
   },
   "outputs": [],
   "source": [
    "def train_and_validate_model(model, train_loader, test_loader, input_size, output_size, batch_size=32, num_epochs=10, patience=20, learning_rate=0.01 , model_name=\"best_model.pth\", checkpoint_path=\"checkpoint.pth\"):\n",
    "    #model = LSTMTransformerModel(input_size, hidden_size, num_layers, output_size)\n",
    "    if model == 'CNN3D':\n",
    "        model = CNN3D()\n",
    "    elif model == 'TransformerCNN3D':\n",
    "        model = TransformerCNN3D()\n",
    "    model.to(device)\n",
    "    criterion = nn.MSELoss()\n",
    "    \n",
    "    #optimizer = optim.Adam(model.parameters(), lr=learning_rate)\n",
    "    optimizer = optim.Adam(model.parameters(), lr=learning_rate, weight_decay=1e-4)\n",
    "    #optimizer = optim.Adagrad(model.parameters(), lr=learning_rate)\n",
    "    #optimizer = optim.RMSprop(model.parameters(), lr=learning_rate)\n",
    "    #optimizer = optim.SGD(model.parameters(), lr=learning_rate, momentum=0.9, weight_decay=1e-4, nesterov=True)\n",
    "\n",
    "    scheduler = torch.optim.lr_scheduler.ReduceLROnPlateau(optimizer, mode='min', factor=0.5, patience=patience)\n",
    "    train_losses = []\n",
    "    val_losses = []\n",
    "    best_val_loss = float('inf')\n",
    "    best_model_wts = copy.deepcopy(model.state_dict()) \n",
    "    epochs_no_improve = 0\n",
    "\n",
    "    start_epoch, best_val_loss = load_checkpoint(checkpoint_path, model, optimizer)\n",
    "\n",
    "\n",
    "    for epoch in range(num_epochs):\n",
    "        model.train()\n",
    "        train_loss = 0\n",
    "\n",
    "        # Barra de progreso para el entrenamiento\n",
    "        with tqdm(total=len(train_loader), desc=f'Epoch {epoch+1}/{num_epochs}', unit='batch') as pbar:\n",
    "            for X_batch, y_batch in train_loader:\n",
    "                X_batch, y_batch = X_batch.to(device), y_batch.to(device)\n",
    "                optimizer.zero_grad()\n",
    "                train_output = model(X_batch)\n",
    "                loss = criterion(train_output, y_batch)\n",
    "                loss.backward()\n",
    "                optimizer.step()\n",
    "                train_loss += loss.item() * X_batch.size(0)\n",
    "                pbar.set_postfix({'Train Loss': train_loss / len(train_loader.dataset)})  # Actualiza la barra con el loss actual\n",
    "                pbar.update(1)\n",
    "        \n",
    "        train_loss /= len(train_loader.dataset)\n",
    "\n",
    "        model.eval()\n",
    "        val_loss = 0\n",
    "        with torch.no_grad():\n",
    "            # Barra de progreso para la validación\n",
    "            with tqdm(total=len(test_loader), desc=f'Validation {epoch+1}/{num_epochs}', unit='batch') as pbar_val:\n",
    "                for X_batch, y_batch in test_loader:\n",
    "                    X_batch, y_batch = X_batch.to(device), y_batch.to(device)\n",
    "                    test_output = model(X_batch)\n",
    "                    loss = criterion(test_output, y_batch)\n",
    "                    val_loss += loss.item() * X_batch.size(0)\n",
    "                    pbar_val.update(1)\n",
    "        \n",
    "        val_loss /= len(test_loader.dataset)\n",
    "\n",
    "        train_losses.append(train_loss)\n",
    "        val_losses.append(val_loss)\n",
    "\n",
    "        scheduler.step(val_loss)\n",
    "        \n",
    "        print(f'Epoch [{epoch+1}/{num_epochs}], Training Loss: {train_loss:.4f}, Validation Loss: {val_loss:.4f}')\n",
    "\n",
    "        if val_loss < best_val_loss:\n",
    "            best_val_loss = val_loss\n",
    "            best_model_wts = copy.deepcopy(model.state_dict())\n",
    "            #save_checkpoint({'epoch': epoch + 1,'model_state_dict': model.state_dict(),'optimizer_state_dict': optimizer.state_dict(),'best_val_loss': best_val_loss}, filename=checkpoint_path)\n",
    "            epochs_no_improve = 0\n",
    "        else:\n",
    "            epochs_no_improve += 1\n",
    "\n",
    "        if epochs_no_improve >= patience:\n",
    "            print(\"Early stopping triggered.\")\n",
    "            break\n",
    "\n",
    "    \n",
    "    model.load_state_dict(best_model_wts)\n",
    "\n",
    "    # Gráfica de pérdida de entrenamiento y validación\n",
    "    plt.figure(figsize=(10, 6))\n",
    "    plt.plot(train_losses, label='Training Loss')\n",
    "    plt.plot(val_losses, label='Validation Loss')\n",
    "    plt.xlabel('Epochs')\n",
    "    plt.ylabel('Loss')\n",
    "    plt.title(f'Training and Validation Loss over Epochs learning rate: {learning_rate}')\n",
    "    plt.legend()\n",
    "    plt.grid(True)\n",
    "    plt.show()\n",
    "\n",
    "    return model, best_val_loss\n"
   ]
  },
  {
   "cell_type": "code",
   "execution_count": null,
   "outputs": [],
   "source": [
    "output_size = 1 \n",
    "batch_size = 3\n",
    "num_epochs = 120"
   ],
   "metadata": {
    "collapsed": false,
    "pycharm": {
     "name": "#%%\n"
    }
   }
  },
  {
   "cell_type": "code",
   "execution_count": null,
   "outputs": [],
   "source": [
    "#(1, 64, 160, 160, 3)\n",
    "#(0, 4, 3, 1, 2)\n",
    "#(0, 2, 1, 3, 4)\n",
    "X_train_tensor = torch.tensor(X_train, dtype=torch.float32).permute(0, 2, 1, 3, 4)\n",
    "X_test_tensor = torch.tensor(X_test, dtype=torch.float32).permute(0, 2, 1, 3, 4)\n",
    "y_train_tensor = torch.tensor(y_train, dtype=torch.float32).unsqueeze(1)\n",
    "y_test_tensor = torch.tensor(y_test, dtype=torch.float32).unsqueeze(1)\n",
    "\n",
    "train_dataset = TensorDataset(X_train_tensor, y_train_tensor)\n",
    "test_dataset = TensorDataset(X_test_tensor, y_test_tensor)\n",
    "\n",
    "train_loader = DataLoader(train_dataset, batch_size, shuffle=True)\n",
    "test_loader = DataLoader(test_dataset, batch_size, shuffle=False)"
   ],
   "metadata": {
    "collapsed": false,
    "pycharm": {
     "name": "#%%\n"
    }
   }
  },
  {
   "cell_type": "code",
   "execution_count": null,
   "outputs": [],
   "source": [
    "for X_batch, y_batch in train_loader:\n",
    "    print(X_batch.shape, y_batch.shape)\n",
    "    model = CNN3D()\n",
    "    #model = TransformerCNN3D()\n",
    "    model.to(device)\n",
    "    output  = model(X_batch.to(device))\n",
    "    break"
   ],
   "metadata": {
    "collapsed": false,
    "pycharm": {
     "name": "#%%\n"
    }
   }
  },
  {
   "cell_type": "code",
   "execution_count": null,
   "outputs": [],
   "source": [
    "summary(model, (3, 64, 224, 224))"
   ],
   "metadata": {
    "collapsed": false,
    "pycharm": {
     "name": "#%%\n"
    }
   }
  },
  {
   "cell_type": "code",
   "execution_count": null,
   "outputs": [],
   "source": [
    "params = {name: param for name, param in model.named_parameters()}\n",
    "model_graph = make_dot(output, params=params)\n",
    "model_graph.format = \"png\"  # Set output format\n",
    "model_graph.render(\"model_visualization\")"
   ],
   "metadata": {
    "collapsed": false,
    "pycharm": {
     "name": "#%%\n"
    }
   }
  },
  {
   "cell_type": "code",
   "execution_count": null,
   "outputs": [],
   "source": [
    "learning_rate = [0.00001]\n",
    "best_model = None\n",
    "best_val_loss = float('inf')\n",
    "for lr in learning_rate:\n",
    "    model_name = f'model_lr{lr}.pth'\n",
    "    checkpoint_path = f'model_lr{lr}.pth'\n",
    "\n",
    "    model, val_loss = train_and_validate_model('CNN3D', train_loader, test_loader, data_loader.input_size,output_size, batch_size,num_epochs, learning_rate=lr, model_name=model_name, checkpoint_path=checkpoint_path)\n",
    "    if val_loss < best_val_loss:\n",
    "        best_val_loss = val_loss\n",
    "        best_model = copy.deepcopy(model)\n",
    "    del model\n",
    "    optimizer = None\n",
    "    torch.cuda.empty_cache()\n",
    "    gc.collect()\n",
    "torch.save(best_model.state_dict(), 'best_model.pth')"
   ],
   "metadata": {
    "collapsed": false,
    "pycharm": {
     "name": "#%%\n"
    }
   }
  },
  {
   "cell_type": "code",
   "execution_count": null,
   "outputs": [],
   "source": [
    "torch.cuda.empty_cache()\n",
    "gc.collect()"
   ],
   "metadata": {
    "collapsed": false,
    "pycharm": {
     "name": "#%%\n"
    }
   }
  },
  {
   "cell_type": "code",
   "execution_count": null,
   "outputs": [],
   "source": [
    "data_loader.data_real_image[0].shape"
   ],
   "metadata": {
    "collapsed": false,
    "pycharm": {
     "name": "#%%\n"
    }
   }
  },
  {
   "cell_type": "code",
   "execution_count": null,
   "outputs": [],
   "source": [
    "# La permutación correcta para reorganizar las dimensiones\n",
    "eval_data = torch.tensor(data_loader.data_real_image[0:8], dtype=torch.float32).permute(0, 2, 1, 3, 4).to(device)\n",
    "with torch.no_grad():\n",
    "    test_output = best_model(eval_data)\n",
    "torch.round(test_output).int()"
   ],
   "metadata": {
    "collapsed": false,
    "pycharm": {
     "name": "#%%\n"
    }
   }
  },
  {
   "cell_type": "code",
   "execution_count": null,
   "outputs": [],
   "source": [
    "data_loader.data_real_speed[0:8]"
   ],
   "metadata": {
    "collapsed": false,
    "pycharm": {
     "name": "#%%\n"
    }
   }
  },
  {
   "cell_type": "code",
   "execution_count": null,
   "outputs": [],
   "source": [
    "eval_data = torch.tensor(data_loader.data_real_image[-1], dtype=torch.float32).permute(1, 0, 2, 3).unsqueeze(0).to(device)\n",
    "with torch.no_grad():\n",
    "    test_output = best_model(eval_data)\n",
    "torch.round(test_output).int()"
   ],
   "metadata": {
    "collapsed": false,
    "pycharm": {
     "name": "#%%\n"
    }
   }
  },
  {
   "cell_type": "code",
   "execution_count": null,
   "outputs": [],
   "source": [
    "data_loader.data_real_speed[-1]"
   ],
   "metadata": {
    "collapsed": false,
    "pycharm": {
     "name": "#%%\n"
    }
   }
  },
  {
   "cell_type": "code",
   "execution_count": null,
   "outputs": [],
   "source": [
    "all_real_speeds = []\n",
    "all_predicted_speeds = []\n",
    "for i in range(0, len(data_loader.data_real_image), 8):\n",
    "    eval_data = torch.tensor(data_loader.data_real_image[i:i+8], dtype=torch.float32).permute(0, 2, 1, 3, 4).to(device)\n",
    "    with torch.no_grad():\n",
    "        test_output = best_model(eval_data)\n",
    "    predicted_speed = torch.round(test_output).int().cpu().numpy()\n",
    "    real_speed = data_loader.data_real_speed[i:i+8]\n",
    "    all_predicted_speeds.extend(predicted_speed)\n",
    "    all_real_speeds.extend(real_speed)\n",
    "all_real_speeds = torch.tensor(all_real_speeds)\n",
    "all_predicted_speeds = torch.tensor(all_predicted_speeds).squeeze()\n",
    "comparison = torch.stack([all_real_speeds, all_predicted_speeds], dim=1)\n",
    "print(\"Real vs Generado (Velocidades):\")\n",
    "print(comparison)"
   ],
   "metadata": {
    "collapsed": false,
    "pycharm": {
     "name": "#%%\n"
    }
   }
  },
  {
   "cell_type": "code",
   "execution_count": null,
   "outputs": [],
   "source": [
    "plt.figure(figsize=(10, 6))\n",
    "plt.plot(all_real_speeds, label='Actual Speeds', marker='o')\n",
    "plt.plot(all_predicted_speeds, label='Predicted Speeds', marker='x')\n",
    "\n",
    "plt.title('Comparison between Actual and Predicted Speeds')\n",
    "plt.xlabel('Sample Index')\n",
    "plt.ylabel('Speed')\n",
    "plt.legend()\n",
    "plt.grid(True)\n",
    "\n",
    "plt.show()"
   ],
   "metadata": {
    "collapsed": false,
    "pycharm": {
     "name": "#%%\n"
    }
   }
  },
  {
   "cell_type": "code",
   "execution_count": null,
   "metadata": {
    "collapsed": false,
    "jupyter": {
     "outputs_hidden": false
    },
    "pycharm": {
     "name": "#%%\n"
    }
   },
   "outputs": [],
   "source": [
    "error = all_real_speeds - all_predicted_speeds\n",
    "mae = mean_absolute_error(all_real_speeds, all_predicted_speeds)\n",
    "print(f'MAE: {mae}')\n",
    "rmse = np.sqrt(mean_squared_error(all_real_speeds, all_predicted_speeds))\n",
    "print(f'RMSE: {rmse}')\n",
    "r2 = r2_score(all_real_speeds, all_predicted_speeds)\n",
    "print(f'R^2: {r2}')\n",
    "plt.scatter(all_real_speeds, all_predicted_speeds)\n",
    "plt.plot([min(all_real_speeds), max(all_real_speeds)], [min(all_real_speeds), max(all_real_speeds)], color='red')  # Line y=x\n",
    "plt.xlabel('Real Speeds')\n",
    "plt.ylabel('Predicted Speeds')\n",
    "plt.title('Real vs Predicted Speeds')\n",
    "plt.grid(True)\n",
    "plt.show()\n",
    "residuals = all_real_speeds - all_predicted_speeds\n",
    "plt.scatter(all_real_speeds, residuals)\n",
    "plt.axhline(0, color='red', linestyle='--')\n",
    "plt.xlabel('Real Speeds')\n",
    "plt.ylabel('Residuals (Real - Predicted)')\n",
    "plt.title('Residual Plot')\n",
    "plt.grid(True)\n",
    "plt.show()"
   ]
  },
  {
   "cell_type": "code",
   "execution_count": null,
   "metadata": {
    "collapsed": false,
    "jupyter": {
     "outputs_hidden": false
    },
    "pycharm": {
     "name": "#%%\n"
    }
   },
   "outputs": [],
   "source": [
    "#reproduce_video_from_np(data_loader.data_real_image[27])"
   ]
  },
  {
   "cell_type": "code",
   "execution_count": null,
   "metadata": {
    "collapsed": false,
    "jupyter": {
     "outputs_hidden": false
    },
    "pycharm": {
     "name": "#%%\n"
    }
   },
   "outputs": [],
   "source": [
    "data_loader.data_real_speed[27]"
   ]
  },
  {
   "cell_type": "code",
   "execution_count": null,
   "metadata": {
    "pycharm": {
     "name": "#%%\n"
    }
   },
   "outputs": [],
   "source": [
    "data_loader.data_real_image[27].shape"
   ]
  },
  {
   "cell_type": "code",
   "execution_count": null,
   "metadata": {
    "collapsed": false,
    "jupyter": {
     "outputs_hidden": false
    },
    "pycharm": {
     "name": "#%%\n"
    }
   },
   "outputs": [],
   "source": [
    "eval_data = torch.tensor(data_loader.data_real_image[27], dtype=torch.float32).permute(1, 0, 2, 3).unsqueeze(0).to(device)\n",
    "with torch.no_grad():\n",
    "    test_output = best_model(eval_data)\n",
    "torch.round(test_output).int()"
   ]
  },
  {
   "cell_type": "code",
   "execution_count": null,
   "metadata": {
    "collapsed": false,
    "jupyter": {
     "outputs_hidden": false
    },
    "pycharm": {
     "name": "#%%\n"
    }
   },
   "outputs": [],
   "source": [
    "#reproduce_video_from_np(data_loader.data_real_image[14])"
   ]
  },
  {
   "cell_type": "code",
   "execution_count": null,
   "metadata": {
    "collapsed": false,
    "jupyter": {
     "outputs_hidden": false
    },
    "pycharm": {
     "name": "#%%\n"
    }
   },
   "outputs": [],
   "source": [
    "data_loader.data_real_speed[14]"
   ]
  },
  {
   "cell_type": "code",
   "execution_count": null,
   "metadata": {
    "collapsed": false,
    "jupyter": {
     "outputs_hidden": false
    },
    "pycharm": {
     "name": "#%%\n"
    }
   },
   "outputs": [],
   "source": [
    "eval_data = torch.tensor(data_loader.data_real_image[2], dtype=torch.float32).permute(1, 0, 2, 3).unsqueeze(0).to(device)\n",
    "with torch.no_grad():\n",
    "    test_output = best_model(eval_data)\n",
    "torch.round(test_output).int()"
   ]
  },
  {
   "cell_type": "code",
   "execution_count": null,
   "metadata": {
    "collapsed": false,
    "jupyter": {
     "outputs_hidden": false
    },
    "pycharm": {
     "name": "#%%\n"
    }
   },
   "outputs": [],
   "source": [
    "#reproduce_video_from_np(data_loader.data_real_image[2])"
   ]
  },
  {
   "cell_type": "code",
   "execution_count": null,
   "metadata": {
    "collapsed": false,
    "jupyter": {
     "outputs_hidden": false
    },
    "pycharm": {
     "name": "#%%\n"
    }
   },
   "outputs": [],
   "source": [
    "eval_data = torch.tensor(data_loader.data_real_image[2], dtype=torch.float32).permute(1, 0, 2, 3).unsqueeze(0).to(device)\n",
    "with torch.no_grad():\n",
    "    test_output = best_model(eval_data)\n",
    "torch.round(test_output).int()"
   ]
  },
  {
   "cell_type": "code",
   "execution_count": null,
   "metadata": {
    "collapsed": false,
    "jupyter": {
     "outputs_hidden": false
    },
    "pycharm": {
     "name": "#%%\n"
    }
   },
   "outputs": [],
   "source": [
    "data_loader.data_real_speed[2]"
   ]
  },
  {
   "cell_type": "code",
   "execution_count": null,
   "metadata": {
    "collapsed": false,
    "jupyter": {
     "outputs_hidden": false
    },
    "pycharm": {
     "name": "#%%\n"
    }
   },
   "outputs": [],
   "source": [
    "#reproduce_video_from_np(data_loader.data_real_image[4])"
   ]
  },
  {
   "cell_type": "code",
   "execution_count": null,
   "metadata": {
    "collapsed": false,
    "jupyter": {
     "outputs_hidden": false
    },
    "pycharm": {
     "name": "#%%\n"
    }
   },
   "outputs": [],
   "source": [
    "data_loader.data_real_speed[4]"
   ]
  },
  {
   "cell_type": "code",
   "execution_count": null,
   "metadata": {
    "collapsed": false,
    "jupyter": {
     "outputs_hidden": false
    },
    "pycharm": {
     "name": "#%%\n"
    }
   },
   "outputs": [],
   "source": [
    "eval_data = torch.tensor(data_loader.data_real_image[4], dtype=torch.float32).permute(1, 0, 2, 3).unsqueeze(0).to(device)\n",
    "with torch.no_grad():\n",
    "    test_output = best_model(eval_data)\n",
    "torch.round(test_output).int()"
   ]
  },
  {
   "cell_type": "code",
   "execution_count": null,
   "metadata": {
    "pycharm": {
     "name": "#%%\n"
    }
   },
   "outputs": [],
   "source": [
    "eval_data = torch.tensor(data_loader.data_real_image[4], dtype=torch.float32).permute(1, 0, 2, 3).unsqueeze(0).to(device)\n",
    "with torch.no_grad():\n",
    "    test_output = best_model(eval_data)\n",
    "torch.round(test_output).int()"
   ]
  }
 ],
 "metadata": {
  "kernelspec": {
   "display_name": "Python 3 (ipykernel)",
   "language": "python",
   "name": "python3"
  },
  "language_info": {
   "codemirror_mode": {
    "name": "ipython",
    "version": 3
   },
   "file_extension": ".py",
   "mimetype": "text/x-python",
   "name": "python",
   "nbconvert_exporter": "python",
   "pygments_lexer": "ipython3",
   "version": "3.10.13"
  }
 },
 "nbformat": 4,
 "nbformat_minor": 4
}